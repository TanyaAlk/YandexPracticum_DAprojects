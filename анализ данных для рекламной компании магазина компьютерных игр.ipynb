{
 "cells": [
  {
   "cell_type": "markdown",
   "metadata": {},
   "source": [
    "# Анализ данных для рекламной компании магазина компьютерных игр\n",
    "\n",
    "**ОПИСАНИЕ ПРОЕКТА**\n",
    "\n",
    "Интернет-магазин продаёт компьютерные игры по всему миру. Нам доступны данные о продажах игр, оценки пользователей и экспертов, жанры и платформы (например, Xbox или PlayStation). Необходимо выявить определяющие успешность игры закономерности. Это позволит сделать ставку на потенциально популярный продукт и спланировать рекламные кампании.\n",
    "\n",
    "Перед нами данные до 2016 года.\n",
    "\n",
    "*NB* Данные за 2016 год могут быть неполными.\n",
    "\n",
    "\n",
    "**ОПИСАНИЕ ДАННЫХ**\n",
    "\n",
    "- Name — название игры\n",
    "- Platform — платформа\n",
    "- Year_of_Release — год выпуска\n",
    "- Genre — жанр игры\n",
    "- NA_sales — продажи в Северной Америке (миллионы проданных копий)\n",
    "- EU_sales — продажи в Европе (миллионы проданных копий)\n",
    "- JP_sales — продажи в Японии (миллионы проданных копий)\n",
    "- Other_sales — продажи в других странах (миллионы проданных копий)\n",
    "- Critic_Score — оценка критиков (максимум 100)\n",
    "- User_Score — оценка пользователей (максимум 10)\n",
    "- Rating — рейтинг от организации ESRB (англ. Entertainment Software Rating Board). Эта ассоциация определяет рейтинг компьютерных игр и присваивает им подходящую возрастную категорию:\n",
    "\n",
    "    1. **E** («Everyone») — «Для всех»\n",
    "    2. **M** («Mature») — «Для взрослых 17+»\n",
    "    3. **T** («Teen») — «Подросткам»\n",
    "    4. **E10+** («Everyone 10 and older») — «Для всех от 10 лет и старше»\n",
    "    5. **K-A** (\"Kids to Adults\") — вариация категории «Для всех»\n",
    "    6. **AO** («Adults Only 18+») — «Только для взрослых»\n",
    "    7. **EC** («Early childhood») — «Для детей младшего возраста»\n",
    "    8. **RP** («Rating Pending») — «Рейтинг ожидается»\n",
    "\n",
    "**ОГЛАВЛЕНИЕ ПРОЕКТА**\n",
    "- Откроем файл с данными и изучим общую информацию\n",
    "- Подготовим данные\n",
    "- Проведем исследовательский анализ данных\n",
    "- Составим портрет пользователя каждого региона\n",
    "- Проверим гипотезы\n",
    "- Общий вывод\n",
    "\n",
    "\n",
    "\n"
   ]
  },
  {
   "cell_type": "markdown",
   "metadata": {},
   "source": [
    "## Откроем файл с данными и изучим общую информацию"
   ]
  },
  {
   "cell_type": "code",
   "execution_count": 1,
   "metadata": {},
   "outputs": [],
   "source": [
    "# импортируем необходимые библиотеки\n",
    "import pandas as pd\n",
    "import matplotlib.pyplot as plt\n",
    "from scipy import stats as st\n",
    "import seaborn as sns"
   ]
  },
  {
   "cell_type": "code",
   "execution_count": 2,
   "metadata": {},
   "outputs": [
    {
     "data": {
      "text/html": [
       "<div>\n",
       "<style scoped>\n",
       "    .dataframe tbody tr th:only-of-type {\n",
       "        vertical-align: middle;\n",
       "    }\n",
       "\n",
       "    .dataframe tbody tr th {\n",
       "        vertical-align: top;\n",
       "    }\n",
       "\n",
       "    .dataframe thead th {\n",
       "        text-align: right;\n",
       "    }\n",
       "</style>\n",
       "<table border=\"1\" class=\"dataframe\">\n",
       "  <thead>\n",
       "    <tr style=\"text-align: right;\">\n",
       "      <th></th>\n",
       "      <th>Name</th>\n",
       "      <th>Platform</th>\n",
       "      <th>Year_of_Release</th>\n",
       "      <th>Genre</th>\n",
       "      <th>NA_sales</th>\n",
       "      <th>EU_sales</th>\n",
       "      <th>JP_sales</th>\n",
       "      <th>Other_sales</th>\n",
       "      <th>Critic_Score</th>\n",
       "      <th>User_Score</th>\n",
       "      <th>Rating</th>\n",
       "    </tr>\n",
       "  </thead>\n",
       "  <tbody>\n",
       "    <tr>\n",
       "      <th>0</th>\n",
       "      <td>Wii Sports</td>\n",
       "      <td>Wii</td>\n",
       "      <td>2006.0</td>\n",
       "      <td>Sports</td>\n",
       "      <td>41.36</td>\n",
       "      <td>28.96</td>\n",
       "      <td>3.77</td>\n",
       "      <td>8.45</td>\n",
       "      <td>76.0</td>\n",
       "      <td>8</td>\n",
       "      <td>E</td>\n",
       "    </tr>\n",
       "    <tr>\n",
       "      <th>1</th>\n",
       "      <td>Super Mario Bros.</td>\n",
       "      <td>NES</td>\n",
       "      <td>1985.0</td>\n",
       "      <td>Platform</td>\n",
       "      <td>29.08</td>\n",
       "      <td>3.58</td>\n",
       "      <td>6.81</td>\n",
       "      <td>0.77</td>\n",
       "      <td>NaN</td>\n",
       "      <td>NaN</td>\n",
       "      <td>NaN</td>\n",
       "    </tr>\n",
       "    <tr>\n",
       "      <th>2</th>\n",
       "      <td>Mario Kart Wii</td>\n",
       "      <td>Wii</td>\n",
       "      <td>2008.0</td>\n",
       "      <td>Racing</td>\n",
       "      <td>15.68</td>\n",
       "      <td>12.76</td>\n",
       "      <td>3.79</td>\n",
       "      <td>3.29</td>\n",
       "      <td>82.0</td>\n",
       "      <td>8.3</td>\n",
       "      <td>E</td>\n",
       "    </tr>\n",
       "    <tr>\n",
       "      <th>3</th>\n",
       "      <td>Wii Sports Resort</td>\n",
       "      <td>Wii</td>\n",
       "      <td>2009.0</td>\n",
       "      <td>Sports</td>\n",
       "      <td>15.61</td>\n",
       "      <td>10.93</td>\n",
       "      <td>3.28</td>\n",
       "      <td>2.95</td>\n",
       "      <td>80.0</td>\n",
       "      <td>8</td>\n",
       "      <td>E</td>\n",
       "    </tr>\n",
       "    <tr>\n",
       "      <th>4</th>\n",
       "      <td>Pokemon Red/Pokemon Blue</td>\n",
       "      <td>GB</td>\n",
       "      <td>1996.0</td>\n",
       "      <td>Role-Playing</td>\n",
       "      <td>11.27</td>\n",
       "      <td>8.89</td>\n",
       "      <td>10.22</td>\n",
       "      <td>1.00</td>\n",
       "      <td>NaN</td>\n",
       "      <td>NaN</td>\n",
       "      <td>NaN</td>\n",
       "    </tr>\n",
       "    <tr>\n",
       "      <th>5</th>\n",
       "      <td>Tetris</td>\n",
       "      <td>GB</td>\n",
       "      <td>1989.0</td>\n",
       "      <td>Puzzle</td>\n",
       "      <td>23.20</td>\n",
       "      <td>2.26</td>\n",
       "      <td>4.22</td>\n",
       "      <td>0.58</td>\n",
       "      <td>NaN</td>\n",
       "      <td>NaN</td>\n",
       "      <td>NaN</td>\n",
       "    </tr>\n",
       "    <tr>\n",
       "      <th>6</th>\n",
       "      <td>New Super Mario Bros.</td>\n",
       "      <td>DS</td>\n",
       "      <td>2006.0</td>\n",
       "      <td>Platform</td>\n",
       "      <td>11.28</td>\n",
       "      <td>9.14</td>\n",
       "      <td>6.50</td>\n",
       "      <td>2.88</td>\n",
       "      <td>89.0</td>\n",
       "      <td>8.5</td>\n",
       "      <td>E</td>\n",
       "    </tr>\n",
       "    <tr>\n",
       "      <th>7</th>\n",
       "      <td>Wii Play</td>\n",
       "      <td>Wii</td>\n",
       "      <td>2006.0</td>\n",
       "      <td>Misc</td>\n",
       "      <td>13.96</td>\n",
       "      <td>9.18</td>\n",
       "      <td>2.93</td>\n",
       "      <td>2.84</td>\n",
       "      <td>58.0</td>\n",
       "      <td>6.6</td>\n",
       "      <td>E</td>\n",
       "    </tr>\n",
       "    <tr>\n",
       "      <th>8</th>\n",
       "      <td>New Super Mario Bros. Wii</td>\n",
       "      <td>Wii</td>\n",
       "      <td>2009.0</td>\n",
       "      <td>Platform</td>\n",
       "      <td>14.44</td>\n",
       "      <td>6.94</td>\n",
       "      <td>4.70</td>\n",
       "      <td>2.24</td>\n",
       "      <td>87.0</td>\n",
       "      <td>8.4</td>\n",
       "      <td>E</td>\n",
       "    </tr>\n",
       "    <tr>\n",
       "      <th>9</th>\n",
       "      <td>Duck Hunt</td>\n",
       "      <td>NES</td>\n",
       "      <td>1984.0</td>\n",
       "      <td>Shooter</td>\n",
       "      <td>26.93</td>\n",
       "      <td>0.63</td>\n",
       "      <td>0.28</td>\n",
       "      <td>0.47</td>\n",
       "      <td>NaN</td>\n",
       "      <td>NaN</td>\n",
       "      <td>NaN</td>\n",
       "    </tr>\n",
       "  </tbody>\n",
       "</table>\n",
       "</div>"
      ],
      "text/plain": [
       "                        Name Platform  Year_of_Release         Genre  \\\n",
       "0                 Wii Sports      Wii           2006.0        Sports   \n",
       "1          Super Mario Bros.      NES           1985.0      Platform   \n",
       "2             Mario Kart Wii      Wii           2008.0        Racing   \n",
       "3          Wii Sports Resort      Wii           2009.0        Sports   \n",
       "4   Pokemon Red/Pokemon Blue       GB           1996.0  Role-Playing   \n",
       "5                     Tetris       GB           1989.0        Puzzle   \n",
       "6      New Super Mario Bros.       DS           2006.0      Platform   \n",
       "7                   Wii Play      Wii           2006.0          Misc   \n",
       "8  New Super Mario Bros. Wii      Wii           2009.0      Platform   \n",
       "9                  Duck Hunt      NES           1984.0       Shooter   \n",
       "\n",
       "   NA_sales  EU_sales  JP_sales  Other_sales  Critic_Score User_Score Rating  \n",
       "0     41.36     28.96      3.77         8.45          76.0          8      E  \n",
       "1     29.08      3.58      6.81         0.77           NaN        NaN    NaN  \n",
       "2     15.68     12.76      3.79         3.29          82.0        8.3      E  \n",
       "3     15.61     10.93      3.28         2.95          80.0          8      E  \n",
       "4     11.27      8.89     10.22         1.00           NaN        NaN    NaN  \n",
       "5     23.20      2.26      4.22         0.58           NaN        NaN    NaN  \n",
       "6     11.28      9.14      6.50         2.88          89.0        8.5      E  \n",
       "7     13.96      9.18      2.93         2.84          58.0        6.6      E  \n",
       "8     14.44      6.94      4.70         2.24          87.0        8.4      E  \n",
       "9     26.93      0.63      0.28         0.47           NaN        NaN    NaN  "
      ]
     },
     "execution_count": 2,
     "metadata": {},
     "output_type": "execute_result"
    }
   ],
   "source": [
    "# откроем файл и ознакомимся с данными\n",
    "games = pd.read_csv('/datasets/games.csv' )\n",
    "games.head(10)"
   ]
  },
  {
   "cell_type": "code",
   "execution_count": 3,
   "metadata": {},
   "outputs": [
    {
     "name": "stdout",
     "output_type": "stream",
     "text": [
      "<class 'pandas.core.frame.DataFrame'>\n",
      "RangeIndex: 16715 entries, 0 to 16714\n",
      "Data columns (total 11 columns):\n",
      " #   Column           Non-Null Count  Dtype  \n",
      "---  ------           --------------  -----  \n",
      " 0   Name             16713 non-null  object \n",
      " 1   Platform         16715 non-null  object \n",
      " 2   Year_of_Release  16446 non-null  float64\n",
      " 3   Genre            16713 non-null  object \n",
      " 4   NA_sales         16715 non-null  float64\n",
      " 5   EU_sales         16715 non-null  float64\n",
      " 6   JP_sales         16715 non-null  float64\n",
      " 7   Other_sales      16715 non-null  float64\n",
      " 8   Critic_Score     8137 non-null   float64\n",
      " 9   User_Score       10014 non-null  object \n",
      " 10  Rating           9949 non-null   object \n",
      "dtypes: float64(6), object(5)\n",
      "memory usage: 1.4+ MB\n"
     ]
    }
   ],
   "source": [
    "games.info()"
   ]
  },
  {
   "cell_type": "code",
   "execution_count": 4,
   "metadata": {},
   "outputs": [
    {
     "data": {
      "text/plain": [
       "array(['E', nan, 'M', 'T', 'E10+', 'K-A', 'AO', 'EC', 'RP'], dtype=object)"
      ]
     },
     "execution_count": 4,
     "metadata": {},
     "output_type": "execute_result"
    }
   ],
   "source": [
    "games['Rating'].unique()"
   ]
  },
  {
   "cell_type": "markdown",
   "metadata": {},
   "source": [
    "Итак, мы импортировали необходимые для работы библиотеки, ознакомились с данными и выявили некоторые неточности, а именно:\n",
    "\n",
    "- в столбцах Name, Year_of_Release, Critic_Score, User_Score и Rating имеются пропуски (всего строк 16715);\n",
    "- разный регистр в наименовании столбцов;\n",
    "- неверный формат данных в столбце Year_of_Release (float64);\n",
    "- неверный формат данных в столбце User_Score (object);\n",
    "- категории рейтинга E и K-A являются по сути одной категорией Е."
   ]
  },
  {
   "cell_type": "markdown",
   "metadata": {},
   "source": [
    "## Подготовим данные"
   ]
  },
  {
   "cell_type": "code",
   "execution_count": 5,
   "metadata": {},
   "outputs": [],
   "source": [
    "# приведем названия столбцов к нижнему регистру\n",
    "games.columns = map(str.lower, games.columns)"
   ]
  },
  {
   "cell_type": "code",
   "execution_count": 6,
   "metadata": {},
   "outputs": [],
   "source": [
    "# заменим рейтинг К-А на Е\n",
    "games['rating'] = games['rating'].replace('K-A','E')"
   ]
  },
  {
   "cell_type": "markdown",
   "metadata": {},
   "source": [
    "В столбцах year_of_release и user_score заменим тип данных, заменив пропущенные значение на -1. Год выпуска - это целое число, поэтому эти значения будут указаны в формате int64, а оценка пользователей - невещественное число, приведем эти значения к формату float64.\n"
   ]
  },
  {
   "cell_type": "code",
   "execution_count": 7,
   "metadata": {},
   "outputs": [],
   "source": [
    "games['year_of_release'] = games['year_of_release'].fillna(-1).astype(int)"
   ]
  },
  {
   "cell_type": "code",
   "execution_count": 8,
   "metadata": {},
   "outputs": [],
   "source": [
    "games['user_score'] = games['user_score'].fillna(-1)"
   ]
  },
  {
   "cell_type": "markdown",
   "metadata": {},
   "source": [
    "В столбце user_score имеются значения tbd (англ. to be determined - будет определено позднее ) то есть оценка пользователей еще не определена. Заменим эти значения на -1, чтобы изменить тип данных столбца, и будем учитывать эти значения при дальнейших рассчетах."
   ]
  },
  {
   "cell_type": "code",
   "execution_count": 9,
   "metadata": {},
   "outputs": [],
   "source": [
    "games['user_score'] = games['user_score'].replace('tbd', -1)\n",
    "games['user_score'] = pd.to_numeric (games['user_score']) "
   ]
  },
  {
   "cell_type": "markdown",
   "metadata": {},
   "source": [
    "Обработаем пропуски в столбцах\n"
   ]
  },
  {
   "cell_type": "code",
   "execution_count": 10,
   "metadata": {},
   "outputs": [
    {
     "data": {
      "text/html": [
       "<div>\n",
       "<style scoped>\n",
       "    .dataframe tbody tr th:only-of-type {\n",
       "        vertical-align: middle;\n",
       "    }\n",
       "\n",
       "    .dataframe tbody tr th {\n",
       "        vertical-align: top;\n",
       "    }\n",
       "\n",
       "    .dataframe thead th {\n",
       "        text-align: right;\n",
       "    }\n",
       "</style>\n",
       "<table border=\"1\" class=\"dataframe\">\n",
       "  <thead>\n",
       "    <tr style=\"text-align: right;\">\n",
       "      <th></th>\n",
       "      <th>name</th>\n",
       "      <th>platform</th>\n",
       "      <th>year_of_release</th>\n",
       "      <th>genre</th>\n",
       "      <th>na_sales</th>\n",
       "      <th>eu_sales</th>\n",
       "      <th>jp_sales</th>\n",
       "      <th>other_sales</th>\n",
       "      <th>critic_score</th>\n",
       "      <th>user_score</th>\n",
       "      <th>rating</th>\n",
       "    </tr>\n",
       "  </thead>\n",
       "  <tbody>\n",
       "    <tr>\n",
       "      <th>659</th>\n",
       "      <td>NaN</td>\n",
       "      <td>GEN</td>\n",
       "      <td>1993</td>\n",
       "      <td>NaN</td>\n",
       "      <td>1.78</td>\n",
       "      <td>0.53</td>\n",
       "      <td>0.00</td>\n",
       "      <td>0.08</td>\n",
       "      <td>NaN</td>\n",
       "      <td>-1.0</td>\n",
       "      <td>NaN</td>\n",
       "    </tr>\n",
       "    <tr>\n",
       "      <th>14244</th>\n",
       "      <td>NaN</td>\n",
       "      <td>GEN</td>\n",
       "      <td>1993</td>\n",
       "      <td>NaN</td>\n",
       "      <td>0.00</td>\n",
       "      <td>0.00</td>\n",
       "      <td>0.03</td>\n",
       "      <td>0.00</td>\n",
       "      <td>NaN</td>\n",
       "      <td>-1.0</td>\n",
       "      <td>NaN</td>\n",
       "    </tr>\n",
       "  </tbody>\n",
       "</table>\n",
       "</div>"
      ],
      "text/plain": [
       "      name platform  year_of_release genre  na_sales  eu_sales  jp_sales  \\\n",
       "659    NaN      GEN             1993   NaN      1.78      0.53      0.00   \n",
       "14244  NaN      GEN             1993   NaN      0.00      0.00      0.03   \n",
       "\n",
       "       other_sales  critic_score  user_score rating  \n",
       "659           0.08           NaN        -1.0    NaN  \n",
       "14244         0.00           NaN        -1.0    NaN  "
      ]
     },
     "execution_count": 10,
     "metadata": {},
     "output_type": "execute_result"
    }
   ],
   "source": [
    "games.query('name.isnull()')"
   ]
  },
  {
   "cell_type": "markdown",
   "metadata": {},
   "source": [
    "Имеются два пропуска в столбце name. Оба наблюдения от 1993 года со множественными пропусками. Думаю, мы можем их удалить. Вряд ли они повлияют на результат дальнейшего исследования."
   ]
  },
  {
   "cell_type": "code",
   "execution_count": 11,
   "metadata": {},
   "outputs": [],
   "source": [
    "games.dropna(subset = ['name'], inplace = True)"
   ]
  },
  {
   "cell_type": "markdown",
   "metadata": {},
   "source": [
    "В столбце year_of_release не будем обрабатывать неизвестные нам значения или избавляться от строк с пропусками в этом столбце. Оставим их заполненными нехарактерным значением -1 и будем учитывать это в ходе работы.\n",
    "\n",
    "Пропуски в столбцах critic_score и user_score (также как и в year_of_release и rating) могли появиться по разным причинам. \n",
    "\n",
    "В user_score мы уже заполнили пропуски нетипичным значением -1. Сделаем то же самое с пропусками в critic_score и rating, а затем будем учитывать это в дальнейшей работе. Это поможет нам сохранить данные и не повлиять на результаты исследования."
   ]
  },
  {
   "cell_type": "code",
   "execution_count": 12,
   "metadata": {},
   "outputs": [],
   "source": [
    "games['critic_score'] = games['critic_score'].fillna(-1)"
   ]
  },
  {
   "cell_type": "code",
   "execution_count": 13,
   "metadata": {},
   "outputs": [],
   "source": [
    "games['rating'] = games['rating'].fillna(-1)"
   ]
  },
  {
   "cell_type": "markdown",
   "metadata": {},
   "source": [
    "Посчитаем суммарные продажи во всех регионах и запишем их в отдельный столбец"
   ]
  },
  {
   "cell_type": "code",
   "execution_count": 14,
   "metadata": {},
   "outputs": [],
   "source": [
    "games['total_sales'] = games['na_sales'] + games['eu_sales'] + games['jp_sales'] + games['other_sales']"
   ]
  },
  {
   "cell_type": "code",
   "execution_count": 15,
   "metadata": {},
   "outputs": [
    {
     "name": "stdout",
     "output_type": "stream",
     "text": [
      "<class 'pandas.core.frame.DataFrame'>\n",
      "Int64Index: 16713 entries, 0 to 16714\n",
      "Data columns (total 12 columns):\n",
      " #   Column           Non-Null Count  Dtype  \n",
      "---  ------           --------------  -----  \n",
      " 0   name             16713 non-null  object \n",
      " 1   platform         16713 non-null  object \n",
      " 2   year_of_release  16713 non-null  int64  \n",
      " 3   genre            16713 non-null  object \n",
      " 4   na_sales         16713 non-null  float64\n",
      " 5   eu_sales         16713 non-null  float64\n",
      " 6   jp_sales         16713 non-null  float64\n",
      " 7   other_sales      16713 non-null  float64\n",
      " 8   critic_score     16713 non-null  float64\n",
      " 9   user_score       16713 non-null  float64\n",
      " 10  rating           16713 non-null  object \n",
      " 11  total_sales      16713 non-null  float64\n",
      "dtypes: float64(7), int64(1), object(4)\n",
      "memory usage: 1.7+ MB\n"
     ]
    }
   ],
   "source": [
    "games.info()"
   ]
  },
  {
   "cell_type": "markdown",
   "metadata": {},
   "source": [
    "Итак, на данном этапе мы выполнили следующие шаги:\n",
    "\n",
    "1. привели названия столбцов к нижнему регистру;\n",
    "2. преобразовали данные в в нужные типы: year_of_release в формат int64, а в user_score в float64;\n",
    "3. обработали пропуски - в столбцах сritic_score, user_score и rating где пропущена почти половина значений. Удаление их критично, а заполнение этих пропусков иными данными привело бы к искажению результатов исследования, поэтому заменили их на -1 и будем учитывать это в дальнейшем исследовании;\n",
    "4. от пропусков в name избавились;\n",
    "5. в user_score изменили значения tbd на -1;\n",
    "6. посчитали суммарные продажи во всех регионах и записали их в отдельный столбец total_sales"
   ]
  },
  {
   "cell_type": "markdown",
   "metadata": {},
   "source": [
    "## Проведем исследовательский анализ данных"
   ]
  },
  {
   "cell_type": "markdown",
   "metadata": {},
   "source": [
    "Посмотрим, сколько игр выпускалось в разные годы.\n",
    "\n",
    "Не думаю, что для проведения исследования нам необходимо знать статистику за последние 30 лет. Нам необходимы актуальные данные. Поэтому обратим внимание на изменение продаж у платформ, начиная с 2000 года и определим промежуток времени, который будем исследовать в дальнейшем"
   ]
  },
  {
   "cell_type": "code",
   "execution_count": 16,
   "metadata": {},
   "outputs": [
    {
     "data": {
      "text/plain": [
       "Text(0.5, 0, 'Год выпуска')"
      ]
     },
     "execution_count": 16,
     "metadata": {},
     "output_type": "execute_result"
    },
    {
     "data": {
      "image/png": "[encoded data removed]",
      "text/plain": [
       "<Figure size 432x432 with 1 Axes>"
      ]
     },
     "metadata": {
      "needs_background": "light"
     },
     "output_type": "display_data"
    }
   ],
   "source": [
    "count_by_year = games.query('year_of_release >= 2000').groupby('year_of_release')['name'].count()\n",
    "count_by_year.plot(figsize=(6,6), title = 'Количество выпущенных игр')\n",
    "ax = plt.gca()\n",
    "ax.set_ylabel('Игры')\n",
    "ax.set_xlabel('Год выпуска')"
   ]
  },
  {
   "cell_type": "markdown",
   "metadata": {},
   "source": [
    "Видим, что основная масса новых игр приходится на 2006-2012 годы, после этого периода количество выпускающихся игр идет на спад."
   ]
  },
  {
   "cell_type": "markdown",
   "metadata": {},
   "source": [
    "Посмотрим, как менялись продажи по платформам и ответим на вопрос:\n",
    "\n",
    "За какой характерный срок появляются новые и исчезают старые платформы?"
   ]
  },
  {
   "cell_type": "code",
   "execution_count": 17,
   "metadata": {
    "scrolled": true
   },
   "outputs": [
    {
     "data": {
      "text/html": [
       "<div>\n",
       "<style scoped>\n",
       "    .dataframe tbody tr th:only-of-type {\n",
       "        vertical-align: middle;\n",
       "    }\n",
       "\n",
       "    .dataframe tbody tr th {\n",
       "        vertical-align: top;\n",
       "    }\n",
       "\n",
       "    .dataframe thead th {\n",
       "        text-align: right;\n",
       "    }\n",
       "</style>\n",
       "<table border=\"1\" class=\"dataframe\">\n",
       "  <thead>\n",
       "    <tr style=\"text-align: right;\">\n",
       "      <th>year_of_release</th>\n",
       "      <th>2001</th>\n",
       "      <th>2002</th>\n",
       "      <th>2003</th>\n",
       "      <th>2004</th>\n",
       "      <th>2005</th>\n",
       "      <th>2006</th>\n",
       "      <th>2007</th>\n",
       "      <th>2008</th>\n",
       "      <th>2009</th>\n",
       "      <th>2010</th>\n",
       "      <th>2011</th>\n",
       "      <th>2012</th>\n",
       "      <th>2013</th>\n",
       "      <th>2014</th>\n",
       "      <th>2015</th>\n",
       "      <th>2016</th>\n",
       "    </tr>\n",
       "    <tr>\n",
       "      <th>platform</th>\n",
       "      <th></th>\n",
       "      <th></th>\n",
       "      <th></th>\n",
       "      <th></th>\n",
       "      <th></th>\n",
       "      <th></th>\n",
       "      <th></th>\n",
       "      <th></th>\n",
       "      <th></th>\n",
       "      <th></th>\n",
       "      <th></th>\n",
       "      <th></th>\n",
       "      <th></th>\n",
       "      <th></th>\n",
       "      <th></th>\n",
       "      <th></th>\n",
       "    </tr>\n",
       "  </thead>\n",
       "  <tbody>\n",
       "    <tr>\n",
       "      <th>3DS</th>\n",
       "      <td>-</td>\n",
       "      <td>-</td>\n",
       "      <td>-</td>\n",
       "      <td>-</td>\n",
       "      <td>-</td>\n",
       "      <td>-</td>\n",
       "      <td>-</td>\n",
       "      <td>-</td>\n",
       "      <td>-</td>\n",
       "      <td>-</td>\n",
       "      <td>116.0</td>\n",
       "      <td>93.0</td>\n",
       "      <td>91.0</td>\n",
       "      <td>80.0</td>\n",
       "      <td>86.0</td>\n",
       "      <td>46.0</td>\n",
       "    </tr>\n",
       "    <tr>\n",
       "      <th>DC</th>\n",
       "      <td>8.0</td>\n",
       "      <td>1.0</td>\n",
       "      <td>-</td>\n",
       "      <td>-</td>\n",
       "      <td>-</td>\n",
       "      <td>-</td>\n",
       "      <td>1.0</td>\n",
       "      <td>1.0</td>\n",
       "      <td>-</td>\n",
       "      <td>-</td>\n",
       "      <td>-</td>\n",
       "      <td>-</td>\n",
       "      <td>-</td>\n",
       "      <td>-</td>\n",
       "      <td>-</td>\n",
       "      <td>-</td>\n",
       "    </tr>\n",
       "    <tr>\n",
       "      <th>DS</th>\n",
       "      <td>-</td>\n",
       "      <td>-</td>\n",
       "      <td>-</td>\n",
       "      <td>23.0</td>\n",
       "      <td>118.0</td>\n",
       "      <td>201.0</td>\n",
       "      <td>376.0</td>\n",
       "      <td>492.0</td>\n",
       "      <td>403.0</td>\n",
       "      <td>323.0</td>\n",
       "      <td>153.0</td>\n",
       "      <td>23.0</td>\n",
       "      <td>8.0</td>\n",
       "      <td>-</td>\n",
       "      <td>-</td>\n",
       "      <td>-</td>\n",
       "    </tr>\n",
       "    <tr>\n",
       "      <th>GB</th>\n",
       "      <td>10.0</td>\n",
       "      <td>-</td>\n",
       "      <td>-</td>\n",
       "      <td>-</td>\n",
       "      <td>-</td>\n",
       "      <td>-</td>\n",
       "      <td>-</td>\n",
       "      <td>-</td>\n",
       "      <td>-</td>\n",
       "      <td>-</td>\n",
       "      <td>-</td>\n",
       "      <td>-</td>\n",
       "      <td>-</td>\n",
       "      <td>-</td>\n",
       "      <td>-</td>\n",
       "      <td>-</td>\n",
       "    </tr>\n",
       "    <tr>\n",
       "      <th>GBA</th>\n",
       "      <td>107.0</td>\n",
       "      <td>198.0</td>\n",
       "      <td>150.0</td>\n",
       "      <td>175.0</td>\n",
       "      <td>135.0</td>\n",
       "      <td>39.0</td>\n",
       "      <td>6.0</td>\n",
       "      <td>-</td>\n",
       "      <td>-</td>\n",
       "      <td>-</td>\n",
       "      <td>-</td>\n",
       "      <td>-</td>\n",
       "      <td>-</td>\n",
       "      <td>-</td>\n",
       "      <td>-</td>\n",
       "      <td>-</td>\n",
       "    </tr>\n",
       "    <tr>\n",
       "      <th>GC</th>\n",
       "      <td>22.0</td>\n",
       "      <td>152.0</td>\n",
       "      <td>144.0</td>\n",
       "      <td>83.0</td>\n",
       "      <td>97.0</td>\n",
       "      <td>40.0</td>\n",
       "      <td>4.0</td>\n",
       "      <td>-</td>\n",
       "      <td>-</td>\n",
       "      <td>-</td>\n",
       "      <td>-</td>\n",
       "      <td>-</td>\n",
       "      <td>-</td>\n",
       "      <td>-</td>\n",
       "      <td>-</td>\n",
       "      <td>-</td>\n",
       "    </tr>\n",
       "    <tr>\n",
       "      <th>N64</th>\n",
       "      <td>9.0</td>\n",
       "      <td>1.0</td>\n",
       "      <td>-</td>\n",
       "      <td>-</td>\n",
       "      <td>-</td>\n",
       "      <td>-</td>\n",
       "      <td>-</td>\n",
       "      <td>-</td>\n",
       "      <td>-</td>\n",
       "      <td>-</td>\n",
       "      <td>-</td>\n",
       "      <td>-</td>\n",
       "      <td>-</td>\n",
       "      <td>-</td>\n",
       "      <td>-</td>\n",
       "      <td>-</td>\n",
       "    </tr>\n",
       "    <tr>\n",
       "      <th>PC</th>\n",
       "      <td>15.0</td>\n",
       "      <td>19.0</td>\n",
       "      <td>33.0</td>\n",
       "      <td>30.0</td>\n",
       "      <td>37.0</td>\n",
       "      <td>52.0</td>\n",
       "      <td>62.0</td>\n",
       "      <td>76.0</td>\n",
       "      <td>107.0</td>\n",
       "      <td>90.0</td>\n",
       "      <td>139.0</td>\n",
       "      <td>61.0</td>\n",
       "      <td>38.0</td>\n",
       "      <td>47.0</td>\n",
       "      <td>50.0</td>\n",
       "      <td>54.0</td>\n",
       "    </tr>\n",
       "    <tr>\n",
       "      <th>PS</th>\n",
       "      <td>91.0</td>\n",
       "      <td>20.0</td>\n",
       "      <td>3.0</td>\n",
       "      <td>-</td>\n",
       "      <td>-</td>\n",
       "      <td>-</td>\n",
       "      <td>-</td>\n",
       "      <td>-</td>\n",
       "      <td>-</td>\n",
       "      <td>-</td>\n",
       "      <td>-</td>\n",
       "      <td>-</td>\n",
       "      <td>-</td>\n",
       "      <td>-</td>\n",
       "      <td>-</td>\n",
       "      <td>-</td>\n",
       "    </tr>\n",
       "    <tr>\n",
       "      <th>PS2</th>\n",
       "      <td>185.0</td>\n",
       "      <td>280.0</td>\n",
       "      <td>256.0</td>\n",
       "      <td>259.0</td>\n",
       "      <td>260.0</td>\n",
       "      <td>259.0</td>\n",
       "      <td>214.0</td>\n",
       "      <td>191.0</td>\n",
       "      <td>96.0</td>\n",
       "      <td>38.0</td>\n",
       "      <td>7.0</td>\n",
       "      <td>-</td>\n",
       "      <td>-</td>\n",
       "      <td>-</td>\n",
       "      <td>-</td>\n",
       "      <td>-</td>\n",
       "    </tr>\n",
       "    <tr>\n",
       "      <th>PS3</th>\n",
       "      <td>-</td>\n",
       "      <td>-</td>\n",
       "      <td>-</td>\n",
       "      <td>-</td>\n",
       "      <td>-</td>\n",
       "      <td>27.0</td>\n",
       "      <td>90.0</td>\n",
       "      <td>138.0</td>\n",
       "      <td>162.0</td>\n",
       "      <td>181.0</td>\n",
       "      <td>215.0</td>\n",
       "      <td>148.0</td>\n",
       "      <td>126.0</td>\n",
       "      <td>108.0</td>\n",
       "      <td>73.0</td>\n",
       "      <td>38.0</td>\n",
       "    </tr>\n",
       "    <tr>\n",
       "      <th>PS4</th>\n",
       "      <td>-</td>\n",
       "      <td>-</td>\n",
       "      <td>-</td>\n",
       "      <td>-</td>\n",
       "      <td>-</td>\n",
       "      <td>-</td>\n",
       "      <td>-</td>\n",
       "      <td>-</td>\n",
       "      <td>-</td>\n",
       "      <td>-</td>\n",
       "      <td>-</td>\n",
       "      <td>-</td>\n",
       "      <td>16.0</td>\n",
       "      <td>75.0</td>\n",
       "      <td>137.0</td>\n",
       "      <td>164.0</td>\n",
       "    </tr>\n",
       "    <tr>\n",
       "      <th>PSP</th>\n",
       "      <td>-</td>\n",
       "      <td>-</td>\n",
       "      <td>-</td>\n",
       "      <td>15.0</td>\n",
       "      <td>95.0</td>\n",
       "      <td>189.0</td>\n",
       "      <td>133.0</td>\n",
       "      <td>100.0</td>\n",
       "      <td>161.0</td>\n",
       "      <td>188.0</td>\n",
       "      <td>139.0</td>\n",
       "      <td>106.0</td>\n",
       "      <td>54.0</td>\n",
       "      <td>10.0</td>\n",
       "      <td>3.0</td>\n",
       "      <td>-</td>\n",
       "    </tr>\n",
       "    <tr>\n",
       "      <th>PSV</th>\n",
       "      <td>-</td>\n",
       "      <td>-</td>\n",
       "      <td>-</td>\n",
       "      <td>-</td>\n",
       "      <td>-</td>\n",
       "      <td>-</td>\n",
       "      <td>-</td>\n",
       "      <td>-</td>\n",
       "      <td>-</td>\n",
       "      <td>-</td>\n",
       "      <td>18.0</td>\n",
       "      <td>53.0</td>\n",
       "      <td>63.0</td>\n",
       "      <td>100.0</td>\n",
       "      <td>110.0</td>\n",
       "      <td>85.0</td>\n",
       "    </tr>\n",
       "    <tr>\n",
       "      <th>WS</th>\n",
       "      <td>2.0</td>\n",
       "      <td>-</td>\n",
       "      <td>-</td>\n",
       "      <td>-</td>\n",
       "      <td>-</td>\n",
       "      <td>-</td>\n",
       "      <td>-</td>\n",
       "      <td>-</td>\n",
       "      <td>-</td>\n",
       "      <td>-</td>\n",
       "      <td>-</td>\n",
       "      <td>-</td>\n",
       "      <td>-</td>\n",
       "      <td>-</td>\n",
       "      <td>-</td>\n",
       "      <td>-</td>\n",
       "    </tr>\n",
       "    <tr>\n",
       "      <th>Wii</th>\n",
       "      <td>-</td>\n",
       "      <td>-</td>\n",
       "      <td>-</td>\n",
       "      <td>-</td>\n",
       "      <td>-</td>\n",
       "      <td>44.0</td>\n",
       "      <td>185.0</td>\n",
       "      <td>282.0</td>\n",
       "      <td>325.0</td>\n",
       "      <td>253.0</td>\n",
       "      <td>143.0</td>\n",
       "      <td>31.0</td>\n",
       "      <td>12.0</td>\n",
       "      <td>6.0</td>\n",
       "      <td>4.0</td>\n",
       "      <td>1.0</td>\n",
       "    </tr>\n",
       "    <tr>\n",
       "      <th>WiiU</th>\n",
       "      <td>-</td>\n",
       "      <td>-</td>\n",
       "      <td>-</td>\n",
       "      <td>-</td>\n",
       "      <td>-</td>\n",
       "      <td>-</td>\n",
       "      <td>-</td>\n",
       "      <td>-</td>\n",
       "      <td>-</td>\n",
       "      <td>-</td>\n",
       "      <td>-</td>\n",
       "      <td>32.0</td>\n",
       "      <td>42.0</td>\n",
       "      <td>31.0</td>\n",
       "      <td>28.0</td>\n",
       "      <td>14.0</td>\n",
       "    </tr>\n",
       "    <tr>\n",
       "      <th>X360</th>\n",
       "      <td>-</td>\n",
       "      <td>-</td>\n",
       "      <td>-</td>\n",
       "      <td>-</td>\n",
       "      <td>18.0</td>\n",
       "      <td>93.0</td>\n",
       "      <td>123.0</td>\n",
       "      <td>146.0</td>\n",
       "      <td>172.0</td>\n",
       "      <td>182.0</td>\n",
       "      <td>206.0</td>\n",
       "      <td>106.0</td>\n",
       "      <td>75.0</td>\n",
       "      <td>63.0</td>\n",
       "      <td>35.0</td>\n",
       "      <td>13.0</td>\n",
       "    </tr>\n",
       "    <tr>\n",
       "      <th>XB</th>\n",
       "      <td>33.0</td>\n",
       "      <td>158.0</td>\n",
       "      <td>189.0</td>\n",
       "      <td>177.0</td>\n",
       "      <td>179.0</td>\n",
       "      <td>62.0</td>\n",
       "      <td>3.0</td>\n",
       "      <td>1.0</td>\n",
       "      <td>-</td>\n",
       "      <td>-</td>\n",
       "      <td>-</td>\n",
       "      <td>-</td>\n",
       "      <td>-</td>\n",
       "      <td>-</td>\n",
       "      <td>-</td>\n",
       "      <td>-</td>\n",
       "    </tr>\n",
       "    <tr>\n",
       "      <th>XOne</th>\n",
       "      <td>-</td>\n",
       "      <td>-</td>\n",
       "      <td>-</td>\n",
       "      <td>-</td>\n",
       "      <td>-</td>\n",
       "      <td>-</td>\n",
       "      <td>-</td>\n",
       "      <td>-</td>\n",
       "      <td>-</td>\n",
       "      <td>-</td>\n",
       "      <td>-</td>\n",
       "      <td>-</td>\n",
       "      <td>19.0</td>\n",
       "      <td>61.0</td>\n",
       "      <td>80.0</td>\n",
       "      <td>87.0</td>\n",
       "    </tr>\n",
       "  </tbody>\n",
       "</table>\n",
       "</div>"
      ],
      "text/plain": [
       "year_of_release   2001   2002   2003   2004   2005   2006   2007   2008  \\\n",
       "platform                                                                  \n",
       "3DS                  -      -      -      -      -      -      -      -   \n",
       "DC                 8.0    1.0      -      -      -      -    1.0    1.0   \n",
       "DS                   -      -      -   23.0  118.0  201.0  376.0  492.0   \n",
       "GB                10.0      -      -      -      -      -      -      -   \n",
       "GBA              107.0  198.0  150.0  175.0  135.0   39.0    6.0      -   \n",
       "GC                22.0  152.0  144.0   83.0   97.0   40.0    4.0      -   \n",
       "N64                9.0    1.0      -      -      -      -      -      -   \n",
       "PC                15.0   19.0   33.0   30.0   37.0   52.0   62.0   76.0   \n",
       "PS                91.0   20.0    3.0      -      -      -      -      -   \n",
       "PS2              185.0  280.0  256.0  259.0  260.0  259.0  214.0  191.0   \n",
       "PS3                  -      -      -      -      -   27.0   90.0  138.0   \n",
       "PS4                  -      -      -      -      -      -      -      -   \n",
       "PSP                  -      -      -   15.0   95.0  189.0  133.0  100.0   \n",
       "PSV                  -      -      -      -      -      -      -      -   \n",
       "WS                 2.0      -      -      -      -      -      -      -   \n",
       "Wii                  -      -      -      -      -   44.0  185.0  282.0   \n",
       "WiiU                 -      -      -      -      -      -      -      -   \n",
       "X360                 -      -      -      -   18.0   93.0  123.0  146.0   \n",
       "XB                33.0  158.0  189.0  177.0  179.0   62.0    3.0    1.0   \n",
       "XOne                 -      -      -      -      -      -      -      -   \n",
       "\n",
       "year_of_release   2009   2010   2011   2012   2013   2014   2015   2016  \n",
       "platform                                                                 \n",
       "3DS                  -      -  116.0   93.0   91.0   80.0   86.0   46.0  \n",
       "DC                   -      -      -      -      -      -      -      -  \n",
       "DS               403.0  323.0  153.0   23.0    8.0      -      -      -  \n",
       "GB                   -      -      -      -      -      -      -      -  \n",
       "GBA                  -      -      -      -      -      -      -      -  \n",
       "GC                   -      -      -      -      -      -      -      -  \n",
       "N64                  -      -      -      -      -      -      -      -  \n",
       "PC               107.0   90.0  139.0   61.0   38.0   47.0   50.0   54.0  \n",
       "PS                   -      -      -      -      -      -      -      -  \n",
       "PS2               96.0   38.0    7.0      -      -      -      -      -  \n",
       "PS3              162.0  181.0  215.0  148.0  126.0  108.0   73.0   38.0  \n",
       "PS4                  -      -      -      -   16.0   75.0  137.0  164.0  \n",
       "PSP              161.0  188.0  139.0  106.0   54.0   10.0    3.0      -  \n",
       "PSV                  -      -   18.0   53.0   63.0  100.0  110.0   85.0  \n",
       "WS                   -      -      -      -      -      -      -      -  \n",
       "Wii              325.0  253.0  143.0   31.0   12.0    6.0    4.0    1.0  \n",
       "WiiU                 -      -      -   32.0   42.0   31.0   28.0   14.0  \n",
       "X360             172.0  182.0  206.0  106.0   75.0   63.0   35.0   13.0  \n",
       "XB                   -      -      -      -      -      -      -      -  \n",
       "XOne                 -      -      -      -   19.0   61.0   80.0   87.0  "
      ]
     },
     "execution_count": 17,
     "metadata": {},
     "output_type": "execute_result"
    }
   ],
   "source": [
    "games.query('year_of_release > 2000').pivot_table(index='platform',columns='year_of_release',values='name', aggfunc='count', fill_value='-')"
   ]
  },
  {
   "cell_type": "markdown",
   "metadata": {},
   "source": [
    "По распределению можно заметить смену платформ. Примерно в 2006 на замену старым приходят новые.\n",
    "\n",
    "Думаю, для дальнейшего исследования нам будет вполне достаточно последних 10 лет. Оставим данные с 2006 года по 2016 включительно."
   ]
  },
  {
   "cell_type": "markdown",
   "metadata": {},
   "source": [
    "Выберем несколько потенциально прибыльных платформ"
   ]
  },
  {
   "cell_type": "code",
   "execution_count": 18,
   "metadata": {
    "scrolled": true
   },
   "outputs": [
    {
     "data": {
      "text/plain": [
       "Text(0, 0.5, 'Количество продаж')"
      ]
     },
     "execution_count": 18,
     "metadata": {},
     "output_type": "execute_result"
    },
    {
     "data": {
      "image/png": "[encoded data removed]",
      "text/plain": [
       "<Figure size 936x432 with 1 Axes>"
      ]
     },
     "metadata": {
      "needs_background": "light"
     },
     "output_type": "display_data"
    }
   ],
   "source": [
    "platform_vs_sales = games.pivot_table(\n",
    "    index='platform', values='total_sales', aggfunc='sum').sort_values(by='total_sales', ascending=False)\n",
    "\n",
    "plt.figure(figsize=(13,6))\n",
    "sns.barplot(x=platform_vs_sales.index,y=platform_vs_sales['total_sales'])\n",
    "plt.title(\"Продажи по платформам за весь период\")\n",
    "plt.xlabel(\"Название платформы\")\n",
    "plt.ylabel(\"Количество продаж\")"
   ]
  },
  {
   "cell_type": "markdown",
   "metadata": {},
   "source": [
    "Из графика видно, что самые популярные игровые платформы за весь период это PS2, X360, PS3, WII, DS, PS"
   ]
  },
  {
   "cell_type": "code",
   "execution_count": 19,
   "metadata": {},
   "outputs": [],
   "source": [
    "# Напишем функцию, которая будет возвращать нужную сводную таблицу и выводить данные с 2005 года\n",
    "def year_total_sale_for_platform(name, data):\n",
    "    slicee = data[(data['platform'] == name) & (data['year_of_release'] > 2005)]\n",
    "    total = slicee.pivot_table(index='year_of_release', values='total_sales', aggfunc='sum').sort_values('year_of_release', ascending=False)\n",
    "    return total"
   ]
  },
  {
   "cell_type": "code",
   "execution_count": 20,
   "metadata": {},
   "outputs": [],
   "source": [
    "# взглянем на суммы\n",
    "platform_sales = games.groupby('platform')['total_sales'].sum().sort_values(ascending=False).reset_index().head(5)"
   ]
  },
  {
   "cell_type": "code",
   "execution_count": 21,
   "metadata": {},
   "outputs": [
    {
     "data": {
      "text/html": [
       "<div>\n",
       "<style scoped>\n",
       "    .dataframe tbody tr th:only-of-type {\n",
       "        vertical-align: middle;\n",
       "    }\n",
       "\n",
       "    .dataframe tbody tr th {\n",
       "        vertical-align: top;\n",
       "    }\n",
       "\n",
       "    .dataframe thead th {\n",
       "        text-align: right;\n",
       "    }\n",
       "</style>\n",
       "<table border=\"1\" class=\"dataframe\">\n",
       "  <thead>\n",
       "    <tr style=\"text-align: right;\">\n",
       "      <th></th>\n",
       "      <th>platform</th>\n",
       "      <th>total_sales</th>\n",
       "    </tr>\n",
       "  </thead>\n",
       "  <tbody>\n",
       "    <tr>\n",
       "      <th>0</th>\n",
       "      <td>PS2</td>\n",
       "      <td>1255.77</td>\n",
       "    </tr>\n",
       "    <tr>\n",
       "      <th>1</th>\n",
       "      <td>X360</td>\n",
       "      <td>971.42</td>\n",
       "    </tr>\n",
       "    <tr>\n",
       "      <th>2</th>\n",
       "      <td>PS3</td>\n",
       "      <td>939.65</td>\n",
       "    </tr>\n",
       "    <tr>\n",
       "      <th>3</th>\n",
       "      <td>Wii</td>\n",
       "      <td>907.51</td>\n",
       "    </tr>\n",
       "    <tr>\n",
       "      <th>4</th>\n",
       "      <td>DS</td>\n",
       "      <td>806.12</td>\n",
       "    </tr>\n",
       "  </tbody>\n",
       "</table>\n",
       "</div>"
      ],
      "text/plain": [
       "  platform  total_sales\n",
       "0      PS2      1255.77\n",
       "1     X360       971.42\n",
       "2      PS3       939.65\n",
       "3      Wii       907.51\n",
       "4       DS       806.12"
      ]
     },
     "execution_count": 21,
     "metadata": {},
     "output_type": "execute_result"
    }
   ],
   "source": [
    "platform_sales"
   ]
  },
  {
   "cell_type": "code",
   "execution_count": 22,
   "metadata": {
    "scrolled": true
   },
   "outputs": [
    {
     "data": {
      "image/png": "[encoded data removed]",
      "text/plain": [
       "<Figure size 864x432 with 1 Axes>"
      ]
     },
     "metadata": {
      "needs_background": "light"
     },
     "output_type": "display_data"
    }
   ],
   "source": [
    "#Отрисуем все игровые платформы и их поведение за последние 10 лет\n",
    "plt.figure(figsize=(12,6))\n",
    "plt.title('Количество продаж популярных игровых платформ')\n",
    "plt.xlabel('Годы игровых релизов')\n",
    "plt.ylabel('Продажи')\n",
    "\n",
    "for i in list(platform_sales['platform']):\n",
    "    sns.lineplot(data=year_total_sale_for_platform(i,games)['total_sales'], label=i)\n",
    "    plt.legend()"
   ]
  },
  {
   "cell_type": "markdown",
   "metadata": {},
   "source": [
    "Можем сделать вывод, что \n",
    "- Практически все игровые платформы в среднем существуют по 10 лет. \n",
    "- Cамые продаваемые это Sony Play Station и XBOX \n",
    "- Самый пик наступает примерно через 5 лет после выхода приставки\n",
    "- у Nintento WII был быстрый скачок в 2009 году и такой же резкий провал\n"
   ]
  },
  {
   "cell_type": "markdown",
   "metadata": {},
   "source": [
    "<div class=\"alert alert-success\"; style=\"border-left: 7px solid green\">\n",
    "<h3>✔ Комментарий ревьюера V.2</h3>\n",
    "    \n",
    "Примерно так, да. Если построить по всем платформам, которые дожили до 2016 года, то можно будет увидеть, почему 2012-13 это акутальный перидо, у большинства платформ продажи упали, а у некоторых пошли вверх, поэтому учитывать старые данные для упавших не стоит. Посчитать среднее время жизни можно так:\n",
    "</div>    \n"
   ]
  },
  {
   "cell_type": "code",
   "execution_count": 25,
   "metadata": {},
   "outputs": [
    {
     "data": {
      "text/plain": [
       "8.0"
      ]
     },
     "execution_count": 25,
     "metadata": {},
     "output_type": "execute_result"
    }
   ],
   "source": [
    "# Код ревьюера\n",
    "\n",
    "games.groupby('platform')['year_of_release'].nunique().median()"
   ]
  },
  {
   "cell_type": "code",
   "execution_count": 26,
   "metadata": {},
   "outputs": [],
   "source": [
    "# для анализа возьмем данные с 2012 года\n",
    "games_new = games.query('year_of_release >=2012')"
   ]
  },
  {
   "cell_type": "code",
   "execution_count": 27,
   "metadata": {},
   "outputs": [],
   "source": [
    "# найдем платформы с наибольшими суммарными продажами\n",
    "platform_sales = games_new.groupby('platform')['total_sales'].sum().sort_values(ascending=False).reset_index().head(10)"
   ]
  },
  {
   "cell_type": "code",
   "execution_count": 28,
   "metadata": {
    "scrolled": true
   },
   "outputs": [
    {
     "data": {
      "text/html": [
       "<div>\n",
       "<style scoped>\n",
       "    .dataframe tbody tr th:only-of-type {\n",
       "        vertical-align: middle;\n",
       "    }\n",
       "\n",
       "    .dataframe tbody tr th {\n",
       "        vertical-align: top;\n",
       "    }\n",
       "\n",
       "    .dataframe thead th {\n",
       "        text-align: right;\n",
       "    }\n",
       "</style>\n",
       "<table border=\"1\" class=\"dataframe\">\n",
       "  <thead>\n",
       "    <tr style=\"text-align: right;\">\n",
       "      <th></th>\n",
       "      <th>platform</th>\n",
       "      <th>total_sales</th>\n",
       "    </tr>\n",
       "  </thead>\n",
       "  <tbody>\n",
       "    <tr>\n",
       "      <th>0</th>\n",
       "      <td>PS4</td>\n",
       "      <td>314.14</td>\n",
       "    </tr>\n",
       "    <tr>\n",
       "      <th>1</th>\n",
       "      <td>PS3</td>\n",
       "      <td>288.79</td>\n",
       "    </tr>\n",
       "    <tr>\n",
       "      <th>2</th>\n",
       "      <td>X360</td>\n",
       "      <td>236.54</td>\n",
       "    </tr>\n",
       "    <tr>\n",
       "      <th>3</th>\n",
       "      <td>3DS</td>\n",
       "      <td>194.61</td>\n",
       "    </tr>\n",
       "    <tr>\n",
       "      <th>4</th>\n",
       "      <td>XOne</td>\n",
       "      <td>159.32</td>\n",
       "    </tr>\n",
       "    <tr>\n",
       "      <th>5</th>\n",
       "      <td>WiiU</td>\n",
       "      <td>82.19</td>\n",
       "    </tr>\n",
       "    <tr>\n",
       "      <th>6</th>\n",
       "      <td>PC</td>\n",
       "      <td>62.65</td>\n",
       "    </tr>\n",
       "    <tr>\n",
       "      <th>7</th>\n",
       "      <td>PSV</td>\n",
       "      <td>49.18</td>\n",
       "    </tr>\n",
       "    <tr>\n",
       "      <th>8</th>\n",
       "      <td>Wii</td>\n",
       "      <td>35.37</td>\n",
       "    </tr>\n",
       "    <tr>\n",
       "      <th>9</th>\n",
       "      <td>DS</td>\n",
       "      <td>12.55</td>\n",
       "    </tr>\n",
       "  </tbody>\n",
       "</table>\n",
       "</div>"
      ],
      "text/plain": [
       "  platform  total_sales\n",
       "0      PS4       314.14\n",
       "1      PS3       288.79\n",
       "2     X360       236.54\n",
       "3      3DS       194.61\n",
       "4     XOne       159.32\n",
       "5     WiiU        82.19\n",
       "6       PC        62.65\n",
       "7      PSV        49.18\n",
       "8      Wii        35.37\n",
       "9       DS        12.55"
      ]
     },
     "execution_count": 28,
     "metadata": {},
     "output_type": "execute_result"
    }
   ],
   "source": [
    "platform_sales.head(10)"
   ]
  },
  {
   "cell_type": "code",
   "execution_count": 29,
   "metadata": {},
   "outputs": [
    {
     "data": {
      "text/plain": [
       "['PS4', 'PS3', 'X360', '3DS', 'XOne', 'WiiU', 'PC', 'PSV', 'Wii', 'DS']"
      ]
     },
     "execution_count": 29,
     "metadata": {},
     "output_type": "execute_result"
    }
   ],
   "source": [
    "top_platforms = platform_sales['platform'].to_list()\n",
    "top_platforms"
   ]
  },
  {
   "cell_type": "code",
   "execution_count": 30,
   "metadata": {},
   "outputs": [
    {
     "data": {
      "text/html": [
       "<div>\n",
       "<style scoped>\n",
       "    .dataframe tbody tr th:only-of-type {\n",
       "        vertical-align: middle;\n",
       "    }\n",
       "\n",
       "    .dataframe tbody tr th {\n",
       "        vertical-align: top;\n",
       "    }\n",
       "\n",
       "    .dataframe thead th {\n",
       "        text-align: right;\n",
       "    }\n",
       "</style>\n",
       "<table border=\"1\" class=\"dataframe\">\n",
       "  <thead>\n",
       "    <tr style=\"text-align: right;\">\n",
       "      <th></th>\n",
       "      <th>name</th>\n",
       "      <th>platform</th>\n",
       "      <th>year_of_release</th>\n",
       "      <th>genre</th>\n",
       "      <th>na_sales</th>\n",
       "      <th>eu_sales</th>\n",
       "      <th>jp_sales</th>\n",
       "      <th>other_sales</th>\n",
       "      <th>critic_score</th>\n",
       "      <th>user_score</th>\n",
       "      <th>rating</th>\n",
       "      <th>total_sales</th>\n",
       "    </tr>\n",
       "  </thead>\n",
       "  <tbody>\n",
       "    <tr>\n",
       "      <th>16</th>\n",
       "      <td>Grand Theft Auto V</td>\n",
       "      <td>PS3</td>\n",
       "      <td>2013</td>\n",
       "      <td>Action</td>\n",
       "      <td>7.02</td>\n",
       "      <td>9.09</td>\n",
       "      <td>0.98</td>\n",
       "      <td>3.96</td>\n",
       "      <td>97.0</td>\n",
       "      <td>8.2</td>\n",
       "      <td>M</td>\n",
       "      <td>21.05</td>\n",
       "    </tr>\n",
       "    <tr>\n",
       "      <th>23</th>\n",
       "      <td>Grand Theft Auto V</td>\n",
       "      <td>X360</td>\n",
       "      <td>2013</td>\n",
       "      <td>Action</td>\n",
       "      <td>9.66</td>\n",
       "      <td>5.14</td>\n",
       "      <td>0.06</td>\n",
       "      <td>1.41</td>\n",
       "      <td>97.0</td>\n",
       "      <td>8.1</td>\n",
       "      <td>M</td>\n",
       "      <td>16.27</td>\n",
       "    </tr>\n",
       "    <tr>\n",
       "      <th>31</th>\n",
       "      <td>Call of Duty: Black Ops 3</td>\n",
       "      <td>PS4</td>\n",
       "      <td>2015</td>\n",
       "      <td>Shooter</td>\n",
       "      <td>6.03</td>\n",
       "      <td>5.86</td>\n",
       "      <td>0.36</td>\n",
       "      <td>2.38</td>\n",
       "      <td>-1.0</td>\n",
       "      <td>-1.0</td>\n",
       "      <td>-1</td>\n",
       "      <td>14.63</td>\n",
       "    </tr>\n",
       "    <tr>\n",
       "      <th>33</th>\n",
       "      <td>Pokemon X/Pokemon Y</td>\n",
       "      <td>3DS</td>\n",
       "      <td>2013</td>\n",
       "      <td>Role-Playing</td>\n",
       "      <td>5.28</td>\n",
       "      <td>4.19</td>\n",
       "      <td>4.35</td>\n",
       "      <td>0.78</td>\n",
       "      <td>-1.0</td>\n",
       "      <td>-1.0</td>\n",
       "      <td>-1</td>\n",
       "      <td>14.60</td>\n",
       "    </tr>\n",
       "    <tr>\n",
       "      <th>34</th>\n",
       "      <td>Call of Duty: Black Ops II</td>\n",
       "      <td>PS3</td>\n",
       "      <td>2012</td>\n",
       "      <td>Shooter</td>\n",
       "      <td>4.99</td>\n",
       "      <td>5.73</td>\n",
       "      <td>0.65</td>\n",
       "      <td>2.42</td>\n",
       "      <td>83.0</td>\n",
       "      <td>5.3</td>\n",
       "      <td>M</td>\n",
       "      <td>13.79</td>\n",
       "    </tr>\n",
       "  </tbody>\n",
       "</table>\n",
       "</div>"
      ],
      "text/plain": [
       "                          name platform  year_of_release         genre  \\\n",
       "16          Grand Theft Auto V      PS3             2013        Action   \n",
       "23          Grand Theft Auto V     X360             2013        Action   \n",
       "31   Call of Duty: Black Ops 3      PS4             2015       Shooter   \n",
       "33         Pokemon X/Pokemon Y      3DS             2013  Role-Playing   \n",
       "34  Call of Duty: Black Ops II      PS3             2012       Shooter   \n",
       "\n",
       "    na_sales  eu_sales  jp_sales  other_sales  critic_score  user_score  \\\n",
       "16      7.02      9.09      0.98         3.96          97.0         8.2   \n",
       "23      9.66      5.14      0.06         1.41          97.0         8.1   \n",
       "31      6.03      5.86      0.36         2.38          -1.0        -1.0   \n",
       "33      5.28      4.19      4.35         0.78          -1.0        -1.0   \n",
       "34      4.99      5.73      0.65         2.42          83.0         5.3   \n",
       "\n",
       "   rating  total_sales  \n",
       "16      M        21.05  \n",
       "23      M        16.27  \n",
       "31     -1        14.63  \n",
       "33     -1        14.60  \n",
       "34      M        13.79  "
      ]
     },
     "execution_count": 30,
     "metadata": {},
     "output_type": "execute_result"
    }
   ],
   "source": [
    "games_new_top = games_new.query('platform in @top_platforms')\n",
    "games_new_top.head()"
   ]
  },
  {
   "cell_type": "code",
   "execution_count": 31,
   "metadata": {
    "scrolled": true
   },
   "outputs": [
    {
     "data": {
      "text/html": [
       "<div>\n",
       "<style scoped>\n",
       "    .dataframe tbody tr th:only-of-type {\n",
       "        vertical-align: middle;\n",
       "    }\n",
       "\n",
       "    .dataframe tbody tr th {\n",
       "        vertical-align: top;\n",
       "    }\n",
       "\n",
       "    .dataframe thead th {\n",
       "        text-align: right;\n",
       "    }\n",
       "</style>\n",
       "<table border=\"1\" class=\"dataframe\">\n",
       "  <thead>\n",
       "    <tr style=\"text-align: right;\">\n",
       "      <th>year_of_release</th>\n",
       "      <th>2012</th>\n",
       "      <th>2013</th>\n",
       "      <th>2014</th>\n",
       "      <th>2015</th>\n",
       "      <th>2016</th>\n",
       "    </tr>\n",
       "    <tr>\n",
       "      <th>platform</th>\n",
       "      <th></th>\n",
       "      <th></th>\n",
       "      <th></th>\n",
       "      <th></th>\n",
       "      <th></th>\n",
       "    </tr>\n",
       "  </thead>\n",
       "  <tbody>\n",
       "    <tr>\n",
       "      <th>3DS</th>\n",
       "      <td>51.36</td>\n",
       "      <td>56.57</td>\n",
       "      <td>43.76</td>\n",
       "      <td>27.78</td>\n",
       "      <td>15.14</td>\n",
       "    </tr>\n",
       "    <tr>\n",
       "      <th>DS</th>\n",
       "      <td>11.01</td>\n",
       "      <td>1.54</td>\n",
       "      <td>-</td>\n",
       "      <td>-</td>\n",
       "      <td>-</td>\n",
       "    </tr>\n",
       "    <tr>\n",
       "      <th>PC</th>\n",
       "      <td>23.22</td>\n",
       "      <td>12.38</td>\n",
       "      <td>13.28</td>\n",
       "      <td>8.52</td>\n",
       "      <td>5.25</td>\n",
       "    </tr>\n",
       "    <tr>\n",
       "      <th>PS3</th>\n",
       "      <td>107.36</td>\n",
       "      <td>113.25</td>\n",
       "      <td>47.76</td>\n",
       "      <td>16.82</td>\n",
       "      <td>3.6</td>\n",
       "    </tr>\n",
       "    <tr>\n",
       "      <th>PS4</th>\n",
       "      <td>-</td>\n",
       "      <td>25.99</td>\n",
       "      <td>100.0</td>\n",
       "      <td>118.9</td>\n",
       "      <td>69.25</td>\n",
       "    </tr>\n",
       "    <tr>\n",
       "      <th>PSV</th>\n",
       "      <td>16.19</td>\n",
       "      <td>10.59</td>\n",
       "      <td>11.9</td>\n",
       "      <td>6.25</td>\n",
       "      <td>4.25</td>\n",
       "    </tr>\n",
       "    <tr>\n",
       "      <th>Wii</th>\n",
       "      <td>21.71</td>\n",
       "      <td>8.59</td>\n",
       "      <td>3.75</td>\n",
       "      <td>1.14</td>\n",
       "      <td>0.18</td>\n",
       "    </tr>\n",
       "    <tr>\n",
       "      <th>WiiU</th>\n",
       "      <td>17.56</td>\n",
       "      <td>21.65</td>\n",
       "      <td>22.03</td>\n",
       "      <td>16.35</td>\n",
       "      <td>4.6</td>\n",
       "    </tr>\n",
       "    <tr>\n",
       "      <th>X360</th>\n",
       "      <td>99.74</td>\n",
       "      <td>88.58</td>\n",
       "      <td>34.74</td>\n",
       "      <td>11.96</td>\n",
       "      <td>1.52</td>\n",
       "    </tr>\n",
       "    <tr>\n",
       "      <th>XOne</th>\n",
       "      <td>-</td>\n",
       "      <td>18.96</td>\n",
       "      <td>54.07</td>\n",
       "      <td>60.14</td>\n",
       "      <td>26.15</td>\n",
       "    </tr>\n",
       "  </tbody>\n",
       "</table>\n",
       "</div>"
      ],
      "text/plain": [
       "year_of_release    2012    2013   2014   2015   2016\n",
       "platform                                            \n",
       "3DS               51.36   56.57  43.76  27.78  15.14\n",
       "DS                11.01    1.54      -      -      -\n",
       "PC                23.22   12.38  13.28   8.52   5.25\n",
       "PS3              107.36  113.25  47.76  16.82    3.6\n",
       "PS4                   -   25.99  100.0  118.9  69.25\n",
       "PSV               16.19   10.59   11.9   6.25   4.25\n",
       "Wii               21.71    8.59   3.75   1.14   0.18\n",
       "WiiU              17.56   21.65  22.03  16.35    4.6\n",
       "X360              99.74   88.58  34.74  11.96   1.52\n",
       "XOne                  -   18.96  54.07  60.14  26.15"
      ]
     },
     "execution_count": 31,
     "metadata": {},
     "output_type": "execute_result"
    }
   ],
   "source": [
    "# посмотрим на сводную таблицу уже по новым данным\n",
    "games_new_top.pivot_table (index='platform',columns='year_of_release',values='total_sales', aggfunc='sum', fill_value='-')"
   ]
  },
  {
   "cell_type": "markdown",
   "metadata": {},
   "source": [
    "Очевидно, что самой прибыльной платформой является PS4. Пик её выручки приходится на 2015 год, а в 2016 уже наблюдается поадение."
   ]
  },
  {
   "cell_type": "markdown",
   "metadata": {},
   "source": [
    "Построим «ящики с усами» по глобальным продажам каждой игры и c разбивкой по платформам"
   ]
  },
  {
   "cell_type": "code",
   "execution_count": 32,
   "metadata": {
    "scrolled": true
   },
   "outputs": [
    {
     "data": {
      "text/plain": [
       "Text(0, 0.5, 'Глобальные продажи')"
      ]
     },
     "execution_count": 32,
     "metadata": {},
     "output_type": "execute_result"
    },
    {
     "data": {
      "image/png": "[encoded data removed]",
      "text/plain": [
       "<Figure size 864x432 with 1 Axes>"
      ]
     },
     "metadata": {
      "needs_background": "light"
     },
     "output_type": "display_data"
    }
   ],
   "source": [
    "#Отрисуем ящики с усами \n",
    "ax = plt.figure(figsize=(12,6))\n",
    "ax = sns.boxplot(data=games_new_top, x='platform', y='total_sales')\n",
    "ax.set(ylim=(0,2.5))\n",
    "plt.title('Ящик с усами', fontsize=15)\n",
    "plt.xlabel('Платформа', fontsize=12)\n",
    "plt.ylabel('Глобальные продажи',fontsize=12)\n"
   ]
  },
  {
   "cell_type": "markdown",
   "metadata": {},
   "source": [
    "Провели срез данных для того, чтобы отрисовать ящики с усами. \n",
    "- Исходя из графиков видно, что медиана протекает у всех по разному. Заметим, что у платформ ps4, ps3 и wii большая часть значений больше медианного. Наиболее равномерно распределены значения у платформы WiiU.\n",
    "- Больше всех продаж у X360, затем следуют PS4, XOne, WII и PS3. "
   ]
  },
  {
   "cell_type": "code",
   "execution_count": 33,
   "metadata": {},
   "outputs": [
    {
     "name": "stderr",
     "output_type": "stream",
     "text": [
      "/opt/conda/lib/python3.9/site-packages/seaborn/_decorators.py:36: FutureWarning: Pass the following variable as a keyword arg: x. From version 0.12, the only valid positional argument will be `data`, and passing other arguments without an explicit keyword will result in an error or misinterpretation.\n",
      "  warnings.warn(\n"
     ]
    },
    {
     "data": {
      "text/plain": [
       "Text(0.5, 0, 'Выручка, млн дол.')"
      ]
     },
     "execution_count": 33,
     "metadata": {},
     "output_type": "execute_result"
    },
    {
     "data": {
      "image/png": "[encoded data removed]",
      "text/plain": [
       "<Figure size 432x288 with 1 Axes>"
      ]
     },
     "metadata": {
      "needs_background": "light"
     },
     "output_type": "display_data"
    }
   ],
   "source": [
    "p = games_new.groupby('platform')['total_sales'].sum().reset_index()\n",
    "ax = sns.boxplot('total_sales', data=p)\n",
    "ax.set_title('Глобальные сборы по платформам')\n",
    "ax.set_xlabel('Выручка, млн дол.')"
   ]
  },
  {
   "cell_type": "markdown",
   "metadata": {},
   "source": [
    "Основная часть значений находится в промежутке 48 - 220"
   ]
  },
  {
   "cell_type": "code",
   "execution_count": 34,
   "metadata": {},
   "outputs": [
    {
     "data": {
      "text/plain": [
       "Text(0, 0.5, '')"
      ]
     },
     "execution_count": 34,
     "metadata": {},
     "output_type": "execute_result"
    },
    {
     "data": {
      "image/png": "[encoded data removed]",
      "text/plain": [
       "<Figure size 648x648 with 1 Axes>"
      ]
     },
     "metadata": {},
     "output_type": "display_data"
    }
   ],
   "source": [
    "#посмотрим на среднюю выручку платформ по годам за выбранный период\n",
    "revenue_mean = games_new.groupby('platform')['total_sales'].mean()\n",
    "revenue_mean.plot(kind='pie', figsize=(9, 9), autopct='%1.0f%%', shadow=True, title='Доля выручки платформ за 2012-2016 гг.')\n",
    "ax = plt.gca()\n",
    "ax.set_ylabel('')"
   ]
  },
  {
   "cell_type": "markdown",
   "metadata": {},
   "source": [
    "За выбранный период есть несколько лидеров по средним продажам - PS4, X360, PS3, Wii и XOne."
   ]
  },
  {
   "cell_type": "markdown",
   "metadata": {},
   "source": [
    "Посмотрим, как влияют на продажи внутри одной популярной платформы (PS4) отзывы пользователей и критиков. Построим диаграммы рассеяния и посчитаем корреляцию между отзывами и продажами."
   ]
  },
  {
   "cell_type": "code",
   "execution_count": 35,
   "metadata": {},
   "outputs": [],
   "source": [
    "#выделим в отдельную таблицу продажи по PS4\n",
    "games_ps4 = games_new.query('platform == \"PS4\" and user_score != -1 and critic_score != -1')"
   ]
  },
  {
   "cell_type": "code",
   "execution_count": 36,
   "metadata": {},
   "outputs": [
    {
     "data": {
      "text/plain": [
       "Text(0.5, 0, 'Оценка пользователей')"
      ]
     },
     "execution_count": 36,
     "metadata": {},
     "output_type": "execute_result"
    },
    {
     "data": {
      "image/png": "[encoded data removed]",
      "text/plain": [
       "<Figure size 432x288 with 1 Axes>"
      ]
     },
     "metadata": {
      "needs_background": "light"
     },
     "output_type": "display_data"
    }
   ],
   "source": [
    "games_ps4.plot(y='total_sales', x='user_score', kind='scatter', alpha=0.5, title='Зависимость выручки PS4 от оценки пользователей')\n",
    "ax = plt.gca()\n",
    "ax.set_ylabel('Выручка, млн дол.')\n",
    "ax.set_xlabel('Оценка пользователей')"
   ]
  },
  {
   "cell_type": "code",
   "execution_count": 37,
   "metadata": {},
   "outputs": [
    {
     "data": {
      "text/plain": [
       "-0.03362497596528878"
      ]
     },
     "execution_count": 37,
     "metadata": {},
     "output_type": "execute_result"
    }
   ],
   "source": [
    "games_ps4['total_sales'].corr(games_ps4['user_score'])"
   ]
  },
  {
   "cell_type": "code",
   "execution_count": 38,
   "metadata": {},
   "outputs": [
    {
     "data": {
      "text/plain": [
       "Text(0.5, 0, 'Оценка критиков')"
      ]
     },
     "execution_count": 38,
     "metadata": {},
     "output_type": "execute_result"
    },
    {
     "data": {
      "image/png": "[encoded data removed]",
      "text/plain": [
       "<Figure size 432x288 with 1 Axes>"
      ]
     },
     "metadata": {
      "needs_background": "light"
     },
     "output_type": "display_data"
    }
   ],
   "source": [
    "games_ps4.plot(y='total_sales', x='critic_score', kind='scatter', alpha=0.5, title='Зависимость выручки PS4 от оценки критиков')\n",
    "ax = plt.gca()\n",
    "ax.set_ylabel('Выручка, млн дол.')\n",
    "ax.set_xlabel('Оценка критиков')"
   ]
  },
  {
   "cell_type": "code",
   "execution_count": 39,
   "metadata": {},
   "outputs": [
    {
     "data": {
      "text/plain": [
       "0.40589480145836687"
      ]
     },
     "execution_count": 39,
     "metadata": {},
     "output_type": "execute_result"
    }
   ],
   "source": [
    "games_ps4['total_sales'].corr(games_ps4['critic_score'])"
   ]
  },
  {
   "cell_type": "markdown",
   "metadata": {},
   "source": [
    "И по графикам, и по значению корреляции видим, что отзывы критиков в большей степени влияют на продажи, чем отзывы пользователей. Больше всего выручка при оценке критиков 70 и выше."
   ]
  },
  {
   "cell_type": "markdown",
   "metadata": {},
   "source": [
    "Посмотрим как графики и корреляция будут выглядеть для всех десяти платформ."
   ]
  },
  {
   "cell_type": "code",
   "execution_count": 40,
   "metadata": {},
   "outputs": [
    {
     "data": {
      "text/plain": [
       "Text(0.5, 0, 'Оценка пользователей')"
      ]
     },
     "execution_count": 40,
     "metadata": {},
     "output_type": "execute_result"
    },
    {
     "data": {
      "image/png": "[encoded data removed]",
      "text/plain": [
       "<Figure size 432x288 with 1 Axes>"
      ]
     },
     "metadata": {
      "needs_background": "light"
     },
     "output_type": "display_data"
    }
   ],
   "source": [
    "games_new_filtered = games_new.query('user_score != -1 and critic_score != -1')\n",
    "games_new_filtered.plot(y='total_sales', x='user_score', kind='scatter', alpha=0.5, title='Зависимость выручки всех платформ от оценки пользователей')\n",
    "ax = plt.gca()\n",
    "ax.set_ylabel('Выручка, млн дол.')\n",
    "ax.set_xlabel('Оценка пользователей')"
   ]
  },
  {
   "cell_type": "code",
   "execution_count": 41,
   "metadata": {},
   "outputs": [
    {
     "data": {
      "text/plain": [
       "0.0005966665040503188"
      ]
     },
     "execution_count": 41,
     "metadata": {},
     "output_type": "execute_result"
    }
   ],
   "source": [
    "games_new_filtered['total_sales'].corr(games_new_filtered['user_score'])"
   ]
  },
  {
   "cell_type": "code",
   "execution_count": 42,
   "metadata": {},
   "outputs": [
    {
     "data": {
      "text/plain": [
       "Text(0.5, 0, 'Оценка критиков')"
      ]
     },
     "execution_count": 42,
     "metadata": {},
     "output_type": "execute_result"
    },
    {
     "data": {
      "image/png": "[encoded data removed]",
      "text/plain": [
       "<Figure size 432x288 with 1 Axes>"
      ]
     },
     "metadata": {
      "needs_background": "light"
     },
     "output_type": "display_data"
    }
   ],
   "source": [
    "games_new_filtered.plot(y='total_sales', x='critic_score', kind='scatter', alpha=0.5, title='Зависимость выручки всех платформ от оценки критиков')\n",
    "ax = plt.gca()\n",
    "ax.set_ylabel('Выручка, млн дол.')\n",
    "ax.set_xlabel('Оценка критиков')"
   ]
  },
  {
   "cell_type": "code",
   "execution_count": 43,
   "metadata": {},
   "outputs": [
    {
     "data": {
      "text/plain": [
       "0.30651579412925023"
      ]
     },
     "execution_count": 43,
     "metadata": {},
     "output_type": "execute_result"
    }
   ],
   "source": [
    "games_new_filtered['total_sales'].corr(games_new_filtered['critic_score'])"
   ]
  },
  {
   "cell_type": "markdown",
   "metadata": {},
   "source": [
    "При взгляде на два последних графика можно заметить, что разница в корреляции оценка критика/выручка и оценка пользователя/выручка совсем небольшая. Для платформы PS4 она заметнее, а корреляция оценка критика/выручка сильнее."
   ]
  },
  {
   "cell_type": "markdown",
   "metadata": {},
   "source": [
    "Посмотрим на общее распределение игр по жанрам."
   ]
  },
  {
   "cell_type": "code",
   "execution_count": 44,
   "metadata": {
    "scrolled": true
   },
   "outputs": [
    {
     "data": {
      "text/html": [
       "<div>\n",
       "<style scoped>\n",
       "    .dataframe tbody tr th:only-of-type {\n",
       "        vertical-align: middle;\n",
       "    }\n",
       "\n",
       "    .dataframe tbody tr th {\n",
       "        vertical-align: top;\n",
       "    }\n",
       "\n",
       "    .dataframe thead th {\n",
       "        text-align: right;\n",
       "    }\n",
       "</style>\n",
       "<table border=\"1\" class=\"dataframe\">\n",
       "  <thead>\n",
       "    <tr style=\"text-align: right;\">\n",
       "      <th></th>\n",
       "      <th>genre</th>\n",
       "      <th>total_sales</th>\n",
       "    </tr>\n",
       "  </thead>\n",
       "  <tbody>\n",
       "    <tr>\n",
       "      <th>0</th>\n",
       "      <td>Action</td>\n",
       "      <td>441.12</td>\n",
       "    </tr>\n",
       "    <tr>\n",
       "      <th>1</th>\n",
       "      <td>Shooter</td>\n",
       "      <td>304.73</td>\n",
       "    </tr>\n",
       "    <tr>\n",
       "      <th>2</th>\n",
       "      <td>Role-Playing</td>\n",
       "      <td>192.80</td>\n",
       "    </tr>\n",
       "    <tr>\n",
       "      <th>3</th>\n",
       "      <td>Sports</td>\n",
       "      <td>181.07</td>\n",
       "    </tr>\n",
       "    <tr>\n",
       "      <th>4</th>\n",
       "      <td>Misc</td>\n",
       "      <td>85.04</td>\n",
       "    </tr>\n",
       "    <tr>\n",
       "      <th>5</th>\n",
       "      <td>Platform</td>\n",
       "      <td>61.00</td>\n",
       "    </tr>\n",
       "    <tr>\n",
       "      <th>6</th>\n",
       "      <td>Racing</td>\n",
       "      <td>53.50</td>\n",
       "    </tr>\n",
       "    <tr>\n",
       "      <th>7</th>\n",
       "      <td>Fighting</td>\n",
       "      <td>44.49</td>\n",
       "    </tr>\n",
       "    <tr>\n",
       "      <th>8</th>\n",
       "      <td>Simulation</td>\n",
       "      <td>35.12</td>\n",
       "    </tr>\n",
       "    <tr>\n",
       "      <th>9</th>\n",
       "      <td>Adventure</td>\n",
       "      <td>29.43</td>\n",
       "    </tr>\n",
       "    <tr>\n",
       "      <th>10</th>\n",
       "      <td>Strategy</td>\n",
       "      <td>13.34</td>\n",
       "    </tr>\n",
       "    <tr>\n",
       "      <th>11</th>\n",
       "      <td>Puzzle</td>\n",
       "      <td>4.89</td>\n",
       "    </tr>\n",
       "  </tbody>\n",
       "</table>\n",
       "</div>"
      ],
      "text/plain": [
       "           genre  total_sales\n",
       "0         Action       441.12\n",
       "1        Shooter       304.73\n",
       "2   Role-Playing       192.80\n",
       "3         Sports       181.07\n",
       "4           Misc        85.04\n",
       "5       Platform        61.00\n",
       "6         Racing        53.50\n",
       "7       Fighting        44.49\n",
       "8     Simulation        35.12\n",
       "9      Adventure        29.43\n",
       "10      Strategy        13.34\n",
       "11        Puzzle         4.89"
      ]
     },
     "execution_count": 44,
     "metadata": {},
     "output_type": "execute_result"
    }
   ],
   "source": [
    "# Методом сводных таблиц выведем жанры и их продажи.  отсортируем по убыванию. \n",
    "distr_genre = games_new.pivot_table(\n",
    "    index='genre', values='total_sales', aggfunc='sum').sort_values(by='total_sales', ascending=False)\n",
    "distr_genre = distr_genre.reset_index().rename_axis(None, axis=1)\n",
    "distr_genre"
   ]
  },
  {
   "cell_type": "code",
   "execution_count": 45,
   "metadata": {},
   "outputs": [
    {
     "data": {
      "text/plain": [
       "Text(0, 0.5, 'Продажи')"
      ]
     },
     "execution_count": 45,
     "metadata": {},
     "output_type": "execute_result"
    },
    {
     "data": {
      "image/png": "[encoded data removed]",
      "text/plain": [
       "<Figure size 864x432 with 1 Axes>"
      ]
     },
     "metadata": {
      "needs_background": "light"
     },
     "output_type": "display_data"
    }
   ],
   "source": [
    "#Отрисуем барплот чтобы наглядно посмотреть какие жанры лидирует, а какие остаются внизу\n",
    "plt.figure(figsize=(12,6))\n",
    "plt.title('Распределение игр по жанрам ',fontsize=15)\n",
    "sns.barplot(data=distr_genre, x='genre', y='total_sales')\n",
    "plt.xlabel('Жанры игр',fontsize=12)\n",
    "plt.ylabel('Продажи',fontsize=12)"
   ]
  },
  {
   "cell_type": "markdown",
   "metadata": {},
   "source": [
    "Лидируют игры жанра Action, за ними идут жанры Sports и Shooter. Самые низкие сборы у жанров Adventure, Puzzle и Strategy."
   ]
  },
  {
   "cell_type": "code",
   "execution_count": 46,
   "metadata": {
    "scrolled": false
   },
   "outputs": [
    {
     "data": {
      "text/plain": [
       "Text(0, 0.5, 'Глобальные продажи')"
      ]
     },
     "execution_count": 46,
     "metadata": {},
     "output_type": "execute_result"
    },
    {
     "data": {
      "image/png": "[encoded data removed]",
      "text/plain": [
       "<Figure size 864x432 with 1 Axes>"
      ]
     },
     "metadata": {
      "needs_background": "light"
     },
     "output_type": "display_data"
    }
   ],
   "source": [
    "ax = plt.figure(figsize=(12,6))\n",
    "ax = sns.boxplot(data=games_new, x='genre', y='total_sales')\n",
    "ax.set(ylim=(0,2.5))\n",
    "plt.title('Ящик с усами', fontsize=15)\n",
    "plt.xlabel('Жанр', fontsize=12)\n",
    "plt.ylabel('Глобальные продажи',fontsize=12)\n",
    "\n"
   ]
  },
  {
   "cell_type": "markdown",
   "metadata": {},
   "source": [
    "Построили диаграмму размаха, чтобы визуально сравнить распределения. Наблюдаем большую часть значений больше медианного. Степень разброса и асимметрии данных относительно одинаковы, кроме жанров Shooter, Sports и Platform."
   ]
  },
  {
   "cell_type": "markdown",
   "metadata": {},
   "source": [
    "**ВЫВОД**\n",
    "\n",
    "Мы провели исследовательский анализ данных. Для анализа выделили срез данных за 2012-2016 гг, нашли 10 платформ-лидеров по продажам.\n",
    "\n",
    "1. На примере PS4 мы рассмотрели корреляцию оценка критика/выручка и оценка пользователя/выручка и пришли к выводу, что отзывы критиков в большей степени влияют на продажи, чем отзывы пользователей.\n",
    "\n",
    "3. Больше всего выручка у платформы при оценке критиков 70 и выше.\n",
    "\n",
    "4. Самыми прибыльными оказались жанры Action, Sports и Shooter.\n",
    "\n",
    "5. Самые низкие сборы у жанров Adventure, Strategy и Puzzle."
   ]
  },
  {
   "cell_type": "markdown",
   "metadata": {},
   "source": [
    "## Составим портрет пользователя каждого региона"
   ]
  },
  {
   "cell_type": "markdown",
   "metadata": {},
   "source": [
    "Определим для пользователя каждого региона (NA, EU, JP):\n",
    "\n",
    "- самые популярные платформы (топ-5)\n",
    "- самые популярные жанры (топ-5)\n",
    "- влияние рейтинга ESRB на продажи в регионе"
   ]
  },
  {
   "cell_type": "markdown",
   "metadata": {},
   "source": [
    "*Северная Америка*"
   ]
  },
  {
   "cell_type": "code",
   "execution_count": 47,
   "metadata": {},
   "outputs": [
    {
     "data": {
      "text/html": [
       "<div>\n",
       "<style scoped>\n",
       "    .dataframe tbody tr th:only-of-type {\n",
       "        vertical-align: middle;\n",
       "    }\n",
       "\n",
       "    .dataframe tbody tr th {\n",
       "        vertical-align: top;\n",
       "    }\n",
       "\n",
       "    .dataframe thead th {\n",
       "        text-align: right;\n",
       "    }\n",
       "</style>\n",
       "<table border=\"1\" class=\"dataframe\">\n",
       "  <thead>\n",
       "    <tr style=\"text-align: right;\">\n",
       "      <th></th>\n",
       "      <th>platform</th>\n",
       "      <th>na_sales</th>\n",
       "    </tr>\n",
       "  </thead>\n",
       "  <tbody>\n",
       "    <tr>\n",
       "      <th>9</th>\n",
       "      <td>X360</td>\n",
       "      <td>140.05</td>\n",
       "    </tr>\n",
       "    <tr>\n",
       "      <th>4</th>\n",
       "      <td>PS4</td>\n",
       "      <td>108.74</td>\n",
       "    </tr>\n",
       "    <tr>\n",
       "      <th>3</th>\n",
       "      <td>PS3</td>\n",
       "      <td>103.38</td>\n",
       "    </tr>\n",
       "    <tr>\n",
       "      <th>10</th>\n",
       "      <td>XOne</td>\n",
       "      <td>93.12</td>\n",
       "    </tr>\n",
       "    <tr>\n",
       "      <th>0</th>\n",
       "      <td>3DS</td>\n",
       "      <td>55.31</td>\n",
       "    </tr>\n",
       "  </tbody>\n",
       "</table>\n",
       "</div>"
      ],
      "text/plain": [
       "   platform  na_sales\n",
       "9      X360    140.05\n",
       "4       PS4    108.74\n",
       "3       PS3    103.38\n",
       "10     XOne     93.12\n",
       "0       3DS     55.31"
      ]
     },
     "execution_count": 47,
     "metadata": {},
     "output_type": "execute_result"
    }
   ],
   "source": [
    "(games_new\n",
    " .groupby('platform')['na_sales']\n",
    " .sum()\n",
    " .reset_index()\n",
    " .sort_values(by='na_sales', ascending=False)\n",
    " .head(5)\n",
    ")"
   ]
  },
  {
   "cell_type": "code",
   "execution_count": 48,
   "metadata": {},
   "outputs": [
    {
     "data": {
      "text/html": [
       "<div>\n",
       "<style scoped>\n",
       "    .dataframe tbody tr th:only-of-type {\n",
       "        vertical-align: middle;\n",
       "    }\n",
       "\n",
       "    .dataframe tbody tr th {\n",
       "        vertical-align: top;\n",
       "    }\n",
       "\n",
       "    .dataframe thead th {\n",
       "        text-align: right;\n",
       "    }\n",
       "</style>\n",
       "<table border=\"1\" class=\"dataframe\">\n",
       "  <thead>\n",
       "    <tr style=\"text-align: right;\">\n",
       "      <th></th>\n",
       "      <th>genre</th>\n",
       "      <th>na_sales</th>\n",
       "    </tr>\n",
       "  </thead>\n",
       "  <tbody>\n",
       "    <tr>\n",
       "      <th>0</th>\n",
       "      <td>Action</td>\n",
       "      <td>177.84</td>\n",
       "    </tr>\n",
       "    <tr>\n",
       "      <th>8</th>\n",
       "      <td>Shooter</td>\n",
       "      <td>144.77</td>\n",
       "    </tr>\n",
       "    <tr>\n",
       "      <th>10</th>\n",
       "      <td>Sports</td>\n",
       "      <td>81.53</td>\n",
       "    </tr>\n",
       "    <tr>\n",
       "      <th>7</th>\n",
       "      <td>Role-Playing</td>\n",
       "      <td>64.00</td>\n",
       "    </tr>\n",
       "    <tr>\n",
       "      <th>3</th>\n",
       "      <td>Misc</td>\n",
       "      <td>38.19</td>\n",
       "    </tr>\n",
       "  </tbody>\n",
       "</table>\n",
       "</div>"
      ],
      "text/plain": [
       "           genre  na_sales\n",
       "0         Action    177.84\n",
       "8        Shooter    144.77\n",
       "10        Sports     81.53\n",
       "7   Role-Playing     64.00\n",
       "3           Misc     38.19"
      ]
     },
     "execution_count": 48,
     "metadata": {},
     "output_type": "execute_result"
    }
   ],
   "source": [
    "(games_new\n",
    " .groupby('genre')['na_sales']\n",
    " .sum()\n",
    " .reset_index()\n",
    " .sort_values(by='na_sales', ascending=False)\n",
    " .head(5)\n",
    ")"
   ]
  },
  {
   "cell_type": "code",
   "execution_count": 49,
   "metadata": {},
   "outputs": [
    {
     "data": {
      "text/html": [
       "<div>\n",
       "<style scoped>\n",
       "    .dataframe tbody tr th:only-of-type {\n",
       "        vertical-align: middle;\n",
       "    }\n",
       "\n",
       "    .dataframe tbody tr th {\n",
       "        vertical-align: top;\n",
       "    }\n",
       "\n",
       "    .dataframe thead th {\n",
       "        text-align: right;\n",
       "    }\n",
       "</style>\n",
       "<table border=\"1\" class=\"dataframe\">\n",
       "  <thead>\n",
       "    <tr style=\"text-align: right;\">\n",
       "      <th></th>\n",
       "      <th>rating</th>\n",
       "      <th>na_sales</th>\n",
       "    </tr>\n",
       "  </thead>\n",
       "  <tbody>\n",
       "    <tr>\n",
       "      <th>2</th>\n",
       "      <td>M</td>\n",
       "      <td>231.57</td>\n",
       "    </tr>\n",
       "    <tr>\n",
       "      <th>0</th>\n",
       "      <td>E</td>\n",
       "      <td>114.37</td>\n",
       "    </tr>\n",
       "    <tr>\n",
       "      <th>1</th>\n",
       "      <td>E10+</td>\n",
       "      <td>75.70</td>\n",
       "    </tr>\n",
       "    <tr>\n",
       "      <th>3</th>\n",
       "      <td>T</td>\n",
       "      <td>66.02</td>\n",
       "    </tr>\n",
       "  </tbody>\n",
       "</table>\n",
       "</div>"
      ],
      "text/plain": [
       "  rating  na_sales\n",
       "2      M    231.57\n",
       "0      E    114.37\n",
       "1   E10+     75.70\n",
       "3      T     66.02"
      ]
     },
     "execution_count": 49,
     "metadata": {},
     "output_type": "execute_result"
    }
   ],
   "source": [
    "(games_new\n",
    " .query('rating != -1')\n",
    " .groupby('rating')['na_sales']\n",
    " .sum()\n",
    " .reset_index()\n",
    " .sort_values(by='na_sales', ascending=False)\n",
    " .head(5)\n",
    ")"
   ]
  },
  {
   "cell_type": "markdown",
   "metadata": {},
   "source": [
    "Итак, \n",
    "- в Северной Америке лидируют платформы X360, PS4 и PS3\n",
    "- самые популярные жанры - Action, Shooter, Sports, Role-Playing и Misc\n",
    "- лидирует рейтинг \"М\", затем идут \"Е\" и \"Е10+\""
   ]
  },
  {
   "cell_type": "markdown",
   "metadata": {},
   "source": [
    "*Европа*"
   ]
  },
  {
   "cell_type": "code",
   "execution_count": 50,
   "metadata": {},
   "outputs": [
    {
     "data": {
      "text/html": [
       "<div>\n",
       "<style scoped>\n",
       "    .dataframe tbody tr th:only-of-type {\n",
       "        vertical-align: middle;\n",
       "    }\n",
       "\n",
       "    .dataframe tbody tr th {\n",
       "        vertical-align: top;\n",
       "    }\n",
       "\n",
       "    .dataframe thead th {\n",
       "        text-align: right;\n",
       "    }\n",
       "</style>\n",
       "<table border=\"1\" class=\"dataframe\">\n",
       "  <thead>\n",
       "    <tr style=\"text-align: right;\">\n",
       "      <th></th>\n",
       "      <th>platform</th>\n",
       "      <th>eu_sales</th>\n",
       "    </tr>\n",
       "  </thead>\n",
       "  <tbody>\n",
       "    <tr>\n",
       "      <th>4</th>\n",
       "      <td>PS4</td>\n",
       "      <td>141.09</td>\n",
       "    </tr>\n",
       "    <tr>\n",
       "      <th>3</th>\n",
       "      <td>PS3</td>\n",
       "      <td>106.86</td>\n",
       "    </tr>\n",
       "    <tr>\n",
       "      <th>9</th>\n",
       "      <td>X360</td>\n",
       "      <td>74.52</td>\n",
       "    </tr>\n",
       "    <tr>\n",
       "      <th>10</th>\n",
       "      <td>XOne</td>\n",
       "      <td>51.59</td>\n",
       "    </tr>\n",
       "    <tr>\n",
       "      <th>0</th>\n",
       "      <td>3DS</td>\n",
       "      <td>42.64</td>\n",
       "    </tr>\n",
       "  </tbody>\n",
       "</table>\n",
       "</div>"
      ],
      "text/plain": [
       "   platform  eu_sales\n",
       "4       PS4    141.09\n",
       "3       PS3    106.86\n",
       "9      X360     74.52\n",
       "10     XOne     51.59\n",
       "0       3DS     42.64"
      ]
     },
     "execution_count": 50,
     "metadata": {},
     "output_type": "execute_result"
    }
   ],
   "source": [
    "(games_new\n",
    " .groupby('platform')['eu_sales']\n",
    " .sum()\n",
    " .reset_index()\n",
    " .sort_values(by='eu_sales', ascending=False)\n",
    " .head(5)\n",
    ")"
   ]
  },
  {
   "cell_type": "code",
   "execution_count": 51,
   "metadata": {},
   "outputs": [
    {
     "data": {
      "text/html": [
       "<div>\n",
       "<style scoped>\n",
       "    .dataframe tbody tr th:only-of-type {\n",
       "        vertical-align: middle;\n",
       "    }\n",
       "\n",
       "    .dataframe tbody tr th {\n",
       "        vertical-align: top;\n",
       "    }\n",
       "\n",
       "    .dataframe thead th {\n",
       "        text-align: right;\n",
       "    }\n",
       "</style>\n",
       "<table border=\"1\" class=\"dataframe\">\n",
       "  <thead>\n",
       "    <tr style=\"text-align: right;\">\n",
       "      <th></th>\n",
       "      <th>genre</th>\n",
       "      <th>eu_sales</th>\n",
       "    </tr>\n",
       "  </thead>\n",
       "  <tbody>\n",
       "    <tr>\n",
       "      <th>0</th>\n",
       "      <td>Action</td>\n",
       "      <td>159.34</td>\n",
       "    </tr>\n",
       "    <tr>\n",
       "      <th>8</th>\n",
       "      <td>Shooter</td>\n",
       "      <td>113.47</td>\n",
       "    </tr>\n",
       "    <tr>\n",
       "      <th>10</th>\n",
       "      <td>Sports</td>\n",
       "      <td>69.09</td>\n",
       "    </tr>\n",
       "    <tr>\n",
       "      <th>7</th>\n",
       "      <td>Role-Playing</td>\n",
       "      <td>48.53</td>\n",
       "    </tr>\n",
       "    <tr>\n",
       "      <th>6</th>\n",
       "      <td>Racing</td>\n",
       "      <td>27.29</td>\n",
       "    </tr>\n",
       "  </tbody>\n",
       "</table>\n",
       "</div>"
      ],
      "text/plain": [
       "           genre  eu_sales\n",
       "0         Action    159.34\n",
       "8        Shooter    113.47\n",
       "10        Sports     69.09\n",
       "7   Role-Playing     48.53\n",
       "6         Racing     27.29"
      ]
     },
     "execution_count": 51,
     "metadata": {},
     "output_type": "execute_result"
    }
   ],
   "source": [
    "(games_new\n",
    " .groupby('genre')['eu_sales']\n",
    " .sum()\n",
    " .reset_index()\n",
    " .sort_values(by='eu_sales', ascending=False)\n",
    " .head(5)\n",
    ")"
   ]
  },
  {
   "cell_type": "code",
   "execution_count": 52,
   "metadata": {},
   "outputs": [
    {
     "data": {
      "text/html": [
       "<div>\n",
       "<style scoped>\n",
       "    .dataframe tbody tr th:only-of-type {\n",
       "        vertical-align: middle;\n",
       "    }\n",
       "\n",
       "    .dataframe tbody tr th {\n",
       "        vertical-align: top;\n",
       "    }\n",
       "\n",
       "    .dataframe thead th {\n",
       "        text-align: right;\n",
       "    }\n",
       "</style>\n",
       "<table border=\"1\" class=\"dataframe\">\n",
       "  <thead>\n",
       "    <tr style=\"text-align: right;\">\n",
       "      <th></th>\n",
       "      <th>rating</th>\n",
       "      <th>eu_sales</th>\n",
       "    </tr>\n",
       "  </thead>\n",
       "  <tbody>\n",
       "    <tr>\n",
       "      <th>2</th>\n",
       "      <td>M</td>\n",
       "      <td>193.96</td>\n",
       "    </tr>\n",
       "    <tr>\n",
       "      <th>0</th>\n",
       "      <td>E</td>\n",
       "      <td>113.03</td>\n",
       "    </tr>\n",
       "    <tr>\n",
       "      <th>1</th>\n",
       "      <td>E10+</td>\n",
       "      <td>55.37</td>\n",
       "    </tr>\n",
       "    <tr>\n",
       "      <th>3</th>\n",
       "      <td>T</td>\n",
       "      <td>52.96</td>\n",
       "    </tr>\n",
       "  </tbody>\n",
       "</table>\n",
       "</div>"
      ],
      "text/plain": [
       "  rating  eu_sales\n",
       "2      M    193.96\n",
       "0      E    113.03\n",
       "1   E10+     55.37\n",
       "3      T     52.96"
      ]
     },
     "execution_count": 52,
     "metadata": {},
     "output_type": "execute_result"
    }
   ],
   "source": [
    "(games_new\n",
    " .query('rating != -1')\n",
    " .groupby('rating')['eu_sales']\n",
    " .sum()\n",
    " .reset_index()\n",
    " .sort_values(by='eu_sales', ascending=False)\n",
    " .head(5)\n",
    ")"
   ]
  },
  {
   "cell_type": "markdown",
   "metadata": {},
   "source": [
    "- в Европе лидируют все те же приставки, но распределение немного другое, здесь в топе PS4, затем PS3 и X360\n",
    "- самые популярные жанры все те же - Action, Shooter, Sport, Role-Playing и Racing, жанр, которого не было среди популярных в Северной Америке\n",
    "- также лидируют рейтинги \"М\" и \"Е\""
   ]
  },
  {
   "cell_type": "markdown",
   "metadata": {},
   "source": [
    "*Япония*"
   ]
  },
  {
   "cell_type": "code",
   "execution_count": 53,
   "metadata": {},
   "outputs": [
    {
     "data": {
      "text/html": [
       "<div>\n",
       "<style scoped>\n",
       "    .dataframe tbody tr th:only-of-type {\n",
       "        vertical-align: middle;\n",
       "    }\n",
       "\n",
       "    .dataframe tbody tr th {\n",
       "        vertical-align: top;\n",
       "    }\n",
       "\n",
       "    .dataframe thead th {\n",
       "        text-align: right;\n",
       "    }\n",
       "</style>\n",
       "<table border=\"1\" class=\"dataframe\">\n",
       "  <thead>\n",
       "    <tr style=\"text-align: right;\">\n",
       "      <th></th>\n",
       "      <th>platform</th>\n",
       "      <th>jp_sales</th>\n",
       "    </tr>\n",
       "  </thead>\n",
       "  <tbody>\n",
       "    <tr>\n",
       "      <th>0</th>\n",
       "      <td>3DS</td>\n",
       "      <td>87.79</td>\n",
       "    </tr>\n",
       "    <tr>\n",
       "      <th>3</th>\n",
       "      <td>PS3</td>\n",
       "      <td>35.29</td>\n",
       "    </tr>\n",
       "    <tr>\n",
       "      <th>6</th>\n",
       "      <td>PSV</td>\n",
       "      <td>21.04</td>\n",
       "    </tr>\n",
       "    <tr>\n",
       "      <th>4</th>\n",
       "      <td>PS4</td>\n",
       "      <td>15.96</td>\n",
       "    </tr>\n",
       "    <tr>\n",
       "      <th>8</th>\n",
       "      <td>WiiU</td>\n",
       "      <td>13.01</td>\n",
       "    </tr>\n",
       "  </tbody>\n",
       "</table>\n",
       "</div>"
      ],
      "text/plain": [
       "  platform  jp_sales\n",
       "0      3DS     87.79\n",
       "3      PS3     35.29\n",
       "6      PSV     21.04\n",
       "4      PS4     15.96\n",
       "8     WiiU     13.01"
      ]
     },
     "execution_count": 53,
     "metadata": {},
     "output_type": "execute_result"
    }
   ],
   "source": [
    "(games_new\n",
    ".groupby('platform')['jp_sales']\n",
    ".sum()\n",
    ".reset_index()\n",
    ".sort_values(by='jp_sales', ascending=False )\n",
    ".head(5)\n",
    ")"
   ]
  },
  {
   "cell_type": "code",
   "execution_count": 54,
   "metadata": {},
   "outputs": [
    {
     "data": {
      "text/html": [
       "<div>\n",
       "<style scoped>\n",
       "    .dataframe tbody tr th:only-of-type {\n",
       "        vertical-align: middle;\n",
       "    }\n",
       "\n",
       "    .dataframe tbody tr th {\n",
       "        vertical-align: top;\n",
       "    }\n",
       "\n",
       "    .dataframe thead th {\n",
       "        text-align: right;\n",
       "    }\n",
       "</style>\n",
       "<table border=\"1\" class=\"dataframe\">\n",
       "  <thead>\n",
       "    <tr style=\"text-align: right;\">\n",
       "      <th></th>\n",
       "      <th>genre</th>\n",
       "      <th>jp_sales</th>\n",
       "    </tr>\n",
       "  </thead>\n",
       "  <tbody>\n",
       "    <tr>\n",
       "      <th>7</th>\n",
       "      <td>Role-Playing</td>\n",
       "      <td>65.44</td>\n",
       "    </tr>\n",
       "    <tr>\n",
       "      <th>0</th>\n",
       "      <td>Action</td>\n",
       "      <td>52.80</td>\n",
       "    </tr>\n",
       "    <tr>\n",
       "      <th>3</th>\n",
       "      <td>Misc</td>\n",
       "      <td>12.86</td>\n",
       "    </tr>\n",
       "    <tr>\n",
       "      <th>9</th>\n",
       "      <td>Simulation</td>\n",
       "      <td>10.41</td>\n",
       "    </tr>\n",
       "    <tr>\n",
       "      <th>2</th>\n",
       "      <td>Fighting</td>\n",
       "      <td>9.44</td>\n",
       "    </tr>\n",
       "  </tbody>\n",
       "</table>\n",
       "</div>"
      ],
      "text/plain": [
       "          genre  jp_sales\n",
       "7  Role-Playing     65.44\n",
       "0        Action     52.80\n",
       "3          Misc     12.86\n",
       "9    Simulation     10.41\n",
       "2      Fighting      9.44"
      ]
     },
     "execution_count": 54,
     "metadata": {},
     "output_type": "execute_result"
    }
   ],
   "source": [
    "(games_new\n",
    ".groupby('genre')['jp_sales']\n",
    ".sum()\n",
    ".reset_index()\n",
    ".sort_values(by='jp_sales', ascending=False)\n",
    ".head(5)\n",
    ")"
   ]
  },
  {
   "cell_type": "code",
   "execution_count": 55,
   "metadata": {},
   "outputs": [
    {
     "data": {
      "text/html": [
       "<div>\n",
       "<style scoped>\n",
       "    .dataframe tbody tr th:only-of-type {\n",
       "        vertical-align: middle;\n",
       "    }\n",
       "\n",
       "    .dataframe tbody tr th {\n",
       "        vertical-align: top;\n",
       "    }\n",
       "\n",
       "    .dataframe thead th {\n",
       "        text-align: right;\n",
       "    }\n",
       "</style>\n",
       "<table border=\"1\" class=\"dataframe\">\n",
       "  <thead>\n",
       "    <tr style=\"text-align: right;\">\n",
       "      <th></th>\n",
       "      <th>rating</th>\n",
       "      <th>jp_sales</th>\n",
       "    </tr>\n",
       "  </thead>\n",
       "  <tbody>\n",
       "    <tr>\n",
       "      <th>0</th>\n",
       "      <td>E</td>\n",
       "      <td>28.33</td>\n",
       "    </tr>\n",
       "    <tr>\n",
       "      <th>3</th>\n",
       "      <td>T</td>\n",
       "      <td>26.02</td>\n",
       "    </tr>\n",
       "    <tr>\n",
       "      <th>2</th>\n",
       "      <td>M</td>\n",
       "      <td>21.20</td>\n",
       "    </tr>\n",
       "    <tr>\n",
       "      <th>1</th>\n",
       "      <td>E10+</td>\n",
       "      <td>8.19</td>\n",
       "    </tr>\n",
       "  </tbody>\n",
       "</table>\n",
       "</div>"
      ],
      "text/plain": [
       "  rating  jp_sales\n",
       "0      E     28.33\n",
       "3      T     26.02\n",
       "2      M     21.20\n",
       "1   E10+      8.19"
      ]
     },
     "execution_count": 55,
     "metadata": {},
     "output_type": "execute_result"
    }
   ],
   "source": [
    "(games_new\n",
    ".query('rating != -1')\n",
    ".groupby('rating')['jp_sales']\n",
    ".sum()\n",
    ".reset_index()\n",
    ".sort_values(by='jp_sales', ascending=False)\n",
    ".head(5)\n",
    ")"
   ]
  },
  {
   "cell_type": "markdown",
   "metadata": {},
   "source": [
    "- А Японии лидируют совсем другие платформы - 3DS, PSP, PSV\n",
    "- в том 3 самых популярных жанра - Role-Playing, Misc, Action (совсем неагрессивные)\n",
    "- самые большие продажи у рейтингов \"E\" (для всех) и \"T\" (для подростков). \n",
    "\n",
    "Похоже, в Японии с уровнем стресса всё в порядке."
   ]
  },
  {
   "cell_type": "markdown",
   "metadata": {},
   "source": [
    "*Другие страны*"
   ]
  },
  {
   "cell_type": "code",
   "execution_count": 56,
   "metadata": {},
   "outputs": [
    {
     "data": {
      "text/html": [
       "<div>\n",
       "<style scoped>\n",
       "    .dataframe tbody tr th:only-of-type {\n",
       "        vertical-align: middle;\n",
       "    }\n",
       "\n",
       "    .dataframe tbody tr th {\n",
       "        vertical-align: top;\n",
       "    }\n",
       "\n",
       "    .dataframe thead th {\n",
       "        text-align: right;\n",
       "    }\n",
       "</style>\n",
       "<table border=\"1\" class=\"dataframe\">\n",
       "  <thead>\n",
       "    <tr style=\"text-align: right;\">\n",
       "      <th></th>\n",
       "      <th>platform</th>\n",
       "      <th>other_sales</th>\n",
       "    </tr>\n",
       "  </thead>\n",
       "  <tbody>\n",
       "    <tr>\n",
       "      <th>4</th>\n",
       "      <td>PS4</td>\n",
       "      <td>48.35</td>\n",
       "    </tr>\n",
       "    <tr>\n",
       "      <th>3</th>\n",
       "      <td>PS3</td>\n",
       "      <td>43.26</td>\n",
       "    </tr>\n",
       "    <tr>\n",
       "      <th>9</th>\n",
       "      <td>X360</td>\n",
       "      <td>20.40</td>\n",
       "    </tr>\n",
       "    <tr>\n",
       "      <th>10</th>\n",
       "      <td>XOne</td>\n",
       "      <td>14.27</td>\n",
       "    </tr>\n",
       "    <tr>\n",
       "      <th>0</th>\n",
       "      <td>3DS</td>\n",
       "      <td>8.87</td>\n",
       "    </tr>\n",
       "  </tbody>\n",
       "</table>\n",
       "</div>"
      ],
      "text/plain": [
       "   platform  other_sales\n",
       "4       PS4        48.35\n",
       "3       PS3        43.26\n",
       "9      X360        20.40\n",
       "10     XOne        14.27\n",
       "0       3DS         8.87"
      ]
     },
     "execution_count": 56,
     "metadata": {},
     "output_type": "execute_result"
    }
   ],
   "source": [
    "(games_new\n",
    ".groupby('platform')['other_sales']\n",
    ".sum()\n",
    ".reset_index()\n",
    ".sort_values(by='other_sales', ascending=False)\n",
    ".head(5)\n",
    ")"
   ]
  },
  {
   "cell_type": "code",
   "execution_count": 57,
   "metadata": {},
   "outputs": [
    {
     "data": {
      "text/html": [
       "<div>\n",
       "<style scoped>\n",
       "    .dataframe tbody tr th:only-of-type {\n",
       "        vertical-align: middle;\n",
       "    }\n",
       "\n",
       "    .dataframe tbody tr th {\n",
       "        vertical-align: top;\n",
       "    }\n",
       "\n",
       "    .dataframe thead th {\n",
       "        text-align: right;\n",
       "    }\n",
       "</style>\n",
       "<table border=\"1\" class=\"dataframe\">\n",
       "  <thead>\n",
       "    <tr style=\"text-align: right;\">\n",
       "      <th></th>\n",
       "      <th>genre</th>\n",
       "      <th>other_sales</th>\n",
       "    </tr>\n",
       "  </thead>\n",
       "  <tbody>\n",
       "    <tr>\n",
       "      <th>0</th>\n",
       "      <td>Action</td>\n",
       "      <td>51.14</td>\n",
       "    </tr>\n",
       "    <tr>\n",
       "      <th>8</th>\n",
       "      <td>Shooter</td>\n",
       "      <td>37.26</td>\n",
       "    </tr>\n",
       "    <tr>\n",
       "      <th>10</th>\n",
       "      <td>Sports</td>\n",
       "      <td>22.44</td>\n",
       "    </tr>\n",
       "    <tr>\n",
       "      <th>7</th>\n",
       "      <td>Role-Playing</td>\n",
       "      <td>14.83</td>\n",
       "    </tr>\n",
       "    <tr>\n",
       "      <th>3</th>\n",
       "      <td>Misc</td>\n",
       "      <td>7.67</td>\n",
       "    </tr>\n",
       "  </tbody>\n",
       "</table>\n",
       "</div>"
      ],
      "text/plain": [
       "           genre  other_sales\n",
       "0         Action        51.14\n",
       "8        Shooter        37.26\n",
       "10        Sports        22.44\n",
       "7   Role-Playing        14.83\n",
       "3           Misc         7.67"
      ]
     },
     "execution_count": 57,
     "metadata": {},
     "output_type": "execute_result"
    }
   ],
   "source": [
    "(games_new\n",
    ".groupby('genre')['other_sales']\n",
    ".sum()\n",
    ".reset_index()\n",
    ".sort_values(by='other_sales', ascending=False)\n",
    ".head(5)\n",
    ")"
   ]
  },
  {
   "cell_type": "code",
   "execution_count": 58,
   "metadata": {},
   "outputs": [
    {
     "data": {
      "text/html": [
       "<div>\n",
       "<style scoped>\n",
       "    .dataframe tbody tr th:only-of-type {\n",
       "        vertical-align: middle;\n",
       "    }\n",
       "\n",
       "    .dataframe tbody tr th {\n",
       "        vertical-align: top;\n",
       "    }\n",
       "\n",
       "    .dataframe thead th {\n",
       "        text-align: right;\n",
       "    }\n",
       "</style>\n",
       "<table border=\"1\" class=\"dataframe\">\n",
       "  <thead>\n",
       "    <tr style=\"text-align: right;\">\n",
       "      <th></th>\n",
       "      <th>rating</th>\n",
       "      <th>other_sales</th>\n",
       "    </tr>\n",
       "  </thead>\n",
       "  <tbody>\n",
       "    <tr>\n",
       "      <th>2</th>\n",
       "      <td>M</td>\n",
       "      <td>63.38</td>\n",
       "    </tr>\n",
       "    <tr>\n",
       "      <th>0</th>\n",
       "      <td>E</td>\n",
       "      <td>31.44</td>\n",
       "    </tr>\n",
       "    <tr>\n",
       "      <th>3</th>\n",
       "      <td>T</td>\n",
       "      <td>17.94</td>\n",
       "    </tr>\n",
       "    <tr>\n",
       "      <th>1</th>\n",
       "      <td>E10+</td>\n",
       "      <td>16.23</td>\n",
       "    </tr>\n",
       "  </tbody>\n",
       "</table>\n",
       "</div>"
      ],
      "text/plain": [
       "  rating  other_sales\n",
       "2      M        63.38\n",
       "0      E        31.44\n",
       "3      T        17.94\n",
       "1   E10+        16.23"
      ]
     },
     "execution_count": 58,
     "metadata": {},
     "output_type": "execute_result"
    }
   ],
   "source": [
    "(games_new\n",
    ".query('rating != -1')\n",
    ".groupby('rating')['other_sales']\n",
    ".sum()\n",
    ".reset_index()\n",
    ".sort_values(by='other_sales', ascending=False)\n",
    ".head(5)\n",
    ")"
   ]
  },
  {
   "cell_type": "markdown",
   "metadata": {},
   "source": [
    "**ВЫВОД**\n",
    "\n",
    "В *Северной Америке* и *Европе* картина примерно одинакова:\n",
    "\n",
    "лидируют платформы X360, Wii и DS, PS3 с небольшой разницей в распределении продаж.\n",
    "самые популярные жанры - Action, Sports,Shooter, Misc\n",
    "с большим отрывом по продажам лидирует рейтинг E (для всех), на втором месте M (18+)\n",
    "\n",
    "\n",
    "В *Японии* немного по-другому:\n",
    "\n",
    "лидируют совсем другие платформы - 3DS, WiiU, DS, PSP, PS3\n",
    "самые популярные жанры - Role-Playing, Platform, Sports, Misc, Action. В Японии популярные жанры выглядят более безобидно\n",
    "самые большие продажи у рейтингов E (для всех) и T (для подростков). Похоже, в Японии выбирают более спокойные игры.\n",
    "\n",
    "\n",
    "*Другие страны*:\n",
    "\n",
    "для остальных стран портрет потребителя примерно одинаков с потребителями из СА и Европы. Лидируют те же платформы, жанры и рейтинги. Выходит, Япония - достаточно специфический рынок, к которому нужен особый подход в плане рекламных кампаний."
   ]
  },
  {
   "cell_type": "markdown",
   "metadata": {},
   "source": [
    "## Проверим гипотезы"
   ]
  },
  {
   "cell_type": "markdown",
   "metadata": {},
   "source": [
    "**- Средние пользовательские рейтинги платформ Xbox One и PC одинаковые**\n",
    "\n",
    "Сформулируем нулевую и альтернативную гипотезы. Нулевую гипотезу будем формулировать так, чтобы использовать знак равенства. Альтернативную гипотезу сформулируем оттакливаясь от нулевой гипотезы.\n",
    "\n",
    "*$H_0$ - средние пользовательские рейтинги платформ Xbox One и PC равны*\n",
    "\n",
    "*$H_1$ - средние пользовательские рейтинги платформ Xbox One и PC не равны*"
   ]
  },
  {
   "cell_type": "code",
   "execution_count": 59,
   "metadata": {},
   "outputs": [],
   "source": [
    "# зададим критический уровень статистической значимости\n",
    "alpha = .05"
   ]
  },
  {
   "cell_type": "code",
   "execution_count": 60,
   "metadata": {},
   "outputs": [],
   "source": [
    "xone = games_new_filtered.query('platform == \"XOne\"')\n",
    "pc = games_new_filtered.query('platform == \"PC\"')"
   ]
  },
  {
   "cell_type": "code",
   "execution_count": 61,
   "metadata": {},
   "outputs": [
    {
     "name": "stdout",
     "output_type": "stream",
     "text": [
      "p-значение: 0.5991315923632393\n",
      "Не получилось отвергнуть нулевую гипотезу\n",
      "\n",
      "Cредний пользовательский рейтинг платформы Xbox One - 6.54\n",
      "Cредний пользовательский рейтинг платформы PC - 6.45\n"
     ]
    }
   ],
   "source": [
    "results = st.ttest_ind(\n",
    "    xone['user_score'],\n",
    "    pc['user_score'],\n",
    ")\n",
    "\n",
    "print('p-значение:', results.pvalue)\n",
    "\n",
    "if (results.pvalue < alpha):\n",
    "    print(\"Отвергаем нулевую гипотезу\")\n",
    "else:\n",
    "    print(\"Не получилось отвергнуть нулевую гипотезу\")\n",
    "    \n",
    "print()    \n",
    "print('Cредний пользовательский рейтинг платформы Xbox One -', xone['user_score'].mean().round(2))\n",
    "print('Cредний пользовательский рейтинг платформы PC -', pc['user_score'].mean().round(2))"
   ]
  },
  {
   "cell_type": "markdown",
   "metadata": {},
   "source": [
    "**- Cредние пользовательские рейтинги жанров Action (англ. «действие», экшен-игры) и Sports (англ. «спортивные соревнования») разные**\n",
    "\n",
    "*$H_0$ - средние пользовательские рейтинги жанров Action и Sports равны*\n",
    "\n",
    "*$H_1$ - средние пользовательские рейтинги жанров Action и Sports не равны*"
   ]
  },
  {
   "cell_type": "code",
   "execution_count": 62,
   "metadata": {},
   "outputs": [],
   "source": [
    "action = games_new_filtered.query('genre == \"Action\"')\n",
    "sports = games_new_filtered.query('genre == \"Sports\"')"
   ]
  },
  {
   "cell_type": "code",
   "execution_count": 63,
   "metadata": {
    "scrolled": true
   },
   "outputs": [
    {
     "name": "stdout",
     "output_type": "stream",
     "text": [
      "p-значение: 9.13633279873618e-16\n",
      "Отвергаем нулевую гипотезу\n",
      "\n",
      "Cредний пользовательский рейтинг жанра Action - 6.9\n",
      "Cредний пользовательский рейтинг жанра Sports - 5.82\n"
     ]
    }
   ],
   "source": [
    "results = st.ttest_ind(\n",
    "    action['user_score'],\n",
    "    sports['user_score'],\n",
    ")\n",
    "\n",
    "print('p-значение:', results.pvalue)\n",
    "\n",
    "if (results.pvalue < alpha):\n",
    "    print(\"Отвергаем нулевую гипотезу\")\n",
    "else:\n",
    "    print(\"Не получилось отвергнуть нулевую гипотезу\")\n",
    "    \n",
    "print()    \n",
    "print('Cредний пользовательский рейтинг жанра Action -', action['user_score'].mean().round(2))\n",
    "print('Cредний пользовательский рейтинг жанра Sports -', sports['user_score'].mean().round(2))"
   ]
  },
  {
   "cell_type": "markdown",
   "metadata": {},
   "source": [
    "Мы проверили обе гипотезы. Отвергли вторую, первую отвергнуть не получилось."
   ]
  },
  {
   "cell_type": "markdown",
   "metadata": {},
   "source": [
    "## Общий вывод"
   ]
  },
  {
   "cell_type": "markdown",
   "metadata": {},
   "source": [
    "В ходе работы мы:\n",
    "\n",
    "- ознакомились с предоставленными данными, выявили ошибки и пропуски в датасете и обработали их: привели названия столбцов к нижнему регистру, преобразовали данные в нужные типы, заполнили пропуски, посчитали суммарные продажи во всех регионах и добавили в датасет.\n",
    "\n",
    "- провели исследовательский анализ данных, выделили срез данных за 2012-2016 гг\n",
    "\n",
    "- нашли 10 платформ-лидеров по продажам: PS4, PS3, X360, 3DS, XOne, WiiU, PC, PSV, Wii, DS\n",
    "\n",
    "Выяснили, что:\n",
    "\n",
    "- В промежутке исследуемых 5 лет (включая данные за 2016 год) пик прибыли у большинства платформ приходится на 2013-2014 годы. Позднее выручка упала. Назвать потенциально прибыльной (учитывая, что в нашем распоряжении данные не за полный 2016 год) можно только платформу PS4.\n",
    "\n",
    "- На примере PS4 рассмотрели корреляцию оценка критика/выручка и оценка пользователя/выручка и пришли к выводу, что отзывы критиков в большей степени влияют на продажи, чем отзывы пользователей.\n",
    "\n",
    "- Больше всего выручка у платформы при оценке критиков 70 и выше.\n",
    "\n",
    "- Самыми прибыльными оказались жанры Action, Sports и Shooter.\n",
    "\n",
    "- Самые низкие сборы у жанров Adventure, Puzzle и Strategy.\n",
    "\n",
    "*Составили портрет пользователей в Северной Америке, Европе и Японии:*\n",
    "\n",
    "В Северной Америке и Европе картина примерно одинакова:\n",
    "\n",
    "- лидируют платформы X360, Wii и DS, PS3 с небольшой разницей в распределении продаж.\n",
    "- самые популярные жанры - Action, Sports,Shooter, Misc\n",
    "- с большим отрывом по продажам лидирует рейтинг E (для всех), на втором месте M (18+)\n",
    "\n",
    "\n",
    "В Японии немного по-другому:\n",
    "\n",
    "- лидируют совсем другие платформы - 3DS, WiiU, DS, PSP, PS3\n",
    "- самые популярные жанры - Role-Playing, Platform, Sports, Misc, Action. В Японии популярные жанры выглядят более безобидно\n",
    "- самые большие продажи у рейтингов E (для всех) и T (для подростков). Похоже, в Японии выбирают более спокойные игры.\n",
    "\n",
    "\n",
    "Другие страны:\n",
    "\n",
    "- для остальных стран портрет потребителя примерно одинаков с потребителями из СА и Европы. Лидируют те же платформы, жанры и рейтинги. Выходит, Япония - достаточно специфический рынок, к которому нужен особый подход в плане рекламных кампаний.\n",
    "\n",
    "\n",
    "Проверили следующие две гипотезы:\n",
    "\n",
    "1. средние пользовательские рейтинги платформ Xbox One и PC равны - не отвергли\n",
    "2. средние пользовательские рейтинги жанров Action и Sports равны - отвергли\n",
    "\n",
    "Планируя рекламную кампанию на 2017 год стоит обратить особое внимание на продвижение платформы PS4 , а также платформ X360и Wii, и в особенности игр в жанрах Action, Sports, Shooter.\n",
    "\n",
    "Стоит также не забывать об особенностях рынка и подстроить рекламу конкретно под него. На примере Японии мы разобрали, как требования потребителей одной страны могут отличаться от предпочтений основной массы пользователей"
   ]
  }
 ],
 "metadata": {
  "ExecuteTimeLog": [
   {
    "duration": 1284,
    "start_time": "2022-03-22T11:34:13.584Z"
   },
   {
    "duration": 54,
    "start_time": "2022-03-22T11:35:23.232Z"
   },
   {
    "duration": 104,
    "start_time": "2022-03-22T11:36:51.380Z"
   },
   {
    "duration": 19,
    "start_time": "2022-03-22T11:36:56.156Z"
   },
   {
    "duration": 55,
    "start_time": "2022-03-22T11:37:04.400Z"
   },
   {
    "duration": 13,
    "start_time": "2022-03-22T11:37:41.972Z"
   },
   {
    "duration": 15,
    "start_time": "2022-03-22T11:37:48.004Z"
   },
   {
    "duration": 5,
    "start_time": "2022-03-22T11:39:21.832Z"
   },
   {
    "duration": 3,
    "start_time": "2022-03-22T12:06:31.969Z"
   },
   {
    "duration": 5,
    "start_time": "2022-03-22T12:11:11.318Z"
   },
   {
    "duration": 4,
    "start_time": "2022-03-22T12:14:37.219Z"
   },
   {
    "duration": 5,
    "start_time": "2022-03-22T12:21:05.851Z"
   },
   {
    "duration": 2986,
    "start_time": "2022-03-22T12:40:25.773Z"
   },
   {
    "duration": 981,
    "start_time": "2022-03-22T12:40:41.385Z"
   },
   {
    "duration": 11,
    "start_time": "2022-03-22T12:40:50.218Z"
   },
   {
    "duration": 18,
    "start_time": "2022-03-22T12:43:04.397Z"
   },
   {
    "duration": 8,
    "start_time": "2022-03-22T12:47:05.066Z"
   },
   {
    "duration": 14,
    "start_time": "2022-03-22T15:02:31.190Z"
   },
   {
    "duration": 3,
    "start_time": "2022-03-22T15:02:52.011Z"
   },
   {
    "duration": 5,
    "start_time": "2022-03-22T15:06:27.612Z"
   },
   {
    "duration": 15,
    "start_time": "2022-03-22T15:06:40.352Z"
   },
   {
    "duration": 4,
    "start_time": "2022-03-22T15:07:14.043Z"
   },
   {
    "duration": 1132,
    "start_time": "2022-03-22T15:08:05.286Z"
   },
   {
    "duration": 52,
    "start_time": "2022-03-22T15:08:06.420Z"
   },
   {
    "duration": 14,
    "start_time": "2022-03-22T15:08:06.474Z"
   },
   {
    "duration": 4,
    "start_time": "2022-03-22T15:08:06.491Z"
   },
   {
    "duration": 4,
    "start_time": "2022-03-22T15:08:06.497Z"
   },
   {
    "duration": 6,
    "start_time": "2022-03-22T15:08:06.503Z"
   },
   {
    "duration": 23,
    "start_time": "2022-03-22T15:08:06.510Z"
   },
   {
    "duration": 5,
    "start_time": "2022-03-22T15:08:06.534Z"
   },
   {
    "duration": 11,
    "start_time": "2022-03-22T15:08:06.540Z"
   },
   {
    "duration": 17,
    "start_time": "2022-03-22T15:08:06.554Z"
   },
   {
    "duration": 8,
    "start_time": "2022-03-22T15:08:06.573Z"
   },
   {
    "duration": 3,
    "start_time": "2022-03-22T15:08:06.583Z"
   },
   {
    "duration": 6,
    "start_time": "2022-03-22T15:08:06.588Z"
   },
   {
    "duration": 38,
    "start_time": "2022-03-22T15:08:06.595Z"
   },
   {
    "duration": 17,
    "start_time": "2022-03-22T15:08:06.635Z"
   },
   {
    "duration": 147,
    "start_time": "2022-03-23T08:17:06.065Z"
   },
   {
    "duration": 2047,
    "start_time": "2022-03-23T08:17:22.603Z"
   },
   {
    "duration": 111,
    "start_time": "2022-03-23T08:17:24.656Z"
   },
   {
    "duration": 35,
    "start_time": "2022-03-23T08:17:24.770Z"
   },
   {
    "duration": 14,
    "start_time": "2022-03-23T08:17:24.809Z"
   },
   {
    "duration": 11,
    "start_time": "2022-03-23T08:17:24.827Z"
   },
   {
    "duration": 13,
    "start_time": "2022-03-23T08:17:24.841Z"
   },
   {
    "duration": 35,
    "start_time": "2022-03-23T08:17:24.857Z"
   },
   {
    "duration": 21,
    "start_time": "2022-03-23T08:17:24.895Z"
   },
   {
    "duration": 16,
    "start_time": "2022-03-23T08:17:24.919Z"
   },
   {
    "duration": 31,
    "start_time": "2022-03-23T08:17:24.938Z"
   },
   {
    "duration": 21,
    "start_time": "2022-03-23T08:17:24.990Z"
   },
   {
    "duration": 5,
    "start_time": "2022-03-23T08:17:25.015Z"
   },
   {
    "duration": 10,
    "start_time": "2022-03-23T08:17:25.023Z"
   },
   {
    "duration": 8,
    "start_time": "2022-03-23T08:17:25.038Z"
   },
   {
    "duration": 73,
    "start_time": "2022-03-23T08:17:25.049Z"
   },
   {
    "duration": 337,
    "start_time": "2022-03-23T08:17:25.125Z"
   },
   {
    "duration": 134,
    "start_time": "2022-03-23T09:21:53.458Z"
   },
   {
    "duration": 156,
    "start_time": "2022-03-23T09:22:53.461Z"
   },
   {
    "duration": 80,
    "start_time": "2022-03-23T09:23:17.746Z"
   },
   {
    "duration": 9,
    "start_time": "2022-03-23T09:25:44.314Z"
   },
   {
    "duration": 114,
    "start_time": "2022-03-23T09:41:08.598Z"
   },
   {
    "duration": 10,
    "start_time": "2022-03-23T09:41:24.905Z"
   },
   {
    "duration": 10,
    "start_time": "2022-03-23T09:41:50.053Z"
   },
   {
    "duration": 1550,
    "start_time": "2022-03-23T09:41:58.659Z"
   },
   {
    "duration": 77,
    "start_time": "2022-03-23T09:42:00.212Z"
   },
   {
    "duration": 21,
    "start_time": "2022-03-23T09:42:00.291Z"
   },
   {
    "duration": 11,
    "start_time": "2022-03-23T09:42:00.315Z"
   },
   {
    "duration": 15,
    "start_time": "2022-03-23T09:42:00.331Z"
   },
   {
    "duration": 37,
    "start_time": "2022-03-23T09:42:00.349Z"
   },
   {
    "duration": 16,
    "start_time": "2022-03-23T09:42:00.388Z"
   },
   {
    "duration": 22,
    "start_time": "2022-03-23T09:42:00.407Z"
   },
   {
    "duration": 28,
    "start_time": "2022-03-23T09:42:00.431Z"
   },
   {
    "duration": 42,
    "start_time": "2022-03-23T09:42:00.461Z"
   },
   {
    "duration": 12,
    "start_time": "2022-03-23T09:42:00.505Z"
   },
   {
    "duration": 19,
    "start_time": "2022-03-23T09:42:00.519Z"
   },
   {
    "duration": 14,
    "start_time": "2022-03-23T09:42:00.541Z"
   },
   {
    "duration": 27,
    "start_time": "2022-03-23T09:42:00.559Z"
   },
   {
    "duration": 39,
    "start_time": "2022-03-23T09:42:00.588Z"
   },
   {
    "duration": 262,
    "start_time": "2022-03-23T09:42:00.629Z"
   },
   {
    "duration": 61,
    "start_time": "2022-03-23T09:42:00.894Z"
   },
   {
    "duration": 31,
    "start_time": "2022-03-23T09:42:00.957Z"
   },
   {
    "duration": 46,
    "start_time": "2022-03-23T09:42:00.990Z"
   },
   {
    "duration": 11,
    "start_time": "2022-03-23T09:42:14.068Z"
   },
   {
    "duration": 7,
    "start_time": "2022-03-23T09:43:24.757Z"
   },
   {
    "duration": 201,
    "start_time": "2022-03-23T09:43:34.866Z"
   },
   {
    "duration": 12,
    "start_time": "2022-03-23T09:45:08.009Z"
   },
   {
    "duration": 28,
    "start_time": "2022-03-23T09:45:23.998Z"
   },
   {
    "duration": 145,
    "start_time": "2022-03-23T09:50:48.029Z"
   },
   {
    "duration": 182,
    "start_time": "2022-03-23T09:51:12.603Z"
   },
   {
    "duration": 147,
    "start_time": "2022-03-23T09:51:34.403Z"
   },
   {
    "duration": 45,
    "start_time": "2022-03-23T09:51:45.276Z"
   },
   {
    "duration": 267,
    "start_time": "2022-03-23T09:59:13.866Z"
   },
   {
    "duration": 255,
    "start_time": "2022-03-23T09:59:43.046Z"
   },
   {
    "duration": 194,
    "start_time": "2022-03-23T10:04:53.441Z"
   },
   {
    "duration": 456,
    "start_time": "2022-03-23T10:08:48.893Z"
   },
   {
    "duration": 9,
    "start_time": "2022-03-23T10:13:34.205Z"
   },
   {
    "duration": 226,
    "start_time": "2022-03-23T10:13:55.534Z"
   },
   {
    "duration": 7,
    "start_time": "2022-03-23T10:14:26.930Z"
   },
   {
    "duration": 246,
    "start_time": "2022-03-23T10:14:48.774Z"
   },
   {
    "duration": 7,
    "start_time": "2022-03-23T10:15:35.334Z"
   },
   {
    "duration": 222,
    "start_time": "2022-03-23T10:20:56.098Z"
   },
   {
    "duration": 9,
    "start_time": "2022-03-23T10:21:48.525Z"
   },
   {
    "duration": 297,
    "start_time": "2022-03-23T10:22:06.128Z"
   },
   {
    "duration": 13,
    "start_time": "2022-03-23T10:23:20.586Z"
   },
   {
    "duration": 7,
    "start_time": "2022-03-23T10:23:39.474Z"
   },
   {
    "duration": 19,
    "start_time": "2022-03-23T10:26:34.911Z"
   },
   {
    "duration": 15,
    "start_time": "2022-03-23T10:32:11.942Z"
   },
   {
    "duration": 15,
    "start_time": "2022-03-23T10:32:53.418Z"
   },
   {
    "duration": 27,
    "start_time": "2022-03-23T10:33:57.554Z"
   },
   {
    "duration": 16,
    "start_time": "2022-03-23T10:36:43.493Z"
   },
   {
    "duration": 17,
    "start_time": "2022-03-23T10:37:09.650Z"
   },
   {
    "duration": 21,
    "start_time": "2022-03-23T10:37:29.686Z"
   },
   {
    "duration": 21,
    "start_time": "2022-03-23T10:42:28.450Z"
   },
   {
    "duration": 113,
    "start_time": "2022-03-23T10:44:23.368Z"
   },
   {
    "duration": 23,
    "start_time": "2022-03-23T10:44:29.906Z"
   },
   {
    "duration": 21,
    "start_time": "2022-03-23T10:46:28.310Z"
   },
   {
    "duration": 109,
    "start_time": "2022-03-23T10:52:23.337Z"
   },
   {
    "duration": 16,
    "start_time": "2022-03-23T10:52:30.073Z"
   },
   {
    "duration": 15,
    "start_time": "2022-03-23T10:54:34.097Z"
   },
   {
    "duration": 25,
    "start_time": "2022-03-23T10:56:26.617Z"
   },
   {
    "duration": 4,
    "start_time": "2022-03-23T11:00:15.901Z"
   },
   {
    "duration": 10,
    "start_time": "2022-03-23T11:00:50.033Z"
   },
   {
    "duration": 12,
    "start_time": "2022-03-23T11:01:18.913Z"
   },
   {
    "duration": 11,
    "start_time": "2022-03-23T11:04:07.936Z"
   },
   {
    "duration": 9,
    "start_time": "2022-03-23T11:04:17.597Z"
   },
   {
    "duration": 133,
    "start_time": "2022-04-03T13:05:26.205Z"
   },
   {
    "duration": 127,
    "start_time": "2022-04-04T07:25:58.242Z"
   },
   {
    "duration": 2429,
    "start_time": "2022-04-04T07:29:49.077Z"
   },
   {
    "duration": 113,
    "start_time": "2022-04-04T07:29:51.509Z"
   },
   {
    "duration": 31,
    "start_time": "2022-04-04T07:29:51.625Z"
   },
   {
    "duration": 26,
    "start_time": "2022-04-04T07:29:51.659Z"
   },
   {
    "duration": 13,
    "start_time": "2022-04-04T07:29:51.690Z"
   },
   {
    "duration": 27,
    "start_time": "2022-04-04T07:29:51.705Z"
   },
   {
    "duration": 13,
    "start_time": "2022-04-04T07:29:51.735Z"
   },
   {
    "duration": 11,
    "start_time": "2022-04-04T07:29:51.751Z"
   },
   {
    "duration": 29,
    "start_time": "2022-04-04T07:29:51.765Z"
   },
   {
    "duration": 43,
    "start_time": "2022-04-04T07:29:51.797Z"
   },
   {
    "duration": 12,
    "start_time": "2022-04-04T07:29:51.843Z"
   },
   {
    "duration": 25,
    "start_time": "2022-04-04T07:29:51.858Z"
   },
   {
    "duration": 9,
    "start_time": "2022-04-04T07:29:51.885Z"
   },
   {
    "duration": 8,
    "start_time": "2022-04-04T07:29:51.899Z"
   },
   {
    "duration": 25,
    "start_time": "2022-04-04T07:29:51.910Z"
   },
   {
    "duration": 289,
    "start_time": "2022-04-04T07:29:51.938Z"
   },
   {
    "duration": 78,
    "start_time": "2022-04-04T07:29:52.229Z"
   },
   {
    "duration": 1077,
    "start_time": "2022-04-04T07:29:52.309Z"
   },
   {
    "duration": 9,
    "start_time": "2022-04-04T07:29:53.388Z"
   },
   {
    "duration": 11,
    "start_time": "2022-04-04T07:29:53.399Z"
   },
   {
    "duration": 13,
    "start_time": "2022-04-04T07:29:53.412Z"
   },
   {
    "duration": 10,
    "start_time": "2022-04-04T07:29:53.427Z"
   },
   {
    "duration": 27,
    "start_time": "2022-04-04T07:29:53.483Z"
   },
   {
    "duration": 41,
    "start_time": "2022-04-04T07:29:53.512Z"
   },
   {
    "duration": 190,
    "start_time": "2022-04-04T07:29:53.582Z"
   },
   {
    "duration": 166,
    "start_time": "2022-04-04T07:29:53.774Z"
   },
   {
    "duration": 465,
    "start_time": "2022-04-04T07:29:53.942Z"
   },
   {
    "duration": 9,
    "start_time": "2022-04-04T07:29:54.410Z"
   },
   {
    "duration": 330,
    "start_time": "2022-04-04T07:29:54.422Z"
   },
   {
    "duration": 9,
    "start_time": "2022-04-04T07:29:54.755Z"
   },
   {
    "duration": 279,
    "start_time": "2022-04-04T07:29:54.767Z"
   },
   {
    "duration": 7,
    "start_time": "2022-04-04T07:29:55.049Z"
   },
   {
    "duration": 320,
    "start_time": "2022-04-04T07:29:55.058Z"
   },
   {
    "duration": 10,
    "start_time": "2022-04-04T07:29:55.383Z"
   },
   {
    "duration": 239,
    "start_time": "2022-04-04T07:29:55.398Z"
   },
   {
    "duration": 8,
    "start_time": "2022-04-04T07:29:55.640Z"
   },
   {
    "duration": 46,
    "start_time": "2022-04-04T07:29:55.651Z"
   },
   {
    "duration": 18,
    "start_time": "2022-04-04T07:29:55.699Z"
   },
   {
    "duration": 21,
    "start_time": "2022-04-04T07:29:55.720Z"
   },
   {
    "duration": 60,
    "start_time": "2022-04-04T07:29:55.745Z"
   },
   {
    "duration": 21,
    "start_time": "2022-04-04T07:29:55.814Z"
   },
   {
    "duration": 52,
    "start_time": "2022-04-04T07:29:55.837Z"
   },
   {
    "duration": 22,
    "start_time": "2022-04-04T07:29:55.892Z"
   },
   {
    "duration": 20,
    "start_time": "2022-04-04T07:29:55.917Z"
   },
   {
    "duration": 52,
    "start_time": "2022-04-04T07:29:55.940Z"
   },
   {
    "duration": 28,
    "start_time": "2022-04-04T07:29:55.995Z"
   },
   {
    "duration": 21,
    "start_time": "2022-04-04T07:29:56.026Z"
   },
   {
    "duration": 21,
    "start_time": "2022-04-04T07:29:56.083Z"
   },
   {
    "duration": 21,
    "start_time": "2022-04-04T07:29:56.108Z"
   },
   {
    "duration": 4,
    "start_time": "2022-04-04T07:29:56.132Z"
   },
   {
    "duration": 54,
    "start_time": "2022-04-04T07:29:56.139Z"
   },
   {
    "duration": 13,
    "start_time": "2022-04-04T07:29:56.195Z"
   },
   {
    "duration": 12,
    "start_time": "2022-04-04T07:29:56.210Z"
   },
   {
    "duration": 10,
    "start_time": "2022-04-04T07:29:56.224Z"
   },
   {
    "duration": 419,
    "start_time": "2022-04-04T07:32:15.517Z"
   },
   {
    "duration": 1951,
    "start_time": "2022-04-04T07:32:48.618Z"
   },
   {
    "duration": 102,
    "start_time": "2022-04-04T07:32:50.573Z"
   },
   {
    "duration": 30,
    "start_time": "2022-04-04T07:32:50.684Z"
   },
   {
    "duration": 9,
    "start_time": "2022-04-04T07:32:50.719Z"
   },
   {
    "duration": 5,
    "start_time": "2022-04-04T07:32:50.731Z"
   },
   {
    "duration": 44,
    "start_time": "2022-04-04T07:32:50.739Z"
   },
   {
    "duration": 12,
    "start_time": "2022-04-04T07:32:50.786Z"
   },
   {
    "duration": 9,
    "start_time": "2022-04-04T07:32:50.800Z"
   },
   {
    "duration": 21,
    "start_time": "2022-04-04T07:32:50.811Z"
   },
   {
    "duration": 50,
    "start_time": "2022-04-04T07:32:50.836Z"
   },
   {
    "duration": 16,
    "start_time": "2022-04-04T07:32:50.888Z"
   },
   {
    "duration": 6,
    "start_time": "2022-04-04T07:32:50.907Z"
   },
   {
    "duration": 13,
    "start_time": "2022-04-04T07:32:50.916Z"
   },
   {
    "duration": 13,
    "start_time": "2022-04-04T07:32:50.932Z"
   },
   {
    "duration": 55,
    "start_time": "2022-04-04T07:32:50.948Z"
   },
   {
    "duration": 289,
    "start_time": "2022-04-04T07:32:51.005Z"
   },
   {
    "duration": 63,
    "start_time": "2022-04-04T07:32:51.297Z"
   },
   {
    "duration": 1066,
    "start_time": "2022-04-04T07:32:51.362Z"
   },
   {
    "duration": 432,
    "start_time": "2022-04-04T07:32:52.430Z"
   },
   {
    "duration": 0,
    "start_time": "2022-04-04T07:32:52.866Z"
   },
   {
    "duration": 0,
    "start_time": "2022-04-04T07:32:52.868Z"
   },
   {
    "duration": 0,
    "start_time": "2022-04-04T07:32:52.870Z"
   },
   {
    "duration": 0,
    "start_time": "2022-04-04T07:32:52.882Z"
   },
   {
    "duration": 0,
    "start_time": "2022-04-04T07:32:52.884Z"
   },
   {
    "duration": 0,
    "start_time": "2022-04-04T07:32:52.886Z"
   },
   {
    "duration": 0,
    "start_time": "2022-04-04T07:32:52.888Z"
   },
   {
    "duration": 0,
    "start_time": "2022-04-04T07:32:52.890Z"
   },
   {
    "duration": 0,
    "start_time": "2022-04-04T07:32:52.893Z"
   },
   {
    "duration": 0,
    "start_time": "2022-04-04T07:32:52.895Z"
   },
   {
    "duration": 0,
    "start_time": "2022-04-04T07:32:52.897Z"
   },
   {
    "duration": 0,
    "start_time": "2022-04-04T07:32:52.899Z"
   },
   {
    "duration": 0,
    "start_time": "2022-04-04T07:32:52.901Z"
   },
   {
    "duration": 0,
    "start_time": "2022-04-04T07:32:52.903Z"
   },
   {
    "duration": 0,
    "start_time": "2022-04-04T07:32:52.905Z"
   },
   {
    "duration": 0,
    "start_time": "2022-04-04T07:32:52.907Z"
   },
   {
    "duration": 0,
    "start_time": "2022-04-04T07:32:52.909Z"
   },
   {
    "duration": 0,
    "start_time": "2022-04-04T07:32:52.911Z"
   },
   {
    "duration": 0,
    "start_time": "2022-04-04T07:32:52.913Z"
   },
   {
    "duration": 0,
    "start_time": "2022-04-04T07:32:52.916Z"
   },
   {
    "duration": 0,
    "start_time": "2022-04-04T07:32:52.918Z"
   },
   {
    "duration": 0,
    "start_time": "2022-04-04T07:32:52.920Z"
   },
   {
    "duration": 0,
    "start_time": "2022-04-04T07:32:52.922Z"
   },
   {
    "duration": 0,
    "start_time": "2022-04-04T07:32:52.983Z"
   },
   {
    "duration": 0,
    "start_time": "2022-04-04T07:32:52.985Z"
   },
   {
    "duration": 0,
    "start_time": "2022-04-04T07:32:52.987Z"
   },
   {
    "duration": 0,
    "start_time": "2022-04-04T07:32:52.990Z"
   },
   {
    "duration": 0,
    "start_time": "2022-04-04T07:32:52.992Z"
   },
   {
    "duration": 0,
    "start_time": "2022-04-04T07:32:52.994Z"
   },
   {
    "duration": 0,
    "start_time": "2022-04-04T07:32:52.996Z"
   },
   {
    "duration": 0,
    "start_time": "2022-04-04T07:32:52.998Z"
   },
   {
    "duration": 1,
    "start_time": "2022-04-04T07:32:52.999Z"
   },
   {
    "duration": 0,
    "start_time": "2022-04-04T07:32:53.001Z"
   },
   {
    "duration": 0,
    "start_time": "2022-04-04T07:32:53.003Z"
   },
   {
    "duration": 0,
    "start_time": "2022-04-04T07:32:53.005Z"
   },
   {
    "duration": 0,
    "start_time": "2022-04-04T07:32:53.007Z"
   },
   {
    "duration": 316,
    "start_time": "2022-04-04T07:33:40.313Z"
   },
   {
    "duration": 626,
    "start_time": "2022-04-04T07:35:02.810Z"
   },
   {
    "duration": 2049,
    "start_time": "2022-04-04T07:35:11.343Z"
   },
   {
    "duration": 74,
    "start_time": "2022-04-04T07:35:13.396Z"
   },
   {
    "duration": 26,
    "start_time": "2022-04-04T07:35:13.473Z"
   },
   {
    "duration": 9,
    "start_time": "2022-04-04T07:35:13.504Z"
   },
   {
    "duration": 9,
    "start_time": "2022-04-04T07:35:13.516Z"
   },
   {
    "duration": 9,
    "start_time": "2022-04-04T07:35:13.528Z"
   },
   {
    "duration": 47,
    "start_time": "2022-04-04T07:35:13.539Z"
   },
   {
    "duration": 9,
    "start_time": "2022-04-04T07:35:13.588Z"
   },
   {
    "duration": 15,
    "start_time": "2022-04-04T07:35:13.599Z"
   },
   {
    "duration": 25,
    "start_time": "2022-04-04T07:35:13.619Z"
   },
   {
    "duration": 12,
    "start_time": "2022-04-04T07:35:13.681Z"
   },
   {
    "duration": 5,
    "start_time": "2022-04-04T07:35:13.696Z"
   },
   {
    "duration": 8,
    "start_time": "2022-04-04T07:35:13.704Z"
   },
   {
    "duration": 9,
    "start_time": "2022-04-04T07:35:13.714Z"
   },
   {
    "duration": 66,
    "start_time": "2022-04-04T07:35:13.726Z"
   },
   {
    "duration": 385,
    "start_time": "2022-04-04T07:35:13.794Z"
   },
   {
    "duration": 86,
    "start_time": "2022-04-04T07:35:14.181Z"
   },
   {
    "duration": 937,
    "start_time": "2022-04-04T07:35:14.282Z"
   },
   {
    "duration": 0,
    "start_time": "2022-04-04T07:35:15.222Z"
   },
   {
    "duration": 0,
    "start_time": "2022-04-04T07:35:15.226Z"
   },
   {
    "duration": 0,
    "start_time": "2022-04-04T07:35:15.228Z"
   },
   {
    "duration": 0,
    "start_time": "2022-04-04T07:35:15.231Z"
   },
   {
    "duration": 0,
    "start_time": "2022-04-04T07:35:15.233Z"
   },
   {
    "duration": 0,
    "start_time": "2022-04-04T07:35:15.236Z"
   },
   {
    "duration": 0,
    "start_time": "2022-04-04T07:35:15.238Z"
   },
   {
    "duration": 0,
    "start_time": "2022-04-04T07:35:15.240Z"
   },
   {
    "duration": 0,
    "start_time": "2022-04-04T07:35:15.242Z"
   },
   {
    "duration": 0,
    "start_time": "2022-04-04T07:35:15.244Z"
   },
   {
    "duration": 0,
    "start_time": "2022-04-04T07:35:15.283Z"
   },
   {
    "duration": 0,
    "start_time": "2022-04-04T07:35:15.285Z"
   },
   {
    "duration": 0,
    "start_time": "2022-04-04T07:35:15.287Z"
   },
   {
    "duration": 0,
    "start_time": "2022-04-04T07:35:15.288Z"
   },
   {
    "duration": 0,
    "start_time": "2022-04-04T07:35:15.290Z"
   },
   {
    "duration": 0,
    "start_time": "2022-04-04T07:35:15.291Z"
   },
   {
    "duration": 0,
    "start_time": "2022-04-04T07:35:15.292Z"
   },
   {
    "duration": 0,
    "start_time": "2022-04-04T07:35:15.294Z"
   },
   {
    "duration": 0,
    "start_time": "2022-04-04T07:35:15.295Z"
   },
   {
    "duration": 0,
    "start_time": "2022-04-04T07:35:15.297Z"
   },
   {
    "duration": 0,
    "start_time": "2022-04-04T07:35:15.298Z"
   },
   {
    "duration": 0,
    "start_time": "2022-04-04T07:35:15.299Z"
   },
   {
    "duration": 0,
    "start_time": "2022-04-04T07:35:15.301Z"
   },
   {
    "duration": 0,
    "start_time": "2022-04-04T07:35:15.302Z"
   },
   {
    "duration": 0,
    "start_time": "2022-04-04T07:35:15.304Z"
   },
   {
    "duration": 0,
    "start_time": "2022-04-04T07:35:15.306Z"
   },
   {
    "duration": 0,
    "start_time": "2022-04-04T07:35:15.307Z"
   },
   {
    "duration": 0,
    "start_time": "2022-04-04T07:35:15.309Z"
   },
   {
    "duration": 0,
    "start_time": "2022-04-04T07:35:15.310Z"
   },
   {
    "duration": 0,
    "start_time": "2022-04-04T07:35:15.312Z"
   },
   {
    "duration": 0,
    "start_time": "2022-04-04T07:35:15.313Z"
   },
   {
    "duration": 0,
    "start_time": "2022-04-04T07:35:15.314Z"
   },
   {
    "duration": 0,
    "start_time": "2022-04-04T07:35:15.316Z"
   },
   {
    "duration": 0,
    "start_time": "2022-04-04T07:35:15.317Z"
   },
   {
    "duration": 0,
    "start_time": "2022-04-04T07:35:15.319Z"
   },
   {
    "duration": 0,
    "start_time": "2022-04-04T07:35:15.320Z"
   },
   {
    "duration": 0,
    "start_time": "2022-04-04T07:35:15.383Z"
   },
   {
    "duration": 966,
    "start_time": "2022-04-04T07:36:00.252Z"
   },
   {
    "duration": 1521,
    "start_time": "2022-04-04T08:08:44.742Z"
   },
   {
    "duration": 68,
    "start_time": "2022-04-04T08:08:46.265Z"
   },
   {
    "duration": 20,
    "start_time": "2022-04-04T08:08:46.336Z"
   },
   {
    "duration": 28,
    "start_time": "2022-04-04T08:08:46.358Z"
   },
   {
    "duration": 8,
    "start_time": "2022-04-04T08:08:46.388Z"
   },
   {
    "duration": 10,
    "start_time": "2022-04-04T08:08:46.398Z"
   },
   {
    "duration": 7,
    "start_time": "2022-04-04T08:08:46.410Z"
   },
   {
    "duration": 10,
    "start_time": "2022-04-04T08:08:46.420Z"
   },
   {
    "duration": 14,
    "start_time": "2022-04-04T08:08:46.433Z"
   },
   {
    "duration": 54,
    "start_time": "2022-04-04T08:08:46.449Z"
   },
   {
    "duration": 11,
    "start_time": "2022-04-04T08:08:46.506Z"
   },
   {
    "duration": 5,
    "start_time": "2022-04-04T08:08:46.519Z"
   },
   {
    "duration": 7,
    "start_time": "2022-04-04T08:08:46.526Z"
   },
   {
    "duration": 8,
    "start_time": "2022-04-04T08:08:46.535Z"
   },
   {
    "duration": 49,
    "start_time": "2022-04-04T08:08:46.545Z"
   },
   {
    "duration": 263,
    "start_time": "2022-04-04T08:08:46.596Z"
   },
   {
    "duration": 65,
    "start_time": "2022-04-04T08:08:46.861Z"
   },
   {
    "duration": 9,
    "start_time": "2022-04-04T08:08:46.928Z"
   },
   {
    "duration": 11,
    "start_time": "2022-04-04T08:08:46.939Z"
   },
   {
    "duration": 34,
    "start_time": "2022-04-04T08:08:46.953Z"
   },
   {
    "duration": 9,
    "start_time": "2022-04-04T08:08:46.989Z"
   },
   {
    "duration": 26,
    "start_time": "2022-04-04T08:08:47.000Z"
   },
   {
    "duration": 71,
    "start_time": "2022-04-04T08:08:47.031Z"
   },
   {
    "duration": 181,
    "start_time": "2022-04-04T08:08:47.104Z"
   },
   {
    "duration": 166,
    "start_time": "2022-04-04T08:08:47.287Z"
   },
   {
    "duration": 436,
    "start_time": "2022-04-04T08:08:47.455Z"
   },
   {
    "duration": 10,
    "start_time": "2022-04-04T08:08:47.893Z"
   },
   {
    "duration": 224,
    "start_time": "2022-04-04T08:08:47.905Z"
   },
   {
    "duration": 9,
    "start_time": "2022-04-04T08:08:48.132Z"
   },
   {
    "duration": 246,
    "start_time": "2022-04-04T08:08:48.143Z"
   },
   {
    "duration": 7,
    "start_time": "2022-04-04T08:08:48.391Z"
   },
   {
    "duration": 219,
    "start_time": "2022-04-04T08:08:48.400Z"
   },
   {
    "duration": 8,
    "start_time": "2022-04-04T08:08:48.621Z"
   },
   {
    "duration": 218,
    "start_time": "2022-04-04T08:08:48.631Z"
   },
   {
    "duration": 7,
    "start_time": "2022-04-04T08:08:48.852Z"
   },
   {
    "duration": 36,
    "start_time": "2022-04-04T08:08:48.861Z"
   },
   {
    "duration": 15,
    "start_time": "2022-04-04T08:08:48.899Z"
   },
   {
    "duration": 15,
    "start_time": "2022-04-04T08:08:48.917Z"
   },
   {
    "duration": 53,
    "start_time": "2022-04-04T08:08:48.934Z"
   },
   {
    "duration": 16,
    "start_time": "2022-04-04T08:08:48.990Z"
   },
   {
    "duration": 15,
    "start_time": "2022-04-04T08:08:49.008Z"
   },
   {
    "duration": 20,
    "start_time": "2022-04-04T08:08:49.025Z"
   },
   {
    "duration": 18,
    "start_time": "2022-04-04T08:08:49.084Z"
   },
   {
    "duration": 132,
    "start_time": "2022-04-04T08:08:49.104Z"
   },
   {
    "duration": 20,
    "start_time": "2022-04-04T08:08:49.239Z"
   },
   {
    "duration": 40,
    "start_time": "2022-04-04T08:08:49.261Z"
   },
   {
    "duration": 20,
    "start_time": "2022-04-04T08:08:49.304Z"
   },
   {
    "duration": 57,
    "start_time": "2022-04-04T08:08:49.327Z"
   },
   {
    "duration": 4,
    "start_time": "2022-04-04T08:08:49.387Z"
   },
   {
    "duration": 17,
    "start_time": "2022-04-04T08:08:49.394Z"
   },
   {
    "duration": 12,
    "start_time": "2022-04-04T08:08:49.414Z"
   },
   {
    "duration": 15,
    "start_time": "2022-04-04T08:08:49.428Z"
   },
   {
    "duration": 45,
    "start_time": "2022-04-04T08:08:49.445Z"
   },
   {
    "duration": 158,
    "start_time": "2022-04-04T08:41:44.013Z"
   },
   {
    "duration": 510,
    "start_time": "2022-04-04T08:42:05.175Z"
   },
   {
    "duration": 16,
    "start_time": "2022-04-04T08:43:56.859Z"
   },
   {
    "duration": 11,
    "start_time": "2022-04-04T08:44:54.043Z"
   },
   {
    "duration": 217,
    "start_time": "2022-04-04T08:46:55.819Z"
   },
   {
    "duration": 6,
    "start_time": "2022-04-04T08:48:05.679Z"
   },
   {
    "duration": 305,
    "start_time": "2022-04-04T08:48:08.902Z"
   },
   {
    "duration": 437,
    "start_time": "2022-04-04T08:48:38.438Z"
   },
   {
    "duration": 8,
    "start_time": "2022-04-04T08:50:16.796Z"
   },
   {
    "duration": 12,
    "start_time": "2022-04-04T08:50:19.832Z"
   },
   {
    "duration": 16,
    "start_time": "2022-04-04T08:50:24.883Z"
   },
   {
    "duration": 6,
    "start_time": "2022-04-04T08:51:15.339Z"
   },
   {
    "duration": 24,
    "start_time": "2022-04-04T08:51:18.502Z"
   },
   {
    "duration": 8,
    "start_time": "2022-04-04T08:54:10.059Z"
   },
   {
    "duration": 9,
    "start_time": "2022-04-04T08:54:12.607Z"
   },
   {
    "duration": 8,
    "start_time": "2022-04-04T08:56:05.094Z"
   },
   {
    "duration": 9,
    "start_time": "2022-04-04T08:56:07.030Z"
   },
   {
    "duration": 10,
    "start_time": "2022-04-04T08:56:10.225Z"
   },
   {
    "duration": 7,
    "start_time": "2022-04-04T08:56:15.440Z"
   },
   {
    "duration": 24,
    "start_time": "2022-04-04T08:56:20.130Z"
   },
   {
    "duration": 37,
    "start_time": "2022-04-04T08:56:25.758Z"
   },
   {
    "duration": 16,
    "start_time": "2022-04-04T09:01:20.086Z"
   },
   {
    "duration": 22,
    "start_time": "2022-04-04T09:01:59.159Z"
   },
   {
    "duration": 1489,
    "start_time": "2022-04-04T09:02:22.676Z"
   },
   {
    "duration": 72,
    "start_time": "2022-04-04T09:02:24.168Z"
   },
   {
    "duration": 39,
    "start_time": "2022-04-04T09:02:24.243Z"
   },
   {
    "duration": 20,
    "start_time": "2022-04-04T09:02:24.285Z"
   },
   {
    "duration": 8,
    "start_time": "2022-04-04T09:02:24.309Z"
   },
   {
    "duration": 8,
    "start_time": "2022-04-04T09:02:24.319Z"
   },
   {
    "duration": 8,
    "start_time": "2022-04-04T09:02:24.329Z"
   },
   {
    "duration": 7,
    "start_time": "2022-04-04T09:02:24.338Z"
   },
   {
    "duration": 13,
    "start_time": "2022-04-04T09:02:24.347Z"
   },
   {
    "duration": 44,
    "start_time": "2022-04-04T09:02:24.362Z"
   },
   {
    "duration": 12,
    "start_time": "2022-04-04T09:02:24.408Z"
   },
   {
    "duration": 7,
    "start_time": "2022-04-04T09:02:24.423Z"
   },
   {
    "duration": 8,
    "start_time": "2022-04-04T09:02:24.432Z"
   },
   {
    "duration": 9,
    "start_time": "2022-04-04T09:02:24.482Z"
   },
   {
    "duration": 26,
    "start_time": "2022-04-04T09:02:24.493Z"
   },
   {
    "duration": 255,
    "start_time": "2022-04-04T09:02:24.521Z"
   },
   {
    "duration": 60,
    "start_time": "2022-04-04T09:02:24.778Z"
   },
   {
    "duration": 533,
    "start_time": "2022-04-04T09:02:24.840Z"
   },
   {
    "duration": 6,
    "start_time": "2022-04-04T09:02:25.389Z"
   },
   {
    "duration": 350,
    "start_time": "2022-04-04T09:02:25.397Z"
   },
   {
    "duration": 0,
    "start_time": "2022-04-04T09:02:25.750Z"
   },
   {
    "duration": 0,
    "start_time": "2022-04-04T09:02:25.752Z"
   },
   {
    "duration": 0,
    "start_time": "2022-04-04T09:02:25.754Z"
   },
   {
    "duration": 0,
    "start_time": "2022-04-04T09:02:25.755Z"
   },
   {
    "duration": 0,
    "start_time": "2022-04-04T09:02:25.756Z"
   },
   {
    "duration": 0,
    "start_time": "2022-04-04T09:02:25.759Z"
   },
   {
    "duration": 0,
    "start_time": "2022-04-04T09:02:25.782Z"
   },
   {
    "duration": 0,
    "start_time": "2022-04-04T09:02:25.783Z"
   },
   {
    "duration": 0,
    "start_time": "2022-04-04T09:02:25.786Z"
   },
   {
    "duration": 0,
    "start_time": "2022-04-04T09:02:25.788Z"
   },
   {
    "duration": 0,
    "start_time": "2022-04-04T09:02:25.790Z"
   },
   {
    "duration": 0,
    "start_time": "2022-04-04T09:02:25.792Z"
   },
   {
    "duration": 0,
    "start_time": "2022-04-04T09:02:25.794Z"
   },
   {
    "duration": 0,
    "start_time": "2022-04-04T09:02:25.796Z"
   },
   {
    "duration": 0,
    "start_time": "2022-04-04T09:02:25.797Z"
   },
   {
    "duration": 0,
    "start_time": "2022-04-04T09:02:25.799Z"
   },
   {
    "duration": 0,
    "start_time": "2022-04-04T09:02:25.800Z"
   },
   {
    "duration": 0,
    "start_time": "2022-04-04T09:02:25.805Z"
   },
   {
    "duration": 0,
    "start_time": "2022-04-04T09:02:25.806Z"
   },
   {
    "duration": 0,
    "start_time": "2022-04-04T09:02:25.807Z"
   },
   {
    "duration": 0,
    "start_time": "2022-04-04T09:02:25.809Z"
   },
   {
    "duration": 0,
    "start_time": "2022-04-04T09:02:25.810Z"
   },
   {
    "duration": 0,
    "start_time": "2022-04-04T09:02:25.811Z"
   },
   {
    "duration": 0,
    "start_time": "2022-04-04T09:02:25.813Z"
   },
   {
    "duration": 0,
    "start_time": "2022-04-04T09:02:25.814Z"
   },
   {
    "duration": 0,
    "start_time": "2022-04-04T09:02:25.815Z"
   },
   {
    "duration": 0,
    "start_time": "2022-04-04T09:02:25.817Z"
   },
   {
    "duration": 0,
    "start_time": "2022-04-04T09:02:25.818Z"
   },
   {
    "duration": 0,
    "start_time": "2022-04-04T09:02:25.819Z"
   },
   {
    "duration": 0,
    "start_time": "2022-04-04T09:02:25.882Z"
   },
   {
    "duration": 0,
    "start_time": "2022-04-04T09:02:25.883Z"
   },
   {
    "duration": 0,
    "start_time": "2022-04-04T09:02:25.884Z"
   },
   {
    "duration": 0,
    "start_time": "2022-04-04T09:02:25.888Z"
   },
   {
    "duration": 0,
    "start_time": "2022-04-04T09:02:25.891Z"
   },
   {
    "duration": 0,
    "start_time": "2022-04-04T09:02:25.897Z"
   },
   {
    "duration": 0,
    "start_time": "2022-04-04T09:02:25.899Z"
   },
   {
    "duration": 0,
    "start_time": "2022-04-04T09:02:25.901Z"
   },
   {
    "duration": 16,
    "start_time": "2022-04-04T09:02:56.864Z"
   },
   {
    "duration": 20,
    "start_time": "2022-04-04T09:04:15.972Z"
   },
   {
    "duration": 22,
    "start_time": "2022-04-04T09:04:21.972Z"
   },
   {
    "duration": 475,
    "start_time": "2022-04-04T09:04:25.320Z"
   },
   {
    "duration": 8,
    "start_time": "2022-04-04T09:05:26.544Z"
   },
   {
    "duration": 10,
    "start_time": "2022-04-04T09:05:31.001Z"
   },
   {
    "duration": 1416,
    "start_time": "2022-04-04T09:05:40.141Z"
   },
   {
    "duration": 75,
    "start_time": "2022-04-04T09:05:41.560Z"
   },
   {
    "duration": 20,
    "start_time": "2022-04-04T09:05:41.638Z"
   },
   {
    "duration": 26,
    "start_time": "2022-04-04T09:05:41.662Z"
   },
   {
    "duration": 17,
    "start_time": "2022-04-04T09:05:41.690Z"
   },
   {
    "duration": 8,
    "start_time": "2022-04-04T09:05:41.709Z"
   },
   {
    "duration": 6,
    "start_time": "2022-04-04T09:05:41.719Z"
   },
   {
    "duration": 7,
    "start_time": "2022-04-04T09:05:41.727Z"
   },
   {
    "duration": 13,
    "start_time": "2022-04-04T09:05:41.736Z"
   },
   {
    "duration": 56,
    "start_time": "2022-04-04T09:05:41.753Z"
   },
   {
    "duration": 11,
    "start_time": "2022-04-04T09:05:41.811Z"
   },
   {
    "duration": 8,
    "start_time": "2022-04-04T09:05:41.824Z"
   },
   {
    "duration": 9,
    "start_time": "2022-04-04T09:05:41.834Z"
   },
   {
    "duration": 11,
    "start_time": "2022-04-04T09:05:41.845Z"
   },
   {
    "duration": 47,
    "start_time": "2022-04-04T09:05:41.859Z"
   },
   {
    "duration": 252,
    "start_time": "2022-04-04T09:05:41.908Z"
   },
   {
    "duration": 61,
    "start_time": "2022-04-04T09:05:42.162Z"
   },
   {
    "duration": 497,
    "start_time": "2022-04-04T09:05:42.225Z"
   },
   {
    "duration": 6,
    "start_time": "2022-04-04T09:05:42.725Z"
   },
   {
    "duration": 17,
    "start_time": "2022-04-04T09:05:42.733Z"
   },
   {
    "duration": 499,
    "start_time": "2022-04-04T09:05:42.752Z"
   },
   {
    "duration": 8,
    "start_time": "2022-04-04T09:05:43.253Z"
   },
   {
    "duration": 11,
    "start_time": "2022-04-04T09:05:43.263Z"
   },
   {
    "duration": 20,
    "start_time": "2022-04-04T09:05:43.276Z"
   },
   {
    "duration": 8,
    "start_time": "2022-04-04T09:05:43.299Z"
   },
   {
    "duration": 26,
    "start_time": "2022-04-04T09:05:43.311Z"
   },
   {
    "duration": 71,
    "start_time": "2022-04-04T09:05:43.340Z"
   },
   {
    "duration": 157,
    "start_time": "2022-04-04T09:05:43.416Z"
   },
   {
    "duration": 0,
    "start_time": "2022-04-04T09:05:43.583Z"
   },
   {
    "duration": 0,
    "start_time": "2022-04-04T09:05:43.585Z"
   },
   {
    "duration": 0,
    "start_time": "2022-04-04T09:05:43.587Z"
   },
   {
    "duration": 0,
    "start_time": "2022-04-04T09:05:43.589Z"
   },
   {
    "duration": 0,
    "start_time": "2022-04-04T09:05:43.591Z"
   },
   {
    "duration": 0,
    "start_time": "2022-04-04T09:05:43.593Z"
   },
   {
    "duration": 0,
    "start_time": "2022-04-04T09:05:43.595Z"
   },
   {
    "duration": 1,
    "start_time": "2022-04-04T09:05:43.599Z"
   },
   {
    "duration": 0,
    "start_time": "2022-04-04T09:05:43.601Z"
   },
   {
    "duration": 0,
    "start_time": "2022-04-04T09:05:43.603Z"
   },
   {
    "duration": 0,
    "start_time": "2022-04-04T09:05:43.605Z"
   },
   {
    "duration": 0,
    "start_time": "2022-04-04T09:05:43.606Z"
   },
   {
    "duration": 0,
    "start_time": "2022-04-04T09:05:43.607Z"
   },
   {
    "duration": 0,
    "start_time": "2022-04-04T09:05:43.609Z"
   },
   {
    "duration": 0,
    "start_time": "2022-04-04T09:05:43.610Z"
   },
   {
    "duration": 0,
    "start_time": "2022-04-04T09:05:43.611Z"
   },
   {
    "duration": 0,
    "start_time": "2022-04-04T09:05:43.613Z"
   },
   {
    "duration": 0,
    "start_time": "2022-04-04T09:05:43.614Z"
   },
   {
    "duration": 0,
    "start_time": "2022-04-04T09:05:43.615Z"
   },
   {
    "duration": 0,
    "start_time": "2022-04-04T09:05:43.617Z"
   },
   {
    "duration": 0,
    "start_time": "2022-04-04T09:05:43.618Z"
   },
   {
    "duration": 0,
    "start_time": "2022-04-04T09:05:43.620Z"
   },
   {
    "duration": 0,
    "start_time": "2022-04-04T09:05:43.621Z"
   },
   {
    "duration": 0,
    "start_time": "2022-04-04T09:05:43.622Z"
   },
   {
    "duration": 0,
    "start_time": "2022-04-04T09:05:43.624Z"
   },
   {
    "duration": 0,
    "start_time": "2022-04-04T09:05:43.625Z"
   },
   {
    "duration": 0,
    "start_time": "2022-04-04T09:05:43.682Z"
   },
   {
    "duration": 0,
    "start_time": "2022-04-04T09:05:43.684Z"
   },
   {
    "duration": 0,
    "start_time": "2022-04-04T09:05:43.685Z"
   },
   {
    "duration": 0,
    "start_time": "2022-04-04T09:05:43.686Z"
   },
   {
    "duration": 16,
    "start_time": "2022-04-04T09:06:38.637Z"
   },
   {
    "duration": 452,
    "start_time": "2022-04-04T09:06:46.921Z"
   },
   {
    "duration": 16,
    "start_time": "2022-04-04T09:07:04.029Z"
   },
   {
    "duration": 2963,
    "start_time": "2022-04-04T09:07:06.362Z"
   },
   {
    "duration": 1609,
    "start_time": "2022-04-04T09:08:04.437Z"
   },
   {
    "duration": 101,
    "start_time": "2022-04-04T09:08:06.049Z"
   },
   {
    "duration": 33,
    "start_time": "2022-04-04T09:08:06.153Z"
   },
   {
    "duration": 7,
    "start_time": "2022-04-04T09:08:06.190Z"
   },
   {
    "duration": 3,
    "start_time": "2022-04-04T09:08:06.205Z"
   },
   {
    "duration": 15,
    "start_time": "2022-04-04T09:08:06.210Z"
   },
   {
    "duration": 8,
    "start_time": "2022-04-04T09:08:06.228Z"
   },
   {
    "duration": 10,
    "start_time": "2022-04-04T09:08:06.238Z"
   },
   {
    "duration": 51,
    "start_time": "2022-04-04T09:08:06.250Z"
   },
   {
    "duration": 24,
    "start_time": "2022-04-04T09:08:06.305Z"
   },
   {
    "duration": 10,
    "start_time": "2022-04-04T09:08:06.331Z"
   },
   {
    "duration": 6,
    "start_time": "2022-04-04T09:08:06.344Z"
   },
   {
    "duration": 35,
    "start_time": "2022-04-04T09:08:06.352Z"
   },
   {
    "duration": 10,
    "start_time": "2022-04-04T09:08:06.389Z"
   },
   {
    "duration": 22,
    "start_time": "2022-04-04T09:08:06.401Z"
   },
   {
    "duration": 274,
    "start_time": "2022-04-04T09:08:06.425Z"
   },
   {
    "duration": 60,
    "start_time": "2022-04-04T09:08:06.702Z"
   },
   {
    "duration": 580,
    "start_time": "2022-04-04T09:08:06.782Z"
   },
   {
    "duration": 17,
    "start_time": "2022-04-04T09:08:07.365Z"
   },
   {
    "duration": 19,
    "start_time": "2022-04-04T09:08:07.386Z"
   },
   {
    "duration": 3468,
    "start_time": "2022-04-04T09:08:07.407Z"
   },
   {
    "duration": 0,
    "start_time": "2022-04-04T09:08:10.880Z"
   },
   {
    "duration": 0,
    "start_time": "2022-04-04T09:08:10.882Z"
   },
   {
    "duration": 0,
    "start_time": "2022-04-04T09:08:10.891Z"
   },
   {
    "duration": 0,
    "start_time": "2022-04-04T09:08:10.896Z"
   },
   {
    "duration": 0,
    "start_time": "2022-04-04T09:08:10.898Z"
   },
   {
    "duration": 0,
    "start_time": "2022-04-04T09:08:10.904Z"
   },
   {
    "duration": 0,
    "start_time": "2022-04-04T09:08:10.906Z"
   },
   {
    "duration": 0,
    "start_time": "2022-04-04T09:08:10.907Z"
   },
   {
    "duration": 0,
    "start_time": "2022-04-04T09:08:10.909Z"
   },
   {
    "duration": 0,
    "start_time": "2022-04-04T09:08:10.911Z"
   },
   {
    "duration": 0,
    "start_time": "2022-04-04T09:08:10.912Z"
   },
   {
    "duration": 0,
    "start_time": "2022-04-04T09:08:10.913Z"
   },
   {
    "duration": 0,
    "start_time": "2022-04-04T09:08:10.915Z"
   },
   {
    "duration": 0,
    "start_time": "2022-04-04T09:08:10.918Z"
   },
   {
    "duration": 0,
    "start_time": "2022-04-04T09:08:10.919Z"
   },
   {
    "duration": 0,
    "start_time": "2022-04-04T09:08:10.921Z"
   },
   {
    "duration": 0,
    "start_time": "2022-04-04T09:08:10.923Z"
   },
   {
    "duration": 0,
    "start_time": "2022-04-04T09:08:10.925Z"
   },
   {
    "duration": 0,
    "start_time": "2022-04-04T09:08:10.926Z"
   },
   {
    "duration": 0,
    "start_time": "2022-04-04T09:08:10.928Z"
   },
   {
    "duration": 0,
    "start_time": "2022-04-04T09:08:10.930Z"
   },
   {
    "duration": 0,
    "start_time": "2022-04-04T09:08:10.931Z"
   },
   {
    "duration": 0,
    "start_time": "2022-04-04T09:08:10.982Z"
   },
   {
    "duration": 0,
    "start_time": "2022-04-04T09:08:10.983Z"
   },
   {
    "duration": 0,
    "start_time": "2022-04-04T09:08:10.987Z"
   },
   {
    "duration": 0,
    "start_time": "2022-04-04T09:08:10.988Z"
   },
   {
    "duration": 0,
    "start_time": "2022-04-04T09:08:10.989Z"
   },
   {
    "duration": 0,
    "start_time": "2022-04-04T09:08:10.993Z"
   },
   {
    "duration": 0,
    "start_time": "2022-04-04T09:08:10.994Z"
   },
   {
    "duration": 0,
    "start_time": "2022-04-04T09:08:10.996Z"
   },
   {
    "duration": 0,
    "start_time": "2022-04-04T09:08:10.997Z"
   },
   {
    "duration": 1,
    "start_time": "2022-04-04T09:08:10.999Z"
   },
   {
    "duration": 0,
    "start_time": "2022-04-04T09:08:11.001Z"
   },
   {
    "duration": 0,
    "start_time": "2022-04-04T09:08:11.003Z"
   },
   {
    "duration": 0,
    "start_time": "2022-04-04T09:08:11.004Z"
   },
   {
    "duration": 0,
    "start_time": "2022-04-04T09:08:11.006Z"
   },
   {
    "duration": 0,
    "start_time": "2022-04-04T09:08:11.008Z"
   },
   {
    "duration": 11,
    "start_time": "2022-04-04T09:09:34.459Z"
   },
   {
    "duration": 10,
    "start_time": "2022-04-04T09:09:55.054Z"
   },
   {
    "duration": 11,
    "start_time": "2022-04-04T09:09:57.022Z"
   },
   {
    "duration": 10,
    "start_time": "2022-04-04T09:10:01.370Z"
   },
   {
    "duration": 13,
    "start_time": "2022-04-04T09:10:29.778Z"
   },
   {
    "duration": 690,
    "start_time": "2022-04-04T09:10:51.179Z"
   },
   {
    "duration": 8,
    "start_time": "2022-04-04T09:12:11.770Z"
   },
   {
    "duration": 9,
    "start_time": "2022-04-04T09:12:20.230Z"
   },
   {
    "duration": 554,
    "start_time": "2022-04-04T09:12:24.205Z"
   },
   {
    "duration": 9,
    "start_time": "2022-04-04T09:13:06.622Z"
   },
   {
    "duration": 9,
    "start_time": "2022-04-04T09:13:09.514Z"
   },
   {
    "duration": 10,
    "start_time": "2022-04-04T09:13:11.050Z"
   },
   {
    "duration": 655,
    "start_time": "2022-04-04T09:13:13.658Z"
   },
   {
    "duration": 8,
    "start_time": "2022-04-04T09:16:37.326Z"
   },
   {
    "duration": 9,
    "start_time": "2022-04-04T09:16:48.533Z"
   },
   {
    "duration": 11,
    "start_time": "2022-04-04T09:16:52.396Z"
   },
   {
    "duration": 11,
    "start_time": "2022-04-04T09:16:53.101Z"
   },
   {
    "duration": 6,
    "start_time": "2022-04-04T09:17:04.326Z"
   },
   {
    "duration": 25,
    "start_time": "2022-04-04T09:17:27.750Z"
   },
   {
    "duration": 1452,
    "start_time": "2022-04-04T09:18:03.333Z"
   },
   {
    "duration": 71,
    "start_time": "2022-04-04T09:18:04.788Z"
   },
   {
    "duration": 35,
    "start_time": "2022-04-04T09:18:04.861Z"
   },
   {
    "duration": 40,
    "start_time": "2022-04-04T09:18:04.899Z"
   },
   {
    "duration": 18,
    "start_time": "2022-04-04T09:18:04.941Z"
   },
   {
    "duration": 44,
    "start_time": "2022-04-04T09:18:04.961Z"
   },
   {
    "duration": 21,
    "start_time": "2022-04-04T09:18:05.007Z"
   },
   {
    "duration": 19,
    "start_time": "2022-04-04T09:18:05.030Z"
   },
   {
    "duration": 61,
    "start_time": "2022-04-04T09:18:05.051Z"
   },
   {
    "duration": 47,
    "start_time": "2022-04-04T09:18:05.116Z"
   },
   {
    "duration": 11,
    "start_time": "2022-04-04T09:18:05.166Z"
   },
   {
    "duration": 40,
    "start_time": "2022-04-04T09:18:05.179Z"
   },
   {
    "duration": 23,
    "start_time": "2022-04-04T09:18:05.222Z"
   },
   {
    "duration": 33,
    "start_time": "2022-04-04T09:18:05.247Z"
   },
   {
    "duration": 55,
    "start_time": "2022-04-04T09:18:05.283Z"
   },
   {
    "duration": 265,
    "start_time": "2022-04-04T09:18:05.341Z"
   },
   {
    "duration": 56,
    "start_time": "2022-04-04T09:18:05.609Z"
   },
   {
    "duration": 514,
    "start_time": "2022-04-04T09:18:05.682Z"
   },
   {
    "duration": 4,
    "start_time": "2022-04-04T09:18:06.199Z"
   },
   {
    "duration": 35,
    "start_time": "2022-04-04T09:18:06.205Z"
   },
   {
    "duration": 33,
    "start_time": "2022-04-04T09:18:06.242Z"
   },
   {
    "duration": 29,
    "start_time": "2022-04-04T09:18:06.277Z"
   },
   {
    "duration": 495,
    "start_time": "2022-04-04T09:18:06.308Z"
   },
   {
    "duration": 8,
    "start_time": "2022-04-04T09:18:06.805Z"
   },
   {
    "duration": 42,
    "start_time": "2022-04-04T09:18:06.815Z"
   },
   {
    "duration": 35,
    "start_time": "2022-04-04T09:18:06.859Z"
   },
   {
    "duration": 25,
    "start_time": "2022-04-04T09:18:06.897Z"
   },
   {
    "duration": 40,
    "start_time": "2022-04-04T09:18:06.927Z"
   },
   {
    "duration": 149,
    "start_time": "2022-04-04T09:18:06.969Z"
   },
   {
    "duration": 0,
    "start_time": "2022-04-04T09:18:07.121Z"
   },
   {
    "duration": 0,
    "start_time": "2022-04-04T09:18:07.122Z"
   },
   {
    "duration": 0,
    "start_time": "2022-04-04T09:18:07.124Z"
   },
   {
    "duration": 0,
    "start_time": "2022-04-04T09:18:07.126Z"
   },
   {
    "duration": 0,
    "start_time": "2022-04-04T09:18:07.128Z"
   },
   {
    "duration": 0,
    "start_time": "2022-04-04T09:18:07.130Z"
   },
   {
    "duration": 0,
    "start_time": "2022-04-04T09:18:07.131Z"
   },
   {
    "duration": 0,
    "start_time": "2022-04-04T09:18:07.133Z"
   },
   {
    "duration": 0,
    "start_time": "2022-04-04T09:18:07.134Z"
   },
   {
    "duration": 0,
    "start_time": "2022-04-04T09:18:07.135Z"
   },
   {
    "duration": 0,
    "start_time": "2022-04-04T09:18:07.137Z"
   },
   {
    "duration": 0,
    "start_time": "2022-04-04T09:18:07.139Z"
   },
   {
    "duration": 0,
    "start_time": "2022-04-04T09:18:07.140Z"
   },
   {
    "duration": 0,
    "start_time": "2022-04-04T09:18:07.142Z"
   },
   {
    "duration": 0,
    "start_time": "2022-04-04T09:18:07.188Z"
   },
   {
    "duration": 0,
    "start_time": "2022-04-04T09:18:07.193Z"
   },
   {
    "duration": 0,
    "start_time": "2022-04-04T09:18:07.195Z"
   },
   {
    "duration": 0,
    "start_time": "2022-04-04T09:18:07.198Z"
   },
   {
    "duration": 0,
    "start_time": "2022-04-04T09:18:07.199Z"
   },
   {
    "duration": 0,
    "start_time": "2022-04-04T09:18:07.202Z"
   },
   {
    "duration": 0,
    "start_time": "2022-04-04T09:18:07.204Z"
   },
   {
    "duration": 0,
    "start_time": "2022-04-04T09:18:07.206Z"
   },
   {
    "duration": 0,
    "start_time": "2022-04-04T09:18:07.209Z"
   },
   {
    "duration": 0,
    "start_time": "2022-04-04T09:18:07.211Z"
   },
   {
    "duration": 0,
    "start_time": "2022-04-04T09:18:07.213Z"
   },
   {
    "duration": 0,
    "start_time": "2022-04-04T09:18:07.216Z"
   },
   {
    "duration": 0,
    "start_time": "2022-04-04T09:18:07.218Z"
   },
   {
    "duration": 0,
    "start_time": "2022-04-04T09:18:07.221Z"
   },
   {
    "duration": 0,
    "start_time": "2022-04-04T09:18:07.223Z"
   },
   {
    "duration": 0,
    "start_time": "2022-04-04T09:18:07.225Z"
   },
   {
    "duration": 0,
    "start_time": "2022-04-04T09:18:07.283Z"
   },
   {
    "duration": 8,
    "start_time": "2022-04-04T09:20:24.837Z"
   },
   {
    "duration": 10,
    "start_time": "2022-04-04T09:20:26.937Z"
   },
   {
    "duration": 8,
    "start_time": "2022-04-04T09:21:37.853Z"
   },
   {
    "duration": 9,
    "start_time": "2022-04-04T09:21:45.397Z"
   },
   {
    "duration": 11,
    "start_time": "2022-04-04T09:21:47.757Z"
   },
   {
    "duration": 6,
    "start_time": "2022-04-04T09:22:02.173Z"
   },
   {
    "duration": 29,
    "start_time": "2022-04-04T09:22:14.173Z"
   },
   {
    "duration": 25,
    "start_time": "2022-04-04T09:22:50.041Z"
   },
   {
    "duration": 32,
    "start_time": "2022-04-04T09:22:56.017Z"
   },
   {
    "duration": 27,
    "start_time": "2022-04-04T09:24:02.052Z"
   },
   {
    "duration": 385,
    "start_time": "2022-04-04T09:24:09.821Z"
   },
   {
    "duration": 28,
    "start_time": "2022-04-04T09:24:31.877Z"
   },
   {
    "duration": 270,
    "start_time": "2022-04-04T09:24:36.596Z"
   },
   {
    "duration": 36,
    "start_time": "2022-04-04T09:24:50.745Z"
   },
   {
    "duration": 30,
    "start_time": "2022-04-04T09:24:54.813Z"
   },
   {
    "duration": 28,
    "start_time": "2022-04-04T09:25:05.269Z"
   },
   {
    "duration": 28,
    "start_time": "2022-04-04T09:25:09.196Z"
   },
   {
    "duration": 34,
    "start_time": "2022-04-04T09:25:19.988Z"
   },
   {
    "duration": 24,
    "start_time": "2022-04-04T09:25:27.204Z"
   },
   {
    "duration": 142,
    "start_time": "2022-04-04T09:25:30.894Z"
   },
   {
    "duration": 380,
    "start_time": "2022-04-04T09:25:42.740Z"
   },
   {
    "duration": 23,
    "start_time": "2022-04-04T09:29:25.116Z"
   },
   {
    "duration": 34,
    "start_time": "2022-04-04T09:29:30.881Z"
   },
   {
    "duration": 284,
    "start_time": "2022-04-04T09:30:42.713Z"
   },
   {
    "duration": 446,
    "start_time": "2022-04-04T09:30:59.936Z"
   },
   {
    "duration": 364,
    "start_time": "2022-04-04T09:34:14.041Z"
   },
   {
    "duration": 770,
    "start_time": "2022-04-04T09:35:26.780Z"
   },
   {
    "duration": 718,
    "start_time": "2022-04-04T09:37:06.202Z"
   },
   {
    "duration": 668,
    "start_time": "2022-04-04T09:37:35.177Z"
   },
   {
    "duration": 722,
    "start_time": "2022-04-04T09:38:00.830Z"
   },
   {
    "duration": 565,
    "start_time": "2022-04-04T09:38:10.757Z"
   },
   {
    "duration": 563,
    "start_time": "2022-04-04T09:38:42.225Z"
   },
   {
    "duration": 370,
    "start_time": "2022-04-04T09:39:58.318Z"
   },
   {
    "duration": 166,
    "start_time": "2022-04-04T09:51:42.285Z"
   },
   {
    "duration": 156,
    "start_time": "2022-04-04T09:57:16.162Z"
   },
   {
    "duration": 432,
    "start_time": "2022-04-04T09:58:03.646Z"
   },
   {
    "duration": 9,
    "start_time": "2022-04-04T09:58:39.466Z"
   },
   {
    "duration": 9,
    "start_time": "2022-04-04T09:58:49.593Z"
   },
   {
    "duration": 331,
    "start_time": "2022-04-04T09:58:52.918Z"
   },
   {
    "duration": 7,
    "start_time": "2022-04-04T09:58:57.306Z"
   },
   {
    "duration": 227,
    "start_time": "2022-04-04T09:59:00.422Z"
   },
   {
    "duration": 8,
    "start_time": "2022-04-04T09:59:38.757Z"
   },
   {
    "duration": 201,
    "start_time": "2022-04-04T10:01:01.466Z"
   },
   {
    "duration": 316,
    "start_time": "2022-04-04T10:01:23.893Z"
   },
   {
    "duration": 8,
    "start_time": "2022-04-04T10:02:00.065Z"
   },
   {
    "duration": 189,
    "start_time": "2022-04-04T10:02:04.229Z"
   },
   {
    "duration": 7,
    "start_time": "2022-04-04T10:02:08.489Z"
   },
   {
    "duration": 20,
    "start_time": "2022-04-04T10:02:38.642Z"
   },
   {
    "duration": 14,
    "start_time": "2022-04-04T10:03:44.417Z"
   },
   {
    "duration": 20,
    "start_time": "2022-04-04T10:03:52.793Z"
   },
   {
    "duration": 19,
    "start_time": "2022-04-04T10:04:09.366Z"
   },
   {
    "duration": 212,
    "start_time": "2022-04-04T10:04:21.393Z"
   },
   {
    "duration": 1386,
    "start_time": "2022-04-04T10:04:39.791Z"
   },
   {
    "duration": 70,
    "start_time": "2022-04-04T10:04:41.180Z"
   },
   {
    "duration": 30,
    "start_time": "2022-04-04T10:04:41.252Z"
   },
   {
    "duration": 7,
    "start_time": "2022-04-04T10:04:41.285Z"
   },
   {
    "duration": 11,
    "start_time": "2022-04-04T10:04:41.295Z"
   },
   {
    "duration": 26,
    "start_time": "2022-04-04T10:04:41.309Z"
   },
   {
    "duration": 28,
    "start_time": "2022-04-04T10:04:41.338Z"
   },
   {
    "duration": 16,
    "start_time": "2022-04-04T10:04:41.368Z"
   },
   {
    "duration": 25,
    "start_time": "2022-04-04T10:04:41.386Z"
   },
   {
    "duration": 29,
    "start_time": "2022-04-04T10:04:41.415Z"
   },
   {
    "duration": 10,
    "start_time": "2022-04-04T10:04:41.446Z"
   },
   {
    "duration": 18,
    "start_time": "2022-04-04T10:04:41.458Z"
   },
   {
    "duration": 18,
    "start_time": "2022-04-04T10:04:41.478Z"
   },
   {
    "duration": 11,
    "start_time": "2022-04-04T10:04:41.498Z"
   },
   {
    "duration": 19,
    "start_time": "2022-04-04T10:04:41.511Z"
   },
   {
    "duration": 252,
    "start_time": "2022-04-04T10:04:41.533Z"
   },
   {
    "duration": 58,
    "start_time": "2022-04-04T10:04:41.788Z"
   },
   {
    "duration": 503,
    "start_time": "2022-04-04T10:04:41.848Z"
   },
   {
    "duration": 5,
    "start_time": "2022-04-04T10:04:42.353Z"
   },
   {
    "duration": 23,
    "start_time": "2022-04-04T10:04:42.361Z"
   },
   {
    "duration": 10,
    "start_time": "2022-04-04T10:04:42.386Z"
   },
   {
    "duration": 477,
    "start_time": "2022-04-04T10:04:42.398Z"
   },
   {
    "duration": 8,
    "start_time": "2022-04-04T10:04:42.878Z"
   },
   {
    "duration": 10,
    "start_time": "2022-04-04T10:04:42.888Z"
   },
   {
    "duration": 12,
    "start_time": "2022-04-04T10:04:42.900Z"
   },
   {
    "duration": 7,
    "start_time": "2022-04-04T10:04:42.914Z"
   },
   {
    "duration": 25,
    "start_time": "2022-04-04T10:04:42.923Z"
   },
   {
    "duration": 31,
    "start_time": "2022-04-04T10:04:42.985Z"
   },
   {
    "duration": 394,
    "start_time": "2022-04-04T10:04:43.018Z"
   },
   {
    "duration": 186,
    "start_time": "2022-04-04T10:04:43.415Z"
   },
   {
    "duration": 264,
    "start_time": "2022-04-04T10:04:43.603Z"
   },
   {
    "duration": 350,
    "start_time": "2022-04-04T10:04:43.870Z"
   },
   {
    "duration": 10,
    "start_time": "2022-04-04T10:04:44.222Z"
   },
   {
    "duration": 258,
    "start_time": "2022-04-04T10:04:44.235Z"
   },
   {
    "duration": 7,
    "start_time": "2022-04-04T10:04:44.496Z"
   },
   {
    "duration": 255,
    "start_time": "2022-04-04T10:04:44.506Z"
   },
   {
    "duration": 20,
    "start_time": "2022-04-04T10:04:44.763Z"
   },
   {
    "duration": 225,
    "start_time": "2022-04-04T10:04:44.786Z"
   },
   {
    "duration": 8,
    "start_time": "2022-04-04T10:04:45.013Z"
   },
   {
    "duration": 214,
    "start_time": "2022-04-04T10:04:45.023Z"
   },
   {
    "duration": 7,
    "start_time": "2022-04-04T10:04:45.239Z"
   },
   {
    "duration": 43,
    "start_time": "2022-04-04T10:04:45.248Z"
   },
   {
    "duration": 334,
    "start_time": "2022-04-04T10:04:45.293Z"
   },
   {
    "duration": 0,
    "start_time": "2022-04-04T10:04:45.629Z"
   },
   {
    "duration": 0,
    "start_time": "2022-04-04T10:04:45.631Z"
   },
   {
    "duration": 0,
    "start_time": "2022-04-04T10:04:45.632Z"
   },
   {
    "duration": 0,
    "start_time": "2022-04-04T10:04:45.634Z"
   },
   {
    "duration": 0,
    "start_time": "2022-04-04T10:04:45.636Z"
   },
   {
    "duration": 0,
    "start_time": "2022-04-04T10:04:45.638Z"
   },
   {
    "duration": 0,
    "start_time": "2022-04-04T10:04:45.639Z"
   },
   {
    "duration": 0,
    "start_time": "2022-04-04T10:04:45.641Z"
   },
   {
    "duration": 0,
    "start_time": "2022-04-04T10:04:45.642Z"
   },
   {
    "duration": 0,
    "start_time": "2022-04-04T10:04:45.644Z"
   },
   {
    "duration": 0,
    "start_time": "2022-04-04T10:04:45.645Z"
   },
   {
    "duration": 0,
    "start_time": "2022-04-04T10:04:45.646Z"
   },
   {
    "duration": 0,
    "start_time": "2022-04-04T10:04:45.648Z"
   },
   {
    "duration": 0,
    "start_time": "2022-04-04T10:04:45.649Z"
   },
   {
    "duration": 0,
    "start_time": "2022-04-04T10:04:45.683Z"
   },
   {
    "duration": 0,
    "start_time": "2022-04-04T10:04:45.685Z"
   },
   {
    "duration": 0,
    "start_time": "2022-04-04T10:04:45.687Z"
   },
   {
    "duration": 22,
    "start_time": "2022-04-04T10:05:41.432Z"
   },
   {
    "duration": 201,
    "start_time": "2022-04-04T10:05:51.297Z"
   },
   {
    "duration": 13,
    "start_time": "2022-04-04T10:06:36.727Z"
   },
   {
    "duration": 23,
    "start_time": "2022-04-04T10:07:27.126Z"
   },
   {
    "duration": 299,
    "start_time": "2022-04-04T10:07:43.999Z"
   },
   {
    "duration": 17,
    "start_time": "2022-04-04T10:13:15.058Z"
   },
   {
    "duration": 399,
    "start_time": "2022-04-04T10:13:24.175Z"
   },
   {
    "duration": 478,
    "start_time": "2022-04-04T10:13:48.642Z"
   },
   {
    "duration": 560,
    "start_time": "2022-04-04T10:14:31.687Z"
   },
   {
    "duration": 391,
    "start_time": "2022-04-04T10:14:43.826Z"
   },
   {
    "duration": 398,
    "start_time": "2022-04-04T10:19:08.346Z"
   },
   {
    "duration": 397,
    "start_time": "2022-04-04T10:19:22.148Z"
   },
   {
    "duration": 411,
    "start_time": "2022-04-04T10:19:28.359Z"
   },
   {
    "duration": 523,
    "start_time": "2022-04-04T10:19:33.967Z"
   },
   {
    "duration": 537,
    "start_time": "2022-04-04T10:19:39.314Z"
   },
   {
    "duration": 429,
    "start_time": "2022-04-04T10:19:45.174Z"
   },
   {
    "duration": 415,
    "start_time": "2022-04-04T10:19:55.767Z"
   },
   {
    "duration": 432,
    "start_time": "2022-04-04T10:20:02.459Z"
   },
   {
    "duration": 422,
    "start_time": "2022-04-04T10:20:09.154Z"
   },
   {
    "duration": 607,
    "start_time": "2022-04-04T10:24:29.758Z"
   },
   {
    "duration": 435,
    "start_time": "2022-04-04T10:24:36.034Z"
   },
   {
    "duration": 431,
    "start_time": "2022-04-04T10:24:52.847Z"
   },
   {
    "duration": 18,
    "start_time": "2022-04-04T11:13:54.570Z"
   },
   {
    "duration": 16,
    "start_time": "2022-04-04T11:13:58.709Z"
   },
   {
    "duration": 19,
    "start_time": "2022-04-04T11:14:01.055Z"
   },
   {
    "duration": 15,
    "start_time": "2022-04-04T11:16:05.845Z"
   },
   {
    "duration": 17,
    "start_time": "2022-04-04T11:16:08.290Z"
   },
   {
    "duration": 18,
    "start_time": "2022-04-04T11:16:12.306Z"
   },
   {
    "duration": 15,
    "start_time": "2022-04-04T11:18:48.674Z"
   },
   {
    "duration": 16,
    "start_time": "2022-04-04T11:18:52.093Z"
   },
   {
    "duration": 18,
    "start_time": "2022-04-04T11:18:54.650Z"
   },
   {
    "duration": 17,
    "start_time": "2022-04-04T11:20:30.193Z"
   },
   {
    "duration": 17,
    "start_time": "2022-04-04T11:20:32.846Z"
   },
   {
    "duration": 19,
    "start_time": "2022-04-04T11:20:35.317Z"
   },
   {
    "duration": 14,
    "start_time": "2022-04-04T11:21:02.122Z"
   },
   {
    "duration": 10,
    "start_time": "2022-04-04T11:21:05.630Z"
   },
   {
    "duration": 17,
    "start_time": "2022-04-04T11:21:07.049Z"
   },
   {
    "duration": 1376,
    "start_time": "2022-04-04T11:21:23.215Z"
   },
   {
    "duration": 70,
    "start_time": "2022-04-04T11:21:24.593Z"
   },
   {
    "duration": 34,
    "start_time": "2022-04-04T11:21:24.666Z"
   },
   {
    "duration": 7,
    "start_time": "2022-04-04T11:21:24.704Z"
   },
   {
    "duration": 5,
    "start_time": "2022-04-04T11:21:24.714Z"
   },
   {
    "duration": 8,
    "start_time": "2022-04-04T11:21:24.721Z"
   },
   {
    "duration": 11,
    "start_time": "2022-04-04T11:21:24.731Z"
   },
   {
    "duration": 38,
    "start_time": "2022-04-04T11:21:24.745Z"
   },
   {
    "duration": 15,
    "start_time": "2022-04-04T11:21:24.786Z"
   },
   {
    "duration": 24,
    "start_time": "2022-04-04T11:21:24.807Z"
   },
   {
    "duration": 11,
    "start_time": "2022-04-04T11:21:24.834Z"
   },
   {
    "duration": 6,
    "start_time": "2022-04-04T11:21:24.884Z"
   },
   {
    "duration": 9,
    "start_time": "2022-04-04T11:21:24.893Z"
   },
   {
    "duration": 26,
    "start_time": "2022-04-04T11:21:24.904Z"
   },
   {
    "duration": 20,
    "start_time": "2022-04-04T11:21:24.932Z"
   },
   {
    "duration": 270,
    "start_time": "2022-04-04T11:21:24.954Z"
   },
   {
    "duration": 72,
    "start_time": "2022-04-04T11:21:25.226Z"
   },
   {
    "duration": 527,
    "start_time": "2022-04-04T11:21:25.301Z"
   },
   {
    "duration": 5,
    "start_time": "2022-04-04T11:21:25.831Z"
   },
   {
    "duration": 15,
    "start_time": "2022-04-04T11:21:25.838Z"
   },
   {
    "duration": 32,
    "start_time": "2022-04-04T11:21:25.855Z"
   },
   {
    "duration": 462,
    "start_time": "2022-04-04T11:21:25.889Z"
   },
   {
    "duration": 8,
    "start_time": "2022-04-04T11:21:26.353Z"
   },
   {
    "duration": 13,
    "start_time": "2022-04-04T11:21:26.363Z"
   },
   {
    "duration": 13,
    "start_time": "2022-04-04T11:21:26.382Z"
   },
   {
    "duration": 13,
    "start_time": "2022-04-04T11:21:26.397Z"
   },
   {
    "duration": 25,
    "start_time": "2022-04-04T11:21:26.413Z"
   },
   {
    "duration": 56,
    "start_time": "2022-04-04T11:21:26.446Z"
   },
   {
    "duration": 409,
    "start_time": "2022-04-04T11:21:26.505Z"
   },
   {
    "duration": 191,
    "start_time": "2022-04-04T11:21:26.918Z"
   },
   {
    "duration": 285,
    "start_time": "2022-04-04T11:21:27.112Z"
   },
   {
    "duration": 340,
    "start_time": "2022-04-04T11:21:27.407Z"
   },
   {
    "duration": 9,
    "start_time": "2022-04-04T11:21:27.750Z"
   },
   {
    "duration": 240,
    "start_time": "2022-04-04T11:21:27.762Z"
   },
   {
    "duration": 7,
    "start_time": "2022-04-04T11:21:28.004Z"
   },
   {
    "duration": 258,
    "start_time": "2022-04-04T11:21:28.014Z"
   },
   {
    "duration": 12,
    "start_time": "2022-04-04T11:21:28.274Z"
   },
   {
    "duration": 217,
    "start_time": "2022-04-04T11:21:28.288Z"
   },
   {
    "duration": 8,
    "start_time": "2022-04-04T11:21:28.507Z"
   },
   {
    "duration": 218,
    "start_time": "2022-04-04T11:21:28.517Z"
   },
   {
    "duration": 7,
    "start_time": "2022-04-04T11:21:28.737Z"
   },
   {
    "duration": 44,
    "start_time": "2022-04-04T11:21:28.746Z"
   },
   {
    "duration": 310,
    "start_time": "2022-04-04T11:21:28.793Z"
   },
   {
    "duration": 421,
    "start_time": "2022-04-04T11:21:29.106Z"
   },
   {
    "duration": 15,
    "start_time": "2022-04-04T11:21:29.528Z"
   },
   {
    "duration": 37,
    "start_time": "2022-04-04T11:21:29.545Z"
   },
   {
    "duration": 16,
    "start_time": "2022-04-04T11:21:29.584Z"
   },
   {
    "duration": 15,
    "start_time": "2022-04-04T11:21:29.603Z"
   },
   {
    "duration": 14,
    "start_time": "2022-04-04T11:21:29.619Z"
   },
   {
    "duration": 50,
    "start_time": "2022-04-04T11:21:29.635Z"
   },
   {
    "duration": 14,
    "start_time": "2022-04-04T11:21:29.687Z"
   },
   {
    "duration": 14,
    "start_time": "2022-04-04T11:21:29.703Z"
   },
   {
    "duration": 19,
    "start_time": "2022-04-04T11:21:29.720Z"
   },
   {
    "duration": 52,
    "start_time": "2022-04-04T11:21:29.741Z"
   },
   {
    "duration": 15,
    "start_time": "2022-04-04T11:21:29.795Z"
   },
   {
    "duration": 16,
    "start_time": "2022-04-04T11:21:29.812Z"
   },
   {
    "duration": 4,
    "start_time": "2022-04-04T11:21:29.830Z"
   },
   {
    "duration": 49,
    "start_time": "2022-04-04T11:21:29.836Z"
   },
   {
    "duration": 11,
    "start_time": "2022-04-04T11:21:29.887Z"
   },
   {
    "duration": 13,
    "start_time": "2022-04-04T11:21:29.900Z"
   },
   {
    "duration": 10,
    "start_time": "2022-04-04T11:21:29.915Z"
   },
   {
    "duration": 9,
    "start_time": "2022-04-04T11:23:50.274Z"
   },
   {
    "duration": 9,
    "start_time": "2022-04-04T11:25:25.236Z"
   },
   {
    "duration": 1249,
    "start_time": "2022-04-04T12:09:55.071Z"
   },
   {
    "duration": 53,
    "start_time": "2022-04-04T12:09:56.322Z"
   },
   {
    "duration": 15,
    "start_time": "2022-04-04T12:09:56.377Z"
   },
   {
    "duration": 15,
    "start_time": "2022-04-04T12:09:56.394Z"
   },
   {
    "duration": 3,
    "start_time": "2022-04-04T12:09:56.411Z"
   },
   {
    "duration": 10,
    "start_time": "2022-04-04T12:09:56.415Z"
   },
   {
    "duration": 6,
    "start_time": "2022-04-04T12:09:56.426Z"
   },
   {
    "duration": 8,
    "start_time": "2022-04-04T12:09:56.433Z"
   },
   {
    "duration": 10,
    "start_time": "2022-04-04T12:09:56.443Z"
   },
   {
    "duration": 17,
    "start_time": "2022-04-04T12:09:56.455Z"
   },
   {
    "duration": 8,
    "start_time": "2022-04-04T12:09:56.473Z"
   },
   {
    "duration": 4,
    "start_time": "2022-04-04T12:09:56.508Z"
   },
   {
    "duration": 10,
    "start_time": "2022-04-04T12:09:56.513Z"
   },
   {
    "duration": 5,
    "start_time": "2022-04-04T12:09:56.525Z"
   },
   {
    "duration": 12,
    "start_time": "2022-04-04T12:09:56.532Z"
   },
   {
    "duration": 174,
    "start_time": "2022-04-04T12:09:56.546Z"
   },
   {
    "duration": 38,
    "start_time": "2022-04-04T12:09:56.721Z"
   },
   {
    "duration": 327,
    "start_time": "2022-04-04T12:09:56.760Z"
   },
   {
    "duration": 4,
    "start_time": "2022-04-04T12:09:57.089Z"
   },
   {
    "duration": 19,
    "start_time": "2022-04-04T12:09:57.094Z"
   },
   {
    "duration": 8,
    "start_time": "2022-04-04T12:09:57.115Z"
   },
   {
    "duration": 301,
    "start_time": "2022-04-04T12:09:57.124Z"
   },
   {
    "duration": 98,
    "start_time": "2022-04-04T12:09:57.426Z"
   },
   {
    "duration": 0,
    "start_time": "2022-04-04T12:09:57.526Z"
   },
   {
    "duration": 0,
    "start_time": "2022-04-04T12:09:57.528Z"
   },
   {
    "duration": 0,
    "start_time": "2022-04-04T12:09:57.529Z"
   },
   {
    "duration": 0,
    "start_time": "2022-04-04T12:09:57.530Z"
   },
   {
    "duration": 0,
    "start_time": "2022-04-04T12:09:57.531Z"
   },
   {
    "duration": 0,
    "start_time": "2022-04-04T12:09:57.532Z"
   },
   {
    "duration": 0,
    "start_time": "2022-04-04T12:09:57.533Z"
   },
   {
    "duration": 0,
    "start_time": "2022-04-04T12:09:57.534Z"
   },
   {
    "duration": 0,
    "start_time": "2022-04-04T12:09:57.535Z"
   },
   {
    "duration": 0,
    "start_time": "2022-04-04T12:09:57.536Z"
   },
   {
    "duration": 0,
    "start_time": "2022-04-04T12:09:57.537Z"
   },
   {
    "duration": 0,
    "start_time": "2022-04-04T12:09:57.537Z"
   },
   {
    "duration": 0,
    "start_time": "2022-04-04T12:09:57.538Z"
   },
   {
    "duration": 0,
    "start_time": "2022-04-04T12:09:57.539Z"
   },
   {
    "duration": 0,
    "start_time": "2022-04-04T12:09:57.541Z"
   },
   {
    "duration": 0,
    "start_time": "2022-04-04T12:09:57.542Z"
   },
   {
    "duration": 0,
    "start_time": "2022-04-04T12:09:57.543Z"
   },
   {
    "duration": 0,
    "start_time": "2022-04-04T12:09:57.544Z"
   },
   {
    "duration": 0,
    "start_time": "2022-04-04T12:09:57.545Z"
   },
   {
    "duration": 0,
    "start_time": "2022-04-04T12:09:57.546Z"
   },
   {
    "duration": 0,
    "start_time": "2022-04-04T12:09:57.547Z"
   },
   {
    "duration": 0,
    "start_time": "2022-04-04T12:09:57.548Z"
   },
   {
    "duration": 0,
    "start_time": "2022-04-04T12:09:57.549Z"
   },
   {
    "duration": 0,
    "start_time": "2022-04-04T12:09:57.549Z"
   },
   {
    "duration": 0,
    "start_time": "2022-04-04T12:09:57.550Z"
   },
   {
    "duration": 0,
    "start_time": "2022-04-04T12:09:57.551Z"
   },
   {
    "duration": 0,
    "start_time": "2022-04-04T12:09:57.552Z"
   },
   {
    "duration": 0,
    "start_time": "2022-04-04T12:09:57.553Z"
   },
   {
    "duration": 0,
    "start_time": "2022-04-04T12:09:57.554Z"
   },
   {
    "duration": 0,
    "start_time": "2022-04-04T12:09:57.555Z"
   },
   {
    "duration": 0,
    "start_time": "2022-04-04T12:09:57.556Z"
   },
   {
    "duration": 0,
    "start_time": "2022-04-04T12:09:57.557Z"
   },
   {
    "duration": 0,
    "start_time": "2022-04-04T12:09:57.558Z"
   },
   {
    "duration": 0,
    "start_time": "2022-04-04T12:09:57.559Z"
   },
   {
    "duration": 0,
    "start_time": "2022-04-04T12:09:57.560Z"
   },
   {
    "duration": 0,
    "start_time": "2022-04-04T12:09:57.609Z"
   },
   {
    "duration": 0,
    "start_time": "2022-04-04T12:09:57.610Z"
   },
   {
    "duration": 0,
    "start_time": "2022-04-04T12:09:57.611Z"
   },
   {
    "duration": 8,
    "start_time": "2022-04-04T12:10:13.463Z"
   },
   {
    "duration": 12,
    "start_time": "2022-04-04T12:10:35.791Z"
   },
   {
    "duration": 7,
    "start_time": "2022-04-04T12:10:35.805Z"
   },
   {
    "duration": 15,
    "start_time": "2022-04-04T12:10:35.814Z"
   },
   {
    "duration": 11,
    "start_time": "2022-04-04T12:10:35.831Z"
   },
   {
    "duration": 11,
    "start_time": "2022-04-04T12:10:35.844Z"
   },
   {
    "duration": 24,
    "start_time": "2022-04-04T12:10:35.857Z"
   },
   {
    "duration": 40,
    "start_time": "2022-04-04T12:10:35.882Z"
   },
   {
    "duration": 260,
    "start_time": "2022-04-04T12:10:35.924Z"
   },
   {
    "duration": 108,
    "start_time": "2022-04-04T12:10:36.186Z"
   },
   {
    "duration": 289,
    "start_time": "2022-04-04T12:10:36.308Z"
   },
   {
    "duration": 14,
    "start_time": "2022-04-04T12:10:36.599Z"
   },
   {
    "duration": 157,
    "start_time": "2022-04-04T12:10:36.615Z"
   },
   {
    "duration": 5,
    "start_time": "2022-04-04T12:10:36.774Z"
   },
   {
    "duration": 182,
    "start_time": "2022-04-04T12:10:36.780Z"
   },
   {
    "duration": 5,
    "start_time": "2022-04-04T12:10:36.964Z"
   },
   {
    "duration": 150,
    "start_time": "2022-04-04T12:10:36.970Z"
   },
   {
    "duration": 5,
    "start_time": "2022-04-04T12:10:37.121Z"
   },
   {
    "duration": 153,
    "start_time": "2022-04-04T12:10:37.128Z"
   },
   {
    "duration": 5,
    "start_time": "2022-04-04T12:10:37.283Z"
   },
   {
    "duration": 30,
    "start_time": "2022-04-04T12:10:37.289Z"
   },
   {
    "duration": 203,
    "start_time": "2022-04-04T12:10:37.321Z"
   },
   {
    "duration": 269,
    "start_time": "2022-04-04T12:10:37.525Z"
   },
   {
    "duration": 19,
    "start_time": "2022-04-04T12:10:37.796Z"
   },
   {
    "duration": 11,
    "start_time": "2022-04-04T12:10:37.817Z"
   },
   {
    "duration": 14,
    "start_time": "2022-04-04T12:10:37.829Z"
   },
   {
    "duration": 11,
    "start_time": "2022-04-04T12:10:37.844Z"
   },
   {
    "duration": 10,
    "start_time": "2022-04-04T12:10:37.857Z"
   },
   {
    "duration": 48,
    "start_time": "2022-04-04T12:10:37.871Z"
   },
   {
    "duration": 10,
    "start_time": "2022-04-04T12:10:37.921Z"
   },
   {
    "duration": 13,
    "start_time": "2022-04-04T12:10:37.933Z"
   },
   {
    "duration": 14,
    "start_time": "2022-04-04T12:10:37.947Z"
   },
   {
    "duration": 9,
    "start_time": "2022-04-04T12:10:37.962Z"
   },
   {
    "duration": 39,
    "start_time": "2022-04-04T12:10:37.973Z"
   },
   {
    "duration": 16,
    "start_time": "2022-04-04T12:10:38.014Z"
   },
   {
    "duration": 2,
    "start_time": "2022-04-04T12:10:38.032Z"
   },
   {
    "duration": 10,
    "start_time": "2022-04-04T12:10:38.036Z"
   },
   {
    "duration": 7,
    "start_time": "2022-04-04T12:10:38.048Z"
   },
   {
    "duration": 8,
    "start_time": "2022-04-04T12:10:38.057Z"
   },
   {
    "duration": 8,
    "start_time": "2022-04-04T12:10:38.067Z"
   }
  ],
  "kernelspec": {
   "display_name": "Python 3 (ipykernel)",
   "language": "python",
   "name": "python3"
  },
  "language_info": {
   "codemirror_mode": {
    "name": "ipython",
    "version": 3
   },
   "file_extension": ".py",
   "mimetype": "text/x-python",
   "name": "python",
   "nbconvert_exporter": "python",
   "pygments_lexer": "ipython3",
   "version": "3.9.5"
  },
  "toc": {
   "base_numbering": 1,
   "nav_menu": {},
   "number_sections": true,
   "sideBar": true,
   "skip_h1_title": true,
   "title_cell": "Table of Contents",
   "title_sidebar": "Contents",
   "toc_cell": false,
   "toc_position": {},
   "toc_section_display": true,
   "toc_window_display": false
  }
 },
 "nbformat": 4,
 "nbformat_minor": 2
}
