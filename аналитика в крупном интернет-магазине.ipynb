{
 "cells": [
  {
   "cell_type": "markdown",
   "metadata": {},
   "source": [
    "# Приоритизация гипотез и оценка результатов А/В-теста #\n",
    "# Описание проекта\n",
    "\n",
    "Я аналитик крупного интернет-магазина. Вместе с отделом маркетинга мы подготовили список гипотез для увеличения выручки.\n",
    "\n",
    "**Цель исследования**\n",
    "\n",
    "- Приоритизировать гипотезы\n",
    "- Запуститить A/B-тест\n",
    "- Проанализировать результаты"
   ]
  },
  {
   "cell_type": "markdown",
   "metadata": {},
   "source": [
    "## Изучение данных из файла"
   ]
  },
  {
   "cell_type": "markdown",
   "metadata": {},
   "source": [
    "Импортируем необходимые нам библиотеки"
   ]
  },
  {
   "cell_type": "code",
   "execution_count": 1,
   "metadata": {},
   "outputs": [],
   "source": [
    "import pandas as pd\n",
    "import scipy.stats as stats\n",
    "import datetime as dt\n",
    "import numpy as np\n",
    "import matplotlib.pyplot as plt \n",
    "import seaborn as sns \n",
    "import math\n",
    "pd.set_option('display.max_colwidth', 1000) #для вывода всех символов в строках "
   ]
  },
  {
   "cell_type": "markdown",
   "metadata": {},
   "source": [
    "Открываем файлы"
   ]
  },
  {
   "cell_type": "code",
   "execution_count": 2,
   "metadata": {},
   "outputs": [],
   "source": [
    "hypothesis = pd.read_csv('/datasets/hypothesis.csv')\n",
    "orders = pd.read_csv('/datasets/orders.csv')\n",
    "visitors = pd.read_csv('/datasets/visitors.csv')"
   ]
  },
  {
   "cell_type": "markdown",
   "metadata": {},
   "source": [
    "Получаем общую информацию о таблицах"
   ]
  },
  {
   "cell_type": "code",
   "execution_count": 3,
   "metadata": {},
   "outputs": [
    {
     "name": "stdout",
     "output_type": "stream",
     "text": [
      "<class 'pandas.core.frame.DataFrame'>\n",
      "RangeIndex: 9 entries, 0 to 8\n",
      "Data columns (total 5 columns):\n",
      " #   Column      Non-Null Count  Dtype \n",
      "---  ------      --------------  ----- \n",
      " 0   Hypothesis  9 non-null      object\n",
      " 1   Reach       9 non-null      int64 \n",
      " 2   Impact      9 non-null      int64 \n",
      " 3   Confidence  9 non-null      int64 \n",
      " 4   Efforts     9 non-null      int64 \n",
      "dtypes: int64(4), object(1)\n",
      "memory usage: 488.0+ bytes\n"
     ]
    },
    {
     "data": {
      "text/html": [
       "<div>\n",
       "<style scoped>\n",
       "    .dataframe tbody tr th:only-of-type {\n",
       "        vertical-align: middle;\n",
       "    }\n",
       "\n",
       "    .dataframe tbody tr th {\n",
       "        vertical-align: top;\n",
       "    }\n",
       "\n",
       "    .dataframe thead th {\n",
       "        text-align: right;\n",
       "    }\n",
       "</style>\n",
       "<table border=\"1\" class=\"dataframe\">\n",
       "  <thead>\n",
       "    <tr style=\"text-align: right;\">\n",
       "      <th></th>\n",
       "      <th>Hypothesis</th>\n",
       "      <th>Reach</th>\n",
       "      <th>Impact</th>\n",
       "      <th>Confidence</th>\n",
       "      <th>Efforts</th>\n",
       "    </tr>\n",
       "  </thead>\n",
       "  <tbody>\n",
       "    <tr>\n",
       "      <th>0</th>\n",
       "      <td>Добавить два новых канала привлечения трафика, что позволит привлекать на 30% больше пользователей</td>\n",
       "      <td>3</td>\n",
       "      <td>10</td>\n",
       "      <td>8</td>\n",
       "      <td>6</td>\n",
       "    </tr>\n",
       "    <tr>\n",
       "      <th>1</th>\n",
       "      <td>Запустить собственную службу доставки, что сократит срок доставки заказов</td>\n",
       "      <td>2</td>\n",
       "      <td>5</td>\n",
       "      <td>4</td>\n",
       "      <td>10</td>\n",
       "    </tr>\n",
       "    <tr>\n",
       "      <th>2</th>\n",
       "      <td>Добавить блоки рекомендаций товаров на сайт интернет магазина, чтобы повысить конверсию и средний чек заказа</td>\n",
       "      <td>8</td>\n",
       "      <td>3</td>\n",
       "      <td>7</td>\n",
       "      <td>3</td>\n",
       "    </tr>\n",
       "    <tr>\n",
       "      <th>3</th>\n",
       "      <td>Изменить структура категорий, что увеличит конверсию, т.к. пользователи быстрее найдут нужный товар</td>\n",
       "      <td>8</td>\n",
       "      <td>3</td>\n",
       "      <td>3</td>\n",
       "      <td>8</td>\n",
       "    </tr>\n",
       "    <tr>\n",
       "      <th>4</th>\n",
       "      <td>Изменить цвет фона главной страницы, чтобы увеличить вовлеченность пользователей</td>\n",
       "      <td>3</td>\n",
       "      <td>1</td>\n",
       "      <td>1</td>\n",
       "      <td>1</td>\n",
       "    </tr>\n",
       "  </tbody>\n",
       "</table>\n",
       "</div>"
      ],
      "text/plain": [
       "                                                                                                     Hypothesis  \\\n",
       "0            Добавить два новых канала привлечения трафика, что позволит привлекать на 30% больше пользователей   \n",
       "1                                     Запустить собственную службу доставки, что сократит срок доставки заказов   \n",
       "2  Добавить блоки рекомендаций товаров на сайт интернет магазина, чтобы повысить конверсию и средний чек заказа   \n",
       "3           Изменить структура категорий, что увеличит конверсию, т.к. пользователи быстрее найдут нужный товар   \n",
       "4                              Изменить цвет фона главной страницы, чтобы увеличить вовлеченность пользователей   \n",
       "\n",
       "   Reach  Impact  Confidence  Efforts  \n",
       "0      3      10           8        6  \n",
       "1      2       5           4       10  \n",
       "2      8       3           7        3  \n",
       "3      8       3           3        8  \n",
       "4      3       1           1        1  "
      ]
     },
     "execution_count": 3,
     "metadata": {},
     "output_type": "execute_result"
    }
   ],
   "source": [
    "hypothesis.info()\n",
    "hypothesis.head()"
   ]
  },
  {
   "cell_type": "code",
   "execution_count": 4,
   "metadata": {},
   "outputs": [
    {
     "name": "stdout",
     "output_type": "stream",
     "text": [
      "<class 'pandas.core.frame.DataFrame'>\n",
      "RangeIndex: 1197 entries, 0 to 1196\n",
      "Data columns (total 5 columns):\n",
      " #   Column         Non-Null Count  Dtype \n",
      "---  ------         --------------  ----- \n",
      " 0   transactionId  1197 non-null   int64 \n",
      " 1   visitorId      1197 non-null   int64 \n",
      " 2   date           1197 non-null   object\n",
      " 3   revenue        1197 non-null   int64 \n",
      " 4   group          1197 non-null   object\n",
      "dtypes: int64(3), object(2)\n",
      "memory usage: 46.9+ KB\n"
     ]
    },
    {
     "data": {
      "text/html": [
       "<div>\n",
       "<style scoped>\n",
       "    .dataframe tbody tr th:only-of-type {\n",
       "        vertical-align: middle;\n",
       "    }\n",
       "\n",
       "    .dataframe tbody tr th {\n",
       "        vertical-align: top;\n",
       "    }\n",
       "\n",
       "    .dataframe thead th {\n",
       "        text-align: right;\n",
       "    }\n",
       "</style>\n",
       "<table border=\"1\" class=\"dataframe\">\n",
       "  <thead>\n",
       "    <tr style=\"text-align: right;\">\n",
       "      <th></th>\n",
       "      <th>transactionId</th>\n",
       "      <th>visitorId</th>\n",
       "      <th>date</th>\n",
       "      <th>revenue</th>\n",
       "      <th>group</th>\n",
       "    </tr>\n",
       "  </thead>\n",
       "  <tbody>\n",
       "    <tr>\n",
       "      <th>0</th>\n",
       "      <td>3667963787</td>\n",
       "      <td>3312258926</td>\n",
       "      <td>2019-08-15</td>\n",
       "      <td>1650</td>\n",
       "      <td>B</td>\n",
       "    </tr>\n",
       "    <tr>\n",
       "      <th>1</th>\n",
       "      <td>2804400009</td>\n",
       "      <td>3642806036</td>\n",
       "      <td>2019-08-15</td>\n",
       "      <td>730</td>\n",
       "      <td>B</td>\n",
       "    </tr>\n",
       "    <tr>\n",
       "      <th>2</th>\n",
       "      <td>2961555356</td>\n",
       "      <td>4069496402</td>\n",
       "      <td>2019-08-15</td>\n",
       "      <td>400</td>\n",
       "      <td>A</td>\n",
       "    </tr>\n",
       "    <tr>\n",
       "      <th>3</th>\n",
       "      <td>3797467345</td>\n",
       "      <td>1196621759</td>\n",
       "      <td>2019-08-15</td>\n",
       "      <td>9759</td>\n",
       "      <td>B</td>\n",
       "    </tr>\n",
       "    <tr>\n",
       "      <th>4</th>\n",
       "      <td>2282983706</td>\n",
       "      <td>2322279887</td>\n",
       "      <td>2019-08-15</td>\n",
       "      <td>2308</td>\n",
       "      <td>B</td>\n",
       "    </tr>\n",
       "  </tbody>\n",
       "</table>\n",
       "</div>"
      ],
      "text/plain": [
       "   transactionId   visitorId        date  revenue group\n",
       "0     3667963787  3312258926  2019-08-15     1650     B\n",
       "1     2804400009  3642806036  2019-08-15      730     B\n",
       "2     2961555356  4069496402  2019-08-15      400     A\n",
       "3     3797467345  1196621759  2019-08-15     9759     B\n",
       "4     2282983706  2322279887  2019-08-15     2308     B"
      ]
     },
     "execution_count": 4,
     "metadata": {},
     "output_type": "execute_result"
    }
   ],
   "source": [
    "orders.info()\n",
    "orders.head()"
   ]
  },
  {
   "cell_type": "code",
   "execution_count": 5,
   "metadata": {},
   "outputs": [
    {
     "name": "stdout",
     "output_type": "stream",
     "text": [
      "<class 'pandas.core.frame.DataFrame'>\n",
      "RangeIndex: 62 entries, 0 to 61\n",
      "Data columns (total 3 columns):\n",
      " #   Column    Non-Null Count  Dtype \n",
      "---  ------    --------------  ----- \n",
      " 0   date      62 non-null     object\n",
      " 1   group     62 non-null     object\n",
      " 2   visitors  62 non-null     int64 \n",
      "dtypes: int64(1), object(2)\n",
      "memory usage: 1.6+ KB\n"
     ]
    },
    {
     "data": {
      "text/html": [
       "<div>\n",
       "<style scoped>\n",
       "    .dataframe tbody tr th:only-of-type {\n",
       "        vertical-align: middle;\n",
       "    }\n",
       "\n",
       "    .dataframe tbody tr th {\n",
       "        vertical-align: top;\n",
       "    }\n",
       "\n",
       "    .dataframe thead th {\n",
       "        text-align: right;\n",
       "    }\n",
       "</style>\n",
       "<table border=\"1\" class=\"dataframe\">\n",
       "  <thead>\n",
       "    <tr style=\"text-align: right;\">\n",
       "      <th></th>\n",
       "      <th>date</th>\n",
       "      <th>group</th>\n",
       "      <th>visitors</th>\n",
       "    </tr>\n",
       "  </thead>\n",
       "  <tbody>\n",
       "    <tr>\n",
       "      <th>0</th>\n",
       "      <td>2019-08-01</td>\n",
       "      <td>A</td>\n",
       "      <td>719</td>\n",
       "    </tr>\n",
       "    <tr>\n",
       "      <th>1</th>\n",
       "      <td>2019-08-02</td>\n",
       "      <td>A</td>\n",
       "      <td>619</td>\n",
       "    </tr>\n",
       "    <tr>\n",
       "      <th>2</th>\n",
       "      <td>2019-08-03</td>\n",
       "      <td>A</td>\n",
       "      <td>507</td>\n",
       "    </tr>\n",
       "    <tr>\n",
       "      <th>3</th>\n",
       "      <td>2019-08-04</td>\n",
       "      <td>A</td>\n",
       "      <td>717</td>\n",
       "    </tr>\n",
       "    <tr>\n",
       "      <th>4</th>\n",
       "      <td>2019-08-05</td>\n",
       "      <td>A</td>\n",
       "      <td>756</td>\n",
       "    </tr>\n",
       "  </tbody>\n",
       "</table>\n",
       "</div>"
      ],
      "text/plain": [
       "         date group  visitors\n",
       "0  2019-08-01     A       719\n",
       "1  2019-08-02     A       619\n",
       "2  2019-08-03     A       507\n",
       "3  2019-08-04     A       717\n",
       "4  2019-08-05     A       756"
      ]
     },
     "execution_count": 5,
     "metadata": {},
     "output_type": "execute_result"
    }
   ],
   "source": [
    "visitors.info()\n",
    "visitors.head()"
   ]
  },
  {
   "cell_type": "markdown",
   "metadata": {},
   "source": [
    "Вывод:\n",
    "\n",
    "В нашем распоряжении 3 таблицы:\n",
    "\n",
    "*Hypothesis* (Данные для первой части исследования) - 5 столбцов, 9 строк записей, 2 типа данных: int64 и object.\n",
    "Структура:\n",
    "\n",
    "- Hypothesis - краткое описание гипотезы;\n",
    "- Reach - охват пользователей по 10-балльной шкале;\n",
    "- Impact - влияние на пользователей по 10-балльной шкале;\n",
    "- Confidence - уверенность в гипотезе по 10-балльной шкале;\n",
    "- Efforts - затраты ресурсов на проверку гипотезы по 10-балльной шкале. Чем больше значение Efforts, тем дороже проверка гипотезы.\n",
    "\n",
    "*Orders*(Данные для второй части исследования) - 5 столбцов, 1197 строк записей, 2 типа данных: int64 и object.\n",
    "Структура:\n",
    "\n",
    "- transactionId - идентификатор заказа;\n",
    "- visitorId - идентификатор пользователя, совершившего заказ;\n",
    "- date - дата, когда был совершён заказ;\n",
    "- revenue - выручка заказа;\n",
    "- group - группа A/B-теста, в которую попал заказ.\n",
    "\n",
    "*Visitors*(Данные для второй части исследования) - 3 столбца, 62 строки записей, 2 типа данных: int64 и object.\n",
    "Структура:\n",
    "\n",
    "- date - дата;\n",
    "- group - группа A/B-теста;\n",
    "- visitors - количество пользователей в указанную дату в указанной группе A/B-теста.\n",
    "\n",
    "**В названиях колонок видны нарушения:**\n",
    "\n",
    "Необходимо привести к нижнему регистру столбцы таблицы Hypothesis.\n",
    "\n",
    "В двух таблицах есть столбцы с датами, которые имеют тип object. Необходимо изменить тип данных."
   ]
  },
  {
   "cell_type": "markdown",
   "metadata": {},
   "source": [
    "## Предобработка данных"
   ]
  },
  {
   "cell_type": "markdown",
   "metadata": {},
   "source": [
    "**Изменим стиль заголовков столбцов**"
   ]
  },
  {
   "cell_type": "code",
   "execution_count": 6,
   "metadata": {},
   "outputs": [
    {
     "name": "stdout",
     "output_type": "stream",
     "text": [
      "Index(['Hypothesis', 'Reach', 'Impact', 'Confidence', 'Efforts'], dtype='object')\n",
      "Index(['transactionId', 'visitorId', 'date', 'revenue', 'group'], dtype='object')\n"
     ]
    },
    {
     "data": {
      "text/plain": [
       "Index(['date', 'group', 'visitors'], dtype='object')"
      ]
     },
     "execution_count": 6,
     "metadata": {},
     "output_type": "execute_result"
    }
   ],
   "source": [
    "# выведем на экран названия столбцов\n",
    "print(hypothesis.columns)\n",
    "print(orders.columns)\n",
    "visitors.columns"
   ]
  },
  {
   "cell_type": "code",
   "execution_count": 7,
   "metadata": {},
   "outputs": [],
   "source": [
    "# Приведем названия столбцов таблицы hypothesis к нижнему регистру\n",
    "hypothesis.columns = hypothesis.columns.str.lower()"
   ]
  },
  {
   "cell_type": "code",
   "execution_count": 8,
   "metadata": {},
   "outputs": [
    {
     "data": {
      "text/plain": [
       "Index(['hypothesis', 'reach', 'impact', 'confidence', 'efforts'], dtype='object')"
      ]
     },
     "execution_count": 8,
     "metadata": {},
     "output_type": "execute_result"
    }
   ],
   "source": [
    "hypothesis.columns"
   ]
  },
  {
   "cell_type": "markdown",
   "metadata": {},
   "source": [
    "**Заменим тип данных**"
   ]
  },
  {
   "cell_type": "code",
   "execution_count": 9,
   "metadata": {},
   "outputs": [
    {
     "name": "stdout",
     "output_type": "stream",
     "text": [
      "<class 'pandas.core.frame.DataFrame'>\n",
      "RangeIndex: 62 entries, 0 to 61\n",
      "Data columns (total 3 columns):\n",
      " #   Column    Non-Null Count  Dtype         \n",
      "---  ------    --------------  -----         \n",
      " 0   date      62 non-null     datetime64[ns]\n",
      " 1   group     62 non-null     object        \n",
      " 2   visitors  62 non-null     int64         \n",
      "dtypes: datetime64[ns](1), int64(1), object(1)\n",
      "memory usage: 1.6+ KB\n"
     ]
    }
   ],
   "source": [
    "#Заменим тип данных для visitors['date']\n",
    "visitors['date'] = pd.to_datetime(visitors['date'])\n",
    "visitors.info()"
   ]
  },
  {
   "cell_type": "code",
   "execution_count": 10,
   "metadata": {},
   "outputs": [
    {
     "name": "stdout",
     "output_type": "stream",
     "text": [
      "<class 'pandas.core.frame.DataFrame'>\n",
      "RangeIndex: 1197 entries, 0 to 1196\n",
      "Data columns (total 5 columns):\n",
      " #   Column         Non-Null Count  Dtype         \n",
      "---  ------         --------------  -----         \n",
      " 0   transactionId  1197 non-null   int64         \n",
      " 1   visitorId      1197 non-null   int64         \n",
      " 2   date           1197 non-null   datetime64[ns]\n",
      " 3   revenue        1197 non-null   int64         \n",
      " 4   group          1197 non-null   object        \n",
      "dtypes: datetime64[ns](1), int64(3), object(1)\n",
      "memory usage: 46.9+ KB\n"
     ]
    }
   ],
   "source": [
    "#Заменим тип данных для orders['date']\n",
    "orders['date'] = pd.to_datetime(orders['date'])\n",
    "orders.info()"
   ]
  },
  {
   "cell_type": "markdown",
   "metadata": {},
   "source": [
    "**Проверим наличие дубликатов и пропусков**"
   ]
  },
  {
   "cell_type": "code",
   "execution_count": 11,
   "metadata": {},
   "outputs": [
    {
     "name": "stdout",
     "output_type": "stream",
     "text": [
      "0\n",
      "0\n",
      "0\n"
     ]
    }
   ],
   "source": [
    "#Проверим дубликаты\n",
    "print(hypothesis.duplicated().sum())\n",
    "print(orders.duplicated().sum())\n",
    "print(visitors.duplicated().sum())"
   ]
  },
  {
   "cell_type": "code",
   "execution_count": 12,
   "metadata": {},
   "outputs": [
    {
     "name": "stdout",
     "output_type": "stream",
     "text": [
      "hypothesis    0\n",
      "reach         0\n",
      "impact        0\n",
      "confidence    0\n",
      "efforts       0\n",
      "dtype: int64\n",
      "transactionId    0\n",
      "visitorId        0\n",
      "date             0\n",
      "revenue          0\n",
      "group            0\n",
      "dtype: int64\n",
      "date        0\n",
      "group       0\n",
      "visitors    0\n",
      "dtype: int64\n"
     ]
    }
   ],
   "source": [
    "#Проверим пропуски\n",
    "print(hypothesis.isna().sum())\n",
    "print(orders.isna().sum())\n",
    "print(visitors.isna().sum())"
   ]
  },
  {
   "cell_type": "markdown",
   "metadata": {},
   "source": [
    "Дубликаты и пропуски отсутствуют"
   ]
  },
  {
   "cell_type": "markdown",
   "metadata": {},
   "source": [
    "**Проверим наличие пользователей, которые попали в 2 группы теста одновременно**"
   ]
  },
  {
   "cell_type": "code",
   "execution_count": 13,
   "metadata": {},
   "outputs": [
    {
     "data": {
      "text/plain": [
       "58"
      ]
     },
     "execution_count": 13,
     "metadata": {},
     "output_type": "execute_result"
    }
   ],
   "source": [
    "two_group_users = orders.groupby('visitorId').agg({'group':'nunique'})\n",
    "two_group_users = two_group_users.query('group > 1')\n",
    "two_group_users['group'].count()"
   ]
  },
  {
   "cell_type": "markdown",
   "metadata": {},
   "source": [
    "**Вывод:**\n",
    "\n",
    "Провели предобработку и подготовили наши данные к дальнейшему исследованию.\n",
    "\n",
    "На данном этапе мы:\n",
    "\n",
    "- Исправили заголовки столбцов и привели их к \"хорошему\" стилю\n",
    "- Изменили тип данных в столбцах с датами\n",
    "- Проверили таблицы на наличие дубликатов и пропусков (дубликатов и пропусков не обнаружено)"
   ]
  },
  {
   "cell_type": "markdown",
   "metadata": {},
   "source": [
    "## Приоритизация гипотез"
   ]
  },
  {
   "cell_type": "markdown",
   "metadata": {},
   "source": [
    "**Фреймворк ICE**"
   ]
  },
  {
   "cell_type": "markdown",
   "metadata": {},
   "source": [
    "ICE (усилие/простота) - один из самых популярных способов приоритизации задач"
   ]
  },
  {
   "cell_type": "code",
   "execution_count": 14,
   "metadata": {},
   "outputs": [
    {
     "data": {
      "text/html": [
       "<div>\n",
       "<style scoped>\n",
       "    .dataframe tbody tr th:only-of-type {\n",
       "        vertical-align: middle;\n",
       "    }\n",
       "\n",
       "    .dataframe tbody tr th {\n",
       "        vertical-align: top;\n",
       "    }\n",
       "\n",
       "    .dataframe thead th {\n",
       "        text-align: right;\n",
       "    }\n",
       "</style>\n",
       "<table border=\"1\" class=\"dataframe\">\n",
       "  <thead>\n",
       "    <tr style=\"text-align: right;\">\n",
       "      <th></th>\n",
       "      <th>hypothesis</th>\n",
       "      <th>reach</th>\n",
       "      <th>impact</th>\n",
       "      <th>confidence</th>\n",
       "      <th>efforts</th>\n",
       "    </tr>\n",
       "  </thead>\n",
       "  <tbody>\n",
       "    <tr>\n",
       "      <th>0</th>\n",
       "      <td>Добавить два новых канала привлечения трафика, что позволит привлекать на 30% больше пользователей</td>\n",
       "      <td>3</td>\n",
       "      <td>10</td>\n",
       "      <td>8</td>\n",
       "      <td>6</td>\n",
       "    </tr>\n",
       "    <tr>\n",
       "      <th>1</th>\n",
       "      <td>Запустить собственную службу доставки, что сократит срок доставки заказов</td>\n",
       "      <td>2</td>\n",
       "      <td>5</td>\n",
       "      <td>4</td>\n",
       "      <td>10</td>\n",
       "    </tr>\n",
       "    <tr>\n",
       "      <th>2</th>\n",
       "      <td>Добавить блоки рекомендаций товаров на сайт интернет магазина, чтобы повысить конверсию и средний чек заказа</td>\n",
       "      <td>8</td>\n",
       "      <td>3</td>\n",
       "      <td>7</td>\n",
       "      <td>3</td>\n",
       "    </tr>\n",
       "    <tr>\n",
       "      <th>3</th>\n",
       "      <td>Изменить структура категорий, что увеличит конверсию, т.к. пользователи быстрее найдут нужный товар</td>\n",
       "      <td>8</td>\n",
       "      <td>3</td>\n",
       "      <td>3</td>\n",
       "      <td>8</td>\n",
       "    </tr>\n",
       "    <tr>\n",
       "      <th>4</th>\n",
       "      <td>Изменить цвет фона главной страницы, чтобы увеличить вовлеченность пользователей</td>\n",
       "      <td>3</td>\n",
       "      <td>1</td>\n",
       "      <td>1</td>\n",
       "      <td>1</td>\n",
       "    </tr>\n",
       "    <tr>\n",
       "      <th>5</th>\n",
       "      <td>Добавить страницу отзывов клиентов о магазине, что позволит увеличить количество заказов</td>\n",
       "      <td>3</td>\n",
       "      <td>2</td>\n",
       "      <td>2</td>\n",
       "      <td>3</td>\n",
       "    </tr>\n",
       "    <tr>\n",
       "      <th>6</th>\n",
       "      <td>Показать на главной странице баннеры с актуальными акциями и распродажами, чтобы увеличить конверсию</td>\n",
       "      <td>5</td>\n",
       "      <td>3</td>\n",
       "      <td>8</td>\n",
       "      <td>3</td>\n",
       "    </tr>\n",
       "    <tr>\n",
       "      <th>7</th>\n",
       "      <td>Добавить форму подписки на все основные страницы, чтобы собрать базу клиентов для email-рассылок</td>\n",
       "      <td>10</td>\n",
       "      <td>7</td>\n",
       "      <td>8</td>\n",
       "      <td>5</td>\n",
       "    </tr>\n",
       "    <tr>\n",
       "      <th>8</th>\n",
       "      <td>Запустить акцию, дающую скидку на товар в день рождения</td>\n",
       "      <td>1</td>\n",
       "      <td>9</td>\n",
       "      <td>9</td>\n",
       "      <td>5</td>\n",
       "    </tr>\n",
       "  </tbody>\n",
       "</table>\n",
       "</div>"
      ],
      "text/plain": [
       "                                                                                                     hypothesis  \\\n",
       "0            Добавить два новых канала привлечения трафика, что позволит привлекать на 30% больше пользователей   \n",
       "1                                     Запустить собственную службу доставки, что сократит срок доставки заказов   \n",
       "2  Добавить блоки рекомендаций товаров на сайт интернет магазина, чтобы повысить конверсию и средний чек заказа   \n",
       "3           Изменить структура категорий, что увеличит конверсию, т.к. пользователи быстрее найдут нужный товар   \n",
       "4                              Изменить цвет фона главной страницы, чтобы увеличить вовлеченность пользователей   \n",
       "5                      Добавить страницу отзывов клиентов о магазине, что позволит увеличить количество заказов   \n",
       "6          Показать на главной странице баннеры с актуальными акциями и распродажами, чтобы увеличить конверсию   \n",
       "7              Добавить форму подписки на все основные страницы, чтобы собрать базу клиентов для email-рассылок   \n",
       "8                                                       Запустить акцию, дающую скидку на товар в день рождения   \n",
       "\n",
       "   reach  impact  confidence  efforts  \n",
       "0      3      10           8        6  \n",
       "1      2       5           4       10  \n",
       "2      8       3           7        3  \n",
       "3      8       3           3        8  \n",
       "4      3       1           1        1  \n",
       "5      3       2           2        3  \n",
       "6      5       3           8        3  \n",
       "7     10       7           8        5  \n",
       "8      1       9           9        5  "
      ]
     },
     "execution_count": 14,
     "metadata": {},
     "output_type": "execute_result"
    }
   ],
   "source": [
    "hypothesis"
   ]
  },
  {
   "cell_type": "code",
   "execution_count": 15,
   "metadata": {},
   "outputs": [],
   "source": [
    "hypothesis['ICE'] = (hypothesis['impact']*hypothesis['confidence']) / hypothesis['efforts']  "
   ]
  },
  {
   "cell_type": "code",
   "execution_count": 16,
   "metadata": {},
   "outputs": [
    {
     "data": {
      "text/html": [
       "<div>\n",
       "<style scoped>\n",
       "    .dataframe tbody tr th:only-of-type {\n",
       "        vertical-align: middle;\n",
       "    }\n",
       "\n",
       "    .dataframe tbody tr th {\n",
       "        vertical-align: top;\n",
       "    }\n",
       "\n",
       "    .dataframe thead th {\n",
       "        text-align: right;\n",
       "    }\n",
       "</style>\n",
       "<table border=\"1\" class=\"dataframe\">\n",
       "  <thead>\n",
       "    <tr style=\"text-align: right;\">\n",
       "      <th></th>\n",
       "      <th>hypothesis</th>\n",
       "      <th>ICE</th>\n",
       "    </tr>\n",
       "  </thead>\n",
       "  <tbody>\n",
       "    <tr>\n",
       "      <th>8</th>\n",
       "      <td>Запустить акцию, дающую скидку на товар в день рождения</td>\n",
       "      <td>16.0</td>\n",
       "    </tr>\n",
       "    <tr>\n",
       "      <th>0</th>\n",
       "      <td>Добавить два новых канала привлечения трафика, что позволит привлекать на 30% больше пользователей</td>\n",
       "      <td>13.0</td>\n",
       "    </tr>\n",
       "    <tr>\n",
       "      <th>7</th>\n",
       "      <td>Добавить форму подписки на все основные страницы, чтобы собрать базу клиентов для email-рассылок</td>\n",
       "      <td>11.0</td>\n",
       "    </tr>\n",
       "    <tr>\n",
       "      <th>6</th>\n",
       "      <td>Показать на главной странице баннеры с актуальными акциями и распродажами, чтобы увеличить конверсию</td>\n",
       "      <td>8.0</td>\n",
       "    </tr>\n",
       "    <tr>\n",
       "      <th>2</th>\n",
       "      <td>Добавить блоки рекомендаций товаров на сайт интернет магазина, чтобы повысить конверсию и средний чек заказа</td>\n",
       "      <td>7.0</td>\n",
       "    </tr>\n",
       "    <tr>\n",
       "      <th>1</th>\n",
       "      <td>Запустить собственную службу доставки, что сократит срок доставки заказов</td>\n",
       "      <td>2.0</td>\n",
       "    </tr>\n",
       "    <tr>\n",
       "      <th>5</th>\n",
       "      <td>Добавить страницу отзывов клиентов о магазине, что позволит увеличить количество заказов</td>\n",
       "      <td>1.0</td>\n",
       "    </tr>\n",
       "    <tr>\n",
       "      <th>3</th>\n",
       "      <td>Изменить структура категорий, что увеличит конверсию, т.к. пользователи быстрее найдут нужный товар</td>\n",
       "      <td>1.0</td>\n",
       "    </tr>\n",
       "    <tr>\n",
       "      <th>4</th>\n",
       "      <td>Изменить цвет фона главной страницы, чтобы увеличить вовлеченность пользователей</td>\n",
       "      <td>1.0</td>\n",
       "    </tr>\n",
       "  </tbody>\n",
       "</table>\n",
       "</div>"
      ],
      "text/plain": [
       "                                                                                                     hypothesis  \\\n",
       "8                                                       Запустить акцию, дающую скидку на товар в день рождения   \n",
       "0            Добавить два новых канала привлечения трафика, что позволит привлекать на 30% больше пользователей   \n",
       "7              Добавить форму подписки на все основные страницы, чтобы собрать базу клиентов для email-рассылок   \n",
       "6          Показать на главной странице баннеры с актуальными акциями и распродажами, чтобы увеличить конверсию   \n",
       "2  Добавить блоки рекомендаций товаров на сайт интернет магазина, чтобы повысить конверсию и средний чек заказа   \n",
       "1                                     Запустить собственную службу доставки, что сократит срок доставки заказов   \n",
       "5                      Добавить страницу отзывов клиентов о магазине, что позволит увеличить количество заказов   \n",
       "3           Изменить структура категорий, что увеличит конверсию, т.к. пользователи быстрее найдут нужный товар   \n",
       "4                              Изменить цвет фона главной страницы, чтобы увеличить вовлеченность пользователей   \n",
       "\n",
       "    ICE  \n",
       "8  16.0  \n",
       "0  13.0  \n",
       "7  11.0  \n",
       "6   8.0  \n",
       "2   7.0  \n",
       "1   2.0  \n",
       "5   1.0  \n",
       "3   1.0  \n",
       "4   1.0  "
      ]
     },
     "execution_count": 16,
     "metadata": {},
     "output_type": "execute_result"
    }
   ],
   "source": [
    "hice =  hypothesis[['hypothesis', 'ICE']].sort_values(by='ICE', ascending = False).round(0)\n",
    "hice"
   ]
  },
  {
   "cell_type": "markdown",
   "metadata": {},
   "source": [
    "**Фреймворк RICE**"
   ]
  },
  {
   "cell_type": "markdown",
   "metadata": {},
   "source": [
    "RICE - (модификация метода ICE) - состоит из 4х компонентов: влияние, уверенность, усилия,\n",
    "охват"
   ]
  },
  {
   "cell_type": "code",
   "execution_count": 17,
   "metadata": {},
   "outputs": [],
   "source": [
    "hypothesis['RICE'] = (hypothesis['reach']*hypothesis['impact']*hypothesis['confidence'])/hypothesis['efforts']"
   ]
  },
  {
   "cell_type": "code",
   "execution_count": 18,
   "metadata": {},
   "outputs": [
    {
     "data": {
      "text/html": [
       "<div>\n",
       "<style scoped>\n",
       "    .dataframe tbody tr th:only-of-type {\n",
       "        vertical-align: middle;\n",
       "    }\n",
       "\n",
       "    .dataframe tbody tr th {\n",
       "        vertical-align: top;\n",
       "    }\n",
       "\n",
       "    .dataframe thead th {\n",
       "        text-align: right;\n",
       "    }\n",
       "</style>\n",
       "<table border=\"1\" class=\"dataframe\">\n",
       "  <thead>\n",
       "    <tr style=\"text-align: right;\">\n",
       "      <th></th>\n",
       "      <th>hypothesis</th>\n",
       "      <th>RICE</th>\n",
       "    </tr>\n",
       "  </thead>\n",
       "  <tbody>\n",
       "    <tr>\n",
       "      <th>7</th>\n",
       "      <td>Добавить форму подписки на все основные страницы, чтобы собрать базу клиентов для email-рассылок</td>\n",
       "      <td>112.0</td>\n",
       "    </tr>\n",
       "    <tr>\n",
       "      <th>2</th>\n",
       "      <td>Добавить блоки рекомендаций товаров на сайт интернет магазина, чтобы повысить конверсию и средний чек заказа</td>\n",
       "      <td>56.0</td>\n",
       "    </tr>\n",
       "    <tr>\n",
       "      <th>0</th>\n",
       "      <td>Добавить два новых канала привлечения трафика, что позволит привлекать на 30% больше пользователей</td>\n",
       "      <td>40.0</td>\n",
       "    </tr>\n",
       "    <tr>\n",
       "      <th>6</th>\n",
       "      <td>Показать на главной странице баннеры с актуальными акциями и распродажами, чтобы увеличить конверсию</td>\n",
       "      <td>40.0</td>\n",
       "    </tr>\n",
       "    <tr>\n",
       "      <th>8</th>\n",
       "      <td>Запустить акцию, дающую скидку на товар в день рождения</td>\n",
       "      <td>16.0</td>\n",
       "    </tr>\n",
       "    <tr>\n",
       "      <th>3</th>\n",
       "      <td>Изменить структура категорий, что увеличит конверсию, т.к. пользователи быстрее найдут нужный товар</td>\n",
       "      <td>9.0</td>\n",
       "    </tr>\n",
       "    <tr>\n",
       "      <th>1</th>\n",
       "      <td>Запустить собственную службу доставки, что сократит срок доставки заказов</td>\n",
       "      <td>4.0</td>\n",
       "    </tr>\n",
       "    <tr>\n",
       "      <th>5</th>\n",
       "      <td>Добавить страницу отзывов клиентов о магазине, что позволит увеличить количество заказов</td>\n",
       "      <td>4.0</td>\n",
       "    </tr>\n",
       "    <tr>\n",
       "      <th>4</th>\n",
       "      <td>Изменить цвет фона главной страницы, чтобы увеличить вовлеченность пользователей</td>\n",
       "      <td>3.0</td>\n",
       "    </tr>\n",
       "  </tbody>\n",
       "</table>\n",
       "</div>"
      ],
      "text/plain": [
       "                                                                                                     hypothesis  \\\n",
       "7              Добавить форму подписки на все основные страницы, чтобы собрать базу клиентов для email-рассылок   \n",
       "2  Добавить блоки рекомендаций товаров на сайт интернет магазина, чтобы повысить конверсию и средний чек заказа   \n",
       "0            Добавить два новых канала привлечения трафика, что позволит привлекать на 30% больше пользователей   \n",
       "6          Показать на главной странице баннеры с актуальными акциями и распродажами, чтобы увеличить конверсию   \n",
       "8                                                       Запустить акцию, дающую скидку на товар в день рождения   \n",
       "3           Изменить структура категорий, что увеличит конверсию, т.к. пользователи быстрее найдут нужный товар   \n",
       "1                                     Запустить собственную службу доставки, что сократит срок доставки заказов   \n",
       "5                      Добавить страницу отзывов клиентов о магазине, что позволит увеличить количество заказов   \n",
       "4                              Изменить цвет фона главной страницы, чтобы увеличить вовлеченность пользователей   \n",
       "\n",
       "    RICE  \n",
       "7  112.0  \n",
       "2   56.0  \n",
       "0   40.0  \n",
       "6   40.0  \n",
       "8   16.0  \n",
       "3    9.0  \n",
       "1    4.0  \n",
       "5    4.0  \n",
       "4    3.0  "
      ]
     },
     "execution_count": 18,
     "metadata": {},
     "output_type": "execute_result"
    }
   ],
   "source": [
    "hrice = hypothesis[['hypothesis', 'RICE']].sort_values(by='RICE', ascending = False).round(0)\n",
    "hrice"
   ]
  },
  {
   "cell_type": "code",
   "execution_count": 19,
   "metadata": {},
   "outputs": [
    {
     "data": {
      "text/html": [
       "<style  type=\"text/css\" >\n",
       "#T_de964_row0_col1,#T_de964_row2_col2{\n",
       "            background-color:  #800080;\n",
       "            color:  #f1f1f1;\n",
       "        }#T_de964_row0_col2{\n",
       "            background-color:  #e5d4e5;\n",
       "            color:  #000000;\n",
       "        }#T_de964_row1_col1{\n",
       "            background-color:  #973097;\n",
       "            color:  #f1f1f1;\n",
       "        }#T_de964_row1_col2,#T_de964_row3_col2{\n",
       "            background-color:  #cc9fcc;\n",
       "            color:  #000000;\n",
       "        }#T_de964_row2_col1{\n",
       "            background-color:  #a650a6;\n",
       "            color:  #000000;\n",
       "        }#T_de964_row3_col1{\n",
       "            background-color:  #bd80bd;\n",
       "            color:  #000000;\n",
       "        }#T_de964_row4_col1{\n",
       "            background-color:  #c590c5;\n",
       "            color:  #000000;\n",
       "        }#T_de964_row4_col2{\n",
       "            background-color:  #bb7bbb;\n",
       "            color:  #000000;\n",
       "        }#T_de964_row5_col1{\n",
       "            background-color:  #ebe0eb;\n",
       "            color:  #000000;\n",
       "        }#T_de964_row5_col2,#T_de964_row6_col2{\n",
       "            background-color:  #f2eef2;\n",
       "            color:  #000000;\n",
       "        }#T_de964_row6_col1,#T_de964_row7_col1,#T_de964_row8_col1,#T_de964_row8_col2{\n",
       "            background-color:  #f3f0f3;\n",
       "            color:  #000000;\n",
       "        }#T_de964_row7_col2{\n",
       "            background-color:  #ece3ec;\n",
       "            color:  #000000;\n",
       "        }</style><table id=\"T_de964_\" ><thead>    <tr>        <th class=\"blank level0\" ></th>        <th class=\"col_heading level0 col0\" >hypothesis</th>        <th class=\"col_heading level0 col1\" >ICE</th>        <th class=\"col_heading level0 col2\" >RICE</th>    </tr></thead><tbody>\n",
       "                <tr>\n",
       "                        <th id=\"T_de964_level0_row0\" class=\"row_heading level0 row0\" >0</th>\n",
       "                        <td id=\"T_de964_row0_col0\" class=\"data row0 col0\" >Запустить акцию, дающую скидку на товар в день рождения</td>\n",
       "                        <td id=\"T_de964_row0_col1\" class=\"data row0 col1\" >16.000000</td>\n",
       "                        <td id=\"T_de964_row0_col2\" class=\"data row0 col2\" >16.000000</td>\n",
       "            </tr>\n",
       "            <tr>\n",
       "                        <th id=\"T_de964_level0_row1\" class=\"row_heading level0 row1\" >1</th>\n",
       "                        <td id=\"T_de964_row1_col0\" class=\"data row1 col0\" >Добавить два новых канала привлечения трафика, что позволит привлекать на 30% больше пользователей</td>\n",
       "                        <td id=\"T_de964_row1_col1\" class=\"data row1 col1\" >13.000000</td>\n",
       "                        <td id=\"T_de964_row1_col2\" class=\"data row1 col2\" >40.000000</td>\n",
       "            </tr>\n",
       "            <tr>\n",
       "                        <th id=\"T_de964_level0_row2\" class=\"row_heading level0 row2\" >2</th>\n",
       "                        <td id=\"T_de964_row2_col0\" class=\"data row2 col0\" >Добавить форму подписки на все основные страницы, чтобы собрать базу клиентов для email-рассылок</td>\n",
       "                        <td id=\"T_de964_row2_col1\" class=\"data row2 col1\" >11.000000</td>\n",
       "                        <td id=\"T_de964_row2_col2\" class=\"data row2 col2\" >112.000000</td>\n",
       "            </tr>\n",
       "            <tr>\n",
       "                        <th id=\"T_de964_level0_row3\" class=\"row_heading level0 row3\" >3</th>\n",
       "                        <td id=\"T_de964_row3_col0\" class=\"data row3 col0\" >Показать на главной странице баннеры с актуальными акциями и распродажами, чтобы увеличить конверсию</td>\n",
       "                        <td id=\"T_de964_row3_col1\" class=\"data row3 col1\" >8.000000</td>\n",
       "                        <td id=\"T_de964_row3_col2\" class=\"data row3 col2\" >40.000000</td>\n",
       "            </tr>\n",
       "            <tr>\n",
       "                        <th id=\"T_de964_level0_row4\" class=\"row_heading level0 row4\" >4</th>\n",
       "                        <td id=\"T_de964_row4_col0\" class=\"data row4 col0\" >Добавить блоки рекомендаций товаров на сайт интернет магазина, чтобы повысить конверсию и средний чек заказа</td>\n",
       "                        <td id=\"T_de964_row4_col1\" class=\"data row4 col1\" >7.000000</td>\n",
       "                        <td id=\"T_de964_row4_col2\" class=\"data row4 col2\" >56.000000</td>\n",
       "            </tr>\n",
       "            <tr>\n",
       "                        <th id=\"T_de964_level0_row5\" class=\"row_heading level0 row5\" >5</th>\n",
       "                        <td id=\"T_de964_row5_col0\" class=\"data row5 col0\" >Запустить собственную службу доставки, что сократит срок доставки заказов</td>\n",
       "                        <td id=\"T_de964_row5_col1\" class=\"data row5 col1\" >2.000000</td>\n",
       "                        <td id=\"T_de964_row5_col2\" class=\"data row5 col2\" >4.000000</td>\n",
       "            </tr>\n",
       "            <tr>\n",
       "                        <th id=\"T_de964_level0_row6\" class=\"row_heading level0 row6\" >6</th>\n",
       "                        <td id=\"T_de964_row6_col0\" class=\"data row6 col0\" >Добавить страницу отзывов клиентов о магазине, что позволит увеличить количество заказов</td>\n",
       "                        <td id=\"T_de964_row6_col1\" class=\"data row6 col1\" >1.000000</td>\n",
       "                        <td id=\"T_de964_row6_col2\" class=\"data row6 col2\" >4.000000</td>\n",
       "            </tr>\n",
       "            <tr>\n",
       "                        <th id=\"T_de964_level0_row7\" class=\"row_heading level0 row7\" >7</th>\n",
       "                        <td id=\"T_de964_row7_col0\" class=\"data row7 col0\" >Изменить структура категорий, что увеличит конверсию, т.к. пользователи быстрее найдут нужный товар</td>\n",
       "                        <td id=\"T_de964_row7_col1\" class=\"data row7 col1\" >1.000000</td>\n",
       "                        <td id=\"T_de964_row7_col2\" class=\"data row7 col2\" >9.000000</td>\n",
       "            </tr>\n",
       "            <tr>\n",
       "                        <th id=\"T_de964_level0_row8\" class=\"row_heading level0 row8\" >8</th>\n",
       "                        <td id=\"T_de964_row8_col0\" class=\"data row8 col0\" >Изменить цвет фона главной страницы, чтобы увеличить вовлеченность пользователей</td>\n",
       "                        <td id=\"T_de964_row8_col1\" class=\"data row8 col1\" >1.000000</td>\n",
       "                        <td id=\"T_de964_row8_col2\" class=\"data row8 col2\" >3.000000</td>\n",
       "            </tr>\n",
       "    </tbody></table>"
      ],
      "text/plain": [
       "<pandas.io.formats.style.Styler at 0x7f1d9c90ce80>"
      ]
     },
     "execution_count": 19,
     "metadata": {},
     "output_type": "execute_result"
    }
   ],
   "source": [
    "#Объединим\n",
    "unification = hice.merge(hrice, on = 'hypothesis')\n",
    "#ВЫделим цветом\n",
    "cm = sns.light_palette(\"purple\", as_cmap=True) \n",
    "unification.style.background_gradient(cmap=cm)"
   ]
  },
  {
   "cell_type": "markdown",
   "metadata": {},
   "source": [
    "**Вывод:**\n",
    "Мы применили один из самых популярных способов приоритизации задач ICE(«влияние, уверенность, усилия / простота») и его модификатор RICE(«охват»).\n",
    "\n",
    "После применения фреймворка ICE наиболее перспективными гипотезами являются:\n",
    "\n",
    "- Запустить акцию, дающую скидку на товар в день рождения \n",
    "- Добавить два новых канала привлечения трафика, что позволит привлекать на 30% больше пользователей\n",
    "- Добавить форму подписки на все основные страницы, чтобы собрать базу клиентов для email-рассылок\n",
    "\n",
    "Дараметр охвата (*Reach*), использующийся в методе RICE изменил приоритетность, полученную по методу ICE. После применения фреймворка RICE наиболее перспективные гипотезы поменялись.\n",
    "Параметр *Reach* справедливо понизил приоритет акции со скидкой имениннику. То же произошло и с гипотезой о добавлении 2х каналов трафика.\n",
    "\n",
    "После применения флейморка RICE наиболее перспективными гипотезами являются:\n",
    "\n",
    "- Добавить форму подписки на все основные страницы, чтобы собрать базу клиентов для email-рассылок\n",
    "- Добавить блоки рекомендаций товаров на сайт интернет магазина, чтобы повысить конверсию и средний чек заказа \n",
    "- Добавить два новых канала привлечения трафика, что позволит привлекать на 30% больше пользователей \n",
    "\n",
    "Исходя из вышеизложенного, рекомендуется в первую очередь протестировать гипотезы:\n",
    "\n",
    "- Добавить форму подписки на все основные страницы, чтобы собрать базу клиентов для email-рассылок \n",
    "- Добавить два новых канала привлечения трафика, что позволит привлекать на 30% больше пользователей "
   ]
  },
  {
   "cell_type": "markdown",
   "metadata": {},
   "source": [
    "## Анализ A/B-теста"
   ]
  },
  {
   "cell_type": "markdown",
   "metadata": {},
   "source": [
    "**График кумулятивной выручки по группам**"
   ]
  },
  {
   "cell_type": "code",
   "execution_count": 20,
   "metadata": {},
   "outputs": [],
   "source": [
    "#Создадим массив уникальных пар значений дат и групп теста\n",
    "datesGroups = orders[['date','group']].drop_duplicates()"
   ]
  },
  {
   "cell_type": "code",
   "execution_count": 21,
   "metadata": {},
   "outputs": [],
   "source": [
    "ordersAggregated = datesGroups.apply(\n",
    "    lambda x: orders[np.logical_and(orders['date'] <= x['date'], orders['group'] == x['group'])].agg({\n",
    "'date' : 'max',\n",
    "'group' : 'max',\n",
    "'transactionId' : pd.Series.nunique,\n",
    "'visitorId' : pd.Series.nunique,\n",
    "'revenue' : 'sum'}), axis=1).sort_values(by=['date','group']) "
   ]
  },
  {
   "cell_type": "markdown",
   "metadata": {},
   "source": [
    "Этот код работает так, будто мы ежедневно считали результаты тестирования до выбранного дня включительно и сохраняли их в строках таблицы ordersAggregated, содержащую такие столбцы:\n",
    "\n",
    "- дату\n",
    "- группу A/B-теста\n",
    "- число уникальных заказов в группе теста по указанную дату включительно\n",
    "- число уникальных пользователей, совершивших хотя бы 1 заказ в группе теста по указанную дату включительно\n",
    "- суммарную выручку заказов в группе теста по указанную дату включительно\n",
    "\n",
    "Объявим переменную visitorsAggregated, содержащую:\n",
    "\n",
    "- дату;\n",
    "- группу A/B-теста;\n",
    "- количество уникальных посетителей в группе теста по указанную дату включительно."
   ]
  },
  {
   "cell_type": "code",
   "execution_count": 22,
   "metadata": {},
   "outputs": [],
   "source": [
    "visitorsAggregated = datesGroups.apply(\n",
    "    lambda x: visitors[np.logical_and(visitors['date'] <= x['date'], visitors['group'] == x['group'])].agg({\n",
    "'date' : 'max',\n",
    "'group' : 'max',\n",
    "'visitors' : 'sum'}), axis=1).sort_values(by=['date','group'])"
   ]
  },
  {
   "cell_type": "markdown",
   "metadata": {},
   "source": [
    "Определим переменную cumulativeData, объединив ordersAggregated и visitorsAggregated по колонкам 'date', 'group' методом merge()"
   ]
  },
  {
   "cell_type": "code",
   "execution_count": 23,
   "metadata": {},
   "outputs": [],
   "source": [
    "cumulativeData = ordersAggregated.merge(visitorsAggregated, left_on=['date', 'group'], right_on=['date', 'group'])"
   ]
  },
  {
   "cell_type": "markdown",
   "metadata": {},
   "source": [
    "Присвоим столбцам cumulativeData названия ['date', 'group', 'orders', 'buyers', 'revenue', 'visitors']"
   ]
  },
  {
   "cell_type": "code",
   "execution_count": 24,
   "metadata": {},
   "outputs": [
    {
     "data": {
      "text/html": [
       "<div>\n",
       "<style scoped>\n",
       "    .dataframe tbody tr th:only-of-type {\n",
       "        vertical-align: middle;\n",
       "    }\n",
       "\n",
       "    .dataframe tbody tr th {\n",
       "        vertical-align: top;\n",
       "    }\n",
       "\n",
       "    .dataframe thead th {\n",
       "        text-align: right;\n",
       "    }\n",
       "</style>\n",
       "<table border=\"1\" class=\"dataframe\">\n",
       "  <thead>\n",
       "    <tr style=\"text-align: right;\">\n",
       "      <th></th>\n",
       "      <th>date</th>\n",
       "      <th>group</th>\n",
       "      <th>orders</th>\n",
       "      <th>buyers</th>\n",
       "      <th>revenue</th>\n",
       "      <th>visitors</th>\n",
       "    </tr>\n",
       "  </thead>\n",
       "  <tbody>\n",
       "    <tr>\n",
       "      <th>0</th>\n",
       "      <td>2019-08-01</td>\n",
       "      <td>A</td>\n",
       "      <td>24</td>\n",
       "      <td>20</td>\n",
       "      <td>148579</td>\n",
       "      <td>719</td>\n",
       "    </tr>\n",
       "    <tr>\n",
       "      <th>1</th>\n",
       "      <td>2019-08-01</td>\n",
       "      <td>B</td>\n",
       "      <td>21</td>\n",
       "      <td>20</td>\n",
       "      <td>101217</td>\n",
       "      <td>713</td>\n",
       "    </tr>\n",
       "    <tr>\n",
       "      <th>2</th>\n",
       "      <td>2019-08-02</td>\n",
       "      <td>A</td>\n",
       "      <td>44</td>\n",
       "      <td>38</td>\n",
       "      <td>242401</td>\n",
       "      <td>1338</td>\n",
       "    </tr>\n",
       "    <tr>\n",
       "      <th>3</th>\n",
       "      <td>2019-08-02</td>\n",
       "      <td>B</td>\n",
       "      <td>45</td>\n",
       "      <td>43</td>\n",
       "      <td>266748</td>\n",
       "      <td>1294</td>\n",
       "    </tr>\n",
       "    <tr>\n",
       "      <th>4</th>\n",
       "      <td>2019-08-03</td>\n",
       "      <td>A</td>\n",
       "      <td>68</td>\n",
       "      <td>62</td>\n",
       "      <td>354874</td>\n",
       "      <td>1845</td>\n",
       "    </tr>\n",
       "    <tr>\n",
       "      <th>...</th>\n",
       "      <td>...</td>\n",
       "      <td>...</td>\n",
       "      <td>...</td>\n",
       "      <td>...</td>\n",
       "      <td>...</td>\n",
       "      <td>...</td>\n",
       "    </tr>\n",
       "    <tr>\n",
       "      <th>57</th>\n",
       "      <td>2019-08-29</td>\n",
       "      <td>B</td>\n",
       "      <td>596</td>\n",
       "      <td>544</td>\n",
       "      <td>5559398</td>\n",
       "      <td>17708</td>\n",
       "    </tr>\n",
       "    <tr>\n",
       "      <th>58</th>\n",
       "      <td>2019-08-30</td>\n",
       "      <td>A</td>\n",
       "      <td>545</td>\n",
       "      <td>493</td>\n",
       "      <td>4022970</td>\n",
       "      <td>18037</td>\n",
       "    </tr>\n",
       "    <tr>\n",
       "      <th>59</th>\n",
       "      <td>2019-08-30</td>\n",
       "      <td>B</td>\n",
       "      <td>620</td>\n",
       "      <td>567</td>\n",
       "      <td>5774631</td>\n",
       "      <td>18198</td>\n",
       "    </tr>\n",
       "    <tr>\n",
       "      <th>60</th>\n",
       "      <td>2019-08-31</td>\n",
       "      <td>A</td>\n",
       "      <td>557</td>\n",
       "      <td>503</td>\n",
       "      <td>4084803</td>\n",
       "      <td>18736</td>\n",
       "    </tr>\n",
       "    <tr>\n",
       "      <th>61</th>\n",
       "      <td>2019-08-31</td>\n",
       "      <td>B</td>\n",
       "      <td>640</td>\n",
       "      <td>586</td>\n",
       "      <td>5907760</td>\n",
       "      <td>18916</td>\n",
       "    </tr>\n",
       "  </tbody>\n",
       "</table>\n",
       "<p>62 rows × 6 columns</p>\n",
       "</div>"
      ],
      "text/plain": [
       "         date group  orders  buyers  revenue  visitors\n",
       "0  2019-08-01     A      24      20   148579       719\n",
       "1  2019-08-01     B      21      20   101217       713\n",
       "2  2019-08-02     A      44      38   242401      1338\n",
       "3  2019-08-02     B      45      43   266748      1294\n",
       "4  2019-08-03     A      68      62   354874      1845\n",
       "..        ...   ...     ...     ...      ...       ...\n",
       "57 2019-08-29     B     596     544  5559398     17708\n",
       "58 2019-08-30     A     545     493  4022970     18037\n",
       "59 2019-08-30     B     620     567  5774631     18198\n",
       "60 2019-08-31     A     557     503  4084803     18736\n",
       "61 2019-08-31     B     640     586  5907760     18916\n",
       "\n",
       "[62 rows x 6 columns]"
      ]
     },
     "execution_count": 24,
     "metadata": {},
     "output_type": "execute_result"
    }
   ],
   "source": [
    "cumulativeData.columns = ['date', 'group', 'orders', 'buyers', 'revenue', 'visitors']\n",
    "cumulativeData"
   ]
  },
  {
   "cell_type": "markdown",
   "metadata": {},
   "source": [
    "Все нужные кумулятивные данные собраны. Приступаем к построению графиков."
   ]
  },
  {
   "cell_type": "markdown",
   "metadata": {},
   "source": [
    "Объявим переменные cumulativeRevenueA и cumulativeRevenueB, в которых сохраните данные о датах, выручке и числе заказов в группах A и B."
   ]
  },
  {
   "cell_type": "code",
   "execution_count": 25,
   "metadata": {},
   "outputs": [
    {
     "data": {
      "image/png": "[encoded data removed]",
      "text/plain": [
       "<Figure size 1440x432 with 1 Axes>"
      ]
     },
     "metadata": {
      "needs_background": "light"
     },
     "output_type": "display_data"
    }
   ],
   "source": [
    "# датафрейм с кумулятивным количеством заказов и кумулятивной выручкой по дням в группе А\n",
    "cumulativeRevenueA = cumulativeData[cumulativeData['group']=='A'][['date','revenue', 'orders']]\n",
    "\n",
    "plt.figure(figsize=(20,6))\n",
    "\n",
    "# датафрейм с кумулятивным количеством заказов и кумулятивной выручкой по дням в группе B\n",
    "cumulativeRevenueB = cumulativeData[cumulativeData['group']=='B'][['date','revenue', 'orders']]\n",
    "\n",
    "\n",
    "# Строим график выручки группы А\n",
    "plt.plot(cumulativeRevenueA['date'], cumulativeRevenueA['revenue'], label='A')\n",
    "\n",
    "# Строим график выручки группы B\n",
    "plt.plot(cumulativeRevenueB['date'], cumulativeRevenueB['revenue'], label='B')\n",
    "\n",
    "plt.title('График кумулятивной выручки по группам', size=20)\n",
    "plt.xlabel(\"Дата\", size=15)\n",
    "plt.ylabel(\"Выручка\", size=15)\n",
    "plt.legend()\n",
    "plt.grid()\n",
    "plt.show()"
   ]
  },
  {
   "cell_type": "markdown",
   "metadata": {},
   "source": [
    "До 18.08.2019 выручка почти равномерно увеличивается. Далее наблюдаем реpкий скачок группы В (всплеск числа заказов, либо о появление очень дорогих заказов в наших данных)."
   ]
  },
  {
   "cell_type": "markdown",
   "metadata": {},
   "source": [
    "**График кумулятивного среднего чека по группам**"
   ]
  },
  {
   "cell_type": "code",
   "execution_count": 26,
   "metadata": {
    "scrolled": true
   },
   "outputs": [
    {
     "data": {
      "image/png": "[encoded data removed]",
      "text/plain": [
       "<Figure size 1440x432 with 1 Axes>"
      ]
     },
     "metadata": {
      "needs_background": "light"
     },
     "output_type": "display_data"
    }
   ],
   "source": [
    "plt.figure(figsize=(20,6))\n",
    "plt.plot(cumulativeRevenueA['date'], cumulativeRevenueA['revenue']/cumulativeRevenueA['orders'], label='A')\n",
    "plt.plot(cumulativeRevenueB['date'], cumulativeRevenueB['revenue']/cumulativeRevenueB['orders'], label='B')\n",
    "plt.legend()\n",
    "plt.title('График кумулятивного среднего чека по группам', size=20)\n",
    "plt.xlabel(\"Дата\", size=15)\n",
    "plt.ylabel(\"Средний чек\", size=15)\n",
    "plt.legend()\n",
    "plt.grid()\n",
    "plt.show();"
   ]
  },
  {
   "cell_type": "markdown",
   "metadata": {},
   "source": [
    "Так же, как и в предыдущем графике, средний чек у обоих групп выравнивается к 18.08.2019. Далее после резкого скачка у группы В наблюдаем стабильное уменьшение среднего чека.\n"
   ]
  },
  {
   "cell_type": "markdown",
   "metadata": {},
   "source": [
    "**График относительного изменения кумулятивного среднего чека группы B к группе A**"
   ]
  },
  {
   "cell_type": "markdown",
   "metadata": {},
   "source": [
    "Построим график относительного различия для среднего чека. Добавим горизонтальную ось методом axhline()"
   ]
  },
  {
   "cell_type": "code",
   "execution_count": 27,
   "metadata": {},
   "outputs": [
    {
     "data": {
      "image/png": "[encoded data removed]",
      "text/plain": [
       "<Figure size 1440x432 with 1 Axes>"
      ]
     },
     "metadata": {
      "needs_background": "light"
     },
     "output_type": "display_data"
    }
   ],
   "source": [
    "# собираем данные в одном датафрейме\n",
    "mergedCumulativeRevenue = cumulativeRevenueA.merge(cumulativeRevenueB, left_on='date', right_on='date', how='left', suffixes=['A', 'B'])\n",
    "\n",
    "# cтроим отношение средних чеков\n",
    "plt.figure(figsize=(20,6))\n",
    "plt.plot(mergedCumulativeRevenue['date'], (mergedCumulativeRevenue['revenueB']/mergedCumulativeRevenue['ordersB'])/(mergedCumulativeRevenue['revenueA']/mergedCumulativeRevenue['ordersA'])-1)\n",
    "\n",
    "# добавляем ось X\n",
    "plt.axhline(y=0, color='red', linestyle='--') \n",
    "plt.title('График относительного изменения кумулятивного среднего чека группы B к группе A', size=20)\n",
    "plt.xlabel(\"Дата\", size=15)\n",
    "plt.grid()\n",
    "plt.show()"
   ]
  },
  {
   "cell_type": "markdown",
   "metadata": {},
   "source": [
    "В нескольких точках график различия между сегментами резко «скачет». Скорее всего это крупные заказы и выбросы."
   ]
  },
  {
   "cell_type": "markdown",
   "metadata": {},
   "source": [
    "**График кумулятивной конверсии по группам**"
   ]
  },
  {
   "cell_type": "markdown",
   "metadata": {},
   "source": [
    "Для начала определим минимальную и максимальную дату"
   ]
  },
  {
   "cell_type": "code",
   "execution_count": 28,
   "metadata": {},
   "outputs": [
    {
     "name": "stdout",
     "output_type": "stream",
     "text": [
      "2019-08-01 00:00:00\n",
      "2019-08-31 00:00:00\n"
     ]
    }
   ],
   "source": [
    "print(mergedCumulativeRevenue['date'].min())\n",
    "print(mergedCumulativeRevenue['date'].max())"
   ]
  },
  {
   "cell_type": "markdown",
   "metadata": {},
   "source": [
    "Аналогично проанализируем график кумулятивной конверсии. Зададим масштаб осей методом plt.axis(). Передадим ему минимальное и максимальное значения оси x; минимальное и максимальное значения оси y — [\"2019-08-01\", '2019-08-31', 0.029, 0.037]:"
   ]
  },
  {
   "cell_type": "code",
   "execution_count": 29,
   "metadata": {
    "scrolled": true
   },
   "outputs": [
    {
     "data": {
      "image/png": "[encoded data removed]",
      "text/plain": [
       "<Figure size 1440x432 with 1 Axes>"
      ]
     },
     "metadata": {
      "needs_background": "light"
     },
     "output_type": "display_data"
    }
   ],
   "source": [
    "# считаем кумулятивную конверсию\n",
    "cumulativeData['conversion'] = cumulativeData['orders']/cumulativeData['visitors']\n",
    "\n",
    "# отделяем данные по группе A\n",
    "cumulativeDataA = cumulativeData[cumulativeData['group']=='A']\n",
    "\n",
    "# отделяем данные по группе B\n",
    "cumulativeDataB = cumulativeData[cumulativeData['group']=='B']\n",
    "\n",
    "\n",
    "# строим графики\n",
    "plt.figure(figsize=(20,6))\n",
    "plt.plot(cumulativeDataA['date'], cumulativeDataA['conversion'], label='A')\n",
    "plt.plot(cumulativeDataB['date'], cumulativeDataB['conversion'], label='B')\n",
    "plt.legend()\n",
    "\n",
    "# задаем масштаб осей\n",
    "plt.axis([dt.datetime(2019, 8, 1), dt.datetime(2019, 8, 31), 0.001, 0.05])\n",
    "plt.title('График кумулятивной конверсии по группам', size=20)\n",
    "plt.xlabel(\"Дата\", size=15)\n",
    "plt.ylabel(\"Конверсия\", size=15)\n",
    "plt.legend()\n",
    "plt.grid()\n",
    "plt.show()"
   ]
  },
  {
   "cell_type": "markdown",
   "metadata": {},
   "source": [
    "До 5 августа данные колебаются вокруг одного значения. Но затем конверсия группы В вырывается в лидеры и фиксируется около одного значения. Так же по группе А - с 9 Августа она зафиксировалась на одном значении (примерно 0.03)"
   ]
  },
  {
   "cell_type": "markdown",
   "metadata": {},
   "source": [
    "**График относительного изменения кумулятивной конверсии группы B к группе A**"
   ]
  },
  {
   "cell_type": "code",
   "execution_count": 30,
   "metadata": {},
   "outputs": [],
   "source": [
    "mergedCumulativeConversions = cumulativeDataA[['date','conversion']].merge(cumulativeDataB[['date','conversion']], left_on='date', right_on='date', how='left', suffixes=['A', 'B'])"
   ]
  },
  {
   "cell_type": "code",
   "execution_count": 31,
   "metadata": {},
   "outputs": [
    {
     "data": {
      "image/png": "[encoded data removed]",
      "text/plain": [
       "<Figure size 1440x432 with 1 Axes>"
      ]
     },
     "metadata": {
      "needs_background": "light"
     },
     "output_type": "display_data"
    }
   ],
   "source": [
    "plt.figure(figsize=(20,6))\n",
    "plt.plot(mergedCumulativeConversions['date'], mergedCumulativeConversions['conversionB']/mergedCumulativeConversions['conversionA']-1, label=\"Относительный прирост конверсии группы B относительно группы A\")\n",
    "\n",
    "\n",
    "plt.axhline(y=0, color='green', linestyle='--')\n",
    "plt.axhline(y=0.2, color='red', linestyle='--')\n",
    "\n",
    "plt.axis([dt.datetime(2019, 8, 1), dt.datetime(2019, 8, 31), -0.15, 0.25])\n",
    "plt.title('График относительного изменения кумулятивной конверсии группы B к группе A', size=20)\n",
    "plt.xlabel(\"Дата\", size=15)\n",
    "plt.ylabel(\"Конверсия %\", size=15)\n",
    "plt.grid()\n",
    "plt.show()"
   ]
  },
  {
   "cell_type": "markdown",
   "metadata": {},
   "source": [
    "С самого начала группа В лидирует в конверсии, но достигнув отметки 20% стала немного регрессировать и зафиксировалась в отметке примерно 12-13% относительно группы А."
   ]
  },
  {
   "cell_type": "markdown",
   "metadata": {},
   "source": [
    "**График количества заказов по пользователям**"
   ]
  },
  {
   "cell_type": "markdown",
   "metadata": {},
   "source": [
    "Найдём число заказов по пользователям — создим датафрейм c двумя столбцами: 'userId' и 'orders'. Назовиём его ordersByUsers"
   ]
  },
  {
   "cell_type": "code",
   "execution_count": 32,
   "metadata": {},
   "outputs": [
    {
     "data": {
      "text/html": [
       "<div>\n",
       "<style scoped>\n",
       "    .dataframe tbody tr th:only-of-type {\n",
       "        vertical-align: middle;\n",
       "    }\n",
       "\n",
       "    .dataframe tbody tr th {\n",
       "        vertical-align: top;\n",
       "    }\n",
       "\n",
       "    .dataframe thead th {\n",
       "        text-align: right;\n",
       "    }\n",
       "</style>\n",
       "<table border=\"1\" class=\"dataframe\">\n",
       "  <thead>\n",
       "    <tr style=\"text-align: right;\">\n",
       "      <th></th>\n",
       "      <th>userId</th>\n",
       "      <th>orders</th>\n",
       "    </tr>\n",
       "  </thead>\n",
       "  <tbody>\n",
       "    <tr>\n",
       "      <th>0</th>\n",
       "      <td>5114589</td>\n",
       "      <td>1</td>\n",
       "    </tr>\n",
       "    <tr>\n",
       "      <th>656</th>\n",
       "      <td>2705308997</td>\n",
       "      <td>1</td>\n",
       "    </tr>\n",
       "    <tr>\n",
       "      <th>658</th>\n",
       "      <td>2710193528</td>\n",
       "      <td>1</td>\n",
       "    </tr>\n",
       "    <tr>\n",
       "      <th>659</th>\n",
       "      <td>2710478747</td>\n",
       "      <td>1</td>\n",
       "    </tr>\n",
       "    <tr>\n",
       "      <th>660</th>\n",
       "      <td>2710492161</td>\n",
       "      <td>1</td>\n",
       "    </tr>\n",
       "  </tbody>\n",
       "</table>\n",
       "</div>"
      ],
      "text/plain": [
       "         userId  orders\n",
       "0       5114589       1\n",
       "656  2705308997       1\n",
       "658  2710193528       1\n",
       "659  2710478747       1\n",
       "660  2710492161       1"
      ]
     },
     "execution_count": 32,
     "metadata": {},
     "output_type": "execute_result"
    }
   ],
   "source": [
    "ordersByUsers  = orders.drop(['group', 'revenue', 'date'], \n",
    "                             axis=1).groupby('visitorId', as_index=False).agg({'transactionId': 'nunique'})\n",
    "ordersByUsers.columns = ['userId', 'orders']\n",
    "ordersByUsers.sort_values('orders').head()"
   ]
  },
  {
   "cell_type": "markdown",
   "metadata": {},
   "source": [
    "Построим гистограмму распледеления:"
   ]
  },
  {
   "cell_type": "code",
   "execution_count": 33,
   "metadata": {},
   "outputs": [
    {
     "data": {
      "image/png": "[encoded data removed]",
      "text/plain": [
       "<Figure size 432x288 with 1 Axes>"
      ]
     },
     "metadata": {
      "needs_background": "light"
     },
     "output_type": "display_data"
    }
   ],
   "source": [
    "plt.hist(ordersByUsers['orders'], color = 'purple')\n",
    "plt.grid()\n",
    "plt.title('Распределение заказов по пользователям')\n",
    "plt.xlabel('кол-во заказов')\n",
    "plt.ylabel('кол-во пользователей')\n",
    "plt.show()"
   ]
  },
  {
   "cell_type": "markdown",
   "metadata": {},
   "source": [
    "Большинство пользователей совершило всего 1 заказ. Однако не ясно, сколько пользователей заказало 2, 3 и более раза. "
   ]
  },
  {
   "cell_type": "code",
   "execution_count": 34,
   "metadata": {},
   "outputs": [
    {
     "data": {
      "image/png": "[encoded data removed]",
      "text/plain": [
       "<Figure size 432x288 with 1 Axes>"
      ]
     },
     "metadata": {
      "needs_background": "light"
     },
     "output_type": "display_data"
    }
   ],
   "source": [
    "x_values = pd.Series(range(0, len(ordersByUsers)))\n",
    "plt.scatter(x_values, ordersByUsers['orders'], color = 'purple')\n",
    "plt.xlabel('кол-во заказов')\n",
    "plt.ylabel('кол-во пользователей')\n",
    "plt.show()"
   ]
  },
  {
   "cell_type": "markdown",
   "metadata": {},
   "source": [
    "Пользователей, заказавших более 2ух раз немного. Они вполне могут быть аномальными."
   ]
  },
  {
   "cell_type": "markdown",
   "metadata": {},
   "source": [
    "**Перцентили количества заказов на пользователя**"
   ]
  },
  {
   "cell_type": "code",
   "execution_count": 35,
   "metadata": {},
   "outputs": [
    {
     "data": {
      "text/plain": [
       "array([2., 4.])"
      ]
     },
     "execution_count": 35,
     "metadata": {},
     "output_type": "execute_result"
    }
   ],
   "source": [
    "np.percentile(ordersByUsers['orders'], [95, 99])"
   ]
  },
  {
   "cell_type": "markdown",
   "metadata": {},
   "source": [
    "Не более 5% пользователей совершали более 2 заказов, и не более 1% - больше 4 заказов"
   ]
  },
  {
   "cell_type": "markdown",
   "metadata": {},
   "source": [
    "**Точечный график стоимостей заказов**"
   ]
  },
  {
   "cell_type": "markdown",
   "metadata": {},
   "source": [
    "Построим гистограмму распределения выручек ('revenue') с заказов по пользователям методом hist()."
   ]
  },
  {
   "cell_type": "code",
   "execution_count": 36,
   "metadata": {},
   "outputs": [
    {
     "data": {
      "image/png": "[encoded data removed]",
      "text/plain": [
       "<Figure size 432x288 with 1 Axes>"
      ]
     },
     "metadata": {
      "needs_background": "light"
     },
     "output_type": "display_data"
    }
   ],
   "source": [
    "plt.hist(orders['revenue'], color = 'purple')\n",
    "plt.grid()\n",
    "plt.title('Распределение стоимости заказов')\n",
    "plt.xlabel('Цена')\n",
    "plt.ylabel('Кол-во заказов')\n",
    "plt.show()"
   ]
  },
  {
   "cell_type": "markdown",
   "metadata": {},
   "source": [
    "Сумма большинства заказов менее 20 000 рублей"
   ]
  },
  {
   "cell_type": "code",
   "execution_count": 37,
   "metadata": {},
   "outputs": [
    {
     "data": {
      "image/png": "[encoded data removed]",
      "text/plain": [
       "<Figure size 432x288 with 1 Axes>"
      ]
     },
     "metadata": {
      "needs_background": "light"
     },
     "output_type": "display_data"
    }
   ],
   "source": [
    "x_values = pd.Series(range(0, len(orders['revenue'])))\n",
    "plt.scatter(x_values, orders['revenue'], color='purple')\n",
    "plt.xlabel('Кол-во заказов')\n",
    "plt.ylabel('Стоимость')\n",
    "plt.show()"
   ]
  },
  {
   "cell_type": "markdown",
   "metadata": {},
   "source": [
    "Заказов стоимостью юолее 120000 рублей, не очень много. Выбросов мало, наблюдаем их около 20 000 рублей и выше."
   ]
  },
  {
   "cell_type": "markdown",
   "metadata": {},
   "source": [
    "**Перцентили стоимости заказов**"
   ]
  },
  {
   "cell_type": "code",
   "execution_count": 38,
   "metadata": {},
   "outputs": [
    {
     "data": {
      "text/plain": [
       "array([28000. , 58233.2])"
      ]
     },
     "execution_count": 38,
     "metadata": {},
     "output_type": "execute_result"
    }
   ],
   "source": [
    "np.percentile(orders['revenue'], [95, 99])"
   ]
  },
  {
   "cell_type": "markdown",
   "metadata": {},
   "source": [
    "Не более, чем у 5% заказов чек дороже 28 000 рублей. И не больше, чем у 1% - дороже 58233 рубля"
   ]
  },
  {
   "cell_type": "markdown",
   "metadata": {},
   "source": [
    "**Подсчёт статистической значимости различий в конверсии между группами по «сырым» данным**"
   ]
  },
  {
   "cell_type": "markdown",
   "metadata": {},
   "source": [
    "Cоставим нулевую и альтернативную гипотезы.\n",
    "\n",
    "H₀(нулевая гипотеза) всегда формулируется так, чтобы иcпользовать знак равенства(=).\n",
    "\n",
    "- H₀ - Статистическая значимость различий в конверсии между выборками А и В незначительна\n",
    "- H₁ - Статистическая значимость различий в конверсии между выборками А и В значительна\n",
    "\n",
    "Посчитаем статистическую значимость различий в конверсии и среднем чеке между группами по «сырым» данным — без удаления аномальных пользователей."
   ]
  },
  {
   "cell_type": "code",
   "execution_count": 39,
   "metadata": {
    "scrolled": true
   },
   "outputs": [
    {
     "data": {
      "text/html": [
       "<div>\n",
       "<style scoped>\n",
       "    .dataframe tbody tr th:only-of-type {\n",
       "        vertical-align: middle;\n",
       "    }\n",
       "\n",
       "    .dataframe tbody tr th {\n",
       "        vertical-align: top;\n",
       "    }\n",
       "\n",
       "    .dataframe thead th {\n",
       "        text-align: right;\n",
       "    }\n",
       "</style>\n",
       "<table border=\"1\" class=\"dataframe\">\n",
       "  <thead>\n",
       "    <tr style=\"text-align: right;\">\n",
       "      <th></th>\n",
       "      <th>date</th>\n",
       "      <th>ordersPerDateA</th>\n",
       "      <th>revenuePerDateA</th>\n",
       "      <th>ordersPerDateB</th>\n",
       "      <th>revenuePerDateB</th>\n",
       "      <th>ordersCummulativeA</th>\n",
       "      <th>revenueCummulativeA</th>\n",
       "      <th>ordersCummulativeB</th>\n",
       "      <th>revenueCummulativeB</th>\n",
       "      <th>visitorsPerDateA</th>\n",
       "      <th>visitorsPerDateB</th>\n",
       "      <th>visitorsCummulativeA</th>\n",
       "      <th>visitorsCummulativeB</th>\n",
       "    </tr>\n",
       "  </thead>\n",
       "  <tbody>\n",
       "    <tr>\n",
       "      <th>0</th>\n",
       "      <td>2019-08-01</td>\n",
       "      <td>24</td>\n",
       "      <td>148579</td>\n",
       "      <td>21</td>\n",
       "      <td>101217</td>\n",
       "      <td>24</td>\n",
       "      <td>148579</td>\n",
       "      <td>21</td>\n",
       "      <td>101217</td>\n",
       "      <td>719</td>\n",
       "      <td>713</td>\n",
       "      <td>719</td>\n",
       "      <td>713</td>\n",
       "    </tr>\n",
       "    <tr>\n",
       "      <th>1</th>\n",
       "      <td>2019-08-02</td>\n",
       "      <td>20</td>\n",
       "      <td>93822</td>\n",
       "      <td>24</td>\n",
       "      <td>165531</td>\n",
       "      <td>44</td>\n",
       "      <td>242401</td>\n",
       "      <td>45</td>\n",
       "      <td>266748</td>\n",
       "      <td>619</td>\n",
       "      <td>581</td>\n",
       "      <td>1338</td>\n",
       "      <td>1294</td>\n",
       "    </tr>\n",
       "    <tr>\n",
       "      <th>2</th>\n",
       "      <td>2019-08-03</td>\n",
       "      <td>24</td>\n",
       "      <td>112473</td>\n",
       "      <td>16</td>\n",
       "      <td>114248</td>\n",
       "      <td>68</td>\n",
       "      <td>354874</td>\n",
       "      <td>61</td>\n",
       "      <td>380996</td>\n",
       "      <td>507</td>\n",
       "      <td>509</td>\n",
       "      <td>1845</td>\n",
       "      <td>1803</td>\n",
       "    </tr>\n",
       "    <tr>\n",
       "      <th>3</th>\n",
       "      <td>2019-08-04</td>\n",
       "      <td>16</td>\n",
       "      <td>70825</td>\n",
       "      <td>17</td>\n",
       "      <td>108571</td>\n",
       "      <td>84</td>\n",
       "      <td>425699</td>\n",
       "      <td>78</td>\n",
       "      <td>489567</td>\n",
       "      <td>717</td>\n",
       "      <td>770</td>\n",
       "      <td>2562</td>\n",
       "      <td>2573</td>\n",
       "    </tr>\n",
       "    <tr>\n",
       "      <th>4</th>\n",
       "      <td>2019-08-05</td>\n",
       "      <td>25</td>\n",
       "      <td>124218</td>\n",
       "      <td>23</td>\n",
       "      <td>92428</td>\n",
       "      <td>109</td>\n",
       "      <td>549917</td>\n",
       "      <td>101</td>\n",
       "      <td>581995</td>\n",
       "      <td>756</td>\n",
       "      <td>707</td>\n",
       "      <td>3318</td>\n",
       "      <td>3280</td>\n",
       "    </tr>\n",
       "  </tbody>\n",
       "</table>\n",
       "</div>"
      ],
      "text/plain": [
       "        date  ordersPerDateA  revenuePerDateA  ordersPerDateB  \\\n",
       "0 2019-08-01              24           148579              21   \n",
       "1 2019-08-02              20            93822              24   \n",
       "2 2019-08-03              24           112473              16   \n",
       "3 2019-08-04              16            70825              17   \n",
       "4 2019-08-05              25           124218              23   \n",
       "\n",
       "   revenuePerDateB  ordersCummulativeA  revenueCummulativeA  \\\n",
       "0           101217                  24               148579   \n",
       "1           165531                  44               242401   \n",
       "2           114248                  68               354874   \n",
       "3           108571                  84               425699   \n",
       "4            92428                 109               549917   \n",
       "\n",
       "   ordersCummulativeB  revenueCummulativeB  visitorsPerDateA  \\\n",
       "0                  21               101217               719   \n",
       "1                  45               266748               619   \n",
       "2                  61               380996               507   \n",
       "3                  78               489567               717   \n",
       "4                 101               581995               756   \n",
       "\n",
       "   visitorsPerDateB  visitorsCummulativeA  visitorsCummulativeB  \n",
       "0               713                   719                   713  \n",
       "1               581                  1338                  1294  \n",
       "2               509                  1845                  1803  \n",
       "3               770                  2562                  2573  \n",
       "4               707                  3318                  3280  "
      ]
     },
     "execution_count": 39,
     "metadata": {},
     "output_type": "execute_result"
    }
   ],
   "source": [
    "visitorsADaily = visitors[visitors['group'] == 'A'][['date', 'visitors']]\n",
    "visitorsADaily.columns = ['date', 'visitorsPerDateA']\n",
    "\n",
    "visitorsACummulative = visitorsADaily.apply(\n",
    "    lambda x: visitorsADaily[visitorsADaily['date'] <= x['date']].agg(\n",
    "        {'date': 'max', 'visitorsPerDateA': 'sum'}\n",
    "    ),\n",
    "    axis=1,\n",
    ")\n",
    "visitorsACummulative.columns = ['date', 'visitorsCummulativeA']\n",
    "\n",
    "visitorsBDaily = visitors[visitors['group'] == 'B'][['date', 'visitors']]\n",
    "visitorsBDaily.columns = ['date', 'visitorsPerDateB']\n",
    "\n",
    "visitorsBCummulative = visitorsBDaily.apply(\n",
    "    lambda x: visitorsBDaily[visitorsBDaily['date'] <= x['date']].agg(\n",
    "        {'date': 'max', 'visitorsPerDateB': 'sum'}\n",
    "    ),\n",
    "    axis=1,\n",
    ")\n",
    "visitorsBCummulative.columns = ['date', 'visitorsCummulativeB']\n",
    "\n",
    "ordersADaily = (\n",
    "    orders[orders['group'] == 'A'][['date', 'transactionId', 'visitorId', 'revenue']]\n",
    "    .groupby('date', as_index=False)\n",
    "    .agg({'transactionId': pd.Series.nunique, 'revenue': 'sum'})\n",
    ")\n",
    "ordersADaily.columns = ['date', 'ordersPerDateA', 'revenuePerDateA']\n",
    "\n",
    "ordersACummulative = ordersADaily.apply(\n",
    "    lambda x: ordersADaily[ordersADaily['date'] <= x['date']].agg(\n",
    "        {'date': 'max', 'ordersPerDateA': 'sum', 'revenuePerDateA': 'sum'}\n",
    "    ),\n",
    "    axis=1,\n",
    ").sort_values(by=['date'])\n",
    "ordersACummulative.columns = [\n",
    "    'date',\n",
    "    'ordersCummulativeA',\n",
    "    'revenueCummulativeA',\n",
    "]\n",
    "\n",
    "ordersBDaily = (\n",
    "    orders[orders['group'] == 'B'][['date', 'transactionId', 'visitorId', 'revenue']]\n",
    "    .groupby('date', as_index=False)\n",
    "    .agg({'transactionId': pd.Series.nunique, 'revenue': 'sum'})\n",
    ")\n",
    "\n",
    "ordersBDaily.columns = ['date', 'ordersPerDateB', 'revenuePerDateB']\n",
    "\n",
    "ordersBCummulative = ordersBDaily.apply(\n",
    "    lambda x: ordersBDaily[ordersBDaily['date'] <= x['date']].agg(\n",
    "        {'date': 'max', 'ordersPerDateB': 'sum', 'revenuePerDateB': 'sum'}\n",
    "    ),\n",
    "    axis=1,\n",
    ").sort_values(by=['date'])\n",
    "ordersBCummulative.columns = [\n",
    "    'date',\n",
    "    'ordersCummulativeB',\n",
    "    'revenueCummulativeB',\n",
    "]\n",
    "\n",
    "data = (\n",
    "    ordersADaily.merge(\n",
    "        ordersBDaily, left_on='date', right_on='date', how='left'\n",
    "    )\n",
    "    .merge(ordersACummulative, left_on='date', right_on='date', how='left')\n",
    "    .merge(ordersBCummulative, left_on='date', right_on='date', how='left')\n",
    "    .merge(visitorsADaily, left_on='date', right_on='date', how='left')\n",
    "    .merge(visitorsBDaily, left_on='date', right_on='date', how='left')\n",
    "    .merge(visitorsACummulative, left_on='date', right_on='date', how='left')\n",
    "    .merge(visitorsBCummulative, left_on='date', right_on='date', how='left')\n",
    ")\n",
    "data.head()"
   ]
  },
  {
   "cell_type": "markdown",
   "metadata": {},
   "source": [
    "- date — дата;\n",
    "- ordersPerDateA — количество заказов в выбранную дату в группе A;\n",
    "- revenuePerDateA — суммарная выручка в выбранную дату в группе A;\n",
    "- ordersPerDateB — количество заказов в выбранную дату в группе B;\n",
    "- revenuePerDateB — суммарная выручка в выбранную дату в группе B;\n",
    "- ordersCummulativeA — суммарное число заказов до выбранной даты включительно в группе A;\n",
    "- revenueCummulativeA — суммарная выручка до выбранной даты включительно в группе A;\n",
    "- ordersCummulativeB — суммарное количество заказов до выбранной даты включительно в группе B;\n",
    "- revenueCummulativeB — суммарная выручка до выбранной даты включительно в группе B;\n",
    "- visitorsPerDateA — количество пользователей в выбранную дату в группе A;\n",
    "- visitorsPerDateB — количество пользователей в выбранную дату в группе B;\n",
    "- visitorsCummulativeA — количество пользователей до выбранной даты включительно в группе A;\n",
    "- visitorsCummulativeB — количество пользователей до выбранной даты включительно в группе B."
   ]
  },
  {
   "cell_type": "code",
   "execution_count": 40,
   "metadata": {},
   "outputs": [],
   "source": [
    "ordersByUsersA = (\n",
    "    orders[orders['group'] == 'A']\n",
    "    .groupby('visitorId', as_index=False)\n",
    "    .agg({'transactionId': pd.Series.nunique})\n",
    ")\n",
    "ordersByUsersA.columns = ['userId', 'orders']\n",
    "\n",
    "ordersByUsersB = (\n",
    "    orders[orders['group'] == 'B']\n",
    "    .groupby('visitorId', as_index=False)\n",
    "    .agg({'transactionId': pd.Series.nunique})\n",
    ")\n",
    "ordersByUsersB.columns = ['userId', 'orders'] "
   ]
  },
  {
   "cell_type": "code",
   "execution_count": 41,
   "metadata": {},
   "outputs": [],
   "source": [
    "pd.Series(0, index=np.arange(data['visitorsPerDateA'].sum() - len(ordersByUsersA['orders'])), name='orders')\n",
    "sampleA = pd.concat([ordersByUsersA['orders'],pd.Series(0, index=np.arange(data['visitorsPerDateA'].sum() - len(ordersByUsersA['orders'])), name='orders')],axis=0)\n",
    "\n",
    "sampleB = pd.concat([ordersByUsersB['orders'],pd.Series(0, index=np.arange(data['visitorsPerDateB'].sum() - len(ordersByUsersB['orders'])), name='orders')],axis=0) \n"
   ]
  },
  {
   "cell_type": "code",
   "execution_count": 42,
   "metadata": {},
   "outputs": [],
   "source": [
    "sampleA = pd.concat(\n",
    "    [\n",
    "        ordersByUsersA['orders'],\n",
    "        pd.Series(\n",
    "            0,\n",
    "            index=np.arange(\n",
    "                data['visitorsPerDateA'].sum() - len(ordersByUsersA['orders'])\n",
    "            ),\n",
    "            name='orders',\n",
    "        ),\n",
    "    ],\n",
    "    axis=0,\n",
    ")\n",
    "\n",
    "sampleB = pd.concat(\n",
    "    [\n",
    "        ordersByUsersB['orders'],\n",
    "        pd.Series(\n",
    "            0,\n",
    "            index=np.arange(\n",
    "                data['visitorsPerDateB'].sum() - len(ordersByUsersB['orders'])\n",
    "            ),\n",
    "            name='orders',\n",
    "        ),\n",
    "    ],\n",
    "    axis=0,\n",
    ")"
   ]
  },
  {
   "cell_type": "code",
   "execution_count": 43,
   "metadata": {},
   "outputs": [
    {
     "name": "stdout",
     "output_type": "stream",
     "text": [
      "0.01679\n",
      "0.138\n"
     ]
    }
   ],
   "source": [
    "print(\"{0:.5f}\".format(stats.mannwhitneyu(sampleA, sampleB)[1]))\n",
    "\n",
    "print(\"{0:.3f}\".format(sampleB.mean() / sampleA.mean() - 1))"
   ]
  },
  {
   "cell_type": "markdown",
   "metadata": {},
   "source": [
    "P-value меньше 0.05, поэтому нулевую гипотезу отвергаем. Анализ \"сырых\" данных показывает, что в конверсии между группами есть статистически значимые различия. "
   ]
  },
  {
   "cell_type": "markdown",
   "metadata": {},
   "source": [
    "**Подсчёт статистической значимости различий в среднем чеке заказа между группами по «сырым» данным**"
   ]
  },
  {
   "cell_type": "markdown",
   "metadata": {},
   "source": [
    "- H₀ - Средний чек A равен среднему чеку группы B\n",
    "- H₁ - Средний чек A НЕ равен среднему чеку группы B\n",
    "\n",
    "Посчитаем статистическую значимость различия средних чеков между группами.\n",
    "\n",
    "Выведем p-value для сравнения средних чеков между группами.\n",
    "\n",
    "Выведем относительный прирост среднего чека группы B."
   ]
  },
  {
   "cell_type": "code",
   "execution_count": 44,
   "metadata": {},
   "outputs": [
    {
     "name": "stdout",
     "output_type": "stream",
     "text": [
      "0.729\n",
      "0.259\n"
     ]
    }
   ],
   "source": [
    "print('{0:.3f}'.format(stats.mannwhitneyu(orders[orders['group']=='A']['revenue'], orders[orders['group']=='B']['revenue'])[1]))\n",
    "print('{0:.3f}'.format(orders[orders['group']=='B']['revenue'].mean()/orders[orders['group']=='A']['revenue'].mean()-1)) "
   ]
  },
  {
   "cell_type": "markdown",
   "metadata": {},
   "source": [
    "P-value больше 0.05 - статистически значимых отличий в среднем чеке между группами нет. Принимаем гипотезу."
   ]
  },
  {
   "cell_type": "markdown",
   "metadata": {},
   "source": [
    "**Очистка данных**"
   ]
  },
  {
   "cell_type": "markdown",
   "metadata": {},
   "source": [
    "95 и 99 перцентили средних чеков равны 28000 и 58233 рублям. 95 и 99 перцентили числа заказов на одного\n",
    "\n",
    "Примем за аномальных пользователей тех, кто совершил более 2 заказа и более или совершил заказ на сумму свыше 28 000 рублей.\n",
    "\n",
    "Сначала определить аномальные заказы, затем пользователей, совершивших их и добавим их в список аномальных."
   ]
  },
  {
   "cell_type": "code",
   "execution_count": 45,
   "metadata": {},
   "outputs": [],
   "source": [
    "usersWithManyOrders = pd.concat(\n",
    "    [\n",
    "        ordersByUsersA[ordersByUsersA['orders'] > 2]['userId'],\n",
    "        ordersByUsersB[ordersByUsersB['orders'] > 2]['userId'],\n",
    "    ],\n",
    "    axis=0,\n",
    ")"
   ]
  },
  {
   "cell_type": "code",
   "execution_count": 46,
   "metadata": {},
   "outputs": [],
   "source": [
    "usersWithExpensiveOrders = orders[orders['revenue'] > 28000]['visitorId']"
   ]
  },
  {
   "cell_type": "code",
   "execution_count": 47,
   "metadata": {},
   "outputs": [],
   "source": [
    "abnormalUsers = (\n",
    "    pd.concat([usersWithManyOrders, usersWithExpensiveOrders], axis=0)\n",
    "    .drop_duplicates()\n",
    "    .sort_values()\n",
    ")"
   ]
  },
  {
   "cell_type": "code",
   "execution_count": 48,
   "metadata": {},
   "outputs": [
    {
     "name": "stdout",
     "output_type": "stream",
     "text": [
      "1099    148427295\n",
      "18      199603092\n",
      "928     204675465\n",
      "23      237748145\n",
      "37      249864742\n",
      "dtype: int64\n"
     ]
    }
   ],
   "source": [
    "print(abnormalUsers.head())"
   ]
  },
  {
   "cell_type": "code",
   "execution_count": 49,
   "metadata": {},
   "outputs": [
    {
     "data": {
      "text/plain": [
       "(74,)"
      ]
     },
     "execution_count": 49,
     "metadata": {},
     "output_type": "execute_result"
    }
   ],
   "source": [
    "#Посчитаем кол-во аномальных юзеров\n",
    "abnormalUsers.shape"
   ]
  },
  {
   "cell_type": "markdown",
   "metadata": {},
   "source": [
    "Мы нашли 74 аномальных пользователя. После их удаления посчитаем стат. значимость. Выясним, если ли разница до/после очищения от аномальний"
   ]
  },
  {
   "cell_type": "markdown",
   "metadata": {},
   "source": [
    "**Подсчёт статистической значимости различий в конверсии между группами по «очищенным» данным**"
   ]
  },
  {
   "cell_type": "markdown",
   "metadata": {},
   "source": [
    "- H₀ - Статистическая значимость различий в конверсии между выборками А и В незначительна\n",
    "- H₁ - Статистическая значимость различий в конверсии между выборками А и В значительна"
   ]
  },
  {
   "cell_type": "markdown",
   "metadata": {},
   "source": [
    "Выясним, есть ли существенные различия межу группами с очищенными данными\n",
    "\n",
    "Посчитаем статистическую значимость различия средних чеков после удаления аномальных пользователей."
   ]
  },
  {
   "cell_type": "code",
   "execution_count": 50,
   "metadata": {},
   "outputs": [],
   "source": [
    "#Объявим переменные sampleAFiltered и sampleBFiltered, в которых сохраним очищенные данные о заказах — не включая аномальных пользователей.\n",
    "sampleAFiltered = pd.concat(\n",
    "    [\n",
    "        ordersByUsersA[\n",
    "            np.logical_not(ordersByUsersA['userId'].isin(abnormalUsers))\n",
    "        ]['orders'],\n",
    "        pd.Series(\n",
    "            0,\n",
    "            index=np.arange(\n",
    "                data['visitorsPerDateA'].sum() - len(ordersByUsersA['orders'])\n",
    "            ),\n",
    "            name='orders',\n",
    "        ),\n",
    "    ],\n",
    "    axis=0,\n",
    ")\n",
    "\n",
    "sampleBFiltered = pd.concat(\n",
    "    [\n",
    "        ordersByUsersB[\n",
    "            np.logical_not(ordersByUsersB['userId'].isin(abnormalUsers))\n",
    "        ]['orders'],\n",
    "        pd.Series(\n",
    "            0,\n",
    "            index=np.arange(\n",
    "                data['visitorsPerDateB'].sum() - len(ordersByUsersB['orders'])\n",
    "            ),\n",
    "            name='orders',\n",
    "        ),\n",
    "    ],\n",
    "    axis=0,\n",
    ")"
   ]
  },
  {
   "cell_type": "code",
   "execution_count": 51,
   "metadata": {},
   "outputs": [
    {
     "name": "stdout",
     "output_type": "stream",
     "text": [
      "0.01304\n",
      "0.173\n"
     ]
    }
   ],
   "source": [
    "print('{0:.5f}'.format(stats.mannwhitneyu(sampleAFiltered, sampleBFiltered)[1]))\n",
    "print('{0:.3f}'.format(sampleBFiltered.mean()/sampleAFiltered.mean()-1)) "
   ]
  },
  {
   "cell_type": "markdown",
   "metadata": {},
   "source": [
    "Как и в случае с сырыми данными, статистическая значимость достигнута. Отвергаем H₀"
   ]
  },
  {
   "cell_type": "markdown",
   "metadata": {},
   "source": [
    "**Подсчёт статистической значимости различий в среднем чеке заказа между группами по «очищенным» данным**"
   ]
  },
  {
   "cell_type": "markdown",
   "metadata": {},
   "source": [
    "- H₀ - Средний чек A равен среднему чеку группы B\n",
    "- H₁ - Средний чек A НЕ равен среднему чеку группы B"
   ]
  },
  {
   "cell_type": "code",
   "execution_count": 52,
   "metadata": {},
   "outputs": [
    {
     "name": "stdout",
     "output_type": "stream",
     "text": [
      "0.738\n"
     ]
    }
   ],
   "source": [
    "print(\n",
    "    '{0:.3f}'.format(\n",
    "        stats.mannwhitneyu(\n",
    "            orders[\n",
    "                np.logical_and(\n",
    "                    orders['group'] == 'A',\n",
    "                    np.logical_not(orders['visitorId'].isin(abnormalUsers)),\n",
    "                )\n",
    "            ]['revenue'],\n",
    "            orders[\n",
    "                np.logical_and(\n",
    "                    orders['group'] == 'B',\n",
    "                    np.logical_not(orders['visitorId'].isin(abnormalUsers)),\n",
    "                )\n",
    "            ]['revenue'], \n",
    "            True, # что бы задать 4ый параметр \n",
    "            'two-sided' # для двух-стороннего теста\n",
    "        )[1]\n",
    "    )\n",
    ")"
   ]
  },
  {
   "cell_type": "code",
   "execution_count": 53,
   "metadata": {},
   "outputs": [
    {
     "name": "stdout",
     "output_type": "stream",
     "text": [
      "-0.020\n"
     ]
    }
   ],
   "source": [
    "print(\n",
    "    \"{0:.3f}\".format(\n",
    "        orders[\n",
    "            np.logical_and(\n",
    "                orders['group'] == 'B',\n",
    "                np.logical_not(orders['visitorId'].isin(abnormalUsers)),\n",
    "            )\n",
    "        ]['revenue'].mean()\n",
    "        / orders[\n",
    "            np.logical_and(\n",
    "                orders['group'] == 'A',\n",
    "                np.logical_not(orders['visitorId'].isin(abnormalUsers)),\n",
    "            )\n",
    "        ]['revenue'].mean()\n",
    "        - 1\n",
    "    )\n",
    ")"
   ]
  },
  {
   "cell_type": "markdown",
   "metadata": {},
   "source": [
    "После очистки данных от аномалий p-value по среднему чеку не изменился т.е. статистически значимых отличий между группами нет.  Отвергаем нулевую гипотезу"
   ]
  },
  {
   "cell_type": "markdown",
   "metadata": {},
   "source": [
    "**Выводы А/В теста**"
   ]
  },
  {
   "cell_type": "markdown",
   "metadata": {},
   "source": [
    "- Есть статистически значимое различие по конверсии между группами как по сырым данным, так и после фильтрации аномалий.\n",
    "- Как по сырым, так и по отфильтрованным данным - нет статистически значимого различия по среднему чеку между группами"
   ]
  },
  {
   "cell_type": "markdown",
   "metadata": {},
   "source": [
    "**При работе с дасетом были выполнены следующие действия:**\n",
    "\n",
    "1. Загрузили данные и ознакомились с ними.\n",
    "\n",
    "2. Провели предобработку данных, а именно:\n",
    "\n",
    " - Исправили заголовки столбцов и привели их к \"хорошему\" стилю\n",
    " - Изменили тип данных в столбцах с датами\n",
    " - Проверили таблицы на наличие дубликатов (дубликатов нет)\n",
    " - Проверили таблицы на наличие пропусков (пропуски отсутствуют)\n",
    "3. Провели приоритизацию гипотез:\n",
    "\n",
    " - Применили фреймворк ICE\n",
    " - Применили фреймворк RICE\n",
    " - Указали, как изменилась приоритизация гипотез\n",
    "4. Провери анализ А/В теста, а именно:\n",
    "\n",
    " - Построили график кумулятивной выручки по группам\n",
    " - Построили график кумулятивного среднего чека по группам\n",
    " - Построили график относительного изменения кумулятивного среднего чека группы B к группе A\n",
    " - Построили график кумулятивной конверсии по группам. Сделайте выводы и предположения.\n",
    " - Построили график относительного изменения кумулятивной конверсии группы B к группе A.\n",
    " - Построили точечный график количества заказов по пользователям\n",
    " - Посчитали перцентили количества заказов на пользователя\n",
    " - Построили точечный график стоимостей заказов\n",
    " - Посчитали перцентили стоимости заказов\n",
    " - Посчитали статистическую значимость различий в конверсии между группами по «сырым» данным\n",
    " - Посчитали статистическую значимость различий в среднем чеке заказа между группами по «сырым» данным\n",
    " - Произвели \"осчистку\" данных от аномалий\n",
    " - Посчитали статистическую значимость различий в конверсии между группами по «очищенным» данным\n",
    " - Посчитали статистическую значимость различий в среднем чеке заказа между группами по «очищенным» данным\n",
    " \n",
    "**Общий итог:**\n",
    "\n",
    "- Есть статистически значимое различие по конверсии между группами как по сырым данным, так и после фильтрации аномалий.\n",
    "- Как по сырым, так и по отфильтрованным данным - нет статистически значимого различия по среднему чеку между группами \n",
    "\n",
    "**Исходя из обнаруженных фактов, тест следует остановить и признать его успешным. Средний чек не поменялся, а конверсия выросла. Группа В лучше чем А, т.к. конверсия больше, при одинаковом среднем чеке, соответственно группа В приносит больше денежных средств бизнесу.**"
   ]
  }
 ],
 "metadata": {
  "ExecuteTimeLog": [
   {
    "duration": 1969,
    "start_time": "2022-05-03T08:44:36.138Z"
   },
   {
    "duration": 197,
    "start_time": "2022-05-03T08:45:02.247Z"
   },
   {
    "duration": 31,
    "start_time": "2022-05-03T08:45:29.296Z"
   },
   {
    "duration": 37,
    "start_time": "2022-05-03T08:46:27.872Z"
   },
   {
    "duration": 34,
    "start_time": "2022-05-03T08:46:41.531Z"
   },
   {
    "duration": 8,
    "start_time": "2022-05-03T08:53:57.146Z"
   },
   {
    "duration": 5,
    "start_time": "2022-05-03T08:55:50.019Z"
   },
   {
    "duration": 9,
    "start_time": "2022-05-03T08:56:07.391Z"
   },
   {
    "duration": 21,
    "start_time": "2022-05-03T09:19:33.966Z"
   },
   {
    "duration": 17,
    "start_time": "2022-05-03T09:19:50.258Z"
   },
   {
    "duration": 26,
    "start_time": "2022-05-03T09:23:33.808Z"
   },
   {
    "duration": 15,
    "start_time": "2022-05-03T09:25:30.363Z"
   },
   {
    "duration": 14,
    "start_time": "2022-05-03T09:31:27.952Z"
   },
   {
    "duration": 20,
    "start_time": "2022-05-03T09:32:09.148Z"
   },
   {
    "duration": 19,
    "start_time": "2022-05-03T09:36:50.110Z"
   },
   {
    "duration": 654,
    "start_time": "2022-05-03T09:47:58.674Z"
   },
   {
    "duration": 14,
    "start_time": "2022-05-03T09:50:52.357Z"
   },
   {
    "duration": 6,
    "start_time": "2022-05-03T09:51:19.039Z"
   },
   {
    "duration": 15,
    "start_time": "2022-05-03T09:51:29.443Z"
   },
   {
    "duration": 13,
    "start_time": "2022-05-03T09:52:53.004Z"
   },
   {
    "duration": 9,
    "start_time": "2022-05-03T09:52:57.402Z"
   },
   {
    "duration": 23,
    "start_time": "2022-05-03T09:53:02.719Z"
   },
   {
    "duration": 16,
    "start_time": "2022-05-03T09:53:29.154Z"
   },
   {
    "duration": 1523,
    "start_time": "2022-05-03T09:55:06.222Z"
   },
   {
    "duration": 113,
    "start_time": "2022-05-03T09:55:07.748Z"
   },
   {
    "duration": 28,
    "start_time": "2022-05-03T09:55:07.863Z"
   },
   {
    "duration": 29,
    "start_time": "2022-05-03T09:55:07.894Z"
   },
   {
    "duration": 20,
    "start_time": "2022-05-03T09:55:07.926Z"
   },
   {
    "duration": 10,
    "start_time": "2022-05-03T09:55:07.949Z"
   },
   {
    "duration": 34,
    "start_time": "2022-05-03T09:55:07.961Z"
   },
   {
    "duration": 18,
    "start_time": "2022-05-03T09:55:08.005Z"
   },
   {
    "duration": 27,
    "start_time": "2022-05-03T09:55:08.026Z"
   },
   {
    "duration": 46,
    "start_time": "2022-05-03T09:55:08.056Z"
   },
   {
    "duration": 17,
    "start_time": "2022-05-03T09:55:08.105Z"
   },
   {
    "duration": 13,
    "start_time": "2022-05-03T09:55:08.124Z"
   },
   {
    "duration": 18,
    "start_time": "2022-05-03T09:55:08.139Z"
   },
   {
    "duration": 48,
    "start_time": "2022-05-03T09:55:08.161Z"
   },
   {
    "duration": 11,
    "start_time": "2022-05-03T09:55:08.212Z"
   },
   {
    "duration": 18,
    "start_time": "2022-05-03T09:55:08.226Z"
   },
   {
    "duration": 5,
    "start_time": "2022-05-03T09:55:59.361Z"
   },
   {
    "duration": 189,
    "start_time": "2022-05-03T10:03:39.972Z"
   },
   {
    "duration": 6,
    "start_time": "2022-05-03T10:04:22.962Z"
   },
   {
    "duration": 16,
    "start_time": "2022-05-03T10:04:25.478Z"
   },
   {
    "duration": 80,
    "start_time": "2022-05-03T10:05:15.044Z"
   },
   {
    "duration": 25,
    "start_time": "2022-05-03T10:06:06.730Z"
   },
   {
    "duration": 28,
    "start_time": "2022-05-03T10:06:33.580Z"
   },
   {
    "duration": 16,
    "start_time": "2022-05-03T10:11:10.171Z"
   },
   {
    "duration": 16,
    "start_time": "2022-05-03T10:11:18.058Z"
   },
   {
    "duration": 8,
    "start_time": "2022-05-03T10:29:39.759Z"
   },
   {
    "duration": 329,
    "start_time": "2022-05-03T10:29:54.946Z"
   },
   {
    "duration": 210,
    "start_time": "2022-05-03T10:32:12.326Z"
   },
   {
    "duration": 9,
    "start_time": "2022-05-03T10:32:36.977Z"
   },
   {
    "duration": 21,
    "start_time": "2022-05-03T10:32:58.282Z"
   },
   {
    "duration": 277,
    "start_time": "2022-05-03T10:33:55.483Z"
   },
   {
    "duration": 1551,
    "start_time": "2022-05-03T10:34:13.022Z"
   },
   {
    "duration": 80,
    "start_time": "2022-05-03T10:34:14.575Z"
   },
   {
    "duration": 29,
    "start_time": "2022-05-03T10:34:14.657Z"
   },
   {
    "duration": 23,
    "start_time": "2022-05-03T10:34:14.688Z"
   },
   {
    "duration": 24,
    "start_time": "2022-05-03T10:34:14.714Z"
   },
   {
    "duration": 9,
    "start_time": "2022-05-03T10:34:14.741Z"
   },
   {
    "duration": 40,
    "start_time": "2022-05-03T10:34:14.753Z"
   },
   {
    "duration": 24,
    "start_time": "2022-05-03T10:34:14.795Z"
   },
   {
    "duration": 17,
    "start_time": "2022-05-03T10:34:14.822Z"
   },
   {
    "duration": 22,
    "start_time": "2022-05-03T10:34:14.841Z"
   },
   {
    "duration": 35,
    "start_time": "2022-05-03T10:34:14.865Z"
   },
   {
    "duration": 14,
    "start_time": "2022-05-03T10:34:14.903Z"
   },
   {
    "duration": 24,
    "start_time": "2022-05-03T10:34:14.920Z"
   },
   {
    "duration": 16,
    "start_time": "2022-05-03T10:34:14.950Z"
   },
   {
    "duration": 31,
    "start_time": "2022-05-03T10:34:14.968Z"
   },
   {
    "duration": 19,
    "start_time": "2022-05-03T10:34:15.015Z"
   },
   {
    "duration": 9,
    "start_time": "2022-05-03T10:34:15.036Z"
   },
   {
    "duration": 21,
    "start_time": "2022-05-03T10:34:15.047Z"
   },
   {
    "duration": 95,
    "start_time": "2022-05-03T10:34:15.071Z"
   },
   {
    "duration": 7,
    "start_time": "2022-05-03T10:34:15.168Z"
   },
   {
    "duration": 391,
    "start_time": "2022-05-03T10:34:15.177Z"
   },
   {
    "duration": 225,
    "start_time": "2022-05-03T10:34:15.570Z"
   },
   {
    "duration": 12,
    "start_time": "2022-05-03T10:34:15.798Z"
   },
   {
    "duration": 23,
    "start_time": "2022-05-03T10:34:15.812Z"
   },
   {
    "duration": 301,
    "start_time": "2022-05-03T10:34:15.837Z"
   },
   {
    "duration": 390,
    "start_time": "2022-05-03T10:34:56.762Z"
   },
   {
    "duration": 382,
    "start_time": "2022-05-03T10:35:21.086Z"
   },
   {
    "duration": 390,
    "start_time": "2022-05-03T10:38:27.607Z"
   },
   {
    "duration": 490,
    "start_time": "2022-05-03T10:44:50.935Z"
   },
   {
    "duration": 480,
    "start_time": "2022-05-03T10:44:56.965Z"
   },
   {
    "duration": 6,
    "start_time": "2022-05-03T10:48:23.509Z"
   },
   {
    "duration": 336,
    "start_time": "2022-05-03T10:49:11.425Z"
   },
   {
    "duration": 243,
    "start_time": "2022-05-03T10:51:51.108Z"
   },
   {
    "duration": 12,
    "start_time": "2022-05-03T10:53:36.893Z"
   },
   {
    "duration": 572,
    "start_time": "2022-05-03T10:53:56.069Z"
   },
   {
    "duration": 193,
    "start_time": "2022-05-03T10:55:07.908Z"
   },
   {
    "duration": 19,
    "start_time": "2022-05-03T10:55:47.448Z"
   },
   {
    "duration": 191,
    "start_time": "2022-05-03T10:56:23.204Z"
   },
   {
    "duration": 188,
    "start_time": "2022-05-03T10:56:54.628Z"
   },
   {
    "duration": 7,
    "start_time": "2022-05-03T10:59:30.237Z"
   },
   {
    "duration": 209,
    "start_time": "2022-05-03T11:00:47.115Z"
   },
   {
    "duration": 189,
    "start_time": "2022-05-03T11:03:29.334Z"
   },
   {
    "duration": 7,
    "start_time": "2022-05-03T11:03:50.802Z"
   },
   {
    "duration": 1517,
    "start_time": "2022-05-03T11:28:13.153Z"
   },
   {
    "duration": 70,
    "start_time": "2022-05-03T11:28:14.673Z"
   },
   {
    "duration": 29,
    "start_time": "2022-05-03T11:28:14.745Z"
   },
   {
    "duration": 23,
    "start_time": "2022-05-03T11:28:14.778Z"
   },
   {
    "duration": 25,
    "start_time": "2022-05-03T11:28:14.803Z"
   },
   {
    "duration": 7,
    "start_time": "2022-05-03T11:28:14.830Z"
   },
   {
    "duration": 7,
    "start_time": "2022-05-03T11:28:14.838Z"
   },
   {
    "duration": 12,
    "start_time": "2022-05-03T11:28:14.847Z"
   },
   {
    "duration": 42,
    "start_time": "2022-05-03T11:28:14.860Z"
   },
   {
    "duration": 18,
    "start_time": "2022-05-03T11:28:14.906Z"
   },
   {
    "duration": 11,
    "start_time": "2022-05-03T11:28:14.926Z"
   },
   {
    "duration": 14,
    "start_time": "2022-05-03T11:28:14.939Z"
   },
   {
    "duration": 15,
    "start_time": "2022-05-03T11:28:14.993Z"
   },
   {
    "duration": 17,
    "start_time": "2022-05-03T11:28:15.010Z"
   },
   {
    "duration": 13,
    "start_time": "2022-05-03T11:28:15.029Z"
   },
   {
    "duration": 22,
    "start_time": "2022-05-03T11:28:15.044Z"
   },
   {
    "duration": 25,
    "start_time": "2022-05-03T11:28:15.068Z"
   },
   {
    "duration": 21,
    "start_time": "2022-05-03T11:28:15.095Z"
   },
   {
    "duration": 95,
    "start_time": "2022-05-03T11:28:15.118Z"
   },
   {
    "duration": 7,
    "start_time": "2022-05-03T11:28:15.215Z"
   },
   {
    "duration": 314,
    "start_time": "2022-05-03T11:28:15.224Z"
   },
   {
    "duration": 228,
    "start_time": "2022-05-03T11:28:15.540Z"
   },
   {
    "duration": 23,
    "start_time": "2022-05-03T11:28:15.770Z"
   },
   {
    "duration": 23,
    "start_time": "2022-05-03T11:28:15.795Z"
   },
   {
    "duration": 549,
    "start_time": "2022-05-03T11:28:15.821Z"
   },
   {
    "duration": 397,
    "start_time": "2022-05-03T11:28:16.372Z"
   },
   {
    "duration": 495,
    "start_time": "2022-05-03T11:28:16.771Z"
   },
   {
    "duration": 5,
    "start_time": "2022-05-03T11:28:17.271Z"
   },
   {
    "duration": 339,
    "start_time": "2022-05-03T11:28:17.292Z"
   },
   {
    "duration": 12,
    "start_time": "2022-05-03T11:28:17.633Z"
   },
   {
    "duration": 495,
    "start_time": "2022-05-03T11:28:17.647Z"
   },
   {
    "duration": 18,
    "start_time": "2022-05-03T11:28:18.144Z"
   },
   {
    "duration": 214,
    "start_time": "2022-05-03T11:28:18.164Z"
   },
   {
    "duration": 258,
    "start_time": "2022-05-03T11:28:18.380Z"
   },
   {
    "duration": 7,
    "start_time": "2022-05-03T11:28:18.640Z"
   },
   {
    "duration": 232,
    "start_time": "2022-05-03T11:28:18.648Z"
   },
   {
    "duration": 216,
    "start_time": "2022-05-03T11:28:18.882Z"
   },
   {
    "duration": 198,
    "start_time": "2022-05-03T11:35:23.594Z"
   },
   {
    "duration": 205,
    "start_time": "2022-05-03T11:37:16.371Z"
   },
   {
    "duration": 231,
    "start_time": "2022-05-03T11:40:03.592Z"
   },
   {
    "duration": 187,
    "start_time": "2022-05-03T11:40:23.415Z"
   },
   {
    "duration": 177,
    "start_time": "2022-05-03T11:40:50.549Z"
   },
   {
    "duration": 7,
    "start_time": "2022-05-03T11:46:10.637Z"
   },
   {
    "duration": 348,
    "start_time": "2022-05-03T11:49:18.477Z"
   },
   {
    "duration": 202,
    "start_time": "2022-05-03T11:50:02.735Z"
   },
   {
    "duration": 194,
    "start_time": "2022-05-03T11:50:19.354Z"
   },
   {
    "duration": 7,
    "start_time": "2022-05-03T12:02:57.336Z"
   },
   {
    "duration": 352,
    "start_time": "2022-05-03T12:07:08.917Z"
   },
   {
    "duration": 295,
    "start_time": "2022-05-03T12:08:17.657Z"
   },
   {
    "duration": 9,
    "start_time": "2022-05-03T12:09:31.246Z"
   },
   {
    "duration": 9,
    "start_time": "2022-05-03T12:10:04.482Z"
   },
   {
    "duration": 8,
    "start_time": "2022-05-03T12:10:17.103Z"
   },
   {
    "duration": 29,
    "start_time": "2022-05-03T12:10:51.554Z"
   },
   {
    "duration": 9,
    "start_time": "2022-05-03T12:17:04.876Z"
   },
   {
    "duration": 8,
    "start_time": "2022-05-03T12:17:07.747Z"
   },
   {
    "duration": 29,
    "start_time": "2022-05-03T12:17:10.228Z"
   },
   {
    "duration": 269,
    "start_time": "2022-05-03T12:18:26.429Z"
   },
   {
    "duration": 10,
    "start_time": "2022-05-03T12:18:37.189Z"
   },
   {
    "duration": 8,
    "start_time": "2022-05-03T12:18:50.565Z"
   },
   {
    "duration": 28,
    "start_time": "2022-05-03T12:19:04.393Z"
   },
   {
    "duration": 16,
    "start_time": "2022-05-03T12:24:00.008Z"
   },
   {
    "duration": 8,
    "start_time": "2022-05-03T12:28:50.313Z"
   },
   {
    "duration": 5,
    "start_time": "2022-05-03T12:28:59.428Z"
   },
   {
    "duration": 6,
    "start_time": "2022-05-03T12:29:06.928Z"
   },
   {
    "duration": 7,
    "start_time": "2022-05-03T12:29:13.301Z"
   },
   {
    "duration": 6,
    "start_time": "2022-05-03T12:30:20.242Z"
   },
   {
    "duration": 5,
    "start_time": "2022-05-03T12:31:55.179Z"
   },
   {
    "duration": 13,
    "start_time": "2022-05-03T12:33:02.093Z"
   },
   {
    "duration": 12,
    "start_time": "2022-05-03T12:33:11.148Z"
   },
   {
    "duration": 11,
    "start_time": "2022-05-03T12:33:18.556Z"
   },
   {
    "duration": 12,
    "start_time": "2022-05-03T12:33:20.949Z"
   },
   {
    "duration": 13,
    "start_time": "2022-05-03T12:33:31.540Z"
   },
   {
    "duration": 32,
    "start_time": "2022-05-03T12:33:34.013Z"
   },
   {
    "duration": 12,
    "start_time": "2022-05-03T12:36:14.269Z"
   },
   {
    "duration": 13,
    "start_time": "2022-05-03T12:36:25.895Z"
   },
   {
    "duration": 590,
    "start_time": "2022-05-03T12:41:51.568Z"
   },
   {
    "duration": 71,
    "start_time": "2022-05-04T12:25:21.546Z"
   },
   {
    "duration": 1608,
    "start_time": "2022-05-04T12:25:31.666Z"
   },
   {
    "duration": 42,
    "start_time": "2022-05-04T12:25:33.277Z"
   },
   {
    "duration": 28,
    "start_time": "2022-05-04T12:25:33.321Z"
   },
   {
    "duration": 23,
    "start_time": "2022-05-04T12:25:33.351Z"
   },
   {
    "duration": 23,
    "start_time": "2022-05-04T12:25:33.377Z"
   },
   {
    "duration": 8,
    "start_time": "2022-05-04T12:25:33.402Z"
   },
   {
    "duration": 37,
    "start_time": "2022-05-04T12:25:33.412Z"
   },
   {
    "duration": 22,
    "start_time": "2022-05-04T12:25:33.455Z"
   },
   {
    "duration": 20,
    "start_time": "2022-05-04T12:25:33.479Z"
   },
   {
    "duration": 18,
    "start_time": "2022-05-04T12:25:33.500Z"
   },
   {
    "duration": 13,
    "start_time": "2022-05-04T12:25:33.520Z"
   },
   {
    "duration": 11,
    "start_time": "2022-05-04T12:25:33.535Z"
   },
   {
    "duration": 20,
    "start_time": "2022-05-04T12:25:33.548Z"
   },
   {
    "duration": 13,
    "start_time": "2022-05-04T12:25:33.572Z"
   },
   {
    "duration": 6,
    "start_time": "2022-05-04T12:25:33.586Z"
   },
   {
    "duration": 13,
    "start_time": "2022-05-04T12:25:33.594Z"
   },
   {
    "duration": 9,
    "start_time": "2022-05-04T12:25:33.609Z"
   },
   {
    "duration": 14,
    "start_time": "2022-05-04T12:25:33.620Z"
   },
   {
    "duration": 58,
    "start_time": "2022-05-04T12:25:33.648Z"
   },
   {
    "duration": 6,
    "start_time": "2022-05-04T12:25:33.709Z"
   },
   {
    "duration": 208,
    "start_time": "2022-05-04T12:25:33.717Z"
   },
   {
    "duration": 171,
    "start_time": "2022-05-04T12:25:33.927Z"
   },
   {
    "duration": 8,
    "start_time": "2022-05-04T12:25:34.100Z"
   },
   {
    "duration": 17,
    "start_time": "2022-05-04T12:25:34.110Z"
   },
   {
    "duration": 493,
    "start_time": "2022-05-04T12:25:34.129Z"
   },
   {
    "duration": 351,
    "start_time": "2022-05-04T12:25:34.624Z"
   },
   {
    "duration": 429,
    "start_time": "2022-05-04T12:25:34.977Z"
   },
   {
    "duration": 5,
    "start_time": "2022-05-04T12:25:35.408Z"
   },
   {
    "duration": 237,
    "start_time": "2022-05-04T12:25:35.414Z"
   },
   {
    "duration": 11,
    "start_time": "2022-05-04T12:25:35.654Z"
   },
   {
    "duration": 420,
    "start_time": "2022-05-04T12:25:35.667Z"
   },
   {
    "duration": 16,
    "start_time": "2022-05-04T12:25:36.089Z"
   },
   {
    "duration": 209,
    "start_time": "2022-05-04T12:25:36.107Z"
   },
   {
    "duration": 183,
    "start_time": "2022-05-04T12:25:36.318Z"
   },
   {
    "duration": 6,
    "start_time": "2022-05-04T12:25:36.503Z"
   },
   {
    "duration": 270,
    "start_time": "2022-05-04T12:25:36.511Z"
   },
   {
    "duration": 142,
    "start_time": "2022-05-04T12:25:36.782Z"
   },
   {
    "duration": 5,
    "start_time": "2022-05-04T12:25:36.925Z"
   },
   {
    "duration": 248,
    "start_time": "2022-05-04T12:25:36.932Z"
   },
   {
    "duration": 139,
    "start_time": "2022-05-04T12:25:37.182Z"
   },
   {
    "duration": 8,
    "start_time": "2022-05-04T12:25:37.325Z"
   },
   {
    "duration": 18,
    "start_time": "2022-05-04T12:25:37.335Z"
   },
   {
    "duration": 35,
    "start_time": "2022-05-04T12:25:37.356Z"
   },
   {
    "duration": 10,
    "start_time": "2022-05-04T12:25:37.392Z"
   },
   {
    "duration": 6,
    "start_time": "2022-05-04T12:25:37.403Z"
   },
   {
    "duration": 6,
    "start_time": "2022-05-04T12:25:37.410Z"
   },
   {
    "duration": 5,
    "start_time": "2022-05-04T12:25:37.417Z"
   },
   {
    "duration": 24,
    "start_time": "2022-05-04T12:25:37.424Z"
   },
   {
    "duration": 22,
    "start_time": "2022-05-04T12:25:37.450Z"
   },
   {
    "duration": 9,
    "start_time": "2022-05-04T12:25:37.473Z"
   },
   {
    "duration": 21,
    "start_time": "2022-05-04T12:25:37.484Z"
   },
   {
    "duration": 11,
    "start_time": "2022-05-04T12:25:37.507Z"
   },
   {
    "duration": 27,
    "start_time": "2022-05-04T12:25:37.520Z"
   }
  ],
  "kernelspec": {
   "display_name": "Python 3 (ipykernel)",
   "language": "python",
   "name": "python3"
  },
  "language_info": {
   "codemirror_mode": {
    "name": "ipython",
    "version": 3
   },
   "file_extension": ".py",
   "mimetype": "text/x-python",
   "name": "python",
   "nbconvert_exporter": "python",
   "pygments_lexer": "ipython3",
   "version": "3.9.5"
  },
  "toc": {
   "base_numbering": 1,
   "nav_menu": {},
   "number_sections": true,
   "sideBar": true,
   "skip_h1_title": true,
   "title_cell": "Table of Contents",
   "title_sidebar": "Contents",
   "toc_cell": false,
   "toc_position": {},
   "toc_section_display": true,
   "toc_window_display": false
  }
 },
 "nbformat": 4,
 "nbformat_minor": 2
}
