{
 "cells": [
  {
   "cell_type": "markdown",
   "id": "ba1fa455",
   "metadata": {},
   "source": [
    "# Исследование надежности заемщиков"
   ]
  },
  {
   "cell_type": "markdown",
   "id": "a3870318",
   "metadata": {},
   "source": [
    "Заказчик — кредитный отдел банка. Нужно разобраться, влияет ли семейное положение и количество детей клиента на факт погашения кредита в срок. Входные данные от банка — статистика о платёжеспособности клиентов.\n",
    "\n",
    "Результаты исследования будут учтены при построении модели **кредитного скоринга** — специальной системы, которая оценивает способность потенциального заёмщика вернуть кредит банку."
   ]
  },
  {
   "cell_type": "markdown",
   "id": "9ffa36a2",
   "metadata": {},
   "source": [
    "**Описание данных**\n",
    " - children — количество детей в семье\n",
    " - days_employed — общий трудовой стаж в днях\n",
    " - dob_years — возраст клиента в годах\n",
    " - education — уровень образования клиента\n",
    " - education_id — идентификатор уровня образования\n",
    " - family_status — семейное положение\n",
    " - family_status_id — идентификатор семейного положения\n",
    " - gender — пол клиента\n",
    " - income_type — тип занятости\n",
    " - debt — имел ли задолженность по возврату кредитов\n",
    " - total_income — ежемесячный доход\n",
    " - purpose — цель получения кредита"
   ]
  },
  {
   "cell_type": "markdown",
   "id": "644cbca3",
   "metadata": {},
   "source": [
    "### Шаг 1. Обзор данных"
   ]
  },
  {
   "cell_type": "code",
   "execution_count": 62,
   "id": "3aed5f6b",
   "metadata": {},
   "outputs": [],
   "source": [
    "import pandas as pd\n",
    "from pymystem3 import Mystem\n",
    "from nltk.stem import SnowballStemmer \n",
    "from collections import Counter"
   ]
  },
  {
   "cell_type": "code",
   "execution_count": 63,
   "id": "8f1c1eac",
   "metadata": {},
   "outputs": [],
   "source": [
    "data = pd.read_csv('/datasets/data.csv')"
   ]
  },
  {
   "cell_type": "code",
   "execution_count": 64,
   "id": "e843ce81",
   "metadata": {},
   "outputs": [
    {
     "data": {
      "text/html": [
       "<div>\n",
       "<style scoped>\n",
       "    .dataframe tbody tr th:only-of-type {\n",
       "        vertical-align: middle;\n",
       "    }\n",
       "\n",
       "    .dataframe tbody tr th {\n",
       "        vertical-align: top;\n",
       "    }\n",
       "\n",
       "    .dataframe thead th {\n",
       "        text-align: right;\n",
       "    }\n",
       "</style>\n",
       "<table border=\"1\" class=\"dataframe\">\n",
       "  <thead>\n",
       "    <tr style=\"text-align: right;\">\n",
       "      <th></th>\n",
       "      <th>children</th>\n",
       "      <th>days_employed</th>\n",
       "      <th>dob_years</th>\n",
       "      <th>education</th>\n",
       "      <th>education_id</th>\n",
       "      <th>family_status</th>\n",
       "      <th>family_status_id</th>\n",
       "      <th>gender</th>\n",
       "      <th>income_type</th>\n",
       "      <th>debt</th>\n",
       "      <th>total_income</th>\n",
       "      <th>purpose</th>\n",
       "    </tr>\n",
       "  </thead>\n",
       "  <tbody>\n",
       "    <tr>\n",
       "      <td>0</td>\n",
       "      <td>1</td>\n",
       "      <td>-8437.673028</td>\n",
       "      <td>42</td>\n",
       "      <td>высшее</td>\n",
       "      <td>0</td>\n",
       "      <td>женат / замужем</td>\n",
       "      <td>0</td>\n",
       "      <td>F</td>\n",
       "      <td>сотрудник</td>\n",
       "      <td>0</td>\n",
       "      <td>253875.639453</td>\n",
       "      <td>покупка жилья</td>\n",
       "    </tr>\n",
       "    <tr>\n",
       "      <td>1</td>\n",
       "      <td>1</td>\n",
       "      <td>-4024.803754</td>\n",
       "      <td>36</td>\n",
       "      <td>среднее</td>\n",
       "      <td>1</td>\n",
       "      <td>женат / замужем</td>\n",
       "      <td>0</td>\n",
       "      <td>F</td>\n",
       "      <td>сотрудник</td>\n",
       "      <td>0</td>\n",
       "      <td>112080.014102</td>\n",
       "      <td>приобретение автомобиля</td>\n",
       "    </tr>\n",
       "    <tr>\n",
       "      <td>2</td>\n",
       "      <td>0</td>\n",
       "      <td>-5623.422610</td>\n",
       "      <td>33</td>\n",
       "      <td>Среднее</td>\n",
       "      <td>1</td>\n",
       "      <td>женат / замужем</td>\n",
       "      <td>0</td>\n",
       "      <td>M</td>\n",
       "      <td>сотрудник</td>\n",
       "      <td>0</td>\n",
       "      <td>145885.952297</td>\n",
       "      <td>покупка жилья</td>\n",
       "    </tr>\n",
       "    <tr>\n",
       "      <td>3</td>\n",
       "      <td>3</td>\n",
       "      <td>-4124.747207</td>\n",
       "      <td>32</td>\n",
       "      <td>среднее</td>\n",
       "      <td>1</td>\n",
       "      <td>женат / замужем</td>\n",
       "      <td>0</td>\n",
       "      <td>M</td>\n",
       "      <td>сотрудник</td>\n",
       "      <td>0</td>\n",
       "      <td>267628.550329</td>\n",
       "      <td>дополнительное образование</td>\n",
       "    </tr>\n",
       "    <tr>\n",
       "      <td>4</td>\n",
       "      <td>0</td>\n",
       "      <td>340266.072047</td>\n",
       "      <td>53</td>\n",
       "      <td>среднее</td>\n",
       "      <td>1</td>\n",
       "      <td>гражданский брак</td>\n",
       "      <td>1</td>\n",
       "      <td>F</td>\n",
       "      <td>пенсионер</td>\n",
       "      <td>0</td>\n",
       "      <td>158616.077870</td>\n",
       "      <td>сыграть свадьбу</td>\n",
       "    </tr>\n",
       "    <tr>\n",
       "      <td>5</td>\n",
       "      <td>0</td>\n",
       "      <td>-926.185831</td>\n",
       "      <td>27</td>\n",
       "      <td>высшее</td>\n",
       "      <td>0</td>\n",
       "      <td>гражданский брак</td>\n",
       "      <td>1</td>\n",
       "      <td>M</td>\n",
       "      <td>компаньон</td>\n",
       "      <td>0</td>\n",
       "      <td>255763.565419</td>\n",
       "      <td>покупка жилья</td>\n",
       "    </tr>\n",
       "    <tr>\n",
       "      <td>6</td>\n",
       "      <td>0</td>\n",
       "      <td>-2879.202052</td>\n",
       "      <td>43</td>\n",
       "      <td>высшее</td>\n",
       "      <td>0</td>\n",
       "      <td>женат / замужем</td>\n",
       "      <td>0</td>\n",
       "      <td>F</td>\n",
       "      <td>компаньон</td>\n",
       "      <td>0</td>\n",
       "      <td>240525.971920</td>\n",
       "      <td>операции с жильем</td>\n",
       "    </tr>\n",
       "    <tr>\n",
       "      <td>7</td>\n",
       "      <td>0</td>\n",
       "      <td>-152.779569</td>\n",
       "      <td>50</td>\n",
       "      <td>СРЕДНЕЕ</td>\n",
       "      <td>1</td>\n",
       "      <td>женат / замужем</td>\n",
       "      <td>0</td>\n",
       "      <td>M</td>\n",
       "      <td>сотрудник</td>\n",
       "      <td>0</td>\n",
       "      <td>135823.934197</td>\n",
       "      <td>образование</td>\n",
       "    </tr>\n",
       "    <tr>\n",
       "      <td>8</td>\n",
       "      <td>2</td>\n",
       "      <td>-6929.865299</td>\n",
       "      <td>35</td>\n",
       "      <td>ВЫСШЕЕ</td>\n",
       "      <td>0</td>\n",
       "      <td>гражданский брак</td>\n",
       "      <td>1</td>\n",
       "      <td>F</td>\n",
       "      <td>сотрудник</td>\n",
       "      <td>0</td>\n",
       "      <td>95856.832424</td>\n",
       "      <td>на проведение свадьбы</td>\n",
       "    </tr>\n",
       "    <tr>\n",
       "      <td>9</td>\n",
       "      <td>0</td>\n",
       "      <td>-2188.756445</td>\n",
       "      <td>41</td>\n",
       "      <td>среднее</td>\n",
       "      <td>1</td>\n",
       "      <td>женат / замужем</td>\n",
       "      <td>0</td>\n",
       "      <td>M</td>\n",
       "      <td>сотрудник</td>\n",
       "      <td>0</td>\n",
       "      <td>144425.938277</td>\n",
       "      <td>покупка жилья для семьи</td>\n",
       "    </tr>\n",
       "  </tbody>\n",
       "</table>\n",
       "</div>"
      ],
      "text/plain": [
       "   children  days_employed  dob_years education  education_id  \\\n",
       "0         1   -8437.673028         42    высшее             0   \n",
       "1         1   -4024.803754         36   среднее             1   \n",
       "2         0   -5623.422610         33   Среднее             1   \n",
       "3         3   -4124.747207         32   среднее             1   \n",
       "4         0  340266.072047         53   среднее             1   \n",
       "5         0    -926.185831         27    высшее             0   \n",
       "6         0   -2879.202052         43    высшее             0   \n",
       "7         0    -152.779569         50   СРЕДНЕЕ             1   \n",
       "8         2   -6929.865299         35    ВЫСШЕЕ             0   \n",
       "9         0   -2188.756445         41   среднее             1   \n",
       "\n",
       "      family_status  family_status_id gender income_type  debt   total_income  \\\n",
       "0   женат / замужем                 0      F   сотрудник     0  253875.639453   \n",
       "1   женат / замужем                 0      F   сотрудник     0  112080.014102   \n",
       "2   женат / замужем                 0      M   сотрудник     0  145885.952297   \n",
       "3   женат / замужем                 0      M   сотрудник     0  267628.550329   \n",
       "4  гражданский брак                 1      F   пенсионер     0  158616.077870   \n",
       "5  гражданский брак                 1      M   компаньон     0  255763.565419   \n",
       "6   женат / замужем                 0      F   компаньон     0  240525.971920   \n",
       "7   женат / замужем                 0      M   сотрудник     0  135823.934197   \n",
       "8  гражданский брак                 1      F   сотрудник     0   95856.832424   \n",
       "9   женат / замужем                 0      M   сотрудник     0  144425.938277   \n",
       "\n",
       "                      purpose  \n",
       "0               покупка жилья  \n",
       "1     приобретение автомобиля  \n",
       "2               покупка жилья  \n",
       "3  дополнительное образование  \n",
       "4             сыграть свадьбу  \n",
       "5               покупка жилья  \n",
       "6           операции с жильем  \n",
       "7                 образование  \n",
       "8       на проведение свадьбы  \n",
       "9     покупка жилья для семьи  "
      ]
     },
     "execution_count": 64,
     "metadata": {},
     "output_type": "execute_result"
    }
   ],
   "source": [
    "data.head(10)"
   ]
  },
  {
   "cell_type": "markdown",
   "id": "bcea1a0c",
   "metadata": {},
   "source": [
    " *Для начала **переименуем столбцы** для удобства их понимания:*\n",
    " \n",
    " - dob_years -> age\n",
    " - gender -> sex\n",
    "        "
   ]
  },
  {
   "cell_type": "code",
   "execution_count": 65,
   "id": "48624d57",
   "metadata": {
    "scrolled": true
   },
   "outputs": [
    {
     "data": {
      "text/html": [
       "<div>\n",
       "<style scoped>\n",
       "    .dataframe tbody tr th:only-of-type {\n",
       "        vertical-align: middle;\n",
       "    }\n",
       "\n",
       "    .dataframe tbody tr th {\n",
       "        vertical-align: top;\n",
       "    }\n",
       "\n",
       "    .dataframe thead th {\n",
       "        text-align: right;\n",
       "    }\n",
       "</style>\n",
       "<table border=\"1\" class=\"dataframe\">\n",
       "  <thead>\n",
       "    <tr style=\"text-align: right;\">\n",
       "      <th></th>\n",
       "      <th>children</th>\n",
       "      <th>days_employed</th>\n",
       "      <th>age</th>\n",
       "      <th>education</th>\n",
       "      <th>education_id</th>\n",
       "      <th>family_status</th>\n",
       "      <th>family_status_id</th>\n",
       "      <th>sex</th>\n",
       "      <th>income_type</th>\n",
       "      <th>debt</th>\n",
       "      <th>total_income</th>\n",
       "      <th>purpose</th>\n",
       "    </tr>\n",
       "  </thead>\n",
       "  <tbody>\n",
       "    <tr>\n",
       "      <td>0</td>\n",
       "      <td>1</td>\n",
       "      <td>-8437.673028</td>\n",
       "      <td>42</td>\n",
       "      <td>высшее</td>\n",
       "      <td>0</td>\n",
       "      <td>женат / замужем</td>\n",
       "      <td>0</td>\n",
       "      <td>F</td>\n",
       "      <td>сотрудник</td>\n",
       "      <td>0</td>\n",
       "      <td>253875.639453</td>\n",
       "      <td>покупка жилья</td>\n",
       "    </tr>\n",
       "    <tr>\n",
       "      <td>1</td>\n",
       "      <td>1</td>\n",
       "      <td>-4024.803754</td>\n",
       "      <td>36</td>\n",
       "      <td>среднее</td>\n",
       "      <td>1</td>\n",
       "      <td>женат / замужем</td>\n",
       "      <td>0</td>\n",
       "      <td>F</td>\n",
       "      <td>сотрудник</td>\n",
       "      <td>0</td>\n",
       "      <td>112080.014102</td>\n",
       "      <td>приобретение автомобиля</td>\n",
       "    </tr>\n",
       "    <tr>\n",
       "      <td>2</td>\n",
       "      <td>0</td>\n",
       "      <td>-5623.422610</td>\n",
       "      <td>33</td>\n",
       "      <td>Среднее</td>\n",
       "      <td>1</td>\n",
       "      <td>женат / замужем</td>\n",
       "      <td>0</td>\n",
       "      <td>M</td>\n",
       "      <td>сотрудник</td>\n",
       "      <td>0</td>\n",
       "      <td>145885.952297</td>\n",
       "      <td>покупка жилья</td>\n",
       "    </tr>\n",
       "    <tr>\n",
       "      <td>3</td>\n",
       "      <td>3</td>\n",
       "      <td>-4124.747207</td>\n",
       "      <td>32</td>\n",
       "      <td>среднее</td>\n",
       "      <td>1</td>\n",
       "      <td>женат / замужем</td>\n",
       "      <td>0</td>\n",
       "      <td>M</td>\n",
       "      <td>сотрудник</td>\n",
       "      <td>0</td>\n",
       "      <td>267628.550329</td>\n",
       "      <td>дополнительное образование</td>\n",
       "    </tr>\n",
       "    <tr>\n",
       "      <td>4</td>\n",
       "      <td>0</td>\n",
       "      <td>340266.072047</td>\n",
       "      <td>53</td>\n",
       "      <td>среднее</td>\n",
       "      <td>1</td>\n",
       "      <td>гражданский брак</td>\n",
       "      <td>1</td>\n",
       "      <td>F</td>\n",
       "      <td>пенсионер</td>\n",
       "      <td>0</td>\n",
       "      <td>158616.077870</td>\n",
       "      <td>сыграть свадьбу</td>\n",
       "    </tr>\n",
       "  </tbody>\n",
       "</table>\n",
       "</div>"
      ],
      "text/plain": [
       "   children  days_employed  age education  education_id     family_status  \\\n",
       "0         1   -8437.673028   42    высшее             0   женат / замужем   \n",
       "1         1   -4024.803754   36   среднее             1   женат / замужем   \n",
       "2         0   -5623.422610   33   Среднее             1   женат / замужем   \n",
       "3         3   -4124.747207   32   среднее             1   женат / замужем   \n",
       "4         0  340266.072047   53   среднее             1  гражданский брак   \n",
       "\n",
       "   family_status_id sex income_type  debt   total_income  \\\n",
       "0                 0   F   сотрудник     0  253875.639453   \n",
       "1                 0   F   сотрудник     0  112080.014102   \n",
       "2                 0   M   сотрудник     0  145885.952297   \n",
       "3                 0   M   сотрудник     0  267628.550329   \n",
       "4                 1   F   пенсионер     0  158616.077870   \n",
       "\n",
       "                      purpose  \n",
       "0               покупка жилья  \n",
       "1     приобретение автомобиля  \n",
       "2               покупка жилья  \n",
       "3  дополнительное образование  \n",
       "4             сыграть свадьбу  "
      ]
     },
     "execution_count": 65,
     "metadata": {},
     "output_type": "execute_result"
    }
   ],
   "source": [
    "data = data.rename(columns={'dob_years':'age', 'gender':'sex'})\n",
    "data.head()\n"
   ]
  },
  {
   "cell_type": "markdown",
   "id": "fcd12384",
   "metadata": {},
   "source": [
    "*Получим **общую информацию**:*"
   ]
  },
  {
   "cell_type": "code",
   "execution_count": 66,
   "id": "9c013e6b",
   "metadata": {
    "scrolled": true
   },
   "outputs": [
    {
     "data": {
      "text/html": [
       "<div>\n",
       "<style scoped>\n",
       "    .dataframe tbody tr th:only-of-type {\n",
       "        vertical-align: middle;\n",
       "    }\n",
       "\n",
       "    .dataframe tbody tr th {\n",
       "        vertical-align: top;\n",
       "    }\n",
       "\n",
       "    .dataframe thead th {\n",
       "        text-align: right;\n",
       "    }\n",
       "</style>\n",
       "<table border=\"1\" class=\"dataframe\">\n",
       "  <thead>\n",
       "    <tr style=\"text-align: right;\">\n",
       "      <th></th>\n",
       "      <th>children</th>\n",
       "      <th>days_employed</th>\n",
       "      <th>age</th>\n",
       "      <th>education_id</th>\n",
       "      <th>family_status_id</th>\n",
       "      <th>debt</th>\n",
       "      <th>total_income</th>\n",
       "    </tr>\n",
       "  </thead>\n",
       "  <tbody>\n",
       "    <tr>\n",
       "      <td>count</td>\n",
       "      <td>21525.000000</td>\n",
       "      <td>19351.000000</td>\n",
       "      <td>21525.000000</td>\n",
       "      <td>21525.000000</td>\n",
       "      <td>21525.000000</td>\n",
       "      <td>21525.000000</td>\n",
       "      <td>1.935100e+04</td>\n",
       "    </tr>\n",
       "    <tr>\n",
       "      <td>mean</td>\n",
       "      <td>0.538908</td>\n",
       "      <td>63046.497661</td>\n",
       "      <td>43.293380</td>\n",
       "      <td>0.817236</td>\n",
       "      <td>0.972544</td>\n",
       "      <td>0.080883</td>\n",
       "      <td>1.674223e+05</td>\n",
       "    </tr>\n",
       "    <tr>\n",
       "      <td>std</td>\n",
       "      <td>1.381587</td>\n",
       "      <td>140827.311974</td>\n",
       "      <td>12.574584</td>\n",
       "      <td>0.548138</td>\n",
       "      <td>1.420324</td>\n",
       "      <td>0.272661</td>\n",
       "      <td>1.029716e+05</td>\n",
       "    </tr>\n",
       "    <tr>\n",
       "      <td>min</td>\n",
       "      <td>-1.000000</td>\n",
       "      <td>-18388.949901</td>\n",
       "      <td>0.000000</td>\n",
       "      <td>0.000000</td>\n",
       "      <td>0.000000</td>\n",
       "      <td>0.000000</td>\n",
       "      <td>2.066726e+04</td>\n",
       "    </tr>\n",
       "    <tr>\n",
       "      <td>25%</td>\n",
       "      <td>0.000000</td>\n",
       "      <td>-2747.423625</td>\n",
       "      <td>33.000000</td>\n",
       "      <td>1.000000</td>\n",
       "      <td>0.000000</td>\n",
       "      <td>0.000000</td>\n",
       "      <td>1.030532e+05</td>\n",
       "    </tr>\n",
       "    <tr>\n",
       "      <td>50%</td>\n",
       "      <td>0.000000</td>\n",
       "      <td>-1203.369529</td>\n",
       "      <td>42.000000</td>\n",
       "      <td>1.000000</td>\n",
       "      <td>0.000000</td>\n",
       "      <td>0.000000</td>\n",
       "      <td>1.450179e+05</td>\n",
       "    </tr>\n",
       "    <tr>\n",
       "      <td>75%</td>\n",
       "      <td>1.000000</td>\n",
       "      <td>-291.095954</td>\n",
       "      <td>53.000000</td>\n",
       "      <td>1.000000</td>\n",
       "      <td>1.000000</td>\n",
       "      <td>0.000000</td>\n",
       "      <td>2.034351e+05</td>\n",
       "    </tr>\n",
       "    <tr>\n",
       "      <td>max</td>\n",
       "      <td>20.000000</td>\n",
       "      <td>401755.400475</td>\n",
       "      <td>75.000000</td>\n",
       "      <td>4.000000</td>\n",
       "      <td>4.000000</td>\n",
       "      <td>1.000000</td>\n",
       "      <td>2.265604e+06</td>\n",
       "    </tr>\n",
       "  </tbody>\n",
       "</table>\n",
       "</div>"
      ],
      "text/plain": [
       "           children  days_employed           age  education_id  \\\n",
       "count  21525.000000   19351.000000  21525.000000  21525.000000   \n",
       "mean       0.538908   63046.497661     43.293380      0.817236   \n",
       "std        1.381587  140827.311974     12.574584      0.548138   \n",
       "min       -1.000000  -18388.949901      0.000000      0.000000   \n",
       "25%        0.000000   -2747.423625     33.000000      1.000000   \n",
       "50%        0.000000   -1203.369529     42.000000      1.000000   \n",
       "75%        1.000000    -291.095954     53.000000      1.000000   \n",
       "max       20.000000  401755.400475     75.000000      4.000000   \n",
       "\n",
       "       family_status_id          debt  total_income  \n",
       "count      21525.000000  21525.000000  1.935100e+04  \n",
       "mean           0.972544      0.080883  1.674223e+05  \n",
       "std            1.420324      0.272661  1.029716e+05  \n",
       "min            0.000000      0.000000  2.066726e+04  \n",
       "25%            0.000000      0.000000  1.030532e+05  \n",
       "50%            0.000000      0.000000  1.450179e+05  \n",
       "75%            1.000000      0.000000  2.034351e+05  \n",
       "max            4.000000      1.000000  2.265604e+06  "
      ]
     },
     "execution_count": 66,
     "metadata": {},
     "output_type": "execute_result"
    }
   ],
   "source": [
    "data.describe()"
   ]
  },
  {
   "cell_type": "markdown",
   "id": "868027f6",
   "metadata": {},
   "source": [
    "<div style=\"border:solid purple 2px; padding: 20px\">\n",
    "\n",
    "**Наблюдения:**\n",
    "\n",
    "\n",
    "1. Минимальное значение по 'children'-  -1. \n",
    "2. Максимальное значение по 'children' - 20. Относительно данных по 'children' похоже не человеческий фактор \n",
    "3. Отрицательные значения по количеству отработанных дней 'days_employed' \n",
    "4. Среднее значение по количеству отработанных дней 'days_employed' - 63046 дней (173 года, выглядит нереалистично)\n",
    "5. Возраст по некоторым строкам 'age' равен 0 "
   ]
  },
  {
   "cell_type": "code",
   "execution_count": 67,
   "id": "677ac9a5",
   "metadata": {},
   "outputs": [
    {
     "name": "stdout",
     "output_type": "stream",
     "text": [
      "<class 'pandas.core.frame.DataFrame'>\n",
      "RangeIndex: 21525 entries, 0 to 21524\n",
      "Data columns (total 12 columns):\n",
      "children            21525 non-null int64\n",
      "days_employed       19351 non-null float64\n",
      "age                 21525 non-null int64\n",
      "education           21525 non-null object\n",
      "education_id        21525 non-null int64\n",
      "family_status       21525 non-null object\n",
      "family_status_id    21525 non-null int64\n",
      "sex                 21525 non-null object\n",
      "income_type         21525 non-null object\n",
      "debt                21525 non-null int64\n",
      "total_income        19351 non-null float64\n",
      "purpose             21525 non-null object\n",
      "dtypes: float64(2), int64(5), object(5)\n",
      "memory usage: 2.0+ MB\n"
     ]
    }
   ],
   "source": [
    "data.info()"
   ]
  },
  {
   "cell_type": "markdown",
   "id": "d9ef6663",
   "metadata": {},
   "source": [
    "<div style=\"border:solid purple 2px; padding: 20px\">\n",
    "\n",
    "**Наблюдения:**\n",
    "\n",
    "1. Отсутствуют значения в столбцах 'days_employed' и 'total_income'.\n",
    "2. Столбцам 'days_employed' и 'total_income' стоит присвоить целочисленные значения"
   ]
  },
  {
   "cell_type": "markdown",
   "id": "3179f23a",
   "metadata": {},
   "source": [
    "**Проверим**, одни и те же строки отсутствуют по обоим столбцам ('days_employed' и 'total_income')?"
   ]
  },
  {
   "cell_type": "code",
   "execution_count": 68,
   "id": "3b25b34f",
   "metadata": {},
   "outputs": [
    {
     "name": "stdout",
     "output_type": "stream",
     "text": [
      "<class 'pandas.core.frame.DataFrame'>\n",
      "Int64Index: 2174 entries, 12 to 21510\n",
      "Data columns (total 12 columns):\n",
      "children            2174 non-null int64\n",
      "days_employed       0 non-null float64\n",
      "age                 2174 non-null int64\n",
      "education           2174 non-null object\n",
      "education_id        2174 non-null int64\n",
      "family_status       2174 non-null object\n",
      "family_status_id    2174 non-null int64\n",
      "sex                 2174 non-null object\n",
      "income_type         2174 non-null object\n",
      "debt                2174 non-null int64\n",
      "total_income        0 non-null float64\n",
      "purpose             2174 non-null object\n",
      "dtypes: float64(2), int64(5), object(5)\n",
      "memory usage: 220.8+ KB\n"
     ]
    }
   ],
   "source": [
    "data[(data['total_income'].isnull() == True) & (data['days_employed'].isnull() == True)].info()"
   ]
  },
  {
   "cell_type": "markdown",
   "id": "0ad9544f",
   "metadata": {},
   "source": [
    "**Предположение подтвердилось** - данные отсутствуют в строках 'days_employed' там же, где отсутствуют в строках 'total_income'"
   ]
  },
  {
   "cell_type": "markdown",
   "id": "2afa093b",
   "metadata": {},
   "source": [
    "<div style=\"border:solid green 2px; padding: 20px\">\n",
    "\n",
    "**Вывод:**\n",
    "\n",
    "- отрицательные данные 'days_employed' - возьмем весь столбец по модулю\n",
    "- нулевой возраст для некоторых клиентов - предполагаю,что данные просто были не внесены в базу \n",
    "- \"-1 ребенок\" - исправить\n",
    "- \"20 детей\" -  исправить"
   ]
  },
  {
   "cell_type": "markdown",
   "id": "ad636683",
   "metadata": {},
   "source": [
    "### Шаг 2.1 Заполнение пропусков"
   ]
  },
  {
   "cell_type": "markdown",
   "id": "2b91d34b",
   "metadata": {},
   "source": [
    "*Создадим pivot_table по каждому из типов занятости 'income_type' для того, чтобы понять девиацию со стажем (отрицательный стаж и стаж равный 1000 годам)*\n",
    "\n",
    "Для каждого типа 'income_type' выведем следующее:\n",
    "- общее кол-во строк данного типа в таблице;\n",
    "- среднее значение по 'days_employed';\n",
    "- для проверки корректности вычисления среднего и применения abs() выведем кол-во значений по 'days_employed' > 0 по данному 'income_type'."
   ]
  },
  {
   "cell_type": "code",
   "execution_count": 69,
   "id": "42d771cd",
   "metadata": {
    "scrolled": true
   },
   "outputs": [
    {
     "data": {
      "text/html": [
       "<div>\n",
       "<style scoped>\n",
       "    .dataframe tbody tr th:only-of-type {\n",
       "        vertical-align: middle;\n",
       "    }\n",
       "\n",
       "    .dataframe tbody tr th {\n",
       "        vertical-align: top;\n",
       "    }\n",
       "\n",
       "    .dataframe thead tr th {\n",
       "        text-align: left;\n",
       "    }\n",
       "\n",
       "    .dataframe thead tr:last-of-type th {\n",
       "        text-align: right;\n",
       "    }\n",
       "</style>\n",
       "<table border=\"1\" class=\"dataframe\">\n",
       "  <thead>\n",
       "    <tr>\n",
       "      <th></th>\n",
       "      <th colspan=\"3\" halign=\"left\">days_employed</th>\n",
       "    </tr>\n",
       "    <tr>\n",
       "      <th></th>\n",
       "      <th>количество строк</th>\n",
       "      <th>cреднее</th>\n",
       "      <th>кол-во значений &gt; 0</th>\n",
       "    </tr>\n",
       "    <tr>\n",
       "      <th>income_type</th>\n",
       "      <th></th>\n",
       "      <th></th>\n",
       "      <th></th>\n",
       "    </tr>\n",
       "  </thead>\n",
       "  <tbody>\n",
       "    <tr>\n",
       "      <td>безработный</td>\n",
       "      <td>2</td>\n",
       "      <td>366413.652744</td>\n",
       "      <td>2.0</td>\n",
       "    </tr>\n",
       "    <tr>\n",
       "      <td>в декрете</td>\n",
       "      <td>1</td>\n",
       "      <td>-3296.759962</td>\n",
       "      <td>0.0</td>\n",
       "    </tr>\n",
       "    <tr>\n",
       "      <td>госслужащий</td>\n",
       "      <td>1312</td>\n",
       "      <td>-3399.896902</td>\n",
       "      <td>0.0</td>\n",
       "    </tr>\n",
       "    <tr>\n",
       "      <td>компаньон</td>\n",
       "      <td>4577</td>\n",
       "      <td>-2111.524398</td>\n",
       "      <td>0.0</td>\n",
       "    </tr>\n",
       "    <tr>\n",
       "      <td>пенсионер</td>\n",
       "      <td>3443</td>\n",
       "      <td>365003.491245</td>\n",
       "      <td>3443.0</td>\n",
       "    </tr>\n",
       "    <tr>\n",
       "      <td>предприниматель</td>\n",
       "      <td>1</td>\n",
       "      <td>-520.848083</td>\n",
       "      <td>0.0</td>\n",
       "    </tr>\n",
       "    <tr>\n",
       "      <td>сотрудник</td>\n",
       "      <td>10014</td>\n",
       "      <td>-2326.499216</td>\n",
       "      <td>0.0</td>\n",
       "    </tr>\n",
       "    <tr>\n",
       "      <td>студент</td>\n",
       "      <td>1</td>\n",
       "      <td>-578.751554</td>\n",
       "      <td>0.0</td>\n",
       "    </tr>\n",
       "  </tbody>\n",
       "</table>\n",
       "</div>"
      ],
      "text/plain": [
       "                   days_employed                                   \n",
       "                количество строк        cреднее кол-во значений > 0\n",
       "income_type                                                        \n",
       "безработный                    2  366413.652744                 2.0\n",
       "в декрете                      1   -3296.759962                 0.0\n",
       "госслужащий                 1312   -3399.896902                 0.0\n",
       "компаньон                   4577   -2111.524398                 0.0\n",
       "пенсионер                   3443  365003.491245              3443.0\n",
       "предприниматель                1    -520.848083                 0.0\n",
       "сотрудник                  10014   -2326.499216                 0.0\n",
       "студент                        1    -578.751554                 0.0"
      ]
     },
     "execution_count": 69,
     "metadata": {},
     "output_type": "execute_result"
    }
   ],
   "source": [
    "data_pivot = data.groupby('income_type').agg({'days_employed':['count', 'mean', lambda x: sum(x>0)]})\n",
    "\n",
    "dict_to_rename = dict(zip(data_pivot.columns.levels[1], ['количество строк', 'cреднее', 'кол-во значений > 0']))\n",
    "\n",
    "data_pivot = data_pivot.rename(columns=dict_to_rename, level=1)\n",
    "data_pivot"
   ]
  },
  {
   "cell_type": "markdown",
   "id": "032bcafd",
   "metadata": {},
   "source": [
    "<div style=\"border:solid purple 2px; padding: 20px\">\n",
    "\n",
    "**Наблюдения:**\n",
    "    \n",
    "По \"безработным\" и \"пенсионерам\" значения > 0, по остальным - < 0.  Посчитаем среднее значение - применим abs()."
   ]
  },
  {
   "cell_type": "markdown",
   "id": "64713d97",
   "metadata": {},
   "source": [
    "Возьмём значения по 'days_employed' и 'income_type' по модулю.\n",
    "Добавим столбец 'avr_days_employed' для вычисления коэффициента полноты количества отработанных дней (трудовой стаж официально может начинаться с 16 лет), далее заполним NaN по 'days_employed' средними показателями.\n",
    "(избегаем столбцов, где в столбце 'days_employed' NaN через notnull())"
   ]
  },
  {
   "cell_type": "code",
   "execution_count": 70,
   "id": "bf192f53",
   "metadata": {
    "scrolled": true
   },
   "outputs": [
    {
     "data": {
      "text/html": [
       "<div>\n",
       "<style scoped>\n",
       "    .dataframe tbody tr th:only-of-type {\n",
       "        vertical-align: middle;\n",
       "    }\n",
       "\n",
       "    .dataframe tbody tr th {\n",
       "        vertical-align: top;\n",
       "    }\n",
       "\n",
       "    .dataframe thead th {\n",
       "        text-align: right;\n",
       "    }\n",
       "</style>\n",
       "<table border=\"1\" class=\"dataframe\">\n",
       "  <thead>\n",
       "    <tr style=\"text-align: right;\">\n",
       "      <th></th>\n",
       "      <th>children</th>\n",
       "      <th>days_employed</th>\n",
       "      <th>age</th>\n",
       "      <th>education</th>\n",
       "      <th>education_id</th>\n",
       "      <th>family_status</th>\n",
       "      <th>family_status_id</th>\n",
       "      <th>sex</th>\n",
       "      <th>income_type</th>\n",
       "      <th>debt</th>\n",
       "      <th>total_income</th>\n",
       "      <th>purpose</th>\n",
       "      <th>avr_days_employed</th>\n",
       "    </tr>\n",
       "  </thead>\n",
       "  <tbody>\n",
       "    <tr>\n",
       "      <td>0</td>\n",
       "      <td>1</td>\n",
       "      <td>8437.673028</td>\n",
       "      <td>42</td>\n",
       "      <td>высшее</td>\n",
       "      <td>0</td>\n",
       "      <td>женат / замужем</td>\n",
       "      <td>0</td>\n",
       "      <td>F</td>\n",
       "      <td>сотрудник</td>\n",
       "      <td>0</td>\n",
       "      <td>253875.639453</td>\n",
       "      <td>покупка жилья</td>\n",
       "      <td>0.889112</td>\n",
       "    </tr>\n",
       "    <tr>\n",
       "      <td>1</td>\n",
       "      <td>1</td>\n",
       "      <td>4024.803754</td>\n",
       "      <td>36</td>\n",
       "      <td>среднее</td>\n",
       "      <td>1</td>\n",
       "      <td>женат / замужем</td>\n",
       "      <td>0</td>\n",
       "      <td>F</td>\n",
       "      <td>сотрудник</td>\n",
       "      <td>0</td>\n",
       "      <td>112080.014102</td>\n",
       "      <td>приобретение автомобиля</td>\n",
       "      <td>0.551343</td>\n",
       "    </tr>\n",
       "    <tr>\n",
       "      <td>2</td>\n",
       "      <td>0</td>\n",
       "      <td>5623.422610</td>\n",
       "      <td>33</td>\n",
       "      <td>Среднее</td>\n",
       "      <td>1</td>\n",
       "      <td>женат / замужем</td>\n",
       "      <td>0</td>\n",
       "      <td>M</td>\n",
       "      <td>сотрудник</td>\n",
       "      <td>0</td>\n",
       "      <td>145885.952297</td>\n",
       "      <td>покупка жилья</td>\n",
       "      <td>0.906273</td>\n",
       "    </tr>\n",
       "    <tr>\n",
       "      <td>3</td>\n",
       "      <td>3</td>\n",
       "      <td>4124.747207</td>\n",
       "      <td>32</td>\n",
       "      <td>среднее</td>\n",
       "      <td>1</td>\n",
       "      <td>женат / замужем</td>\n",
       "      <td>0</td>\n",
       "      <td>M</td>\n",
       "      <td>сотрудник</td>\n",
       "      <td>0</td>\n",
       "      <td>267628.550329</td>\n",
       "      <td>дополнительное образование</td>\n",
       "      <td>0.706292</td>\n",
       "    </tr>\n",
       "    <tr>\n",
       "      <td>4</td>\n",
       "      <td>0</td>\n",
       "      <td>340266.072047</td>\n",
       "      <td>53</td>\n",
       "      <td>среднее</td>\n",
       "      <td>1</td>\n",
       "      <td>гражданский брак</td>\n",
       "      <td>1</td>\n",
       "      <td>F</td>\n",
       "      <td>пенсионер</td>\n",
       "      <td>0</td>\n",
       "      <td>158616.077870</td>\n",
       "      <td>сыграть свадьбу</td>\n",
       "      <td>25.195563</td>\n",
       "    </tr>\n",
       "  </tbody>\n",
       "</table>\n",
       "</div>"
      ],
      "text/plain": [
       "   children  days_employed  age education  education_id     family_status  \\\n",
       "0         1    8437.673028   42    высшее             0   женат / замужем   \n",
       "1         1    4024.803754   36   среднее             1   женат / замужем   \n",
       "2         0    5623.422610   33   Среднее             1   женат / замужем   \n",
       "3         3    4124.747207   32   среднее             1   женат / замужем   \n",
       "4         0  340266.072047   53   среднее             1  гражданский брак   \n",
       "\n",
       "   family_status_id sex income_type  debt   total_income  \\\n",
       "0                 0   F   сотрудник     0  253875.639453   \n",
       "1                 0   F   сотрудник     0  112080.014102   \n",
       "2                 0   M   сотрудник     0  145885.952297   \n",
       "3                 0   M   сотрудник     0  267628.550329   \n",
       "4                 1   F   пенсионер     0  158616.077870   \n",
       "\n",
       "                      purpose  avr_days_employed  \n",
       "0               покупка жилья           0.889112  \n",
       "1     приобретение автомобиля           0.551343  \n",
       "2               покупка жилья           0.906273  \n",
       "3  дополнительное образование           0.706292  \n",
       "4             сыграть свадьбу          25.195563  "
      ]
     },
     "execution_count": 70,
     "metadata": {},
     "output_type": "execute_result"
    }
   ],
   "source": [
    "data[['total_income', 'days_employed']] = data[['total_income', 'days_employed']].abs()\n",
    "data['avr_days_employed'] = data[data['days_employed'].notnull()]['days_employed']/((data['age']-16)*365)\n",
    "data.head()"
   ]
  },
  {
   "cell_type": "markdown",
   "id": "e6de61c8",
   "metadata": {},
   "source": [
    "Заполняем пропуски NaN в датафрейме data:\n",
    "-'days_employed': NaN заменяем на произведение среднего коэффициента по группе 'income_type', умноженного на возраст в днях;\n",
    "-'total_income': NaN заменяем на среднее значение по зарплате по группе 'income_type'."
   ]
  },
  {
   "cell_type": "code",
   "execution_count": 71,
   "id": "9c9f6eb9",
   "metadata": {
    "scrolled": true
   },
   "outputs": [
    {
     "data": {
      "text/html": [
       "<div>\n",
       "<style scoped>\n",
       "    .dataframe tbody tr th:only-of-type {\n",
       "        vertical-align: middle;\n",
       "    }\n",
       "\n",
       "    .dataframe tbody tr th {\n",
       "        vertical-align: top;\n",
       "    }\n",
       "\n",
       "    .dataframe thead th {\n",
       "        text-align: right;\n",
       "    }\n",
       "</style>\n",
       "<table border=\"1\" class=\"dataframe\">\n",
       "  <thead>\n",
       "    <tr style=\"text-align: right;\">\n",
       "      <th></th>\n",
       "      <th>children</th>\n",
       "      <th>days_employed</th>\n",
       "      <th>age</th>\n",
       "      <th>education</th>\n",
       "      <th>education_id</th>\n",
       "      <th>family_status</th>\n",
       "      <th>family_status_id</th>\n",
       "      <th>sex</th>\n",
       "      <th>income_type</th>\n",
       "      <th>debt</th>\n",
       "      <th>total_income</th>\n",
       "      <th>purpose</th>\n",
       "      <th>avr_days_employed</th>\n",
       "    </tr>\n",
       "  </thead>\n",
       "  <tbody>\n",
       "    <tr>\n",
       "      <td>0</td>\n",
       "      <td>1</td>\n",
       "      <td>8437.673028</td>\n",
       "      <td>42</td>\n",
       "      <td>высшее</td>\n",
       "      <td>0</td>\n",
       "      <td>женат / замужем</td>\n",
       "      <td>0</td>\n",
       "      <td>F</td>\n",
       "      <td>сотрудник</td>\n",
       "      <td>0</td>\n",
       "      <td>253875.639453</td>\n",
       "      <td>покупка жилья</td>\n",
       "      <td>0.889112</td>\n",
       "    </tr>\n",
       "    <tr>\n",
       "      <td>1</td>\n",
       "      <td>1</td>\n",
       "      <td>4024.803754</td>\n",
       "      <td>36</td>\n",
       "      <td>среднее</td>\n",
       "      <td>1</td>\n",
       "      <td>женат / замужем</td>\n",
       "      <td>0</td>\n",
       "      <td>F</td>\n",
       "      <td>сотрудник</td>\n",
       "      <td>0</td>\n",
       "      <td>112080.014102</td>\n",
       "      <td>приобретение автомобиля</td>\n",
       "      <td>0.551343</td>\n",
       "    </tr>\n",
       "    <tr>\n",
       "      <td>2</td>\n",
       "      <td>0</td>\n",
       "      <td>5623.422610</td>\n",
       "      <td>33</td>\n",
       "      <td>Среднее</td>\n",
       "      <td>1</td>\n",
       "      <td>женат / замужем</td>\n",
       "      <td>0</td>\n",
       "      <td>M</td>\n",
       "      <td>сотрудник</td>\n",
       "      <td>0</td>\n",
       "      <td>145885.952297</td>\n",
       "      <td>покупка жилья</td>\n",
       "      <td>0.906273</td>\n",
       "    </tr>\n",
       "    <tr>\n",
       "      <td>3</td>\n",
       "      <td>3</td>\n",
       "      <td>4124.747207</td>\n",
       "      <td>32</td>\n",
       "      <td>среднее</td>\n",
       "      <td>1</td>\n",
       "      <td>женат / замужем</td>\n",
       "      <td>0</td>\n",
       "      <td>M</td>\n",
       "      <td>сотрудник</td>\n",
       "      <td>0</td>\n",
       "      <td>267628.550329</td>\n",
       "      <td>дополнительное образование</td>\n",
       "      <td>0.706292</td>\n",
       "    </tr>\n",
       "    <tr>\n",
       "      <td>4</td>\n",
       "      <td>0</td>\n",
       "      <td>340266.072047</td>\n",
       "      <td>53</td>\n",
       "      <td>среднее</td>\n",
       "      <td>1</td>\n",
       "      <td>гражданский брак</td>\n",
       "      <td>1</td>\n",
       "      <td>F</td>\n",
       "      <td>пенсионер</td>\n",
       "      <td>0</td>\n",
       "      <td>158616.077870</td>\n",
       "      <td>сыграть свадьбу</td>\n",
       "      <td>25.195563</td>\n",
       "    </tr>\n",
       "  </tbody>\n",
       "</table>\n",
       "</div>"
      ],
      "text/plain": [
       "   children  days_employed  age education  education_id     family_status  \\\n",
       "0         1    8437.673028   42    высшее             0   женат / замужем   \n",
       "1         1    4024.803754   36   среднее             1   женат / замужем   \n",
       "2         0    5623.422610   33   Среднее             1   женат / замужем   \n",
       "3         3    4124.747207   32   среднее             1   женат / замужем   \n",
       "4         0  340266.072047   53   среднее             1  гражданский брак   \n",
       "\n",
       "   family_status_id sex income_type  debt   total_income  \\\n",
       "0                 0   F   сотрудник     0  253875.639453   \n",
       "1                 0   F   сотрудник     0  112080.014102   \n",
       "2                 0   M   сотрудник     0  145885.952297   \n",
       "3                 0   M   сотрудник     0  267628.550329   \n",
       "4                 1   F   пенсионер     0  158616.077870   \n",
       "\n",
       "                      purpose  avr_days_employed  \n",
       "0               покупка жилья           0.889112  \n",
       "1     приобретение автомобиля           0.551343  \n",
       "2               покупка жилья           0.906273  \n",
       "3  дополнительное образование           0.706292  \n",
       "4             сыграть свадьбу          25.195563  "
      ]
     },
     "execution_count": 71,
     "metadata": {},
     "output_type": "execute_result"
    }
   ],
   "source": [
    "data['days_employed'] = data.groupby('income_type')['days_employed'].transform(lambda x: x.fillna(x.mean()*data['age']*365))\n",
    "data['total_income'] = data.groupby('income_type')['total_income'].transform(lambda x: x.fillna(x.mean()))\n",
    "data.head()"
   ]
  },
  {
   "cell_type": "markdown",
   "id": "8dc6d01c",
   "metadata": {},
   "source": [
    "Вспомогательный столбец можем удалить.\n",
    "Выведем общую информацию по датафрейму."
   ]
  },
  {
   "cell_type": "code",
   "execution_count": 72,
   "id": "7c846f60",
   "metadata": {
    "scrolled": true
   },
   "outputs": [
    {
     "name": "stdout",
     "output_type": "stream",
     "text": [
      "<class 'pandas.core.frame.DataFrame'>\n",
      "RangeIndex: 21525 entries, 0 to 21524\n",
      "Data columns (total 12 columns):\n",
      "children            21525 non-null int64\n",
      "days_employed       21525 non-null float64\n",
      "age                 21525 non-null int64\n",
      "education           21525 non-null object\n",
      "education_id        21525 non-null int64\n",
      "family_status       21525 non-null object\n",
      "family_status_id    21525 non-null int64\n",
      "sex                 21525 non-null object\n",
      "income_type         21525 non-null object\n",
      "debt                21525 non-null int64\n",
      "total_income        21525 non-null float64\n",
      "purpose             21525 non-null object\n",
      "dtypes: float64(2), int64(5), object(5)\n",
      "memory usage: 2.0+ MB\n"
     ]
    }
   ],
   "source": [
    "data = data.drop('avr_days_employed', axis=1)\n",
    "data.info(10)"
   ]
  },
  {
   "cell_type": "markdown",
   "id": "ed11d19a",
   "metadata": {},
   "source": [
    "### Шаг 2.2 Проверка данных на аномалии и исправления."
   ]
  },
  {
   "cell_type": "markdown",
   "id": "aad0c8f7",
   "metadata": {},
   "source": [
    "*перейдем к аномальным значениям*\n",
    "\n",
    "- преобразовать 'days_employed' по пенсионерам > 90 лет \n",
    "- необходимо привести значения в столбце 'education' к общему виду  (напр., 'Среднее'-'среднее'-'СРЕДНЕЕ') \n",
    "- исправить минимальное значение по 'children' (-1) на 1;\n",
    "- исправить максимальное значение по 'children' (20) на 2;\n",
    "- обработать нулевой возраст по некоторым строкам 'age'."
   ]
  },
  {
   "cell_type": "code",
   "execution_count": 73,
   "id": "55f6eea4",
   "metadata": {},
   "outputs": [],
   "source": [
    "data['education'] = data['education'].str.lower()"
   ]
  },
  {
   "cell_type": "code",
   "execution_count": 74,
   "id": "c17bd22d",
   "metadata": {},
   "outputs": [
    {
     "name": "stdout",
     "output_type": "stream",
     "text": [
      "Количество строк с 'children' -1 - 47\n",
      "Количество строк с 'children' 0 - 14149\n",
      "Количество строк с 'children' 20 - 76\n"
     ]
    }
   ],
   "source": [
    "print(\"Количество строк с 'children' -1 -\", data[data['children'] == -1].count()[0])\n",
    "print(\"Количество строк с 'children' 0 -\", data[data['children'] == 0].count()[0])\n",
    "print(\"Количество строк с 'children' 20 -\", data[data['children'] == 20].count()[0])"
   ]
  },
  {
   "cell_type": "code",
   "execution_count": 75,
   "id": "340fb019",
   "metadata": {},
   "outputs": [],
   "source": [
    "data['children'] = data['children'].replace(-1, 1)\n",
    "data['children'] = data['children'].replace(20, 2)"
   ]
  },
  {
   "cell_type": "code",
   "execution_count": 76,
   "id": "39ae4125",
   "metadata": {
    "scrolled": true
   },
   "outputs": [
    {
     "data": {
      "text/html": [
       "<div>\n",
       "<style scoped>\n",
       "    .dataframe tbody tr th:only-of-type {\n",
       "        vertical-align: middle;\n",
       "    }\n",
       "\n",
       "    .dataframe tbody tr th {\n",
       "        vertical-align: top;\n",
       "    }\n",
       "\n",
       "    .dataframe thead th {\n",
       "        text-align: right;\n",
       "    }\n",
       "</style>\n",
       "<table border=\"1\" class=\"dataframe\">\n",
       "  <thead>\n",
       "    <tr style=\"text-align: right;\">\n",
       "      <th></th>\n",
       "      <th>children</th>\n",
       "      <th>days_employed</th>\n",
       "      <th>age</th>\n",
       "      <th>education</th>\n",
       "      <th>education_id</th>\n",
       "      <th>family_status</th>\n",
       "      <th>family_status_id</th>\n",
       "      <th>sex</th>\n",
       "      <th>income_type</th>\n",
       "      <th>debt</th>\n",
       "      <th>total_income</th>\n",
       "      <th>purpose</th>\n",
       "    </tr>\n",
       "  </thead>\n",
       "  <tbody>\n",
       "    <tr>\n",
       "      <td>0</td>\n",
       "      <td>1</td>\n",
       "      <td>8.437673e+03</td>\n",
       "      <td>42</td>\n",
       "      <td>высшее</td>\n",
       "      <td>0</td>\n",
       "      <td>женат / замужем</td>\n",
       "      <td>0</td>\n",
       "      <td>F</td>\n",
       "      <td>сотрудник</td>\n",
       "      <td>0</td>\n",
       "      <td>253875.639453</td>\n",
       "      <td>покупка жилья</td>\n",
       "    </tr>\n",
       "    <tr>\n",
       "      <td>1</td>\n",
       "      <td>1</td>\n",
       "      <td>4.024804e+03</td>\n",
       "      <td>36</td>\n",
       "      <td>среднее</td>\n",
       "      <td>1</td>\n",
       "      <td>женат / замужем</td>\n",
       "      <td>0</td>\n",
       "      <td>F</td>\n",
       "      <td>сотрудник</td>\n",
       "      <td>0</td>\n",
       "      <td>112080.014102</td>\n",
       "      <td>приобретение автомобиля</td>\n",
       "    </tr>\n",
       "    <tr>\n",
       "      <td>2</td>\n",
       "      <td>0</td>\n",
       "      <td>5.623423e+03</td>\n",
       "      <td>33</td>\n",
       "      <td>среднее</td>\n",
       "      <td>1</td>\n",
       "      <td>женат / замужем</td>\n",
       "      <td>0</td>\n",
       "      <td>M</td>\n",
       "      <td>сотрудник</td>\n",
       "      <td>0</td>\n",
       "      <td>145885.952297</td>\n",
       "      <td>покупка жилья</td>\n",
       "    </tr>\n",
       "    <tr>\n",
       "      <td>3</td>\n",
       "      <td>3</td>\n",
       "      <td>4.124747e+03</td>\n",
       "      <td>32</td>\n",
       "      <td>среднее</td>\n",
       "      <td>1</td>\n",
       "      <td>женат / замужем</td>\n",
       "      <td>0</td>\n",
       "      <td>M</td>\n",
       "      <td>сотрудник</td>\n",
       "      <td>0</td>\n",
       "      <td>267628.550329</td>\n",
       "      <td>дополнительное образование</td>\n",
       "    </tr>\n",
       "    <tr>\n",
       "      <td>4</td>\n",
       "      <td>0</td>\n",
       "      <td>3.402661e+05</td>\n",
       "      <td>53</td>\n",
       "      <td>среднее</td>\n",
       "      <td>1</td>\n",
       "      <td>гражданский брак</td>\n",
       "      <td>1</td>\n",
       "      <td>F</td>\n",
       "      <td>пенсионер</td>\n",
       "      <td>0</td>\n",
       "      <td>158616.077870</td>\n",
       "      <td>сыграть свадьбу</td>\n",
       "    </tr>\n",
       "    <tr>\n",
       "      <td>...</td>\n",
       "      <td>...</td>\n",
       "      <td>...</td>\n",
       "      <td>...</td>\n",
       "      <td>...</td>\n",
       "      <td>...</td>\n",
       "      <td>...</td>\n",
       "      <td>...</td>\n",
       "      <td>...</td>\n",
       "      <td>...</td>\n",
       "      <td>...</td>\n",
       "      <td>...</td>\n",
       "      <td>...</td>\n",
       "    </tr>\n",
       "    <tr>\n",
       "      <td>21510</td>\n",
       "      <td>2</td>\n",
       "      <td>2.377682e+07</td>\n",
       "      <td>28</td>\n",
       "      <td>среднее</td>\n",
       "      <td>1</td>\n",
       "      <td>женат / замужем</td>\n",
       "      <td>0</td>\n",
       "      <td>F</td>\n",
       "      <td>сотрудник</td>\n",
       "      <td>0</td>\n",
       "      <td>161380.260488</td>\n",
       "      <td>приобретение автомобиля</td>\n",
       "    </tr>\n",
       "    <tr>\n",
       "      <td>21511</td>\n",
       "      <td>0</td>\n",
       "      <td>6.125691e+02</td>\n",
       "      <td>29</td>\n",
       "      <td>высшее</td>\n",
       "      <td>0</td>\n",
       "      <td>гражданский брак</td>\n",
       "      <td>1</td>\n",
       "      <td>F</td>\n",
       "      <td>сотрудник</td>\n",
       "      <td>1</td>\n",
       "      <td>140068.472941</td>\n",
       "      <td>покупка жилья для сдачи</td>\n",
       "    </tr>\n",
       "    <tr>\n",
       "      <td>21512</td>\n",
       "      <td>0</td>\n",
       "      <td>1.653778e+02</td>\n",
       "      <td>26</td>\n",
       "      <td>высшее</td>\n",
       "      <td>0</td>\n",
       "      <td>Не женат / не замужем</td>\n",
       "      <td>4</td>\n",
       "      <td>M</td>\n",
       "      <td>компаньон</td>\n",
       "      <td>0</td>\n",
       "      <td>147301.457769</td>\n",
       "      <td>получение дополнительного образования</td>\n",
       "    </tr>\n",
       "    <tr>\n",
       "      <td>21513</td>\n",
       "      <td>0</td>\n",
       "      <td>1.166217e+03</td>\n",
       "      <td>35</td>\n",
       "      <td>среднее</td>\n",
       "      <td>1</td>\n",
       "      <td>женат / замужем</td>\n",
       "      <td>0</td>\n",
       "      <td>F</td>\n",
       "      <td>сотрудник</td>\n",
       "      <td>0</td>\n",
       "      <td>250986.142309</td>\n",
       "      <td>покупка жилья</td>\n",
       "    </tr>\n",
       "    <tr>\n",
       "      <td>21514</td>\n",
       "      <td>0</td>\n",
       "      <td>2.804700e+02</td>\n",
       "      <td>27</td>\n",
       "      <td>неоконченное высшее</td>\n",
       "      <td>2</td>\n",
       "      <td>Не женат / не замужем</td>\n",
       "      <td>4</td>\n",
       "      <td>M</td>\n",
       "      <td>компаньон</td>\n",
       "      <td>0</td>\n",
       "      <td>355988.407188</td>\n",
       "      <td>строительство недвижимости</td>\n",
       "    </tr>\n",
       "  </tbody>\n",
       "</table>\n",
       "<p>21515 rows × 12 columns</p>\n",
       "</div>"
      ],
      "text/plain": [
       "       children  days_employed  age            education  education_id  \\\n",
       "0             1   8.437673e+03   42               высшее             0   \n",
       "1             1   4.024804e+03   36              среднее             1   \n",
       "2             0   5.623423e+03   33              среднее             1   \n",
       "3             3   4.124747e+03   32              среднее             1   \n",
       "4             0   3.402661e+05   53              среднее             1   \n",
       "...         ...            ...  ...                  ...           ...   \n",
       "21510         2   2.377682e+07   28              среднее             1   \n",
       "21511         0   6.125691e+02   29               высшее             0   \n",
       "21512         0   1.653778e+02   26               высшее             0   \n",
       "21513         0   1.166217e+03   35              среднее             1   \n",
       "21514         0   2.804700e+02   27  неоконченное высшее             2   \n",
       "\n",
       "               family_status  family_status_id sex income_type  debt  \\\n",
       "0            женат / замужем                 0   F   сотрудник     0   \n",
       "1            женат / замужем                 0   F   сотрудник     0   \n",
       "2            женат / замужем                 0   M   сотрудник     0   \n",
       "3            женат / замужем                 0   M   сотрудник     0   \n",
       "4           гражданский брак                 1   F   пенсионер     0   \n",
       "...                      ...               ...  ..         ...   ...   \n",
       "21510        женат / замужем                 0   F   сотрудник     0   \n",
       "21511       гражданский брак                 1   F   сотрудник     1   \n",
       "21512  Не женат / не замужем                 4   M   компаньон     0   \n",
       "21513        женат / замужем                 0   F   сотрудник     0   \n",
       "21514  Не женат / не замужем                 4   M   компаньон     0   \n",
       "\n",
       "        total_income                                purpose  \n",
       "0      253875.639453                          покупка жилья  \n",
       "1      112080.014102                приобретение автомобиля  \n",
       "2      145885.952297                          покупка жилья  \n",
       "3      267628.550329             дополнительное образование  \n",
       "4      158616.077870                        сыграть свадьбу  \n",
       "...              ...                                    ...  \n",
       "21510  161380.260488                приобретение автомобиля  \n",
       "21511  140068.472941                покупка жилья для сдачи  \n",
       "21512  147301.457769  получение дополнительного образования  \n",
       "21513  250986.142309                          покупка жилья  \n",
       "21514  355988.407188             строительство недвижимости  \n",
       "\n",
       "[21515 rows x 12 columns]"
      ]
     },
     "execution_count": 76,
     "metadata": {},
     "output_type": "execute_result"
    }
   ],
   "source": [
    "data.head(-10)"
   ]
  },
  {
   "cell_type": "markdown",
   "id": "18e0cb07",
   "metadata": {},
   "source": [
    "*Проверим количество нулей по возрасту ('age') и количество несовершеннолетних*"
   ]
  },
  {
   "cell_type": "code",
   "execution_count": 77,
   "id": "bf4531b9",
   "metadata": {},
   "outputs": [
    {
     "name": "stdout",
     "output_type": "stream",
     "text": [
      "Количество строк с 'age' 0 - 101\n",
      "Количество строк с 'age' < 19 - 101\n"
     ]
    }
   ],
   "source": [
    "print(\"Количество строк с 'age' 0 -\", data[data['age'] == 0].count()[0])\n",
    "print(\"Количество строк с 'age' < 19 -\", data[data['age'] < 19].count()[0])"
   ]
  },
  {
   "cell_type": "markdown",
   "id": "92cd98d2",
   "metadata": {},
   "source": [
    "Количества совпадают! Заполним значения по ним средним по каждой группе."
   ]
  },
  {
   "cell_type": "code",
   "execution_count": 78,
   "id": "ec924607",
   "metadata": {},
   "outputs": [
    {
     "name": "stdout",
     "output_type": "stream",
     "text": [
      "Количество строк с 'age' 0 - 0\n"
     ]
    }
   ],
   "source": [
    "data['age'] = data.groupby('income_type')['age'].transform(lambda x: x.replace(0, int(x.mean())))\n",
    "print(\"Количество строк с 'age' 0 -\", data[data['age'] == 0].count()[0])"
   ]
  },
  {
   "cell_type": "code",
   "execution_count": 79,
   "id": "7a26dfd0",
   "metadata": {
    "scrolled": true
   },
   "outputs": [
    {
     "data": {
      "text/html": [
       "<div>\n",
       "<style scoped>\n",
       "    .dataframe tbody tr th:only-of-type {\n",
       "        vertical-align: middle;\n",
       "    }\n",
       "\n",
       "    .dataframe tbody tr th {\n",
       "        vertical-align: top;\n",
       "    }\n",
       "\n",
       "    .dataframe thead th {\n",
       "        text-align: right;\n",
       "    }\n",
       "</style>\n",
       "<table border=\"1\" class=\"dataframe\">\n",
       "  <thead>\n",
       "    <tr style=\"text-align: right;\">\n",
       "      <th></th>\n",
       "      <th>children</th>\n",
       "      <th>days_employed</th>\n",
       "      <th>age</th>\n",
       "      <th>education_id</th>\n",
       "      <th>family_status_id</th>\n",
       "      <th>debt</th>\n",
       "      <th>total_income</th>\n",
       "    </tr>\n",
       "  </thead>\n",
       "  <tbody>\n",
       "    <tr>\n",
       "      <td>count</td>\n",
       "      <td>21525.000000</td>\n",
       "      <td>2.152500e+04</td>\n",
       "      <td>21525.000000</td>\n",
       "      <td>21525.000000</td>\n",
       "      <td>21525.000000</td>\n",
       "      <td>21525.000000</td>\n",
       "      <td>2.152500e+04</td>\n",
       "    </tr>\n",
       "    <tr>\n",
       "      <td>mean</td>\n",
       "      <td>0.479721</td>\n",
       "      <td>1.522834e+08</td>\n",
       "      <td>43.495238</td>\n",
       "      <td>0.817236</td>\n",
       "      <td>0.972544</td>\n",
       "      <td>0.080883</td>\n",
       "      <td>1.673959e+05</td>\n",
       "    </tr>\n",
       "    <tr>\n",
       "      <td>std</td>\n",
       "      <td>0.755528</td>\n",
       "      <td>1.078074e+09</td>\n",
       "      <td>12.230322</td>\n",
       "      <td>0.548138</td>\n",
       "      <td>1.420324</td>\n",
       "      <td>0.272661</td>\n",
       "      <td>9.790695e+04</td>\n",
       "    </tr>\n",
       "    <tr>\n",
       "      <td>min</td>\n",
       "      <td>0.000000</td>\n",
       "      <td>0.000000e+00</td>\n",
       "      <td>19.000000</td>\n",
       "      <td>0.000000</td>\n",
       "      <td>0.000000</td>\n",
       "      <td>0.000000</td>\n",
       "      <td>2.066726e+04</td>\n",
       "    </tr>\n",
       "    <tr>\n",
       "      <td>25%</td>\n",
       "      <td>0.000000</td>\n",
       "      <td>1.024652e+03</td>\n",
       "      <td>34.000000</td>\n",
       "      <td>1.000000</td>\n",
       "      <td>0.000000</td>\n",
       "      <td>0.000000</td>\n",
       "      <td>1.077982e+05</td>\n",
       "    </tr>\n",
       "    <tr>\n",
       "      <td>50%</td>\n",
       "      <td>0.000000</td>\n",
       "      <td>2.605748e+03</td>\n",
       "      <td>43.000000</td>\n",
       "      <td>1.000000</td>\n",
       "      <td>0.000000</td>\n",
       "      <td>0.000000</td>\n",
       "      <td>1.519313e+05</td>\n",
       "    </tr>\n",
       "    <tr>\n",
       "      <td>75%</td>\n",
       "      <td>1.000000</td>\n",
       "      <td>3.336411e+05</td>\n",
       "      <td>53.000000</td>\n",
       "      <td>1.000000</td>\n",
       "      <td>1.000000</td>\n",
       "      <td>0.000000</td>\n",
       "      <td>2.024175e+05</td>\n",
       "    </tr>\n",
       "    <tr>\n",
       "      <td>max</td>\n",
       "      <td>5.000000</td>\n",
       "      <td>9.725518e+09</td>\n",
       "      <td>75.000000</td>\n",
       "      <td>4.000000</td>\n",
       "      <td>4.000000</td>\n",
       "      <td>1.000000</td>\n",
       "      <td>2.265604e+06</td>\n",
       "    </tr>\n",
       "  </tbody>\n",
       "</table>\n",
       "</div>"
      ],
      "text/plain": [
       "           children  days_employed           age  education_id  \\\n",
       "count  21525.000000   2.152500e+04  21525.000000  21525.000000   \n",
       "mean       0.479721   1.522834e+08     43.495238      0.817236   \n",
       "std        0.755528   1.078074e+09     12.230322      0.548138   \n",
       "min        0.000000   0.000000e+00     19.000000      0.000000   \n",
       "25%        0.000000   1.024652e+03     34.000000      1.000000   \n",
       "50%        0.000000   2.605748e+03     43.000000      1.000000   \n",
       "75%        1.000000   3.336411e+05     53.000000      1.000000   \n",
       "max        5.000000   9.725518e+09     75.000000      4.000000   \n",
       "\n",
       "       family_status_id          debt  total_income  \n",
       "count      21525.000000  21525.000000  2.152500e+04  \n",
       "mean           0.972544      0.080883  1.673959e+05  \n",
       "std            1.420324      0.272661  9.790695e+04  \n",
       "min            0.000000      0.000000  2.066726e+04  \n",
       "25%            0.000000      0.000000  1.077982e+05  \n",
       "50%            0.000000      0.000000  1.519313e+05  \n",
       "75%            1.000000      0.000000  2.024175e+05  \n",
       "max            4.000000      1.000000  2.265604e+06  "
      ]
     },
     "execution_count": 79,
     "metadata": {},
     "output_type": "execute_result"
    }
   ],
   "source": [
    "data.describe()"
   ]
  },
  {
   "cell_type": "markdown",
   "id": "4bfb7f47",
   "metadata": {},
   "source": [
    "<div style=\"border:solid green 2px; padding: 20px\">\n",
    "\n",
    "**Вывод:**\n",
    "    \n",
    "Все значения NaN по датафрейму заполнены, явно некорректные значения откорректированы"
   ]
  },
  {
   "cell_type": "code",
   "execution_count": 80,
   "id": "80f0b481",
   "metadata": {
    "scrolled": true
   },
   "outputs": [
    {
     "name": "stdout",
     "output_type": "stream",
     "text": [
      "Столбец sex ['F' 'M' 'XNA']\n"
     ]
    }
   ],
   "source": [
    "print('Столбец sex', data['sex'].unique())"
   ]
  },
  {
   "cell_type": "code",
   "execution_count": 81,
   "id": "c8360c84",
   "metadata": {
    "scrolled": false
   },
   "outputs": [
    {
     "data": {
      "text/html": [
       "<div>\n",
       "<style scoped>\n",
       "    .dataframe tbody tr th:only-of-type {\n",
       "        vertical-align: middle;\n",
       "    }\n",
       "\n",
       "    .dataframe tbody tr th {\n",
       "        vertical-align: top;\n",
       "    }\n",
       "\n",
       "    .dataframe thead th {\n",
       "        text-align: right;\n",
       "    }\n",
       "</style>\n",
       "<table border=\"1\" class=\"dataframe\">\n",
       "  <thead>\n",
       "    <tr style=\"text-align: right;\">\n",
       "      <th></th>\n",
       "      <th>children</th>\n",
       "      <th>days_employed</th>\n",
       "      <th>age</th>\n",
       "      <th>education</th>\n",
       "      <th>education_id</th>\n",
       "      <th>family_status</th>\n",
       "      <th>family_status_id</th>\n",
       "      <th>sex</th>\n",
       "      <th>income_type</th>\n",
       "      <th>debt</th>\n",
       "      <th>total_income</th>\n",
       "      <th>purpose</th>\n",
       "    </tr>\n",
       "  </thead>\n",
       "  <tbody>\n",
       "    <tr>\n",
       "      <td>10701</td>\n",
       "      <td>0</td>\n",
       "      <td>2358.600502</td>\n",
       "      <td>24</td>\n",
       "      <td>неоконченное высшее</td>\n",
       "      <td>2</td>\n",
       "      <td>гражданский брак</td>\n",
       "      <td>1</td>\n",
       "      <td>XNA</td>\n",
       "      <td>компаньон</td>\n",
       "      <td>0</td>\n",
       "      <td>203905.157261</td>\n",
       "      <td>покупка недвижимости</td>\n",
       "    </tr>\n",
       "  </tbody>\n",
       "</table>\n",
       "</div>"
      ],
      "text/plain": [
       "       children  days_employed  age            education  education_id  \\\n",
       "10701         0    2358.600502   24  неоконченное высшее             2   \n",
       "\n",
       "          family_status  family_status_id  sex income_type  debt  \\\n",
       "10701  гражданский брак                 1  XNA   компаньон     0   \n",
       "\n",
       "        total_income               purpose  \n",
       "10701  203905.157261  покупка недвижимости  "
      ]
     },
     "execution_count": 81,
     "metadata": {},
     "output_type": "execute_result"
    }
   ],
   "source": [
    "data[data['sex'] == 'XNA']"
   ]
  },
  {
   "cell_type": "markdown",
   "id": "0e578c82",
   "metadata": {},
   "source": [
    "Судя по всему, клиент не передал информацию при выборе M и F. Это случайный характер ошибки.\n",
    "Поскольку пол XNA только один, а в наших данных большинство женщины - заменим значением по умолчанию - F"
   ]
  },
  {
   "cell_type": "code",
   "execution_count": 82,
   "id": "808b1af7",
   "metadata": {
    "scrolled": true
   },
   "outputs": [
    {
     "data": {
      "text/plain": [
       "0"
      ]
     },
     "execution_count": 82,
     "metadata": {},
     "output_type": "execute_result"
    }
   ],
   "source": [
    "data.loc[data['sex'] == 'XNA', 'sex'] = 'F'\n",
    "# проверим\n",
    "data.loc[data['sex'] == 'XNA']['sex'].count()"
   ]
  },
  {
   "cell_type": "code",
   "execution_count": 83,
   "id": "b74946b0",
   "metadata": {},
   "outputs": [
    {
     "data": {
      "text/plain": [
       "count         21525\n",
       "mean      152283436\n",
       "std      1078074117\n",
       "min               0\n",
       "25%            1024\n",
       "50%            2605\n",
       "75%          333641\n",
       "max      9725518024\n",
       "Name: days_employed, dtype: int64"
      ]
     },
     "execution_count": 83,
     "metadata": {},
     "output_type": "execute_result"
    }
   ],
   "source": [
    "data.days_employed.describe().astype('int')"
   ]
  },
  {
   "cell_type": "code",
   "execution_count": 84,
   "id": "a7c4584d",
   "metadata": {},
   "outputs": [
    {
     "data": {
      "text/plain": [
       "75"
      ]
     },
     "execution_count": 84,
     "metadata": {},
     "output_type": "execute_result"
    }
   ],
   "source": [
    "data.age.max() "
   ]
  },
  {
   "cell_type": "code",
   "execution_count": 85,
   "id": "af0daec2",
   "metadata": {},
   "outputs": [
    {
     "data": {
      "text/plain": [
       "21535"
      ]
     },
     "execution_count": 85,
     "metadata": {},
     "output_type": "execute_result"
    }
   ],
   "source": [
    "(75-16) * 365"
   ]
  },
  {
   "cell_type": "code",
   "execution_count": 86,
   "id": "cc99d9f1",
   "metadata": {},
   "outputs": [
    {
     "name": "stdout",
     "output_type": "stream",
     "text": [
      "0     8437.673028\n",
      "1     4024.803754\n",
      "2     5623.422610\n",
      "3     4124.747207\n",
      "4    14177.753002\n",
      "5      926.185831\n",
      "6     2879.202052\n",
      "7      152.779569\n",
      "8     6929.865299\n",
      "9     2188.756445\n",
      "Name: days_employed, dtype: float64\n"
     ]
    }
   ],
   "source": [
    "def conv_days_employed(row):\n",
    "    \n",
    "    if row > 21535:\n",
    "        row = row / 24 \n",
    "        \n",
    "    else: row\n",
    "        \n",
    "    return row\n",
    "   \n",
    "data['days_employed'] = data['days_employed'].apply(conv_days_employed)\n",
    "print (data['days_employed'].head(10))"
   ]
  },
  {
   "cell_type": "markdown",
   "id": "3d794aaa",
   "metadata": {},
   "source": [
    "### Шаг 2.3. Изменение типов данных."
   ]
  },
  {
   "cell_type": "markdown",
   "id": "e02d2077",
   "metadata": {},
   "source": [
    "*Изменим тип данных* \n",
    "\n",
    "Месячную зарплату('total_income') и стаж в днях ('days_employed') переводим в 'int'.\n"
   ]
  },
  {
   "cell_type": "code",
   "execution_count": 87,
   "id": "366376f6",
   "metadata": {},
   "outputs": [],
   "source": [
    "data['days_employed'] = data['days_employed'].astype('int')\n",
    "data['total_income'] = data['total_income'].astype('int')"
   ]
  },
  {
   "cell_type": "code",
   "execution_count": 88,
   "id": "5a93e01f",
   "metadata": {},
   "outputs": [
    {
     "data": {
      "text/plain": [
       "children             int64\n",
       "days_employed        int64\n",
       "age                  int64\n",
       "education           object\n",
       "education_id         int64\n",
       "family_status       object\n",
       "family_status_id     int64\n",
       "sex                 object\n",
       "income_type         object\n",
       "debt                 int64\n",
       "total_income         int64\n",
       "purpose             object\n",
       "dtype: object"
      ]
     },
     "execution_count": 88,
     "metadata": {},
     "output_type": "execute_result"
    }
   ],
   "source": [
    "data.dtypes"
   ]
  },
  {
   "cell_type": "markdown",
   "id": "2d671283",
   "metadata": {},
   "source": [
    "### Шаг 2.4. Удаление дубликатов."
   ]
  },
  {
   "cell_type": "markdown",
   "id": "df79d4d6",
   "metadata": {},
   "source": [
    "*посчитаем количество дубликатов*"
   ]
  },
  {
   "cell_type": "code",
   "execution_count": 89,
   "id": "99a1e4a7",
   "metadata": {
    "scrolled": true
   },
   "outputs": [
    {
     "data": {
      "text/plain": [
       "71"
      ]
     },
     "execution_count": 89,
     "metadata": {},
     "output_type": "execute_result"
    }
   ],
   "source": [
    "data.duplicated().sum()"
   ]
  },
  {
   "cell_type": "code",
   "execution_count": 90,
   "id": "dd08422a",
   "metadata": {
    "scrolled": true
   },
   "outputs": [
    {
     "data": {
      "text/html": [
       "<div>\n",
       "<style scoped>\n",
       "    .dataframe tbody tr th:only-of-type {\n",
       "        vertical-align: middle;\n",
       "    }\n",
       "\n",
       "    .dataframe tbody tr th {\n",
       "        vertical-align: top;\n",
       "    }\n",
       "\n",
       "    .dataframe thead th {\n",
       "        text-align: right;\n",
       "    }\n",
       "</style>\n",
       "<table border=\"1\" class=\"dataframe\">\n",
       "  <thead>\n",
       "    <tr style=\"text-align: right;\">\n",
       "      <th></th>\n",
       "      <th>children</th>\n",
       "      <th>days_employed</th>\n",
       "      <th>age</th>\n",
       "      <th>education</th>\n",
       "      <th>education_id</th>\n",
       "      <th>family_status</th>\n",
       "      <th>family_status_id</th>\n",
       "      <th>sex</th>\n",
       "      <th>income_type</th>\n",
       "      <th>debt</th>\n",
       "      <th>total_income</th>\n",
       "      <th>purpose</th>\n",
       "    </tr>\n",
       "  </thead>\n",
       "  <tbody>\n",
       "    <tr>\n",
       "      <td>17787</td>\n",
       "      <td>0</td>\n",
       "      <td>299759117</td>\n",
       "      <td>54</td>\n",
       "      <td>среднее</td>\n",
       "      <td>1</td>\n",
       "      <td>женат / замужем</td>\n",
       "      <td>0</td>\n",
       "      <td>F</td>\n",
       "      <td>пенсионер</td>\n",
       "      <td>0</td>\n",
       "      <td>137127</td>\n",
       "      <td>операции с жильем</td>\n",
       "    </tr>\n",
       "    <tr>\n",
       "      <td>21415</td>\n",
       "      <td>0</td>\n",
       "      <td>299759117</td>\n",
       "      <td>54</td>\n",
       "      <td>среднее</td>\n",
       "      <td>1</td>\n",
       "      <td>женат / замужем</td>\n",
       "      <td>0</td>\n",
       "      <td>F</td>\n",
       "      <td>пенсионер</td>\n",
       "      <td>0</td>\n",
       "      <td>137127</td>\n",
       "      <td>операции с жильем</td>\n",
       "    </tr>\n",
       "    <tr>\n",
       "      <td>3344</td>\n",
       "      <td>0</td>\n",
       "      <td>310861306</td>\n",
       "      <td>56</td>\n",
       "      <td>среднее</td>\n",
       "      <td>1</td>\n",
       "      <td>женат / замужем</td>\n",
       "      <td>0</td>\n",
       "      <td>F</td>\n",
       "      <td>пенсионер</td>\n",
       "      <td>0</td>\n",
       "      <td>137127</td>\n",
       "      <td>операции со своей недвижимостью</td>\n",
       "    </tr>\n",
       "    <tr>\n",
       "      <td>9627</td>\n",
       "      <td>0</td>\n",
       "      <td>310861306</td>\n",
       "      <td>56</td>\n",
       "      <td>среднее</td>\n",
       "      <td>1</td>\n",
       "      <td>женат / замужем</td>\n",
       "      <td>0</td>\n",
       "      <td>F</td>\n",
       "      <td>пенсионер</td>\n",
       "      <td>0</td>\n",
       "      <td>137127</td>\n",
       "      <td>операции со своей недвижимостью</td>\n",
       "    </tr>\n",
       "    <tr>\n",
       "      <td>13300</td>\n",
       "      <td>0</td>\n",
       "      <td>310861306</td>\n",
       "      <td>56</td>\n",
       "      <td>среднее</td>\n",
       "      <td>1</td>\n",
       "      <td>женат / замужем</td>\n",
       "      <td>0</td>\n",
       "      <td>F</td>\n",
       "      <td>пенсионер</td>\n",
       "      <td>0</td>\n",
       "      <td>137127</td>\n",
       "      <td>на покупку автомобиля</td>\n",
       "    </tr>\n",
       "    <tr>\n",
       "      <td>...</td>\n",
       "      <td>...</td>\n",
       "      <td>...</td>\n",
       "      <td>...</td>\n",
       "      <td>...</td>\n",
       "      <td>...</td>\n",
       "      <td>...</td>\n",
       "      <td>...</td>\n",
       "      <td>...</td>\n",
       "      <td>...</td>\n",
       "      <td>...</td>\n",
       "      <td>...</td>\n",
       "      <td>...</td>\n",
       "    </tr>\n",
       "    <tr>\n",
       "      <td>19369</td>\n",
       "      <td>0</td>\n",
       "      <td>1445074</td>\n",
       "      <td>45</td>\n",
       "      <td>среднее</td>\n",
       "      <td>1</td>\n",
       "      <td>гражданский брак</td>\n",
       "      <td>1</td>\n",
       "      <td>F</td>\n",
       "      <td>компаньон</td>\n",
       "      <td>0</td>\n",
       "      <td>202417</td>\n",
       "      <td>свадьба</td>\n",
       "    </tr>\n",
       "    <tr>\n",
       "      <td>9920</td>\n",
       "      <td>0</td>\n",
       "      <td>1637751</td>\n",
       "      <td>51</td>\n",
       "      <td>среднее</td>\n",
       "      <td>1</td>\n",
       "      <td>гражданский брак</td>\n",
       "      <td>1</td>\n",
       "      <td>F</td>\n",
       "      <td>компаньон</td>\n",
       "      <td>0</td>\n",
       "      <td>202417</td>\n",
       "      <td>на проведение свадьбы</td>\n",
       "    </tr>\n",
       "    <tr>\n",
       "      <td>15991</td>\n",
       "      <td>0</td>\n",
       "      <td>1637751</td>\n",
       "      <td>51</td>\n",
       "      <td>среднее</td>\n",
       "      <td>1</td>\n",
       "      <td>гражданский брак</td>\n",
       "      <td>1</td>\n",
       "      <td>F</td>\n",
       "      <td>компаньон</td>\n",
       "      <td>0</td>\n",
       "      <td>202417</td>\n",
       "      <td>на проведение свадьбы</td>\n",
       "    </tr>\n",
       "    <tr>\n",
       "      <td>2254</td>\n",
       "      <td>0</td>\n",
       "      <td>1734089</td>\n",
       "      <td>54</td>\n",
       "      <td>высшее</td>\n",
       "      <td>0</td>\n",
       "      <td>женат / замужем</td>\n",
       "      <td>0</td>\n",
       "      <td>M</td>\n",
       "      <td>компаньон</td>\n",
       "      <td>0</td>\n",
       "      <td>202417</td>\n",
       "      <td>операции с коммерческой недвижимостью</td>\n",
       "    </tr>\n",
       "    <tr>\n",
       "      <td>17379</td>\n",
       "      <td>0</td>\n",
       "      <td>1734089</td>\n",
       "      <td>54</td>\n",
       "      <td>высшее</td>\n",
       "      <td>0</td>\n",
       "      <td>женат / замужем</td>\n",
       "      <td>0</td>\n",
       "      <td>M</td>\n",
       "      <td>компаньон</td>\n",
       "      <td>0</td>\n",
       "      <td>202417</td>\n",
       "      <td>операции с коммерческой недвижимостью</td>\n",
       "    </tr>\n",
       "  </tbody>\n",
       "</table>\n",
       "<p>137 rows × 12 columns</p>\n",
       "</div>"
      ],
      "text/plain": [
       "       children  days_employed  age education  education_id     family_status  \\\n",
       "17787         0      299759117   54   среднее             1   женат / замужем   \n",
       "21415         0      299759117   54   среднее             1   женат / замужем   \n",
       "3344          0      310861306   56   среднее             1   женат / замужем   \n",
       "9627          0      310861306   56   среднее             1   женат / замужем   \n",
       "13300         0      310861306   56   среднее             1   женат / замужем   \n",
       "...         ...            ...  ...       ...           ...               ...   \n",
       "19369         0        1445074   45   среднее             1  гражданский брак   \n",
       "9920          0        1637751   51   среднее             1  гражданский брак   \n",
       "15991         0        1637751   51   среднее             1  гражданский брак   \n",
       "2254          0        1734089   54    высшее             0   женат / замужем   \n",
       "17379         0        1734089   54    высшее             0   женат / замужем   \n",
       "\n",
       "       family_status_id sex income_type  debt  total_income  \\\n",
       "17787                 0   F   пенсионер     0        137127   \n",
       "21415                 0   F   пенсионер     0        137127   \n",
       "3344                  0   F   пенсионер     0        137127   \n",
       "9627                  0   F   пенсионер     0        137127   \n",
       "13300                 0   F   пенсионер     0        137127   \n",
       "...                 ...  ..         ...   ...           ...   \n",
       "19369                 1   F   компаньон     0        202417   \n",
       "9920                  1   F   компаньон     0        202417   \n",
       "15991                 1   F   компаньон     0        202417   \n",
       "2254                  0   M   компаньон     0        202417   \n",
       "17379                 0   M   компаньон     0        202417   \n",
       "\n",
       "                                     purpose  \n",
       "17787                      операции с жильем  \n",
       "21415                      операции с жильем  \n",
       "3344         операции со своей недвижимостью  \n",
       "9627         операции со своей недвижимостью  \n",
       "13300                  на покупку автомобиля  \n",
       "...                                      ...  \n",
       "19369                                свадьба  \n",
       "9920                   на проведение свадьбы  \n",
       "15991                  на проведение свадьбы  \n",
       "2254   операции с коммерческой недвижимостью  \n",
       "17379  операции с коммерческой недвижимостью  \n",
       "\n",
       "[137 rows x 12 columns]"
      ]
     },
     "execution_count": 90,
     "metadata": {},
     "output_type": "execute_result"
    }
   ],
   "source": [
    "data[data.duplicated(keep=False)].sort_values(by=['total_income', 'days_employed'])"
   ]
  },
  {
   "cell_type": "markdown",
   "id": "cd629d84",
   "metadata": {},
   "source": [
    "<div style=\"border:solid purple 2px; padding: 20px\">\n",
    "\n",
    "**Наблюдения:**\n",
    "    \n",
    "Предполагаю, что данные ошибочно задвоились.\n",
    "Удалим их."
   ]
  },
  {
   "cell_type": "code",
   "execution_count": 91,
   "id": "b0e15210",
   "metadata": {},
   "outputs": [
    {
     "data": {
      "text/plain": [
       "0"
      ]
     },
     "execution_count": 91,
     "metadata": {},
     "output_type": "execute_result"
    }
   ],
   "source": [
    "data = data.drop_duplicates().reset_index(drop = True)\n",
    "data.duplicated().sum()"
   ]
  },
  {
   "cell_type": "markdown",
   "id": "1e27fc7d",
   "metadata": {},
   "source": [
    "### Шаг 2.5. Классификация по возрастным группам"
   ]
  },
  {
   "cell_type": "markdown",
   "id": "a2672c2e",
   "metadata": {},
   "source": [
    "*распределим заемщиков по возрастным категориям*"
   ]
  },
  {
   "cell_type": "code",
   "execution_count": 92,
   "id": "0d3deba0",
   "metadata": {},
   "outputs": [
    {
     "name": "stdout",
     "output_type": "stream",
     "text": [
      "39    647\n",
      "35    616\n",
      "40    613\n",
      "41    605\n",
      "34    601\n",
      "38    597\n",
      "42    596\n",
      "33    581\n",
      "31    559\n",
      "36    554\n",
      "44    545\n",
      "29    544\n",
      "30    537\n",
      "48    536\n",
      "37    536\n",
      "50    513\n",
      "43    512\n",
      "32    509\n",
      "49    508\n",
      "28    503\n",
      "45    496\n",
      "27    493\n",
      "52    484\n",
      "56    483\n",
      "47    477\n",
      "54    476\n",
      "46    472\n",
      "59    463\n",
      "53    459\n",
      "57    456\n",
      "58    454\n",
      "51    446\n",
      "55    443\n",
      "26    408\n",
      "60    374\n",
      "25    357\n",
      "61    354\n",
      "62    348\n",
      "63    269\n",
      "24    264\n",
      "64    260\n",
      "23    252\n",
      "65    193\n",
      "22    183\n",
      "66    182\n",
      "67    167\n",
      "21    111\n",
      "68     99\n",
      "69     85\n",
      "70     65\n",
      "71     56\n",
      "20     51\n",
      "72     33\n",
      "19     14\n",
      "73      8\n",
      "74      6\n",
      "75      1\n",
      "Name: age, dtype: int64\n"
     ]
    }
   ],
   "source": [
    "print(data['age'].value_counts())"
   ]
  },
  {
   "cell_type": "markdown",
   "id": "891e8a04",
   "metadata": {},
   "source": [
    "*Напишем функцию*, где\n",
    "- до 31 года у нас будет молодёжь, \n",
    "- с 31 до 60 - средний возраст, \n",
    "- больше 60 лет - пенсионеры\n",
    "\n"
   ]
  },
  {
   "cell_type": "code",
   "execution_count": 93,
   "id": "44d86af1",
   "metadata": {
    "scrolled": true
   },
   "outputs": [
    {
     "name": "stdout",
     "output_type": "stream",
     "text": [
      "средний возраст    15052\n",
      "молодёжь            4276\n",
      "пенсионеры          2126\n",
      "Name: age_group, dtype: int64\n"
     ]
    }
   ],
   "source": [
    "def age_group(age):\n",
    "    \n",
    "    if (age <= 31):\n",
    "        return 'молодёжь'\n",
    "    if 31 < age <= 60:\n",
    "        return 'средний возраст'\n",
    "    if age > 60:\n",
    "        return 'пенсионеры'\n",
    "    return 'группа не определена'\n",
    "data['age_group'] = data['age'].apply(age_group)\n",
    "\n",
    "print(data['age_group'].value_counts())"
   ]
  },
  {
   "cell_type": "markdown",
   "id": "c597edb9",
   "metadata": {},
   "source": [
    "<div style=\"border:solid green 2px; padding: 20px\">\n",
    "\n",
    "**Вывод:**\n",
    "\n",
    "Видим, что более половины заемщиков - люди среднего возраста"
   ]
  },
  {
   "cell_type": "markdown",
   "id": "bd656558",
   "metadata": {},
   "source": [
    "### Шаг 2.6. Категоризация дохода."
   ]
  },
  {
   "cell_type": "markdown",
   "id": "85ab532f",
   "metadata": {},
   "source": [
    "*На основании диапазонов, указанных ниже, создадим столбец total_income_category с категориями:*\n",
    "- 0–30000 — 'E';\n",
    "- 30001–50000 — 'D';\n",
    "- 50001–200000 — 'C';\n",
    "- 200001–1000000 — 'B';\n",
    "- 1000001 и выше — 'A'."
   ]
  },
  {
   "cell_type": "code",
   "execution_count": 30,
   "id": "4a68fa39",
   "metadata": {
    "scrolled": false
   },
   "outputs": [
    {
     "data": {
      "text/html": [
       "<div>\n",
       "<style scoped>\n",
       "    .dataframe tbody tr th:only-of-type {\n",
       "        vertical-align: middle;\n",
       "    }\n",
       "\n",
       "    .dataframe tbody tr th {\n",
       "        vertical-align: top;\n",
       "    }\n",
       "\n",
       "    .dataframe thead th {\n",
       "        text-align: right;\n",
       "    }\n",
       "</style>\n",
       "<table border=\"1\" class=\"dataframe\">\n",
       "  <thead>\n",
       "    <tr style=\"text-align: right;\">\n",
       "      <th></th>\n",
       "      <th>children</th>\n",
       "      <th>days_employed</th>\n",
       "      <th>age</th>\n",
       "      <th>education</th>\n",
       "      <th>education_id</th>\n",
       "      <th>family_status</th>\n",
       "      <th>family_status_id</th>\n",
       "      <th>sex</th>\n",
       "      <th>income_type</th>\n",
       "      <th>debt</th>\n",
       "      <th>total_income</th>\n",
       "      <th>purpose</th>\n",
       "      <th>age_group</th>\n",
       "      <th>total_income_category</th>\n",
       "    </tr>\n",
       "  </thead>\n",
       "  <tbody>\n",
       "    <tr>\n",
       "      <td>0</td>\n",
       "      <td>1</td>\n",
       "      <td>351</td>\n",
       "      <td>42</td>\n",
       "      <td>высшее</td>\n",
       "      <td>0</td>\n",
       "      <td>женат / замужем</td>\n",
       "      <td>0</td>\n",
       "      <td>F</td>\n",
       "      <td>сотрудник</td>\n",
       "      <td>0</td>\n",
       "      <td>253875</td>\n",
       "      <td>покупка жилья</td>\n",
       "      <td>средний возраст</td>\n",
       "      <td>B</td>\n",
       "    </tr>\n",
       "    <tr>\n",
       "      <td>1</td>\n",
       "      <td>1</td>\n",
       "      <td>167</td>\n",
       "      <td>36</td>\n",
       "      <td>среднее</td>\n",
       "      <td>1</td>\n",
       "      <td>женат / замужем</td>\n",
       "      <td>0</td>\n",
       "      <td>F</td>\n",
       "      <td>сотрудник</td>\n",
       "      <td>0</td>\n",
       "      <td>112080</td>\n",
       "      <td>приобретение автомобиля</td>\n",
       "      <td>средний возраст</td>\n",
       "      <td>C</td>\n",
       "    </tr>\n",
       "    <tr>\n",
       "      <td>2</td>\n",
       "      <td>0</td>\n",
       "      <td>234</td>\n",
       "      <td>33</td>\n",
       "      <td>среднее</td>\n",
       "      <td>1</td>\n",
       "      <td>женат / замужем</td>\n",
       "      <td>0</td>\n",
       "      <td>M</td>\n",
       "      <td>сотрудник</td>\n",
       "      <td>0</td>\n",
       "      <td>145885</td>\n",
       "      <td>покупка жилья</td>\n",
       "      <td>средний возраст</td>\n",
       "      <td>C</td>\n",
       "    </tr>\n",
       "    <tr>\n",
       "      <td>3</td>\n",
       "      <td>3</td>\n",
       "      <td>171</td>\n",
       "      <td>32</td>\n",
       "      <td>среднее</td>\n",
       "      <td>1</td>\n",
       "      <td>женат / замужем</td>\n",
       "      <td>0</td>\n",
       "      <td>M</td>\n",
       "      <td>сотрудник</td>\n",
       "      <td>0</td>\n",
       "      <td>267628</td>\n",
       "      <td>дополнительное образование</td>\n",
       "      <td>средний возраст</td>\n",
       "      <td>B</td>\n",
       "    </tr>\n",
       "    <tr>\n",
       "      <td>4</td>\n",
       "      <td>0</td>\n",
       "      <td>14177</td>\n",
       "      <td>53</td>\n",
       "      <td>среднее</td>\n",
       "      <td>1</td>\n",
       "      <td>гражданский брак</td>\n",
       "      <td>1</td>\n",
       "      <td>F</td>\n",
       "      <td>пенсионер</td>\n",
       "      <td>0</td>\n",
       "      <td>158616</td>\n",
       "      <td>сыграть свадьбу</td>\n",
       "      <td>средний возраст</td>\n",
       "      <td>C</td>\n",
       "    </tr>\n",
       "    <tr>\n",
       "      <td>5</td>\n",
       "      <td>0</td>\n",
       "      <td>38</td>\n",
       "      <td>27</td>\n",
       "      <td>высшее</td>\n",
       "      <td>0</td>\n",
       "      <td>гражданский брак</td>\n",
       "      <td>1</td>\n",
       "      <td>M</td>\n",
       "      <td>компаньон</td>\n",
       "      <td>0</td>\n",
       "      <td>255763</td>\n",
       "      <td>покупка жилья</td>\n",
       "      <td>молодёжь</td>\n",
       "      <td>B</td>\n",
       "    </tr>\n",
       "    <tr>\n",
       "      <td>6</td>\n",
       "      <td>0</td>\n",
       "      <td>119</td>\n",
       "      <td>43</td>\n",
       "      <td>высшее</td>\n",
       "      <td>0</td>\n",
       "      <td>женат / замужем</td>\n",
       "      <td>0</td>\n",
       "      <td>F</td>\n",
       "      <td>компаньон</td>\n",
       "      <td>0</td>\n",
       "      <td>240525</td>\n",
       "      <td>операции с жильем</td>\n",
       "      <td>средний возраст</td>\n",
       "      <td>B</td>\n",
       "    </tr>\n",
       "    <tr>\n",
       "      <td>7</td>\n",
       "      <td>0</td>\n",
       "      <td>6</td>\n",
       "      <td>50</td>\n",
       "      <td>среднее</td>\n",
       "      <td>1</td>\n",
       "      <td>женат / замужем</td>\n",
       "      <td>0</td>\n",
       "      <td>M</td>\n",
       "      <td>сотрудник</td>\n",
       "      <td>0</td>\n",
       "      <td>135823</td>\n",
       "      <td>образование</td>\n",
       "      <td>средний возраст</td>\n",
       "      <td>C</td>\n",
       "    </tr>\n",
       "    <tr>\n",
       "      <td>8</td>\n",
       "      <td>2</td>\n",
       "      <td>288</td>\n",
       "      <td>35</td>\n",
       "      <td>высшее</td>\n",
       "      <td>0</td>\n",
       "      <td>гражданский брак</td>\n",
       "      <td>1</td>\n",
       "      <td>F</td>\n",
       "      <td>сотрудник</td>\n",
       "      <td>0</td>\n",
       "      <td>95856</td>\n",
       "      <td>на проведение свадьбы</td>\n",
       "      <td>средний возраст</td>\n",
       "      <td>C</td>\n",
       "    </tr>\n",
       "    <tr>\n",
       "      <td>9</td>\n",
       "      <td>0</td>\n",
       "      <td>91</td>\n",
       "      <td>41</td>\n",
       "      <td>среднее</td>\n",
       "      <td>1</td>\n",
       "      <td>женат / замужем</td>\n",
       "      <td>0</td>\n",
       "      <td>M</td>\n",
       "      <td>сотрудник</td>\n",
       "      <td>0</td>\n",
       "      <td>144425</td>\n",
       "      <td>покупка жилья для семьи</td>\n",
       "      <td>средний возраст</td>\n",
       "      <td>C</td>\n",
       "    </tr>\n",
       "  </tbody>\n",
       "</table>\n",
       "</div>"
      ],
      "text/plain": [
       "   children  days_employed  age education  education_id     family_status  \\\n",
       "0         1            351   42    высшее             0   женат / замужем   \n",
       "1         1            167   36   среднее             1   женат / замужем   \n",
       "2         0            234   33   среднее             1   женат / замужем   \n",
       "3         3            171   32   среднее             1   женат / замужем   \n",
       "4         0          14177   53   среднее             1  гражданский брак   \n",
       "5         0             38   27    высшее             0  гражданский брак   \n",
       "6         0            119   43    высшее             0   женат / замужем   \n",
       "7         0              6   50   среднее             1   женат / замужем   \n",
       "8         2            288   35    высшее             0  гражданский брак   \n",
       "9         0             91   41   среднее             1   женат / замужем   \n",
       "\n",
       "   family_status_id sex income_type  debt  total_income  \\\n",
       "0                 0   F   сотрудник     0        253875   \n",
       "1                 0   F   сотрудник     0        112080   \n",
       "2                 0   M   сотрудник     0        145885   \n",
       "3                 0   M   сотрудник     0        267628   \n",
       "4                 1   F   пенсионер     0        158616   \n",
       "5                 1   M   компаньон     0        255763   \n",
       "6                 0   F   компаньон     0        240525   \n",
       "7                 0   M   сотрудник     0        135823   \n",
       "8                 1   F   сотрудник     0         95856   \n",
       "9                 0   M   сотрудник     0        144425   \n",
       "\n",
       "                      purpose        age_group total_income_category  \n",
       "0               покупка жилья  средний возраст                     B  \n",
       "1     приобретение автомобиля  средний возраст                     C  \n",
       "2               покупка жилья  средний возраст                     C  \n",
       "3  дополнительное образование  средний возраст                     B  \n",
       "4             сыграть свадьбу  средний возраст                     C  \n",
       "5               покупка жилья         молодёжь                     B  \n",
       "6           операции с жильем  средний возраст                     B  \n",
       "7                 образование  средний возраст                     C  \n",
       "8       на проведение свадьбы  средний возраст                     C  \n",
       "9     покупка жилья для семьи  средний возраст                     C  "
      ]
     },
     "execution_count": 30,
     "metadata": {},
     "output_type": "execute_result"
    }
   ],
   "source": [
    "def income_group(row):\n",
    "    \n",
    "    income = row['total_income']\n",
    "\n",
    "    if income <= 30000:\n",
    "        return 'E'\n",
    "    \n",
    "    if income <= 50000 and income > 30001:\n",
    "        return 'D'\n",
    "    \n",
    "    if income <= 200000 and income > 50001:\n",
    "        return 'C'\n",
    "    \n",
    "    if income <= 1000000 and income > 200001:\n",
    "        return 'B'\n",
    "    \n",
    "    if income > 1000001:\n",
    "        return 'A'\n",
    "\n",
    "data['total_income_category'] = data.apply(income_group, axis=1)\n",
    "data.head(10)"
   ]
  },
  {
   "cell_type": "markdown",
   "id": "75f45c9b",
   "metadata": {},
   "source": [
    "*посчитаем количество заемщиков по доходам:*"
   ]
  },
  {
   "cell_type": "code",
   "execution_count": 31,
   "id": "1370b740",
   "metadata": {
    "scrolled": false
   },
   "outputs": [
    {
     "name": "stdout",
     "output_type": "stream",
     "text": [
      "C    15514\n",
      "B     5542\n",
      "D      350\n",
      "A       25\n",
      "E       22\n",
      "Name: total_income_category, dtype: int64\n"
     ]
    }
   ],
   "source": [
    "print(data['total_income_category'].value_counts())"
   ]
  },
  {
   "cell_type": "markdown",
   "id": "5a49bd98",
   "metadata": {},
   "source": [
    "<div style=\"border:solid green 2px; padding: 20px\">\n",
    "\n",
    "**Вывод:**\n",
    "    \n",
    "Мы распределили заемщиков по их доходу и увидели, что практически не имеем в базе заемщиков с низким доходом,  2/3 от числа всех составляют заемщики со средним доходом."
   ]
  },
  {
   "cell_type": "markdown",
   "id": "a7042038",
   "metadata": {},
   "source": [
    "### Шаг 2.7. Категоризация целей кредита"
   ]
  },
  {
   "cell_type": "markdown",
   "id": "7fe9ecc2",
   "metadata": {},
   "source": [
    "*Здесь нам необходимо привести цели кредита к общей форме и посчитать количество по каждой*"
   ]
  },
  {
   "cell_type": "markdown",
   "id": "793ac5ff",
   "metadata": {},
   "source": [
    "Проведём лемматизацию значений столбца с целями кредита\n",
    "результат соединим методом join()\n",
    "с помощью  контейнера Counter подсчитаем частоту упоминаний слов в тексте"
   ]
  },
  {
   "cell_type": "code",
   "execution_count": 32,
   "id": "5458b091",
   "metadata": {},
   "outputs": [
    {
     "data": {
      "text/plain": [
       "Counter({'покупка': 5897,\n",
       "         ' ': 55023,\n",
       "         'жилье': 4460,\n",
       "         'приобретение': 461,\n",
       "         'автомобиль': 4306,\n",
       "         'дополнительный': 906,\n",
       "         'образование': 4013,\n",
       "         'сыграть': 765,\n",
       "         'свадьба': 2324,\n",
       "         'операция': 2604,\n",
       "         'с': 2918,\n",
       "         'на': 2222,\n",
       "         'проведение': 768,\n",
       "         'для': 1289,\n",
       "         'семья': 638,\n",
       "         'недвижимость': 6351,\n",
       "         'коммерческий': 1311,\n",
       "         'жилой': 1230,\n",
       "         'строительство': 1878,\n",
       "         'собственный': 635,\n",
       "         'подержать': 853,\n",
       "         'свой': 2230,\n",
       "         'со': 627,\n",
       "         'заниматься': 904,\n",
       "         'сделка': 941,\n",
       "         'получение': 1314,\n",
       "         'высокий': 1374,\n",
       "         'подержанный': 111,\n",
       "         'профильный': 436,\n",
       "         'сдача': 651,\n",
       "         'ремонт': 607,\n",
       "         '\\n': 1})"
      ]
     },
     "execution_count": 32,
     "metadata": {},
     "output_type": "execute_result"
    }
   ],
   "source": [
    "from pymystem3 import Mystem\n",
    "from collections import Counter\n",
    "m = Mystem()\n",
    "Counter(m.lemmatize(' '.join(data['purpose'])))"
   ]
  },
  {
   "cell_type": "markdown",
   "id": "319ffe0e",
   "metadata": {},
   "source": [
    "1. Создадим функцию которая возвращает строку с ключевыми словами цели кредита\n",
    "2. Отобразим уникальные значения (цели кредита)\n",
    "3. Создадим новый столбец (purpose_cat) с категориями на основании результатов лемматизации"
   ]
  },
  {
   "cell_type": "code",
   "execution_count": 33,
   "id": "f0767280",
   "metadata": {
    "scrolled": true
   },
   "outputs": [
    {
     "data": {
      "text/html": [
       "<div>\n",
       "<style scoped>\n",
       "    .dataframe tbody tr th:only-of-type {\n",
       "        vertical-align: middle;\n",
       "    }\n",
       "\n",
       "    .dataframe tbody tr th {\n",
       "        vertical-align: top;\n",
       "    }\n",
       "\n",
       "    .dataframe thead th {\n",
       "        text-align: right;\n",
       "    }\n",
       "</style>\n",
       "<table border=\"1\" class=\"dataframe\">\n",
       "  <thead>\n",
       "    <tr style=\"text-align: right;\">\n",
       "      <th></th>\n",
       "      <th>children</th>\n",
       "      <th>days_employed</th>\n",
       "      <th>age</th>\n",
       "      <th>education</th>\n",
       "      <th>education_id</th>\n",
       "      <th>family_status</th>\n",
       "      <th>family_status_id</th>\n",
       "      <th>sex</th>\n",
       "      <th>income_type</th>\n",
       "      <th>debt</th>\n",
       "      <th>total_income</th>\n",
       "      <th>purpose</th>\n",
       "      <th>age_group</th>\n",
       "      <th>total_income_category</th>\n",
       "      <th>purpose_word</th>\n",
       "      <th>purpose_cat</th>\n",
       "    </tr>\n",
       "  </thead>\n",
       "  <tbody>\n",
       "    <tr>\n",
       "      <td>0</td>\n",
       "      <td>1</td>\n",
       "      <td>351</td>\n",
       "      <td>42</td>\n",
       "      <td>высшее</td>\n",
       "      <td>0</td>\n",
       "      <td>женат / замужем</td>\n",
       "      <td>0</td>\n",
       "      <td>F</td>\n",
       "      <td>сотрудник</td>\n",
       "      <td>0</td>\n",
       "      <td>253875</td>\n",
       "      <td>покупка жилья</td>\n",
       "      <td>средний возраст</td>\n",
       "      <td>B</td>\n",
       "      <td>покупка   жилье \\n</td>\n",
       "      <td>недвижимость</td>\n",
       "    </tr>\n",
       "    <tr>\n",
       "      <td>1</td>\n",
       "      <td>1</td>\n",
       "      <td>167</td>\n",
       "      <td>36</td>\n",
       "      <td>среднее</td>\n",
       "      <td>1</td>\n",
       "      <td>женат / замужем</td>\n",
       "      <td>0</td>\n",
       "      <td>F</td>\n",
       "      <td>сотрудник</td>\n",
       "      <td>0</td>\n",
       "      <td>112080</td>\n",
       "      <td>приобретение автомобиля</td>\n",
       "      <td>средний возраст</td>\n",
       "      <td>C</td>\n",
       "      <td>приобретение   автомобиль \\n</td>\n",
       "      <td>автомобиль</td>\n",
       "    </tr>\n",
       "    <tr>\n",
       "      <td>2</td>\n",
       "      <td>0</td>\n",
       "      <td>234</td>\n",
       "      <td>33</td>\n",
       "      <td>среднее</td>\n",
       "      <td>1</td>\n",
       "      <td>женат / замужем</td>\n",
       "      <td>0</td>\n",
       "      <td>M</td>\n",
       "      <td>сотрудник</td>\n",
       "      <td>0</td>\n",
       "      <td>145885</td>\n",
       "      <td>покупка жилья</td>\n",
       "      <td>средний возраст</td>\n",
       "      <td>C</td>\n",
       "      <td>покупка   жилье \\n</td>\n",
       "      <td>недвижимость</td>\n",
       "    </tr>\n",
       "    <tr>\n",
       "      <td>3</td>\n",
       "      <td>3</td>\n",
       "      <td>171</td>\n",
       "      <td>32</td>\n",
       "      <td>среднее</td>\n",
       "      <td>1</td>\n",
       "      <td>женат / замужем</td>\n",
       "      <td>0</td>\n",
       "      <td>M</td>\n",
       "      <td>сотрудник</td>\n",
       "      <td>0</td>\n",
       "      <td>267628</td>\n",
       "      <td>дополнительное образование</td>\n",
       "      <td>средний возраст</td>\n",
       "      <td>B</td>\n",
       "      <td>дополнительный   образование \\n</td>\n",
       "      <td>образование</td>\n",
       "    </tr>\n",
       "    <tr>\n",
       "      <td>4</td>\n",
       "      <td>0</td>\n",
       "      <td>14177</td>\n",
       "      <td>53</td>\n",
       "      <td>среднее</td>\n",
       "      <td>1</td>\n",
       "      <td>гражданский брак</td>\n",
       "      <td>1</td>\n",
       "      <td>F</td>\n",
       "      <td>пенсионер</td>\n",
       "      <td>0</td>\n",
       "      <td>158616</td>\n",
       "      <td>сыграть свадьбу</td>\n",
       "      <td>средний возраст</td>\n",
       "      <td>C</td>\n",
       "      <td>сыграть   свадьба \\n</td>\n",
       "      <td>свадьба</td>\n",
       "    </tr>\n",
       "    <tr>\n",
       "      <td>...</td>\n",
       "      <td>...</td>\n",
       "      <td>...</td>\n",
       "      <td>...</td>\n",
       "      <td>...</td>\n",
       "      <td>...</td>\n",
       "      <td>...</td>\n",
       "      <td>...</td>\n",
       "      <td>...</td>\n",
       "      <td>...</td>\n",
       "      <td>...</td>\n",
       "      <td>...</td>\n",
       "      <td>...</td>\n",
       "      <td>...</td>\n",
       "      <td>...</td>\n",
       "      <td>...</td>\n",
       "      <td>...</td>\n",
       "    </tr>\n",
       "    <tr>\n",
       "      <td>21449</td>\n",
       "      <td>1</td>\n",
       "      <td>188</td>\n",
       "      <td>43</td>\n",
       "      <td>среднее</td>\n",
       "      <td>1</td>\n",
       "      <td>гражданский брак</td>\n",
       "      <td>1</td>\n",
       "      <td>F</td>\n",
       "      <td>компаньон</td>\n",
       "      <td>0</td>\n",
       "      <td>224791</td>\n",
       "      <td>операции с жильем</td>\n",
       "      <td>средний возраст</td>\n",
       "      <td>B</td>\n",
       "      <td>операция   с   жилье \\n</td>\n",
       "      <td>недвижимость</td>\n",
       "    </tr>\n",
       "    <tr>\n",
       "      <td>21450</td>\n",
       "      <td>0</td>\n",
       "      <td>14330</td>\n",
       "      <td>67</td>\n",
       "      <td>среднее</td>\n",
       "      <td>1</td>\n",
       "      <td>женат / замужем</td>\n",
       "      <td>0</td>\n",
       "      <td>F</td>\n",
       "      <td>пенсионер</td>\n",
       "      <td>0</td>\n",
       "      <td>155999</td>\n",
       "      <td>сделка с автомобилем</td>\n",
       "      <td>пенсионеры</td>\n",
       "      <td>C</td>\n",
       "      <td>сделка   с   автомобиль \\n</td>\n",
       "      <td>автомобиль</td>\n",
       "    </tr>\n",
       "    <tr>\n",
       "      <td>21451</td>\n",
       "      <td>1</td>\n",
       "      <td>88</td>\n",
       "      <td>38</td>\n",
       "      <td>среднее</td>\n",
       "      <td>1</td>\n",
       "      <td>гражданский брак</td>\n",
       "      <td>1</td>\n",
       "      <td>M</td>\n",
       "      <td>сотрудник</td>\n",
       "      <td>1</td>\n",
       "      <td>89672</td>\n",
       "      <td>недвижимость</td>\n",
       "      <td>средний возраст</td>\n",
       "      <td>C</td>\n",
       "      <td>недвижимость \\n</td>\n",
       "      <td>недвижимость</td>\n",
       "    </tr>\n",
       "    <tr>\n",
       "      <td>21452</td>\n",
       "      <td>3</td>\n",
       "      <td>129</td>\n",
       "      <td>38</td>\n",
       "      <td>среднее</td>\n",
       "      <td>1</td>\n",
       "      <td>женат / замужем</td>\n",
       "      <td>0</td>\n",
       "      <td>M</td>\n",
       "      <td>сотрудник</td>\n",
       "      <td>1</td>\n",
       "      <td>244093</td>\n",
       "      <td>на покупку своего автомобиля</td>\n",
       "      <td>средний возраст</td>\n",
       "      <td>B</td>\n",
       "      <td>на   покупка   свой   автомобиль \\n</td>\n",
       "      <td>автомобиль</td>\n",
       "    </tr>\n",
       "    <tr>\n",
       "      <td>21453</td>\n",
       "      <td>2</td>\n",
       "      <td>82</td>\n",
       "      <td>40</td>\n",
       "      <td>среднее</td>\n",
       "      <td>1</td>\n",
       "      <td>женат / замужем</td>\n",
       "      <td>0</td>\n",
       "      <td>F</td>\n",
       "      <td>сотрудник</td>\n",
       "      <td>0</td>\n",
       "      <td>82047</td>\n",
       "      <td>на покупку автомобиля</td>\n",
       "      <td>средний возраст</td>\n",
       "      <td>C</td>\n",
       "      <td>на   покупка   автомобиль \\n</td>\n",
       "      <td>автомобиль</td>\n",
       "    </tr>\n",
       "  </tbody>\n",
       "</table>\n",
       "<p>21454 rows × 16 columns</p>\n",
       "</div>"
      ],
      "text/plain": [
       "       children  days_employed  age education  education_id     family_status  \\\n",
       "0             1            351   42    высшее             0   женат / замужем   \n",
       "1             1            167   36   среднее             1   женат / замужем   \n",
       "2             0            234   33   среднее             1   женат / замужем   \n",
       "3             3            171   32   среднее             1   женат / замужем   \n",
       "4             0          14177   53   среднее             1  гражданский брак   \n",
       "...         ...            ...  ...       ...           ...               ...   \n",
       "21449         1            188   43   среднее             1  гражданский брак   \n",
       "21450         0          14330   67   среднее             1   женат / замужем   \n",
       "21451         1             88   38   среднее             1  гражданский брак   \n",
       "21452         3            129   38   среднее             1   женат / замужем   \n",
       "21453         2             82   40   среднее             1   женат / замужем   \n",
       "\n",
       "       family_status_id sex income_type  debt  total_income  \\\n",
       "0                     0   F   сотрудник     0        253875   \n",
       "1                     0   F   сотрудник     0        112080   \n",
       "2                     0   M   сотрудник     0        145885   \n",
       "3                     0   M   сотрудник     0        267628   \n",
       "4                     1   F   пенсионер     0        158616   \n",
       "...                 ...  ..         ...   ...           ...   \n",
       "21449                 1   F   компаньон     0        224791   \n",
       "21450                 0   F   пенсионер     0        155999   \n",
       "21451                 1   M   сотрудник     1         89672   \n",
       "21452                 0   M   сотрудник     1        244093   \n",
       "21453                 0   F   сотрудник     0         82047   \n",
       "\n",
       "                            purpose        age_group total_income_category  \\\n",
       "0                     покупка жилья  средний возраст                     B   \n",
       "1           приобретение автомобиля  средний возраст                     C   \n",
       "2                     покупка жилья  средний возраст                     C   \n",
       "3        дополнительное образование  средний возраст                     B   \n",
       "4                   сыграть свадьбу  средний возраст                     C   \n",
       "...                             ...              ...                   ...   \n",
       "21449             операции с жильем  средний возраст                     B   \n",
       "21450          сделка с автомобилем       пенсионеры                     C   \n",
       "21451                  недвижимость  средний возраст                     C   \n",
       "21452  на покупку своего автомобиля  средний возраст                     B   \n",
       "21453         на покупку автомобиля  средний возраст                     C   \n",
       "\n",
       "                              purpose_word   purpose_cat  \n",
       "0                       покупка   жилье \\n  недвижимость  \n",
       "1             приобретение   автомобиль \\n    автомобиль  \n",
       "2                       покупка   жилье \\n  недвижимость  \n",
       "3          дополнительный   образование \\n   образование  \n",
       "4                     сыграть   свадьба \\n       свадьба  \n",
       "...                                    ...           ...  \n",
       "21449              операция   с   жилье \\n  недвижимость  \n",
       "21450           сделка   с   автомобиль \\n    автомобиль  \n",
       "21451                      недвижимость \\n  недвижимость  \n",
       "21452  на   покупка   свой   автомобиль \\n    автомобиль  \n",
       "21453         на   покупка   автомобиль \\n    автомобиль  \n",
       "\n",
       "[21454 rows x 16 columns]"
      ]
     },
     "execution_count": 33,
     "metadata": {},
     "output_type": "execute_result"
    }
   ],
   "source": [
    "m = Mystem()\n",
    "\n",
    "def lemma_pur(purpose):\n",
    "    lemma = ' ' .join(m.lemmatize(purpose))\n",
    "    return lemma\n",
    "\n",
    "data['purpose_word'] = data['purpose'].apply(lemma_pur)\n",
    "\n",
    "data['purpose_word'].unique()\n",
    "\n",
    "\n",
    "def purpose_cat(list):\n",
    "    if 'автомобиль' in list:\n",
    "        return \"автомобиль\"\n",
    "    if \"образование\" in list:\n",
    "        return \"образование\"\n",
    "    if \"свадьба\" in list:\n",
    "        return \"свадьба\"\n",
    "    if \"недвижимость\" in list or \"строительство\" in list or \"жилье\" in list:\n",
    "        return \"недвижимость\"\n",
    "data['purpose_cat'] = data['purpose_word'].apply(purpose_cat)\n",
    "data\n"
   ]
  },
  {
   "cell_type": "code",
   "execution_count": 34,
   "id": "b7743a85",
   "metadata": {
    "scrolled": true
   },
   "outputs": [
    {
     "name": "stdout",
     "output_type": "stream",
     "text": [
      "недвижимость    10811\n",
      "автомобиль       4306\n",
      "образование      4013\n",
      "свадьба          2324\n",
      "Name: purpose_cat, dtype: int64\n"
     ]
    }
   ],
   "source": [
    "print(data['purpose_cat'].value_counts())"
   ]
  },
  {
   "cell_type": "markdown",
   "id": "33f8785c",
   "metadata": {},
   "source": [
    "<div style=\"border:solid green 2px; padding: 20px\">\n",
    "\n",
    "**Вывод:**\n",
    "    \n",
    " Приведение целей кредита к общей форме позволило определиться с самыми популярными целями для получения кредита: самым популярным является кредит на недвижимость, затем идут приорбетение автомобиля и получения образования, последним по популярности идёт кредит на свадьбу"
   ]
  },
  {
   "cell_type": "markdown",
   "id": "4c74bc6b",
   "metadata": {},
   "source": [
    "### Ответы на вопросы."
   ]
  },
  {
   "cell_type": "markdown",
   "id": "d84267b5",
   "metadata": {},
   "source": [
    "##### Вопрос 1: Есть ли зависимость между количеством детей и возвратом кредита в срок?"
   ]
  },
  {
   "cell_type": "code",
   "execution_count": 35,
   "id": "509abb5f",
   "metadata": {
    "scrolled": true
   },
   "outputs": [
    {
     "name": "stdout",
     "output_type": "stream",
     "text": [
      "0    14091\n",
      "1     4855\n",
      "2     2128\n",
      "3      330\n",
      "4       41\n",
      "5        9\n",
      "Name: children, dtype: int64\n"
     ]
    }
   ],
   "source": [
    "print(data['children'].value_counts())"
   ]
  },
  {
   "cell_type": "code",
   "execution_count": 36,
   "id": "08fb318e",
   "metadata": {
    "scrolled": true
   },
   "outputs": [
    {
     "name": "stdout",
     "output_type": "stream",
     "text": [
      "children\n",
      "0    0.075438\n",
      "1    0.091658\n",
      "2    0.094925\n",
      "3    0.081818\n",
      "4    0.097561\n",
      "5    0.000000\n",
      "Name: debt, dtype: float64\n"
     ]
    }
   ],
   "source": [
    "print(data.groupby('children')['debt'].mean())"
   ]
  },
  {
   "cell_type": "markdown",
   "id": "149f9501",
   "metadata": {},
   "source": [
    "*создадим функцию, которая присвоит ID заёмщикам*\n",
    "- многодетные (от 3)\n",
    "- малодетные (1-2)\n",
    "- бездетные\n"
   ]
  },
  {
   "cell_type": "code",
   "execution_count": 37,
   "id": "1544e61c",
   "metadata": {
    "scrolled": true
   },
   "outputs": [
    {
     "name": "stdout",
     "output_type": "stream",
     "text": [
      "children_id\n",
      "без детей      0.075438\n",
      "малодетные     0.092654\n",
      "многодетные    0.081579\n",
      "Name: debt, dtype: float64\n"
     ]
    }
   ],
   "source": [
    "def children_id(children):\n",
    "    if children < 1:\n",
    "        return 'без детей'\n",
    "    if children < 3:\n",
    "        return 'малодетные'\n",
    "    return 'многодетные'\n",
    "data['children_id'] = data['children'].apply(children_id)\n",
    "print(data.groupby('children_id')['debt'].mean())"
   ]
  },
  {
   "cell_type": "markdown",
   "id": "567cf095",
   "metadata": {},
   "source": [
    "<div style=\"border:solid green 2px; padding: 20px\">\n",
    "\n",
    "**Вывод:**\n",
    "\n",
    "Бездетные заемщики реже допускают просрочки по кредитам. Стоит отметить, что количество детей не влияет на возратность кредита. "
   ]
  },
  {
   "cell_type": "markdown",
   "id": "48a43e62",
   "metadata": {},
   "source": [
    "##### Вопрос 2: Есть ли зависимость между семейным положением и возвратом кредита в срок?"
   ]
  },
  {
   "cell_type": "code",
   "execution_count": 38,
   "id": "12401b35",
   "metadata": {
    "scrolled": true
   },
   "outputs": [
    {
     "name": "stdout",
     "output_type": "stream",
     "text": [
      "family_status\n",
      "Не женат / не замужем    0.097509\n",
      "в разводе                0.071130\n",
      "вдовец / вдова           0.065693\n",
      "гражданский брак         0.093471\n",
      "женат / замужем          0.075452\n",
      "Name: debt, dtype: float64\n"
     ]
    }
   ],
   "source": [
    "print(data.groupby('family_status')['debt'].mean())"
   ]
  },
  {
   "cell_type": "markdown",
   "id": "33c4b88c",
   "metadata": {},
   "source": [
    "<div style=\"border:solid green 2px; padding: 20px\">\n",
    "\n",
    "**Вывод:**\n",
    "    \n",
    "Из расчетов выше видно, что неженатые\\незамужние, а также лица состоящие в гражданском браке в процентном соотношении чаще допускают задолженности по кредитам, из этого можно сделать вывод, что наиболее надежные заемщики с семьями, либо побывавшие в семейных отношениях.    "
   ]
  },
  {
   "cell_type": "markdown",
   "id": "acb85d45",
   "metadata": {},
   "source": [
    "##### Вопрос 3: Есть ли зависимость между уровнем дохода и возвратом кредита в срок?"
   ]
  },
  {
   "cell_type": "code",
   "execution_count": 39,
   "id": "4d697676",
   "metadata": {
    "scrolled": true
   },
   "outputs": [
    {
     "name": "stdout",
     "output_type": "stream",
     "text": [
      "total_income_category\n",
      "A    0.080000\n",
      "B    0.069650\n",
      "C    0.085729\n",
      "D    0.060000\n",
      "E    0.090909\n",
      "Name: debt, dtype: float64\n"
     ]
    }
   ],
   "source": [
    "print(data.groupby('total_income_category')['debt'].mean())"
   ]
  },
  {
   "cell_type": "markdown",
   "id": "3353726e",
   "metadata": {},
   "source": [
    "\n",
    "- 0–30000 — 'E';\n",
    "- 30001–50000 — 'D';\n",
    "- 50001–200000 — 'C';\n",
    "- 200001–1000000 — 'B';\n",
    "- 1000001 и выше — 'A'."
   ]
  },
  {
   "cell_type": "markdown",
   "id": "07be82b8",
   "metadata": {},
   "source": [
    "<div style=\"border:solid green 2px; padding: 20px\">\n",
    "\n",
    "**Вывод:**\n",
    "\n",
    "Заемщики с более низким уровнем дохода < 50000р. более дисциплинированы и менее склонны нарушать обязательства по выплатам кредита.\n"
   ]
  },
  {
   "cell_type": "code",
   "execution_count": 40,
   "id": "26d48dc5",
   "metadata": {},
   "outputs": [
    {
     "name": "stdout",
     "output_type": "stream",
     "text": [
      "выше среднего    5818\n",
      "низкий           5364\n",
      "средний          5363\n",
      "высокий          4909\n",
      "Name: total_income_category, dtype: int64\n"
     ]
    },
    {
     "data": {
      "text/html": [
       "<div>\n",
       "<style scoped>\n",
       "    .dataframe tbody tr th:only-of-type {\n",
       "        vertical-align: middle;\n",
       "    }\n",
       "\n",
       "    .dataframe tbody tr th {\n",
       "        vertical-align: top;\n",
       "    }\n",
       "\n",
       "    .dataframe thead tr th {\n",
       "        text-align: left;\n",
       "    }\n",
       "\n",
       "    .dataframe thead tr:last-of-type th {\n",
       "        text-align: right;\n",
       "    }\n",
       "</style>\n",
       "<table border=\"1\" class=\"dataframe\">\n",
       "  <thead>\n",
       "    <tr>\n",
       "      <th></th>\n",
       "      <th>count</th>\n",
       "      <th>sum</th>\n",
       "      <th>mean</th>\n",
       "    </tr>\n",
       "    <tr>\n",
       "      <th></th>\n",
       "      <th>debt</th>\n",
       "      <th>debt</th>\n",
       "      <th>debt</th>\n",
       "    </tr>\n",
       "    <tr>\n",
       "      <th>total_income_category</th>\n",
       "      <th></th>\n",
       "      <th></th>\n",
       "      <th></th>\n",
       "    </tr>\n",
       "  </thead>\n",
       "  <tbody>\n",
       "    <tr>\n",
       "      <td>низкий</td>\n",
       "      <td>5364</td>\n",
       "      <td>427</td>\n",
       "      <td>0.079605</td>\n",
       "    </tr>\n",
       "    <tr>\n",
       "      <td>средний</td>\n",
       "      <td>5363</td>\n",
       "      <td>475</td>\n",
       "      <td>0.088570</td>\n",
       "    </tr>\n",
       "    <tr>\n",
       "      <td>выше среднего</td>\n",
       "      <td>5818</td>\n",
       "      <td>494</td>\n",
       "      <td>0.084909</td>\n",
       "    </tr>\n",
       "    <tr>\n",
       "      <td>высокий</td>\n",
       "      <td>4909</td>\n",
       "      <td>345</td>\n",
       "      <td>0.070279</td>\n",
       "    </tr>\n",
       "  </tbody>\n",
       "</table>\n",
       "</div>"
      ],
      "text/plain": [
       "                      count  sum      mean\n",
       "                       debt debt      debt\n",
       "total_income_category                     \n",
       "низкий                 5364  427  0.079605\n",
       "средний                5363  475  0.088570\n",
       "выше среднего          5818  494  0.084909\n",
       "высокий                4909  345  0.070279"
      ]
     },
     "metadata": {},
     "output_type": "display_data"
    }
   ],
   "source": [
    "# КОД РЕВЬЮВЕРА\n",
    "\n",
    "data['total_income_category'] = pd.qcut(data['total_income'], 4, labels=[\"низкий\", \"средний\", \"выше среднего\", \"высокий\"])\n",
    "print(data['total_income_category'].value_counts())\n",
    "\n",
    "display(data.pivot_table(index = 'total_income_category', values = 'debt', aggfunc = ['count', 'sum', 'mean']))\n",
    "\n"
   ]
  },
  {
   "cell_type": "markdown",
   "id": "65aeb00d",
   "metadata": {},
   "source": [
    "##### Вопрос 4: Как разные цели кредита влияют на его возврат в срок?"
   ]
  },
  {
   "cell_type": "code",
   "execution_count": 41,
   "id": "fd919175",
   "metadata": {
    "scrolled": true
   },
   "outputs": [
    {
     "name": "stdout",
     "output_type": "stream",
     "text": [
      "purpose_cat\n",
      "автомобиль      0.093590\n",
      "недвижимость    0.072334\n",
      "образование     0.092200\n",
      "свадьба         0.080034\n",
      "Name: debt, dtype: float64\n"
     ]
    }
   ],
   "source": [
    "print(data.groupby('purpose_cat')['debt'].mean())"
   ]
  },
  {
   "cell_type": "markdown",
   "id": "2d6a83b7",
   "metadata": {},
   "source": [
    "<div style=\"border:solid green 2px; padding: 20px\">\n",
    "\n",
    "**Вывод:**\n",
    "\n",
    "\n",
    "По кредитам на автомобиль и образование чаще образовываются просрочки. Кредиты на недвижмость хоть и являются наиболее крупными, но и заемщики, как показывают расчеты, подходят к ним более ответственно."
   ]
  },
  {
   "cell_type": "markdown",
   "id": "cf408d1c",
   "metadata": {},
   "source": [
    "## Общий вывод:"
   ]
  },
  {
   "cell_type": "markdown",
   "id": "24daa2a4",
   "metadata": {},
   "source": [
    "<div style=\"border:solid green 2px; padding: 20px\">\n",
    "    \n",
    "Целью проекта было выявить - влияет ли семейное положение и количество детей клиента на факт погашения кредита в срок.\n",
    "Проанализировав данные, полученные в ходе проекта, можно сказать, что количество детей влияет на погащение кредита в худшую сторону, однако заемщики с официально оформленными отношениями (или которые были в официальном браке в прошлом) но без детей являются самыми ответственными.\n"
   ]
  }
 ],
 "metadata": {
  "ExecuteTimeLog": [
   {
    "duration": 82,
    "start_time": "2022-02-07T06:58:39.203Z"
   },
   {
    "duration": 1210,
    "start_time": "2022-02-07T07:01:48.467Z"
   },
   {
    "duration": 3,
    "start_time": "2022-02-07T07:02:01.068Z"
   },
   {
    "duration": 3,
    "start_time": "2022-02-07T07:02:09.326Z"
   },
   {
    "duration": 55,
    "start_time": "2022-02-07T07:02:27.696Z"
   },
   {
    "duration": 54,
    "start_time": "2022-02-07T07:02:34.979Z"
   },
   {
    "duration": 20,
    "start_time": "2022-02-07T07:02:53.635Z"
   },
   {
    "duration": 15,
    "start_time": "2022-02-07T07:02:59.952Z"
   },
   {
    "duration": 17,
    "start_time": "2022-02-07T07:07:10.240Z"
   },
   {
    "duration": 33,
    "start_time": "2022-02-07T07:08:29.260Z"
   },
   {
    "duration": 15,
    "start_time": "2022-02-07T07:12:35.124Z"
   },
   {
    "duration": 11,
    "start_time": "2022-02-07T07:21:07.828Z"
   },
   {
    "duration": 429,
    "start_time": "2022-02-07T08:58:16.036Z"
   },
   {
    "duration": 427,
    "start_time": "2022-02-07T08:58:50.144Z"
   },
   {
    "duration": 22,
    "start_time": "2022-02-07T08:59:00.488Z"
   },
   {
    "duration": 22,
    "start_time": "2022-02-07T08:59:44.891Z"
   },
   {
    "duration": 266,
    "start_time": "2022-02-07T09:13:28.256Z"
   },
   {
    "duration": 263,
    "start_time": "2022-02-07T09:13:47.112Z"
   },
   {
    "duration": 23,
    "start_time": "2022-02-07T09:17:09.672Z"
   },
   {
    "duration": 26,
    "start_time": "2022-02-07T09:17:23.745Z"
   },
   {
    "duration": 60,
    "start_time": "2022-02-07T09:20:15.284Z"
   },
   {
    "duration": 14,
    "start_time": "2022-02-07T09:21:46.099Z"
   },
   {
    "duration": 308,
    "start_time": "2022-02-07T09:22:56.764Z"
   },
   {
    "duration": 7,
    "start_time": "2022-02-07T09:23:15.647Z"
   },
   {
    "duration": 19,
    "start_time": "2022-02-07T09:30:58.592Z"
   },
   {
    "duration": 19,
    "start_time": "2022-02-07T09:31:22.556Z"
   },
   {
    "duration": 4,
    "start_time": "2022-02-07T09:31:47.228Z"
   },
   {
    "duration": 15,
    "start_time": "2022-02-07T09:32:46.400Z"
   },
   {
    "duration": 25,
    "start_time": "2022-02-07T09:33:20.808Z"
   },
   {
    "duration": 11,
    "start_time": "2022-02-07T09:36:35.112Z"
   },
   {
    "duration": 21,
    "start_time": "2022-02-07T09:43:59.148Z"
   },
   {
    "duration": 17,
    "start_time": "2022-02-07T09:44:24.836Z"
   },
   {
    "duration": 35,
    "start_time": "2022-02-07T09:44:41.891Z"
   },
   {
    "duration": 5,
    "start_time": "2022-02-07T10:10:59.484Z"
   },
   {
    "duration": 6,
    "start_time": "2022-02-07T10:11:15.123Z"
   },
   {
    "duration": 5,
    "start_time": "2022-02-07T10:12:29.564Z"
   },
   {
    "duration": 6709,
    "start_time": "2022-02-07T10:12:32.036Z"
   },
   {
    "duration": 4418,
    "start_time": "2022-02-07T10:12:34.330Z"
   },
   {
    "duration": 5,
    "start_time": "2022-02-07T10:12:56.264Z"
   },
   {
    "duration": 6,
    "start_time": "2022-02-07T10:12:58.264Z"
   },
   {
    "duration": 20,
    "start_time": "2022-02-07T10:14:47.468Z"
   },
   {
    "duration": 34,
    "start_time": "2022-02-07T10:15:29.460Z"
   },
   {
    "duration": 34,
    "start_time": "2022-02-07T10:17:52.632Z"
   },
   {
    "duration": 2018,
    "start_time": "2022-02-07T10:24:59.714Z"
   },
   {
    "duration": 58,
    "start_time": "2022-02-07T10:25:01.735Z"
   },
   {
    "duration": 24,
    "start_time": "2022-02-07T10:25:01.795Z"
   },
   {
    "duration": 57,
    "start_time": "2022-02-07T10:25:01.821Z"
   },
   {
    "duration": 36,
    "start_time": "2022-02-07T10:25:01.880Z"
   },
   {
    "duration": 11,
    "start_time": "2022-02-07T10:25:01.918Z"
   },
   {
    "duration": 18,
    "start_time": "2022-02-07T10:25:01.931Z"
   },
   {
    "duration": 23,
    "start_time": "2022-02-07T10:25:01.952Z"
   },
   {
    "duration": 49,
    "start_time": "2022-02-07T10:25:01.977Z"
   },
   {
    "duration": 42,
    "start_time": "2022-02-07T10:25:02.027Z"
   },
   {
    "duration": 14,
    "start_time": "2022-02-07T10:25:02.070Z"
   },
   {
    "duration": 32,
    "start_time": "2022-02-07T10:25:02.086Z"
   },
   {
    "duration": 19,
    "start_time": "2022-02-07T10:25:02.121Z"
   },
   {
    "duration": 4,
    "start_time": "2022-02-07T10:25:02.142Z"
   },
   {
    "duration": 33,
    "start_time": "2022-02-07T10:25:02.148Z"
   },
   {
    "duration": 10,
    "start_time": "2022-02-07T10:25:02.183Z"
   },
   {
    "duration": 21,
    "start_time": "2022-02-07T10:25:02.219Z"
   },
   {
    "duration": 36,
    "start_time": "2022-02-07T10:25:02.242Z"
   },
   {
    "duration": 5,
    "start_time": "2022-02-07T10:25:02.280Z"
   },
   {
    "duration": 15,
    "start_time": "2022-02-07T10:25:02.287Z"
   },
   {
    "duration": 32,
    "start_time": "2022-02-07T10:25:02.304Z"
   },
   {
    "duration": 30,
    "start_time": "2022-02-07T10:25:02.338Z"
   },
   {
    "duration": 48,
    "start_time": "2022-02-07T10:25:02.371Z"
   },
   {
    "duration": 350,
    "start_time": "2022-02-07T10:25:42.970Z"
   },
   {
    "duration": 11,
    "start_time": "2022-02-07T10:38:49.835Z"
   },
   {
    "duration": 12,
    "start_time": "2022-02-07T10:52:22.840Z"
   },
   {
    "duration": 4,
    "start_time": "2022-02-07T10:56:19.122Z"
   },
   {
    "duration": 4,
    "start_time": "2022-02-07T10:56:21.966Z"
   },
   {
    "duration": 285,
    "start_time": "2022-02-07T12:05:43.343Z"
   },
   {
    "duration": 395,
    "start_time": "2022-02-07T12:06:08.449Z"
   },
   {
    "duration": 946,
    "start_time": "2022-02-07T12:06:36.155Z"
   },
   {
    "duration": 1025,
    "start_time": "2022-02-07T12:06:38.850Z"
   },
   {
    "duration": 248,
    "start_time": "2022-02-07T12:14:30.318Z"
   },
   {
    "duration": 258,
    "start_time": "2022-02-07T12:14:44.263Z"
   },
   {
    "duration": 249,
    "start_time": "2022-02-07T12:15:15.911Z"
   },
   {
    "duration": 1252,
    "start_time": "2022-02-07T12:15:29.977Z"
   },
   {
    "duration": 56,
    "start_time": "2022-02-07T12:15:31.232Z"
   },
   {
    "duration": 22,
    "start_time": "2022-02-07T12:15:31.290Z"
   },
   {
    "duration": 18,
    "start_time": "2022-02-07T12:15:31.318Z"
   },
   {
    "duration": 36,
    "start_time": "2022-02-07T12:15:31.338Z"
   },
   {
    "duration": 11,
    "start_time": "2022-02-07T12:15:31.376Z"
   },
   {
    "duration": 39,
    "start_time": "2022-02-07T12:15:31.390Z"
   },
   {
    "duration": 34,
    "start_time": "2022-02-07T12:15:31.431Z"
   },
   {
    "duration": 22,
    "start_time": "2022-02-07T12:15:31.469Z"
   },
   {
    "duration": 54,
    "start_time": "2022-02-07T12:15:31.493Z"
   },
   {
    "duration": 13,
    "start_time": "2022-02-07T12:15:31.549Z"
   },
   {
    "duration": 14,
    "start_time": "2022-02-07T12:15:31.563Z"
   },
   {
    "duration": 41,
    "start_time": "2022-02-07T12:15:31.579Z"
   },
   {
    "duration": 4,
    "start_time": "2022-02-07T12:15:31.622Z"
   },
   {
    "duration": 28,
    "start_time": "2022-02-07T12:15:31.628Z"
   },
   {
    "duration": 9,
    "start_time": "2022-02-07T12:15:31.657Z"
   },
   {
    "duration": 17,
    "start_time": "2022-02-07T12:15:31.667Z"
   },
   {
    "duration": 56,
    "start_time": "2022-02-07T12:15:31.686Z"
   },
   {
    "duration": 4,
    "start_time": "2022-02-07T12:15:31.744Z"
   },
   {
    "duration": 19,
    "start_time": "2022-02-07T12:15:31.750Z"
   },
   {
    "duration": 20,
    "start_time": "2022-02-07T12:15:31.771Z"
   },
   {
    "duration": 44,
    "start_time": "2022-02-07T12:15:31.793Z"
   },
   {
    "duration": 32,
    "start_time": "2022-02-07T12:15:31.839Z"
   },
   {
    "duration": 883,
    "start_time": "2022-02-07T12:15:31.873Z"
   },
   {
    "duration": 257,
    "start_time": "2022-02-07T12:15:32.758Z"
   },
   {
    "duration": 367,
    "start_time": "2022-02-07T12:20:25.497Z"
   },
   {
    "duration": 7,
    "start_time": "2022-02-07T12:20:38.810Z"
   },
   {
    "duration": 6,
    "start_time": "2022-02-07T12:22:27.978Z"
   },
   {
    "duration": 3795,
    "start_time": "2022-02-07T12:30:27.706Z"
   },
   {
    "duration": 3761,
    "start_time": "2022-02-07T12:30:34.486Z"
   },
   {
    "duration": 1224,
    "start_time": "2022-02-07T12:35:42.102Z"
   },
   {
    "duration": 56,
    "start_time": "2022-02-07T12:35:43.328Z"
   },
   {
    "duration": 19,
    "start_time": "2022-02-07T12:35:43.386Z"
   },
   {
    "duration": 21,
    "start_time": "2022-02-07T12:35:43.407Z"
   },
   {
    "duration": 32,
    "start_time": "2022-02-07T12:35:43.430Z"
   },
   {
    "duration": 11,
    "start_time": "2022-02-07T12:35:43.464Z"
   },
   {
    "duration": 10,
    "start_time": "2022-02-07T12:35:43.476Z"
   },
   {
    "duration": 50,
    "start_time": "2022-02-07T12:35:43.489Z"
   },
   {
    "duration": 24,
    "start_time": "2022-02-07T12:35:43.542Z"
   },
   {
    "duration": 62,
    "start_time": "2022-02-07T12:35:43.568Z"
   },
   {
    "duration": 14,
    "start_time": "2022-02-07T12:35:43.632Z"
   },
   {
    "duration": 17,
    "start_time": "2022-02-07T12:35:43.648Z"
   },
   {
    "duration": 27,
    "start_time": "2022-02-07T12:35:43.667Z"
   },
   {
    "duration": 4,
    "start_time": "2022-02-07T12:35:43.696Z"
   },
   {
    "duration": 24,
    "start_time": "2022-02-07T12:35:43.718Z"
   },
   {
    "duration": 9,
    "start_time": "2022-02-07T12:35:43.743Z"
   },
   {
    "duration": 16,
    "start_time": "2022-02-07T12:35:43.754Z"
   },
   {
    "duration": 60,
    "start_time": "2022-02-07T12:35:43.772Z"
   },
   {
    "duration": 4,
    "start_time": "2022-02-07T12:35:43.834Z"
   },
   {
    "duration": 9,
    "start_time": "2022-02-07T12:35:43.840Z"
   },
   {
    "duration": 25,
    "start_time": "2022-02-07T12:35:43.851Z"
   },
   {
    "duration": 54,
    "start_time": "2022-02-07T12:35:43.878Z"
   },
   {
    "duration": 32,
    "start_time": "2022-02-07T12:35:43.936Z"
   },
   {
    "duration": 889,
    "start_time": "2022-02-07T12:35:43.970Z"
   },
   {
    "duration": 259,
    "start_time": "2022-02-07T12:35:44.861Z"
   },
   {
    "duration": 6,
    "start_time": "2022-02-07T12:35:45.122Z"
   },
   {
    "duration": 98,
    "start_time": "2022-02-07T12:35:45.130Z"
   },
   {
    "duration": 3646,
    "start_time": "2022-02-07T12:35:56.879Z"
   },
   {
    "duration": 3800,
    "start_time": "2022-02-07T12:36:02.370Z"
   },
   {
    "duration": 3921,
    "start_time": "2022-02-07T12:36:42.610Z"
   },
   {
    "duration": 1298,
    "start_time": "2022-02-07T12:36:50.218Z"
   },
   {
    "duration": 54,
    "start_time": "2022-02-07T12:36:51.519Z"
   },
   {
    "duration": 21,
    "start_time": "2022-02-07T12:36:51.575Z"
   },
   {
    "duration": 25,
    "start_time": "2022-02-07T12:36:51.598Z"
   },
   {
    "duration": 32,
    "start_time": "2022-02-07T12:36:51.625Z"
   },
   {
    "duration": 10,
    "start_time": "2022-02-07T12:36:51.659Z"
   },
   {
    "duration": 10,
    "start_time": "2022-02-07T12:36:51.672Z"
   },
   {
    "duration": 52,
    "start_time": "2022-02-07T12:36:51.684Z"
   },
   {
    "duration": 23,
    "start_time": "2022-02-07T12:36:51.738Z"
   },
   {
    "duration": 59,
    "start_time": "2022-02-07T12:36:51.764Z"
   },
   {
    "duration": 15,
    "start_time": "2022-02-07T12:36:51.825Z"
   },
   {
    "duration": 14,
    "start_time": "2022-02-07T12:36:51.842Z"
   },
   {
    "duration": 31,
    "start_time": "2022-02-07T12:36:51.858Z"
   },
   {
    "duration": 31,
    "start_time": "2022-02-07T12:36:51.892Z"
   },
   {
    "duration": 28,
    "start_time": "2022-02-07T12:36:51.924Z"
   },
   {
    "duration": 11,
    "start_time": "2022-02-07T12:36:51.954Z"
   },
   {
    "duration": 21,
    "start_time": "2022-02-07T12:36:51.967Z"
   },
   {
    "duration": 54,
    "start_time": "2022-02-07T12:36:51.990Z"
   },
   {
    "duration": 4,
    "start_time": "2022-02-07T12:36:52.046Z"
   },
   {
    "duration": 6,
    "start_time": "2022-02-07T12:36:52.052Z"
   },
   {
    "duration": 26,
    "start_time": "2022-02-07T12:36:52.060Z"
   },
   {
    "duration": 49,
    "start_time": "2022-02-07T12:36:52.090Z"
   },
   {
    "duration": 30,
    "start_time": "2022-02-07T12:36:52.141Z"
   },
   {
    "duration": 909,
    "start_time": "2022-02-07T12:36:52.173Z"
   },
   {
    "duration": 261,
    "start_time": "2022-02-07T12:36:53.084Z"
   },
   {
    "duration": 6,
    "start_time": "2022-02-07T12:36:53.347Z"
   },
   {
    "duration": 3772,
    "start_time": "2022-02-07T12:36:53.355Z"
   },
   {
    "duration": 3760,
    "start_time": "2022-02-07T12:39:27.998Z"
   },
   {
    "duration": 3732,
    "start_time": "2022-02-07T12:39:40.550Z"
   },
   {
    "duration": 7,
    "start_time": "2022-02-07T12:41:17.639Z"
   },
   {
    "duration": 448,
    "start_time": "2022-02-07T12:54:55.382Z"
   },
   {
    "duration": 7,
    "start_time": "2022-02-07T12:55:09.550Z"
   },
   {
    "duration": 269,
    "start_time": "2022-02-07T12:59:26.171Z"
   },
   {
    "duration": 9,
    "start_time": "2022-02-07T12:59:48.583Z"
   },
   {
    "duration": 9,
    "start_time": "2022-02-07T12:59:55.663Z"
   },
   {
    "duration": 35,
    "start_time": "2022-02-07T13:00:01.384Z"
   },
   {
    "duration": 275,
    "start_time": "2022-02-07T13:00:31.859Z"
   },
   {
    "duration": 21,
    "start_time": "2022-02-07T13:00:37.799Z"
   },
   {
    "duration": 6,
    "start_time": "2022-02-07T13:04:27.574Z"
   },
   {
    "duration": 484,
    "start_time": "2022-02-07T13:04:52.355Z"
   },
   {
    "duration": 13,
    "start_time": "2022-02-07T13:04:58.723Z"
   },
   {
    "duration": 347,
    "start_time": "2022-02-07T13:07:16.771Z"
   },
   {
    "duration": 16,
    "start_time": "2022-02-07T13:07:26.535Z"
   },
   {
    "duration": 8,
    "start_time": "2022-02-07T13:10:57.275Z"
   },
   {
    "duration": 259,
    "start_time": "2022-02-07T13:14:42.427Z"
   },
   {
    "duration": 262,
    "start_time": "2022-02-07T13:14:48.590Z"
   },
   {
    "duration": 8,
    "start_time": "2022-02-07T13:15:26.790Z"
   },
   {
    "duration": 393,
    "start_time": "2022-02-07T13:21:42.675Z"
   },
   {
    "duration": 8,
    "start_time": "2022-02-07T13:21:51.834Z"
   },
   {
    "duration": 1017,
    "start_time": "2022-02-07T13:27:37.028Z"
   },
   {
    "duration": 418,
    "start_time": "2022-02-07T13:29:28.130Z"
   },
   {
    "duration": 76,
    "start_time": "2022-02-07T13:30:34.247Z"
   },
   {
    "duration": 58,
    "start_time": "2022-02-07T13:30:59.455Z"
   },
   {
    "duration": 751,
    "start_time": "2022-02-07T13:31:16.242Z"
   },
   {
    "duration": 66,
    "start_time": "2022-02-07T13:31:29.634Z"
   },
   {
    "duration": 63,
    "start_time": "2022-02-07T13:32:00.747Z"
   },
   {
    "duration": 66,
    "start_time": "2022-02-07T13:36:41.371Z"
   },
   {
    "duration": 31,
    "start_time": "2022-02-07T13:41:26.782Z"
   },
   {
    "duration": 74,
    "start_time": "2022-02-07T13:41:46.887Z"
   },
   {
    "duration": 379,
    "start_time": "2022-02-07T13:45:58.918Z"
   },
   {
    "duration": 83,
    "start_time": "2022-02-07T13:46:12.267Z"
   },
   {
    "duration": 96,
    "start_time": "2022-02-07T13:46:38.186Z"
   },
   {
    "duration": 66,
    "start_time": "2022-02-07T13:46:45.846Z"
   },
   {
    "duration": 1342,
    "start_time": "2022-02-07T13:55:52.506Z"
   },
   {
    "duration": 56,
    "start_time": "2022-02-07T13:55:53.850Z"
   },
   {
    "duration": 20,
    "start_time": "2022-02-07T13:55:53.908Z"
   },
   {
    "duration": 24,
    "start_time": "2022-02-07T13:55:53.930Z"
   },
   {
    "duration": 34,
    "start_time": "2022-02-07T13:55:53.955Z"
   },
   {
    "duration": 29,
    "start_time": "2022-02-07T13:55:53.991Z"
   },
   {
    "duration": 10,
    "start_time": "2022-02-07T13:55:54.022Z"
   },
   {
    "duration": 23,
    "start_time": "2022-02-07T13:55:54.034Z"
   },
   {
    "duration": 22,
    "start_time": "2022-02-07T13:55:54.060Z"
   },
   {
    "duration": 70,
    "start_time": "2022-02-07T13:55:54.085Z"
   },
   {
    "duration": 14,
    "start_time": "2022-02-07T13:55:54.157Z"
   },
   {
    "duration": 12,
    "start_time": "2022-02-07T13:55:54.172Z"
   },
   {
    "duration": 40,
    "start_time": "2022-02-07T13:55:54.186Z"
   },
   {
    "duration": 5,
    "start_time": "2022-02-07T13:55:54.228Z"
   },
   {
    "duration": 24,
    "start_time": "2022-02-07T13:55:54.234Z"
   },
   {
    "duration": 13,
    "start_time": "2022-02-07T13:55:54.260Z"
   },
   {
    "duration": 19,
    "start_time": "2022-02-07T13:55:54.274Z"
   },
   {
    "duration": 32,
    "start_time": "2022-02-07T13:55:54.319Z"
   },
   {
    "duration": 4,
    "start_time": "2022-02-07T13:55:54.353Z"
   },
   {
    "duration": 18,
    "start_time": "2022-02-07T13:55:54.358Z"
   },
   {
    "duration": 23,
    "start_time": "2022-02-07T13:55:54.378Z"
   },
   {
    "duration": 45,
    "start_time": "2022-02-07T13:55:54.403Z"
   },
   {
    "duration": 31,
    "start_time": "2022-02-07T13:55:54.450Z"
   },
   {
    "duration": 5,
    "start_time": "2022-02-07T13:55:54.482Z"
   },
   {
    "duration": 34,
    "start_time": "2022-02-07T13:55:54.489Z"
   },
   {
    "duration": 265,
    "start_time": "2022-02-07T13:55:54.525Z"
   },
   {
    "duration": 6,
    "start_time": "2022-02-07T13:55:54.793Z"
   },
   {
    "duration": 3720,
    "start_time": "2022-02-07T13:55:54.801Z"
   },
   {
    "duration": 7,
    "start_time": "2022-02-07T13:55:58.523Z"
   },
   {
    "duration": 8,
    "start_time": "2022-02-07T13:55:58.532Z"
   },
   {
    "duration": 15,
    "start_time": "2022-02-07T13:55:58.541Z"
   },
   {
    "duration": 16,
    "start_time": "2022-02-07T13:55:58.558Z"
   },
   {
    "duration": 46,
    "start_time": "2022-02-07T13:55:58.576Z"
   },
   {
    "duration": 8,
    "start_time": "2022-02-07T13:55:58.625Z"
   },
   {
    "duration": 10,
    "start_time": "2022-02-07T13:55:58.635Z"
   },
   {
    "duration": 734,
    "start_time": "2022-02-07T13:55:58.647Z"
   },
   {
    "duration": 2763,
    "start_time": "2022-02-07T14:00:16.120Z"
   },
   {
    "duration": 1639,
    "start_time": "2022-02-13T10:12:25.120Z"
   },
   {
    "duration": 92,
    "start_time": "2022-02-13T10:12:26.761Z"
   },
   {
    "duration": 41,
    "start_time": "2022-02-13T10:12:26.856Z"
   },
   {
    "duration": 48,
    "start_time": "2022-02-13T10:12:26.900Z"
   },
   {
    "duration": 51,
    "start_time": "2022-02-13T10:12:26.951Z"
   },
   {
    "duration": 41,
    "start_time": "2022-02-13T10:12:27.005Z"
   },
   {
    "duration": 15,
    "start_time": "2022-02-13T10:12:27.049Z"
   },
   {
    "duration": 59,
    "start_time": "2022-02-13T10:12:27.068Z"
   },
   {
    "duration": 33,
    "start_time": "2022-02-13T10:12:27.131Z"
   },
   {
    "duration": 90,
    "start_time": "2022-02-13T10:12:27.167Z"
   },
   {
    "duration": 20,
    "start_time": "2022-02-13T10:12:27.260Z"
   },
   {
    "duration": 40,
    "start_time": "2022-02-13T10:12:27.283Z"
   },
   {
    "duration": 28,
    "start_time": "2022-02-13T10:12:27.331Z"
   },
   {
    "duration": 6,
    "start_time": "2022-02-13T10:12:27.361Z"
   },
   {
    "duration": 64,
    "start_time": "2022-02-13T10:12:27.369Z"
   },
   {
    "duration": 15,
    "start_time": "2022-02-13T10:12:27.436Z"
   },
   {
    "duration": 27,
    "start_time": "2022-02-13T10:12:27.455Z"
   },
   {
    "duration": 84,
    "start_time": "2022-02-13T10:12:27.487Z"
   },
   {
    "duration": 14,
    "start_time": "2022-02-13T10:12:27.574Z"
   },
   {
    "duration": 647,
    "start_time": "2022-02-13T10:22:43.023Z"
   },
   {
    "duration": 4,
    "start_time": "2022-02-13T10:22:50.013Z"
   },
   {
    "duration": 62,
    "start_time": "2022-02-13T10:22:50.020Z"
   },
   {
    "duration": 43,
    "start_time": "2022-02-13T10:22:50.085Z"
   },
   {
    "duration": 25,
    "start_time": "2022-02-13T10:22:50.131Z"
   },
   {
    "duration": 72,
    "start_time": "2022-02-13T10:22:50.159Z"
   },
   {
    "duration": 14,
    "start_time": "2022-02-13T10:22:50.233Z"
   },
   {
    "duration": 23,
    "start_time": "2022-02-13T10:22:50.251Z"
   },
   {
    "duration": 74,
    "start_time": "2022-02-13T10:22:50.279Z"
   },
   {
    "duration": 43,
    "start_time": "2022-02-13T10:22:50.356Z"
   },
   {
    "duration": 108,
    "start_time": "2022-02-13T10:22:50.402Z"
   },
   {
    "duration": 25,
    "start_time": "2022-02-13T10:22:50.524Z"
   },
   {
    "duration": 17,
    "start_time": "2022-02-13T10:22:50.552Z"
   },
   {
    "duration": 53,
    "start_time": "2022-02-13T10:22:50.572Z"
   },
   {
    "duration": 8,
    "start_time": "2022-02-13T10:22:50.627Z"
   },
   {
    "duration": 38,
    "start_time": "2022-02-13T10:22:50.637Z"
   },
   {
    "duration": 50,
    "start_time": "2022-02-13T10:22:50.678Z"
   },
   {
    "duration": 31,
    "start_time": "2022-02-13T10:22:50.731Z"
   },
   {
    "duration": 64,
    "start_time": "2022-02-13T10:22:50.765Z"
   },
   {
    "duration": 7,
    "start_time": "2022-02-13T10:22:50.833Z"
   },
   {
    "duration": 17,
    "start_time": "2022-02-13T10:22:50.843Z"
   },
   {
    "duration": 28,
    "start_time": "2022-02-13T10:22:50.862Z"
   },
   {
    "duration": 95,
    "start_time": "2022-02-13T10:22:50.892Z"
   },
   {
    "duration": 57,
    "start_time": "2022-02-13T10:22:50.990Z"
   },
   {
    "duration": 7,
    "start_time": "2022-02-13T10:22:51.049Z"
   },
   {
    "duration": 19,
    "start_time": "2022-02-13T10:22:51.059Z"
   },
   {
    "duration": 438,
    "start_time": "2022-02-13T10:22:51.080Z"
   },
   {
    "duration": 9,
    "start_time": "2022-02-13T10:22:51.524Z"
   },
   {
    "duration": 4604,
    "start_time": "2022-02-13T10:22:51.536Z"
   },
   {
    "duration": 5771,
    "start_time": "2022-02-13T10:22:56.142Z"
   },
   {
    "duration": 12,
    "start_time": "2022-02-13T10:23:01.925Z"
   },
   {
    "duration": 13,
    "start_time": "2022-02-13T10:23:01.939Z"
   },
   {
    "duration": 18,
    "start_time": "2022-02-13T10:23:01.955Z"
   },
   {
    "duration": 58,
    "start_time": "2022-02-13T10:23:01.976Z"
   },
   {
    "duration": 10,
    "start_time": "2022-02-13T10:23:02.036Z"
   },
   {
    "duration": 10,
    "start_time": "2022-02-13T10:23:02.049Z"
   },
   {
    "duration": 545,
    "start_time": "2022-02-13T10:23:02.062Z"
   },
   {
    "duration": 54,
    "start_time": "2022-02-13T10:23:11.194Z"
   },
   {
    "duration": 334,
    "start_time": "2022-02-16T07:03:09.487Z"
   },
   {
    "duration": 369,
    "start_time": "2022-02-16T07:03:36.155Z"
   },
   {
    "duration": 1525,
    "start_time": "2022-02-16T07:03:47.742Z"
   },
   {
    "duration": 61,
    "start_time": "2022-02-16T07:03:49.269Z"
   },
   {
    "duration": 28,
    "start_time": "2022-02-16T07:03:49.333Z"
   },
   {
    "duration": 23,
    "start_time": "2022-02-16T07:03:49.364Z"
   },
   {
    "duration": 81,
    "start_time": "2022-02-16T07:03:49.389Z"
   },
   {
    "duration": 14,
    "start_time": "2022-02-16T07:03:49.472Z"
   },
   {
    "duration": 15,
    "start_time": "2022-02-16T07:03:49.489Z"
   },
   {
    "duration": 55,
    "start_time": "2022-02-16T07:03:49.508Z"
   },
   {
    "duration": 31,
    "start_time": "2022-02-16T07:03:49.566Z"
   },
   {
    "duration": 87,
    "start_time": "2022-02-16T07:03:49.600Z"
   },
   {
    "duration": 17,
    "start_time": "2022-02-16T07:03:49.690Z"
   },
   {
    "duration": 42,
    "start_time": "2022-02-16T07:03:49.710Z"
   },
   {
    "duration": 22,
    "start_time": "2022-02-16T07:03:49.755Z"
   },
   {
    "duration": 7,
    "start_time": "2022-02-16T07:03:49.779Z"
   },
   {
    "duration": 67,
    "start_time": "2022-02-16T07:03:49.789Z"
   },
   {
    "duration": 15,
    "start_time": "2022-02-16T07:03:49.859Z"
   },
   {
    "duration": 26,
    "start_time": "2022-02-16T07:03:49.877Z"
   },
   {
    "duration": 80,
    "start_time": "2022-02-16T07:03:49.906Z"
   },
   {
    "duration": 7,
    "start_time": "2022-02-16T07:03:49.990Z"
   },
   {
    "duration": 12,
    "start_time": "2022-02-16T07:03:50.000Z"
   },
   {
    "duration": 55,
    "start_time": "2022-02-16T07:03:50.015Z"
   },
   {
    "duration": 47,
    "start_time": "2022-02-16T07:03:50.072Z"
   },
   {
    "duration": 65,
    "start_time": "2022-02-16T07:03:50.124Z"
   },
   {
    "duration": 8,
    "start_time": "2022-02-16T07:03:50.193Z"
   },
   {
    "duration": 47,
    "start_time": "2022-02-16T07:03:50.204Z"
   },
   {
    "duration": 567,
    "start_time": "2022-02-16T07:03:50.254Z"
   },
   {
    "duration": 8,
    "start_time": "2022-02-16T07:03:50.824Z"
   },
   {
    "duration": 3213,
    "start_time": "2022-02-16T07:03:50.835Z"
   },
   {
    "duration": 4853,
    "start_time": "2022-02-16T07:03:54.050Z"
   },
   {
    "duration": 9,
    "start_time": "2022-02-16T07:03:58.906Z"
   },
   {
    "duration": 15,
    "start_time": "2022-02-16T07:03:58.918Z"
   },
   {
    "duration": 13,
    "start_time": "2022-02-16T07:03:58.948Z"
   },
   {
    "duration": 20,
    "start_time": "2022-02-16T07:03:58.964Z"
   },
   {
    "duration": 16,
    "start_time": "2022-02-16T07:03:58.986Z"
   },
   {
    "duration": 14,
    "start_time": "2022-02-16T07:03:59.004Z"
   },
   {
    "duration": 56,
    "start_time": "2022-02-16T07:03:59.049Z"
   },
   {
    "duration": 10,
    "start_time": "2022-02-16T07:03:59.107Z"
   },
   {
    "duration": 486,
    "start_time": "2022-02-16T07:29:51.686Z"
   },
   {
    "duration": 7,
    "start_time": "2022-02-16T07:30:00.103Z"
   },
   {
    "duration": 21,
    "start_time": "2022-02-16T07:34:01.303Z"
   },
   {
    "duration": 9,
    "start_time": "2022-02-16T07:42:25.651Z"
   },
   {
    "duration": 22,
    "start_time": "2022-02-16T07:43:00.735Z"
   },
   {
    "duration": 288,
    "start_time": "2022-02-16T07:50:29.518Z"
   },
   {
    "duration": 1540,
    "start_time": "2022-02-16T07:57:14.152Z"
   },
   {
    "duration": 85,
    "start_time": "2022-02-16T07:57:15.695Z"
   },
   {
    "duration": 36,
    "start_time": "2022-02-16T07:57:15.783Z"
   },
   {
    "duration": 39,
    "start_time": "2022-02-16T07:57:15.821Z"
   },
   {
    "duration": 44,
    "start_time": "2022-02-16T07:57:15.863Z"
   },
   {
    "duration": 14,
    "start_time": "2022-02-16T07:57:15.910Z"
   },
   {
    "duration": 34,
    "start_time": "2022-02-16T07:57:15.926Z"
   },
   {
    "duration": 31,
    "start_time": "2022-02-16T07:57:15.963Z"
   },
   {
    "duration": 63,
    "start_time": "2022-02-16T07:57:15.997Z"
   },
   {
    "duration": 55,
    "start_time": "2022-02-16T07:57:16.062Z"
   },
   {
    "duration": 43,
    "start_time": "2022-02-16T07:57:16.119Z"
   },
   {
    "duration": 21,
    "start_time": "2022-02-16T07:57:16.165Z"
   },
   {
    "duration": 24,
    "start_time": "2022-02-16T07:57:16.188Z"
   },
   {
    "duration": 6,
    "start_time": "2022-02-16T07:57:16.214Z"
   },
   {
    "duration": 60,
    "start_time": "2022-02-16T07:57:16.223Z"
   },
   {
    "duration": 12,
    "start_time": "2022-02-16T07:57:16.285Z"
   },
   {
    "duration": 55,
    "start_time": "2022-02-16T07:57:16.299Z"
   },
   {
    "duration": 43,
    "start_time": "2022-02-16T07:57:16.357Z"
   },
   {
    "duration": 6,
    "start_time": "2022-02-16T07:57:16.402Z"
   },
   {
    "duration": 42,
    "start_time": "2022-02-16T07:57:16.410Z"
   },
   {
    "duration": 15,
    "start_time": "2022-02-16T07:57:16.455Z"
   },
   {
    "duration": 5,
    "start_time": "2022-02-16T07:57:16.473Z"
   },
   {
    "duration": 12,
    "start_time": "2022-02-16T07:57:16.483Z"
   },
   {
    "duration": 53,
    "start_time": "2022-02-16T07:57:16.497Z"
   },
   {
    "duration": 42,
    "start_time": "2022-02-16T07:57:16.553Z"
   },
   {
    "duration": 64,
    "start_time": "2022-02-16T07:57:16.597Z"
   },
   {
    "duration": 9,
    "start_time": "2022-02-16T07:57:16.664Z"
   },
   {
    "duration": 20,
    "start_time": "2022-02-16T07:57:16.676Z"
   },
   {
    "duration": 418,
    "start_time": "2022-02-16T07:57:16.698Z"
   },
   {
    "duration": 8,
    "start_time": "2022-02-16T07:57:17.119Z"
   },
   {
    "duration": 3297,
    "start_time": "2022-02-16T07:57:17.130Z"
   },
   {
    "duration": 4963,
    "start_time": "2022-02-16T07:57:20.429Z"
   },
   {
    "duration": 9,
    "start_time": "2022-02-16T07:57:25.395Z"
   },
   {
    "duration": 9,
    "start_time": "2022-02-16T07:57:25.406Z"
   },
   {
    "duration": 39,
    "start_time": "2022-02-16T07:57:25.417Z"
   },
   {
    "duration": 19,
    "start_time": "2022-02-16T07:57:25.459Z"
   },
   {
    "duration": 9,
    "start_time": "2022-02-16T07:57:25.480Z"
   },
   {
    "duration": 9,
    "start_time": "2022-02-16T07:57:25.491Z"
   },
   {
    "duration": 112,
    "start_time": "2022-02-16T07:57:25.502Z"
   },
   {
    "duration": 31,
    "start_time": "2022-02-16T07:57:25.617Z"
   },
   {
    "duration": 98,
    "start_time": "2022-02-16T07:59:09.474Z"
   },
   {
    "duration": 17,
    "start_time": "2022-02-16T07:59:17.558Z"
   },
   {
    "duration": 111,
    "start_time": "2022-02-16T08:05:36.397Z"
   },
   {
    "duration": 103,
    "start_time": "2022-02-16T08:05:52.073Z"
   },
   {
    "duration": 22,
    "start_time": "2022-02-16T08:05:59.937Z"
   },
   {
    "duration": 17,
    "start_time": "2022-02-16T08:08:47.169Z"
   },
   {
    "duration": 16,
    "start_time": "2022-02-16T08:31:25.509Z"
   },
   {
    "duration": 16,
    "start_time": "2022-02-16T08:32:08.993Z"
   },
   {
    "duration": 98,
    "start_time": "2022-02-16T08:33:35.149Z"
   },
   {
    "duration": 14,
    "start_time": "2022-02-16T08:33:47.753Z"
   },
   {
    "duration": 145,
    "start_time": "2022-02-16T08:38:41.853Z"
   },
   {
    "duration": 16,
    "start_time": "2022-02-16T08:38:46.025Z"
   },
   {
    "duration": 16,
    "start_time": "2022-02-16T08:39:07.061Z"
   },
   {
    "duration": 15,
    "start_time": "2022-02-16T08:39:10.685Z"
   },
   {
    "duration": 16,
    "start_time": "2022-02-16T08:39:16.221Z"
   },
   {
    "duration": 16,
    "start_time": "2022-02-16T08:39:20.044Z"
   },
   {
    "duration": 1772,
    "start_time": "2022-02-16T08:39:28.899Z"
   },
   {
    "duration": 75,
    "start_time": "2022-02-16T08:39:30.678Z"
   },
   {
    "duration": 37,
    "start_time": "2022-02-16T08:39:30.756Z"
   },
   {
    "duration": 26,
    "start_time": "2022-02-16T08:39:30.795Z"
   },
   {
    "duration": 49,
    "start_time": "2022-02-16T08:39:30.848Z"
   },
   {
    "duration": 15,
    "start_time": "2022-02-16T08:39:30.899Z"
   },
   {
    "duration": 43,
    "start_time": "2022-02-16T08:39:30.918Z"
   },
   {
    "duration": 59,
    "start_time": "2022-02-16T08:39:30.964Z"
   },
   {
    "duration": 40,
    "start_time": "2022-02-16T08:39:31.026Z"
   },
   {
    "duration": 59,
    "start_time": "2022-02-16T08:39:31.070Z"
   },
   {
    "duration": 19,
    "start_time": "2022-02-16T08:39:31.148Z"
   },
   {
    "duration": 37,
    "start_time": "2022-02-16T08:39:31.170Z"
   },
   {
    "duration": 31,
    "start_time": "2022-02-16T08:39:31.210Z"
   },
   {
    "duration": 10,
    "start_time": "2022-02-16T08:39:31.250Z"
   },
   {
    "duration": 79,
    "start_time": "2022-02-16T08:39:31.263Z"
   },
   {
    "duration": 14,
    "start_time": "2022-02-16T08:39:31.345Z"
   },
   {
    "duration": 35,
    "start_time": "2022-02-16T08:39:31.362Z"
   },
   {
    "duration": 89,
    "start_time": "2022-02-16T08:39:31.400Z"
   },
   {
    "duration": 9,
    "start_time": "2022-02-16T08:39:31.492Z"
   },
   {
    "duration": 48,
    "start_time": "2022-02-16T08:39:31.504Z"
   },
   {
    "duration": 25,
    "start_time": "2022-02-16T08:39:31.554Z"
   },
   {
    "duration": 25,
    "start_time": "2022-02-16T08:39:31.584Z"
   },
   {
    "duration": 8,
    "start_time": "2022-02-16T08:39:31.612Z"
   },
   {
    "duration": 14,
    "start_time": "2022-02-16T08:39:31.622Z"
   },
   {
    "duration": 25,
    "start_time": "2022-02-16T08:39:31.649Z"
   },
   {
    "duration": 75,
    "start_time": "2022-02-16T08:39:31.677Z"
   },
   {
    "duration": 48,
    "start_time": "2022-02-16T08:39:31.755Z"
   },
   {
    "duration": 7,
    "start_time": "2022-02-16T08:39:31.806Z"
   },
   {
    "duration": 19,
    "start_time": "2022-02-16T08:39:31.848Z"
   },
   {
    "duration": 730,
    "start_time": "2022-02-16T08:39:31.870Z"
   },
   {
    "duration": 11,
    "start_time": "2022-02-16T08:39:32.603Z"
   },
   {
    "duration": 3453,
    "start_time": "2022-02-16T08:39:32.617Z"
   },
   {
    "duration": 5870,
    "start_time": "2022-02-16T08:39:36.073Z"
   },
   {
    "duration": 12,
    "start_time": "2022-02-16T08:39:41.950Z"
   },
   {
    "duration": 12,
    "start_time": "2022-02-16T08:39:41.965Z"
   },
   {
    "duration": 18,
    "start_time": "2022-02-16T08:39:41.980Z"
   },
   {
    "duration": 65,
    "start_time": "2022-02-16T08:39:42.001Z"
   },
   {
    "duration": 10,
    "start_time": "2022-02-16T08:39:42.068Z"
   },
   {
    "duration": 14,
    "start_time": "2022-02-16T08:39:42.081Z"
   },
   {
    "duration": 122,
    "start_time": "2022-02-16T08:39:42.099Z"
   },
   {
    "duration": 31,
    "start_time": "2022-02-16T08:39:42.225Z"
   },
   {
    "duration": 1372,
    "start_time": "2022-02-16T16:37:51.903Z"
   },
   {
    "duration": 51,
    "start_time": "2022-02-16T16:37:53.277Z"
   },
   {
    "duration": 20,
    "start_time": "2022-02-16T16:37:53.330Z"
   },
   {
    "duration": 22,
    "start_time": "2022-02-16T16:37:53.352Z"
   },
   {
    "duration": 51,
    "start_time": "2022-02-16T16:37:53.375Z"
   },
   {
    "duration": 12,
    "start_time": "2022-02-16T16:37:53.428Z"
   },
   {
    "duration": 16,
    "start_time": "2022-02-16T16:37:53.442Z"
   },
   {
    "duration": 28,
    "start_time": "2022-02-16T16:37:53.460Z"
   },
   {
    "duration": 38,
    "start_time": "2022-02-16T16:37:53.490Z"
   },
   {
    "duration": 42,
    "start_time": "2022-02-16T16:37:53.530Z"
   },
   {
    "duration": 13,
    "start_time": "2022-02-16T16:37:53.574Z"
   },
   {
    "duration": 35,
    "start_time": "2022-02-16T16:37:53.589Z"
   },
   {
    "duration": 33,
    "start_time": "2022-02-16T16:37:53.626Z"
   },
   {
    "duration": 26,
    "start_time": "2022-02-16T16:37:53.660Z"
   },
   {
    "duration": 62,
    "start_time": "2022-02-16T16:37:53.687Z"
   },
   {
    "duration": 24,
    "start_time": "2022-02-16T16:37:53.750Z"
   },
   {
    "duration": 41,
    "start_time": "2022-02-16T16:37:53.776Z"
   },
   {
    "duration": 40,
    "start_time": "2022-02-16T16:37:53.819Z"
   },
   {
    "duration": 4,
    "start_time": "2022-02-16T16:37:53.860Z"
   },
   {
    "duration": 26,
    "start_time": "2022-02-16T16:37:53.866Z"
   },
   {
    "duration": 33,
    "start_time": "2022-02-16T16:37:53.894Z"
   },
   {
    "duration": 360,
    "start_time": "2022-02-16T16:37:53.928Z"
   },
   {
    "duration": 270,
    "start_time": "2022-02-16T16:37:59.344Z"
   },
   {
    "duration": 8,
    "start_time": "2022-02-16T16:38:16.116Z"
   },
   {
    "duration": 178,
    "start_time": "2022-02-16T16:38:58.651Z"
   },
   {
    "duration": 12,
    "start_time": "2022-02-16T16:39:26.502Z"
   },
   {
    "duration": 230,
    "start_time": "2022-02-16T16:39:39.031Z"
   },
   {
    "duration": 183,
    "start_time": "2022-02-16T16:40:37.987Z"
   },
   {
    "duration": 342,
    "start_time": "2022-02-16T16:41:18.915Z"
   },
   {
    "duration": 244,
    "start_time": "2022-02-16T16:41:26.739Z"
   },
   {
    "duration": 5,
    "start_time": "2022-02-16T16:41:35.376Z"
   },
   {
    "duration": 4,
    "start_time": "2022-02-16T16:41:53.280Z"
   },
   {
    "duration": 4,
    "start_time": "2022-02-16T16:42:02.510Z"
   },
   {
    "duration": 1505,
    "start_time": "2022-02-16T16:42:41.252Z"
   },
   {
    "duration": 1306,
    "start_time": "2022-02-16T16:42:52.850Z"
   },
   {
    "duration": 14,
    "start_time": "2022-02-16T16:43:14.871Z"
   },
   {
    "duration": 3,
    "start_time": "2022-02-16T16:43:23.337Z"
   },
   {
    "duration": 71,
    "start_time": "2022-02-16T16:43:23.344Z"
   },
   {
    "duration": 13,
    "start_time": "2022-02-16T16:43:23.417Z"
   },
   {
    "duration": 30,
    "start_time": "2022-02-16T16:43:23.432Z"
   },
   {
    "duration": 52,
    "start_time": "2022-02-16T16:43:23.463Z"
   },
   {
    "duration": 19,
    "start_time": "2022-02-16T16:43:23.516Z"
   },
   {
    "duration": 22,
    "start_time": "2022-02-16T16:43:23.536Z"
   },
   {
    "duration": 36,
    "start_time": "2022-02-16T16:43:23.560Z"
   },
   {
    "duration": 27,
    "start_time": "2022-02-16T16:43:23.597Z"
   },
   {
    "duration": 51,
    "start_time": "2022-02-16T16:43:23.626Z"
   },
   {
    "duration": 13,
    "start_time": "2022-02-16T16:43:23.678Z"
   },
   {
    "duration": 23,
    "start_time": "2022-02-16T16:43:23.692Z"
   },
   {
    "duration": 50,
    "start_time": "2022-02-16T16:43:23.716Z"
   },
   {
    "duration": 23,
    "start_time": "2022-02-16T16:43:23.768Z"
   },
   {
    "duration": 27,
    "start_time": "2022-02-16T16:43:23.793Z"
   },
   {
    "duration": 38,
    "start_time": "2022-02-16T16:43:23.822Z"
   },
   {
    "duration": 16,
    "start_time": "2022-02-16T16:43:23.862Z"
   },
   {
    "duration": 31,
    "start_time": "2022-02-16T16:43:23.880Z"
   },
   {
    "duration": 4,
    "start_time": "2022-02-16T16:43:23.913Z"
   },
   {
    "duration": 13,
    "start_time": "2022-02-16T16:43:23.919Z"
   },
   {
    "duration": 11,
    "start_time": "2022-02-16T16:43:23.934Z"
   },
   {
    "duration": 10,
    "start_time": "2022-02-16T16:43:23.947Z"
   },
   {
    "duration": 4,
    "start_time": "2022-02-16T16:43:23.959Z"
   },
   {
    "duration": 9,
    "start_time": "2022-02-16T16:43:23.965Z"
   },
   {
    "duration": 53,
    "start_time": "2022-02-16T16:43:23.976Z"
   },
   {
    "duration": 4,
    "start_time": "2022-02-16T16:45:43.892Z"
   },
   {
    "duration": 73,
    "start_time": "2022-02-16T16:45:43.898Z"
   },
   {
    "duration": 16,
    "start_time": "2022-02-16T16:45:43.973Z"
   },
   {
    "duration": 47,
    "start_time": "2022-02-16T16:45:43.991Z"
   },
   {
    "duration": 56,
    "start_time": "2022-02-16T16:45:44.040Z"
   },
   {
    "duration": 28,
    "start_time": "2022-02-16T16:45:44.098Z"
   },
   {
    "duration": 29,
    "start_time": "2022-02-16T16:45:44.129Z"
   },
   {
    "duration": 28,
    "start_time": "2022-02-16T16:45:44.161Z"
   },
   {
    "duration": 43,
    "start_time": "2022-02-16T16:45:44.191Z"
   },
   {
    "duration": 59,
    "start_time": "2022-02-16T16:45:44.238Z"
   },
   {
    "duration": 24,
    "start_time": "2022-02-16T16:45:44.299Z"
   },
   {
    "duration": 25,
    "start_time": "2022-02-16T16:45:44.325Z"
   },
   {
    "duration": 44,
    "start_time": "2022-02-16T16:45:44.353Z"
   },
   {
    "duration": 4,
    "start_time": "2022-02-16T16:45:44.399Z"
   },
   {
    "duration": 30,
    "start_time": "2022-02-16T16:45:44.405Z"
   },
   {
    "duration": 14,
    "start_time": "2022-02-16T16:45:44.437Z"
   },
   {
    "duration": 43,
    "start_time": "2022-02-16T16:45:44.454Z"
   },
   {
    "duration": 42,
    "start_time": "2022-02-16T16:45:44.500Z"
   },
   {
    "duration": 15,
    "start_time": "2022-02-16T16:45:44.550Z"
   },
   {
    "duration": 19,
    "start_time": "2022-02-16T16:45:44.567Z"
   },
   {
    "duration": 16,
    "start_time": "2022-02-16T16:45:44.588Z"
   },
   {
    "duration": 14,
    "start_time": "2022-02-16T16:45:44.606Z"
   },
   {
    "duration": 6,
    "start_time": "2022-02-16T16:45:44.624Z"
   },
   {
    "duration": 43,
    "start_time": "2022-02-16T16:45:44.633Z"
   },
   {
    "duration": 27,
    "start_time": "2022-02-16T16:45:44.679Z"
   },
   {
    "duration": 5,
    "start_time": "2022-02-16T16:45:44.708Z"
   },
   {
    "duration": 14,
    "start_time": "2022-02-16T16:45:44.715Z"
   },
   {
    "duration": 24,
    "start_time": "2022-02-16T16:45:44.731Z"
   },
   {
    "duration": 34,
    "start_time": "2022-02-16T16:45:44.758Z"
   },
   {
    "duration": 52,
    "start_time": "2022-02-16T16:45:44.794Z"
   },
   {
    "duration": 6,
    "start_time": "2022-02-16T16:45:44.849Z"
   },
   {
    "duration": 51,
    "start_time": "2022-02-16T16:45:44.857Z"
   }
  ],
  "kernelspec": {
   "display_name": "Python 3 (ipykernel)",
   "language": "python",
   "name": "python3"
  },
  "language_info": {
   "codemirror_mode": {
    "name": "ipython",
    "version": 3
   },
   "file_extension": ".py",
   "mimetype": "text/x-python",
   "name": "python",
   "nbconvert_exporter": "python",
   "pygments_lexer": "ipython3",
   "version": "3.9.5"
  },
  "toc": {
   "base_numbering": 1,
   "nav_menu": {},
   "number_sections": true,
   "sideBar": true,
   "skip_h1_title": true,
   "title_cell": "Table of Contents",
   "title_sidebar": "Contents",
   "toc_cell": false,
   "toc_position": {},
   "toc_section_display": true,
   "toc_window_display": false
  }
 },
 "nbformat": 4,
 "nbformat_minor": 5
}
