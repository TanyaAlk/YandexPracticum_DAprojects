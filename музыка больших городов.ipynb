{
 "cells": [
  {
   "cell_type": "markdown",
   "metadata": {
    "id": "E0vqbgi9ay0H"
   },
   "source": [
    "# Яндекс.Музыка"
   ]
  },
  {
   "cell_type": "markdown",
   "metadata": {
    "id": "VUC88oWjTJw2"
   },
   "source": [
    "Сравнение Москвы и Петербурга окружено мифами. Например:\n",
    " * Москва — мегаполис, подчинённый жёсткому ритму рабочей недели;\n",
    " * Петербург — культурная столица, со своими вкусами.\n",
    "\n",
    "На данных Яндекс.Музыки вы сравните поведение пользователей двух столиц.\n",
    "\n",
    "**Цель исследования** — проверьте три гипотезы:\n",
    "1. Активность пользователей зависит от дня недели. Причём в Москве и Петербурге это проявляется по-разному.\n",
    "2. В понедельник утром в Москве преобладают одни жанры, а в Петербурге — другие. Так же и вечером пятницы преобладают разные жанры — в зависимости от города. \n",
    "3. Москва и Петербург предпочитают разные жанры музыки. В Москве чаще слушают поп-музыку, в Петербурге — русский рэп.\n",
    "\n",
    "**Ход исследования**\n",
    "\n",
    "Данные о поведении пользователей вы получите из файла `yandex_music_project.csv`. О качестве данных ничего не известно. Поэтому перед проверкой гипотез понадобится обзор данных. \n",
    "\n",
    "Вы проверите данные на ошибки и оцените их влияние на исследование. Затем, на этапе предобработки вы поищете возможность исправить самые критичные ошибки данных.\n",
    " \n",
    "Таким образом, исследование пройдёт в три этапа:\n",
    " 1. Обзор данных.\n",
    " 2. Предобработка данных.\n",
    " 3. Проверка гипотез.\n",
    "\n"
   ]
  },
  {
   "cell_type": "markdown",
   "metadata": {
    "id": "Ml1hmfXC_Zcs"
   },
   "source": [
    "## Обзор данных\n",
    "\n",
    "Составьте первое представление о данных Яндекс.Музыки.\n",
    "\n",
    "\n"
   ]
  },
  {
   "cell_type": "markdown",
   "metadata": {
    "id": "57eAOGIz_Zcs"
   },
   "source": [
    "Основной инструмент аналитика — `pandas`. Импортируйте эту библиотеку."
   ]
  },
  {
   "cell_type": "code",
   "execution_count": 1,
   "metadata": {
    "id": "AXN7PHPN_Zcs"
   },
   "outputs": [],
   "source": [
    "import pandas as pd # импорт библиотеки pandas"
   ]
  },
  {
   "cell_type": "markdown",
   "metadata": {
    "id": "SG23P8tt_Zcs"
   },
   "source": [
    "Прочитайте файл `yandex_music_project.csv` из папки `/datasets` и сохраните его в переменной `df`:"
   ]
  },
  {
   "cell_type": "code",
   "execution_count": 2,
   "metadata": {
    "id": "fFVu7vqh_Zct",
    "scrolled": true
   },
   "outputs": [],
   "source": [
    "df = pd.read_csv('/datasets/yandex_music_project.csv')"
   ]
  },
  {
   "cell_type": "markdown",
   "metadata": {
    "id": "rDoOMd3uTqnZ"
   },
   "source": [
    "Выведите на экран первые десять строк таблицы:"
   ]
  },
  {
   "cell_type": "code",
   "execution_count": 3,
   "metadata": {
    "id": "oWTVX3gW_Zct"
   },
   "outputs": [
    {
     "data": {
      "text/html": [
       "<div>\n",
       "<style scoped>\n",
       "    .dataframe tbody tr th:only-of-type {\n",
       "        vertical-align: middle;\n",
       "    }\n",
       "\n",
       "    .dataframe tbody tr th {\n",
       "        vertical-align: top;\n",
       "    }\n",
       "\n",
       "    .dataframe thead th {\n",
       "        text-align: right;\n",
       "    }\n",
       "</style>\n",
       "<table border=\"1\" class=\"dataframe\">\n",
       "  <thead>\n",
       "    <tr style=\"text-align: right;\">\n",
       "      <th></th>\n",
       "      <th>userID</th>\n",
       "      <th>Track</th>\n",
       "      <th>artist</th>\n",
       "      <th>genre</th>\n",
       "      <th>City</th>\n",
       "      <th>time</th>\n",
       "      <th>Day</th>\n",
       "    </tr>\n",
       "  </thead>\n",
       "  <tbody>\n",
       "    <tr>\n",
       "      <td>0</td>\n",
       "      <td>FFB692EC</td>\n",
       "      <td>Kamigata To Boots</td>\n",
       "      <td>The Mass Missile</td>\n",
       "      <td>rock</td>\n",
       "      <td>Saint-Petersburg</td>\n",
       "      <td>20:28:33</td>\n",
       "      <td>Wednesday</td>\n",
       "    </tr>\n",
       "    <tr>\n",
       "      <td>1</td>\n",
       "      <td>55204538</td>\n",
       "      <td>Delayed Because of Accident</td>\n",
       "      <td>Andreas Rönnberg</td>\n",
       "      <td>rock</td>\n",
       "      <td>Moscow</td>\n",
       "      <td>14:07:09</td>\n",
       "      <td>Friday</td>\n",
       "    </tr>\n",
       "    <tr>\n",
       "      <td>2</td>\n",
       "      <td>20EC38</td>\n",
       "      <td>Funiculì funiculà</td>\n",
       "      <td>Mario Lanza</td>\n",
       "      <td>pop</td>\n",
       "      <td>Saint-Petersburg</td>\n",
       "      <td>20:58:07</td>\n",
       "      <td>Wednesday</td>\n",
       "    </tr>\n",
       "    <tr>\n",
       "      <td>3</td>\n",
       "      <td>A3DD03C9</td>\n",
       "      <td>Dragons in the Sunset</td>\n",
       "      <td>Fire + Ice</td>\n",
       "      <td>folk</td>\n",
       "      <td>Saint-Petersburg</td>\n",
       "      <td>08:37:09</td>\n",
       "      <td>Monday</td>\n",
       "    </tr>\n",
       "    <tr>\n",
       "      <td>4</td>\n",
       "      <td>E2DC1FAE</td>\n",
       "      <td>Soul People</td>\n",
       "      <td>Space Echo</td>\n",
       "      <td>dance</td>\n",
       "      <td>Moscow</td>\n",
       "      <td>08:34:34</td>\n",
       "      <td>Monday</td>\n",
       "    </tr>\n",
       "    <tr>\n",
       "      <td>5</td>\n",
       "      <td>842029A1</td>\n",
       "      <td>Преданная</td>\n",
       "      <td>IMPERVTOR</td>\n",
       "      <td>rusrap</td>\n",
       "      <td>Saint-Petersburg</td>\n",
       "      <td>13:09:41</td>\n",
       "      <td>Friday</td>\n",
       "    </tr>\n",
       "    <tr>\n",
       "      <td>6</td>\n",
       "      <td>4CB90AA5</td>\n",
       "      <td>True</td>\n",
       "      <td>Roman Messer</td>\n",
       "      <td>dance</td>\n",
       "      <td>Moscow</td>\n",
       "      <td>13:00:07</td>\n",
       "      <td>Wednesday</td>\n",
       "    </tr>\n",
       "    <tr>\n",
       "      <td>7</td>\n",
       "      <td>F03E1C1F</td>\n",
       "      <td>Feeling This Way</td>\n",
       "      <td>Polina Griffith</td>\n",
       "      <td>dance</td>\n",
       "      <td>Moscow</td>\n",
       "      <td>20:47:49</td>\n",
       "      <td>Wednesday</td>\n",
       "    </tr>\n",
       "    <tr>\n",
       "      <td>8</td>\n",
       "      <td>8FA1D3BE</td>\n",
       "      <td>И вновь продолжается бой</td>\n",
       "      <td>NaN</td>\n",
       "      <td>ruspop</td>\n",
       "      <td>Moscow</td>\n",
       "      <td>09:17:40</td>\n",
       "      <td>Friday</td>\n",
       "    </tr>\n",
       "    <tr>\n",
       "      <td>9</td>\n",
       "      <td>E772D5C0</td>\n",
       "      <td>Pessimist</td>\n",
       "      <td>NaN</td>\n",
       "      <td>dance</td>\n",
       "      <td>Saint-Petersburg</td>\n",
       "      <td>21:20:49</td>\n",
       "      <td>Wednesday</td>\n",
       "    </tr>\n",
       "  </tbody>\n",
       "</table>\n",
       "</div>"
      ],
      "text/plain": [
       "     userID                        Track            artist   genre  \\\n",
       "0  FFB692EC            Kamigata To Boots  The Mass Missile    rock   \n",
       "1  55204538  Delayed Because of Accident  Andreas Rönnberg    rock   \n",
       "2    20EC38            Funiculì funiculà       Mario Lanza     pop   \n",
       "3  A3DD03C9        Dragons in the Sunset        Fire + Ice    folk   \n",
       "4  E2DC1FAE                  Soul People        Space Echo   dance   \n",
       "5  842029A1                    Преданная         IMPERVTOR  rusrap   \n",
       "6  4CB90AA5                         True      Roman Messer   dance   \n",
       "7  F03E1C1F             Feeling This Way   Polina Griffith   dance   \n",
       "8  8FA1D3BE     И вновь продолжается бой               NaN  ruspop   \n",
       "9  E772D5C0                    Pessimist               NaN   dance   \n",
       "\n",
       "             City        time        Day  \n",
       "0  Saint-Petersburg  20:28:33  Wednesday  \n",
       "1            Moscow  14:07:09     Friday  \n",
       "2  Saint-Petersburg  20:58:07  Wednesday  \n",
       "3  Saint-Petersburg  08:37:09     Monday  \n",
       "4            Moscow  08:34:34     Monday  \n",
       "5  Saint-Petersburg  13:09:41     Friday  \n",
       "6            Moscow  13:00:07  Wednesday  \n",
       "7            Moscow  20:47:49  Wednesday  \n",
       "8            Moscow  09:17:40     Friday  \n",
       "9  Saint-Petersburg  21:20:49  Wednesday  "
      ]
     },
     "execution_count": 3,
     "metadata": {},
     "output_type": "execute_result"
    }
   ],
   "source": [
    "df.head(10) # получение первых 10 строк таблицы df"
   ]
  },
  {
   "cell_type": "markdown",
   "metadata": {
    "id": "EO73Kwic_Zct"
   },
   "source": [
    "Одной командой получить общую информацию о таблице:"
   ]
  },
  {
   "cell_type": "code",
   "execution_count": 4,
   "metadata": {
    "id": "DSf2kIb-_Zct"
   },
   "outputs": [
    {
     "name": "stdout",
     "output_type": "stream",
     "text": [
      "<class 'pandas.core.frame.DataFrame'>\n",
      "RangeIndex: 65079 entries, 0 to 65078\n",
      "Data columns (total 7 columns):\n",
      "  userID    65079 non-null object\n",
      "Track       63848 non-null object\n",
      "artist      57876 non-null object\n",
      "genre       63881 non-null object\n",
      "  City      65079 non-null object\n",
      "time        65079 non-null object\n",
      "Day         65079 non-null object\n",
      "dtypes: object(7)\n",
      "memory usage: 3.5+ MB\n"
     ]
    }
   ],
   "source": [
    "df.info()# получение общей информации о данных в таблице df"
   ]
  },
  {
   "cell_type": "markdown",
   "metadata": {
    "id": "TaQ2Iwbr_Zct"
   },
   "source": [
    "Итак, в таблице семь столбцов. Тип данных во всех столбцах — `object`.\n",
    "\n",
    "Согласно документации к данным:\n",
    "* `userID` — идентификатор пользователя;\n",
    "* `Track` — название трека;  \n",
    "* `artist` — имя исполнителя;\n",
    "* `genre` — название жанра;\n",
    "* `City` — город пользователя;\n",
    "* `time` — время начала прослушивания;\n",
    "* `Day` — день недели.\n",
    "\n",
    "В названиях колонок видны три нарушения стиля:\n",
    "1. Строчные буквы сочетаются с прописными.\n",
    "2. Встречаются пробелы.\n",
    "3. Найдите ещё одну проблему в названии колонок и опишите её в этом пункте.\n",
    "\n",
    "\n",
    "\n",
    "Количество значений в столбцах различается. Значит, в данных есть пропущенные значения.\n"
   ]
  },
  {
   "cell_type": "markdown",
   "metadata": {
    "id": "MCB6-dXG_Zct"
   },
   "source": [
    "**Выводы**\n",
    "\n",
    "В каждой строке таблицы — данные о прослушанном треке. Часть колонок описывает саму композицию: название, исполнителя и жанр. Остальные данные рассказывают о пользователе: из какого он города, когда он слушал музыку. \n",
    "\n",
    "Предварительно можно утверждать, что, данных достаточно для проверки гипотез. Но встречаются пропуски в данных, а в названиях колонок — расхождения с хорошим стилем.\n",
    "\n",
    "Чтобы двигаться дальше, нужно устранить проблемы в данных."
   ]
  },
  {
   "cell_type": "markdown",
   "metadata": {
    "id": "SjYF6Ub9_Zct"
   },
   "source": [
    "## Предобработка данных\n",
    "Исправьте стиль в заголовках столбцов, исключите пропуски. Затем проверьте данные на дубликаты."
   ]
  },
  {
   "cell_type": "markdown",
   "metadata": {
    "id": "dIaKXr29_Zct"
   },
   "source": [
    "### Стиль заголовков\n",
    "Выведите на экран названия столбцов:"
   ]
  },
  {
   "cell_type": "code",
   "execution_count": 5,
   "metadata": {
    "id": "oKOTdF_Q_Zct"
   },
   "outputs": [
    {
     "data": {
      "text/plain": [
       "Index(['  userID', 'Track', 'artist', 'genre', '  City  ', 'time', 'Day'], dtype='object')"
      ]
     },
     "execution_count": 5,
     "metadata": {},
     "output_type": "execute_result"
    }
   ],
   "source": [
    "df.columns# перечень названий столбцов таблицы df"
   ]
  },
  {
   "cell_type": "markdown",
   "metadata": {
    "id": "zj5534cv_Zct"
   },
   "source": [
    "Приведите названия в соответствие с хорошим стилем:\n",
    "* несколько слов в названии запишите в «змеином_регистре»,\n",
    "* все символы сделайте строчными,\n",
    "* устраните пробелы.\n",
    "\n",
    "Для этого переименуйте колонки так:\n",
    "* `'  userID'` → `'user_id'`;\n",
    "* `'Track'` → `'track'`;\n",
    "* `'  City  '` → `'city'`;\n",
    "* `'Day'` → `'day'`."
   ]
  },
  {
   "cell_type": "code",
   "execution_count": 6,
   "metadata": {
    "id": "ISlFqs5y_Zct"
   },
   "outputs": [],
   "source": [
    "df = df.rename(columns = {'  userID':'user_id', 'Track':'track', '  City  ':'city', 'Day':'day'}) "
   ]
  },
  {
   "cell_type": "markdown",
   "metadata": {
    "id": "1dqbh00J_Zct"
   },
   "source": [
    "Проверьте результат. Для этого ещё раз выведите на экран названия столбцов:"
   ]
  },
  {
   "cell_type": "code",
   "execution_count": 7,
   "metadata": {
    "id": "d4NOAmTW_Zct"
   },
   "outputs": [
    {
     "data": {
      "text/plain": [
       "Index(['user_id', 'track', 'artist', 'genre', 'city', 'time', 'day'], dtype='object')"
      ]
     },
     "execution_count": 7,
     "metadata": {},
     "output_type": "execute_result"
    }
   ],
   "source": [
    "df.columns# проверка результатов - перечень названий столбцов"
   ]
  },
  {
   "cell_type": "markdown",
   "metadata": {
    "id": "5ISfbcfY_Zct"
   },
   "source": [
    "### Пропуски значений\n",
    "Сначала посчитайте, сколько в таблице пропущенных значений. Для этого достаточно двух методов `pandas`:"
   ]
  },
  {
   "cell_type": "code",
   "execution_count": 8,
   "metadata": {
    "id": "RskX29qr_Zct"
   },
   "outputs": [
    {
     "data": {
      "text/plain": [
       "user_id       0\n",
       "track      1231\n",
       "artist     7203\n",
       "genre      1198\n",
       "city          0\n",
       "time          0\n",
       "day           0\n",
       "dtype: int64"
      ]
     },
     "execution_count": 8,
     "metadata": {},
     "output_type": "execute_result"
    }
   ],
   "source": [
    "df.isna().sum() # подсчёт пропусков"
   ]
  },
  {
   "cell_type": "markdown",
   "metadata": {
    "id": "qubhgnlO_Zct"
   },
   "source": [
    "Не все пропущенные значения влияют на исследование. Так в `track` и `artist` пропуски не важны для вашей работы. Достаточно заменить их явными обозначениями.\n",
    "\n",
    "Но пропуски в `genre` могут помешать сравнению музыкальных вкусов в Москве и Санкт-Петербурге. На практике было бы правильно установить причину пропусков и восстановить данные. Такой возможности нет в учебном проекте. Придётся:\n",
    "* заполнить и эти пропуски явными обозначениями,\n",
    "* оценить, насколько они повредят расчётам. "
   ]
  },
  {
   "cell_type": "markdown",
   "metadata": {
    "id": "fSv2laPA_Zct"
   },
   "source": [
    "Замените пропущенные значения в столбцах `track`, `artist` и `genre` на строку `'unknown'`. Для этого создайте список `columns_to_replace`, переберите его элементы циклом `for` и для каждого столбца выполните замену пропущенных значений:"
   ]
  },
  {
   "cell_type": "code",
   "execution_count": 9,
   "metadata": {
    "id": "KplB5qWs_Zct"
   },
   "outputs": [],
   "source": [
    "columns_to_replace = ['track', 'artist', 'genre']\n",
    "for column in columns_to_replace:\n",
    "    df[column] = df[column].fillna('unknown') # перебор названий столбцов в цикле и замена пропущенных значений на 'unknown'"
   ]
  },
  {
   "cell_type": "markdown",
   "metadata": {
    "id": "Ilsm-MZo_Zct"
   },
   "source": [
    "Убедитесь, что в таблице не осталось пропусков. Для этого ещё раз посчитайте пропущенные значения."
   ]
  },
  {
   "cell_type": "code",
   "execution_count": 10,
   "metadata": {
    "id": "Tq4nYRX4_Zct"
   },
   "outputs": [
    {
     "data": {
      "text/plain": [
       "user_id    0\n",
       "track      0\n",
       "artist     0\n",
       "genre      0\n",
       "city       0\n",
       "time       0\n",
       "day        0\n",
       "dtype: int64"
      ]
     },
     "execution_count": 10,
     "metadata": {},
     "output_type": "execute_result"
    }
   ],
   "source": [
    "df.isna().sum()# подсчёт пропусков"
   ]
  },
  {
   "cell_type": "markdown",
   "metadata": {
    "id": "BWKRtBJ3_Zct"
   },
   "source": [
    "### Дубликаты\n",
    "Посчитайте явные дубликаты в таблице одной командой:"
   ]
  },
  {
   "cell_type": "code",
   "execution_count": 11,
   "metadata": {
    "id": "36eES_S0_Zct",
    "scrolled": true
   },
   "outputs": [
    {
     "data": {
      "text/plain": [
       "3826"
      ]
     },
     "execution_count": 11,
     "metadata": {},
     "output_type": "execute_result"
    }
   ],
   "source": [
    "df.duplicated().sum()# подсчёт явных дубликатов"
   ]
  },
  {
   "cell_type": "markdown",
   "metadata": {
    "id": "Ot25h6XR_Zct"
   },
   "source": [
    "Вызовите специальный метод `pandas`, чтобы удалить явные дубликаты:"
   ]
  },
  {
   "cell_type": "code",
   "execution_count": 12,
   "metadata": {
    "id": "exFHq6tt_Zct"
   },
   "outputs": [],
   "source": [
    "df.drop_duplicates(inplace=True)# удаление явных дубликатов (с удалением старых индексов и формированием новых)"
   ]
  },
  {
   "cell_type": "markdown",
   "metadata": {
    "id": "Im2YwBEG_Zct"
   },
   "source": [
    "Ещё раз посчитайте явные дубликаты в таблице — убедитесь, что полностью от них избавились:"
   ]
  },
  {
   "cell_type": "code",
   "execution_count": 13,
   "metadata": {
    "id": "-8PuNWQ0_Zct"
   },
   "outputs": [
    {
     "data": {
      "text/plain": [
       "0"
      ]
     },
     "execution_count": 13,
     "metadata": {},
     "output_type": "execute_result"
    }
   ],
   "source": [
    "df.duplicated().sum()# проверка на отсутствие дубликатов"
   ]
  },
  {
   "cell_type": "markdown",
   "metadata": {
    "id": "QlFBsxAr_Zct"
   },
   "source": [
    "Теперь избавьтесь от неявных дубликатов в колонке `genre`. Например, название одного и того же жанра может быть записано немного по-разному. Такие ошибки тоже повлияют на результат исследования."
   ]
  },
  {
   "cell_type": "markdown",
   "metadata": {
    "id": "eSjWwsOh_Zct"
   },
   "source": [
    "Выведите на экран список уникальных названий жанров, отсортированный в алфавитном порядке. Для этого:\n",
    "* извлеките нужный столбец датафрейма, \n",
    "* примените к нему метод сортировки,\n",
    "* для отсортированного столбца вызовите метод, который вернёт уникальные значения из столбца."
   ]
  },
  {
   "cell_type": "code",
   "execution_count": 14,
   "metadata": {
    "id": "JIUcqzZN_Zct"
   },
   "outputs": [
    {
     "data": {
      "text/plain": [
       "array(['acid', 'acoustic', 'action', 'adult', 'africa', 'afrikaans',\n",
       "       'alternative', 'alternativepunk', 'ambient', 'americana',\n",
       "       'animated', 'anime', 'arabesk', 'arabic', 'arena',\n",
       "       'argentinetango', 'art', 'audiobook', 'author', 'avantgarde',\n",
       "       'axé', 'baile', 'balkan', 'beats', 'bigroom', 'black', 'bluegrass',\n",
       "       'blues', 'bollywood', 'bossa', 'brazilian', 'breakbeat', 'breaks',\n",
       "       'broadway', 'cantautori', 'cantopop', 'canzone', 'caribbean',\n",
       "       'caucasian', 'celtic', 'chamber', 'chanson', 'children', 'chill',\n",
       "       'chinese', 'choral', 'christian', 'christmas', 'classical',\n",
       "       'classicmetal', 'club', 'colombian', 'comedy', 'conjazz',\n",
       "       'contemporary', 'country', 'cuban', 'dance', 'dancehall',\n",
       "       'dancepop', 'dark', 'death', 'deep', 'deutschrock', 'deutschspr',\n",
       "       'dirty', 'disco', 'dnb', 'documentary', 'downbeat', 'downtempo',\n",
       "       'drum', 'dub', 'dubstep', 'eastern', 'easy', 'electronic',\n",
       "       'electropop', 'emo', 'entehno', 'epicmetal', 'estrada', 'ethnic',\n",
       "       'eurofolk', 'european', 'experimental', 'extrememetal', 'fado',\n",
       "       'fairytail', 'film', 'fitness', 'flamenco', 'folk', 'folklore',\n",
       "       'folkmetal', 'folkrock', 'folktronica', 'forró', 'frankreich',\n",
       "       'französisch', 'french', 'funk', 'future', 'gangsta', 'garage',\n",
       "       'german', 'ghazal', 'gitarre', 'glitch', 'gospel', 'gothic',\n",
       "       'grime', 'grunge', 'gypsy', 'handsup', \"hard'n'heavy\", 'hardcore',\n",
       "       'hardstyle', 'hardtechno', 'hip', 'hip-hop', 'hiphop',\n",
       "       'historisch', 'holiday', 'hop', 'horror', 'house', 'hymn', 'idm',\n",
       "       'independent', 'indian', 'indie', 'indipop', 'industrial',\n",
       "       'inspirational', 'instrumental', 'international', 'irish', 'jam',\n",
       "       'japanese', 'jazz', 'jewish', 'jpop', 'jungle', 'k-pop',\n",
       "       'karadeniz', 'karaoke', 'kayokyoku', 'korean', 'laiko', 'latin',\n",
       "       'latino', 'leftfield', 'local', 'lounge', 'loungeelectronic',\n",
       "       'lovers', 'malaysian', 'mandopop', 'marschmusik', 'meditative',\n",
       "       'mediterranean', 'melodic', 'metal', 'metalcore', 'mexican',\n",
       "       'middle', 'minimal', 'miscellaneous', 'modern', 'mood', 'mpb',\n",
       "       'muslim', 'native', 'neoklassik', 'neue', 'new', 'newage',\n",
       "       'newwave', 'nu', 'nujazz', 'numetal', 'oceania', 'old', 'opera',\n",
       "       'orchestral', 'other', 'piano', 'podcasts', 'pop', 'popdance',\n",
       "       'popelectronic', 'popeurodance', 'poprussian', 'post',\n",
       "       'posthardcore', 'postrock', 'power', 'progmetal', 'progressive',\n",
       "       'psychedelic', 'punjabi', 'punk', 'quebecois', 'ragga', 'ram',\n",
       "       'rancheras', 'rap', 'rave', 'reggae', 'reggaeton', 'regional',\n",
       "       'relax', 'religious', 'retro', 'rhythm', 'rnb', 'rnr', 'rock',\n",
       "       'rockabilly', 'rockalternative', 'rockindie', 'rockother',\n",
       "       'romance', 'roots', 'ruspop', 'rusrap', 'rusrock', 'russian',\n",
       "       'salsa', 'samba', 'scenic', 'schlager', 'self', 'sertanejo',\n",
       "       'shanson', 'shoegazing', 'showtunes', 'singer', 'ska', 'skarock',\n",
       "       'slow', 'smooth', 'soft', 'soul', 'soulful', 'sound', 'soundtrack',\n",
       "       'southern', 'specialty', 'speech', 'spiritual', 'sport',\n",
       "       'stonerrock', 'surf', 'swing', 'synthpop', 'synthrock',\n",
       "       'sängerportrait', 'tango', 'tanzorchester', 'taraftar', 'tatar',\n",
       "       'tech', 'techno', 'teen', 'thrash', 'top', 'traditional',\n",
       "       'tradjazz', 'trance', 'tribal', 'trip', 'triphop', 'tropical',\n",
       "       'türk', 'türkçe', 'ukrrock', 'unknown', 'urban', 'uzbek',\n",
       "       'variété', 'vi', 'videogame', 'vocal', 'western', 'world',\n",
       "       'worldbeat', 'ïîï', 'электроника'], dtype=object)"
      ]
     },
     "execution_count": 14,
     "metadata": {},
     "output_type": "execute_result"
    }
   ],
   "source": [
    "df['genre'].sort_values().unique()# Просмотр уникальных названий жанров"
   ]
  },
  {
   "cell_type": "markdown",
   "metadata": {
    "id": "qej-Qmuo_Zct"
   },
   "source": [
    "Просмотрите список и найдите неявные дубликаты названия `hiphop`. Это могут быть названия с ошибками или альтернативные названия того же жанра.\n",
    "\n",
    "Вы увидите следующие неявные дубликаты:\n",
    "* *hip*,\n",
    "* *hop*,\n",
    "* *hip-hop*.\n",
    "\n",
    "Чтобы очистить от них таблицу, напишите функцию `replace_wrong_genres()` с двумя параметрами: \n",
    "* `wrong_genres` — список дубликатов,\n",
    "* `correct_genre` — строка с правильным значением.\n",
    "\n",
    "Функция должна исправить колонку `genre` в таблице `df`: заменить каждое значение из списка `wrong_genres` на значение из `correct_genre`."
   ]
  },
  {
   "cell_type": "code",
   "execution_count": 15,
   "metadata": {
    "id": "ErNDkmns_Zct"
   },
   "outputs": [],
   "source": [
    "def replace_wrong_genres(wrong_genres, correct_genre):\n",
    "    for wrong_genre in wrong_genres:\n",
    "        df['genre'] = df['genre'].replace(wrong_genre,correct_genre)\n",
    "        # Функция для замены неявных дубликатов"
   ]
  },
  {
   "cell_type": "markdown",
   "metadata": {
    "id": "aDoBJxbA_Zct"
   },
   "source": [
    "Вызовите `replace_wrong_genres()` и передайте ей такие аргументы, чтобы она устранила неявные дубликаты: вместо `hip`, `hop` и `hip-hop` в таблице должно быть значение `hiphop`:"
   ]
  },
  {
   "cell_type": "code",
   "execution_count": 16,
   "metadata": {
    "id": "YN5i2hpmSo09"
   },
   "outputs": [],
   "source": [
    "duplicates = ['hip', 'hop', 'hip-hop']\n",
    "correct_name = 'hiphop'\n",
    "replace_wrong_genres (duplicates,correct_name)# Устранение неявных дубликатов"
   ]
  },
  {
   "cell_type": "markdown",
   "metadata": {
    "id": "zQKF16_RG15m"
   },
   "source": [
    "Проверьте, что заменили неправильные названия:\n",
    "\n",
    "*   hip\n",
    "*   hop\n",
    "*   hip-hop\n",
    "\n",
    "Выведите отсортированный список уникальных значений столбца `genre`:"
   ]
  },
  {
   "cell_type": "code",
   "execution_count": 17,
   "metadata": {
    "id": "wvixALnFG15m"
   },
   "outputs": [
    {
     "data": {
      "text/plain": [
       "array(['rock', 'pop', 'folk', 'dance', 'rusrap', 'ruspop', 'world',\n",
       "       'electronic', 'unknown', 'alternative', 'children', 'rnb',\n",
       "       'hiphop', 'jazz', 'postrock', 'latin', 'classical', 'metal',\n",
       "       'reggae', 'tatar', 'blues', 'instrumental', 'rusrock', 'dnb',\n",
       "       'türk', 'post', 'country', 'psychedelic', 'conjazz', 'indie',\n",
       "       'posthardcore', 'local', 'avantgarde', 'punk', 'videogame',\n",
       "       'techno', 'house', 'christmas', 'melodic', 'caucasian',\n",
       "       'reggaeton', 'soundtrack', 'singer', 'ska', 'shanson', 'ambient',\n",
       "       'film', 'western', 'rap', 'beats', \"hard'n'heavy\", 'progmetal',\n",
       "       'minimal', 'contemporary', 'new', 'soul', 'holiday', 'german',\n",
       "       'tropical', 'fairytail', 'spiritual', 'urban', 'gospel', 'nujazz',\n",
       "       'folkmetal', 'trance', 'miscellaneous', 'anime', 'hardcore',\n",
       "       'progressive', 'chanson', 'numetal', 'vocal', 'estrada', 'russian',\n",
       "       'classicmetal', 'dubstep', 'club', 'deep', 'southern', 'black',\n",
       "       'folkrock', 'fitness', 'french', 'disco', 'religious', 'drum',\n",
       "       'extrememetal', 'türkçe', 'experimental', 'easy', 'metalcore',\n",
       "       'modern', 'argentinetango', 'old', 'breaks', 'eurofolk',\n",
       "       'stonerrock', 'industrial', 'funk', 'jpop', 'middle', 'variété',\n",
       "       'other', 'adult', 'christian', 'gothic', 'international', 'muslim',\n",
       "       'relax', 'schlager', 'caribbean', 'ukrrock', 'nu', 'breakbeat',\n",
       "       'comedy', 'chill', 'newage', 'specialty', 'uzbek', 'k-pop',\n",
       "       'balkan', 'chinese', 'meditative', 'dub', 'power', 'death',\n",
       "       'grime', 'arabesk', 'romance', 'flamenco', 'leftfield', 'european',\n",
       "       'tech', 'newwave', 'dancehall', 'mpb', 'piano', 'top', 'bigroom',\n",
       "       'opera', 'celtic', 'tradjazz', 'acoustic', 'epicmetal',\n",
       "       'historisch', 'downbeat', 'downtempo', 'africa', 'audiobook',\n",
       "       'jewish', 'sängerportrait', 'deutschrock', 'eastern', 'action',\n",
       "       'future', 'electropop', 'folklore', 'bollywood', 'marschmusik',\n",
       "       'rnr', 'karaoke', 'indian', 'rancheras', 'электроника',\n",
       "       'afrikaans', 'tango', 'rhythm', 'sound', 'deutschspr', 'trip',\n",
       "       'lovers', 'choral', 'dancepop', 'podcasts', 'retro', 'smooth',\n",
       "       'mexican', 'brazilian', 'ïîï', 'mood', 'surf', 'author', 'gangsta',\n",
       "       'triphop', 'inspirational', 'idm', 'ethnic', 'bluegrass',\n",
       "       'broadway', 'animated', 'americana', 'karadeniz', 'rockabilly',\n",
       "       'colombian', 'self', 'synthrock', 'sertanejo', 'japanese',\n",
       "       'canzone', 'swing', 'lounge', 'sport', 'korean', 'ragga',\n",
       "       'traditional', 'gitarre', 'frankreich', 'alternativepunk', 'emo',\n",
       "       'laiko', 'cantopop', 'glitch', 'documentary', 'rockalternative',\n",
       "       'thrash', 'hymn', 'oceania', 'rockother', 'popeurodance', 'dark',\n",
       "       'vi', 'grunge', 'hardstyle', 'samba', 'garage', 'soft', 'art',\n",
       "       'folktronica', 'entehno', 'mediterranean', 'chamber', 'cuban',\n",
       "       'taraftar', 'rockindie', 'gypsy', 'hardtechno', 'shoegazing',\n",
       "       'skarock', 'bossa', 'salsa', 'latino', 'worldbeat', 'malaysian',\n",
       "       'baile', 'ghazal', 'loungeelectronic', 'arabic', 'popelectronic',\n",
       "       'acid', 'kayokyoku', 'neoklassik', 'tribal', 'tanzorchester',\n",
       "       'native', 'independent', 'cantautori', 'handsup', 'poprussian',\n",
       "       'punjabi', 'synthpop', 'rave', 'französisch', 'quebecois',\n",
       "       'speech', 'soulful', 'teen', 'jam', 'ram', 'horror', 'scenic',\n",
       "       'orchestral', 'neue', 'roots', 'slow', 'jungle', 'indipop', 'axé',\n",
       "       'fado', 'showtunes', 'arena', 'irish', 'mandopop', 'forró',\n",
       "       'popdance', 'dirty', 'regional'], dtype=object)"
      ]
     },
     "execution_count": 17,
     "metadata": {},
     "output_type": "execute_result"
    }
   ],
   "source": [
    "df['genre'].unique()# Проверка на неявные дубликаты"
   ]
  },
  {
   "cell_type": "markdown",
   "metadata": {
    "id": "jz6a9-7HQUDd"
   },
   "source": [
    "**Выводы**\n",
    "\n",
    "Предобработка обнаружила три проблемы в данных:\n",
    "\n",
    "- нарушения в стиле заголовков,\n",
    "- пропущенные значения,\n",
    "- дубликаты — явные и неявные.\n",
    "\n",
    "Вы исправили заголовки, чтобы упростить работу с таблицей. Без дубликатов исследование станет более точным.\n",
    "\n",
    "Пропущенные значения вы заменили на `'unknown'`. Ещё предстоит увидеть, не повредят ли исследованию пропуски в колонке `genre`.\n",
    "\n",
    "Теперь можно перейти к проверке гипотез. "
   ]
  },
  {
   "cell_type": "markdown",
   "metadata": {
    "id": "WttZHXH0SqKk"
   },
   "source": [
    "## Проверка гипотез"
   ]
  },
  {
   "cell_type": "markdown",
   "metadata": {
    "id": "Im936VVi_Zcu"
   },
   "source": [
    "### Сравнение поведения пользователей двух столиц"
   ]
  },
  {
   "cell_type": "markdown",
   "metadata": {
    "id": "nwt_MuaL_Zcu"
   },
   "source": [
    "Первая гипотеза утверждает, что пользователи по-разному слушают музыку в Москве и Санкт-Петербурге. Проверьте это предположение по данным о трёх днях недели — понедельнике, среде и пятнице. Для этого:\n",
    "\n",
    "* Разделите пользователей Москвы и Санкт-Петербурга\n",
    "* Сравните, сколько треков послушала каждая группа пользователей в понедельник, среду и пятницу.\n"
   ]
  },
  {
   "cell_type": "markdown",
   "metadata": {
    "id": "8Dw_YMmT_Zcu"
   },
   "source": [
    "Для тренировки сначала выполните каждый из расчётов по отдельности. \n",
    "\n",
    "Оцените активность пользователей в каждом городе. Сгруппируйте данные по городу и посчитайте прослушивания в каждой группе.\n",
    "\n"
   ]
  },
  {
   "cell_type": "code",
   "execution_count": 18,
   "metadata": {
    "id": "0_Qs96oh_Zcu"
   },
   "outputs": [
    {
     "data": {
      "text/plain": [
       "city\n",
       "Moscow              42741\n",
       "Saint-Petersburg    18512\n",
       "Name: track, dtype: int64"
      ]
     },
     "execution_count": 18,
     "metadata": {},
     "output_type": "execute_result"
    }
   ],
   "source": [
    "df.groupby('city')['track'].count() # Подсчёт прослушиваний в каждом городе"
   ]
  },
  {
   "cell_type": "markdown",
   "metadata": {
    "id": "dzli3w8o_Zcu"
   },
   "source": [
    "В Москве прослушиваний больше, чем в Петербурге. Из этого не следует, что московские пользователи чаще слушают музыку. Просто самих пользователей в Москве больше.\n",
    "\n",
    "Теперь сгруппируйте данные по дню недели и подсчитайте прослушивания в понедельник, среду и пятницу. Учтите, что в данных есть информация только о прослушиваниях только за эти дни.\n"
   ]
  },
  {
   "cell_type": "code",
   "execution_count": 19,
   "metadata": {
    "id": "uZMKjiJz_Zcu"
   },
   "outputs": [
    {
     "data": {
      "text/plain": [
       "day\n",
       "Friday       21840\n",
       "Monday       21354\n",
       "Wednesday    18059\n",
       "Name: track, dtype: int64"
      ]
     },
     "execution_count": 19,
     "metadata": {},
     "output_type": "execute_result"
    }
   ],
   "source": [
    "df.groupby('day')['track'].count()# Подсчёт прослушиваний в каждый из трёх дней"
   ]
  },
  {
   "cell_type": "markdown",
   "metadata": {
    "id": "cC2tNrlL_Zcu"
   },
   "source": [
    "В среднем пользователи из двух городов менее активны по средам. Но картина может измениться, если рассмотреть каждый город в отдельности."
   ]
  },
  {
   "cell_type": "markdown",
   "metadata": {
    "id": "POzs8bGa_Zcu"
   },
   "source": [
    "Вы видели, как работает группировка по городу и по дням недели. Теперь напишите функцию, которая объединит два эти расчёта.\n",
    "\n",
    "Создайте функцию `number_tracks()`, которая посчитает прослушивания для заданного дня и города. Ей понадобятся два параметра:\n",
    "* день недели,\n",
    "* название города.\n",
    "\n",
    "В функции сохраните в переменную строки исходной таблицы, у которых значение:\n",
    "  * в колонке `day` равно параметру `day`,\n",
    "  * в колонке `city` равно параметру `city`.\n",
    "\n",
    "Для этого примените последовательную фильтрацию с логической индексацией.\n",
    "\n",
    "Затем посчитайте значения в столбце `user_id` получившейся таблицы. Результат сохраните в новую переменную. Верните эту переменную из функции."
   ]
  },
  {
   "cell_type": "code",
   "execution_count": 71,
   "metadata": {
    "id": "Nz3GdQB1_Zcu"
   },
   "outputs": [],
   "source": [
    "umber_tracks=()\n",
    "def number_tracks(day, city):\n",
    "    track_list=df[(df['day']==day) & (df['city']==city)]\n",
    "    track_list_count = track_list['user_id'].count()\n",
    "    return track_list_count # <создание функции number_tracks()>\n",
    "# Объявляется функция с двумя параметрами: day, city.\n",
    "# В переменной track_list сохраняются те строки таблицы df, для которых \n",
    "# значение в столбце 'day' равно параметру day и одновременно значение\n",
    "# в столбце 'city' равно параметру city (используйте последовательную фильтрацию\n",
    "# с помощью логической индексации).\n",
    "# В переменной track_list_count сохраняется число значений столбца 'user_id',\n",
    "# рассчитанное методом count() для таблицы track_list.\n",
    "# Функция возвращает число - значение track_list_count.\n",
    "\n",
    "# Функция для подсчёта прослушиваний для конкретного города и дня.\n",
    "# С помощью последовательной фильтрации с логической индексацией она \n",
    "# сначала получит из исходной таблицы строки с нужным днём,\n",
    "# затем из результата отфильтрует строки с нужным городом,\n",
    "# методом count() посчитает количество значений в колонке user_id. \n",
    "# Это количество функция вернёт в качестве результата"
   ]
  },
  {
   "cell_type": "markdown",
   "metadata": {
    "id": "ytf7xFrFJQ2r"
   },
   "source": [
    "Вызовите `number_tracks()` шесть раз, меняя значение параметров — так, чтобы получить данные для каждого города в каждый из трёх дней."
   ]
  },
  {
   "cell_type": "code",
   "execution_count": 72,
   "metadata": {
    "id": "rJcRATNQ_Zcu"
   },
   "outputs": [
    {
     "data": {
      "text/plain": [
       "15740"
      ]
     },
     "execution_count": 72,
     "metadata": {},
     "output_type": "execute_result"
    }
   ],
   "source": [
    "number_tracks('Monday', 'Moscow')# количество прослушиваний в Москве по понедельникам"
   ]
  },
  {
   "cell_type": "code",
   "execution_count": 73,
   "metadata": {
    "id": "hq_ncZ5T_Zcu"
   },
   "outputs": [
    {
     "data": {
      "text/plain": [
       "5614"
      ]
     },
     "execution_count": 73,
     "metadata": {},
     "output_type": "execute_result"
    }
   ],
   "source": [
    "number_tracks('Monday', 'Saint-Petersburg')# количество прослушиваний в Санкт-Петербурге по понедельникам"
   ]
  },
  {
   "cell_type": "code",
   "execution_count": 74,
   "metadata": {
    "id": "_NTy2VPU_Zcu"
   },
   "outputs": [
    {
     "data": {
      "text/plain": [
       "11056"
      ]
     },
     "execution_count": 74,
     "metadata": {},
     "output_type": "execute_result"
    }
   ],
   "source": [
    "number_tracks('Wednesday', 'Moscow')\n",
    "# количество прослушиваний в Москве по средам"
   ]
  },
  {
   "cell_type": "code",
   "execution_count": 75,
   "metadata": {
    "id": "j2y3TAwo_Zcu"
   },
   "outputs": [
    {
     "data": {
      "text/plain": [
       "7003"
      ]
     },
     "execution_count": 75,
     "metadata": {},
     "output_type": "execute_result"
    }
   ],
   "source": [
    "number_tracks('Wednesday', 'Saint-Petersburg')# количество прослушиваний в Санкт-Петербурге по средам"
   ]
  },
  {
   "cell_type": "code",
   "execution_count": 76,
   "metadata": {
    "id": "vYDw5u_K_Zcu"
   },
   "outputs": [
    {
     "data": {
      "text/plain": [
       "15945"
      ]
     },
     "execution_count": 76,
     "metadata": {},
     "output_type": "execute_result"
    }
   ],
   "source": [
    "number_tracks('Friday', 'Moscow')# количество прослушиваний в Москве по пятницам"
   ]
  },
  {
   "cell_type": "code",
   "execution_count": 77,
   "metadata": {
    "id": "8_yzFtW3_Zcu"
   },
   "outputs": [
    {
     "data": {
      "text/plain": [
       "5895"
      ]
     },
     "execution_count": 77,
     "metadata": {},
     "output_type": "execute_result"
    }
   ],
   "source": [
    "number_tracks('Friday', 'Saint-Petersburg')# количество прослушиваний в Санкт-Петербурге по пятницам"
   ]
  },
  {
   "cell_type": "markdown",
   "metadata": {
    "id": "7QXffbO-_Zcu"
   },
   "source": [
    "Создайте c помощью конструктора `pd.DataFrame` таблицу, где\n",
    "* названия колонок — `['city', 'monday', 'wednesday', 'friday']`;\n",
    "* данные — результаты, которые вы получили с помощью `number_tracks`."
   ]
  },
  {
   "cell_type": "code",
   "execution_count": 78,
   "metadata": {
    "id": "APAcLpOr_Zcu"
   },
   "outputs": [
    {
     "data": {
      "text/html": [
       "<div>\n",
       "<style scoped>\n",
       "    .dataframe tbody tr th:only-of-type {\n",
       "        vertical-align: middle;\n",
       "    }\n",
       "\n",
       "    .dataframe tbody tr th {\n",
       "        vertical-align: top;\n",
       "    }\n",
       "\n",
       "    .dataframe thead th {\n",
       "        text-align: right;\n",
       "    }\n",
       "</style>\n",
       "<table border=\"1\" class=\"dataframe\">\n",
       "  <thead>\n",
       "    <tr style=\"text-align: right;\">\n",
       "      <th></th>\n",
       "      <th>city</th>\n",
       "      <th>monday</th>\n",
       "      <th>wednesday</th>\n",
       "      <th>friday</th>\n",
       "    </tr>\n",
       "  </thead>\n",
       "  <tbody>\n",
       "    <tr>\n",
       "      <td>0</td>\n",
       "      <td>Moscow</td>\n",
       "      <td>15740</td>\n",
       "      <td>11056</td>\n",
       "      <td>15945</td>\n",
       "    </tr>\n",
       "    <tr>\n",
       "      <td>1</td>\n",
       "      <td>Saint-Petersburg</td>\n",
       "      <td>5614</td>\n",
       "      <td>7003</td>\n",
       "      <td>5895</td>\n",
       "    </tr>\n",
       "  </tbody>\n",
       "</table>\n",
       "</div>"
      ],
      "text/plain": [
       "               city  monday  wednesday  friday\n",
       "0            Moscow   15740      11056   15945\n",
       "1  Saint-Petersburg    5614       7003    5895"
      ]
     },
     "execution_count": 78,
     "metadata": {},
     "output_type": "execute_result"
    }
   ],
   "source": [
    "data = [['Moscow', 15740, 11056, 15945],\n",
    "        ['Saint-Petersburg', 5614, 7003, 5895]] \n",
    "columns = ['city', 'monday', 'wednesday', 'friday'] \n",
    "pd.DataFrame(data = data, columns = columns)\n",
    "\n",
    "\n",
    "# Таблица с результатами"
   ]
  },
  {
   "cell_type": "markdown",
   "metadata": {
    "id": "-EgPIHYu_Zcu"
   },
   "source": [
    "**Выводы**\n",
    "\n",
    "Данные показывают разницу поведения пользователей:\n",
    "\n",
    "- В Москве пик прослушиваний приходится на понедельник и пятницу, а в среду заметен спад.\n",
    "- В Петербурге, наоборот, больше слушают музыку по средам. Активность в понедельник и пятницу здесь почти в равной мере уступает среде.\n",
    "\n",
    "Значит, данные говорят в пользу первой гипотезы."
   ]
  },
  {
   "cell_type": "markdown",
   "metadata": {
    "id": "atZAxtq4_Zcu"
   },
   "source": [
    "### Музыка в начале и в конце недели"
   ]
  },
  {
   "cell_type": "markdown",
   "metadata": {
    "id": "eXrQqXFH_Zcu"
   },
   "source": [
    "Согласно второй гипотезе, утром в понедельник в Москве преобладают одни жанры, а в Петербурге — другие. Так же и вечером пятницы преобладают разные жанры — в зависимости от города."
   ]
  },
  {
   "cell_type": "markdown",
   "metadata": {
    "id": "S8UcW6Hw_Zcu"
   },
   "source": [
    "Сохраните таблицы с данными в две переменные:\n",
    "* по Москве — в `moscow_general`;\n",
    "* по Санкт-Петербургу — в `spb_general`."
   ]
  },
  {
   "cell_type": "code",
   "execution_count": 79,
   "metadata": {
    "id": "qeaFfM_P_Zcu"
   },
   "outputs": [
    {
     "data": {
      "text/html": [
       "<div>\n",
       "<style scoped>\n",
       "    .dataframe tbody tr th:only-of-type {\n",
       "        vertical-align: middle;\n",
       "    }\n",
       "\n",
       "    .dataframe tbody tr th {\n",
       "        vertical-align: top;\n",
       "    }\n",
       "\n",
       "    .dataframe thead th {\n",
       "        text-align: right;\n",
       "    }\n",
       "</style>\n",
       "<table border=\"1\" class=\"dataframe\">\n",
       "  <thead>\n",
       "    <tr style=\"text-align: right;\">\n",
       "      <th></th>\n",
       "      <th>user_id</th>\n",
       "      <th>track</th>\n",
       "      <th>artist</th>\n",
       "      <th>genre</th>\n",
       "      <th>city</th>\n",
       "      <th>time</th>\n",
       "      <th>day</th>\n",
       "    </tr>\n",
       "  </thead>\n",
       "  <tbody>\n",
       "    <tr>\n",
       "      <td>1</td>\n",
       "      <td>55204538</td>\n",
       "      <td>Delayed Because of Accident</td>\n",
       "      <td>Andreas Rönnberg</td>\n",
       "      <td>rock</td>\n",
       "      <td>Moscow</td>\n",
       "      <td>14:07:09</td>\n",
       "      <td>Friday</td>\n",
       "    </tr>\n",
       "    <tr>\n",
       "      <td>4</td>\n",
       "      <td>E2DC1FAE</td>\n",
       "      <td>Soul People</td>\n",
       "      <td>Space Echo</td>\n",
       "      <td>dance</td>\n",
       "      <td>Moscow</td>\n",
       "      <td>08:34:34</td>\n",
       "      <td>Monday</td>\n",
       "    </tr>\n",
       "    <tr>\n",
       "      <td>6</td>\n",
       "      <td>4CB90AA5</td>\n",
       "      <td>True</td>\n",
       "      <td>Roman Messer</td>\n",
       "      <td>dance</td>\n",
       "      <td>Moscow</td>\n",
       "      <td>13:00:07</td>\n",
       "      <td>Wednesday</td>\n",
       "    </tr>\n",
       "    <tr>\n",
       "      <td>7</td>\n",
       "      <td>F03E1C1F</td>\n",
       "      <td>Feeling This Way</td>\n",
       "      <td>Polina Griffith</td>\n",
       "      <td>dance</td>\n",
       "      <td>Moscow</td>\n",
       "      <td>20:47:49</td>\n",
       "      <td>Wednesday</td>\n",
       "    </tr>\n",
       "    <tr>\n",
       "      <td>8</td>\n",
       "      <td>8FA1D3BE</td>\n",
       "      <td>И вновь продолжается бой</td>\n",
       "      <td>unknown</td>\n",
       "      <td>ruspop</td>\n",
       "      <td>Moscow</td>\n",
       "      <td>09:17:40</td>\n",
       "      <td>Friday</td>\n",
       "    </tr>\n",
       "  </tbody>\n",
       "</table>\n",
       "</div>"
      ],
      "text/plain": [
       "    user_id                        track            artist   genre    city  \\\n",
       "1  55204538  Delayed Because of Accident  Andreas Rönnberg    rock  Moscow   \n",
       "4  E2DC1FAE                  Soul People        Space Echo   dance  Moscow   \n",
       "6  4CB90AA5                         True      Roman Messer   dance  Moscow   \n",
       "7  F03E1C1F             Feeling This Way   Polina Griffith   dance  Moscow   \n",
       "8  8FA1D3BE     И вновь продолжается бой           unknown  ruspop  Moscow   \n",
       "\n",
       "       time        day  \n",
       "1  14:07:09     Friday  \n",
       "4  08:34:34     Monday  \n",
       "6  13:00:07  Wednesday  \n",
       "7  20:47:49  Wednesday  \n",
       "8  09:17:40     Friday  "
      ]
     },
     "execution_count": 79,
     "metadata": {},
     "output_type": "execute_result"
    }
   ],
   "source": [
    "moscow_general = df[df['city'] == 'Moscow'] # получение таблицы moscow_general из тех строк таблицы df, \n",
    "moscow_general.head()# для которых значение в столбце 'city' равно 'Moscow'\n"
   ]
  },
  {
   "cell_type": "code",
   "execution_count": 80,
   "metadata": {
    "id": "ORaVRKto_Zcu"
   },
   "outputs": [
    {
     "data": {
      "text/html": [
       "<div>\n",
       "<style scoped>\n",
       "    .dataframe tbody tr th:only-of-type {\n",
       "        vertical-align: middle;\n",
       "    }\n",
       "\n",
       "    .dataframe tbody tr th {\n",
       "        vertical-align: top;\n",
       "    }\n",
       "\n",
       "    .dataframe thead th {\n",
       "        text-align: right;\n",
       "    }\n",
       "</style>\n",
       "<table border=\"1\" class=\"dataframe\">\n",
       "  <thead>\n",
       "    <tr style=\"text-align: right;\">\n",
       "      <th></th>\n",
       "      <th>user_id</th>\n",
       "      <th>track</th>\n",
       "      <th>artist</th>\n",
       "      <th>genre</th>\n",
       "      <th>city</th>\n",
       "      <th>time</th>\n",
       "      <th>day</th>\n",
       "    </tr>\n",
       "  </thead>\n",
       "  <tbody>\n",
       "    <tr>\n",
       "      <td>0</td>\n",
       "      <td>FFB692EC</td>\n",
       "      <td>Kamigata To Boots</td>\n",
       "      <td>The Mass Missile</td>\n",
       "      <td>rock</td>\n",
       "      <td>Saint-Petersburg</td>\n",
       "      <td>20:28:33</td>\n",
       "      <td>Wednesday</td>\n",
       "    </tr>\n",
       "    <tr>\n",
       "      <td>2</td>\n",
       "      <td>20EC38</td>\n",
       "      <td>Funiculì funiculà</td>\n",
       "      <td>Mario Lanza</td>\n",
       "      <td>pop</td>\n",
       "      <td>Saint-Petersburg</td>\n",
       "      <td>20:58:07</td>\n",
       "      <td>Wednesday</td>\n",
       "    </tr>\n",
       "    <tr>\n",
       "      <td>3</td>\n",
       "      <td>A3DD03C9</td>\n",
       "      <td>Dragons in the Sunset</td>\n",
       "      <td>Fire + Ice</td>\n",
       "      <td>folk</td>\n",
       "      <td>Saint-Petersburg</td>\n",
       "      <td>08:37:09</td>\n",
       "      <td>Monday</td>\n",
       "    </tr>\n",
       "    <tr>\n",
       "      <td>5</td>\n",
       "      <td>842029A1</td>\n",
       "      <td>Преданная</td>\n",
       "      <td>IMPERVTOR</td>\n",
       "      <td>rusrap</td>\n",
       "      <td>Saint-Petersburg</td>\n",
       "      <td>13:09:41</td>\n",
       "      <td>Friday</td>\n",
       "    </tr>\n",
       "    <tr>\n",
       "      <td>9</td>\n",
       "      <td>E772D5C0</td>\n",
       "      <td>Pessimist</td>\n",
       "      <td>unknown</td>\n",
       "      <td>dance</td>\n",
       "      <td>Saint-Petersburg</td>\n",
       "      <td>21:20:49</td>\n",
       "      <td>Wednesday</td>\n",
       "    </tr>\n",
       "  </tbody>\n",
       "</table>\n",
       "</div>"
      ],
      "text/plain": [
       "    user_id                  track            artist   genre  \\\n",
       "0  FFB692EC      Kamigata To Boots  The Mass Missile    rock   \n",
       "2    20EC38      Funiculì funiculà       Mario Lanza     pop   \n",
       "3  A3DD03C9  Dragons in the Sunset        Fire + Ice    folk   \n",
       "5  842029A1              Преданная         IMPERVTOR  rusrap   \n",
       "9  E772D5C0              Pessimist           unknown   dance   \n",
       "\n",
       "               city      time        day  \n",
       "0  Saint-Petersburg  20:28:33  Wednesday  \n",
       "2  Saint-Petersburg  20:58:07  Wednesday  \n",
       "3  Saint-Petersburg  08:37:09     Monday  \n",
       "5  Saint-Petersburg  13:09:41     Friday  \n",
       "9  Saint-Petersburg  21:20:49  Wednesday  "
      ]
     },
     "execution_count": 80,
     "metadata": {},
     "output_type": "execute_result"
    }
   ],
   "source": [
    "spb_general = df[df['city'] == 'Saint-Petersburg'] # получение таблицы moscow_general из тех строк таблицы df, \n",
    "spb_general.head()\n",
    "# получение таблицы spb_general из тех строк таблицы df,\n",
    "# для которых значение в столбце 'city' равно 'Saint-Petersburg'\n"
   ]
  },
  {
   "cell_type": "markdown",
   "metadata": {
    "id": "MEJV-CX2_Zcu"
   },
   "source": [
    "Создайте функцию `genre_weekday()` с четырьмя параметрами:\n",
    "* таблица (датафрейм) с данными,\n",
    "* день недели,\n",
    "* начальная временная метка в формате 'hh:mm', \n",
    "* последняя временная метка в формате 'hh:mm'.\n",
    "\n",
    "Функция должна вернуть информацию о топ-10 жанров тех треков, которые прослушивали в указанный день, в промежутке между двумя отметками времени."
   ]
  },
  {
   "cell_type": "code",
   "execution_count": 81,
   "metadata": {
    "id": "laJT9BYl_Zcu"
   },
   "outputs": [],
   "source": [
    "def genre_weekday(table, day, time1, time2):\n",
    "    genre_df = table[table['day'] == day]\n",
    "    genre_df = genre_df[genre_df['time'] > time1]\n",
    "    genre_df = genre_df[genre_df['time'] < time2]\n",
    "    genre_df_count = genre_df.groupby('genre')['genre'].count()\n",
    "    genre_df_sorted = genre_df_count.sort_values(ascending=False)\n",
    "    return genre_df_sorted.head(10) # Объявление функции genre_weekday() с параметрами table, day, time1, time2,\n",
    "# которая возвращает информацию о самых популярных жанрах в указанный день в\n",
    "# заданное время:\n",
    "# 1) в переменную genre_df сохраняются те строки переданного датафрейма table, для\n",
    "#    которых одновременно:\n",
    "#    - значение в столбце day равно значению аргумента day\n",
    "#    - значение в столбце time больше значения аргумента time1\n",
    "#    - значение в столбце time меньше значения аргумента time2\n",
    "#    Используйте последовательную фильтрацию с помощью логической индексации.\n",
    "# 2) сгруппировать датафрейм genre_df по столбцу genre, взять один из его\n",
    "#    столбцов и посчитать методом count() количество записей для каждого из\n",
    "#    присутствующих жанров, получившийся Series записать в переменную\n",
    "#    genre_df_count\n",
    "# 3) отсортировать genre_df_count по убыванию встречаемости и сохранить\n",
    "#    в переменную genre_df_sorted\n",
    "# 4) вернуть Series из 10 первых значений genre_df_sorted, это будут топ-10\n",
    "#    популярных жанров (в указанный день, в заданное время)"
   ]
  },
  {
   "cell_type": "markdown",
   "metadata": {
    "id": "la2s2_PF_Zcu"
   },
   "source": [
    "Cравните результаты функции `genre_weekday()` для Москвы и Санкт-Петербурга в понедельник утром (с 7:00 до 11:00) и в пятницу вечером (с 17:00 до 23:00):"
   ]
  },
  {
   "cell_type": "code",
   "execution_count": 82,
   "metadata": {
    "id": "yz7itPUQ_Zcu"
   },
   "outputs": [
    {
     "data": {
      "text/plain": [
       "genre\n",
       "pop            781\n",
       "dance          549\n",
       "electronic     480\n",
       "rock           474\n",
       "hiphop         286\n",
       "ruspop         186\n",
       "world          181\n",
       "rusrap         175\n",
       "alternative    164\n",
       "unknown        161\n",
       "Name: genre, dtype: int64"
      ]
     },
     "execution_count": 82,
     "metadata": {},
     "output_type": "execute_result"
    }
   ],
   "source": [
    "genre_weekday(moscow_general, 'Monday', '07:00', '11:00')# вызов функции для утра понедельника в Москве (вместо df — таблица moscow_general)\n",
    "# объекты, хранящие время, являются строками и сравниваются как строки\n",
    "# пример вызова: genre_weekday(moscow_general, 'Monday', '07:00', '11:00')"
   ]
  },
  {
   "cell_type": "code",
   "execution_count": 83,
   "metadata": {
    "id": "kwUcHPdy_Zcu"
   },
   "outputs": [
    {
     "data": {
      "text/plain": [
       "genre\n",
       "pop            218\n",
       "dance          182\n",
       "rock           162\n",
       "electronic     147\n",
       "hiphop          80\n",
       "ruspop          64\n",
       "alternative     58\n",
       "rusrap          55\n",
       "jazz            44\n",
       "classical       40\n",
       "Name: genre, dtype: int64"
      ]
     },
     "execution_count": 83,
     "metadata": {},
     "output_type": "execute_result"
    }
   ],
   "source": [
    "genre_weekday(spb_general, 'Monday', '07:00', '11:00')# вызов функции для утра понедельника в Петербурге (вместо df — таблица spb_general)"
   ]
  },
  {
   "cell_type": "code",
   "execution_count": 84,
   "metadata": {
    "id": "EzXVRE1o_Zcu"
   },
   "outputs": [
    {
     "data": {
      "text/plain": [
       "genre\n",
       "pop            713\n",
       "rock           517\n",
       "dance          495\n",
       "electronic     482\n",
       "hiphop         273\n",
       "world          208\n",
       "ruspop         170\n",
       "alternative    163\n",
       "classical      163\n",
       "rusrap         142\n",
       "Name: genre, dtype: int64"
      ]
     },
     "execution_count": 84,
     "metadata": {},
     "output_type": "execute_result"
    }
   ],
   "source": [
    "genre_weekday(moscow_general, 'Friday', '17:00', '23:00')# вызов функции для вечера пятницы в Москве"
   ]
  },
  {
   "cell_type": "code",
   "execution_count": 85,
   "metadata": {
    "id": "JZaEKu5v_Zcu"
   },
   "outputs": [
    {
     "data": {
      "text/plain": [
       "genre\n",
       "pop            256\n",
       "rock           216\n",
       "electronic     216\n",
       "dance          210\n",
       "hiphop          97\n",
       "alternative     63\n",
       "jazz            61\n",
       "classical       60\n",
       "rusrap          59\n",
       "world           54\n",
       "Name: genre, dtype: int64"
      ]
     },
     "execution_count": 85,
     "metadata": {},
     "output_type": "execute_result"
    }
   ],
   "source": [
    "genre_weekday(spb_general, 'Friday', '17:00', '23:00')# вызов функции для вечера пятницы в Петербурге"
   ]
  },
  {
   "cell_type": "markdown",
   "metadata": {
    "id": "wrCe4MNX_Zcu"
   },
   "source": [
    "**Выводы**\n",
    "\n",
    "Если сравнить топ-10 жанров в понедельник утром, можно сделать такие выводы:\n",
    "\n",
    "1. В Москве и Петербурге слушают похожую музыку. Единственное отличие — в московский рейтинг вошёл жанр “world”, а в петербургский — джаз и классика.\n",
    "\n",
    "2. В Москве пропущенных значений оказалось так много, что значение `'unknown'` заняло десятое место среди самых популярных жанров. Значит, пропущенные значения занимают существенную долю в данных и угрожают достоверности исследования.\n",
    "\n",
    "Вечер пятницы не меняет эту картину. Некоторые жанры поднимаются немного выше, другие спускаются, но в целом топ-10 остаётся тем же самым.\n",
    "\n",
    "Таким образом, вторая гипотеза подтвердилась лишь частично:\n",
    "* Пользователи слушают похожую музыку в начале недели и в конце.\n",
    "* Разница между Москвой и Петербургом не слишком выражена. В Москве чаще слушают русскую популярную музыку, в Петербурге — джаз.\n",
    "\n",
    "Однако пропуски в данных ставят под сомнение этот результат. В Москве их так много, что рейтинг топ-10 мог бы выглядеть иначе, если бы не утерянные  данные о жанрах."
   ]
  },
  {
   "cell_type": "markdown",
   "metadata": {
    "id": "JolODAqr_Zcu"
   },
   "source": [
    "### Жанровые предпочтения в Москве и Петербурге\n",
    "\n",
    "Гипотеза: Петербург — столица рэпа, музыку этого жанра там слушают чаще, чем в Москве.  А Москва — город контрастов, в котором, тем не менее, преобладает поп-музыка."
   ]
  },
  {
   "cell_type": "markdown",
   "metadata": {
    "id": "DlegSvaT_Zcu"
   },
   "source": [
    "Сгруппируйте таблицу `moscow_general` по жанру и посчитайте прослушивания треков каждого жанра методом `count()`. Затем отсортируйте результат в порядке убывания и сохраните его в таблице `moscow_genres`."
   ]
  },
  {
   "cell_type": "code",
   "execution_count": 86,
   "metadata": {
    "id": "r19lIPke_Zcu"
   },
   "outputs": [],
   "source": [
    "moscow_genres = moscow_general.groupby('genre')['genre'].count().sort_values(ascending = False)\n",
    "# одной строкой: группировка таблицы moscow_general по столбцу 'genre', \n",
    "# подсчёт числа значений 'genre' в этой группировке методом count(), \n",
    "# сортировка получившегося Series в порядке убывания и сохранение в moscow_genres"
   ]
  },
  {
   "cell_type": "markdown",
   "metadata": {
    "id": "6kMuomxTiIr8"
   },
   "source": [
    "Выведите на экран первые десять строк `moscow_genres`:"
   ]
  },
  {
   "cell_type": "code",
   "execution_count": 87,
   "metadata": {
    "id": "WhCSooF8_Zcv"
   },
   "outputs": [
    {
     "data": {
      "text/plain": [
       "genre\n",
       "pop            5892\n",
       "dance          4435\n",
       "rock           3965\n",
       "electronic     3786\n",
       "hiphop         2096\n",
       "classical      1616\n",
       "world          1432\n",
       "alternative    1379\n",
       "ruspop         1372\n",
       "rusrap         1161\n",
       "Name: genre, dtype: int64"
      ]
     },
     "execution_count": 87,
     "metadata": {},
     "output_type": "execute_result"
    }
   ],
   "source": [
    "moscow_genres.head(10)# просмотр первых 10 строк moscow_genres"
   ]
  },
  {
   "cell_type": "markdown",
   "metadata": {
    "id": "cnPG2vnN_Zcv"
   },
   "source": [
    "Теперь повторите то же и для Петербурга.\n",
    "\n",
    "Сгруппируйте таблицу `spb_general` по жанру. Посчитайте прослушивания треков каждого жанра. Результат отсортируйте в порядке убывания и сохраните в таблице `spb_genres`:\n"
   ]
  },
  {
   "cell_type": "code",
   "execution_count": 88,
   "metadata": {
    "id": "gluLIpE7_Zcv"
   },
   "outputs": [],
   "source": [
    "spb_genres = spb_general.groupby('genre')['genre'].count().sort_values(ascending = False)# одной строкой: группировка таблицы spb_general по столбцу 'genre', \n",
    "# подсчёт числа значений 'genre' в этой группировке методом count(), \n",
    "# сортировка получившегося Series в порядке убывания и сохранение в spb_genres"
   ]
  },
  {
   "cell_type": "markdown",
   "metadata": {
    "id": "5Doha_ODgyQ8"
   },
   "source": [
    "Выведите на экран первые десять строк `spb_genres`:"
   ]
  },
  {
   "cell_type": "code",
   "execution_count": 89,
   "metadata": {
    "id": "uaGJHjVU_Zcv"
   },
   "outputs": [
    {
     "data": {
      "text/plain": [
       "genre\n",
       "pop            2431\n",
       "dance          1932\n",
       "rock           1879\n",
       "electronic     1736\n",
       "hiphop          960\n",
       "alternative     649\n",
       "classical       646\n",
       "rusrap          564\n",
       "ruspop          538\n",
       "world           515\n",
       "Name: genre, dtype: int64"
      ]
     },
     "execution_count": 89,
     "metadata": {},
     "output_type": "execute_result"
    }
   ],
   "source": [
    "spb_genres.head(10)# просмотр первых 10 строк spb_genres"
   ]
  },
  {
   "cell_type": "markdown",
   "metadata": {
    "id": "RY51YJYu_Zcv"
   },
   "source": [
    "**Выводы**"
   ]
  },
  {
   "cell_type": "markdown",
   "metadata": {
    "id": "nVhnJEm__Zcv"
   },
   "source": [
    "Гипотеза частично подтвердилась:\n",
    "* Поп-музыка — самый популярный жанр в Москве, как и предполагала гипотеза. Более того, в топ-10 жанров встречается близкий жанр — русская популярная музыка.\n",
    "* Вопреки ожиданиям, рэп одинаково популярен в Москве и Петербурге. \n"
   ]
  },
  {
   "cell_type": "markdown",
   "metadata": {
    "id": "ykKQ0N65_Zcv"
   },
   "source": [
    "## Итоги исследования"
   ]
  },
  {
   "cell_type": "markdown",
   "metadata": {
    "id": "tjUwbHb3_Zcv"
   },
   "source": [
    "Вы проверили три гипотезы и установили:\n",
    "\n",
    "1. День недели по-разному влияет на активность пользователей в Москве и Петербурге. \n",
    "\n",
    "Первая гипотеза полностью подтвердилась.\n",
    "\n",
    "2. Музыкальные предпочтения не сильно меняются в течение недели — будь то Москва или Петербург. Небольшие различия заметны в начале недели, по понедельникам:\n",
    "* в Москве слушают музыку жанра “world”,\n",
    "* в Петербурге — джаз и классику.\n",
    "\n",
    "Таким образом, вторая гипотеза подтвердилась лишь отчасти. Этот результат мог оказаться иным, если бы не пропуски в данных.\n",
    "\n",
    "3. Во вкусах пользователей Москвы и Петербурга больше общего чем различий. Вопреки ожиданиям, предпочтения жанров в Петербурге напоминают московские.\n",
    "\n",
    "Третья гипотеза не подтвердилась. Если различия в предпочтениях и существуют, на основной массе пользователей они незаметны.\n",
    "\n",
    "**На практике исследования содержат проверки статистических гипотез.**\n",
    "Из данных одного сервиса не всегда можно сделать вывод о всех жителях города.\n",
    "Проверки статистических гипотез покажут, насколько они достоверны, исходя из имеющихся данных. \n",
    "С методами проверок гипотез вы ещё познакомитесь в следующих темах."
   ]
  }
 ],
 "metadata": {
  "ExecuteTimeLog": [
   {
    "duration": 294,
    "start_time": "2022-01-25T13:12:40.356Z"
   },
   {
    "duration": 234,
    "start_time": "2022-01-25T13:13:21.792Z"
   },
   {
    "duration": 90,
    "start_time": "2022-01-25T13:14:36.080Z"
   },
   {
    "duration": 95,
    "start_time": "2022-01-25T13:16:50.836Z"
   },
   {
    "duration": 241,
    "start_time": "2022-01-25T13:17:23.160Z"
   },
   {
    "duration": 242,
    "start_time": "2022-01-25T13:18:46.630Z"
   },
   {
    "duration": 256,
    "start_time": "2022-01-25T13:19:08.486Z"
   },
   {
    "duration": 256,
    "start_time": "2022-01-25T13:22:45.530Z"
   },
   {
    "duration": 250,
    "start_time": "2022-01-25T13:24:32.174Z"
   },
   {
    "duration": 330,
    "start_time": "2022-01-25T13:33:02.698Z"
   },
   {
    "duration": 244,
    "start_time": "2022-01-25T13:33:05.522Z"
   },
   {
    "duration": 254,
    "start_time": "2022-01-25T13:33:37.990Z"
   },
   {
    "duration": 326,
    "start_time": "2022-01-25T13:33:41.246Z"
   },
   {
    "duration": 286,
    "start_time": "2022-01-25T13:42:56.782Z"
   },
   {
    "duration": 258,
    "start_time": "2022-01-25T13:42:59.462Z"
   },
   {
    "duration": 249,
    "start_time": "2022-01-25T13:44:17.306Z"
   },
   {
    "duration": 292,
    "start_time": "2022-01-25T13:44:21.686Z"
   },
   {
    "duration": 730,
    "start_time": "2022-01-25T13:57:35.778Z"
   },
   {
    "duration": 1751,
    "start_time": "2022-01-25T13:57:36.510Z"
   },
   {
    "duration": 474,
    "start_time": "2022-01-25T13:57:37.790Z"
   },
   {
    "duration": 473,
    "start_time": "2022-01-25T13:57:37.792Z"
   },
   {
    "duration": 471,
    "start_time": "2022-01-25T13:57:37.795Z"
   },
   {
    "duration": 469,
    "start_time": "2022-01-25T13:57:37.798Z"
   },
   {
    "duration": 467,
    "start_time": "2022-01-25T13:57:37.801Z"
   },
   {
    "duration": 465,
    "start_time": "2022-01-25T13:57:37.803Z"
   },
   {
    "duration": 463,
    "start_time": "2022-01-25T13:57:37.807Z"
   },
   {
    "duration": 461,
    "start_time": "2022-01-25T13:57:37.810Z"
   },
   {
    "duration": 459,
    "start_time": "2022-01-25T13:57:37.813Z"
   },
   {
    "duration": 458,
    "start_time": "2022-01-25T13:57:37.815Z"
   },
   {
    "duration": 455,
    "start_time": "2022-01-25T13:57:37.819Z"
   },
   {
    "duration": 455,
    "start_time": "2022-01-25T13:57:37.821Z"
   },
   {
    "duration": 453,
    "start_time": "2022-01-25T13:57:37.824Z"
   },
   {
    "duration": 451,
    "start_time": "2022-01-25T13:57:37.826Z"
   },
   {
    "duration": 449,
    "start_time": "2022-01-25T13:57:37.829Z"
   },
   {
    "duration": 447,
    "start_time": "2022-01-25T13:57:37.832Z"
   },
   {
    "duration": 438,
    "start_time": "2022-01-25T13:57:37.842Z"
   },
   {
    "duration": 436,
    "start_time": "2022-01-25T13:57:37.846Z"
   },
   {
    "duration": 434,
    "start_time": "2022-01-25T13:57:37.849Z"
   },
   {
    "duration": 433,
    "start_time": "2022-01-25T13:57:37.851Z"
   },
   {
    "duration": 430,
    "start_time": "2022-01-25T13:57:37.855Z"
   },
   {
    "duration": 427,
    "start_time": "2022-01-25T13:57:37.859Z"
   },
   {
    "duration": 423,
    "start_time": "2022-01-25T13:57:37.864Z"
   },
   {
    "duration": 420,
    "start_time": "2022-01-25T13:57:37.868Z"
   },
   {
    "duration": 416,
    "start_time": "2022-01-25T13:57:37.873Z"
   },
   {
    "duration": 414,
    "start_time": "2022-01-25T13:57:37.876Z"
   },
   {
    "duration": 411,
    "start_time": "2022-01-25T13:57:37.880Z"
   },
   {
    "duration": 410,
    "start_time": "2022-01-25T13:57:37.882Z"
   },
   {
    "duration": 409,
    "start_time": "2022-01-25T13:57:37.884Z"
   },
   {
    "duration": 407,
    "start_time": "2022-01-25T13:57:37.887Z"
   },
   {
    "duration": 400,
    "start_time": "2022-01-25T13:57:37.895Z"
   },
   {
    "duration": 398,
    "start_time": "2022-01-25T13:57:37.898Z"
   },
   {
    "duration": 396,
    "start_time": "2022-01-25T13:57:37.901Z"
   },
   {
    "duration": 395,
    "start_time": "2022-01-25T13:57:37.903Z"
   },
   {
    "duration": 393,
    "start_time": "2022-01-25T13:57:37.906Z"
   },
   {
    "duration": 392,
    "start_time": "2022-01-25T13:57:37.908Z"
   },
   {
    "duration": 257,
    "start_time": "2022-01-25T13:57:55.790Z"
   },
   {
    "duration": 3,
    "start_time": "2022-01-25T13:58:02.382Z"
   },
   {
    "duration": 2194,
    "start_time": "2022-01-25T13:58:02.387Z"
   },
   {
    "duration": 465,
    "start_time": "2022-01-25T13:58:04.119Z"
   },
   {
    "duration": 464,
    "start_time": "2022-01-25T13:58:04.122Z"
   },
   {
    "duration": 461,
    "start_time": "2022-01-25T13:58:04.126Z"
   },
   {
    "duration": 460,
    "start_time": "2022-01-25T13:58:04.128Z"
   },
   {
    "duration": 459,
    "start_time": "2022-01-25T13:58:04.130Z"
   },
   {
    "duration": 457,
    "start_time": "2022-01-25T13:58:04.133Z"
   },
   {
    "duration": 454,
    "start_time": "2022-01-25T13:58:04.137Z"
   },
   {
    "duration": 452,
    "start_time": "2022-01-25T13:58:04.140Z"
   },
   {
    "duration": 450,
    "start_time": "2022-01-25T13:58:04.144Z"
   },
   {
    "duration": 449,
    "start_time": "2022-01-25T13:58:04.146Z"
   },
   {
    "duration": 447,
    "start_time": "2022-01-25T13:58:04.149Z"
   },
   {
    "duration": 444,
    "start_time": "2022-01-25T13:58:04.153Z"
   },
   {
    "duration": 443,
    "start_time": "2022-01-25T13:58:04.155Z"
   },
   {
    "duration": 441,
    "start_time": "2022-01-25T13:58:04.158Z"
   },
   {
    "duration": 439,
    "start_time": "2022-01-25T13:58:04.161Z"
   },
   {
    "duration": 438,
    "start_time": "2022-01-25T13:58:04.163Z"
   },
   {
    "duration": 435,
    "start_time": "2022-01-25T13:58:04.167Z"
   },
   {
    "duration": 432,
    "start_time": "2022-01-25T13:58:04.171Z"
   },
   {
    "duration": 420,
    "start_time": "2022-01-25T13:58:04.184Z"
   },
   {
    "duration": 418,
    "start_time": "2022-01-25T13:58:04.187Z"
   },
   {
    "duration": 414,
    "start_time": "2022-01-25T13:58:04.192Z"
   },
   {
    "duration": 412,
    "start_time": "2022-01-25T13:58:04.195Z"
   },
   {
    "duration": 410,
    "start_time": "2022-01-25T13:58:04.199Z"
   },
   {
    "duration": 408,
    "start_time": "2022-01-25T13:58:04.201Z"
   },
   {
    "duration": 406,
    "start_time": "2022-01-25T13:58:04.205Z"
   },
   {
    "duration": 405,
    "start_time": "2022-01-25T13:58:04.207Z"
   },
   {
    "duration": 404,
    "start_time": "2022-01-25T13:58:04.209Z"
   },
   {
    "duration": 402,
    "start_time": "2022-01-25T13:58:04.212Z"
   },
   {
    "duration": 400,
    "start_time": "2022-01-25T13:58:04.215Z"
   },
   {
    "duration": 399,
    "start_time": "2022-01-25T13:58:04.217Z"
   },
   {
    "duration": 398,
    "start_time": "2022-01-25T13:58:04.219Z"
   },
   {
    "duration": 396,
    "start_time": "2022-01-25T13:58:04.222Z"
   },
   {
    "duration": 395,
    "start_time": "2022-01-25T13:58:04.224Z"
   },
   {
    "duration": 394,
    "start_time": "2022-01-25T13:58:04.226Z"
   },
   {
    "duration": 431,
    "start_time": "2022-01-25T13:58:04.229Z"
   },
   {
    "duration": 431,
    "start_time": "2022-01-25T13:58:04.231Z"
   },
   {
    "duration": 239,
    "start_time": "2022-01-25T13:58:41.382Z"
   },
   {
    "duration": 3,
    "start_time": "2022-01-25T14:24:27.814Z"
   },
   {
    "duration": 1759,
    "start_time": "2022-01-25T14:24:27.819Z"
   },
   {
    "duration": 472,
    "start_time": "2022-01-25T14:24:29.109Z"
   },
   {
    "duration": 468,
    "start_time": "2022-01-25T14:24:29.114Z"
   },
   {
    "duration": 463,
    "start_time": "2022-01-25T14:24:29.120Z"
   },
   {
    "duration": 461,
    "start_time": "2022-01-25T14:24:29.123Z"
   },
   {
    "duration": 454,
    "start_time": "2022-01-25T14:24:29.131Z"
   },
   {
    "duration": 452,
    "start_time": "2022-01-25T14:24:29.134Z"
   },
   {
    "duration": 447,
    "start_time": "2022-01-25T14:24:29.140Z"
   },
   {
    "duration": 444,
    "start_time": "2022-01-25T14:24:29.144Z"
   },
   {
    "duration": 439,
    "start_time": "2022-01-25T14:24:29.150Z"
   },
   {
    "duration": 436,
    "start_time": "2022-01-25T14:24:29.155Z"
   },
   {
    "duration": 433,
    "start_time": "2022-01-25T14:24:29.159Z"
   },
   {
    "duration": 429,
    "start_time": "2022-01-25T14:24:29.163Z"
   },
   {
    "duration": 427,
    "start_time": "2022-01-25T14:24:29.166Z"
   },
   {
    "duration": 424,
    "start_time": "2022-01-25T14:24:29.170Z"
   },
   {
    "duration": 423,
    "start_time": "2022-01-25T14:24:29.173Z"
   },
   {
    "duration": 421,
    "start_time": "2022-01-25T14:24:29.176Z"
   },
   {
    "duration": 418,
    "start_time": "2022-01-25T14:24:29.180Z"
   },
   {
    "duration": 416,
    "start_time": "2022-01-25T14:24:29.183Z"
   },
   {
    "duration": 398,
    "start_time": "2022-01-25T14:24:29.201Z"
   },
   {
    "duration": 396,
    "start_time": "2022-01-25T14:24:29.205Z"
   },
   {
    "duration": 395,
    "start_time": "2022-01-25T14:24:29.207Z"
   },
   {
    "duration": 394,
    "start_time": "2022-01-25T14:24:29.209Z"
   },
   {
    "duration": 392,
    "start_time": "2022-01-25T14:24:29.212Z"
   },
   {
    "duration": 389,
    "start_time": "2022-01-25T14:24:29.216Z"
   },
   {
    "duration": 388,
    "start_time": "2022-01-25T14:24:29.219Z"
   },
   {
    "duration": 387,
    "start_time": "2022-01-25T14:24:29.221Z"
   },
   {
    "duration": 385,
    "start_time": "2022-01-25T14:24:29.224Z"
   },
   {
    "duration": 384,
    "start_time": "2022-01-25T14:24:29.227Z"
   },
   {
    "duration": 380,
    "start_time": "2022-01-25T14:24:29.232Z"
   },
   {
    "duration": 378,
    "start_time": "2022-01-25T14:24:29.235Z"
   },
   {
    "duration": 376,
    "start_time": "2022-01-25T14:24:29.238Z"
   },
   {
    "duration": 376,
    "start_time": "2022-01-25T14:24:29.240Z"
   },
   {
    "duration": 374,
    "start_time": "2022-01-25T14:24:29.243Z"
   },
   {
    "duration": 413,
    "start_time": "2022-01-25T14:24:29.248Z"
   },
   {
    "duration": 411,
    "start_time": "2022-01-25T14:24:29.251Z"
   },
   {
    "duration": 410,
    "start_time": "2022-01-25T14:24:29.253Z"
   },
   {
    "duration": 364,
    "start_time": "2022-01-25T14:24:41.670Z"
   },
   {
    "duration": 3,
    "start_time": "2022-01-25T14:27:54.498Z"
   },
   {
    "duration": 1970,
    "start_time": "2022-01-25T14:28:00.582Z"
   },
   {
    "duration": 244,
    "start_time": "2022-01-25T14:28:10.886Z"
   },
   {
    "duration": 698,
    "start_time": "2022-01-25T14:36:29.794Z"
   },
   {
    "duration": 138,
    "start_time": "2022-01-25T14:37:44.046Z"
   },
   {
    "duration": 152,
    "start_time": "2022-01-25T14:37:47.470Z"
   },
   {
    "duration": 16,
    "start_time": "2022-01-25T14:37:51.242Z"
   },
   {
    "duration": 24,
    "start_time": "2022-01-25T14:42:08.202Z"
   },
   {
    "duration": 6,
    "start_time": "2022-01-25T15:31:57.309Z"
   },
   {
    "duration": 3,
    "start_time": "2022-01-25T15:32:44.446Z"
   },
   {
    "duration": 3,
    "start_time": "2022-01-25T15:32:49.066Z"
   },
   {
    "duration": 5,
    "start_time": "2022-01-25T15:33:26.598Z"
   },
   {
    "duration": 4,
    "start_time": "2022-01-25T15:50:44.654Z"
   },
   {
    "duration": 23,
    "start_time": "2022-01-25T15:52:50.270Z"
   },
   {
    "duration": 24,
    "start_time": "2022-01-25T16:00:48.406Z"
   },
   {
    "duration": 23,
    "start_time": "2022-01-25T16:01:17.278Z"
   },
   {
    "duration": 6774,
    "start_time": "2022-01-25T16:01:40.477Z"
   },
   {
    "duration": 24,
    "start_time": "2022-01-25T16:02:01.725Z"
   },
   {
    "duration": 17,
    "start_time": "2022-01-25T16:03:41.486Z"
   },
   {
    "duration": 28,
    "start_time": "2022-01-25T16:03:46.110Z"
   },
   {
    "duration": 78,
    "start_time": "2022-01-25T16:05:01.902Z"
   },
   {
    "duration": 67,
    "start_time": "2022-01-25T16:05:10.457Z"
   },
   {
    "duration": 255,
    "start_time": "2022-01-25T16:05:50.490Z"
   },
   {
    "duration": 68,
    "start_time": "2022-01-25T16:06:22.042Z"
   },
   {
    "duration": 56,
    "start_time": "2022-01-25T16:06:55.802Z"
   },
   {
    "duration": 7,
    "start_time": "2022-01-25T16:08:13.182Z"
   },
   {
    "duration": 261,
    "start_time": "2022-01-25T16:20:40.398Z"
   },
   {
    "duration": 3,
    "start_time": "2022-01-25T16:20:53.130Z"
   },
   {
    "duration": 495,
    "start_time": "2022-01-25T16:24:03.310Z"
   },
   {
    "duration": 11,
    "start_time": "2022-01-25T16:33:03.947Z"
   },
   {
    "duration": 11,
    "start_time": "2022-01-25T16:33:13.810Z"
   },
   {
    "duration": 8,
    "start_time": "2022-01-25T16:35:28.174Z"
   },
   {
    "duration": 38,
    "start_time": "2022-01-25T16:38:29.186Z"
   },
   {
    "duration": 35,
    "start_time": "2022-01-25T16:39:51.750Z"
   },
   {
    "duration": 261,
    "start_time": "2022-01-25T16:46:48.834Z"
   },
   {
    "duration": 4,
    "start_time": "2022-01-25T16:47:47.989Z"
   },
   {
    "duration": 19,
    "start_time": "2022-01-25T16:52:45.386Z"
   },
   {
    "duration": 15,
    "start_time": "2022-01-25T16:52:47.850Z"
   },
   {
    "duration": 16,
    "start_time": "2022-01-25T16:52:54.602Z"
   },
   {
    "duration": 16,
    "start_time": "2022-01-25T16:52:57.046Z"
   },
   {
    "duration": 18,
    "start_time": "2022-01-25T16:52:59.406Z"
   },
   {
    "duration": 15,
    "start_time": "2022-01-25T16:53:02.102Z"
   },
   {
    "duration": 292,
    "start_time": "2022-01-26T06:52:11.883Z"
   },
   {
    "duration": 258,
    "start_time": "2022-01-26T06:52:37.315Z"
   },
   {
    "duration": 368,
    "start_time": "2022-01-26T06:52:52.243Z"
   },
   {
    "duration": 271,
    "start_time": "2022-01-26T06:58:01.178Z"
   },
   {
    "duration": 302,
    "start_time": "2022-01-26T07:03:38.618Z"
   },
   {
    "duration": 275,
    "start_time": "2022-01-26T07:03:51.475Z"
   },
   {
    "duration": 589,
    "start_time": "2022-01-26T07:06:12.627Z"
   },
   {
    "duration": 133,
    "start_time": "2022-01-26T07:06:13.218Z"
   },
   {
    "duration": 17,
    "start_time": "2022-01-26T07:06:13.353Z"
   },
   {
    "duration": 31,
    "start_time": "2022-01-26T07:06:13.372Z"
   },
   {
    "duration": 6,
    "start_time": "2022-01-26T07:06:13.405Z"
   },
   {
    "duration": 28,
    "start_time": "2022-01-26T07:06:13.412Z"
   },
   {
    "duration": 5,
    "start_time": "2022-01-26T07:06:13.442Z"
   },
   {
    "duration": 33,
    "start_time": "2022-01-26T07:06:13.450Z"
   },
   {
    "duration": 7484,
    "start_time": "2022-01-26T07:06:13.485Z"
   },
   {
    "duration": -42,
    "start_time": "2022-01-26T07:06:21.015Z"
   },
   {
    "duration": -45,
    "start_time": "2022-01-26T07:06:21.019Z"
   },
   {
    "duration": -48,
    "start_time": "2022-01-26T07:06:21.023Z"
   },
   {
    "duration": -51,
    "start_time": "2022-01-26T07:06:21.027Z"
   },
   {
    "duration": -57,
    "start_time": "2022-01-26T07:06:21.034Z"
   },
   {
    "duration": -60,
    "start_time": "2022-01-26T07:06:21.037Z"
   },
   {
    "duration": -63,
    "start_time": "2022-01-26T07:06:21.041Z"
   },
   {
    "duration": -67,
    "start_time": "2022-01-26T07:06:21.046Z"
   },
   {
    "duration": -70,
    "start_time": "2022-01-26T07:06:21.050Z"
   },
   {
    "duration": -72,
    "start_time": "2022-01-26T07:06:21.053Z"
   },
   {
    "duration": -73,
    "start_time": "2022-01-26T07:06:21.056Z"
   },
   {
    "duration": -75,
    "start_time": "2022-01-26T07:06:21.058Z"
   },
   {
    "duration": -78,
    "start_time": "2022-01-26T07:06:21.062Z"
   },
   {
    "duration": -81,
    "start_time": "2022-01-26T07:06:21.066Z"
   },
   {
    "duration": -83,
    "start_time": "2022-01-26T07:06:21.069Z"
   },
   {
    "duration": -91,
    "start_time": "2022-01-26T07:06:21.078Z"
   },
   {
    "duration": -94,
    "start_time": "2022-01-26T07:06:21.082Z"
   },
   {
    "duration": -95,
    "start_time": "2022-01-26T07:06:21.084Z"
   },
   {
    "duration": -97,
    "start_time": "2022-01-26T07:06:21.087Z"
   },
   {
    "duration": -98,
    "start_time": "2022-01-26T07:06:21.089Z"
   },
   {
    "duration": -99,
    "start_time": "2022-01-26T07:06:21.092Z"
   },
   {
    "duration": -100,
    "start_time": "2022-01-26T07:06:21.094Z"
   },
   {
    "duration": -103,
    "start_time": "2022-01-26T07:06:21.098Z"
   },
   {
    "duration": -105,
    "start_time": "2022-01-26T07:06:21.101Z"
   },
   {
    "duration": -106,
    "start_time": "2022-01-26T07:06:21.103Z"
   },
   {
    "duration": -108,
    "start_time": "2022-01-26T07:06:21.106Z"
   },
   {
    "duration": -110,
    "start_time": "2022-01-26T07:06:21.109Z"
   },
   {
    "duration": -112,
    "start_time": "2022-01-26T07:06:21.112Z"
   },
   {
    "duration": -114,
    "start_time": "2022-01-26T07:06:21.115Z"
   },
   {
    "duration": 5,
    "start_time": "2022-01-26T07:06:39.579Z"
   },
   {
    "duration": 8,
    "start_time": "2022-01-26T07:07:52.483Z"
   },
   {
    "duration": 14,
    "start_time": "2022-01-26T07:10:57.687Z"
   },
   {
    "duration": 21,
    "start_time": "2022-01-26T07:11:09.195Z"
   },
   {
    "duration": 17,
    "start_time": "2022-01-26T07:12:59.147Z"
   },
   {
    "duration": 5,
    "start_time": "2022-01-26T07:17:25.371Z"
   },
   {
    "duration": 4,
    "start_time": "2022-01-26T07:17:28.397Z"
   },
   {
    "duration": 9,
    "start_time": "2022-01-26T07:17:34.099Z"
   },
   {
    "duration": 5,
    "start_time": "2022-01-26T07:18:20.379Z"
   },
   {
    "duration": 18,
    "start_time": "2022-01-26T07:32:00.831Z"
   },
   {
    "duration": 254,
    "start_time": "2022-01-26T07:32:51.036Z"
   },
   {
    "duration": 16,
    "start_time": "2022-01-26T07:35:51.868Z"
   },
   {
    "duration": 14,
    "start_time": "2022-01-26T07:36:02.504Z"
   },
   {
    "duration": 13,
    "start_time": "2022-01-26T07:43:56.152Z"
   },
   {
    "duration": 13,
    "start_time": "2022-01-26T07:43:59.160Z"
   },
   {
    "duration": 597,
    "start_time": "2022-01-26T07:44:47.201Z"
   },
   {
    "duration": 141,
    "start_time": "2022-01-26T07:44:47.800Z"
   },
   {
    "duration": 17,
    "start_time": "2022-01-26T07:44:47.943Z"
   },
   {
    "duration": 36,
    "start_time": "2022-01-26T07:44:47.962Z"
   },
   {
    "duration": 5,
    "start_time": "2022-01-26T07:44:48.000Z"
   },
   {
    "duration": 24,
    "start_time": "2022-01-26T07:44:48.006Z"
   },
   {
    "duration": 4,
    "start_time": "2022-01-26T07:44:48.032Z"
   },
   {
    "duration": 25,
    "start_time": "2022-01-26T07:44:48.039Z"
   },
   {
    "duration": 6677,
    "start_time": "2022-01-26T07:44:48.067Z"
   },
   {
    "duration": -41,
    "start_time": "2022-01-26T07:44:54.788Z"
   },
   {
    "duration": -44,
    "start_time": "2022-01-26T07:44:54.792Z"
   },
   {
    "duration": -46,
    "start_time": "2022-01-26T07:44:54.795Z"
   },
   {
    "duration": -48,
    "start_time": "2022-01-26T07:44:54.798Z"
   },
   {
    "duration": -51,
    "start_time": "2022-01-26T07:44:54.802Z"
   },
   {
    "duration": -55,
    "start_time": "2022-01-26T07:44:54.807Z"
   },
   {
    "duration": -58,
    "start_time": "2022-01-26T07:44:54.810Z"
   },
   {
    "duration": -60,
    "start_time": "2022-01-26T07:44:54.814Z"
   },
   {
    "duration": -68,
    "start_time": "2022-01-26T07:44:54.823Z"
   },
   {
    "duration": -70,
    "start_time": "2022-01-26T07:44:54.826Z"
   },
   {
    "duration": -71,
    "start_time": "2022-01-26T07:44:54.828Z"
   },
   {
    "duration": -73,
    "start_time": "2022-01-26T07:44:54.831Z"
   },
   {
    "duration": -75,
    "start_time": "2022-01-26T07:44:54.834Z"
   },
   {
    "duration": -78,
    "start_time": "2022-01-26T07:44:54.838Z"
   },
   {
    "duration": -80,
    "start_time": "2022-01-26T07:44:54.841Z"
   },
   {
    "duration": -82,
    "start_time": "2022-01-26T07:44:54.844Z"
   },
   {
    "duration": -85,
    "start_time": "2022-01-26T07:44:54.848Z"
   },
   {
    "duration": -87,
    "start_time": "2022-01-26T07:44:54.851Z"
   },
   {
    "duration": -89,
    "start_time": "2022-01-26T07:44:54.854Z"
   },
   {
    "duration": -97,
    "start_time": "2022-01-26T07:44:54.863Z"
   },
   {
    "duration": -99,
    "start_time": "2022-01-26T07:44:54.866Z"
   },
   {
    "duration": -100,
    "start_time": "2022-01-26T07:44:54.868Z"
   },
   {
    "duration": -103,
    "start_time": "2022-01-26T07:44:54.872Z"
   },
   {
    "duration": -109,
    "start_time": "2022-01-26T07:44:54.879Z"
   },
   {
    "duration": -111,
    "start_time": "2022-01-26T07:44:54.882Z"
   },
   {
    "duration": -111,
    "start_time": "2022-01-26T07:44:54.884Z"
   },
   {
    "duration": -114,
    "start_time": "2022-01-26T07:44:54.888Z"
   },
   {
    "duration": -120,
    "start_time": "2022-01-26T07:44:54.895Z"
   },
   {
    "duration": -122,
    "start_time": "2022-01-26T07:44:54.897Z"
   },
   {
    "duration": 308,
    "start_time": "2022-01-26T07:45:06.910Z"
   },
   {
    "duration": 256,
    "start_time": "2022-01-26T07:45:14.722Z"
   },
   {
    "duration": 4,
    "start_time": "2022-01-26T07:48:00.186Z"
   },
   {
    "duration": 297,
    "start_time": "2022-01-26T07:48:03.689Z"
   },
   {
    "duration": 264,
    "start_time": "2022-01-26T07:48:06.921Z"
   },
   {
    "duration": 601,
    "start_time": "2022-01-26T07:48:13.769Z"
   },
   {
    "duration": 141,
    "start_time": "2022-01-26T07:48:14.372Z"
   },
   {
    "duration": 17,
    "start_time": "2022-01-26T07:48:14.515Z"
   },
   {
    "duration": 26,
    "start_time": "2022-01-26T07:48:14.534Z"
   },
   {
    "duration": 5,
    "start_time": "2022-01-26T07:48:14.562Z"
   },
   {
    "duration": 46,
    "start_time": "2022-01-26T07:48:14.569Z"
   },
   {
    "duration": 4,
    "start_time": "2022-01-26T07:48:14.617Z"
   },
   {
    "duration": 24,
    "start_time": "2022-01-26T07:48:14.623Z"
   },
   {
    "duration": 7004,
    "start_time": "2022-01-26T07:48:14.649Z"
   },
   {
    "duration": -40,
    "start_time": "2022-01-26T07:48:21.695Z"
   },
   {
    "duration": -41,
    "start_time": "2022-01-26T07:48:21.697Z"
   },
   {
    "duration": -43,
    "start_time": "2022-01-26T07:48:21.700Z"
   },
   {
    "duration": -45,
    "start_time": "2022-01-26T07:48:21.703Z"
   },
   {
    "duration": -49,
    "start_time": "2022-01-26T07:48:21.708Z"
   },
   {
    "duration": -54,
    "start_time": "2022-01-26T07:48:21.714Z"
   },
   {
    "duration": -56,
    "start_time": "2022-01-26T07:48:21.717Z"
   },
   {
    "duration": -59,
    "start_time": "2022-01-26T07:48:21.720Z"
   },
   {
    "duration": -62,
    "start_time": "2022-01-26T07:48:21.724Z"
   },
   {
    "duration": -65,
    "start_time": "2022-01-26T07:48:21.728Z"
   },
   {
    "duration": -66,
    "start_time": "2022-01-26T07:48:21.730Z"
   },
   {
    "duration": -68,
    "start_time": "2022-01-26T07:48:21.733Z"
   },
   {
    "duration": -75,
    "start_time": "2022-01-26T07:48:21.741Z"
   },
   {
    "duration": -78,
    "start_time": "2022-01-26T07:48:21.745Z"
   },
   {
    "duration": -79,
    "start_time": "2022-01-26T07:48:21.747Z"
   },
   {
    "duration": -81,
    "start_time": "2022-01-26T07:48:21.750Z"
   },
   {
    "duration": -82,
    "start_time": "2022-01-26T07:48:21.753Z"
   },
   {
    "duration": -82,
    "start_time": "2022-01-26T07:48:21.755Z"
   },
   {
    "duration": -83,
    "start_time": "2022-01-26T07:48:21.757Z"
   },
   {
    "duration": -85,
    "start_time": "2022-01-26T07:48:21.761Z"
   },
   {
    "duration": -86,
    "start_time": "2022-01-26T07:48:21.763Z"
   },
   {
    "duration": -87,
    "start_time": "2022-01-26T07:48:21.765Z"
   },
   {
    "duration": -89,
    "start_time": "2022-01-26T07:48:21.768Z"
   },
   {
    "duration": -91,
    "start_time": "2022-01-26T07:48:21.771Z"
   },
   {
    "duration": -92,
    "start_time": "2022-01-26T07:48:21.773Z"
   },
   {
    "duration": -97,
    "start_time": "2022-01-26T07:48:21.778Z"
   },
   {
    "duration": -98,
    "start_time": "2022-01-26T07:48:21.781Z"
   },
   {
    "duration": -100,
    "start_time": "2022-01-26T07:48:21.783Z"
   },
   {
    "duration": -102,
    "start_time": "2022-01-26T07:48:21.786Z"
   },
   {
    "duration": 261,
    "start_time": "2022-01-26T07:48:25.430Z"
   },
   {
    "duration": 251,
    "start_time": "2022-01-26T07:48:29.213Z"
   },
   {
    "duration": 4,
    "start_time": "2022-01-26T07:51:42.529Z"
   },
   {
    "duration": 4,
    "start_time": "2022-01-26T07:55:09.397Z"
   },
   {
    "duration": 301,
    "start_time": "2022-01-26T07:55:17.489Z"
   },
   {
    "duration": 279,
    "start_time": "2022-01-26T07:55:20.733Z"
   },
   {
    "duration": 20,
    "start_time": "2022-01-26T07:55:54.063Z"
   },
   {
    "duration": 19,
    "start_time": "2022-01-26T07:56:01.387Z"
   },
   {
    "duration": 21,
    "start_time": "2022-01-26T07:56:41.122Z"
   },
   {
    "duration": 14,
    "start_time": "2022-01-26T07:56:45.757Z"
   },
   {
    "duration": 18,
    "start_time": "2022-01-26T07:57:40.286Z"
   },
   {
    "duration": 13,
    "start_time": "2022-01-26T07:57:54.889Z"
   },
   {
    "duration": 255,
    "start_time": "2022-01-26T08:09:17.558Z"
   },
   {
    "duration": 268,
    "start_time": "2022-01-26T08:09:20.925Z"
   },
   {
    "duration": 275,
    "start_time": "2022-01-26T08:12:17.422Z"
   },
   {
    "duration": 403,
    "start_time": "2022-01-26T08:12:45.357Z"
   },
   {
    "duration": 602,
    "start_time": "2022-01-26T08:12:52.612Z"
   },
   {
    "duration": 137,
    "start_time": "2022-01-26T08:12:53.216Z"
   },
   {
    "duration": 17,
    "start_time": "2022-01-26T08:12:53.355Z"
   },
   {
    "duration": 31,
    "start_time": "2022-01-26T08:12:53.374Z"
   },
   {
    "duration": 3,
    "start_time": "2022-01-26T08:12:53.407Z"
   },
   {
    "duration": 21,
    "start_time": "2022-01-26T08:12:53.412Z"
   },
   {
    "duration": 4,
    "start_time": "2022-01-26T08:12:53.435Z"
   },
   {
    "duration": 25,
    "start_time": "2022-01-26T08:12:53.441Z"
   },
   {
    "duration": 6478,
    "start_time": "2022-01-26T08:12:53.469Z"
   },
   {
    "duration": -36,
    "start_time": "2022-01-26T08:12:59.986Z"
   },
   {
    "duration": -43,
    "start_time": "2022-01-26T08:12:59.994Z"
   },
   {
    "duration": -45,
    "start_time": "2022-01-26T08:12:59.997Z"
   },
   {
    "duration": -47,
    "start_time": "2022-01-26T08:13:00.000Z"
   },
   {
    "duration": -58,
    "start_time": "2022-01-26T08:13:00.012Z"
   },
   {
    "duration": -67,
    "start_time": "2022-01-26T08:13:00.021Z"
   },
   {
    "duration": -78,
    "start_time": "2022-01-26T08:13:00.033Z"
   },
   {
    "duration": -85,
    "start_time": "2022-01-26T08:13:00.042Z"
   },
   {
    "duration": -88,
    "start_time": "2022-01-26T08:13:00.045Z"
   },
   {
    "duration": -90,
    "start_time": "2022-01-26T08:13:00.048Z"
   },
   {
    "duration": -92,
    "start_time": "2022-01-26T08:13:00.051Z"
   },
   {
    "duration": -102,
    "start_time": "2022-01-26T08:13:00.062Z"
   },
   {
    "duration": -105,
    "start_time": "2022-01-26T08:13:00.066Z"
   },
   {
    "duration": -108,
    "start_time": "2022-01-26T08:13:00.070Z"
   },
   {
    "duration": -115,
    "start_time": "2022-01-26T08:13:00.078Z"
   },
   {
    "duration": -118,
    "start_time": "2022-01-26T08:13:00.082Z"
   },
   {
    "duration": -122,
    "start_time": "2022-01-26T08:13:00.087Z"
   },
   {
    "duration": -129,
    "start_time": "2022-01-26T08:13:00.096Z"
   },
   {
    "duration": -131,
    "start_time": "2022-01-26T08:13:00.099Z"
   },
   {
    "duration": -134,
    "start_time": "2022-01-26T08:13:00.103Z"
   },
   {
    "duration": -141,
    "start_time": "2022-01-26T08:13:00.111Z"
   },
   {
    "duration": -143,
    "start_time": "2022-01-26T08:13:00.114Z"
   },
   {
    "duration": -144,
    "start_time": "2022-01-26T08:13:00.116Z"
   },
   {
    "duration": -147,
    "start_time": "2022-01-26T08:13:00.120Z"
   },
   {
    "duration": -155,
    "start_time": "2022-01-26T08:13:00.129Z"
   },
   {
    "duration": -158,
    "start_time": "2022-01-26T08:13:00.133Z"
   },
   {
    "duration": -160,
    "start_time": "2022-01-26T08:13:00.136Z"
   },
   {
    "duration": -167,
    "start_time": "2022-01-26T08:13:00.144Z"
   },
   {
    "duration": -169,
    "start_time": "2022-01-26T08:13:00.147Z"
   },
   {
    "duration": 254,
    "start_time": "2022-01-26T08:13:08.157Z"
   },
   {
    "duration": 354,
    "start_time": "2022-01-26T08:14:18.145Z"
   },
   {
    "duration": 572,
    "start_time": "2022-01-26T08:14:29.546Z"
   },
   {
    "duration": 146,
    "start_time": "2022-01-26T08:14:30.120Z"
   },
   {
    "duration": 17,
    "start_time": "2022-01-26T08:14:30.268Z"
   },
   {
    "duration": 33,
    "start_time": "2022-01-26T08:14:30.287Z"
   },
   {
    "duration": 6,
    "start_time": "2022-01-26T08:14:30.322Z"
   },
   {
    "duration": 36,
    "start_time": "2022-01-26T08:14:30.330Z"
   },
   {
    "duration": 9,
    "start_time": "2022-01-26T08:14:30.367Z"
   },
   {
    "duration": 29,
    "start_time": "2022-01-26T08:14:30.378Z"
   },
   {
    "duration": 6574,
    "start_time": "2022-01-26T08:14:30.409Z"
   },
   {
    "duration": -33,
    "start_time": "2022-01-26T08:14:37.019Z"
   },
   {
    "duration": -37,
    "start_time": "2022-01-26T08:14:37.024Z"
   },
   {
    "duration": -39,
    "start_time": "2022-01-26T08:14:37.027Z"
   },
   {
    "duration": -42,
    "start_time": "2022-01-26T08:14:37.031Z"
   },
   {
    "duration": -45,
    "start_time": "2022-01-26T08:14:37.034Z"
   },
   {
    "duration": -47,
    "start_time": "2022-01-26T08:14:37.037Z"
   },
   {
    "duration": -49,
    "start_time": "2022-01-26T08:14:37.040Z"
   },
   {
    "duration": -51,
    "start_time": "2022-01-26T08:14:37.043Z"
   },
   {
    "duration": -53,
    "start_time": "2022-01-26T08:14:37.046Z"
   },
   {
    "duration": -54,
    "start_time": "2022-01-26T08:14:37.048Z"
   },
   {
    "duration": -56,
    "start_time": "2022-01-26T08:14:37.050Z"
   },
   {
    "duration": -58,
    "start_time": "2022-01-26T08:14:37.053Z"
   },
   {
    "duration": -59,
    "start_time": "2022-01-26T08:14:37.055Z"
   },
   {
    "duration": -61,
    "start_time": "2022-01-26T08:14:37.058Z"
   },
   {
    "duration": -63,
    "start_time": "2022-01-26T08:14:37.061Z"
   },
   {
    "duration": -65,
    "start_time": "2022-01-26T08:14:37.063Z"
   },
   {
    "duration": -67,
    "start_time": "2022-01-26T08:14:37.066Z"
   },
   {
    "duration": -75,
    "start_time": "2022-01-26T08:14:37.075Z"
   },
   {
    "duration": -77,
    "start_time": "2022-01-26T08:14:37.078Z"
   },
   {
    "duration": -79,
    "start_time": "2022-01-26T08:14:37.081Z"
   },
   {
    "duration": -81,
    "start_time": "2022-01-26T08:14:37.084Z"
   },
   {
    "duration": -82,
    "start_time": "2022-01-26T08:14:37.086Z"
   },
   {
    "duration": -85,
    "start_time": "2022-01-26T08:14:37.089Z"
   },
   {
    "duration": -87,
    "start_time": "2022-01-26T08:14:37.092Z"
   },
   {
    "duration": -89,
    "start_time": "2022-01-26T08:14:37.095Z"
   },
   {
    "duration": -90,
    "start_time": "2022-01-26T08:14:37.097Z"
   },
   {
    "duration": -92,
    "start_time": "2022-01-26T08:14:37.100Z"
   },
   {
    "duration": -93,
    "start_time": "2022-01-26T08:14:37.102Z"
   },
   {
    "duration": -94,
    "start_time": "2022-01-26T08:14:37.104Z"
   },
   {
    "duration": 6621,
    "start_time": "2022-01-26T08:14:46.351Z"
   },
   {
    "duration": -36,
    "start_time": "2022-01-26T08:14:53.010Z"
   },
   {
    "duration": 24,
    "start_time": "2022-01-26T08:15:05.358Z"
   },
   {
    "duration": 69,
    "start_time": "2022-01-26T08:15:12.389Z"
   },
   {
    "duration": 69,
    "start_time": "2022-01-26T08:15:15.410Z"
   },
   {
    "duration": 60,
    "start_time": "2022-01-26T08:15:19.294Z"
   },
   {
    "duration": 6592,
    "start_time": "2022-01-26T08:15:22.543Z"
   },
   {
    "duration": -38,
    "start_time": "2022-01-26T08:15:29.175Z"
   },
   {
    "duration": -18,
    "start_time": "2022-01-26T08:15:39.075Z"
   },
   {
    "duration": 36,
    "start_time": "2022-01-26T08:15:40.467Z"
   },
   {
    "duration": 271,
    "start_time": "2022-01-26T08:15:43.663Z"
   },
   {
    "duration": 4,
    "start_time": "2022-01-26T08:15:54.687Z"
   },
   {
    "duration": -41,
    "start_time": "2022-01-26T08:16:06.706Z"
   },
   {
    "duration": -45,
    "start_time": "2022-01-26T08:16:06.711Z"
   },
   {
    "duration": -34,
    "start_time": "2022-01-26T08:16:16.467Z"
   },
   {
    "duration": -48,
    "start_time": "2022-01-26T08:16:16.482Z"
   },
   {
    "duration": -52,
    "start_time": "2022-01-26T08:16:16.487Z"
   },
   {
    "duration": -55,
    "start_time": "2022-01-26T08:16:16.491Z"
   },
   {
    "duration": -57,
    "start_time": "2022-01-26T08:16:16.494Z"
   },
   {
    "duration": -59,
    "start_time": "2022-01-26T08:16:16.497Z"
   },
   {
    "duration": -61,
    "start_time": "2022-01-26T08:16:16.500Z"
   },
   {
    "duration": -63,
    "start_time": "2022-01-26T08:16:16.503Z"
   },
   {
    "duration": -65,
    "start_time": "2022-01-26T08:16:16.506Z"
   },
   {
    "duration": -67,
    "start_time": "2022-01-26T08:16:16.509Z"
   },
   {
    "duration": -69,
    "start_time": "2022-01-26T08:16:16.512Z"
   },
   {
    "duration": -72,
    "start_time": "2022-01-26T08:16:16.516Z"
   },
   {
    "duration": -73,
    "start_time": "2022-01-26T08:16:16.518Z"
   },
   {
    "duration": -76,
    "start_time": "2022-01-26T08:16:16.522Z"
   },
   {
    "duration": -77,
    "start_time": "2022-01-26T08:16:16.524Z"
   },
   {
    "duration": -78,
    "start_time": "2022-01-26T08:16:16.526Z"
   },
   {
    "duration": -89,
    "start_time": "2022-01-26T08:16:16.539Z"
   },
   {
    "duration": -91,
    "start_time": "2022-01-26T08:16:16.543Z"
   },
   {
    "duration": -94,
    "start_time": "2022-01-26T08:16:16.547Z"
   },
   {
    "duration": -96,
    "start_time": "2022-01-26T08:16:16.550Z"
   },
   {
    "duration": -98,
    "start_time": "2022-01-26T08:16:16.553Z"
   },
   {
    "duration": -98,
    "start_time": "2022-01-26T08:16:16.555Z"
   },
   {
    "duration": -98,
    "start_time": "2022-01-26T08:16:16.557Z"
   },
   {
    "duration": -100,
    "start_time": "2022-01-26T08:16:16.560Z"
   },
   {
    "duration": -101,
    "start_time": "2022-01-26T08:16:16.563Z"
   },
   {
    "duration": -101,
    "start_time": "2022-01-26T08:16:16.565Z"
   },
   {
    "duration": -103,
    "start_time": "2022-01-26T08:16:16.568Z"
   },
   {
    "duration": -103,
    "start_time": "2022-01-26T08:16:16.570Z"
   },
   {
    "duration": -105,
    "start_time": "2022-01-26T08:16:16.573Z"
   },
   {
    "duration": -105,
    "start_time": "2022-01-26T08:16:16.575Z"
   },
   {
    "duration": -106,
    "start_time": "2022-01-26T08:16:16.577Z"
   },
   {
    "duration": -81,
    "start_time": "2022-01-26T08:16:16.580Z"
   },
   {
    "duration": -83,
    "start_time": "2022-01-26T08:16:16.583Z"
   },
   {
    "duration": -83,
    "start_time": "2022-01-26T08:16:16.585Z"
   },
   {
    "duration": -84,
    "start_time": "2022-01-26T08:16:16.588Z"
   },
   {
    "duration": -87,
    "start_time": "2022-01-26T08:16:16.592Z"
   },
   {
    "duration": -88,
    "start_time": "2022-01-26T08:16:16.595Z"
   },
   {
    "duration": -89,
    "start_time": "2022-01-26T08:16:16.597Z"
   },
   {
    "duration": 258,
    "start_time": "2022-01-26T08:16:23.487Z"
   },
   {
    "duration": 578,
    "start_time": "2022-01-26T08:16:43.764Z"
   },
   {
    "duration": 134,
    "start_time": "2022-01-26T08:16:44.344Z"
   },
   {
    "duration": 24,
    "start_time": "2022-01-26T08:16:44.483Z"
   },
   {
    "duration": 26,
    "start_time": "2022-01-26T08:16:44.508Z"
   },
   {
    "duration": 5,
    "start_time": "2022-01-26T08:16:44.536Z"
   },
   {
    "duration": 21,
    "start_time": "2022-01-26T08:16:44.543Z"
   },
   {
    "duration": 34,
    "start_time": "2022-01-26T08:16:44.566Z"
   },
   {
    "duration": 25,
    "start_time": "2022-01-26T08:16:44.604Z"
   },
   {
    "duration": 6871,
    "start_time": "2022-01-26T08:16:44.631Z"
   },
   {
    "duration": -27,
    "start_time": "2022-01-26T08:16:51.532Z"
   },
   {
    "duration": -30,
    "start_time": "2022-01-26T08:16:51.536Z"
   },
   {
    "duration": -31,
    "start_time": "2022-01-26T08:16:51.538Z"
   },
   {
    "duration": -32,
    "start_time": "2022-01-26T08:16:51.540Z"
   },
   {
    "duration": -34,
    "start_time": "2022-01-26T08:16:51.543Z"
   },
   {
    "duration": -35,
    "start_time": "2022-01-26T08:16:51.545Z"
   },
   {
    "duration": -37,
    "start_time": "2022-01-26T08:16:51.548Z"
   },
   {
    "duration": -47,
    "start_time": "2022-01-26T08:16:51.558Z"
   },
   {
    "duration": -49,
    "start_time": "2022-01-26T08:16:51.561Z"
   },
   {
    "duration": -49,
    "start_time": "2022-01-26T08:16:51.563Z"
   },
   {
    "duration": -52,
    "start_time": "2022-01-26T08:16:51.567Z"
   },
   {
    "duration": -53,
    "start_time": "2022-01-26T08:16:51.569Z"
   },
   {
    "duration": -55,
    "start_time": "2022-01-26T08:16:51.572Z"
   },
   {
    "duration": -56,
    "start_time": "2022-01-26T08:16:51.574Z"
   },
   {
    "duration": -58,
    "start_time": "2022-01-26T08:16:51.576Z"
   },
   {
    "duration": -59,
    "start_time": "2022-01-26T08:16:51.578Z"
   },
   {
    "duration": -60,
    "start_time": "2022-01-26T08:16:51.581Z"
   },
   {
    "duration": -62,
    "start_time": "2022-01-26T08:16:51.584Z"
   },
   {
    "duration": -63,
    "start_time": "2022-01-26T08:16:51.586Z"
   },
   {
    "duration": -65,
    "start_time": "2022-01-26T08:16:51.589Z"
   },
   {
    "duration": -67,
    "start_time": "2022-01-26T08:16:51.592Z"
   },
   {
    "duration": -69,
    "start_time": "2022-01-26T08:16:51.595Z"
   },
   {
    "duration": -71,
    "start_time": "2022-01-26T08:16:51.598Z"
   },
   {
    "duration": -74,
    "start_time": "2022-01-26T08:16:51.601Z"
   },
   {
    "duration": -75,
    "start_time": "2022-01-26T08:16:51.603Z"
   },
   {
    "duration": -76,
    "start_time": "2022-01-26T08:16:51.606Z"
   },
   {
    "duration": -77,
    "start_time": "2022-01-26T08:16:51.608Z"
   },
   {
    "duration": -80,
    "start_time": "2022-01-26T08:16:51.611Z"
   },
   {
    "duration": -82,
    "start_time": "2022-01-26T08:16:51.614Z"
   },
   {
    "duration": 9,
    "start_time": "2022-01-26T08:16:59.152Z"
   },
   {
    "duration": 20,
    "start_time": "2022-01-26T08:17:08.136Z"
   },
   {
    "duration": 17,
    "start_time": "2022-01-26T08:17:14.272Z"
   },
   {
    "duration": 254,
    "start_time": "2022-01-26T08:17:23.861Z"
   },
   {
    "duration": 4,
    "start_time": "2022-01-26T08:17:35.609Z"
   },
   {
    "duration": 304,
    "start_time": "2022-01-26T08:18:06.353Z"
   },
   {
    "duration": 349,
    "start_time": "2022-01-26T08:18:26.789Z"
   },
   {
    "duration": 595,
    "start_time": "2022-01-26T08:18:42.295Z"
   },
   {
    "duration": 133,
    "start_time": "2022-01-26T08:18:42.892Z"
   },
   {
    "duration": 16,
    "start_time": "2022-01-26T08:18:43.027Z"
   },
   {
    "duration": 26,
    "start_time": "2022-01-26T08:18:43.045Z"
   },
   {
    "duration": 4,
    "start_time": "2022-01-26T08:18:43.072Z"
   },
   {
    "duration": 48,
    "start_time": "2022-01-26T08:18:43.078Z"
   },
   {
    "duration": 6,
    "start_time": "2022-01-26T08:18:43.128Z"
   },
   {
    "duration": 24,
    "start_time": "2022-01-26T08:18:43.137Z"
   },
   {
    "duration": 6612,
    "start_time": "2022-01-26T08:18:43.163Z"
   },
   {
    "duration": -20,
    "start_time": "2022-01-26T08:18:49.798Z"
   },
   {
    "duration": -21,
    "start_time": "2022-01-26T08:18:49.800Z"
   },
   {
    "duration": -23,
    "start_time": "2022-01-26T08:18:49.803Z"
   },
   {
    "duration": -26,
    "start_time": "2022-01-26T08:18:49.806Z"
   },
   {
    "duration": -28,
    "start_time": "2022-01-26T08:18:49.809Z"
   },
   {
    "duration": -28,
    "start_time": "2022-01-26T08:18:49.811Z"
   },
   {
    "duration": -30,
    "start_time": "2022-01-26T08:18:49.814Z"
   },
   {
    "duration": -32,
    "start_time": "2022-01-26T08:18:49.817Z"
   },
   {
    "duration": -36,
    "start_time": "2022-01-26T08:18:49.821Z"
   },
   {
    "duration": -37,
    "start_time": "2022-01-26T08:18:49.824Z"
   },
   {
    "duration": -39,
    "start_time": "2022-01-26T08:18:49.827Z"
   },
   {
    "duration": -40,
    "start_time": "2022-01-26T08:18:49.829Z"
   },
   {
    "duration": -43,
    "start_time": "2022-01-26T08:18:49.833Z"
   },
   {
    "duration": -46,
    "start_time": "2022-01-26T08:18:49.837Z"
   },
   {
    "duration": -49,
    "start_time": "2022-01-26T08:18:49.841Z"
   },
   {
    "duration": -52,
    "start_time": "2022-01-26T08:18:49.845Z"
   },
   {
    "duration": -64,
    "start_time": "2022-01-26T08:18:49.858Z"
   },
   {
    "duration": -65,
    "start_time": "2022-01-26T08:18:49.860Z"
   },
   {
    "duration": -67,
    "start_time": "2022-01-26T08:18:49.863Z"
   },
   {
    "duration": -69,
    "start_time": "2022-01-26T08:18:49.866Z"
   },
   {
    "duration": -70,
    "start_time": "2022-01-26T08:18:49.868Z"
   },
   {
    "duration": -72,
    "start_time": "2022-01-26T08:18:49.871Z"
   },
   {
    "duration": -77,
    "start_time": "2022-01-26T08:18:49.877Z"
   },
   {
    "duration": -78,
    "start_time": "2022-01-26T08:18:49.879Z"
   },
   {
    "duration": -79,
    "start_time": "2022-01-26T08:18:49.881Z"
   },
   {
    "duration": -81,
    "start_time": "2022-01-26T08:18:49.884Z"
   },
   {
    "duration": -84,
    "start_time": "2022-01-26T08:18:49.888Z"
   },
   {
    "duration": -86,
    "start_time": "2022-01-26T08:18:49.891Z"
   },
   {
    "duration": -87,
    "start_time": "2022-01-26T08:18:49.893Z"
   },
   {
    "duration": 20,
    "start_time": "2022-01-26T08:18:49.982Z"
   },
   {
    "duration": 17,
    "start_time": "2022-01-26T08:18:53.802Z"
   },
   {
    "duration": 5,
    "start_time": "2022-01-26T08:19:04.451Z"
   },
   {
    "duration": 21,
    "start_time": "2022-01-26T08:19:08.854Z"
   },
   {
    "duration": 14,
    "start_time": "2022-01-26T08:19:30.094Z"
   },
   {
    "duration": 17,
    "start_time": "2022-01-26T08:19:33.194Z"
   },
   {
    "duration": 13,
    "start_time": "2022-01-26T08:19:36.810Z"
   },
   {
    "duration": 286,
    "start_time": "2022-01-26T08:19:49.626Z"
   },
   {
    "duration": 291,
    "start_time": "2022-01-26T08:21:38.182Z"
   },
   {
    "duration": 284,
    "start_time": "2022-01-26T08:22:07.754Z"
   },
   {
    "duration": 337,
    "start_time": "2022-01-26T08:24:43.166Z"
   },
   {
    "duration": 9,
    "start_time": "2022-01-26T09:04:40.173Z"
   },
   {
    "duration": 5,
    "start_time": "2022-01-26T09:04:46.101Z"
   },
   {
    "duration": 269,
    "start_time": "2022-01-26T09:06:24.037Z"
   },
   {
    "duration": 7,
    "start_time": "2022-01-26T09:06:34.001Z"
   },
   {
    "duration": 5,
    "start_time": "2022-01-26T09:06:55.649Z"
   },
   {
    "duration": 135,
    "start_time": "2022-02-03T14:55:39.128Z"
   },
   {
    "duration": 768,
    "start_time": "2022-02-03T14:55:55.777Z"
   },
   {
    "duration": 199,
    "start_time": "2022-02-03T14:55:56.548Z"
   },
   {
    "duration": 41,
    "start_time": "2022-02-03T14:55:56.751Z"
   },
   {
    "duration": 70,
    "start_time": "2022-02-03T14:55:56.795Z"
   },
   {
    "duration": 7,
    "start_time": "2022-02-03T14:55:57.359Z"
   },
   {
    "duration": 36,
    "start_time": "2022-02-03T14:55:57.741Z"
   },
   {
    "duration": 7,
    "start_time": "2022-02-03T14:55:58.102Z"
   },
   {
    "duration": 52,
    "start_time": "2022-02-03T14:55:58.766Z"
   },
   {
    "duration": 11566,
    "start_time": "2022-02-03T14:55:59.375Z"
   },
   {
    "duration": 88,
    "start_time": "2022-02-03T14:57:28.664Z"
   },
   {
    "duration": 81,
    "start_time": "2022-02-03T14:57:29.639Z"
   },
   {
    "duration": 76,
    "start_time": "2022-02-03T14:57:30.350Z"
   },
   {
    "duration": 11265,
    "start_time": "2022-02-03T14:57:32.083Z"
   },
   {
    "duration": 89110,
    "start_time": "2022-02-03T14:56:14.241Z"
   },
   {
    "duration": 89111,
    "start_time": "2022-02-03T14:56:14.242Z"
   },
   {
    "duration": 89110,
    "start_time": "2022-02-03T14:56:14.244Z"
   },
   {
    "duration": 89111,
    "start_time": "2022-02-03T14:56:14.245Z"
   },
   {
    "duration": 89109,
    "start_time": "2022-02-03T14:56:14.249Z"
   },
   {
    "duration": 89108,
    "start_time": "2022-02-03T14:56:14.251Z"
   },
   {
    "duration": 89109,
    "start_time": "2022-02-03T14:56:14.252Z"
   },
   {
    "duration": 89109,
    "start_time": "2022-02-03T14:56:14.254Z"
   },
   {
    "duration": 89108,
    "start_time": "2022-02-03T14:56:14.256Z"
   },
   {
    "duration": 89109,
    "start_time": "2022-02-03T14:56:14.257Z"
   },
   {
    "duration": 89109,
    "start_time": "2022-02-03T14:56:14.259Z"
   },
   {
    "duration": 89109,
    "start_time": "2022-02-03T14:56:14.260Z"
   },
   {
    "duration": 89102,
    "start_time": "2022-02-03T14:56:14.269Z"
   },
   {
    "duration": 89100,
    "start_time": "2022-02-03T14:56:14.272Z"
   },
   {
    "duration": 89101,
    "start_time": "2022-02-03T14:56:14.273Z"
   },
   {
    "duration": 89101,
    "start_time": "2022-02-03T14:56:14.275Z"
   },
   {
    "duration": 89096,
    "start_time": "2022-02-03T14:56:14.282Z"
   },
   {
    "duration": 89094,
    "start_time": "2022-02-03T14:56:14.285Z"
   },
   {
    "duration": 89094,
    "start_time": "2022-02-03T14:56:14.287Z"
   },
   {
    "duration": 89093,
    "start_time": "2022-02-03T14:56:14.289Z"
   },
   {
    "duration": 388,
    "start_time": "2022-02-03T14:57:43.995Z"
   },
   {
    "duration": 89766,
    "start_time": "2022-02-03T14:56:14.620Z"
   },
   {
    "duration": 89762,
    "start_time": "2022-02-03T14:56:14.626Z"
   },
   {
    "duration": 89761,
    "start_time": "2022-02-03T14:56:14.628Z"
   },
   {
    "duration": 45,
    "start_time": "2022-02-03T15:00:36.968Z"
   },
   {
    "duration": 399,
    "start_time": "2022-02-03T15:00:38.170Z"
   },
   {
    "duration": 5,
    "start_time": "2022-02-03T15:05:48.083Z"
   },
   {
    "duration": 10070,
    "start_time": "2022-02-03T15:05:48.635Z"
   },
   {
    "duration": 89753,
    "start_time": "2022-02-03T15:04:28.955Z"
   },
   {
    "duration": 89752,
    "start_time": "2022-02-03T15:04:28.958Z"
   },
   {
    "duration": 89750,
    "start_time": "2022-02-03T15:04:28.961Z"
   },
   {
    "duration": 25,
    "start_time": "2022-02-03T15:06:09.092Z"
   },
   {
    "duration": 25,
    "start_time": "2022-02-03T15:06:09.998Z"
   },
   {
    "duration": 6,
    "start_time": "2022-02-03T15:06:11.326Z"
   },
   {
    "duration": 27,
    "start_time": "2022-02-03T15:06:11.998Z"
   },
   {
    "duration": 17,
    "start_time": "2022-02-03T15:06:12.155Z"
   },
   {
    "duration": 24,
    "start_time": "2022-02-03T15:06:13.244Z"
   },
   {
    "duration": 17,
    "start_time": "2022-02-03T15:06:13.668Z"
   },
   {
    "duration": 11,
    "start_time": "2022-02-03T15:06:14.891Z"
   },
   {
    "duration": 8,
    "start_time": "2022-02-03T15:06:15.675Z"
   },
   {
    "duration": 10,
    "start_time": "2022-02-03T15:06:16.675Z"
   },
   {
    "duration": 8,
    "start_time": "2022-02-03T15:06:17.372Z"
   },
   {
    "duration": 125,
    "start_time": "2022-02-03T15:06:35.020Z"
   },
   {
    "duration": 3,
    "start_time": "2022-02-03T15:07:44.907Z"
   },
   {
    "duration": 254,
    "start_time": "2022-02-03T15:07:44.916Z"
   },
   {
    "duration": 15,
    "start_time": "2022-02-03T15:07:45.173Z"
   },
   {
    "duration": 52,
    "start_time": "2022-02-03T15:07:45.192Z"
   },
   {
    "duration": 6,
    "start_time": "2022-02-03T15:07:45.247Z"
   },
   {
    "duration": 19,
    "start_time": "2022-02-03T15:07:45.255Z"
   },
   {
    "duration": 7,
    "start_time": "2022-02-03T15:07:45.276Z"
   },
   {
    "duration": 84,
    "start_time": "2022-02-03T15:07:45.286Z"
   },
   {
    "duration": 11066,
    "start_time": "2022-02-03T15:07:45.377Z"
   },
   {
    "duration": 89736,
    "start_time": "2022-02-03T15:06:26.711Z"
   },
   {
    "duration": 89733,
    "start_time": "2022-02-03T15:06:26.715Z"
   },
   {
    "duration": 89733,
    "start_time": "2022-02-03T15:06:26.717Z"
   },
   {
    "duration": 89732,
    "start_time": "2022-02-03T15:06:26.719Z"
   },
   {
    "duration": 89725,
    "start_time": "2022-02-03T15:06:26.727Z"
   },
   {
    "duration": 89721,
    "start_time": "2022-02-03T15:06:26.732Z"
   },
   {
    "duration": 89722,
    "start_time": "2022-02-03T15:06:26.734Z"
   },
   {
    "duration": 89721,
    "start_time": "2022-02-03T15:06:26.737Z"
   },
   {
    "duration": 89721,
    "start_time": "2022-02-03T15:06:26.739Z"
   },
   {
    "duration": 89718,
    "start_time": "2022-02-03T15:06:26.744Z"
   },
   {
    "duration": 89719,
    "start_time": "2022-02-03T15:06:26.746Z"
   },
   {
    "duration": 89720,
    "start_time": "2022-02-03T15:06:26.747Z"
   },
   {
    "duration": 89720,
    "start_time": "2022-02-03T15:06:26.749Z"
   },
   {
    "duration": 89714,
    "start_time": "2022-02-03T15:06:26.757Z"
   },
   {
    "duration": 89711,
    "start_time": "2022-02-03T15:06:26.761Z"
   },
   {
    "duration": 89711,
    "start_time": "2022-02-03T15:06:26.763Z"
   },
   {
    "duration": 89710,
    "start_time": "2022-02-03T15:06:26.766Z"
   },
   {
    "duration": 89710,
    "start_time": "2022-02-03T15:06:26.768Z"
   },
   {
    "duration": 89709,
    "start_time": "2022-02-03T15:06:26.771Z"
   },
   {
    "duration": 89704,
    "start_time": "2022-02-03T15:06:26.778Z"
   },
   {
    "duration": 89742,
    "start_time": "2022-02-03T15:06:26.780Z"
   },
   {
    "duration": 89742,
    "start_time": "2022-02-03T15:06:26.782Z"
   },
   {
    "duration": 89741,
    "start_time": "2022-02-03T15:06:26.785Z"
   },
   {
    "duration": 89740,
    "start_time": "2022-02-03T15:06:26.787Z"
   },
   {
    "duration": 89739,
    "start_time": "2022-02-03T15:06:26.789Z"
   },
   {
    "duration": 89737,
    "start_time": "2022-02-03T15:06:26.793Z"
   },
   {
    "duration": 89730,
    "start_time": "2022-02-03T15:06:26.801Z"
   },
   {
    "duration": 89730,
    "start_time": "2022-02-03T15:06:26.803Z"
   },
   {
    "duration": 89730,
    "start_time": "2022-02-03T15:06:26.805Z"
   },
   {
    "duration": 89730,
    "start_time": "2022-02-03T15:06:26.806Z"
   },
   {
    "duration": 700,
    "start_time": "2022-02-06T10:39:03.027Z"
   },
   {
    "duration": 234,
    "start_time": "2022-02-06T10:39:58.772Z"
   },
   {
    "duration": 533,
    "start_time": "2022-02-06T10:45:23.500Z"
   },
   {
    "duration": 133,
    "start_time": "2022-02-06T10:45:24.037Z"
   },
   {
    "duration": 16,
    "start_time": "2022-02-06T10:45:24.172Z"
   },
   {
    "duration": 25,
    "start_time": "2022-02-06T10:45:24.189Z"
   },
   {
    "duration": 4,
    "start_time": "2022-02-06T10:45:24.216Z"
   },
   {
    "duration": 42,
    "start_time": "2022-02-06T10:45:24.221Z"
   },
   {
    "duration": 4,
    "start_time": "2022-02-06T10:45:24.264Z"
   },
   {
    "duration": 23,
    "start_time": "2022-02-06T10:45:24.271Z"
   },
   {
    "duration": 15,
    "start_time": "2022-02-06T10:45:24.297Z"
   },
   {
    "duration": 45,
    "start_time": "2022-02-06T10:45:24.314Z"
   },
   {
    "duration": 54,
    "start_time": "2022-02-06T10:45:24.360Z"
   },
   {
    "duration": 66,
    "start_time": "2022-02-06T10:45:24.415Z"
   },
   {
    "duration": 46,
    "start_time": "2022-02-06T10:45:24.483Z"
   },
   {
    "duration": 4645,
    "start_time": "2022-02-06T10:45:24.530Z"
   },
   {
    "duration": 2938,
    "start_time": "2022-02-06T10:45:26.240Z"
   },
   {
    "duration": 2926,
    "start_time": "2022-02-06T10:45:26.253Z"
   },
   {
    "duration": 2919,
    "start_time": "2022-02-06T10:45:26.261Z"
   },
   {
    "duration": 2914,
    "start_time": "2022-02-06T10:45:26.267Z"
   },
   {
    "duration": 2910,
    "start_time": "2022-02-06T10:45:26.272Z"
   },
   {
    "duration": 2898,
    "start_time": "2022-02-06T10:45:26.285Z"
   },
   {
    "duration": 2895,
    "start_time": "2022-02-06T10:45:26.289Z"
   },
   {
    "duration": 2891,
    "start_time": "2022-02-06T10:45:26.294Z"
   },
   {
    "duration": 2887,
    "start_time": "2022-02-06T10:45:26.299Z"
   },
   {
    "duration": 2884,
    "start_time": "2022-02-06T10:45:26.304Z"
   },
   {
    "duration": 2881,
    "start_time": "2022-02-06T10:45:26.308Z"
   },
   {
    "duration": 2876,
    "start_time": "2022-02-06T10:45:26.314Z"
   },
   {
    "duration": 2873,
    "start_time": "2022-02-06T10:45:26.318Z"
   },
   {
    "duration": 2866,
    "start_time": "2022-02-06T10:45:26.326Z"
   },
   {
    "duration": 2861,
    "start_time": "2022-02-06T10:45:26.332Z"
   },
   {
    "duration": 2858,
    "start_time": "2022-02-06T10:45:26.336Z"
   },
   {
    "duration": 2854,
    "start_time": "2022-02-06T10:45:26.341Z"
   },
   {
    "duration": 2851,
    "start_time": "2022-02-06T10:45:26.345Z"
   },
   {
    "duration": 2848,
    "start_time": "2022-02-06T10:45:26.349Z"
   },
   {
    "duration": 2844,
    "start_time": "2022-02-06T10:45:26.354Z"
   },
   {
    "duration": 2841,
    "start_time": "2022-02-06T10:45:26.359Z"
   },
   {
    "duration": 2835,
    "start_time": "2022-02-06T10:45:26.365Z"
   },
   {
    "duration": 2832,
    "start_time": "2022-02-06T10:45:26.369Z"
   },
   {
    "duration": 2828,
    "start_time": "2022-02-06T10:45:26.374Z"
   },
   {
    "duration": 15,
    "start_time": "2022-02-06T10:45:46.121Z"
   },
   {
    "duration": 58,
    "start_time": "2022-02-06T10:47:33.517Z"
   },
   {
    "duration": 16,
    "start_time": "2022-02-06T10:47:55.029Z"
   },
   {
    "duration": 7,
    "start_time": "2022-02-06T10:54:33.801Z"
   },
   {
    "duration": 38,
    "start_time": "2022-02-06T10:55:23.910Z"
   },
   {
    "duration": 37,
    "start_time": "2022-02-06T10:55:37.274Z"
   },
   {
    "duration": 7,
    "start_time": "2022-02-06T10:55:45.193Z"
   },
   {
    "duration": 6,
    "start_time": "2022-02-06T10:55:48.178Z"
   },
   {
    "duration": 37,
    "start_time": "2022-02-06T10:56:05.558Z"
   },
   {
    "duration": 3,
    "start_time": "2022-02-06T10:57:53.822Z"
   },
   {
    "duration": 9,
    "start_time": "2022-02-06T10:58:03.830Z"
   },
   {
    "duration": 7,
    "start_time": "2022-02-06T10:58:09.510Z"
   },
   {
    "duration": 11,
    "start_time": "2022-02-06T11:03:32.474Z"
   },
   {
    "duration": 11,
    "start_time": "2022-02-06T11:05:03.226Z"
   },
   {
    "duration": 59,
    "start_time": "2022-02-06T11:06:19.634Z"
   },
   {
    "duration": 3,
    "start_time": "2022-02-06T11:06:45.070Z"
   },
   {
    "duration": 144,
    "start_time": "2022-02-06T11:06:45.075Z"
   },
   {
    "duration": 10,
    "start_time": "2022-02-06T11:06:45.221Z"
   },
   {
    "duration": 32,
    "start_time": "2022-02-06T11:06:45.233Z"
   },
   {
    "duration": 6,
    "start_time": "2022-02-06T11:06:45.267Z"
   },
   {
    "duration": 20,
    "start_time": "2022-02-06T11:06:45.275Z"
   },
   {
    "duration": 4,
    "start_time": "2022-02-06T11:06:45.296Z"
   },
   {
    "duration": 26,
    "start_time": "2022-02-06T11:06:45.302Z"
   },
   {
    "duration": 37,
    "start_time": "2022-02-06T11:06:45.330Z"
   },
   {
    "duration": 30,
    "start_time": "2022-02-06T11:06:45.369Z"
   },
   {
    "duration": 65,
    "start_time": "2022-02-06T11:06:45.400Z"
   },
   {
    "duration": 55,
    "start_time": "2022-02-06T11:06:45.467Z"
   },
   {
    "duration": 66,
    "start_time": "2022-02-06T11:06:45.524Z"
   },
   {
    "duration": 49,
    "start_time": "2022-02-06T11:06:45.592Z"
   },
   {
    "duration": 4,
    "start_time": "2022-02-06T11:06:45.658Z"
   },
   {
    "duration": 17,
    "start_time": "2022-02-06T11:06:45.663Z"
   },
   {
    "duration": 7,
    "start_time": "2022-02-06T11:06:45.682Z"
   },
   {
    "duration": 12,
    "start_time": "2022-02-06T11:06:45.690Z"
   },
   {
    "duration": 11,
    "start_time": "2022-02-06T11:06:45.703Z"
   },
   {
    "duration": 3,
    "start_time": "2022-02-06T11:06:45.716Z"
   },
   {
    "duration": 6673,
    "start_time": "2022-02-06T11:06:45.760Z"
   },
   {
    "duration": 2981,
    "start_time": "2022-02-06T11:06:49.454Z"
   },
   {
    "duration": 2978,
    "start_time": "2022-02-06T11:06:49.458Z"
   },
   {
    "duration": 2976,
    "start_time": "2022-02-06T11:06:49.461Z"
   },
   {
    "duration": 2972,
    "start_time": "2022-02-06T11:06:49.466Z"
   },
   {
    "duration": 2969,
    "start_time": "2022-02-06T11:06:49.470Z"
   },
   {
    "duration": 2967,
    "start_time": "2022-02-06T11:06:49.473Z"
   },
   {
    "duration": 2964,
    "start_time": "2022-02-06T11:06:49.477Z"
   },
   {
    "duration": 2963,
    "start_time": "2022-02-06T11:06:49.479Z"
   },
   {
    "duration": 2961,
    "start_time": "2022-02-06T11:06:49.482Z"
   },
   {
    "duration": 2960,
    "start_time": "2022-02-06T11:06:49.484Z"
   },
   {
    "duration": 2950,
    "start_time": "2022-02-06T11:06:49.495Z"
   },
   {
    "duration": 2948,
    "start_time": "2022-02-06T11:06:49.498Z"
   },
   {
    "duration": 2945,
    "start_time": "2022-02-06T11:06:49.502Z"
   },
   {
    "duration": 2941,
    "start_time": "2022-02-06T11:06:49.507Z"
   },
   {
    "duration": 2940,
    "start_time": "2022-02-06T11:06:49.510Z"
   },
   {
    "duration": 2936,
    "start_time": "2022-02-06T11:06:49.514Z"
   },
   {
    "duration": 2934,
    "start_time": "2022-02-06T11:06:49.518Z"
   },
   {
    "duration": 2994,
    "start_time": "2022-02-06T11:07:50.064Z"
   },
   {
    "duration": 3,
    "start_time": "2022-02-06T11:07:53.894Z"
   },
   {
    "duration": 136,
    "start_time": "2022-02-06T11:07:53.900Z"
   },
   {
    "duration": 30,
    "start_time": "2022-02-06T11:07:54.038Z"
   },
   {
    "duration": 27,
    "start_time": "2022-02-06T11:07:54.070Z"
   },
   {
    "duration": 3,
    "start_time": "2022-02-06T11:07:54.099Z"
   },
   {
    "duration": 20,
    "start_time": "2022-02-06T11:07:54.104Z"
   },
   {
    "duration": 4,
    "start_time": "2022-02-06T11:07:54.125Z"
   },
   {
    "duration": 46,
    "start_time": "2022-02-06T11:07:54.130Z"
   },
   {
    "duration": 16,
    "start_time": "2022-02-06T11:07:54.178Z"
   },
   {
    "duration": 22,
    "start_time": "2022-02-06T11:07:54.197Z"
   },
   {
    "duration": 75,
    "start_time": "2022-02-06T11:07:54.221Z"
   },
   {
    "duration": 62,
    "start_time": "2022-02-06T11:07:54.297Z"
   },
   {
    "duration": 50,
    "start_time": "2022-02-06T11:07:54.360Z"
   },
   {
    "duration": 50,
    "start_time": "2022-02-06T11:07:54.412Z"
   },
   {
    "duration": 3,
    "start_time": "2022-02-06T11:07:54.463Z"
   },
   {
    "duration": 11,
    "start_time": "2022-02-06T11:07:54.467Z"
   },
   {
    "duration": 6,
    "start_time": "2022-02-06T11:07:54.480Z"
   },
   {
    "duration": 11,
    "start_time": "2022-02-06T11:07:54.487Z"
   },
   {
    "duration": 11,
    "start_time": "2022-02-06T11:07:54.499Z"
   },
   {
    "duration": 3,
    "start_time": "2022-02-06T11:07:54.511Z"
   },
   {
    "duration": 50,
    "start_time": "2022-02-06T11:07:54.515Z"
   },
   {
    "duration": 14,
    "start_time": "2022-02-06T11:07:54.566Z"
   },
   {
    "duration": 13,
    "start_time": "2022-02-06T11:07:54.581Z"
   },
   {
    "duration": 12,
    "start_time": "2022-02-06T11:07:54.597Z"
   },
   {
    "duration": 15,
    "start_time": "2022-02-06T11:07:54.611Z"
   },
   {
    "duration": 38,
    "start_time": "2022-02-06T11:07:54.627Z"
   },
   {
    "duration": 7,
    "start_time": "2022-02-06T11:07:54.666Z"
   },
   {
    "duration": 18,
    "start_time": "2022-02-06T11:07:54.675Z"
   },
   {
    "duration": 14,
    "start_time": "2022-02-06T11:07:54.694Z"
   },
   {
    "duration": 3,
    "start_time": "2022-02-06T11:07:54.709Z"
   },
   {
    "duration": 54,
    "start_time": "2022-02-06T11:07:54.714Z"
   },
   {
    "duration": 13,
    "start_time": "2022-02-06T11:07:54.769Z"
   },
   {
    "duration": 16,
    "start_time": "2022-02-06T11:07:54.783Z"
   },
   {
    "duration": 12,
    "start_time": "2022-02-06T11:07:54.800Z"
   },
   {
    "duration": 7,
    "start_time": "2022-02-06T11:07:54.813Z"
   },
   {
    "duration": 4,
    "start_time": "2022-02-06T11:07:54.822Z"
   },
   {
    "duration": 6,
    "start_time": "2022-02-06T11:07:54.859Z"
   },
   {
    "duration": 4,
    "start_time": "2022-02-06T11:07:54.867Z"
   },
   {
    "duration": 567,
    "start_time": "2022-02-06T12:59:53.570Z"
   },
   {
    "duration": 145,
    "start_time": "2022-02-06T12:59:54.139Z"
   },
   {
    "duration": 17,
    "start_time": "2022-02-06T12:59:54.286Z"
   },
   {
    "duration": 34,
    "start_time": "2022-02-06T12:59:54.305Z"
   },
   {
    "duration": 5,
    "start_time": "2022-02-06T12:59:54.341Z"
   },
   {
    "duration": 22,
    "start_time": "2022-02-06T12:59:54.348Z"
   },
   {
    "duration": 4,
    "start_time": "2022-02-06T12:59:54.984Z"
   },
   {
    "duration": 24,
    "start_time": "2022-02-06T12:59:55.655Z"
   },
   {
    "duration": 17,
    "start_time": "2022-02-06T12:59:56.175Z"
   },
   {
    "duration": 23,
    "start_time": "2022-02-06T12:59:57.054Z"
   },
   {
    "duration": 60,
    "start_time": "2022-02-06T12:59:57.657Z"
   },
   {
    "duration": 63,
    "start_time": "2022-02-06T12:59:58.263Z"
   },
   {
    "duration": 57,
    "start_time": "2022-02-06T12:59:58.593Z"
   },
   {
    "duration": 42,
    "start_time": "2022-02-06T12:59:59.304Z"
   },
   {
    "duration": 3,
    "start_time": "2022-02-06T13:00:20.191Z"
   },
   {
    "duration": 10,
    "start_time": "2022-02-06T13:00:20.824Z"
   },
   {
    "duration": 8,
    "start_time": "2022-02-06T13:00:21.702Z"
   },
   {
    "duration": 15,
    "start_time": "2022-02-06T13:00:27.664Z"
   },
   {
    "duration": 14,
    "start_time": "2022-02-06T13:00:30.453Z"
   }
  ],
  "colab": {
   "collapsed_sections": [
    "E0vqbgi9ay0H",
    "VUC88oWjTJw2"
   ],
   "name": "yandex_music_project_2021.2.ipynb",
   "provenance": []
  },
  "kernelspec": {
   "display_name": "Python 3 (ipykernel)",
   "language": "python",
   "name": "python3"
  },
  "language_info": {
   "codemirror_mode": {
    "name": "ipython",
    "version": 3
   },
   "file_extension": ".py",
   "mimetype": "text/x-python",
   "name": "python",
   "nbconvert_exporter": "python",
   "pygments_lexer": "ipython3",
   "version": "3.9.5"
  },
  "toc": {
   "base_numbering": 1,
   "nav_menu": {},
   "number_sections": true,
   "sideBar": true,
   "skip_h1_title": true,
   "title_cell": "Table of Contents",
   "title_sidebar": "Contents",
   "toc_cell": false,
   "toc_position": {},
   "toc_section_display": true,
   "toc_window_display": false
  }
 },
 "nbformat": 4,
 "nbformat_minor": 1
}
