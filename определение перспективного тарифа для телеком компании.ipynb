{
 "cells": [
  {
   "cell_type": "markdown",
   "metadata": {},
   "source": [
    "# Описание проекта \n",
    "\n",
    "\n",
    "Клиентам компании «Мегалайн» предлагают два тарифных плана: Смарт и Ультра. Чтобы скорректировать рекламный бюджет, коммерческий департамент хочет понять, какой тариф приносит больше денег. Нам предстоит сделать предварительный анализ тарифов на небольшой выборке клиентов. В нашем распоряжении данные 500 пользователей «Мегалайна»: кто они, откуда, каким тарифом пользуются, сколько звонков и сообщений каждый отправил за 2018 год. Нужно проанализировать поведение клиентов и сделать вывод — какой тариф лучше.\n",
    "\n",
    "##### Тариф Смарт: \n",
    "\n",
    "1. Ежемесячная плата: 550 рублей\n",
    "2. Включено 500 минут разговора, 50 сообщений и 15 Гб интернет-трафика\n",
    "3. Стоимость услуг сверх тарифного пакета:\n",
    "    - минута разговора: 3 рубля\n",
    "    - сообщение: 3 рубля\n",
    "    - 1 Гб интернет-трафика: 200 рублей\n",
    "\n",
    "##### Тариф Ультра: \n",
    "\n",
    "1. Ежемесячная плата: 1950 рублей\n",
    "2. Включено 3000 минут разговора, 1000 сообщений и 30 Гб интернет-трафика\n",
    "3. Стоимость услуг сверх тарифного пакета:\n",
    "    - минута разговора: 1 рубль\n",
    "    - сообщение: 1 рубль\n",
    "    - 1 Гб интернет-трафика: 150 рублей \n",
    " \n",
    "*Отдельно обратим внимание на:\n",
    "«Мегалайн» всегда округляет секунды до минут, а мегабайты — до гигабайт. Каждый звонок округляется отдельно: даже если он длился всего 1 секунду, будет засчитан как 1 минута*\n",
    "\n",
    "**Описание данных**\n",
    "\n",
    "Таблица *users* (информация о пользователях):\n",
    "\n",
    " - user_id — уникальный идентификатор пользователя\n",
    " - first_name — имя пользователя\n",
    " - last_name — фамилия пользователя\n",
    " - age — возраст пользователя (годы)\n",
    " - reg_date — дата подключения тарифа (день, месяц, год)\n",
    " - churn_date — дата прекращения пользования тарифом (если значение пропущено, то тариф ещё действовал на момент выгрузки данных)\n",
    " - city — город проживания пользователя\n",
    " - tarif — название тарифного плана\n",
    " \n",
    "Таблица *calls* (информация о звонках):\n",
    "\n",
    " - id — уникальный номер звонка\n",
    " - call_date — дата звонка\n",
    " - duration — длительность звонка в минутах\n",
    " - user_id — идентификатор пользователя, сделавшего звонок\n",
    " \n",
    "Таблица *messages* (информация о сообщениях):\n",
    "\n",
    " - id — уникальный номер сообщения\n",
    " - message_date — дата сообщения\n",
    " - user_id — идентификатор пользователя, отправившего сообщение\n",
    " \n",
    "Таблица *internet* (информация об интернет-сессиях):\n",
    "\n",
    " - id — уникальный номер сессии\n",
    " - mb_used — объём потраченного за сессию интернет-трафика (в мегабайтах)\n",
    " - session_date — дата интернет-сессии\n",
    " - user_id — идентификатор пользователя\n",
    " \n",
    "Таблица *tariffs* (информация о тарифах):\n",
    "\n",
    " - tariff_name — название тарифа\n",
    " - rub_monthly_fee — ежемесячная абонентская плата в рублях\n",
    " - minutes_included — количество минут разговора в месяц, включённых в абонентскую плату\n",
    " - messages_included — количество сообщений в месяц, включённых в абонентскую плату\n",
    " - mb_per_month_included — объём интернет-трафика, включённого в абонентскую плату (в мегабайтах)\n",
    " - rub_per_minute — стоимость минуты разговора сверх тарифного пакета (например, если в тарифе 100 минут разговора в месяц, то со 101 минуты будет взиматься плата)\n",
    " - rub_per_message — стоимость отправки сообщения сверх тарифного пакета\n",
    " - rub_per_gb — стоимость дополнительного гигабайта интернет-трафика сверх тарифного пакета (1 гигабайт = 1024 мегабайта)\n"
   ]
  },
  {
   "cell_type": "code",
   "execution_count": 1,
   "metadata": {},
   "outputs": [],
   "source": [
    "# Импортируем необходимые библиотеки:\n",
    " \n",
    "import pandas as pd\n",
    "import matplotlib.pyplot as plt\n",
    "import numpy as np\n",
    "import scipy.stats as st"
   ]
  },
  {
   "cell_type": "markdown",
   "metadata": {},
   "source": [
    "# Шаг 1. Ознакомление с данными: #"
   ]
  },
  {
   "cell_type": "code",
   "execution_count": 2,
   "metadata": {},
   "outputs": [],
   "source": [
    "#Импортируем данные:\n",
    "calls = pd.read_csv('/datasets/calls.csv')\n",
    "internet = pd.read_csv('/datasets/internet.csv')\n",
    "messages = pd.read_csv('/datasets/messages.csv')\n",
    "tariffs = pd.read_csv('/datasets/tariffs.csv')\n",
    "users = pd.read_csv('/datasets/users.csv')"
   ]
  },
  {
   "cell_type": "markdown",
   "metadata": {},
   "source": [
    "Изучим файлы:"
   ]
  },
  {
   "cell_type": "code",
   "execution_count": 3,
   "metadata": {
    "scrolled": true
   },
   "outputs": [
    {
     "data": {
      "text/html": [
       "<div>\n",
       "<style scoped>\n",
       "    .dataframe tbody tr th:only-of-type {\n",
       "        vertical-align: middle;\n",
       "    }\n",
       "\n",
       "    .dataframe tbody tr th {\n",
       "        vertical-align: top;\n",
       "    }\n",
       "\n",
       "    .dataframe thead th {\n",
       "        text-align: right;\n",
       "    }\n",
       "</style>\n",
       "<table border=\"1\" class=\"dataframe\">\n",
       "  <thead>\n",
       "    <tr style=\"text-align: right;\">\n",
       "      <th></th>\n",
       "      <th>user_id</th>\n",
       "      <th>age</th>\n",
       "      <th>churn_date</th>\n",
       "      <th>city</th>\n",
       "      <th>first_name</th>\n",
       "      <th>last_name</th>\n",
       "      <th>reg_date</th>\n",
       "      <th>tariff</th>\n",
       "    </tr>\n",
       "  </thead>\n",
       "  <tbody>\n",
       "    <tr>\n",
       "      <th>0</th>\n",
       "      <td>1000</td>\n",
       "      <td>52</td>\n",
       "      <td>NaN</td>\n",
       "      <td>Краснодар</td>\n",
       "      <td>Рафаил</td>\n",
       "      <td>Верещагин</td>\n",
       "      <td>2018-05-25</td>\n",
       "      <td>ultra</td>\n",
       "    </tr>\n",
       "    <tr>\n",
       "      <th>1</th>\n",
       "      <td>1001</td>\n",
       "      <td>41</td>\n",
       "      <td>NaN</td>\n",
       "      <td>Москва</td>\n",
       "      <td>Иван</td>\n",
       "      <td>Ежов</td>\n",
       "      <td>2018-11-01</td>\n",
       "      <td>smart</td>\n",
       "    </tr>\n",
       "    <tr>\n",
       "      <th>2</th>\n",
       "      <td>1002</td>\n",
       "      <td>59</td>\n",
       "      <td>NaN</td>\n",
       "      <td>Стерлитамак</td>\n",
       "      <td>Евгений</td>\n",
       "      <td>Абрамович</td>\n",
       "      <td>2018-06-17</td>\n",
       "      <td>smart</td>\n",
       "    </tr>\n",
       "    <tr>\n",
       "      <th>3</th>\n",
       "      <td>1003</td>\n",
       "      <td>23</td>\n",
       "      <td>NaN</td>\n",
       "      <td>Москва</td>\n",
       "      <td>Белла</td>\n",
       "      <td>Белякова</td>\n",
       "      <td>2018-08-17</td>\n",
       "      <td>ultra</td>\n",
       "    </tr>\n",
       "    <tr>\n",
       "      <th>4</th>\n",
       "      <td>1004</td>\n",
       "      <td>68</td>\n",
       "      <td>NaN</td>\n",
       "      <td>Новокузнецк</td>\n",
       "      <td>Татьяна</td>\n",
       "      <td>Авдеенко</td>\n",
       "      <td>2018-05-14</td>\n",
       "      <td>ultra</td>\n",
       "    </tr>\n",
       "  </tbody>\n",
       "</table>\n",
       "</div>"
      ],
      "text/plain": [
       "   user_id  age churn_date         city first_name  last_name    reg_date  \\\n",
       "0     1000   52        NaN    Краснодар     Рафаил  Верещагин  2018-05-25   \n",
       "1     1001   41        NaN       Москва       Иван       Ежов  2018-11-01   \n",
       "2     1002   59        NaN  Стерлитамак    Евгений  Абрамович  2018-06-17   \n",
       "3     1003   23        NaN       Москва      Белла   Белякова  2018-08-17   \n",
       "4     1004   68        NaN  Новокузнецк    Татьяна   Авдеенко  2018-05-14   \n",
       "\n",
       "  tariff  \n",
       "0  ultra  \n",
       "1  smart  \n",
       "2  smart  \n",
       "3  ultra  \n",
       "4  ultra  "
      ]
     },
     "execution_count": 3,
     "metadata": {},
     "output_type": "execute_result"
    }
   ],
   "source": [
    "users.head()"
   ]
  },
  {
   "cell_type": "markdown",
   "metadata": {},
   "source": [
    "Посмотрим на пропуски:"
   ]
  },
  {
   "cell_type": "code",
   "execution_count": 4,
   "metadata": {},
   "outputs": [
    {
     "name": "stdout",
     "output_type": "stream",
     "text": [
      "<class 'pandas.core.frame.DataFrame'>\n",
      "RangeIndex: 500 entries, 0 to 499\n",
      "Data columns (total 8 columns):\n",
      " #   Column      Non-Null Count  Dtype \n",
      "---  ------      --------------  ----- \n",
      " 0   user_id     500 non-null    int64 \n",
      " 1   age         500 non-null    int64 \n",
      " 2   churn_date  38 non-null     object\n",
      " 3   city        500 non-null    object\n",
      " 4   first_name  500 non-null    object\n",
      " 5   last_name   500 non-null    object\n",
      " 6   reg_date    500 non-null    object\n",
      " 7   tariff      500 non-null    object\n",
      "dtypes: int64(2), object(6)\n",
      "memory usage: 31.4+ KB\n"
     ]
    }
   ],
   "source": [
    "users.info()"
   ]
  },
  {
   "cell_type": "markdown",
   "metadata": {},
   "source": [
    "Пропуски только в столбце *churn_date*. В описании сказано, что *churn_date* - дата прекращения пользования тарифом (если значение пропущено, то тариф ещё действовал на момент выгрузки данных). Значит с данными всё ок."
   ]
  },
  {
   "cell_type": "code",
   "execution_count": 5,
   "metadata": {},
   "outputs": [
    {
     "data": {
      "text/html": [
       "<div>\n",
       "<style scoped>\n",
       "    .dataframe tbody tr th:only-of-type {\n",
       "        vertical-align: middle;\n",
       "    }\n",
       "\n",
       "    .dataframe tbody tr th {\n",
       "        vertical-align: top;\n",
       "    }\n",
       "\n",
       "    .dataframe thead th {\n",
       "        text-align: right;\n",
       "    }\n",
       "</style>\n",
       "<table border=\"1\" class=\"dataframe\">\n",
       "  <thead>\n",
       "    <tr style=\"text-align: right;\">\n",
       "      <th></th>\n",
       "      <th>id</th>\n",
       "      <th>call_date</th>\n",
       "      <th>duration</th>\n",
       "      <th>user_id</th>\n",
       "    </tr>\n",
       "  </thead>\n",
       "  <tbody>\n",
       "    <tr>\n",
       "      <th>0</th>\n",
       "      <td>1000_0</td>\n",
       "      <td>2018-07-25</td>\n",
       "      <td>0.00</td>\n",
       "      <td>1000</td>\n",
       "    </tr>\n",
       "    <tr>\n",
       "      <th>1</th>\n",
       "      <td>1000_1</td>\n",
       "      <td>2018-08-17</td>\n",
       "      <td>0.00</td>\n",
       "      <td>1000</td>\n",
       "    </tr>\n",
       "    <tr>\n",
       "      <th>2</th>\n",
       "      <td>1000_2</td>\n",
       "      <td>2018-06-11</td>\n",
       "      <td>2.85</td>\n",
       "      <td>1000</td>\n",
       "    </tr>\n",
       "    <tr>\n",
       "      <th>3</th>\n",
       "      <td>1000_3</td>\n",
       "      <td>2018-09-21</td>\n",
       "      <td>13.80</td>\n",
       "      <td>1000</td>\n",
       "    </tr>\n",
       "    <tr>\n",
       "      <th>4</th>\n",
       "      <td>1000_4</td>\n",
       "      <td>2018-12-15</td>\n",
       "      <td>5.18</td>\n",
       "      <td>1000</td>\n",
       "    </tr>\n",
       "  </tbody>\n",
       "</table>\n",
       "</div>"
      ],
      "text/plain": [
       "       id   call_date  duration  user_id\n",
       "0  1000_0  2018-07-25      0.00     1000\n",
       "1  1000_1  2018-08-17      0.00     1000\n",
       "2  1000_2  2018-06-11      2.85     1000\n",
       "3  1000_3  2018-09-21     13.80     1000\n",
       "4  1000_4  2018-12-15      5.18     1000"
      ]
     },
     "execution_count": 5,
     "metadata": {},
     "output_type": "execute_result"
    }
   ],
   "source": [
    "calls.head()"
   ]
  },
  {
   "cell_type": "code",
   "execution_count": 6,
   "metadata": {},
   "outputs": [
    {
     "name": "stdout",
     "output_type": "stream",
     "text": [
      "<class 'pandas.core.frame.DataFrame'>\n",
      "RangeIndex: 202607 entries, 0 to 202606\n",
      "Data columns (total 4 columns):\n",
      " #   Column     Non-Null Count   Dtype  \n",
      "---  ------     --------------   -----  \n",
      " 0   id         202607 non-null  object \n",
      " 1   call_date  202607 non-null  object \n",
      " 2   duration   202607 non-null  float64\n",
      " 3   user_id    202607 non-null  int64  \n",
      "dtypes: float64(1), int64(1), object(2)\n",
      "memory usage: 6.2+ MB\n"
     ]
    }
   ],
   "source": [
    "calls.info()"
   ]
  },
  {
   "cell_type": "markdown",
   "metadata": {},
   "source": [
    "202607 строк данных. Данные полные, без пропусков.\n"
   ]
  },
  {
   "cell_type": "code",
   "execution_count": 7,
   "metadata": {},
   "outputs": [
    {
     "data": {
      "text/html": [
       "<div>\n",
       "<style scoped>\n",
       "    .dataframe tbody tr th:only-of-type {\n",
       "        vertical-align: middle;\n",
       "    }\n",
       "\n",
       "    .dataframe tbody tr th {\n",
       "        vertical-align: top;\n",
       "    }\n",
       "\n",
       "    .dataframe thead th {\n",
       "        text-align: right;\n",
       "    }\n",
       "</style>\n",
       "<table border=\"1\" class=\"dataframe\">\n",
       "  <thead>\n",
       "    <tr style=\"text-align: right;\">\n",
       "      <th></th>\n",
       "      <th>id</th>\n",
       "      <th>message_date</th>\n",
       "      <th>user_id</th>\n",
       "    </tr>\n",
       "  </thead>\n",
       "  <tbody>\n",
       "    <tr>\n",
       "      <th>0</th>\n",
       "      <td>1000_0</td>\n",
       "      <td>2018-06-27</td>\n",
       "      <td>1000</td>\n",
       "    </tr>\n",
       "    <tr>\n",
       "      <th>1</th>\n",
       "      <td>1000_1</td>\n",
       "      <td>2018-10-08</td>\n",
       "      <td>1000</td>\n",
       "    </tr>\n",
       "    <tr>\n",
       "      <th>2</th>\n",
       "      <td>1000_2</td>\n",
       "      <td>2018-08-04</td>\n",
       "      <td>1000</td>\n",
       "    </tr>\n",
       "    <tr>\n",
       "      <th>3</th>\n",
       "      <td>1000_3</td>\n",
       "      <td>2018-06-16</td>\n",
       "      <td>1000</td>\n",
       "    </tr>\n",
       "    <tr>\n",
       "      <th>4</th>\n",
       "      <td>1000_4</td>\n",
       "      <td>2018-12-05</td>\n",
       "      <td>1000</td>\n",
       "    </tr>\n",
       "  </tbody>\n",
       "</table>\n",
       "</div>"
      ],
      "text/plain": [
       "       id message_date  user_id\n",
       "0  1000_0   2018-06-27     1000\n",
       "1  1000_1   2018-10-08     1000\n",
       "2  1000_2   2018-08-04     1000\n",
       "3  1000_3   2018-06-16     1000\n",
       "4  1000_4   2018-12-05     1000"
      ]
     },
     "execution_count": 7,
     "metadata": {},
     "output_type": "execute_result"
    }
   ],
   "source": [
    "messages.head()"
   ]
  },
  {
   "cell_type": "code",
   "execution_count": 8,
   "metadata": {},
   "outputs": [
    {
     "name": "stdout",
     "output_type": "stream",
     "text": [
      "<class 'pandas.core.frame.DataFrame'>\n",
      "RangeIndex: 123036 entries, 0 to 123035\n",
      "Data columns (total 3 columns):\n",
      " #   Column        Non-Null Count   Dtype \n",
      "---  ------        --------------   ----- \n",
      " 0   id            123036 non-null  object\n",
      " 1   message_date  123036 non-null  object\n",
      " 2   user_id       123036 non-null  int64 \n",
      "dtypes: int64(1), object(2)\n",
      "memory usage: 2.8+ MB\n"
     ]
    }
   ],
   "source": [
    "messages.info()"
   ]
  },
  {
   "cell_type": "markdown",
   "metadata": {},
   "source": [
    "123036 строк данных. Данные также полные, без пропусков"
   ]
  },
  {
   "cell_type": "code",
   "execution_count": 9,
   "metadata": {},
   "outputs": [
    {
     "data": {
      "text/html": [
       "<div>\n",
       "<style scoped>\n",
       "    .dataframe tbody tr th:only-of-type {\n",
       "        vertical-align: middle;\n",
       "    }\n",
       "\n",
       "    .dataframe tbody tr th {\n",
       "        vertical-align: top;\n",
       "    }\n",
       "\n",
       "    .dataframe thead th {\n",
       "        text-align: right;\n",
       "    }\n",
       "</style>\n",
       "<table border=\"1\" class=\"dataframe\">\n",
       "  <thead>\n",
       "    <tr style=\"text-align: right;\">\n",
       "      <th></th>\n",
       "      <th>Unnamed: 0</th>\n",
       "      <th>id</th>\n",
       "      <th>mb_used</th>\n",
       "      <th>session_date</th>\n",
       "      <th>user_id</th>\n",
       "    </tr>\n",
       "  </thead>\n",
       "  <tbody>\n",
       "    <tr>\n",
       "      <th>0</th>\n",
       "      <td>0</td>\n",
       "      <td>1000_0</td>\n",
       "      <td>112.95</td>\n",
       "      <td>2018-11-25</td>\n",
       "      <td>1000</td>\n",
       "    </tr>\n",
       "    <tr>\n",
       "      <th>1</th>\n",
       "      <td>1</td>\n",
       "      <td>1000_1</td>\n",
       "      <td>1052.81</td>\n",
       "      <td>2018-09-07</td>\n",
       "      <td>1000</td>\n",
       "    </tr>\n",
       "    <tr>\n",
       "      <th>2</th>\n",
       "      <td>2</td>\n",
       "      <td>1000_2</td>\n",
       "      <td>1197.26</td>\n",
       "      <td>2018-06-25</td>\n",
       "      <td>1000</td>\n",
       "    </tr>\n",
       "    <tr>\n",
       "      <th>3</th>\n",
       "      <td>3</td>\n",
       "      <td>1000_3</td>\n",
       "      <td>550.27</td>\n",
       "      <td>2018-08-22</td>\n",
       "      <td>1000</td>\n",
       "    </tr>\n",
       "    <tr>\n",
       "      <th>4</th>\n",
       "      <td>4</td>\n",
       "      <td>1000_4</td>\n",
       "      <td>302.56</td>\n",
       "      <td>2018-09-24</td>\n",
       "      <td>1000</td>\n",
       "    </tr>\n",
       "  </tbody>\n",
       "</table>\n",
       "</div>"
      ],
      "text/plain": [
       "   Unnamed: 0      id  mb_used session_date  user_id\n",
       "0           0  1000_0   112.95   2018-11-25     1000\n",
       "1           1  1000_1  1052.81   2018-09-07     1000\n",
       "2           2  1000_2  1197.26   2018-06-25     1000\n",
       "3           3  1000_3   550.27   2018-08-22     1000\n",
       "4           4  1000_4   302.56   2018-09-24     1000"
      ]
     },
     "execution_count": 9,
     "metadata": {},
     "output_type": "execute_result"
    }
   ],
   "source": [
    "internet.head()"
   ]
  },
  {
   "cell_type": "code",
   "execution_count": 10,
   "metadata": {},
   "outputs": [
    {
     "name": "stdout",
     "output_type": "stream",
     "text": [
      "<class 'pandas.core.frame.DataFrame'>\n",
      "RangeIndex: 149396 entries, 0 to 149395\n",
      "Data columns (total 5 columns):\n",
      " #   Column        Non-Null Count   Dtype  \n",
      "---  ------        --------------   -----  \n",
      " 0   Unnamed: 0    149396 non-null  int64  \n",
      " 1   id            149396 non-null  object \n",
      " 2   mb_used       149396 non-null  float64\n",
      " 3   session_date  149396 non-null  object \n",
      " 4   user_id       149396 non-null  int64  \n",
      "dtypes: float64(1), int64(2), object(2)\n",
      "memory usage: 5.7+ MB\n"
     ]
    }
   ],
   "source": [
    "internet.info()"
   ]
  },
  {
   "cell_type": "markdown",
   "metadata": {},
   "source": [
    "И тут данные полные и без пропусков, что очень радует. 149396 строк."
   ]
  },
  {
   "cell_type": "code",
   "execution_count": 11,
   "metadata": {
    "scrolled": true
   },
   "outputs": [
    {
     "data": {
      "text/html": [
       "<div>\n",
       "<style scoped>\n",
       "    .dataframe tbody tr th:only-of-type {\n",
       "        vertical-align: middle;\n",
       "    }\n",
       "\n",
       "    .dataframe tbody tr th {\n",
       "        vertical-align: top;\n",
       "    }\n",
       "\n",
       "    .dataframe thead th {\n",
       "        text-align: right;\n",
       "    }\n",
       "</style>\n",
       "<table border=\"1\" class=\"dataframe\">\n",
       "  <thead>\n",
       "    <tr style=\"text-align: right;\">\n",
       "      <th></th>\n",
       "      <th>messages_included</th>\n",
       "      <th>mb_per_month_included</th>\n",
       "      <th>minutes_included</th>\n",
       "      <th>rub_monthly_fee</th>\n",
       "      <th>rub_per_gb</th>\n",
       "      <th>rub_per_message</th>\n",
       "      <th>rub_per_minute</th>\n",
       "      <th>tariff_name</th>\n",
       "    </tr>\n",
       "  </thead>\n",
       "  <tbody>\n",
       "    <tr>\n",
       "      <th>0</th>\n",
       "      <td>50</td>\n",
       "      <td>15360</td>\n",
       "      <td>500</td>\n",
       "      <td>550</td>\n",
       "      <td>200</td>\n",
       "      <td>3</td>\n",
       "      <td>3</td>\n",
       "      <td>smart</td>\n",
       "    </tr>\n",
       "    <tr>\n",
       "      <th>1</th>\n",
       "      <td>1000</td>\n",
       "      <td>30720</td>\n",
       "      <td>3000</td>\n",
       "      <td>1950</td>\n",
       "      <td>150</td>\n",
       "      <td>1</td>\n",
       "      <td>1</td>\n",
       "      <td>ultra</td>\n",
       "    </tr>\n",
       "  </tbody>\n",
       "</table>\n",
       "</div>"
      ],
      "text/plain": [
       "   messages_included  mb_per_month_included  minutes_included  \\\n",
       "0                 50                  15360               500   \n",
       "1               1000                  30720              3000   \n",
       "\n",
       "   rub_monthly_fee  rub_per_gb  rub_per_message  rub_per_minute tariff_name  \n",
       "0              550         200                3               3       smart  \n",
       "1             1950         150                1               1       ultra  "
      ]
     },
     "execution_count": 11,
     "metadata": {},
     "output_type": "execute_result"
    }
   ],
   "source": [
    "tariffs.head()"
   ]
  },
  {
   "cell_type": "markdown",
   "metadata": {},
   "source": [
    "Данные по тарифам - это справочная таблица."
   ]
  },
  {
   "cell_type": "markdown",
   "metadata": {},
   "source": [
    "**Вывод**\n",
    "- Обнаружен неверный формат даты во всех таблицах с датами \n",
    "- Необходимо округлить время звонков и мегабайты трафика в большую сторону в соответствии с условиями тарифов"
   ]
  },
  {
   "cell_type": "markdown",
   "metadata": {},
   "source": [
    "# Шаг 2. Обработка данных: #"
   ]
  },
  {
   "cell_type": "markdown",
   "metadata": {},
   "source": [
    "Добавим в каждую из 3 базовых таблиц с данными колонку с месяцем. Для этого вначале приведем даты к формату datetime:"
   ]
  },
  {
   "cell_type": "code",
   "execution_count": 12,
   "metadata": {},
   "outputs": [],
   "source": [
    "#приводим в формат datetime\n",
    "calls['call_date'] = pd.to_datetime(calls['call_date'], format='%Y-%m-%d')\n",
    "messages['message_date'] = pd.to_datetime(messages['message_date'], format='%Y-%m-%d')\n",
    "internet['session_date'] = pd.to_datetime(internet['session_date'], format='%Y-%m-%d')\n",
    "\n",
    "#добавим столбец month\n",
    "calls['month'] = pd.to_datetime(calls['call_date']).dt.month\n",
    "messages['month'] = pd.to_datetime(messages['message_date']).dt.month\n",
    "internet['month'] = pd.to_datetime(internet['session_date']).dt.month"
   ]
  },
  {
   "cell_type": "markdown",
   "metadata": {},
   "source": [
    "*Рассмотрим файлы более детально на предмет ошибок:*"
   ]
  },
  {
   "cell_type": "markdown",
   "metadata": {},
   "source": [
    "Проверим, все ли пользователи уникальные в датасете *users*:"
   ]
  },
  {
   "cell_type": "code",
   "execution_count": 13,
   "metadata": {
    "scrolled": true
   },
   "outputs": [
    {
     "name": "stdout",
     "output_type": "stream",
     "text": [
      "Число строк в датафрейме users: 500\n",
      "Число уникальных пользователей: 500\n",
      "Число дубликатов: 0\n"
     ]
    }
   ],
   "source": [
    "print(\"Число строк в датафрейме users:\", users.shape[0])\n",
    "print(\"Число уникальных пользователей:\", users['user_id'].count())\n",
    "print(\"Число дубликатов:\", users.duplicated().sum())"
   ]
  },
  {
   "cell_type": "markdown",
   "metadata": {},
   "source": [
    "Все пользователи уникальные, дубликатов нет.\n",
    "\n",
    "Посмотрим на число пользователей тарифов:"
   ]
  },
  {
   "cell_type": "code",
   "execution_count": 14,
   "metadata": {
    "scrolled": true
   },
   "outputs": [
    {
     "data": {
      "text/plain": [
       "smart    351\n",
       "ultra    149\n",
       "Name: tariff, dtype: int64"
      ]
     },
     "execution_count": 14,
     "metadata": {},
     "output_type": "execute_result"
    }
   ],
   "source": [
    "users['tariff'].value_counts()"
   ]
  },
  {
   "cell_type": "markdown",
   "metadata": {},
   "source": [
    "Взглянем на другие столбцы:"
   ]
  },
  {
   "cell_type": "code",
   "execution_count": 15,
   "metadata": {
    "scrolled": false
   },
   "outputs": [
    {
     "data": {
      "text/plain": [
       "count    500.00000\n",
       "mean      46.58800\n",
       "std       16.66763\n",
       "min       18.00000\n",
       "25%       32.00000\n",
       "50%       46.00000\n",
       "75%       62.00000\n",
       "max       75.00000\n",
       "Name: age, dtype: float64"
      ]
     },
     "execution_count": 15,
     "metadata": {},
     "output_type": "execute_result"
    }
   ],
   "source": [
    "users['age'].describe()"
   ]
  },
  {
   "cell_type": "code",
   "execution_count": 16,
   "metadata": {
    "scrolled": true
   },
   "outputs": [
    {
     "data": {
      "text/plain": [
       "0             NaN\n",
       "1             NaN\n",
       "2             NaN\n",
       "3             NaN\n",
       "4             NaN\n",
       "          ...    \n",
       "495           NaN\n",
       "496           NaN\n",
       "497           NaN\n",
       "498    2018-10-25\n",
       "499           NaN\n",
       "Name: churn_date, Length: 500, dtype: object"
      ]
     },
     "metadata": {},
     "output_type": "display_data"
    },
    {
     "data": {
      "text/html": [
       "<div>\n",
       "<style scoped>\n",
       "    .dataframe tbody tr th:only-of-type {\n",
       "        vertical-align: middle;\n",
       "    }\n",
       "\n",
       "    .dataframe tbody tr th {\n",
       "        vertical-align: top;\n",
       "    }\n",
       "\n",
       "    .dataframe thead th {\n",
       "        text-align: right;\n",
       "    }\n",
       "</style>\n",
       "<table border=\"1\" class=\"dataframe\">\n",
       "  <thead>\n",
       "    <tr style=\"text-align: right;\">\n",
       "      <th></th>\n",
       "      <th>user_id</th>\n",
       "      <th>age</th>\n",
       "      <th>churn_date</th>\n",
       "      <th>city</th>\n",
       "      <th>first_name</th>\n",
       "      <th>last_name</th>\n",
       "      <th>reg_date</th>\n",
       "      <th>tariff</th>\n",
       "    </tr>\n",
       "  </thead>\n",
       "  <tbody>\n",
       "    <tr>\n",
       "      <th>19</th>\n",
       "      <td>1019</td>\n",
       "      <td>63</td>\n",
       "      <td>2018-10-05</td>\n",
       "      <td>Томск</td>\n",
       "      <td>Игнатий</td>\n",
       "      <td>Круглов</td>\n",
       "      <td>2018-05-16</td>\n",
       "      <td>ultra</td>\n",
       "    </tr>\n",
       "    <tr>\n",
       "      <th>20</th>\n",
       "      <td>1020</td>\n",
       "      <td>59</td>\n",
       "      <td>2018-12-18</td>\n",
       "      <td>Чита</td>\n",
       "      <td>Тала</td>\n",
       "      <td>Костина</td>\n",
       "      <td>2018-10-22</td>\n",
       "      <td>smart</td>\n",
       "    </tr>\n",
       "    <tr>\n",
       "      <th>34</th>\n",
       "      <td>1034</td>\n",
       "      <td>66</td>\n",
       "      <td>2018-11-21</td>\n",
       "      <td>Вологда</td>\n",
       "      <td>Святослав</td>\n",
       "      <td>Бондарев</td>\n",
       "      <td>2018-08-26</td>\n",
       "      <td>smart</td>\n",
       "    </tr>\n",
       "    <tr>\n",
       "      <th>50</th>\n",
       "      <td>1050</td>\n",
       "      <td>44</td>\n",
       "      <td>2018-10-03</td>\n",
       "      <td>Тюмень</td>\n",
       "      <td>Рузана</td>\n",
       "      <td>Аничкина</td>\n",
       "      <td>2018-06-16</td>\n",
       "      <td>ultra</td>\n",
       "    </tr>\n",
       "    <tr>\n",
       "      <th>51</th>\n",
       "      <td>1051</td>\n",
       "      <td>37</td>\n",
       "      <td>2018-10-14</td>\n",
       "      <td>Москва</td>\n",
       "      <td>Кристина</td>\n",
       "      <td>Сомова</td>\n",
       "      <td>2018-05-28</td>\n",
       "      <td>smart</td>\n",
       "    </tr>\n",
       "    <tr>\n",
       "      <th>56</th>\n",
       "      <td>1056</td>\n",
       "      <td>73</td>\n",
       "      <td>2018-10-14</td>\n",
       "      <td>Иркутск</td>\n",
       "      <td>Радислав</td>\n",
       "      <td>Артемьев</td>\n",
       "      <td>2018-04-13</td>\n",
       "      <td>smart</td>\n",
       "    </tr>\n",
       "    <tr>\n",
       "      <th>62</th>\n",
       "      <td>1062</td>\n",
       "      <td>24</td>\n",
       "      <td>2018-12-09</td>\n",
       "      <td>Москва</td>\n",
       "      <td>Александр</td>\n",
       "      <td>Коршунов</td>\n",
       "      <td>2018-11-16</td>\n",
       "      <td>smart</td>\n",
       "    </tr>\n",
       "    <tr>\n",
       "      <th>63</th>\n",
       "      <td>1063</td>\n",
       "      <td>45</td>\n",
       "      <td>2018-12-11</td>\n",
       "      <td>Тула</td>\n",
       "      <td>Таира</td>\n",
       "      <td>Климова</td>\n",
       "      <td>2018-04-12</td>\n",
       "      <td>ultra</td>\n",
       "    </tr>\n",
       "    <tr>\n",
       "      <th>64</th>\n",
       "      <td>1064</td>\n",
       "      <td>55</td>\n",
       "      <td>2018-12-26</td>\n",
       "      <td>Якутск</td>\n",
       "      <td>Динара</td>\n",
       "      <td>Алфеева</td>\n",
       "      <td>2018-03-17</td>\n",
       "      <td>smart</td>\n",
       "    </tr>\n",
       "    <tr>\n",
       "      <th>65</th>\n",
       "      <td>1065</td>\n",
       "      <td>53</td>\n",
       "      <td>2018-12-09</td>\n",
       "      <td>Москва</td>\n",
       "      <td>Роза</td>\n",
       "      <td>Игнатова</td>\n",
       "      <td>2018-03-08</td>\n",
       "      <td>smart</td>\n",
       "    </tr>\n",
       "  </tbody>\n",
       "</table>\n",
       "</div>"
      ],
      "text/plain": [
       "    user_id  age  churn_date     city first_name last_name    reg_date tariff\n",
       "19     1019   63  2018-10-05    Томск    Игнатий   Круглов  2018-05-16  ultra\n",
       "20     1020   59  2018-12-18     Чита       Тала   Костина  2018-10-22  smart\n",
       "34     1034   66  2018-11-21  Вологда  Святослав  Бондарев  2018-08-26  smart\n",
       "50     1050   44  2018-10-03   Тюмень     Рузана  Аничкина  2018-06-16  ultra\n",
       "51     1051   37  2018-10-14   Москва   Кристина    Сомова  2018-05-28  smart\n",
       "56     1056   73  2018-10-14  Иркутск   Радислав  Артемьев  2018-04-13  smart\n",
       "62     1062   24  2018-12-09   Москва  Александр  Коршунов  2018-11-16  smart\n",
       "63     1063   45  2018-12-11     Тула      Таира   Климова  2018-04-12  ultra\n",
       "64     1064   55  2018-12-26   Якутск     Динара   Алфеева  2018-03-17  smart\n",
       "65     1065   53  2018-12-09   Москва       Роза  Игнатова  2018-03-08  smart"
      ]
     },
     "metadata": {},
     "output_type": "display_data"
    },
    {
     "data": {
      "text/plain": [
       "count             38\n",
       "unique            33\n",
       "top       2018-12-03\n",
       "freq               2\n",
       "Name: churn_date, dtype: object"
      ]
     },
     "execution_count": 16,
     "metadata": {},
     "output_type": "execute_result"
    }
   ],
   "source": [
    "display(users['churn_date'])\n",
    "display(users.query('churn_date.isna() == False').head(10))\n",
    "users['churn_date'].describe()"
   ]
  },
  {
   "cell_type": "code",
   "execution_count": 17,
   "metadata": {
    "scrolled": true
   },
   "outputs": [
    {
     "data": {
      "text/plain": [
       "85     2018-06-12\n",
       "353    2018-04-22\n",
       "119    2018-04-22\n",
       "221    2018-06-03\n",
       "Name: reg_date, dtype: object"
      ]
     },
     "metadata": {},
     "output_type": "display_data"
    },
    {
     "data": {
      "text/html": [
       "<div>\n",
       "<style scoped>\n",
       "    .dataframe tbody tr th:only-of-type {\n",
       "        vertical-align: middle;\n",
       "    }\n",
       "\n",
       "    .dataframe tbody tr th {\n",
       "        vertical-align: top;\n",
       "    }\n",
       "\n",
       "    .dataframe thead th {\n",
       "        text-align: right;\n",
       "    }\n",
       "</style>\n",
       "<table border=\"1\" class=\"dataframe\">\n",
       "  <thead>\n",
       "    <tr style=\"text-align: right;\">\n",
       "      <th></th>\n",
       "      <th>user_id</th>\n",
       "      <th>age</th>\n",
       "      <th>churn_date</th>\n",
       "      <th>city</th>\n",
       "      <th>first_name</th>\n",
       "      <th>last_name</th>\n",
       "      <th>reg_date</th>\n",
       "      <th>tariff</th>\n",
       "    </tr>\n",
       "  </thead>\n",
       "  <tbody>\n",
       "    <tr>\n",
       "      <th>0</th>\n",
       "      <td>1000</td>\n",
       "      <td>52</td>\n",
       "      <td>NaN</td>\n",
       "      <td>Краснодар</td>\n",
       "      <td>Рафаил</td>\n",
       "      <td>Верещагин</td>\n",
       "      <td>2018-05-25</td>\n",
       "      <td>ultra</td>\n",
       "    </tr>\n",
       "    <tr>\n",
       "      <th>1</th>\n",
       "      <td>1001</td>\n",
       "      <td>41</td>\n",
       "      <td>NaN</td>\n",
       "      <td>Москва</td>\n",
       "      <td>Иван</td>\n",
       "      <td>Ежов</td>\n",
       "      <td>2018-11-01</td>\n",
       "      <td>smart</td>\n",
       "    </tr>\n",
       "    <tr>\n",
       "      <th>2</th>\n",
       "      <td>1002</td>\n",
       "      <td>59</td>\n",
       "      <td>NaN</td>\n",
       "      <td>Стерлитамак</td>\n",
       "      <td>Евгений</td>\n",
       "      <td>Абрамович</td>\n",
       "      <td>2018-06-17</td>\n",
       "      <td>smart</td>\n",
       "    </tr>\n",
       "    <tr>\n",
       "      <th>3</th>\n",
       "      <td>1003</td>\n",
       "      <td>23</td>\n",
       "      <td>NaN</td>\n",
       "      <td>Москва</td>\n",
       "      <td>Белла</td>\n",
       "      <td>Белякова</td>\n",
       "      <td>2018-08-17</td>\n",
       "      <td>ultra</td>\n",
       "    </tr>\n",
       "  </tbody>\n",
       "</table>\n",
       "</div>"
      ],
      "text/plain": [
       "   user_id  age churn_date         city first_name  last_name    reg_date  \\\n",
       "0     1000   52        NaN    Краснодар     Рафаил  Верещагин  2018-05-25   \n",
       "1     1001   41        NaN       Москва       Иван       Ежов  2018-11-01   \n",
       "2     1002   59        NaN  Стерлитамак    Евгений  Абрамович  2018-06-17   \n",
       "3     1003   23        NaN       Москва      Белла   Белякова  2018-08-17   \n",
       "\n",
       "  tariff  \n",
       "0  ultra  \n",
       "1  smart  \n",
       "2  smart  \n",
       "3  ultra  "
      ]
     },
     "metadata": {},
     "output_type": "display_data"
    },
    {
     "data": {
      "text/plain": [
       "count            500\n",
       "unique           270\n",
       "top       2018-05-28\n",
       "freq               8\n",
       "Name: reg_date, dtype: object"
      ]
     },
     "execution_count": 17,
     "metadata": {},
     "output_type": "execute_result"
    }
   ],
   "source": [
    "display(users['reg_date'].sample(4))\n",
    "display(users.head(4))\n",
    "users['reg_date'].describe()"
   ]
  },
  {
   "cell_type": "markdown",
   "metadata": {},
   "source": [
    "Данные в порядке"
   ]
  },
  {
   "cell_type": "markdown",
   "metadata": {},
   "source": [
    "Проверим наличие дубликатов, исключая столбец user_id (его мы проверили выше)"
   ]
  },
  {
   "cell_type": "code",
   "execution_count": 18,
   "metadata": {
    "scrolled": true
   },
   "outputs": [
    {
     "name": "stdout",
     "output_type": "stream",
     "text": [
      "Кол-во дубликатов = 0\n"
     ]
    }
   ],
   "source": [
    "print('Кол-во дубликатов =', users.loc[:,['age', 'churn_date', 'city', 'first_name', \\\n",
    "                                          'last_name', 'reg_date', 'tariff']].duplicated().sum())"
   ]
  },
  {
   "cell_type": "markdown",
   "metadata": {},
   "source": [
    "Файл  *users* готов к работе"
   ]
  },
  {
   "cell_type": "markdown",
   "metadata": {},
   "source": [
    "Перейдем к таблице *calls*:"
   ]
  },
  {
   "cell_type": "code",
   "execution_count": 19,
   "metadata": {},
   "outputs": [
    {
     "name": "stdout",
     "output_type": "stream",
     "text": [
      "<class 'pandas.core.frame.DataFrame'>\n",
      "RangeIndex: 202607 entries, 0 to 202606\n",
      "Data columns (total 5 columns):\n",
      " #   Column     Non-Null Count   Dtype         \n",
      "---  ------     --------------   -----         \n",
      " 0   id         202607 non-null  object        \n",
      " 1   call_date  202607 non-null  datetime64[ns]\n",
      " 2   duration   202607 non-null  float64       \n",
      " 3   user_id    202607 non-null  int64         \n",
      " 4   month      202607 non-null  int64         \n",
      "dtypes: datetime64[ns](1), float64(1), int64(2), object(1)\n",
      "memory usage: 7.7+ MB\n"
     ]
    },
    {
     "data": {
      "text/plain": [
       "None"
      ]
     },
     "metadata": {},
     "output_type": "display_data"
    },
    {
     "data": {
      "text/html": [
       "<div>\n",
       "<style scoped>\n",
       "    .dataframe tbody tr th:only-of-type {\n",
       "        vertical-align: middle;\n",
       "    }\n",
       "\n",
       "    .dataframe tbody tr th {\n",
       "        vertical-align: top;\n",
       "    }\n",
       "\n",
       "    .dataframe thead th {\n",
       "        text-align: right;\n",
       "    }\n",
       "</style>\n",
       "<table border=\"1\" class=\"dataframe\">\n",
       "  <thead>\n",
       "    <tr style=\"text-align: right;\">\n",
       "      <th></th>\n",
       "      <th>id</th>\n",
       "      <th>call_date</th>\n",
       "      <th>duration</th>\n",
       "      <th>user_id</th>\n",
       "      <th>month</th>\n",
       "    </tr>\n",
       "  </thead>\n",
       "  <tbody>\n",
       "    <tr>\n",
       "      <th>0</th>\n",
       "      <td>1000_0</td>\n",
       "      <td>2018-07-25</td>\n",
       "      <td>0.00</td>\n",
       "      <td>1000</td>\n",
       "      <td>7</td>\n",
       "    </tr>\n",
       "    <tr>\n",
       "      <th>1</th>\n",
       "      <td>1000_1</td>\n",
       "      <td>2018-08-17</td>\n",
       "      <td>0.00</td>\n",
       "      <td>1000</td>\n",
       "      <td>8</td>\n",
       "    </tr>\n",
       "    <tr>\n",
       "      <th>2</th>\n",
       "      <td>1000_2</td>\n",
       "      <td>2018-06-11</td>\n",
       "      <td>2.85</td>\n",
       "      <td>1000</td>\n",
       "      <td>6</td>\n",
       "    </tr>\n",
       "    <tr>\n",
       "      <th>3</th>\n",
       "      <td>1000_3</td>\n",
       "      <td>2018-09-21</td>\n",
       "      <td>13.80</td>\n",
       "      <td>1000</td>\n",
       "      <td>9</td>\n",
       "    </tr>\n",
       "    <tr>\n",
       "      <th>4</th>\n",
       "      <td>1000_4</td>\n",
       "      <td>2018-12-15</td>\n",
       "      <td>5.18</td>\n",
       "      <td>1000</td>\n",
       "      <td>12</td>\n",
       "    </tr>\n",
       "    <tr>\n",
       "      <th>...</th>\n",
       "      <td>...</td>\n",
       "      <td>...</td>\n",
       "      <td>...</td>\n",
       "      <td>...</td>\n",
       "      <td>...</td>\n",
       "    </tr>\n",
       "    <tr>\n",
       "      <th>202602</th>\n",
       "      <td>1499_215</td>\n",
       "      <td>2018-12-26</td>\n",
       "      <td>0.76</td>\n",
       "      <td>1499</td>\n",
       "      <td>12</td>\n",
       "    </tr>\n",
       "    <tr>\n",
       "      <th>202603</th>\n",
       "      <td>1499_216</td>\n",
       "      <td>2018-10-18</td>\n",
       "      <td>18.83</td>\n",
       "      <td>1499</td>\n",
       "      <td>10</td>\n",
       "    </tr>\n",
       "    <tr>\n",
       "      <th>202604</th>\n",
       "      <td>1499_217</td>\n",
       "      <td>2018-11-10</td>\n",
       "      <td>10.81</td>\n",
       "      <td>1499</td>\n",
       "      <td>11</td>\n",
       "    </tr>\n",
       "    <tr>\n",
       "      <th>202605</th>\n",
       "      <td>1499_218</td>\n",
       "      <td>2018-10-06</td>\n",
       "      <td>4.27</td>\n",
       "      <td>1499</td>\n",
       "      <td>10</td>\n",
       "    </tr>\n",
       "    <tr>\n",
       "      <th>202606</th>\n",
       "      <td>1499_219</td>\n",
       "      <td>2018-12-14</td>\n",
       "      <td>19.62</td>\n",
       "      <td>1499</td>\n",
       "      <td>12</td>\n",
       "    </tr>\n",
       "  </tbody>\n",
       "</table>\n",
       "<p>202607 rows × 5 columns</p>\n",
       "</div>"
      ],
      "text/plain": [
       "              id  call_date  duration  user_id  month\n",
       "0         1000_0 2018-07-25      0.00     1000      7\n",
       "1         1000_1 2018-08-17      0.00     1000      8\n",
       "2         1000_2 2018-06-11      2.85     1000      6\n",
       "3         1000_3 2018-09-21     13.80     1000      9\n",
       "4         1000_4 2018-12-15      5.18     1000     12\n",
       "...          ...        ...       ...      ...    ...\n",
       "202602  1499_215 2018-12-26      0.76     1499     12\n",
       "202603  1499_216 2018-10-18     18.83     1499     10\n",
       "202604  1499_217 2018-11-10     10.81     1499     11\n",
       "202605  1499_218 2018-10-06      4.27     1499     10\n",
       "202606  1499_219 2018-12-14     19.62     1499     12\n",
       "\n",
       "[202607 rows x 5 columns]"
      ]
     },
     "metadata": {},
     "output_type": "display_data"
    }
   ],
   "source": [
    "display(calls.info())\n",
    "display(calls)"
   ]
  },
  {
   "cell_type": "code",
   "execution_count": 20,
   "metadata": {
    "scrolled": true
   },
   "outputs": [
    {
     "data": {
      "text/plain": [
       "1315_346     1\n",
       "1043_196     1\n",
       "1066_343     1\n",
       "1330_105     1\n",
       "1165_56      1\n",
       "            ..\n",
       "1425_227     1\n",
       "1375_1244    1\n",
       "1029_49      1\n",
       "1146_49      1\n",
       "1292_21      1\n",
       "Name: id, Length: 202607, dtype: int64"
      ]
     },
     "execution_count": 20,
     "metadata": {},
     "output_type": "execute_result"
    }
   ],
   "source": [
    "# проверим уникальность записей\n",
    "calls['id']\n",
    "calls['id'].value_counts()"
   ]
  },
  {
   "cell_type": "code",
   "execution_count": 21,
   "metadata": {
    "scrolled": true
   },
   "outputs": [
    {
     "data": {
      "text/plain": [
       "0          0.00\n",
       "1          0.00\n",
       "2          2.85\n",
       "3         13.80\n",
       "4          5.18\n",
       "          ...  \n",
       "202602     0.76\n",
       "202603    18.83\n",
       "202604    10.81\n",
       "202605     4.27\n",
       "202606    19.62\n",
       "Name: duration, Length: 202607, dtype: float64"
      ]
     },
     "metadata": {},
     "output_type": "display_data"
    },
    {
     "data": {
      "text/plain": [
       "count    202607.000000\n",
       "mean          6.755887\n",
       "std           5.843365\n",
       "min           0.000000\n",
       "25%           1.300000\n",
       "50%           6.000000\n",
       "75%          10.700000\n",
       "max          38.000000\n",
       "Name: duration, dtype: float64"
      ]
     },
     "metadata": {},
     "output_type": "display_data"
    }
   ],
   "source": [
    "#взглянем на столбец duration - длительность звонка в минутах\n",
    "display(calls['duration'])\n",
    "display(calls['duration'].describe())"
   ]
  },
  {
   "cell_type": "markdown",
   "metadata": {},
   "source": [
    "Данные выглядят вполне правдоподобно - длительность от 0 до 38 минут"
   ]
  },
  {
   "cell_type": "markdown",
   "metadata": {},
   "source": [
    "Все идентификаторы уникальны и в одном экземпляре. Данные корректны."
   ]
  },
  {
   "cell_type": "markdown",
   "metadata": {},
   "source": [
    "В условии задачи сказано : «Мегалайн» всегда округляет секунды до минут, а мегабайты — до гигабайт. Если пользователь проговорил всего 1 секунду, в тарифе засчитывается целая минута.Поэтому округлим в большую сторону все значения столбца и поменяем тип на int:"
   ]
  },
  {
   "cell_type": "code",
   "execution_count": 22,
   "metadata": {
    "scrolled": true
   },
   "outputs": [
    {
     "data": {
      "text/plain": [
       "0          0\n",
       "1          0\n",
       "2          3\n",
       "3         14\n",
       "4          6\n",
       "          ..\n",
       "202602     1\n",
       "202603    19\n",
       "202604    11\n",
       "202605     5\n",
       "202606    20\n",
       "Name: duration, Length: 202607, dtype: int64"
      ]
     },
     "metadata": {},
     "output_type": "display_data"
    }
   ],
   "source": [
    "def round_up(fl): \n",
    "    if int(fl)==fl:\n",
    "        return fl\n",
    "    else:\n",
    "        return int(fl)+1\n",
    "\n",
    "calls['duration'] = calls['duration'].apply(round_up).astype(int)\n",
    "display(calls['duration'])"
   ]
  },
  {
   "cell_type": "code",
   "execution_count": 23,
   "metadata": {
    "scrolled": true
   },
   "outputs": [
    {
     "data": {
      "text/plain": [
       "0         1000\n",
       "1         1000\n",
       "2         1000\n",
       "3         1000\n",
       "4         1000\n",
       "          ... \n",
       "202602    1499\n",
       "202603    1499\n",
       "202604    1499\n",
       "202605    1499\n",
       "202606    1499\n",
       "Name: user_id, Length: 202607, dtype: int64"
      ]
     },
     "metadata": {},
     "output_type": "display_data"
    },
    {
     "data": {
      "text/plain": [
       "count    202607.000000\n",
       "mean       1253.940619\n",
       "std         144.722751\n",
       "min        1000.000000\n",
       "25%        1126.000000\n",
       "50%        1260.000000\n",
       "75%        1379.000000\n",
       "max        1499.000000\n",
       "Name: user_id, dtype: float64"
      ]
     },
     "metadata": {},
     "output_type": "display_data"
    }
   ],
   "source": [
    "display(calls['user_id'])\n",
    "display(calls['user_id'].describe())"
   ]
  },
  {
   "cell_type": "code",
   "execution_count": 24,
   "metadata": {},
   "outputs": [
    {
     "data": {
      "text/plain": [
       "('Уникальных значений =', 492)"
      ]
     },
     "execution_count": 24,
     "metadata": {},
     "output_type": "execute_result"
    }
   ],
   "source": [
    "calls['user_id'] = calls['user_id'].astype(int)\n",
    "'Уникальных значений =',len(calls['user_id'].unique())\n"
   ]
  },
  {
   "cell_type": "markdown",
   "metadata": {},
   "source": [
    "Похоже что 8 абонентов за год не разговаривали по телефону. Это вполне возможно, когда пользователю, например, необходим интренет, а не звонки."
   ]
  },
  {
   "cell_type": "code",
   "execution_count": 25,
   "metadata": {
    "scrolled": true
   },
   "outputs": [
    {
     "name": "stdout",
     "output_type": "stream",
     "text": [
      "<class 'pandas.core.frame.DataFrame'>\n",
      "RangeIndex: 202607 entries, 0 to 202606\n",
      "Data columns (total 5 columns):\n",
      " #   Column     Non-Null Count   Dtype         \n",
      "---  ------     --------------   -----         \n",
      " 0   id         202607 non-null  object        \n",
      " 1   call_date  202607 non-null  datetime64[ns]\n",
      " 2   duration   202607 non-null  int64         \n",
      " 3   user_id    202607 non-null  int64         \n",
      " 4   month      202607 non-null  int64         \n",
      "dtypes: datetime64[ns](1), int64(3), object(1)\n",
      "memory usage: 7.7+ MB\n"
     ]
    }
   ],
   "source": [
    "calls.info()"
   ]
  },
  {
   "cell_type": "markdown",
   "metadata": {},
   "source": [
    "В таблице calls приведена в соостветствие дата и скоректированы (округлены) данные в столбце duration"
   ]
  },
  {
   "cell_type": "markdown",
   "metadata": {},
   "source": [
    "Переходим к таблице *messages*"
   ]
  },
  {
   "cell_type": "code",
   "execution_count": 26,
   "metadata": {
    "scrolled": true
   },
   "outputs": [
    {
     "name": "stdout",
     "output_type": "stream",
     "text": [
      "<class 'pandas.core.frame.DataFrame'>\n",
      "RangeIndex: 123036 entries, 0 to 123035\n",
      "Data columns (total 4 columns):\n",
      " #   Column        Non-Null Count   Dtype         \n",
      "---  ------        --------------   -----         \n",
      " 0   id            123036 non-null  object        \n",
      " 1   message_date  123036 non-null  datetime64[ns]\n",
      " 2   user_id       123036 non-null  int64         \n",
      " 3   month         123036 non-null  int64         \n",
      "dtypes: datetime64[ns](1), int64(2), object(1)\n",
      "memory usage: 3.8+ MB\n"
     ]
    },
    {
     "data": {
      "text/plain": [
       "None"
      ]
     },
     "metadata": {},
     "output_type": "display_data"
    },
    {
     "data": {
      "text/html": [
       "<div>\n",
       "<style scoped>\n",
       "    .dataframe tbody tr th:only-of-type {\n",
       "        vertical-align: middle;\n",
       "    }\n",
       "\n",
       "    .dataframe tbody tr th {\n",
       "        vertical-align: top;\n",
       "    }\n",
       "\n",
       "    .dataframe thead th {\n",
       "        text-align: right;\n",
       "    }\n",
       "</style>\n",
       "<table border=\"1\" class=\"dataframe\">\n",
       "  <thead>\n",
       "    <tr style=\"text-align: right;\">\n",
       "      <th></th>\n",
       "      <th>id</th>\n",
       "      <th>message_date</th>\n",
       "      <th>user_id</th>\n",
       "      <th>month</th>\n",
       "    </tr>\n",
       "  </thead>\n",
       "  <tbody>\n",
       "    <tr>\n",
       "      <th>0</th>\n",
       "      <td>1000_0</td>\n",
       "      <td>2018-06-27</td>\n",
       "      <td>1000</td>\n",
       "      <td>6</td>\n",
       "    </tr>\n",
       "    <tr>\n",
       "      <th>1</th>\n",
       "      <td>1000_1</td>\n",
       "      <td>2018-10-08</td>\n",
       "      <td>1000</td>\n",
       "      <td>10</td>\n",
       "    </tr>\n",
       "    <tr>\n",
       "      <th>2</th>\n",
       "      <td>1000_2</td>\n",
       "      <td>2018-08-04</td>\n",
       "      <td>1000</td>\n",
       "      <td>8</td>\n",
       "    </tr>\n",
       "    <tr>\n",
       "      <th>3</th>\n",
       "      <td>1000_3</td>\n",
       "      <td>2018-06-16</td>\n",
       "      <td>1000</td>\n",
       "      <td>6</td>\n",
       "    </tr>\n",
       "    <tr>\n",
       "      <th>4</th>\n",
       "      <td>1000_4</td>\n",
       "      <td>2018-12-05</td>\n",
       "      <td>1000</td>\n",
       "      <td>12</td>\n",
       "    </tr>\n",
       "    <tr>\n",
       "      <th>...</th>\n",
       "      <td>...</td>\n",
       "      <td>...</td>\n",
       "      <td>...</td>\n",
       "      <td>...</td>\n",
       "    </tr>\n",
       "    <tr>\n",
       "      <th>123031</th>\n",
       "      <td>1499_179</td>\n",
       "      <td>2018-12-12</td>\n",
       "      <td>1499</td>\n",
       "      <td>12</td>\n",
       "    </tr>\n",
       "    <tr>\n",
       "      <th>123032</th>\n",
       "      <td>1499_180</td>\n",
       "      <td>2018-09-28</td>\n",
       "      <td>1499</td>\n",
       "      <td>9</td>\n",
       "    </tr>\n",
       "    <tr>\n",
       "      <th>123033</th>\n",
       "      <td>1499_181</td>\n",
       "      <td>2018-09-27</td>\n",
       "      <td>1499</td>\n",
       "      <td>9</td>\n",
       "    </tr>\n",
       "    <tr>\n",
       "      <th>123034</th>\n",
       "      <td>1499_182</td>\n",
       "      <td>2018-11-15</td>\n",
       "      <td>1499</td>\n",
       "      <td>11</td>\n",
       "    </tr>\n",
       "    <tr>\n",
       "      <th>123035</th>\n",
       "      <td>1499_183</td>\n",
       "      <td>2018-11-16</td>\n",
       "      <td>1499</td>\n",
       "      <td>11</td>\n",
       "    </tr>\n",
       "  </tbody>\n",
       "</table>\n",
       "<p>123036 rows × 4 columns</p>\n",
       "</div>"
      ],
      "text/plain": [
       "              id message_date  user_id  month\n",
       "0         1000_0   2018-06-27     1000      6\n",
       "1         1000_1   2018-10-08     1000     10\n",
       "2         1000_2   2018-08-04     1000      8\n",
       "3         1000_3   2018-06-16     1000      6\n",
       "4         1000_4   2018-12-05     1000     12\n",
       "...          ...          ...      ...    ...\n",
       "123031  1499_179   2018-12-12     1499     12\n",
       "123032  1499_180   2018-09-28     1499      9\n",
       "123033  1499_181   2018-09-27     1499      9\n",
       "123034  1499_182   2018-11-15     1499     11\n",
       "123035  1499_183   2018-11-16     1499     11\n",
       "\n",
       "[123036 rows x 4 columns]"
      ]
     },
     "metadata": {},
     "output_type": "display_data"
    }
   ],
   "source": [
    "display(messages.info())\n",
    "display(messages)"
   ]
  },
  {
   "cell_type": "code",
   "execution_count": 27,
   "metadata": {
    "scrolled": true
   },
   "outputs": [
    {
     "data": {
      "text/plain": [
       "1453_160    1\n",
       "1052_198    1\n",
       "1145_519    1\n",
       "1134_249    1\n",
       "1233_197    1\n",
       "           ..\n",
       "1496_342    1\n",
       "1142_322    1\n",
       "1253_111    1\n",
       "1244_618    1\n",
       "1347_291    1\n",
       "Name: id, Length: 123036, dtype: int64"
      ]
     },
     "execution_count": 27,
     "metadata": {},
     "output_type": "execute_result"
    }
   ],
   "source": [
    "# проверим уникальность записей\n",
    "messages['id']\n",
    "messages['id'].value_counts()"
   ]
  },
  {
   "cell_type": "markdown",
   "metadata": {},
   "source": [
    "Все идентификаторы уникальны и в одном экземпляре"
   ]
  },
  {
   "cell_type": "code",
   "execution_count": 28,
   "metadata": {
    "scrolled": true
   },
   "outputs": [
    {
     "data": {
      "text/plain": [
       "0        2018-06-27\n",
       "1        2018-10-08\n",
       "2        2018-08-04\n",
       "3        2018-06-16\n",
       "4        2018-12-05\n",
       "            ...    \n",
       "123031   2018-12-12\n",
       "123032   2018-09-28\n",
       "123033   2018-09-27\n",
       "123034   2018-11-15\n",
       "123035   2018-11-16\n",
       "Name: message_date, Length: 123036, dtype: datetime64[ns]"
      ]
     },
     "execution_count": 28,
     "metadata": {},
     "output_type": "execute_result"
    }
   ],
   "source": [
    "messages['message_date']"
   ]
  },
  {
   "cell_type": "code",
   "execution_count": 29,
   "metadata": {
    "scrolled": true
   },
   "outputs": [
    {
     "data": {
      "text/plain": [
       "69902    2018-10-21\n",
       "79392    2018-12-31\n",
       "115292   2018-07-17\n",
       "88357    2018-11-23\n",
       "Name: message_date, dtype: datetime64[ns]"
      ]
     },
     "metadata": {},
     "output_type": "display_data"
    },
    {
     "data": {
      "text/html": [
       "<div>\n",
       "<style scoped>\n",
       "    .dataframe tbody tr th:only-of-type {\n",
       "        vertical-align: middle;\n",
       "    }\n",
       "\n",
       "    .dataframe tbody tr th {\n",
       "        vertical-align: top;\n",
       "    }\n",
       "\n",
       "    .dataframe thead th {\n",
       "        text-align: right;\n",
       "    }\n",
       "</style>\n",
       "<table border=\"1\" class=\"dataframe\">\n",
       "  <thead>\n",
       "    <tr style=\"text-align: right;\">\n",
       "      <th></th>\n",
       "      <th>id</th>\n",
       "      <th>message_date</th>\n",
       "      <th>user_id</th>\n",
       "      <th>month</th>\n",
       "    </tr>\n",
       "  </thead>\n",
       "  <tbody>\n",
       "    <tr>\n",
       "      <th>0</th>\n",
       "      <td>1000_0</td>\n",
       "      <td>2018-06-27</td>\n",
       "      <td>1000</td>\n",
       "      <td>6</td>\n",
       "    </tr>\n",
       "    <tr>\n",
       "      <th>1</th>\n",
       "      <td>1000_1</td>\n",
       "      <td>2018-10-08</td>\n",
       "      <td>1000</td>\n",
       "      <td>10</td>\n",
       "    </tr>\n",
       "    <tr>\n",
       "      <th>2</th>\n",
       "      <td>1000_2</td>\n",
       "      <td>2018-08-04</td>\n",
       "      <td>1000</td>\n",
       "      <td>8</td>\n",
       "    </tr>\n",
       "    <tr>\n",
       "      <th>3</th>\n",
       "      <td>1000_3</td>\n",
       "      <td>2018-06-16</td>\n",
       "      <td>1000</td>\n",
       "      <td>6</td>\n",
       "    </tr>\n",
       "  </tbody>\n",
       "</table>\n",
       "</div>"
      ],
      "text/plain": [
       "       id message_date  user_id  month\n",
       "0  1000_0   2018-06-27     1000      6\n",
       "1  1000_1   2018-10-08     1000     10\n",
       "2  1000_2   2018-08-04     1000      8\n",
       "3  1000_3   2018-06-16     1000      6"
      ]
     },
     "metadata": {},
     "output_type": "display_data"
    },
    {
     "name": "stderr",
     "output_type": "stream",
     "text": [
      "/tmp/ipykernel_54/3494441720.py:3: FutureWarning: Treating datetime data as categorical rather than numeric in `.describe` is deprecated and will be removed in a future version of pandas. Specify `datetime_is_numeric=True` to silence this warning and adopt the future behavior now.\n",
      "  messages['message_date'].describe()\n"
     ]
    },
    {
     "data": {
      "text/plain": [
       "count                  123036\n",
       "unique                    364\n",
       "top       2018-12-31 00:00:00\n",
       "freq                      859\n",
       "first     2018-01-02 00:00:00\n",
       "last      2018-12-31 00:00:00\n",
       "Name: message_date, dtype: object"
      ]
     },
     "execution_count": 29,
     "metadata": {},
     "output_type": "execute_result"
    }
   ],
   "source": [
    "display(messages['message_date'].sample(4))\n",
    "display(messages.head(4))\n",
    "messages['message_date'].describe()"
   ]
  },
  {
   "cell_type": "markdown",
   "metadata": {},
   "source": [
    "Очевидно в данных отсутствуют данные за 1 января 2018. Возможно, так как 1 января - праздник, и в этот день вполне могут быть сильные отклонения от нормы. Возможно этот день следует исключить из анализа."
   ]
  },
  {
   "cell_type": "code",
   "execution_count": 30,
   "metadata": {},
   "outputs": [
    {
     "data": {
      "text/plain": [
       "('Уникальных значений =', 426)"
      ]
     },
     "execution_count": 30,
     "metadata": {},
     "output_type": "execute_result"
    }
   ],
   "source": [
    "'Уникальных значений =',len(messages['user_id'].unique())"
   ]
  },
  {
   "cell_type": "code",
   "execution_count": 31,
   "metadata": {
    "scrolled": true
   },
   "outputs": [
    {
     "data": {
      "text/plain": [
       "count    123036.000000\n",
       "mean       1256.989410\n",
       "std         143.523967\n",
       "min        1000.000000\n",
       "25%        1134.000000\n",
       "50%        1271.000000\n",
       "75%        1381.000000\n",
       "max        1499.000000\n",
       "Name: user_id, dtype: float64"
      ]
     },
     "metadata": {},
     "output_type": "display_data"
    }
   ],
   "source": [
    "display(messages['user_id'].describe())"
   ]
  },
  {
   "cell_type": "markdown",
   "metadata": {},
   "source": [
    "Распределение вполне плавное и в рамках 1000-1499. Есть абоненты которые рассылают свыше 1000 сообщений. Это скорее всего какие-то сервисы, интернет магазины (зарегистрированные на физлица). 74 абонента не отправляли сообщения - вполне возможно, сейчас очень многие пользуются интернет-мессенджерами.\n",
    "В целом таблица корректна."
   ]
  },
  {
   "cell_type": "markdown",
   "metadata": {},
   "source": [
    "Переходим к файлу *internet*:"
   ]
  },
  {
   "cell_type": "code",
   "execution_count": 32,
   "metadata": {},
   "outputs": [
    {
     "name": "stdout",
     "output_type": "stream",
     "text": [
      "<class 'pandas.core.frame.DataFrame'>\n",
      "RangeIndex: 149396 entries, 0 to 149395\n",
      "Data columns (total 6 columns):\n",
      " #   Column        Non-Null Count   Dtype         \n",
      "---  ------        --------------   -----         \n",
      " 0   Unnamed: 0    149396 non-null  int64         \n",
      " 1   id            149396 non-null  object        \n",
      " 2   mb_used       149396 non-null  float64       \n",
      " 3   session_date  149396 non-null  datetime64[ns]\n",
      " 4   user_id       149396 non-null  int64         \n",
      " 5   month         149396 non-null  int64         \n",
      "dtypes: datetime64[ns](1), float64(1), int64(3), object(1)\n",
      "memory usage: 6.8+ MB\n"
     ]
    },
    {
     "data": {
      "text/plain": [
       "None"
      ]
     },
     "metadata": {},
     "output_type": "display_data"
    },
    {
     "data": {
      "text/html": [
       "<div>\n",
       "<style scoped>\n",
       "    .dataframe tbody tr th:only-of-type {\n",
       "        vertical-align: middle;\n",
       "    }\n",
       "\n",
       "    .dataframe tbody tr th {\n",
       "        vertical-align: top;\n",
       "    }\n",
       "\n",
       "    .dataframe thead th {\n",
       "        text-align: right;\n",
       "    }\n",
       "</style>\n",
       "<table border=\"1\" class=\"dataframe\">\n",
       "  <thead>\n",
       "    <tr style=\"text-align: right;\">\n",
       "      <th></th>\n",
       "      <th>Unnamed: 0</th>\n",
       "      <th>id</th>\n",
       "      <th>mb_used</th>\n",
       "      <th>session_date</th>\n",
       "      <th>user_id</th>\n",
       "      <th>month</th>\n",
       "    </tr>\n",
       "  </thead>\n",
       "  <tbody>\n",
       "    <tr>\n",
       "      <th>0</th>\n",
       "      <td>0</td>\n",
       "      <td>1000_0</td>\n",
       "      <td>112.95</td>\n",
       "      <td>2018-11-25</td>\n",
       "      <td>1000</td>\n",
       "      <td>11</td>\n",
       "    </tr>\n",
       "    <tr>\n",
       "      <th>1</th>\n",
       "      <td>1</td>\n",
       "      <td>1000_1</td>\n",
       "      <td>1052.81</td>\n",
       "      <td>2018-09-07</td>\n",
       "      <td>1000</td>\n",
       "      <td>9</td>\n",
       "    </tr>\n",
       "    <tr>\n",
       "      <th>2</th>\n",
       "      <td>2</td>\n",
       "      <td>1000_2</td>\n",
       "      <td>1197.26</td>\n",
       "      <td>2018-06-25</td>\n",
       "      <td>1000</td>\n",
       "      <td>6</td>\n",
       "    </tr>\n",
       "    <tr>\n",
       "      <th>3</th>\n",
       "      <td>3</td>\n",
       "      <td>1000_3</td>\n",
       "      <td>550.27</td>\n",
       "      <td>2018-08-22</td>\n",
       "      <td>1000</td>\n",
       "      <td>8</td>\n",
       "    </tr>\n",
       "    <tr>\n",
       "      <th>4</th>\n",
       "      <td>4</td>\n",
       "      <td>1000_4</td>\n",
       "      <td>302.56</td>\n",
       "      <td>2018-09-24</td>\n",
       "      <td>1000</td>\n",
       "      <td>9</td>\n",
       "    </tr>\n",
       "    <tr>\n",
       "      <th>...</th>\n",
       "      <td>...</td>\n",
       "      <td>...</td>\n",
       "      <td>...</td>\n",
       "      <td>...</td>\n",
       "      <td>...</td>\n",
       "      <td>...</td>\n",
       "    </tr>\n",
       "    <tr>\n",
       "      <th>149391</th>\n",
       "      <td>149391</td>\n",
       "      <td>1499_152</td>\n",
       "      <td>318.90</td>\n",
       "      <td>2018-10-03</td>\n",
       "      <td>1499</td>\n",
       "      <td>10</td>\n",
       "    </tr>\n",
       "    <tr>\n",
       "      <th>149392</th>\n",
       "      <td>149392</td>\n",
       "      <td>1499_153</td>\n",
       "      <td>490.13</td>\n",
       "      <td>2018-12-14</td>\n",
       "      <td>1499</td>\n",
       "      <td>12</td>\n",
       "    </tr>\n",
       "    <tr>\n",
       "      <th>149393</th>\n",
       "      <td>149393</td>\n",
       "      <td>1499_154</td>\n",
       "      <td>0.00</td>\n",
       "      <td>2018-10-27</td>\n",
       "      <td>1499</td>\n",
       "      <td>10</td>\n",
       "    </tr>\n",
       "    <tr>\n",
       "      <th>149394</th>\n",
       "      <td>149394</td>\n",
       "      <td>1499_155</td>\n",
       "      <td>1246.32</td>\n",
       "      <td>2018-11-26</td>\n",
       "      <td>1499</td>\n",
       "      <td>11</td>\n",
       "    </tr>\n",
       "    <tr>\n",
       "      <th>149395</th>\n",
       "      <td>149395</td>\n",
       "      <td>1499_156</td>\n",
       "      <td>544.37</td>\n",
       "      <td>2018-10-26</td>\n",
       "      <td>1499</td>\n",
       "      <td>10</td>\n",
       "    </tr>\n",
       "  </tbody>\n",
       "</table>\n",
       "<p>149396 rows × 6 columns</p>\n",
       "</div>"
      ],
      "text/plain": [
       "        Unnamed: 0        id  mb_used session_date  user_id  month\n",
       "0                0    1000_0   112.95   2018-11-25     1000     11\n",
       "1                1    1000_1  1052.81   2018-09-07     1000      9\n",
       "2                2    1000_2  1197.26   2018-06-25     1000      6\n",
       "3                3    1000_3   550.27   2018-08-22     1000      8\n",
       "4                4    1000_4   302.56   2018-09-24     1000      9\n",
       "...            ...       ...      ...          ...      ...    ...\n",
       "149391      149391  1499_152   318.90   2018-10-03     1499     10\n",
       "149392      149392  1499_153   490.13   2018-12-14     1499     12\n",
       "149393      149393  1499_154     0.00   2018-10-27     1499     10\n",
       "149394      149394  1499_155  1246.32   2018-11-26     1499     11\n",
       "149395      149395  1499_156   544.37   2018-10-26     1499     10\n",
       "\n",
       "[149396 rows x 6 columns]"
      ]
     },
     "metadata": {},
     "output_type": "display_data"
    },
    {
     "data": {
      "text/plain": [
       "Index(['Unnamed: 0', 'id', 'mb_used', 'session_date', 'user_id', 'month'], dtype='object')"
      ]
     },
     "execution_count": 32,
     "metadata": {},
     "output_type": "execute_result"
    }
   ],
   "source": [
    "display(internet.info())\n",
    "display(internet)\n",
    "internet.columns"
   ]
  },
  {
   "cell_type": "markdown",
   "metadata": {},
   "source": [
    "Обнаружен столбец 'Unnamed: 0' данные в котором похожи на индексы. Удалим его."
   ]
  },
  {
   "cell_type": "code",
   "execution_count": 33,
   "metadata": {},
   "outputs": [],
   "source": [
    "internet.drop('Unnamed: 0', axis=1, inplace=True)"
   ]
  },
  {
   "cell_type": "code",
   "execution_count": 34,
   "metadata": {
    "scrolled": false
   },
   "outputs": [
    {
     "data": {
      "text/html": [
       "<div>\n",
       "<style scoped>\n",
       "    .dataframe tbody tr th:only-of-type {\n",
       "        vertical-align: middle;\n",
       "    }\n",
       "\n",
       "    .dataframe tbody tr th {\n",
       "        vertical-align: top;\n",
       "    }\n",
       "\n",
       "    .dataframe thead th {\n",
       "        text-align: right;\n",
       "    }\n",
       "</style>\n",
       "<table border=\"1\" class=\"dataframe\">\n",
       "  <thead>\n",
       "    <tr style=\"text-align: right;\">\n",
       "      <th></th>\n",
       "      <th>id</th>\n",
       "      <th>mb_used</th>\n",
       "      <th>session_date</th>\n",
       "      <th>user_id</th>\n",
       "      <th>month</th>\n",
       "    </tr>\n",
       "  </thead>\n",
       "  <tbody>\n",
       "    <tr>\n",
       "      <th>0</th>\n",
       "      <td>1000_0</td>\n",
       "      <td>112.95</td>\n",
       "      <td>2018-11-25</td>\n",
       "      <td>1000</td>\n",
       "      <td>11</td>\n",
       "    </tr>\n",
       "    <tr>\n",
       "      <th>1</th>\n",
       "      <td>1000_1</td>\n",
       "      <td>1052.81</td>\n",
       "      <td>2018-09-07</td>\n",
       "      <td>1000</td>\n",
       "      <td>9</td>\n",
       "    </tr>\n",
       "    <tr>\n",
       "      <th>2</th>\n",
       "      <td>1000_2</td>\n",
       "      <td>1197.26</td>\n",
       "      <td>2018-06-25</td>\n",
       "      <td>1000</td>\n",
       "      <td>6</td>\n",
       "    </tr>\n",
       "    <tr>\n",
       "      <th>3</th>\n",
       "      <td>1000_3</td>\n",
       "      <td>550.27</td>\n",
       "      <td>2018-08-22</td>\n",
       "      <td>1000</td>\n",
       "      <td>8</td>\n",
       "    </tr>\n",
       "    <tr>\n",
       "      <th>4</th>\n",
       "      <td>1000_4</td>\n",
       "      <td>302.56</td>\n",
       "      <td>2018-09-24</td>\n",
       "      <td>1000</td>\n",
       "      <td>9</td>\n",
       "    </tr>\n",
       "    <tr>\n",
       "      <th>...</th>\n",
       "      <td>...</td>\n",
       "      <td>...</td>\n",
       "      <td>...</td>\n",
       "      <td>...</td>\n",
       "      <td>...</td>\n",
       "    </tr>\n",
       "    <tr>\n",
       "      <th>149391</th>\n",
       "      <td>1499_152</td>\n",
       "      <td>318.90</td>\n",
       "      <td>2018-10-03</td>\n",
       "      <td>1499</td>\n",
       "      <td>10</td>\n",
       "    </tr>\n",
       "    <tr>\n",
       "      <th>149392</th>\n",
       "      <td>1499_153</td>\n",
       "      <td>490.13</td>\n",
       "      <td>2018-12-14</td>\n",
       "      <td>1499</td>\n",
       "      <td>12</td>\n",
       "    </tr>\n",
       "    <tr>\n",
       "      <th>149393</th>\n",
       "      <td>1499_154</td>\n",
       "      <td>0.00</td>\n",
       "      <td>2018-10-27</td>\n",
       "      <td>1499</td>\n",
       "      <td>10</td>\n",
       "    </tr>\n",
       "    <tr>\n",
       "      <th>149394</th>\n",
       "      <td>1499_155</td>\n",
       "      <td>1246.32</td>\n",
       "      <td>2018-11-26</td>\n",
       "      <td>1499</td>\n",
       "      <td>11</td>\n",
       "    </tr>\n",
       "    <tr>\n",
       "      <th>149395</th>\n",
       "      <td>1499_156</td>\n",
       "      <td>544.37</td>\n",
       "      <td>2018-10-26</td>\n",
       "      <td>1499</td>\n",
       "      <td>10</td>\n",
       "    </tr>\n",
       "  </tbody>\n",
       "</table>\n",
       "<p>149396 rows × 5 columns</p>\n",
       "</div>"
      ],
      "text/plain": [
       "              id  mb_used session_date  user_id  month\n",
       "0         1000_0   112.95   2018-11-25     1000     11\n",
       "1         1000_1  1052.81   2018-09-07     1000      9\n",
       "2         1000_2  1197.26   2018-06-25     1000      6\n",
       "3         1000_3   550.27   2018-08-22     1000      8\n",
       "4         1000_4   302.56   2018-09-24     1000      9\n",
       "...          ...      ...          ...      ...    ...\n",
       "149391  1499_152   318.90   2018-10-03     1499     10\n",
       "149392  1499_153   490.13   2018-12-14     1499     12\n",
       "149393  1499_154     0.00   2018-10-27     1499     10\n",
       "149394  1499_155  1246.32   2018-11-26     1499     11\n",
       "149395  1499_156   544.37   2018-10-26     1499     10\n",
       "\n",
       "[149396 rows x 5 columns]"
      ]
     },
     "metadata": {},
     "output_type": "display_data"
    }
   ],
   "source": [
    "display(internet)"
   ]
  },
  {
   "cell_type": "code",
   "execution_count": 35,
   "metadata": {
    "scrolled": true
   },
   "outputs": [
    {
     "data": {
      "text/plain": [
       "1453_160    1\n",
       "1134_362    1\n",
       "1098_150    1\n",
       "1342_125    1\n",
       "1441_26     1\n",
       "           ..\n",
       "1228_307    1\n",
       "1375_310    1\n",
       "1298_371    1\n",
       "1314_492    1\n",
       "1044_415    1\n",
       "Name: id, Length: 149396, dtype: int64"
      ]
     },
     "execution_count": 35,
     "metadata": {},
     "output_type": "execute_result"
    }
   ],
   "source": [
    "# проверим уникальность записей\n",
    "internet['id']\n",
    "internet['id'].value_counts()"
   ]
  },
  {
   "cell_type": "markdown",
   "metadata": {},
   "source": [
    "Все идентификаторы уникальны и в одном экземпляре."
   ]
  },
  {
   "cell_type": "code",
   "execution_count": 36,
   "metadata": {
    "scrolled": true
   },
   "outputs": [
    {
     "data": {
      "text/plain": [
       "0          112.95\n",
       "1         1052.81\n",
       "2         1197.26\n",
       "3          550.27\n",
       "4          302.56\n",
       "           ...   \n",
       "149391     318.90\n",
       "149392     490.13\n",
       "149393       0.00\n",
       "149394    1246.32\n",
       "149395     544.37\n",
       "Name: mb_used, Length: 149396, dtype: float64"
      ]
     },
     "metadata": {},
     "output_type": "display_data"
    },
    {
     "data": {
      "text/plain": [
       "count    149396.000000\n",
       "mean        370.192426\n",
       "std         278.300951\n",
       "min           0.000000\n",
       "25%         138.187500\n",
       "50%         348.015000\n",
       "75%         559.552500\n",
       "max        1724.830000\n",
       "Name: mb_used, dtype: float64"
      ]
     },
     "metadata": {},
     "output_type": "display_data"
    }
   ],
   "source": [
    "# проверим объем потраченного трафика\n",
    "display(internet['mb_used'])\n",
    "display(internet['mb_used'].describe())"
   ]
  },
  {
   "cell_type": "markdown",
   "metadata": {},
   "source": [
    "Выбросов нет. Вполне правдоподобно - длительность от 0 до 1725 МБ.\n",
    "Округлим в большую сторону все значения столбца и поменяем тип на int."
   ]
  },
  {
   "cell_type": "code",
   "execution_count": 37,
   "metadata": {
    "scrolled": true
   },
   "outputs": [
    {
     "data": {
      "text/plain": [
       "0          113\n",
       "1         1053\n",
       "2         1198\n",
       "3          551\n",
       "4          303\n",
       "          ... \n",
       "149391     319\n",
       "149392     491\n",
       "149393       0\n",
       "149394    1247\n",
       "149395     545\n",
       "Name: mb_used, Length: 149396, dtype: int64"
      ]
     },
     "metadata": {},
     "output_type": "display_data"
    }
   ],
   "source": [
    "internet['mb_used'] = internet['mb_used'].apply(round_up).astype(int)\n",
    "display(internet['mb_used'])"
   ]
  },
  {
   "cell_type": "markdown",
   "metadata": {},
   "source": [
    "В таблице *internet* приведена в соостветствие дата и кол-во использованных абонентом МБ mb_used округлено до целого вверх"
   ]
  },
  {
   "cell_type": "markdown",
   "metadata": {},
   "source": [
    "# Шаг 3. Расчет показателей для каждого пользователя: #"
   ]
  },
  {
   "cell_type": "markdown",
   "metadata": {},
   "source": [
    "**Для каждого пользователя нам необходимо посчитать:**\n",
    " - количество сделанных звонков и израсходованных минут разговора по месяцам \n",
    " - количество отправленных сообщений по месяцам \n",
    " - объем израсходованного интернет-трафика по месяцам \n",
    " - помесячную выручку с каждого пользователя "
   ]
  },
  {
   "cell_type": "code",
   "execution_count": 38,
   "metadata": {},
   "outputs": [],
   "source": [
    "#объединим сообщения и звонки\n",
    "#calls_msgs = calls.merge(messages, on=['user_id', 'month'], suffixes=['_calls', '_message'])\n",
    "#calls_msgs"
   ]
  },
  {
   "cell_type": "markdown",
   "metadata": {},
   "source": [
    "Создадим 3 таблицы: ab_calls, ab_messages, ab_internet, сгруппированные по user_id и month, в которых будет записан результат выполнения первых трех заданий"
   ]
  },
  {
   "cell_type": "code",
   "execution_count": 39,
   "metadata": {
    "scrolled": false
   },
   "outputs": [
    {
     "data": {
      "text/html": [
       "<div>\n",
       "<style scoped>\n",
       "    .dataframe tbody tr th:only-of-type {\n",
       "        vertical-align: middle;\n",
       "    }\n",
       "\n",
       "    .dataframe tbody tr th {\n",
       "        vertical-align: top;\n",
       "    }\n",
       "\n",
       "    .dataframe thead th {\n",
       "        text-align: right;\n",
       "    }\n",
       "</style>\n",
       "<table border=\"1\" class=\"dataframe\">\n",
       "  <thead>\n",
       "    <tr style=\"text-align: right;\">\n",
       "      <th></th>\n",
       "      <th>user_id</th>\n",
       "      <th>month</th>\n",
       "      <th>calls</th>\n",
       "      <th>min</th>\n",
       "    </tr>\n",
       "  </thead>\n",
       "  <tbody>\n",
       "    <tr>\n",
       "      <th>0</th>\n",
       "      <td>1000</td>\n",
       "      <td>5</td>\n",
       "      <td>22</td>\n",
       "      <td>159</td>\n",
       "    </tr>\n",
       "    <tr>\n",
       "      <th>1</th>\n",
       "      <td>1000</td>\n",
       "      <td>6</td>\n",
       "      <td>43</td>\n",
       "      <td>172</td>\n",
       "    </tr>\n",
       "    <tr>\n",
       "      <th>2</th>\n",
       "      <td>1000</td>\n",
       "      <td>7</td>\n",
       "      <td>47</td>\n",
       "      <td>340</td>\n",
       "    </tr>\n",
       "    <tr>\n",
       "      <th>3</th>\n",
       "      <td>1000</td>\n",
       "      <td>8</td>\n",
       "      <td>52</td>\n",
       "      <td>408</td>\n",
       "    </tr>\n",
       "    <tr>\n",
       "      <th>4</th>\n",
       "      <td>1000</td>\n",
       "      <td>9</td>\n",
       "      <td>58</td>\n",
       "      <td>466</td>\n",
       "    </tr>\n",
       "    <tr>\n",
       "      <th>5</th>\n",
       "      <td>1000</td>\n",
       "      <td>10</td>\n",
       "      <td>57</td>\n",
       "      <td>350</td>\n",
       "    </tr>\n",
       "    <tr>\n",
       "      <th>6</th>\n",
       "      <td>1000</td>\n",
       "      <td>11</td>\n",
       "      <td>43</td>\n",
       "      <td>338</td>\n",
       "    </tr>\n",
       "    <tr>\n",
       "      <th>7</th>\n",
       "      <td>1000</td>\n",
       "      <td>12</td>\n",
       "      <td>46</td>\n",
       "      <td>333</td>\n",
       "    </tr>\n",
       "    <tr>\n",
       "      <th>8</th>\n",
       "      <td>1001</td>\n",
       "      <td>11</td>\n",
       "      <td>59</td>\n",
       "      <td>430</td>\n",
       "    </tr>\n",
       "    <tr>\n",
       "      <th>9</th>\n",
       "      <td>1001</td>\n",
       "      <td>12</td>\n",
       "      <td>63</td>\n",
       "      <td>414</td>\n",
       "    </tr>\n",
       "  </tbody>\n",
       "</table>\n",
       "</div>"
      ],
      "text/plain": [
       "   user_id  month  calls  min\n",
       "0     1000      5     22  159\n",
       "1     1000      6     43  172\n",
       "2     1000      7     47  340\n",
       "3     1000      8     52  408\n",
       "4     1000      9     58  466\n",
       "5     1000     10     57  350\n",
       "6     1000     11     43  338\n",
       "7     1000     12     46  333\n",
       "8     1001     11     59  430\n",
       "9     1001     12     63  414"
      ]
     },
     "metadata": {},
     "output_type": "display_data"
    },
    {
     "data": {
      "text/html": [
       "<div>\n",
       "<style scoped>\n",
       "    .dataframe tbody tr th:only-of-type {\n",
       "        vertical-align: middle;\n",
       "    }\n",
       "\n",
       "    .dataframe tbody tr th {\n",
       "        vertical-align: top;\n",
       "    }\n",
       "\n",
       "    .dataframe thead th {\n",
       "        text-align: right;\n",
       "    }\n",
       "</style>\n",
       "<table border=\"1\" class=\"dataframe\">\n",
       "  <thead>\n",
       "    <tr style=\"text-align: right;\">\n",
       "      <th></th>\n",
       "      <th>user_id</th>\n",
       "      <th>month</th>\n",
       "      <th>mes</th>\n",
       "    </tr>\n",
       "  </thead>\n",
       "  <tbody>\n",
       "    <tr>\n",
       "      <th>0</th>\n",
       "      <td>1000</td>\n",
       "      <td>5</td>\n",
       "      <td>22</td>\n",
       "    </tr>\n",
       "    <tr>\n",
       "      <th>1</th>\n",
       "      <td>1000</td>\n",
       "      <td>6</td>\n",
       "      <td>60</td>\n",
       "    </tr>\n",
       "    <tr>\n",
       "      <th>2</th>\n",
       "      <td>1000</td>\n",
       "      <td>7</td>\n",
       "      <td>75</td>\n",
       "    </tr>\n",
       "    <tr>\n",
       "      <th>3</th>\n",
       "      <td>1000</td>\n",
       "      <td>8</td>\n",
       "      <td>81</td>\n",
       "    </tr>\n",
       "    <tr>\n",
       "      <th>4</th>\n",
       "      <td>1000</td>\n",
       "      <td>9</td>\n",
       "      <td>57</td>\n",
       "    </tr>\n",
       "    <tr>\n",
       "      <th>5</th>\n",
       "      <td>1000</td>\n",
       "      <td>10</td>\n",
       "      <td>73</td>\n",
       "    </tr>\n",
       "    <tr>\n",
       "      <th>6</th>\n",
       "      <td>1000</td>\n",
       "      <td>11</td>\n",
       "      <td>58</td>\n",
       "    </tr>\n",
       "    <tr>\n",
       "      <th>7</th>\n",
       "      <td>1000</td>\n",
       "      <td>12</td>\n",
       "      <td>70</td>\n",
       "    </tr>\n",
       "    <tr>\n",
       "      <th>8</th>\n",
       "      <td>1002</td>\n",
       "      <td>6</td>\n",
       "      <td>4</td>\n",
       "    </tr>\n",
       "    <tr>\n",
       "      <th>9</th>\n",
       "      <td>1002</td>\n",
       "      <td>7</td>\n",
       "      <td>11</td>\n",
       "    </tr>\n",
       "  </tbody>\n",
       "</table>\n",
       "</div>"
      ],
      "text/plain": [
       "   user_id  month  mes\n",
       "0     1000      5   22\n",
       "1     1000      6   60\n",
       "2     1000      7   75\n",
       "3     1000      8   81\n",
       "4     1000      9   57\n",
       "5     1000     10   73\n",
       "6     1000     11   58\n",
       "7     1000     12   70\n",
       "8     1002      6    4\n",
       "9     1002      7   11"
      ]
     },
     "metadata": {},
     "output_type": "display_data"
    },
    {
     "data": {
      "text/html": [
       "<div>\n",
       "<style scoped>\n",
       "    .dataframe tbody tr th:only-of-type {\n",
       "        vertical-align: middle;\n",
       "    }\n",
       "\n",
       "    .dataframe tbody tr th {\n",
       "        vertical-align: top;\n",
       "    }\n",
       "\n",
       "    .dataframe thead th {\n",
       "        text-align: right;\n",
       "    }\n",
       "</style>\n",
       "<table border=\"1\" class=\"dataframe\">\n",
       "  <thead>\n",
       "    <tr style=\"text-align: right;\">\n",
       "      <th></th>\n",
       "      <th>user_id</th>\n",
       "      <th>month</th>\n",
       "      <th>mb</th>\n",
       "    </tr>\n",
       "  </thead>\n",
       "  <tbody>\n",
       "    <tr>\n",
       "      <th>0</th>\n",
       "      <td>1000</td>\n",
       "      <td>5</td>\n",
       "      <td>2256</td>\n",
       "    </tr>\n",
       "    <tr>\n",
       "      <th>1</th>\n",
       "      <td>1000</td>\n",
       "      <td>6</td>\n",
       "      <td>23257</td>\n",
       "    </tr>\n",
       "    <tr>\n",
       "      <th>2</th>\n",
       "      <td>1000</td>\n",
       "      <td>7</td>\n",
       "      <td>14016</td>\n",
       "    </tr>\n",
       "    <tr>\n",
       "      <th>3</th>\n",
       "      <td>1000</td>\n",
       "      <td>8</td>\n",
       "      <td>14070</td>\n",
       "    </tr>\n",
       "    <tr>\n",
       "      <th>4</th>\n",
       "      <td>1000</td>\n",
       "      <td>9</td>\n",
       "      <td>14581</td>\n",
       "    </tr>\n",
       "    <tr>\n",
       "      <th>5</th>\n",
       "      <td>1000</td>\n",
       "      <td>10</td>\n",
       "      <td>14717</td>\n",
       "    </tr>\n",
       "    <tr>\n",
       "      <th>6</th>\n",
       "      <td>1000</td>\n",
       "      <td>11</td>\n",
       "      <td>14768</td>\n",
       "    </tr>\n",
       "    <tr>\n",
       "      <th>7</th>\n",
       "      <td>1000</td>\n",
       "      <td>12</td>\n",
       "      <td>9827</td>\n",
       "    </tr>\n",
       "    <tr>\n",
       "      <th>8</th>\n",
       "      <td>1001</td>\n",
       "      <td>11</td>\n",
       "      <td>18452</td>\n",
       "    </tr>\n",
       "    <tr>\n",
       "      <th>9</th>\n",
       "      <td>1001</td>\n",
       "      <td>12</td>\n",
       "      <td>14053</td>\n",
       "    </tr>\n",
       "  </tbody>\n",
       "</table>\n",
       "</div>"
      ],
      "text/plain": [
       "   user_id  month     mb\n",
       "0     1000      5   2256\n",
       "1     1000      6  23257\n",
       "2     1000      7  14016\n",
       "3     1000      8  14070\n",
       "4     1000      9  14581\n",
       "5     1000     10  14717\n",
       "6     1000     11  14768\n",
       "7     1000     12   9827\n",
       "8     1001     11  18452\n",
       "9     1001     12  14053"
      ]
     },
     "metadata": {},
     "output_type": "display_data"
    }
   ],
   "source": [
    "abonent = pd.DataFrame()\n",
    "\n",
    "ab_calls = calls.groupby(['user_id', 'month'])['duration'].agg(['count','sum']).reset_index()\n",
    "ab_calls.columns = ['user_id', 'month', 'calls', 'min']\n",
    "\n",
    "ab_messages = messages.groupby(['user_id', 'month'])['id'].count().reset_index()\n",
    "ab_messages.columns = ['user_id', 'month', 'mes']\n",
    "\n",
    "ab_internet = internet.groupby(['user_id', 'month'])['mb_used'].sum().reset_index()\n",
    "ab_internet.columns = ['user_id', 'month', 'mb']\n",
    "\n",
    "display(ab_calls.head(10))\n",
    "display(ab_messages.head(10))\n",
    "display(ab_internet.head(10))"
   ]
  },
  {
   "cell_type": "markdown",
   "metadata": {},
   "source": [
    "Тепрерь создадим из 3 таблиц ab_calls, ab_messages, ab_internet главную таблицу abonents"
   ]
  },
  {
   "cell_type": "code",
   "execution_count": 40,
   "metadata": {
    "scrolled": true
   },
   "outputs": [
    {
     "data": {
      "text/html": [
       "<div>\n",
       "<style scoped>\n",
       "    .dataframe tbody tr th:only-of-type {\n",
       "        vertical-align: middle;\n",
       "    }\n",
       "\n",
       "    .dataframe tbody tr th {\n",
       "        vertical-align: top;\n",
       "    }\n",
       "\n",
       "    .dataframe thead th {\n",
       "        text-align: right;\n",
       "    }\n",
       "</style>\n",
       "<table border=\"1\" class=\"dataframe\">\n",
       "  <thead>\n",
       "    <tr style=\"text-align: right;\">\n",
       "      <th></th>\n",
       "      <th>user_id</th>\n",
       "      <th>month</th>\n",
       "      <th>calls</th>\n",
       "      <th>min</th>\n",
       "      <th>mes</th>\n",
       "      <th>mb</th>\n",
       "      <th>city</th>\n",
       "      <th>tariff</th>\n",
       "    </tr>\n",
       "  </thead>\n",
       "  <tbody>\n",
       "    <tr>\n",
       "      <th>0</th>\n",
       "      <td>1000</td>\n",
       "      <td>5.0</td>\n",
       "      <td>22.0</td>\n",
       "      <td>159.0</td>\n",
       "      <td>22.0</td>\n",
       "      <td>2256.0</td>\n",
       "      <td>Краснодар</td>\n",
       "      <td>ultra</td>\n",
       "    </tr>\n",
       "    <tr>\n",
       "      <th>1</th>\n",
       "      <td>1000</td>\n",
       "      <td>6.0</td>\n",
       "      <td>43.0</td>\n",
       "      <td>172.0</td>\n",
       "      <td>60.0</td>\n",
       "      <td>23257.0</td>\n",
       "      <td>Краснодар</td>\n",
       "      <td>ultra</td>\n",
       "    </tr>\n",
       "    <tr>\n",
       "      <th>2</th>\n",
       "      <td>1000</td>\n",
       "      <td>7.0</td>\n",
       "      <td>47.0</td>\n",
       "      <td>340.0</td>\n",
       "      <td>75.0</td>\n",
       "      <td>14016.0</td>\n",
       "      <td>Краснодар</td>\n",
       "      <td>ultra</td>\n",
       "    </tr>\n",
       "    <tr>\n",
       "      <th>3</th>\n",
       "      <td>1000</td>\n",
       "      <td>8.0</td>\n",
       "      <td>52.0</td>\n",
       "      <td>408.0</td>\n",
       "      <td>81.0</td>\n",
       "      <td>14070.0</td>\n",
       "      <td>Краснодар</td>\n",
       "      <td>ultra</td>\n",
       "    </tr>\n",
       "    <tr>\n",
       "      <th>4</th>\n",
       "      <td>1000</td>\n",
       "      <td>9.0</td>\n",
       "      <td>58.0</td>\n",
       "      <td>466.0</td>\n",
       "      <td>57.0</td>\n",
       "      <td>14581.0</td>\n",
       "      <td>Краснодар</td>\n",
       "      <td>ultra</td>\n",
       "    </tr>\n",
       "    <tr>\n",
       "      <th>...</th>\n",
       "      <td>...</td>\n",
       "      <td>...</td>\n",
       "      <td>...</td>\n",
       "      <td>...</td>\n",
       "      <td>...</td>\n",
       "      <td>...</td>\n",
       "      <td>...</td>\n",
       "      <td>...</td>\n",
       "    </tr>\n",
       "    <tr>\n",
       "      <th>3211</th>\n",
       "      <td>1489</td>\n",
       "      <td>10.0</td>\n",
       "      <td>NaN</td>\n",
       "      <td>NaN</td>\n",
       "      <td>21.0</td>\n",
       "      <td>19588.0</td>\n",
       "      <td>Санкт-Петербург</td>\n",
       "      <td>smart</td>\n",
       "    </tr>\n",
       "    <tr>\n",
       "      <th>3212</th>\n",
       "      <td>1489</td>\n",
       "      <td>11.0</td>\n",
       "      <td>NaN</td>\n",
       "      <td>NaN</td>\n",
       "      <td>20.0</td>\n",
       "      <td>17516.0</td>\n",
       "      <td>Санкт-Петербург</td>\n",
       "      <td>smart</td>\n",
       "    </tr>\n",
       "    <tr>\n",
       "      <th>3213</th>\n",
       "      <td>1489</td>\n",
       "      <td>12.0</td>\n",
       "      <td>NaN</td>\n",
       "      <td>NaN</td>\n",
       "      <td>35.0</td>\n",
       "      <td>17341.0</td>\n",
       "      <td>Санкт-Петербург</td>\n",
       "      <td>smart</td>\n",
       "    </tr>\n",
       "    <tr>\n",
       "      <th>3214</th>\n",
       "      <td>1128</td>\n",
       "      <td>NaN</td>\n",
       "      <td>NaN</td>\n",
       "      <td>NaN</td>\n",
       "      <td>NaN</td>\n",
       "      <td>NaN</td>\n",
       "      <td>Волжский</td>\n",
       "      <td>ultra</td>\n",
       "    </tr>\n",
       "    <tr>\n",
       "      <th>3215</th>\n",
       "      <td>1371</td>\n",
       "      <td>NaN</td>\n",
       "      <td>NaN</td>\n",
       "      <td>NaN</td>\n",
       "      <td>NaN</td>\n",
       "      <td>NaN</td>\n",
       "      <td>Омск</td>\n",
       "      <td>smart</td>\n",
       "    </tr>\n",
       "  </tbody>\n",
       "</table>\n",
       "<p>3216 rows × 8 columns</p>\n",
       "</div>"
      ],
      "text/plain": [
       "      user_id  month  calls    min   mes       mb             city tariff\n",
       "0        1000    5.0   22.0  159.0  22.0   2256.0        Краснодар  ultra\n",
       "1        1000    6.0   43.0  172.0  60.0  23257.0        Краснодар  ultra\n",
       "2        1000    7.0   47.0  340.0  75.0  14016.0        Краснодар  ultra\n",
       "3        1000    8.0   52.0  408.0  81.0  14070.0        Краснодар  ultra\n",
       "4        1000    9.0   58.0  466.0  57.0  14581.0        Краснодар  ultra\n",
       "...       ...    ...    ...    ...   ...      ...              ...    ...\n",
       "3211     1489   10.0    NaN    NaN  21.0  19588.0  Санкт-Петербург  smart\n",
       "3212     1489   11.0    NaN    NaN  20.0  17516.0  Санкт-Петербург  smart\n",
       "3213     1489   12.0    NaN    NaN  35.0  17341.0  Санкт-Петербург  smart\n",
       "3214     1128    NaN    NaN    NaN   NaN      NaN         Волжский  ultra\n",
       "3215     1371    NaN    NaN    NaN   NaN      NaN             Омск  smart\n",
       "\n",
       "[3216 rows x 8 columns]"
      ]
     },
     "execution_count": 40,
     "metadata": {},
     "output_type": "execute_result"
    }
   ],
   "source": [
    "all_abonents = users.loc[:,['user_id', 'city', 'tariff']]\n",
    "\n",
    "# abonents = pd.merge(abonents, ab_calls, how='inner', on='user_id')\n",
    "abonents = pd.merge(ab_calls, ab_messages, how='outer', on=['user_id', 'month']) # , on=['user_id', 'month']   inner\n",
    "abonents = pd.merge(abonents, ab_internet, how='outer', on=['user_id', 'month']) # , on=['user_id', 'month']\n",
    "abonents = pd.merge(abonents, all_abonents, how='outer', on=['user_id'])\n",
    "abonents\n"
   ]
  },
  {
   "cell_type": "markdown",
   "metadata": {},
   "source": [
    "Напишем функцию ab_test для проверки корректности слияния трех таблиц ab_calls, ab_messages, ab_internet в таблицу abonents. Функция принимает номер абонента - user_id (от 1000-1499) и распечатывает для сравнения \"вручную\" данные по абоненту из таблицы abonents и из 3 таблиц ab_calls, ab_messages, ab_internet"
   ]
  },
  {
   "cell_type": "code",
   "execution_count": 41,
   "metadata": {
    "scrolled": true
   },
   "outputs": [
    {
     "name": "stdout",
     "output_type": "stream",
     "text": [
      "Объединенная таблица\n"
     ]
    },
    {
     "data": {
      "text/html": [
       "<div>\n",
       "<style scoped>\n",
       "    .dataframe tbody tr th:only-of-type {\n",
       "        vertical-align: middle;\n",
       "    }\n",
       "\n",
       "    .dataframe tbody tr th {\n",
       "        vertical-align: top;\n",
       "    }\n",
       "\n",
       "    .dataframe thead th {\n",
       "        text-align: right;\n",
       "    }\n",
       "</style>\n",
       "<table border=\"1\" class=\"dataframe\">\n",
       "  <thead>\n",
       "    <tr style=\"text-align: right;\">\n",
       "      <th></th>\n",
       "      <th>user_id</th>\n",
       "      <th>month</th>\n",
       "      <th>calls</th>\n",
       "      <th>min</th>\n",
       "      <th>mes</th>\n",
       "      <th>mb</th>\n",
       "      <th>city</th>\n",
       "      <th>tariff</th>\n",
       "    </tr>\n",
       "  </thead>\n",
       "  <tbody>\n",
       "    <tr>\n",
       "      <th>1398</th>\n",
       "      <td>1222</td>\n",
       "      <td>8.0</td>\n",
       "      <td>9.0</td>\n",
       "      <td>28.0</td>\n",
       "      <td>4.0</td>\n",
       "      <td>2292.0</td>\n",
       "      <td>Уфа</td>\n",
       "      <td>ultra</td>\n",
       "    </tr>\n",
       "    <tr>\n",
       "      <th>1399</th>\n",
       "      <td>1222</td>\n",
       "      <td>9.0</td>\n",
       "      <td>180.0</td>\n",
       "      <td>1261.0</td>\n",
       "      <td>109.0</td>\n",
       "      <td>19444.0</td>\n",
       "      <td>Уфа</td>\n",
       "      <td>ultra</td>\n",
       "    </tr>\n",
       "    <tr>\n",
       "      <th>1400</th>\n",
       "      <td>1222</td>\n",
       "      <td>10.0</td>\n",
       "      <td>196.0</td>\n",
       "      <td>1322.0</td>\n",
       "      <td>133.0</td>\n",
       "      <td>26952.0</td>\n",
       "      <td>Уфа</td>\n",
       "      <td>ultra</td>\n",
       "    </tr>\n",
       "    <tr>\n",
       "      <th>1401</th>\n",
       "      <td>1222</td>\n",
       "      <td>11.0</td>\n",
       "      <td>156.0</td>\n",
       "      <td>1027.0</td>\n",
       "      <td>114.0</td>\n",
       "      <td>21553.0</td>\n",
       "      <td>Уфа</td>\n",
       "      <td>ultra</td>\n",
       "    </tr>\n",
       "    <tr>\n",
       "      <th>1402</th>\n",
       "      <td>1222</td>\n",
       "      <td>12.0</td>\n",
       "      <td>184.0</td>\n",
       "      <td>1261.0</td>\n",
       "      <td>135.0</td>\n",
       "      <td>24774.0</td>\n",
       "      <td>Уфа</td>\n",
       "      <td>ultra</td>\n",
       "    </tr>\n",
       "  </tbody>\n",
       "</table>\n",
       "</div>"
      ],
      "text/plain": [
       "      user_id  month  calls     min    mes       mb city tariff\n",
       "1398     1222    8.0    9.0    28.0    4.0   2292.0  Уфа  ultra\n",
       "1399     1222    9.0  180.0  1261.0  109.0  19444.0  Уфа  ultra\n",
       "1400     1222   10.0  196.0  1322.0  133.0  26952.0  Уфа  ultra\n",
       "1401     1222   11.0  156.0  1027.0  114.0  21553.0  Уфа  ultra\n",
       "1402     1222   12.0  184.0  1261.0  135.0  24774.0  Уфа  ultra"
      ]
     },
     "metadata": {},
     "output_type": "display_data"
    },
    {
     "name": "stdout",
     "output_type": "stream",
     "text": [
      "\n",
      "3 таблицы : \n"
     ]
    },
    {
     "data": {
      "text/html": [
       "<div>\n",
       "<style scoped>\n",
       "    .dataframe tbody tr th:only-of-type {\n",
       "        vertical-align: middle;\n",
       "    }\n",
       "\n",
       "    .dataframe tbody tr th {\n",
       "        vertical-align: top;\n",
       "    }\n",
       "\n",
       "    .dataframe thead th {\n",
       "        text-align: right;\n",
       "    }\n",
       "</style>\n",
       "<table border=\"1\" class=\"dataframe\">\n",
       "  <thead>\n",
       "    <tr style=\"text-align: right;\">\n",
       "      <th></th>\n",
       "      <th>user_id</th>\n",
       "      <th>month</th>\n",
       "      <th>calls</th>\n",
       "      <th>min</th>\n",
       "    </tr>\n",
       "  </thead>\n",
       "  <tbody>\n",
       "    <tr>\n",
       "      <th>1398</th>\n",
       "      <td>1222</td>\n",
       "      <td>8</td>\n",
       "      <td>9</td>\n",
       "      <td>28</td>\n",
       "    </tr>\n",
       "    <tr>\n",
       "      <th>1399</th>\n",
       "      <td>1222</td>\n",
       "      <td>9</td>\n",
       "      <td>180</td>\n",
       "      <td>1261</td>\n",
       "    </tr>\n",
       "    <tr>\n",
       "      <th>1400</th>\n",
       "      <td>1222</td>\n",
       "      <td>10</td>\n",
       "      <td>196</td>\n",
       "      <td>1322</td>\n",
       "    </tr>\n",
       "    <tr>\n",
       "      <th>1401</th>\n",
       "      <td>1222</td>\n",
       "      <td>11</td>\n",
       "      <td>156</td>\n",
       "      <td>1027</td>\n",
       "    </tr>\n",
       "    <tr>\n",
       "      <th>1402</th>\n",
       "      <td>1222</td>\n",
       "      <td>12</td>\n",
       "      <td>184</td>\n",
       "      <td>1261</td>\n",
       "    </tr>\n",
       "  </tbody>\n",
       "</table>\n",
       "</div>"
      ],
      "text/plain": [
       "      user_id  month  calls   min\n",
       "1398     1222      8      9    28\n",
       "1399     1222      9    180  1261\n",
       "1400     1222     10    196  1322\n",
       "1401     1222     11    156  1027\n",
       "1402     1222     12    184  1261"
      ]
     },
     "metadata": {},
     "output_type": "display_data"
    },
    {
     "data": {
      "text/html": [
       "<div>\n",
       "<style scoped>\n",
       "    .dataframe tbody tr th:only-of-type {\n",
       "        vertical-align: middle;\n",
       "    }\n",
       "\n",
       "    .dataframe tbody tr th {\n",
       "        vertical-align: top;\n",
       "    }\n",
       "\n",
       "    .dataframe thead th {\n",
       "        text-align: right;\n",
       "    }\n",
       "</style>\n",
       "<table border=\"1\" class=\"dataframe\">\n",
       "  <thead>\n",
       "    <tr style=\"text-align: right;\">\n",
       "      <th></th>\n",
       "      <th>user_id</th>\n",
       "      <th>month</th>\n",
       "      <th>mes</th>\n",
       "    </tr>\n",
       "  </thead>\n",
       "  <tbody>\n",
       "    <tr>\n",
       "      <th>1163</th>\n",
       "      <td>1222</td>\n",
       "      <td>8</td>\n",
       "      <td>4</td>\n",
       "    </tr>\n",
       "    <tr>\n",
       "      <th>1164</th>\n",
       "      <td>1222</td>\n",
       "      <td>9</td>\n",
       "      <td>109</td>\n",
       "    </tr>\n",
       "    <tr>\n",
       "      <th>1165</th>\n",
       "      <td>1222</td>\n",
       "      <td>10</td>\n",
       "      <td>133</td>\n",
       "    </tr>\n",
       "    <tr>\n",
       "      <th>1166</th>\n",
       "      <td>1222</td>\n",
       "      <td>11</td>\n",
       "      <td>114</td>\n",
       "    </tr>\n",
       "    <tr>\n",
       "      <th>1167</th>\n",
       "      <td>1222</td>\n",
       "      <td>12</td>\n",
       "      <td>135</td>\n",
       "    </tr>\n",
       "  </tbody>\n",
       "</table>\n",
       "</div>"
      ],
      "text/plain": [
       "      user_id  month  mes\n",
       "1163     1222      8    4\n",
       "1164     1222      9  109\n",
       "1165     1222     10  133\n",
       "1166     1222     11  114\n",
       "1167     1222     12  135"
      ]
     },
     "metadata": {},
     "output_type": "display_data"
    },
    {
     "data": {
      "text/html": [
       "<div>\n",
       "<style scoped>\n",
       "    .dataframe tbody tr th:only-of-type {\n",
       "        vertical-align: middle;\n",
       "    }\n",
       "\n",
       "    .dataframe tbody tr th {\n",
       "        vertical-align: top;\n",
       "    }\n",
       "\n",
       "    .dataframe thead th {\n",
       "        text-align: right;\n",
       "    }\n",
       "</style>\n",
       "<table border=\"1\" class=\"dataframe\">\n",
       "  <thead>\n",
       "    <tr style=\"text-align: right;\">\n",
       "      <th></th>\n",
       "      <th>user_id</th>\n",
       "      <th>month</th>\n",
       "      <th>mb</th>\n",
       "    </tr>\n",
       "  </thead>\n",
       "  <tbody>\n",
       "    <tr>\n",
       "      <th>1415</th>\n",
       "      <td>1222</td>\n",
       "      <td>8</td>\n",
       "      <td>2292</td>\n",
       "    </tr>\n",
       "    <tr>\n",
       "      <th>1416</th>\n",
       "      <td>1222</td>\n",
       "      <td>9</td>\n",
       "      <td>19444</td>\n",
       "    </tr>\n",
       "    <tr>\n",
       "      <th>1417</th>\n",
       "      <td>1222</td>\n",
       "      <td>10</td>\n",
       "      <td>26952</td>\n",
       "    </tr>\n",
       "    <tr>\n",
       "      <th>1418</th>\n",
       "      <td>1222</td>\n",
       "      <td>11</td>\n",
       "      <td>21553</td>\n",
       "    </tr>\n",
       "    <tr>\n",
       "      <th>1419</th>\n",
       "      <td>1222</td>\n",
       "      <td>12</td>\n",
       "      <td>24774</td>\n",
       "    </tr>\n",
       "  </tbody>\n",
       "</table>\n",
       "</div>"
      ],
      "text/plain": [
       "      user_id  month     mb\n",
       "1415     1222      8   2292\n",
       "1416     1222      9  19444\n",
       "1417     1222     10  26952\n",
       "1418     1222     11  21553\n",
       "1419     1222     12  24774"
      ]
     },
     "metadata": {},
     "output_type": "display_data"
    }
   ],
   "source": [
    "def ab_test(us_id):\n",
    "    print(\"Объединенная таблица\")\n",
    "    display(abonents.loc[abonents['user_id']==us_id])\n",
    "    print()\n",
    "    print(\"3 таблицы : \")\n",
    "    display(ab_calls.loc[ab_calls['user_id']==us_id])\n",
    "    display(ab_messages.loc[ab_messages['user_id']==us_id])\n",
    "    display(ab_internet.loc[ab_internet['user_id']==us_id])\n",
    "    \n",
    "ab_test(1222)"
   ]
  },
  {
   "cell_type": "code",
   "execution_count": 42,
   "metadata": {},
   "outputs": [
    {
     "data": {
      "text/plain": [
       "500"
      ]
     },
     "execution_count": 42,
     "metadata": {},
     "output_type": "execute_result"
    }
   ],
   "source": [
    "abonents['user_id'].nunique()"
   ]
  },
  {
   "cell_type": "markdown",
   "metadata": {},
   "source": [
    "всё корректно"
   ]
  },
  {
   "cell_type": "markdown",
   "metadata": {},
   "source": [
    "Чтобы посчитать выручку income за месяц надо избавиться от пропусков NaN. Логично заполнить их нулями. Там где не было звонков - 0, минут - 0, не было СМС - 0, не было интернет-трафика - 0 МБ\n",
    "\n",
    "Посмотрим сколько у нас пропусков в таблице abonents"
   ]
  },
  {
   "cell_type": "code",
   "execution_count": 43,
   "metadata": {
    "scrolled": true
   },
   "outputs": [
    {
     "data": {
      "text/plain": [
       "user_id      0\n",
       "month        2\n",
       "calls       42\n",
       "min         42\n",
       "mes        499\n",
       "mb          13\n",
       "city         0\n",
       "tariff       0\n",
       "dtype: int64"
      ]
     },
     "execution_count": 43,
     "metadata": {},
     "output_type": "execute_result"
    }
   ],
   "source": [
    "abonents.isna().sum()"
   ]
  },
  {
   "cell_type": "code",
   "execution_count": 44,
   "metadata": {
    "scrolled": true
   },
   "outputs": [
    {
     "data": {
      "text/html": [
       "<div>\n",
       "<style scoped>\n",
       "    .dataframe tbody tr th:only-of-type {\n",
       "        vertical-align: middle;\n",
       "    }\n",
       "\n",
       "    .dataframe tbody tr th {\n",
       "        vertical-align: top;\n",
       "    }\n",
       "\n",
       "    .dataframe thead th {\n",
       "        text-align: right;\n",
       "    }\n",
       "</style>\n",
       "<table border=\"1\" class=\"dataframe\">\n",
       "  <thead>\n",
       "    <tr style=\"text-align: right;\">\n",
       "      <th></th>\n",
       "      <th>user_id</th>\n",
       "      <th>month</th>\n",
       "      <th>calls</th>\n",
       "      <th>min</th>\n",
       "      <th>mes</th>\n",
       "      <th>mb</th>\n",
       "      <th>city</th>\n",
       "      <th>tariff</th>\n",
       "    </tr>\n",
       "  </thead>\n",
       "  <tbody>\n",
       "    <tr>\n",
       "      <th>3214</th>\n",
       "      <td>1128</td>\n",
       "      <td>NaN</td>\n",
       "      <td>NaN</td>\n",
       "      <td>NaN</td>\n",
       "      <td>NaN</td>\n",
       "      <td>NaN</td>\n",
       "      <td>Волжский</td>\n",
       "      <td>ultra</td>\n",
       "    </tr>\n",
       "    <tr>\n",
       "      <th>3215</th>\n",
       "      <td>1371</td>\n",
       "      <td>NaN</td>\n",
       "      <td>NaN</td>\n",
       "      <td>NaN</td>\n",
       "      <td>NaN</td>\n",
       "      <td>NaN</td>\n",
       "      <td>Омск</td>\n",
       "      <td>smart</td>\n",
       "    </tr>\n",
       "  </tbody>\n",
       "</table>\n",
       "</div>"
      ],
      "text/plain": [
       "      user_id  month  calls  min  mes  mb      city tariff\n",
       "3214     1128    NaN    NaN  NaN  NaN NaN  Волжский  ultra\n",
       "3215     1371    NaN    NaN  NaN  NaN NaN      Омск  smart"
      ]
     },
     "metadata": {},
     "output_type": "display_data"
    }
   ],
   "source": [
    "display(abonents[abonents['month'].isna()])"
   ]
  },
  {
   "cell_type": "markdown",
   "metadata": {},
   "source": [
    "Есть пропуски в столбце month. Это 2 абонента вероятно подключенных в конце года - поставим в столбце с месяцем 12 (декабрь) и посчитаем, что раз подключился, то выручка в декабре будет равна абонентской плате по тарифу."
   ]
  },
  {
   "cell_type": "code",
   "execution_count": 45,
   "metadata": {
    "scrolled": true
   },
   "outputs": [
    {
     "data": {
      "text/plain": [
       "user_id    0\n",
       "month      0\n",
       "calls      0\n",
       "min        0\n",
       "mes        0\n",
       "mb         0\n",
       "city       0\n",
       "tariff     0\n",
       "dtype: int64"
      ]
     },
     "execution_count": 45,
     "metadata": {},
     "output_type": "execute_result"
    }
   ],
   "source": [
    "abonents.loc[:,['calls', 'min', 'mes', 'mb']] = abonents.loc[:,['calls', 'min', 'mes', 'mb']].fillna(0)\n",
    "abonents.loc[:,['month']] = abonents.loc[:,['month']].fillna(12)\n",
    "abonents.isna().sum()"
   ]
  },
  {
   "cell_type": "markdown",
   "metadata": {},
   "source": [
    "Добавим новый столбец выручка - income в таблицу abonents. \n",
    "Напишем функцию income_month, которая принимает строку, и возвращает значение выручки\n"
   ]
  },
  {
   "cell_type": "code",
   "execution_count": 46,
   "metadata": {
    "scrolled": true
   },
   "outputs": [
    {
     "data": {
      "text/html": [
       "<div>\n",
       "<style scoped>\n",
       "    .dataframe tbody tr th:only-of-type {\n",
       "        vertical-align: middle;\n",
       "    }\n",
       "\n",
       "    .dataframe tbody tr th {\n",
       "        vertical-align: top;\n",
       "    }\n",
       "\n",
       "    .dataframe thead th {\n",
       "        text-align: right;\n",
       "    }\n",
       "</style>\n",
       "<table border=\"1\" class=\"dataframe\">\n",
       "  <thead>\n",
       "    <tr style=\"text-align: right;\">\n",
       "      <th></th>\n",
       "      <th>user_id</th>\n",
       "      <th>month</th>\n",
       "      <th>calls</th>\n",
       "      <th>min</th>\n",
       "      <th>mes</th>\n",
       "      <th>mb</th>\n",
       "      <th>city</th>\n",
       "      <th>tariff</th>\n",
       "    </tr>\n",
       "  </thead>\n",
       "  <tbody>\n",
       "    <tr>\n",
       "      <th>656</th>\n",
       "      <td>1104</td>\n",
       "      <td>10.0</td>\n",
       "      <td>48.0</td>\n",
       "      <td>338.0</td>\n",
       "      <td>73.0</td>\n",
       "      <td>18658.0</td>\n",
       "      <td>Нижний Тагил</td>\n",
       "      <td>ultra</td>\n",
       "    </tr>\n",
       "    <tr>\n",
       "      <th>2767</th>\n",
       "      <td>1433</td>\n",
       "      <td>5.0</td>\n",
       "      <td>76.0</td>\n",
       "      <td>554.0</td>\n",
       "      <td>94.0</td>\n",
       "      <td>14159.0</td>\n",
       "      <td>Подольск</td>\n",
       "      <td>smart</td>\n",
       "    </tr>\n",
       "    <tr>\n",
       "      <th>232</th>\n",
       "      <td>1036</td>\n",
       "      <td>8.0</td>\n",
       "      <td>80.0</td>\n",
       "      <td>554.0</td>\n",
       "      <td>3.0</td>\n",
       "      <td>16855.0</td>\n",
       "      <td>Санкт-Петербург</td>\n",
       "      <td>smart</td>\n",
       "    </tr>\n",
       "  </tbody>\n",
       "</table>\n",
       "</div>"
      ],
      "text/plain": [
       "      user_id  month  calls    min   mes       mb             city tariff\n",
       "656      1104   10.0   48.0  338.0  73.0  18658.0     Нижний Тагил  ultra\n",
       "2767     1433    5.0   76.0  554.0  94.0  14159.0         Подольск  smart\n",
       "232      1036    8.0   80.0  554.0   3.0  16855.0  Санкт-Петербург  smart"
      ]
     },
     "execution_count": 46,
     "metadata": {},
     "output_type": "execute_result"
    }
   ],
   "source": [
    "abonents.sample(3)"
   ]
  },
  {
   "cell_type": "code",
   "execution_count": 47,
   "metadata": {
    "scrolled": true
   },
   "outputs": [
    {
     "name": "stdout",
     "output_type": "stream",
     "text": [
      "1\n"
     ]
    }
   ],
   "source": [
    "print(tariffs.loc[1,'rub_per_message'])"
   ]
  },
  {
   "cell_type": "code",
   "execution_count": 48,
   "metadata": {
    "scrolled": true
   },
   "outputs": [
    {
     "data": {
      "text/html": [
       "<div>\n",
       "<style scoped>\n",
       "    .dataframe tbody tr th:only-of-type {\n",
       "        vertical-align: middle;\n",
       "    }\n",
       "\n",
       "    .dataframe tbody tr th {\n",
       "        vertical-align: top;\n",
       "    }\n",
       "\n",
       "    .dataframe thead th {\n",
       "        text-align: right;\n",
       "    }\n",
       "</style>\n",
       "<table border=\"1\" class=\"dataframe\">\n",
       "  <thead>\n",
       "    <tr style=\"text-align: right;\">\n",
       "      <th></th>\n",
       "      <th>messages_included</th>\n",
       "      <th>mb_per_month_included</th>\n",
       "      <th>minutes_included</th>\n",
       "      <th>rub_monthly_fee</th>\n",
       "      <th>rub_per_gb</th>\n",
       "      <th>rub_per_message</th>\n",
       "      <th>rub_per_minute</th>\n",
       "      <th>tariff_name</th>\n",
       "    </tr>\n",
       "  </thead>\n",
       "  <tbody>\n",
       "    <tr>\n",
       "      <th>0</th>\n",
       "      <td>50</td>\n",
       "      <td>15360</td>\n",
       "      <td>500</td>\n",
       "      <td>550</td>\n",
       "      <td>200</td>\n",
       "      <td>3</td>\n",
       "      <td>3</td>\n",
       "      <td>smart</td>\n",
       "    </tr>\n",
       "    <tr>\n",
       "      <th>1</th>\n",
       "      <td>1000</td>\n",
       "      <td>30720</td>\n",
       "      <td>3000</td>\n",
       "      <td>1950</td>\n",
       "      <td>150</td>\n",
       "      <td>1</td>\n",
       "      <td>1</td>\n",
       "      <td>ultra</td>\n",
       "    </tr>\n",
       "  </tbody>\n",
       "</table>\n",
       "</div>"
      ],
      "text/plain": [
       "   messages_included  mb_per_month_included  minutes_included  \\\n",
       "0                 50                  15360               500   \n",
       "1               1000                  30720              3000   \n",
       "\n",
       "   rub_monthly_fee  rub_per_gb  rub_per_message  rub_per_minute tariff_name  \n",
       "0              550         200                3               3       smart  \n",
       "1             1950         150                1               1       ultra  "
      ]
     },
     "execution_count": 48,
     "metadata": {},
     "output_type": "execute_result"
    }
   ],
   "source": [
    "tariffs"
   ]
  },
  {
   "cell_type": "code",
   "execution_count": 49,
   "metadata": {},
   "outputs": [],
   "source": [
    "def income_month(ab_month):\n",
    "        \n",
    "    if ab_month['tariff'] == 'smart':\n",
    "        \n",
    "        inc_calls = (ab_month['min'] - tariffs.loc[0,'minutes_included']) * tariffs.loc[0,'rub_per_minute']\n",
    "        if inc_calls < 0 :\n",
    "            inc_calls = 0\n",
    "        \n",
    "        inc_mess = (ab_month['mes'] - tariffs.loc[0,'messages_included']) * tariffs.loc[0,'rub_per_message']\n",
    "        if inc_mess < 0 :\n",
    "            inc_mess = 0\n",
    "        \n",
    "       \n",
    "        inc_mb  = round_up((ab_month['mb'] - tariffs.loc[0,'mb_per_month_included'])/1024) * tariffs.loc[0,'rub_per_gb'] \n",
    "        if inc_mb < 0 :\n",
    "            inc_mb = 0\n",
    "             \n",
    "        inc = inc_calls + inc_mess + inc_mb + tariffs.loc[0,'rub_monthly_fee']\n",
    "        \n",
    "    elif ab_month['tariff'] == 'ultra':\n",
    "        \n",
    "        inc_calls = (ab_month['min'] - tariffs.loc[1,'minutes_included']) * tariffs.loc[1,'rub_per_minute']\n",
    "        if inc_calls < 0 :\n",
    "            inc_calls = 0\n",
    "        \n",
    "        inc_mess = (ab_month['mes'] - tariffs.loc[1,'messages_included']) * tariffs.loc[1,'rub_per_message']\n",
    "        if inc_mess < 0 :\n",
    "            inc_mess = 0\n",
    "        \n",
    "        inc_mb  = round_up((ab_month['mb'] - tariffs.loc[1,'mb_per_month_included'])/1024) * tariffs.loc[1,'rub_per_gb'] \n",
    "        if inc_mb < 0 :\n",
    "            inc_mb = 0\n",
    "             \n",
    "        inc = inc_calls + inc_mess + inc_mb + tariffs.loc[1,'rub_monthly_fee']\n",
    "        \n",
    "    else:\n",
    "        print('Неизвестный тариф :)) ')\n",
    "\n",
    "    \n",
    "    return inc\n",
    "\n",
    "abonents['income'] = abonents.apply(income_month, axis=1)"
   ]
  },
  {
   "cell_type": "code",
   "execution_count": 50,
   "metadata": {
    "scrolled": true
   },
   "outputs": [
    {
     "data": {
      "text/html": [
       "<div>\n",
       "<style scoped>\n",
       "    .dataframe tbody tr th:only-of-type {\n",
       "        vertical-align: middle;\n",
       "    }\n",
       "\n",
       "    .dataframe tbody tr th {\n",
       "        vertical-align: top;\n",
       "    }\n",
       "\n",
       "    .dataframe thead th {\n",
       "        text-align: right;\n",
       "    }\n",
       "</style>\n",
       "<table border=\"1\" class=\"dataframe\">\n",
       "  <thead>\n",
       "    <tr style=\"text-align: right;\">\n",
       "      <th></th>\n",
       "      <th>user_id</th>\n",
       "      <th>month</th>\n",
       "      <th>calls</th>\n",
       "      <th>min</th>\n",
       "      <th>mes</th>\n",
       "      <th>mb</th>\n",
       "      <th>city</th>\n",
       "      <th>tariff</th>\n",
       "      <th>income</th>\n",
       "    </tr>\n",
       "  </thead>\n",
       "  <tbody>\n",
       "    <tr>\n",
       "      <th>0</th>\n",
       "      <td>1000</td>\n",
       "      <td>5.0</td>\n",
       "      <td>22.0</td>\n",
       "      <td>159.0</td>\n",
       "      <td>22.0</td>\n",
       "      <td>2256.0</td>\n",
       "      <td>Краснодар</td>\n",
       "      <td>ultra</td>\n",
       "      <td>1950.0</td>\n",
       "    </tr>\n",
       "    <tr>\n",
       "      <th>1</th>\n",
       "      <td>1000</td>\n",
       "      <td>6.0</td>\n",
       "      <td>43.0</td>\n",
       "      <td>172.0</td>\n",
       "      <td>60.0</td>\n",
       "      <td>23257.0</td>\n",
       "      <td>Краснодар</td>\n",
       "      <td>ultra</td>\n",
       "      <td>1950.0</td>\n",
       "    </tr>\n",
       "    <tr>\n",
       "      <th>2</th>\n",
       "      <td>1000</td>\n",
       "      <td>7.0</td>\n",
       "      <td>47.0</td>\n",
       "      <td>340.0</td>\n",
       "      <td>75.0</td>\n",
       "      <td>14016.0</td>\n",
       "      <td>Краснодар</td>\n",
       "      <td>ultra</td>\n",
       "      <td>1950.0</td>\n",
       "    </tr>\n",
       "    <tr>\n",
       "      <th>3</th>\n",
       "      <td>1000</td>\n",
       "      <td>8.0</td>\n",
       "      <td>52.0</td>\n",
       "      <td>408.0</td>\n",
       "      <td>81.0</td>\n",
       "      <td>14070.0</td>\n",
       "      <td>Краснодар</td>\n",
       "      <td>ultra</td>\n",
       "      <td>1950.0</td>\n",
       "    </tr>\n",
       "    <tr>\n",
       "      <th>4</th>\n",
       "      <td>1000</td>\n",
       "      <td>9.0</td>\n",
       "      <td>58.0</td>\n",
       "      <td>466.0</td>\n",
       "      <td>57.0</td>\n",
       "      <td>14581.0</td>\n",
       "      <td>Краснодар</td>\n",
       "      <td>ultra</td>\n",
       "      <td>1950.0</td>\n",
       "    </tr>\n",
       "    <tr>\n",
       "      <th>...</th>\n",
       "      <td>...</td>\n",
       "      <td>...</td>\n",
       "      <td>...</td>\n",
       "      <td>...</td>\n",
       "      <td>...</td>\n",
       "      <td>...</td>\n",
       "      <td>...</td>\n",
       "      <td>...</td>\n",
       "      <td>...</td>\n",
       "    </tr>\n",
       "    <tr>\n",
       "      <th>3211</th>\n",
       "      <td>1489</td>\n",
       "      <td>10.0</td>\n",
       "      <td>0.0</td>\n",
       "      <td>0.0</td>\n",
       "      <td>21.0</td>\n",
       "      <td>19588.0</td>\n",
       "      <td>Санкт-Петербург</td>\n",
       "      <td>smart</td>\n",
       "      <td>1550.0</td>\n",
       "    </tr>\n",
       "    <tr>\n",
       "      <th>3212</th>\n",
       "      <td>1489</td>\n",
       "      <td>11.0</td>\n",
       "      <td>0.0</td>\n",
       "      <td>0.0</td>\n",
       "      <td>20.0</td>\n",
       "      <td>17516.0</td>\n",
       "      <td>Санкт-Петербург</td>\n",
       "      <td>smart</td>\n",
       "      <td>1150.0</td>\n",
       "    </tr>\n",
       "    <tr>\n",
       "      <th>3213</th>\n",
       "      <td>1489</td>\n",
       "      <td>12.0</td>\n",
       "      <td>0.0</td>\n",
       "      <td>0.0</td>\n",
       "      <td>35.0</td>\n",
       "      <td>17341.0</td>\n",
       "      <td>Санкт-Петербург</td>\n",
       "      <td>smart</td>\n",
       "      <td>950.0</td>\n",
       "    </tr>\n",
       "    <tr>\n",
       "      <th>3214</th>\n",
       "      <td>1128</td>\n",
       "      <td>12.0</td>\n",
       "      <td>0.0</td>\n",
       "      <td>0.0</td>\n",
       "      <td>0.0</td>\n",
       "      <td>0.0</td>\n",
       "      <td>Волжский</td>\n",
       "      <td>ultra</td>\n",
       "      <td>1950.0</td>\n",
       "    </tr>\n",
       "    <tr>\n",
       "      <th>3215</th>\n",
       "      <td>1371</td>\n",
       "      <td>12.0</td>\n",
       "      <td>0.0</td>\n",
       "      <td>0.0</td>\n",
       "      <td>0.0</td>\n",
       "      <td>0.0</td>\n",
       "      <td>Омск</td>\n",
       "      <td>smart</td>\n",
       "      <td>550.0</td>\n",
       "    </tr>\n",
       "  </tbody>\n",
       "</table>\n",
       "<p>3216 rows × 9 columns</p>\n",
       "</div>"
      ],
      "text/plain": [
       "      user_id  month  calls    min   mes       mb             city tariff  \\\n",
       "0        1000    5.0   22.0  159.0  22.0   2256.0        Краснодар  ultra   \n",
       "1        1000    6.0   43.0  172.0  60.0  23257.0        Краснодар  ultra   \n",
       "2        1000    7.0   47.0  340.0  75.0  14016.0        Краснодар  ultra   \n",
       "3        1000    8.0   52.0  408.0  81.0  14070.0        Краснодар  ultra   \n",
       "4        1000    9.0   58.0  466.0  57.0  14581.0        Краснодар  ultra   \n",
       "...       ...    ...    ...    ...   ...      ...              ...    ...   \n",
       "3211     1489   10.0    0.0    0.0  21.0  19588.0  Санкт-Петербург  smart   \n",
       "3212     1489   11.0    0.0    0.0  20.0  17516.0  Санкт-Петербург  smart   \n",
       "3213     1489   12.0    0.0    0.0  35.0  17341.0  Санкт-Петербург  smart   \n",
       "3214     1128   12.0    0.0    0.0   0.0      0.0         Волжский  ultra   \n",
       "3215     1371   12.0    0.0    0.0   0.0      0.0             Омск  smart   \n",
       "\n",
       "      income  \n",
       "0     1950.0  \n",
       "1     1950.0  \n",
       "2     1950.0  \n",
       "3     1950.0  \n",
       "4     1950.0  \n",
       "...      ...  \n",
       "3211  1550.0  \n",
       "3212  1150.0  \n",
       "3213   950.0  \n",
       "3214  1950.0  \n",
       "3215   550.0  \n",
       "\n",
       "[3216 rows x 9 columns]"
      ]
     },
     "execution_count": 50,
     "metadata": {},
     "output_type": "execute_result"
    }
   ],
   "source": [
    "abonents\n"
   ]
  },
  {
   "cell_type": "markdown",
   "metadata": {},
   "source": [
    "Создали новую таблицу abonents - в которую сгруппировали данные по каждому абоненту за каждый месяц пользования. Заполнили образовавшиеся пропуски. Рассчитали для анализа 4 столбца: min - минут/мес, mes - СМС/мес, mb - МБ/мес и income - выручка за месяц. Таблица готова для дальнейшего анализа."
   ]
  },
  {
   "cell_type": "code",
   "execution_count": 51,
   "metadata": {},
   "outputs": [],
   "source": [
    "#calls_internet_merged = calls_grouped.merge(internet_grouped, on=['user_id', 'month'], how='left')\n",
    "#telecom = calls_internet_merged.merge(messages_grouped, on=['user_id', 'month'], how='left')\n",
    "#telecom_pivot = telecom.pivot_table(index=['user_id', 'month'])\n",
    "#telecom_pivot=telecom_pivot.reset_index()\n",
    "#telecom_pivot"
   ]
  },
  {
   "cell_type": "markdown",
   "metadata": {},
   "source": [
    "# Шаг 4. Анализ данных: #"
   ]
  },
  {
   "cell_type": "markdown",
   "metadata": {},
   "source": [
    "**ЗАДАНИЕ: Опишите поведение клиентов оператора, исходя из выборки. Сколько минут разговора, сколько сообщений и какой объём интернет-трафика требуется пользователям каждого тарифа в месяц? Посчитайте среднее количество, дисперсию и стандартное отклонение. Постройте гистограммы. Опишите распределения.**"
   ]
  },
  {
   "cell_type": "markdown",
   "metadata": {},
   "source": [
    "*Расчитаем общие показатели всех клиентов по месяцам по обоим тарифам*"
   ]
  },
  {
   "cell_type": "code",
   "execution_count": 52,
   "metadata": {
    "scrolled": true
   },
   "outputs": [
    {
     "name": "stderr",
     "output_type": "stream",
     "text": [
      "/tmp/ipykernel_54/1356502971.py:1: FutureWarning: Indexing with multiple keys (implicitly converted to a tuple of keys) will be deprecated, use a list instead.\n",
      "  all_clients_month = abonents.groupby(['tariff', 'month'])['min', 'mes', 'mb', 'income'].sum().reset_index()\n"
     ]
    },
    {
     "data": {
      "text/html": [
       "<div>\n",
       "<style scoped>\n",
       "    .dataframe tbody tr th:only-of-type {\n",
       "        vertical-align: middle;\n",
       "    }\n",
       "\n",
       "    .dataframe tbody tr th {\n",
       "        vertical-align: top;\n",
       "    }\n",
       "\n",
       "    .dataframe thead th {\n",
       "        text-align: right;\n",
       "    }\n",
       "</style>\n",
       "<table border=\"1\" class=\"dataframe\">\n",
       "  <thead>\n",
       "    <tr style=\"text-align: right;\">\n",
       "      <th></th>\n",
       "      <th>tariff</th>\n",
       "      <th>month</th>\n",
       "      <th>min</th>\n",
       "      <th>mes</th>\n",
       "      <th>mb</th>\n",
       "      <th>income</th>\n",
       "    </tr>\n",
       "  </thead>\n",
       "  <tbody>\n",
       "    <tr>\n",
       "      <th>0</th>\n",
       "      <td>smart</td>\n",
       "      <td>1.0</td>\n",
       "      <td>6931.0</td>\n",
       "      <td>620.0</td>\n",
       "      <td>289831.0</td>\n",
       "      <td>24525.0</td>\n",
       "    </tr>\n",
       "    <tr>\n",
       "      <th>1</th>\n",
       "      <td>smart</td>\n",
       "      <td>2.0</td>\n",
       "      <td>17324.0</td>\n",
       "      <td>1397.0</td>\n",
       "      <td>673461.0</td>\n",
       "      <td>49001.0</td>\n",
       "    </tr>\n",
       "    <tr>\n",
       "      <th>2</th>\n",
       "      <td>smart</td>\n",
       "      <td>3.0</td>\n",
       "      <td>30034.0</td>\n",
       "      <td>2453.0</td>\n",
       "      <td>1164537.0</td>\n",
       "      <td>90476.0</td>\n",
       "    </tr>\n",
       "    <tr>\n",
       "      <th>3</th>\n",
       "      <td>smart</td>\n",
       "      <td>4.0</td>\n",
       "      <td>41119.0</td>\n",
       "      <td>3443.0</td>\n",
       "      <td>1509702.0</td>\n",
       "      <td>109866.0</td>\n",
       "    </tr>\n",
       "    <tr>\n",
       "      <th>4</th>\n",
       "      <td>smart</td>\n",
       "      <td>5.0</td>\n",
       "      <td>54618.0</td>\n",
       "      <td>4762.0</td>\n",
       "      <td>2231353.0</td>\n",
       "      <td>172049.0</td>\n",
       "    </tr>\n",
       "    <tr>\n",
       "      <th>5</th>\n",
       "      <td>smart</td>\n",
       "      <td>6.0</td>\n",
       "      <td>64885.0</td>\n",
       "      <td>5478.0</td>\n",
       "      <td>2593622.0</td>\n",
       "      <td>200259.0</td>\n",
       "    </tr>\n",
       "    <tr>\n",
       "      <th>6</th>\n",
       "      <td>smart</td>\n",
       "      <td>7.0</td>\n",
       "      <td>82079.0</td>\n",
       "      <td>6784.0</td>\n",
       "      <td>3168466.0</td>\n",
       "      <td>249614.0</td>\n",
       "    </tr>\n",
       "    <tr>\n",
       "      <th>7</th>\n",
       "      <td>smart</td>\n",
       "      <td>8.0</td>\n",
       "      <td>99045.0</td>\n",
       "      <td>7905.0</td>\n",
       "      <td>3908561.0</td>\n",
       "      <td>314940.0</td>\n",
       "    </tr>\n",
       "    <tr>\n",
       "      <th>8</th>\n",
       "      <td>smart</td>\n",
       "      <td>9.0</td>\n",
       "      <td>111439.0</td>\n",
       "      <td>8746.0</td>\n",
       "      <td>4244377.0</td>\n",
       "      <td>330386.0</td>\n",
       "    </tr>\n",
       "    <tr>\n",
       "      <th>9</th>\n",
       "      <td>smart</td>\n",
       "      <td>10.0</td>\n",
       "      <td>125284.0</td>\n",
       "      <td>9927.0</td>\n",
       "      <td>4932898.0</td>\n",
       "      <td>406067.0</td>\n",
       "    </tr>\n",
       "  </tbody>\n",
       "</table>\n",
       "</div>"
      ],
      "text/plain": [
       "  tariff  month       min     mes         mb    income\n",
       "0  smart    1.0    6931.0   620.0   289831.0   24525.0\n",
       "1  smart    2.0   17324.0  1397.0   673461.0   49001.0\n",
       "2  smart    3.0   30034.0  2453.0  1164537.0   90476.0\n",
       "3  smart    4.0   41119.0  3443.0  1509702.0  109866.0\n",
       "4  smart    5.0   54618.0  4762.0  2231353.0  172049.0\n",
       "5  smart    6.0   64885.0  5478.0  2593622.0  200259.0\n",
       "6  smart    7.0   82079.0  6784.0  3168466.0  249614.0\n",
       "7  smart    8.0   99045.0  7905.0  3908561.0  314940.0\n",
       "8  smart    9.0  111439.0  8746.0  4244377.0  330386.0\n",
       "9  smart   10.0  125284.0  9927.0  4932898.0  406067.0"
      ]
     },
     "execution_count": 52,
     "metadata": {},
     "output_type": "execute_result"
    }
   ],
   "source": [
    "all_clients_month = abonents.groupby(['tariff', 'month'])['min', 'mes', 'mb', 'income'].sum().reset_index()\n",
    "all_clients_month.head(10)"
   ]
  },
  {
   "cell_type": "code",
   "execution_count": 53,
   "metadata": {},
   "outputs": [],
   "source": [
    "# разобьем all_clients_month на 2 таблице по тарифу\n",
    "smart_all_clients_month = all_clients_month.query(' tariff==\"smart\" ')\n",
    "ultra_all_clients_month = all_clients_month.query(' tariff==\"ultra\" ').reset_index(drop=True)"
   ]
  },
  {
   "cell_type": "code",
   "execution_count": 54,
   "metadata": {
    "scrolled": true
   },
   "outputs": [
    {
     "data": {
      "text/html": [
       "<div>\n",
       "<style scoped>\n",
       "    .dataframe tbody tr th:only-of-type {\n",
       "        vertical-align: middle;\n",
       "    }\n",
       "\n",
       "    .dataframe tbody tr th {\n",
       "        vertical-align: top;\n",
       "    }\n",
       "\n",
       "    .dataframe thead th {\n",
       "        text-align: right;\n",
       "    }\n",
       "</style>\n",
       "<table border=\"1\" class=\"dataframe\">\n",
       "  <thead>\n",
       "    <tr style=\"text-align: right;\">\n",
       "      <th></th>\n",
       "      <th>tariff</th>\n",
       "      <th>month</th>\n",
       "      <th>min</th>\n",
       "      <th>mes</th>\n",
       "      <th>mb</th>\n",
       "      <th>income</th>\n",
       "    </tr>\n",
       "  </thead>\n",
       "  <tbody>\n",
       "    <tr>\n",
       "      <th>0</th>\n",
       "      <td>smart</td>\n",
       "      <td>1.0</td>\n",
       "      <td>6931.0</td>\n",
       "      <td>620.0</td>\n",
       "      <td>289831.0</td>\n",
       "      <td>24525.0</td>\n",
       "    </tr>\n",
       "    <tr>\n",
       "      <th>1</th>\n",
       "      <td>smart</td>\n",
       "      <td>2.0</td>\n",
       "      <td>17324.0</td>\n",
       "      <td>1397.0</td>\n",
       "      <td>673461.0</td>\n",
       "      <td>49001.0</td>\n",
       "    </tr>\n",
       "    <tr>\n",
       "      <th>2</th>\n",
       "      <td>smart</td>\n",
       "      <td>3.0</td>\n",
       "      <td>30034.0</td>\n",
       "      <td>2453.0</td>\n",
       "      <td>1164537.0</td>\n",
       "      <td>90476.0</td>\n",
       "    </tr>\n",
       "    <tr>\n",
       "      <th>3</th>\n",
       "      <td>smart</td>\n",
       "      <td>4.0</td>\n",
       "      <td>41119.0</td>\n",
       "      <td>3443.0</td>\n",
       "      <td>1509702.0</td>\n",
       "      <td>109866.0</td>\n",
       "    </tr>\n",
       "    <tr>\n",
       "      <th>4</th>\n",
       "      <td>smart</td>\n",
       "      <td>5.0</td>\n",
       "      <td>54618.0</td>\n",
       "      <td>4762.0</td>\n",
       "      <td>2231353.0</td>\n",
       "      <td>172049.0</td>\n",
       "    </tr>\n",
       "    <tr>\n",
       "      <th>5</th>\n",
       "      <td>smart</td>\n",
       "      <td>6.0</td>\n",
       "      <td>64885.0</td>\n",
       "      <td>5478.0</td>\n",
       "      <td>2593622.0</td>\n",
       "      <td>200259.0</td>\n",
       "    </tr>\n",
       "    <tr>\n",
       "      <th>6</th>\n",
       "      <td>smart</td>\n",
       "      <td>7.0</td>\n",
       "      <td>82079.0</td>\n",
       "      <td>6784.0</td>\n",
       "      <td>3168466.0</td>\n",
       "      <td>249614.0</td>\n",
       "    </tr>\n",
       "    <tr>\n",
       "      <th>7</th>\n",
       "      <td>smart</td>\n",
       "      <td>8.0</td>\n",
       "      <td>99045.0</td>\n",
       "      <td>7905.0</td>\n",
       "      <td>3908561.0</td>\n",
       "      <td>314940.0</td>\n",
       "    </tr>\n",
       "    <tr>\n",
       "      <th>8</th>\n",
       "      <td>smart</td>\n",
       "      <td>9.0</td>\n",
       "      <td>111439.0</td>\n",
       "      <td>8746.0</td>\n",
       "      <td>4244377.0</td>\n",
       "      <td>330386.0</td>\n",
       "    </tr>\n",
       "    <tr>\n",
       "      <th>9</th>\n",
       "      <td>smart</td>\n",
       "      <td>10.0</td>\n",
       "      <td>125284.0</td>\n",
       "      <td>9927.0</td>\n",
       "      <td>4932898.0</td>\n",
       "      <td>406067.0</td>\n",
       "    </tr>\n",
       "    <tr>\n",
       "      <th>10</th>\n",
       "      <td>smart</td>\n",
       "      <td>11.0</td>\n",
       "      <td>137544.0</td>\n",
       "      <td>10768.0</td>\n",
       "      <td>5345940.0</td>\n",
       "      <td>429803.0</td>\n",
       "    </tr>\n",
       "    <tr>\n",
       "      <th>11</th>\n",
       "      <td>smart</td>\n",
       "      <td>12.0</td>\n",
       "      <td>161275.0</td>\n",
       "      <td>12130.0</td>\n",
       "      <td>6112113.0</td>\n",
       "      <td>537515.0</td>\n",
       "    </tr>\n",
       "  </tbody>\n",
       "</table>\n",
       "</div>"
      ],
      "text/plain": [
       "   tariff  month       min      mes         mb    income\n",
       "0   smart    1.0    6931.0    620.0   289831.0   24525.0\n",
       "1   smart    2.0   17324.0   1397.0   673461.0   49001.0\n",
       "2   smart    3.0   30034.0   2453.0  1164537.0   90476.0\n",
       "3   smart    4.0   41119.0   3443.0  1509702.0  109866.0\n",
       "4   smart    5.0   54618.0   4762.0  2231353.0  172049.0\n",
       "5   smart    6.0   64885.0   5478.0  2593622.0  200259.0\n",
       "6   smart    7.0   82079.0   6784.0  3168466.0  249614.0\n",
       "7   smart    8.0   99045.0   7905.0  3908561.0  314940.0\n",
       "8   smart    9.0  111439.0   8746.0  4244377.0  330386.0\n",
       "9   smart   10.0  125284.0   9927.0  4932898.0  406067.0\n",
       "10  smart   11.0  137544.0  10768.0  5345940.0  429803.0\n",
       "11  smart   12.0  161275.0  12130.0  6112113.0  537515.0"
      ]
     },
     "execution_count": 54,
     "metadata": {},
     "output_type": "execute_result"
    }
   ],
   "source": [
    "smart_all_clients_month"
   ]
  },
  {
   "cell_type": "code",
   "execution_count": 55,
   "metadata": {
    "scrolled": true
   },
   "outputs": [
    {
     "data": {
      "text/html": [
       "<div>\n",
       "<style scoped>\n",
       "    .dataframe tbody tr th:only-of-type {\n",
       "        vertical-align: middle;\n",
       "    }\n",
       "\n",
       "    .dataframe tbody tr th {\n",
       "        vertical-align: top;\n",
       "    }\n",
       "\n",
       "    .dataframe thead th {\n",
       "        text-align: right;\n",
       "    }\n",
       "</style>\n",
       "<table border=\"1\" class=\"dataframe\">\n",
       "  <thead>\n",
       "    <tr style=\"text-align: right;\">\n",
       "      <th></th>\n",
       "      <th>tariff</th>\n",
       "      <th>month</th>\n",
       "      <th>min</th>\n",
       "      <th>mes</th>\n",
       "      <th>mb</th>\n",
       "      <th>income</th>\n",
       "    </tr>\n",
       "  </thead>\n",
       "  <tbody>\n",
       "    <tr>\n",
       "      <th>0</th>\n",
       "      <td>ultra</td>\n",
       "      <td>1.0</td>\n",
       "      <td>3853.0</td>\n",
       "      <td>304.0</td>\n",
       "      <td>118382.0</td>\n",
       "      <td>17550.0</td>\n",
       "    </tr>\n",
       "    <tr>\n",
       "      <th>1</th>\n",
       "      <td>ultra</td>\n",
       "      <td>2.0</td>\n",
       "      <td>7131.0</td>\n",
       "      <td>527.0</td>\n",
       "      <td>282887.0</td>\n",
       "      <td>47400.0</td>\n",
       "    </tr>\n",
       "    <tr>\n",
       "      <th>2</th>\n",
       "      <td>ultra</td>\n",
       "      <td>3.0</td>\n",
       "      <td>18117.0</td>\n",
       "      <td>1195.0</td>\n",
       "      <td>649423.0</td>\n",
       "      <td>74550.0</td>\n",
       "    </tr>\n",
       "    <tr>\n",
       "      <th>3</th>\n",
       "      <td>ultra</td>\n",
       "      <td>4.0</td>\n",
       "      <td>25191.0</td>\n",
       "      <td>1736.0</td>\n",
       "      <td>926409.0</td>\n",
       "      <td>110400.0</td>\n",
       "    </tr>\n",
       "    <tr>\n",
       "      <th>4</th>\n",
       "      <td>ultra</td>\n",
       "      <td>5.0</td>\n",
       "      <td>34192.0</td>\n",
       "      <td>2536.0</td>\n",
       "      <td>1298540.0</td>\n",
       "      <td>138600.0</td>\n",
       "    </tr>\n",
       "    <tr>\n",
       "      <th>5</th>\n",
       "      <td>ultra</td>\n",
       "      <td>6.0</td>\n",
       "      <td>40295.0</td>\n",
       "      <td>3505.0</td>\n",
       "      <td>1591148.0</td>\n",
       "      <td>171450.0</td>\n",
       "    </tr>\n",
       "    <tr>\n",
       "      <th>6</th>\n",
       "      <td>ultra</td>\n",
       "      <td>7.0</td>\n",
       "      <td>49667.0</td>\n",
       "      <td>4536.0</td>\n",
       "      <td>1866833.0</td>\n",
       "      <td>193350.0</td>\n",
       "    </tr>\n",
       "    <tr>\n",
       "      <th>7</th>\n",
       "      <td>ultra</td>\n",
       "      <td>8.0</td>\n",
       "      <td>54653.0</td>\n",
       "      <td>5183.0</td>\n",
       "      <td>2096565.0</td>\n",
       "      <td>223350.0</td>\n",
       "    </tr>\n",
       "    <tr>\n",
       "      <th>8</th>\n",
       "      <td>ultra</td>\n",
       "      <td>9.0</td>\n",
       "      <td>62036.0</td>\n",
       "      <td>6013.0</td>\n",
       "      <td>2210554.0</td>\n",
       "      <td>232950.0</td>\n",
       "    </tr>\n",
       "    <tr>\n",
       "      <th>9</th>\n",
       "      <td>ultra</td>\n",
       "      <td>10.0</td>\n",
       "      <td>68644.0</td>\n",
       "      <td>7187.0</td>\n",
       "      <td>2467856.0</td>\n",
       "      <td>254700.0</td>\n",
       "    </tr>\n",
       "    <tr>\n",
       "      <th>10</th>\n",
       "      <td>ultra</td>\n",
       "      <td>11.0</td>\n",
       "      <td>72545.0</td>\n",
       "      <td>7476.0</td>\n",
       "      <td>2653912.0</td>\n",
       "      <td>280650.0</td>\n",
       "    </tr>\n",
       "    <tr>\n",
       "      <th>11</th>\n",
       "      <td>ultra</td>\n",
       "      <td>12.0</td>\n",
       "      <td>82400.0</td>\n",
       "      <td>8425.0</td>\n",
       "      <td>3032089.0</td>\n",
       "      <td>299700.0</td>\n",
       "    </tr>\n",
       "  </tbody>\n",
       "</table>\n",
       "</div>"
      ],
      "text/plain": [
       "   tariff  month      min     mes         mb    income\n",
       "0   ultra    1.0   3853.0   304.0   118382.0   17550.0\n",
       "1   ultra    2.0   7131.0   527.0   282887.0   47400.0\n",
       "2   ultra    3.0  18117.0  1195.0   649423.0   74550.0\n",
       "3   ultra    4.0  25191.0  1736.0   926409.0  110400.0\n",
       "4   ultra    5.0  34192.0  2536.0  1298540.0  138600.0\n",
       "5   ultra    6.0  40295.0  3505.0  1591148.0  171450.0\n",
       "6   ultra    7.0  49667.0  4536.0  1866833.0  193350.0\n",
       "7   ultra    8.0  54653.0  5183.0  2096565.0  223350.0\n",
       "8   ultra    9.0  62036.0  6013.0  2210554.0  232950.0\n",
       "9   ultra   10.0  68644.0  7187.0  2467856.0  254700.0\n",
       "10  ultra   11.0  72545.0  7476.0  2653912.0  280650.0\n",
       "11  ultra   12.0  82400.0  8425.0  3032089.0  299700.0"
      ]
     },
     "execution_count": 55,
     "metadata": {},
     "output_type": "execute_result"
    }
   ],
   "source": [
    "ultra_all_clients_month"
   ]
  },
  {
   "cell_type": "code",
   "execution_count": 56,
   "metadata": {
    "scrolled": true
   },
   "outputs": [
    {
     "data": {
      "image/png": "[encoded data removed]",
      "text/plain": [
       "<Figure size 864x360 with 1 Axes>"
      ]
     },
     "metadata": {
      "needs_background": "light"
     },
     "output_type": "display_data"
    },
    {
     "data": {
      "image/png": "[encoded data removed]",
      "text/plain": [
       "<Figure size 864x360 with 1 Axes>"
      ]
     },
     "metadata": {
      "needs_background": "light"
     },
     "output_type": "display_data"
    },
    {
     "data": {
      "image/png": "[encoded data removed]",
      "text/plain": [
       "<Figure size 864x360 with 1 Axes>"
      ]
     },
     "metadata": {
      "needs_background": "light"
     },
     "output_type": "display_data"
    },
    {
     "data": {
      "image/png": "[encoded data removed]",
      "text/plain": [
       "<Figure size 864x360 with 1 Axes>"
      ]
     },
     "metadata": {
      "needs_background": "light"
     },
     "output_type": "display_data"
    }
   ],
   "source": [
    "for param in ['min', 'mes', 'mb','income']:\n",
    "    plt.figure(figsize=(12, 5))\n",
    "    plt.bar(smart_all_clients_month['month'], smart_all_clients_month[param], label='smart', color='g', alpha=0.5, width=0.5)\n",
    "    plt.bar(ultra_all_clients_month['month'], ultra_all_clients_month[param], label='ultra', color='b', alpha=0.5)\n",
    "\n",
    "    plt.xlabel('month')\n",
    "    plt.ylabel(param)\n",
    "    plt.grid()\n",
    "    plt.title(f'Количество {param} всех клиентов по месяцам для 2 тарифов')\n",
    "    plt.legend()\n",
    "    plt.show();"
   ]
  },
  {
   "cell_type": "code",
   "execution_count": 57,
   "metadata": {
    "scrolled": true
   },
   "outputs": [
    {
     "data": {
      "text/plain": [
       "smart    351\n",
       "ultra    149\n",
       "Name: tariff, dtype: int64"
      ]
     },
     "execution_count": 57,
     "metadata": {},
     "output_type": "execute_result"
    }
   ],
   "source": [
    "# Посмотрим сколько абонентов у каждого тарифа\n",
    "users.tariff.value_counts()"
   ]
  },
  {
   "cell_type": "markdown",
   "metadata": {},
   "source": [
    "На графиках видим, что общий расход минут, сообщений, трафика всех абонентов тарифа 'smart' стабильно больше чем 'ultra' на 40-90%, но и абонентов у 'smart' в 2 с лишним раза больше, чем у 'ultra'. По выручке income надо отметить что : в первой половине года абоненты обоих тарифов приносят почти одинаковые суммы, а во второй - абоненты smart с каждым месяцем приносят выручки все больше и больше вплоть до декабря, где выручка уже почти в 2 раза больше, чем от тарифа ultra. По всем графикам видно, что гистограммы постоянно возрастают от меcяца к месяцу. Поэтому логично будет посчитать усредненные показатели расхода на одного абонента за каждый месяц и уже тогда сравнить тарифы."
   ]
  },
  {
   "cell_type": "markdown",
   "metadata": {},
   "source": [
    "*Расчитаем средние(медианные) показатели клиента по месяцам по обоим тарифам*"
   ]
  },
  {
   "cell_type": "code",
   "execution_count": 58,
   "metadata": {
    "scrolled": false
   },
   "outputs": [
    {
     "data": {
      "text/html": [
       "<div>\n",
       "<style scoped>\n",
       "    .dataframe tbody tr th:only-of-type {\n",
       "        vertical-align: middle;\n",
       "    }\n",
       "\n",
       "    .dataframe tbody tr th {\n",
       "        vertical-align: top;\n",
       "    }\n",
       "\n",
       "    .dataframe thead th {\n",
       "        text-align: right;\n",
       "    }\n",
       "</style>\n",
       "<table border=\"1\" class=\"dataframe\">\n",
       "  <thead>\n",
       "    <tr style=\"text-align: right;\">\n",
       "      <th></th>\n",
       "      <th>min</th>\n",
       "      <th>mes</th>\n",
       "      <th>mb</th>\n",
       "      <th>income</th>\n",
       "    </tr>\n",
       "  </thead>\n",
       "  <tbody>\n",
       "    <tr>\n",
       "      <th>count</th>\n",
       "      <td>3216.000000</td>\n",
       "      <td>3216.000000</td>\n",
       "      <td>3216.000000</td>\n",
       "      <td>3216.000000</td>\n",
       "    </tr>\n",
       "    <tr>\n",
       "      <th>mean</th>\n",
       "      <td>450.964241</td>\n",
       "      <td>38.257463</td>\n",
       "      <td>17216.871580</td>\n",
       "      <td>1542.024565</td>\n",
       "    </tr>\n",
       "    <tr>\n",
       "      <th>std</th>\n",
       "      <td>242.096312</td>\n",
       "      <td>36.149684</td>\n",
       "      <td>7588.071848</td>\n",
       "      <td>792.042574</td>\n",
       "    </tr>\n",
       "    <tr>\n",
       "      <th>min</th>\n",
       "      <td>0.000000</td>\n",
       "      <td>0.000000</td>\n",
       "      <td>0.000000</td>\n",
       "      <td>550.000000</td>\n",
       "    </tr>\n",
       "    <tr>\n",
       "      <th>25%</th>\n",
       "      <td>282.000000</td>\n",
       "      <td>9.000000</td>\n",
       "      <td>12496.250000</td>\n",
       "      <td>750.000000</td>\n",
       "    </tr>\n",
       "    <tr>\n",
       "      <th>50%</th>\n",
       "      <td>443.000000</td>\n",
       "      <td>30.000000</td>\n",
       "      <td>16962.000000</td>\n",
       "      <td>1669.500000</td>\n",
       "    </tr>\n",
       "    <tr>\n",
       "      <th>75%</th>\n",
       "      <td>589.000000</td>\n",
       "      <td>57.000000</td>\n",
       "      <td>21446.000000</td>\n",
       "      <td>1950.000000</td>\n",
       "    </tr>\n",
       "    <tr>\n",
       "      <th>max</th>\n",
       "      <td>1673.000000</td>\n",
       "      <td>224.000000</td>\n",
       "      <td>49789.000000</td>\n",
       "      <td>6770.000000</td>\n",
       "    </tr>\n",
       "  </tbody>\n",
       "</table>\n",
       "</div>"
      ],
      "text/plain": [
       "               min          mes            mb       income\n",
       "count  3216.000000  3216.000000   3216.000000  3216.000000\n",
       "mean    450.964241    38.257463  17216.871580  1542.024565\n",
       "std     242.096312    36.149684   7588.071848   792.042574\n",
       "min       0.000000     0.000000      0.000000   550.000000\n",
       "25%     282.000000     9.000000  12496.250000   750.000000\n",
       "50%     443.000000    30.000000  16962.000000  1669.500000\n",
       "75%     589.000000    57.000000  21446.000000  1950.000000\n",
       "max    1673.000000   224.000000  49789.000000  6770.000000"
      ]
     },
     "execution_count": 58,
     "metadata": {},
     "output_type": "execute_result"
    }
   ],
   "source": [
    "abonents[['min', 'mes', 'mb','income']].describe()"
   ]
  },
  {
   "cell_type": "code",
   "execution_count": 59,
   "metadata": {
    "scrolled": true
   },
   "outputs": [
    {
     "data": {
      "image/png": "[encoded data removed]",
      "text/plain": [
       "<Figure size 1152x576 with 4 Axes>"
      ]
     },
     "metadata": {
      "needs_background": "light"
     },
     "output_type": "display_data"
    }
   ],
   "source": [
    "fig, (ax1, ax2, ax3, ax4) = plt.subplots(nrows=1, ncols=4, figsize=(16, 8))\n",
    "\n",
    "p = {ax1:'min', ax2:'mes', ax3:'mb', ax4:'income'}\n",
    "for ax in [ax1, ax2, ax3, ax4]:\n",
    "    ax.boxplot(abonents[p[ax]])\n",
    "    ax.grid()\n",
    "    ax.set_title(p[ax])\n",
    "\n",
    "fig.autofmt_xdate()"
   ]
  },
  {
   "cell_type": "markdown",
   "metadata": {},
   "source": [
    "Сильных выбросов нет, вполне адекватные числа, поэтому для вычисления усредненных значений можно использовать и среднее и медиану. Выберем медиану.\n",
    "\n",
    "Сгруппируем и создадим новую таблицу tar - с общими данными по тарифам"
   ]
  },
  {
   "cell_type": "code",
   "execution_count": 60,
   "metadata": {
    "scrolled": false
   },
   "outputs": [
    {
     "name": "stderr",
     "output_type": "stream",
     "text": [
      "/tmp/ipykernel_54/191451519.py:1: FutureWarning: Indexing with multiple keys (implicitly converted to a tuple of keys) will be deprecated, use a list instead.\n",
      "  tar = abonents.groupby(['tariff', 'month'])['min', 'mes', 'mb','income'].mean().reset_index()\n"
     ]
    },
    {
     "data": {
      "text/html": [
       "<div>\n",
       "<style scoped>\n",
       "    .dataframe tbody tr th:only-of-type {\n",
       "        vertical-align: middle;\n",
       "    }\n",
       "\n",
       "    .dataframe tbody tr th {\n",
       "        vertical-align: top;\n",
       "    }\n",
       "\n",
       "    .dataframe thead th {\n",
       "        text-align: right;\n",
       "    }\n",
       "</style>\n",
       "<table border=\"1\" class=\"dataframe\">\n",
       "  <thead>\n",
       "    <tr style=\"text-align: right;\">\n",
       "      <th></th>\n",
       "      <th>tariff</th>\n",
       "      <th>month</th>\n",
       "      <th>min</th>\n",
       "      <th>mes</th>\n",
       "      <th>mb</th>\n",
       "      <th>income</th>\n",
       "    </tr>\n",
       "  </thead>\n",
       "  <tbody>\n",
       "    <tr>\n",
       "      <th>0</th>\n",
       "      <td>smart</td>\n",
       "      <td>1.0</td>\n",
       "      <td>203.852941</td>\n",
       "      <td>18.235294</td>\n",
       "      <td>8524.441176</td>\n",
       "      <td>721.323529</td>\n",
       "    </tr>\n",
       "    <tr>\n",
       "      <th>1</th>\n",
       "      <td>smart</td>\n",
       "      <td>2.0</td>\n",
       "      <td>298.689655</td>\n",
       "      <td>24.086207</td>\n",
       "      <td>11611.396552</td>\n",
       "      <td>844.844828</td>\n",
       "    </tr>\n",
       "    <tr>\n",
       "      <th>2</th>\n",
       "      <td>smart</td>\n",
       "      <td>3.0</td>\n",
       "      <td>390.051948</td>\n",
       "      <td>31.857143</td>\n",
       "      <td>15123.857143</td>\n",
       "      <td>1175.012987</td>\n",
       "    </tr>\n",
       "    <tr>\n",
       "      <th>3</th>\n",
       "      <td>smart</td>\n",
       "      <td>4.0</td>\n",
       "      <td>367.133929</td>\n",
       "      <td>30.741071</td>\n",
       "      <td>13479.482143</td>\n",
       "      <td>980.946429</td>\n",
       "    </tr>\n",
       "    <tr>\n",
       "      <th>4</th>\n",
       "      <td>smart</td>\n",
       "      <td>5.0</td>\n",
       "      <td>387.361702</td>\n",
       "      <td>33.773050</td>\n",
       "      <td>15825.198582</td>\n",
       "      <td>1220.205674</td>\n",
       "    </tr>\n",
       "    <tr>\n",
       "      <th>5</th>\n",
       "      <td>smart</td>\n",
       "      <td>6.0</td>\n",
       "      <td>395.640244</td>\n",
       "      <td>33.402439</td>\n",
       "      <td>15814.768293</td>\n",
       "      <td>1221.091463</td>\n",
       "    </tr>\n",
       "    <tr>\n",
       "      <th>6</th>\n",
       "      <td>smart</td>\n",
       "      <td>7.0</td>\n",
       "      <td>408.353234</td>\n",
       "      <td>33.751244</td>\n",
       "      <td>15763.512438</td>\n",
       "      <td>1241.860697</td>\n",
       "    </tr>\n",
       "    <tr>\n",
       "      <th>7</th>\n",
       "      <td>smart</td>\n",
       "      <td>8.0</td>\n",
       "      <td>421.468085</td>\n",
       "      <td>33.638298</td>\n",
       "      <td>16632.174468</td>\n",
       "      <td>1340.170213</td>\n",
       "    </tr>\n",
       "    <tr>\n",
       "      <th>8</th>\n",
       "      <td>smart</td>\n",
       "      <td>9.0</td>\n",
       "      <td>428.611538</td>\n",
       "      <td>33.638462</td>\n",
       "      <td>16324.526923</td>\n",
       "      <td>1270.715385</td>\n",
       "    </tr>\n",
       "    <tr>\n",
       "      <th>9</th>\n",
       "      <td>smart</td>\n",
       "      <td>10.0</td>\n",
       "      <td>426.136054</td>\n",
       "      <td>33.765306</td>\n",
       "      <td>16778.564626</td>\n",
       "      <td>1381.180272</td>\n",
       "    </tr>\n",
       "    <tr>\n",
       "      <th>10</th>\n",
       "      <td>smart</td>\n",
       "      <td>11.0</td>\n",
       "      <td>435.265823</td>\n",
       "      <td>34.075949</td>\n",
       "      <td>16917.531646</td>\n",
       "      <td>1360.136076</td>\n",
       "    </tr>\n",
       "    <tr>\n",
       "      <th>11</th>\n",
       "      <td>smart</td>\n",
       "      <td>12.0</td>\n",
       "      <td>477.144970</td>\n",
       "      <td>35.887574</td>\n",
       "      <td>18083.174556</td>\n",
       "      <td>1590.281065</td>\n",
       "    </tr>\n",
       "    <tr>\n",
       "      <th>12</th>\n",
       "      <td>ultra</td>\n",
       "      <td>1.0</td>\n",
       "      <td>428.111111</td>\n",
       "      <td>33.777778</td>\n",
       "      <td>13153.555556</td>\n",
       "      <td>1950.000000</td>\n",
       "    </tr>\n",
       "    <tr>\n",
       "      <th>13</th>\n",
       "      <td>ultra</td>\n",
       "      <td>2.0</td>\n",
       "      <td>297.125000</td>\n",
       "      <td>21.958333</td>\n",
       "      <td>11786.958333</td>\n",
       "      <td>1975.000000</td>\n",
       "    </tr>\n",
       "    <tr>\n",
       "      <th>14</th>\n",
       "      <td>ultra</td>\n",
       "      <td>3.0</td>\n",
       "      <td>489.648649</td>\n",
       "      <td>32.297297</td>\n",
       "      <td>17551.972973</td>\n",
       "      <td>2014.864865</td>\n",
       "    </tr>\n",
       "    <tr>\n",
       "      <th>15</th>\n",
       "      <td>ultra</td>\n",
       "      <td>4.0</td>\n",
       "      <td>458.018182</td>\n",
       "      <td>31.563636</td>\n",
       "      <td>16843.800000</td>\n",
       "      <td>2007.272727</td>\n",
       "    </tr>\n",
       "    <tr>\n",
       "      <th>16</th>\n",
       "      <td>ultra</td>\n",
       "      <td>5.0</td>\n",
       "      <td>510.328358</td>\n",
       "      <td>37.850746</td>\n",
       "      <td>19381.194030</td>\n",
       "      <td>2068.656716</td>\n",
       "    </tr>\n",
       "    <tr>\n",
       "      <th>17</th>\n",
       "      <td>ultra</td>\n",
       "      <td>6.0</td>\n",
       "      <td>479.702381</td>\n",
       "      <td>41.726190</td>\n",
       "      <td>18942.238095</td>\n",
       "      <td>2041.071429</td>\n",
       "    </tr>\n",
       "    <tr>\n",
       "      <th>18</th>\n",
       "      <td>ultra</td>\n",
       "      <td>7.0</td>\n",
       "      <td>545.791209</td>\n",
       "      <td>49.846154</td>\n",
       "      <td>20514.648352</td>\n",
       "      <td>2124.725275</td>\n",
       "    </tr>\n",
       "    <tr>\n",
       "      <th>19</th>\n",
       "      <td>ultra</td>\n",
       "      <td>8.0</td>\n",
       "      <td>510.775701</td>\n",
       "      <td>48.439252</td>\n",
       "      <td>19594.065421</td>\n",
       "      <td>2087.383178</td>\n",
       "    </tr>\n",
       "    <tr>\n",
       "      <th>20</th>\n",
       "      <td>ultra</td>\n",
       "      <td>9.0</td>\n",
       "      <td>539.443478</td>\n",
       "      <td>52.286957</td>\n",
       "      <td>19222.208696</td>\n",
       "      <td>2025.652174</td>\n",
       "    </tr>\n",
       "    <tr>\n",
       "      <th>21</th>\n",
       "      <td>ultra</td>\n",
       "      <td>10.0</td>\n",
       "      <td>558.081301</td>\n",
       "      <td>58.430894</td>\n",
       "      <td>20063.869919</td>\n",
       "      <td>2070.731707</td>\n",
       "    </tr>\n",
       "    <tr>\n",
       "      <th>22</th>\n",
       "      <td>ultra</td>\n",
       "      <td>11.0</td>\n",
       "      <td>541.380597</td>\n",
       "      <td>55.791045</td>\n",
       "      <td>19805.313433</td>\n",
       "      <td>2094.402985</td>\n",
       "    </tr>\n",
       "    <tr>\n",
       "      <th>23</th>\n",
       "      <td>ultra</td>\n",
       "      <td>12.0</td>\n",
       "      <td>588.571429</td>\n",
       "      <td>60.178571</td>\n",
       "      <td>21657.778571</td>\n",
       "      <td>2140.714286</td>\n",
       "    </tr>\n",
       "  </tbody>\n",
       "</table>\n",
       "</div>"
      ],
      "text/plain": [
       "   tariff  month         min        mes            mb       income\n",
       "0   smart    1.0  203.852941  18.235294   8524.441176   721.323529\n",
       "1   smart    2.0  298.689655  24.086207  11611.396552   844.844828\n",
       "2   smart    3.0  390.051948  31.857143  15123.857143  1175.012987\n",
       "3   smart    4.0  367.133929  30.741071  13479.482143   980.946429\n",
       "4   smart    5.0  387.361702  33.773050  15825.198582  1220.205674\n",
       "5   smart    6.0  395.640244  33.402439  15814.768293  1221.091463\n",
       "6   smart    7.0  408.353234  33.751244  15763.512438  1241.860697\n",
       "7   smart    8.0  421.468085  33.638298  16632.174468  1340.170213\n",
       "8   smart    9.0  428.611538  33.638462  16324.526923  1270.715385\n",
       "9   smart   10.0  426.136054  33.765306  16778.564626  1381.180272\n",
       "10  smart   11.0  435.265823  34.075949  16917.531646  1360.136076\n",
       "11  smart   12.0  477.144970  35.887574  18083.174556  1590.281065\n",
       "12  ultra    1.0  428.111111  33.777778  13153.555556  1950.000000\n",
       "13  ultra    2.0  297.125000  21.958333  11786.958333  1975.000000\n",
       "14  ultra    3.0  489.648649  32.297297  17551.972973  2014.864865\n",
       "15  ultra    4.0  458.018182  31.563636  16843.800000  2007.272727\n",
       "16  ultra    5.0  510.328358  37.850746  19381.194030  2068.656716\n",
       "17  ultra    6.0  479.702381  41.726190  18942.238095  2041.071429\n",
       "18  ultra    7.0  545.791209  49.846154  20514.648352  2124.725275\n",
       "19  ultra    8.0  510.775701  48.439252  19594.065421  2087.383178\n",
       "20  ultra    9.0  539.443478  52.286957  19222.208696  2025.652174\n",
       "21  ultra   10.0  558.081301  58.430894  20063.869919  2070.731707\n",
       "22  ultra   11.0  541.380597  55.791045  19805.313433  2094.402985\n",
       "23  ultra   12.0  588.571429  60.178571  21657.778571  2140.714286"
      ]
     },
     "execution_count": 60,
     "metadata": {},
     "output_type": "execute_result"
    }
   ],
   "source": [
    "tar = abonents.groupby(['tariff', 'month'])['min', 'mes', 'mb','income'].mean().reset_index()\n",
    "tar"
   ]
  },
  {
   "cell_type": "markdown",
   "metadata": {},
   "source": [
    "Разделим новую таблицу на две smart и ultra - по каждому тарифу"
   ]
  },
  {
   "cell_type": "code",
   "execution_count": 61,
   "metadata": {},
   "outputs": [],
   "source": [
    "smart = tar.query(' tariff==\"smart\" ')\n",
    "ultra = tar.query(' tariff==\"ultra\" ')"
   ]
  },
  {
   "cell_type": "code",
   "execution_count": 62,
   "metadata": {
    "scrolled": false
   },
   "outputs": [
    {
     "data": {
      "text/html": [
       "<div>\n",
       "<style scoped>\n",
       "    .dataframe tbody tr th:only-of-type {\n",
       "        vertical-align: middle;\n",
       "    }\n",
       "\n",
       "    .dataframe tbody tr th {\n",
       "        vertical-align: top;\n",
       "    }\n",
       "\n",
       "    .dataframe thead th {\n",
       "        text-align: right;\n",
       "    }\n",
       "</style>\n",
       "<table border=\"1\" class=\"dataframe\">\n",
       "  <thead>\n",
       "    <tr style=\"text-align: right;\">\n",
       "      <th></th>\n",
       "      <th>tariff</th>\n",
       "      <th>month</th>\n",
       "      <th>min</th>\n",
       "      <th>mes</th>\n",
       "      <th>mb</th>\n",
       "      <th>income</th>\n",
       "    </tr>\n",
       "  </thead>\n",
       "  <tbody>\n",
       "    <tr>\n",
       "      <th>0</th>\n",
       "      <td>smart</td>\n",
       "      <td>1.0</td>\n",
       "      <td>203.852941</td>\n",
       "      <td>18.235294</td>\n",
       "      <td>8524.441176</td>\n",
       "      <td>721.323529</td>\n",
       "    </tr>\n",
       "    <tr>\n",
       "      <th>1</th>\n",
       "      <td>smart</td>\n",
       "      <td>2.0</td>\n",
       "      <td>298.689655</td>\n",
       "      <td>24.086207</td>\n",
       "      <td>11611.396552</td>\n",
       "      <td>844.844828</td>\n",
       "    </tr>\n",
       "    <tr>\n",
       "      <th>2</th>\n",
       "      <td>smart</td>\n",
       "      <td>3.0</td>\n",
       "      <td>390.051948</td>\n",
       "      <td>31.857143</td>\n",
       "      <td>15123.857143</td>\n",
       "      <td>1175.012987</td>\n",
       "    </tr>\n",
       "    <tr>\n",
       "      <th>3</th>\n",
       "      <td>smart</td>\n",
       "      <td>4.0</td>\n",
       "      <td>367.133929</td>\n",
       "      <td>30.741071</td>\n",
       "      <td>13479.482143</td>\n",
       "      <td>980.946429</td>\n",
       "    </tr>\n",
       "    <tr>\n",
       "      <th>4</th>\n",
       "      <td>smart</td>\n",
       "      <td>5.0</td>\n",
       "      <td>387.361702</td>\n",
       "      <td>33.773050</td>\n",
       "      <td>15825.198582</td>\n",
       "      <td>1220.205674</td>\n",
       "    </tr>\n",
       "    <tr>\n",
       "      <th>5</th>\n",
       "      <td>smart</td>\n",
       "      <td>6.0</td>\n",
       "      <td>395.640244</td>\n",
       "      <td>33.402439</td>\n",
       "      <td>15814.768293</td>\n",
       "      <td>1221.091463</td>\n",
       "    </tr>\n",
       "    <tr>\n",
       "      <th>6</th>\n",
       "      <td>smart</td>\n",
       "      <td>7.0</td>\n",
       "      <td>408.353234</td>\n",
       "      <td>33.751244</td>\n",
       "      <td>15763.512438</td>\n",
       "      <td>1241.860697</td>\n",
       "    </tr>\n",
       "    <tr>\n",
       "      <th>7</th>\n",
       "      <td>smart</td>\n",
       "      <td>8.0</td>\n",
       "      <td>421.468085</td>\n",
       "      <td>33.638298</td>\n",
       "      <td>16632.174468</td>\n",
       "      <td>1340.170213</td>\n",
       "    </tr>\n",
       "    <tr>\n",
       "      <th>8</th>\n",
       "      <td>smart</td>\n",
       "      <td>9.0</td>\n",
       "      <td>428.611538</td>\n",
       "      <td>33.638462</td>\n",
       "      <td>16324.526923</td>\n",
       "      <td>1270.715385</td>\n",
       "    </tr>\n",
       "    <tr>\n",
       "      <th>9</th>\n",
       "      <td>smart</td>\n",
       "      <td>10.0</td>\n",
       "      <td>426.136054</td>\n",
       "      <td>33.765306</td>\n",
       "      <td>16778.564626</td>\n",
       "      <td>1381.180272</td>\n",
       "    </tr>\n",
       "    <tr>\n",
       "      <th>10</th>\n",
       "      <td>smart</td>\n",
       "      <td>11.0</td>\n",
       "      <td>435.265823</td>\n",
       "      <td>34.075949</td>\n",
       "      <td>16917.531646</td>\n",
       "      <td>1360.136076</td>\n",
       "    </tr>\n",
       "    <tr>\n",
       "      <th>11</th>\n",
       "      <td>smart</td>\n",
       "      <td>12.0</td>\n",
       "      <td>477.144970</td>\n",
       "      <td>35.887574</td>\n",
       "      <td>18083.174556</td>\n",
       "      <td>1590.281065</td>\n",
       "    </tr>\n",
       "  </tbody>\n",
       "</table>\n",
       "</div>"
      ],
      "text/plain": [
       "   tariff  month         min        mes            mb       income\n",
       "0   smart    1.0  203.852941  18.235294   8524.441176   721.323529\n",
       "1   smart    2.0  298.689655  24.086207  11611.396552   844.844828\n",
       "2   smart    3.0  390.051948  31.857143  15123.857143  1175.012987\n",
       "3   smart    4.0  367.133929  30.741071  13479.482143   980.946429\n",
       "4   smart    5.0  387.361702  33.773050  15825.198582  1220.205674\n",
       "5   smart    6.0  395.640244  33.402439  15814.768293  1221.091463\n",
       "6   smart    7.0  408.353234  33.751244  15763.512438  1241.860697\n",
       "7   smart    8.0  421.468085  33.638298  16632.174468  1340.170213\n",
       "8   smart    9.0  428.611538  33.638462  16324.526923  1270.715385\n",
       "9   smart   10.0  426.136054  33.765306  16778.564626  1381.180272\n",
       "10  smart   11.0  435.265823  34.075949  16917.531646  1360.136076\n",
       "11  smart   12.0  477.144970  35.887574  18083.174556  1590.281065"
      ]
     },
     "execution_count": 62,
     "metadata": {},
     "output_type": "execute_result"
    }
   ],
   "source": [
    "smart"
   ]
  },
  {
   "cell_type": "code",
   "execution_count": 63,
   "metadata": {
    "scrolled": true
   },
   "outputs": [
    {
     "data": {
      "text/html": [
       "<div>\n",
       "<style scoped>\n",
       "    .dataframe tbody tr th:only-of-type {\n",
       "        vertical-align: middle;\n",
       "    }\n",
       "\n",
       "    .dataframe tbody tr th {\n",
       "        vertical-align: top;\n",
       "    }\n",
       "\n",
       "    .dataframe thead th {\n",
       "        text-align: right;\n",
       "    }\n",
       "</style>\n",
       "<table border=\"1\" class=\"dataframe\">\n",
       "  <thead>\n",
       "    <tr style=\"text-align: right;\">\n",
       "      <th></th>\n",
       "      <th>tariff</th>\n",
       "      <th>month</th>\n",
       "      <th>min</th>\n",
       "      <th>mes</th>\n",
       "      <th>mb</th>\n",
       "      <th>income</th>\n",
       "    </tr>\n",
       "  </thead>\n",
       "  <tbody>\n",
       "    <tr>\n",
       "      <th>12</th>\n",
       "      <td>ultra</td>\n",
       "      <td>1.0</td>\n",
       "      <td>428.111111</td>\n",
       "      <td>33.777778</td>\n",
       "      <td>13153.555556</td>\n",
       "      <td>1950.000000</td>\n",
       "    </tr>\n",
       "    <tr>\n",
       "      <th>13</th>\n",
       "      <td>ultra</td>\n",
       "      <td>2.0</td>\n",
       "      <td>297.125000</td>\n",
       "      <td>21.958333</td>\n",
       "      <td>11786.958333</td>\n",
       "      <td>1975.000000</td>\n",
       "    </tr>\n",
       "    <tr>\n",
       "      <th>14</th>\n",
       "      <td>ultra</td>\n",
       "      <td>3.0</td>\n",
       "      <td>489.648649</td>\n",
       "      <td>32.297297</td>\n",
       "      <td>17551.972973</td>\n",
       "      <td>2014.864865</td>\n",
       "    </tr>\n",
       "    <tr>\n",
       "      <th>15</th>\n",
       "      <td>ultra</td>\n",
       "      <td>4.0</td>\n",
       "      <td>458.018182</td>\n",
       "      <td>31.563636</td>\n",
       "      <td>16843.800000</td>\n",
       "      <td>2007.272727</td>\n",
       "    </tr>\n",
       "    <tr>\n",
       "      <th>16</th>\n",
       "      <td>ultra</td>\n",
       "      <td>5.0</td>\n",
       "      <td>510.328358</td>\n",
       "      <td>37.850746</td>\n",
       "      <td>19381.194030</td>\n",
       "      <td>2068.656716</td>\n",
       "    </tr>\n",
       "    <tr>\n",
       "      <th>17</th>\n",
       "      <td>ultra</td>\n",
       "      <td>6.0</td>\n",
       "      <td>479.702381</td>\n",
       "      <td>41.726190</td>\n",
       "      <td>18942.238095</td>\n",
       "      <td>2041.071429</td>\n",
       "    </tr>\n",
       "    <tr>\n",
       "      <th>18</th>\n",
       "      <td>ultra</td>\n",
       "      <td>7.0</td>\n",
       "      <td>545.791209</td>\n",
       "      <td>49.846154</td>\n",
       "      <td>20514.648352</td>\n",
       "      <td>2124.725275</td>\n",
       "    </tr>\n",
       "    <tr>\n",
       "      <th>19</th>\n",
       "      <td>ultra</td>\n",
       "      <td>8.0</td>\n",
       "      <td>510.775701</td>\n",
       "      <td>48.439252</td>\n",
       "      <td>19594.065421</td>\n",
       "      <td>2087.383178</td>\n",
       "    </tr>\n",
       "    <tr>\n",
       "      <th>20</th>\n",
       "      <td>ultra</td>\n",
       "      <td>9.0</td>\n",
       "      <td>539.443478</td>\n",
       "      <td>52.286957</td>\n",
       "      <td>19222.208696</td>\n",
       "      <td>2025.652174</td>\n",
       "    </tr>\n",
       "    <tr>\n",
       "      <th>21</th>\n",
       "      <td>ultra</td>\n",
       "      <td>10.0</td>\n",
       "      <td>558.081301</td>\n",
       "      <td>58.430894</td>\n",
       "      <td>20063.869919</td>\n",
       "      <td>2070.731707</td>\n",
       "    </tr>\n",
       "    <tr>\n",
       "      <th>22</th>\n",
       "      <td>ultra</td>\n",
       "      <td>11.0</td>\n",
       "      <td>541.380597</td>\n",
       "      <td>55.791045</td>\n",
       "      <td>19805.313433</td>\n",
       "      <td>2094.402985</td>\n",
       "    </tr>\n",
       "    <tr>\n",
       "      <th>23</th>\n",
       "      <td>ultra</td>\n",
       "      <td>12.0</td>\n",
       "      <td>588.571429</td>\n",
       "      <td>60.178571</td>\n",
       "      <td>21657.778571</td>\n",
       "      <td>2140.714286</td>\n",
       "    </tr>\n",
       "  </tbody>\n",
       "</table>\n",
       "</div>"
      ],
      "text/plain": [
       "   tariff  month         min        mes            mb       income\n",
       "12  ultra    1.0  428.111111  33.777778  13153.555556  1950.000000\n",
       "13  ultra    2.0  297.125000  21.958333  11786.958333  1975.000000\n",
       "14  ultra    3.0  489.648649  32.297297  17551.972973  2014.864865\n",
       "15  ultra    4.0  458.018182  31.563636  16843.800000  2007.272727\n",
       "16  ultra    5.0  510.328358  37.850746  19381.194030  2068.656716\n",
       "17  ultra    6.0  479.702381  41.726190  18942.238095  2041.071429\n",
       "18  ultra    7.0  545.791209  49.846154  20514.648352  2124.725275\n",
       "19  ultra    8.0  510.775701  48.439252  19594.065421  2087.383178\n",
       "20  ultra    9.0  539.443478  52.286957  19222.208696  2025.652174\n",
       "21  ultra   10.0  558.081301  58.430894  20063.869919  2070.731707\n",
       "22  ultra   11.0  541.380597  55.791045  19805.313433  2094.402985\n",
       "23  ultra   12.0  588.571429  60.178571  21657.778571  2140.714286"
      ]
     },
     "execution_count": 63,
     "metadata": {},
     "output_type": "execute_result"
    }
   ],
   "source": [
    "ultra"
   ]
  },
  {
   "cell_type": "code",
   "execution_count": 64,
   "metadata": {
    "scrolled": true
   },
   "outputs": [
    {
     "data": {
      "text/html": [
       "<div>\n",
       "<style scoped>\n",
       "    .dataframe tbody tr th:only-of-type {\n",
       "        vertical-align: middle;\n",
       "    }\n",
       "\n",
       "    .dataframe tbody tr th {\n",
       "        vertical-align: top;\n",
       "    }\n",
       "\n",
       "    .dataframe thead th {\n",
       "        text-align: right;\n",
       "    }\n",
       "</style>\n",
       "<table border=\"1\" class=\"dataframe\">\n",
       "  <thead>\n",
       "    <tr style=\"text-align: right;\">\n",
       "      <th></th>\n",
       "      <th>messages_included</th>\n",
       "      <th>mb_per_month_included</th>\n",
       "      <th>minutes_included</th>\n",
       "      <th>rub_monthly_fee</th>\n",
       "      <th>rub_per_gb</th>\n",
       "      <th>rub_per_message</th>\n",
       "      <th>rub_per_minute</th>\n",
       "      <th>tariff_name</th>\n",
       "    </tr>\n",
       "  </thead>\n",
       "  <tbody>\n",
       "    <tr>\n",
       "      <th>0</th>\n",
       "      <td>50</td>\n",
       "      <td>15360</td>\n",
       "      <td>500</td>\n",
       "      <td>550</td>\n",
       "      <td>200</td>\n",
       "      <td>3</td>\n",
       "      <td>3</td>\n",
       "      <td>smart</td>\n",
       "    </tr>\n",
       "    <tr>\n",
       "      <th>1</th>\n",
       "      <td>1000</td>\n",
       "      <td>30720</td>\n",
       "      <td>3000</td>\n",
       "      <td>1950</td>\n",
       "      <td>150</td>\n",
       "      <td>1</td>\n",
       "      <td>1</td>\n",
       "      <td>ultra</td>\n",
       "    </tr>\n",
       "  </tbody>\n",
       "</table>\n",
       "</div>"
      ],
      "text/plain": [
       "   messages_included  mb_per_month_included  minutes_included  \\\n",
       "0                 50                  15360               500   \n",
       "1               1000                  30720              3000   \n",
       "\n",
       "   rub_monthly_fee  rub_per_gb  rub_per_message  rub_per_minute tariff_name  \n",
       "0              550         200                3               3       smart  \n",
       "1             1950         150                1               1       ultra  "
      ]
     },
     "execution_count": 64,
     "metadata": {},
     "output_type": "execute_result"
    }
   ],
   "source": [
    "tariffs"
   ]
  },
  {
   "cell_type": "code",
   "execution_count": 65,
   "metadata": {
    "scrolled": false
   },
   "outputs": [
    {
     "data": {
      "image/png": "[encoded data removed]",
      "text/plain": [
       "<Figure size 1008x360 with 1 Axes>"
      ]
     },
     "metadata": {
      "needs_background": "light"
     },
     "output_type": "display_data"
    },
    {
     "data": {
      "image/png": "[encoded data removed]",
      "text/plain": [
       "<Figure size 1008x360 with 1 Axes>"
      ]
     },
     "metadata": {
      "needs_background": "light"
     },
     "output_type": "display_data"
    },
    {
     "data": {
      "image/png": "[encoded data removed]",
      "text/plain": [
       "<Figure size 1008x360 with 1 Axes>"
      ]
     },
     "metadata": {
      "needs_background": "light"
     },
     "output_type": "display_data"
    },
    {
     "data": {
      "image/png": "[encoded data removed]",
      "text/plain": [
       "<Figure size 1008x360 with 1 Axes>"
      ]
     },
     "metadata": {
      "needs_background": "light"
     },
     "output_type": "display_data"
    }
   ],
   "source": [
    "for param in ['min', 'mes', 'mb','income']:\n",
    "    w = 0.4\n",
    "    plt.figure(figsize=(14, 5))\n",
    "    plt.bar(smart['month']-w/2, smart[param], label='smart', color='g', alpha=0.5, width=w)\n",
    "    plt.bar(ultra['month']+w/2, ultra[param], label='ultra', color='b', alpha=0.4, width=w)\n",
    "\n",
    "# porog- пороговое значение в smart, после которого идёт оплата сверх абонентской\n",
    "    if param == 'min':\n",
    "        porog=500\n",
    "    elif param == 'mes':\n",
    "        porog=50\n",
    "    elif param == 'mb':\n",
    "        porog=15360\n",
    "    else:\n",
    "        porog=550\n",
    "        \n",
    "    plt.axhline(y=porog, label='Порог для smart', color='red')  \n",
    "    plt.xlabel('month')\n",
    "    plt.ylabel(param)\n",
    "    plt.grid()\n",
    "    plt.title(f'Кол-во {param} одного абонента по месяцам для обоих тарифов')\n",
    "    plt.legend()\n",
    "    plt.show();"
   ]
  },
  {
   "cell_type": "markdown",
   "metadata": {},
   "source": [
    "Рассчитаем усредненные значения за месяц, которые требуются абонентам в обоих тарифах"
   ]
  },
  {
   "cell_type": "code",
   "execution_count": 66,
   "metadata": {},
   "outputs": [
    {
     "name": "stdout",
     "output_type": "stream",
     "text": [
      "Медианные месячные значения абонента в течение 2018 года\n",
      "Кол-во min: smart = 402 / ultra = 511\n",
      "Кол-во mes: smart = 34 / ultra = 45\n",
      "Кол-во mb: smart = 15820 / ultra = 19302\n",
      "Кол-во income: smart = 1231 / ultra = 2055\n"
     ]
    }
   ],
   "source": [
    "print('Медианные месячные значения абонента в течение 2018 года')\n",
    "for parametr in ['min', 'mes', 'mb', 'income']:\n",
    "    print(f'Кол-во {parametr}: smart = {round(smart[parametr].median())} / ultra = {round(ultra[parametr].median())}')"
   ]
  },
  {
   "cell_type": "markdown",
   "metadata": {},
   "source": [
    "Распределим абонентов по кол-ву использованых услуг, гистограммы"
   ]
  },
  {
   "cell_type": "code",
   "execution_count": 67,
   "metadata": {
    "scrolled": true
   },
   "outputs": [
    {
     "data": {
      "image/png": "[encoded data removed]",
      "text/plain": [
       "<Figure size 1008x360 with 1 Axes>"
      ]
     },
     "metadata": {
      "needs_background": "light"
     },
     "output_type": "display_data"
    },
    {
     "data": {
      "image/png": "[encoded data removed]",
      "text/plain": [
       "<Figure size 1008x360 with 1 Axes>"
      ]
     },
     "metadata": {
      "needs_background": "light"
     },
     "output_type": "display_data"
    },
    {
     "data": {
      "image/png": "[encoded data removed]",
      "text/plain": [
       "<Figure size 1008x360 with 1 Axes>"
      ]
     },
     "metadata": {
      "needs_background": "light"
     },
     "output_type": "display_data"
    },
    {
     "data": {
      "image/png": "[encoded data removed]",
      "text/plain": [
       "<Figure size 1008x360 with 1 Axes>"
      ]
     },
     "metadata": {
      "needs_background": "light"
     },
     "output_type": "display_data"
    }
   ],
   "source": [
    "for param in ['min', 'mes', 'mb','income']:\n",
    "    b = 50\n",
    "    plt.figure(figsize=(14, 5))\n",
    "    \n",
    "    plt.hist(abonents.loc[abonents['tariff'] == \"smart\", param], label='smart / '+param, color='g', alpha=0.65, bins = b)\n",
    "    plt.hist(abonents.loc[abonents['tariff'] == \"ultra\", param], label='ultra / '+param, color='r', alpha=0.35, bins = b)\n",
    "    \n",
    "    plt.ylabel('ЧАСТОТА')\n",
    "    plt.xlabel(param)\n",
    "    plt.grid()\n",
    "    plt.title(f'Распределение {param} в месяцам для обоих тарифов')\n",
    "    plt.legend()\n",
    "    plt.show();"
   ]
  },
  {
   "cell_type": "markdown",
   "metadata": {},
   "source": [
    "Определим среднее количество, дисперсию и стандартное отклонение"
   ]
  },
  {
   "cell_type": "markdown",
   "metadata": {},
   "source": [
    "Создадим новый DataFrame stat_frame и запишем в него все расчитываемые статистические значения\n",
    "\n",
    "Таблица stat_frame - статистика для выборки. \n",
    "\n",
    "Столбцы:\n",
    " - parameter - (min-минуты, mes-СМС, mb-трафик)\n",
    " - mean - среднее\n",
    " - var - дисперсия\n",
    " - std - стандартное отклонение\n",
    " - tariff - тариф (smart, ultra, all-по обоим тарифам)"
   ]
  },
  {
   "cell_type": "code",
   "execution_count": 68,
   "metadata": {
    "scrolled": true
   },
   "outputs": [
    {
     "data": {
      "text/html": [
       "<div>\n",
       "<style scoped>\n",
       "    .dataframe tbody tr th:only-of-type {\n",
       "        vertical-align: middle;\n",
       "    }\n",
       "\n",
       "    .dataframe tbody tr th {\n",
       "        vertical-align: top;\n",
       "    }\n",
       "\n",
       "    .dataframe thead th {\n",
       "        text-align: right;\n",
       "    }\n",
       "</style>\n",
       "<table border=\"1\" class=\"dataframe\">\n",
       "  <thead>\n",
       "    <tr style=\"text-align: right;\">\n",
       "      <th></th>\n",
       "      <th>parameter</th>\n",
       "      <th>mean</th>\n",
       "      <th>var</th>\n",
       "      <th>std</th>\n",
       "      <th>tariff</th>\n",
       "    </tr>\n",
       "  </thead>\n",
       "  <tbody>\n",
       "    <tr>\n",
       "      <th>0</th>\n",
       "      <td>min</td>\n",
       "      <td>386.6</td>\n",
       "      <td>5198.3</td>\n",
       "      <td>72.1</td>\n",
       "      <td>smart</td>\n",
       "    </tr>\n",
       "    <tr>\n",
       "      <th>1</th>\n",
       "      <td>min</td>\n",
       "      <td>495.6</td>\n",
       "      <td>5925.4</td>\n",
       "      <td>77.0</td>\n",
       "      <td>ultra</td>\n",
       "    </tr>\n",
       "    <tr>\n",
       "      <th>2</th>\n",
       "      <td>min</td>\n",
       "      <td>441.1</td>\n",
       "      <td>8416.0</td>\n",
       "      <td>91.7</td>\n",
       "      <td>all</td>\n",
       "    </tr>\n",
       "    <tr>\n",
       "      <th>3</th>\n",
       "      <td>mes</td>\n",
       "      <td>31.4</td>\n",
       "      <td>26.0</td>\n",
       "      <td>5.1</td>\n",
       "      <td>smart</td>\n",
       "    </tr>\n",
       "    <tr>\n",
       "      <th>4</th>\n",
       "      <td>mes</td>\n",
       "      <td>43.7</td>\n",
       "      <td>150.5</td>\n",
       "      <td>12.3</td>\n",
       "      <td>ultra</td>\n",
       "    </tr>\n",
       "    <tr>\n",
       "      <th>5</th>\n",
       "      <td>mes</td>\n",
       "      <td>37.5</td>\n",
       "      <td>123.7</td>\n",
       "      <td>11.1</td>\n",
       "      <td>all</td>\n",
       "    </tr>\n",
       "    <tr>\n",
       "      <th>6</th>\n",
       "      <td>mb</td>\n",
       "      <td>15073.2</td>\n",
       "      <td>7124616.3</td>\n",
       "      <td>2669.2</td>\n",
       "      <td>smart</td>\n",
       "    </tr>\n",
       "    <tr>\n",
       "      <th>7</th>\n",
       "      <td>mb</td>\n",
       "      <td>18209.8</td>\n",
       "      <td>8831918.9</td>\n",
       "      <td>2971.9</td>\n",
       "      <td>ultra</td>\n",
       "    </tr>\n",
       "    <tr>\n",
       "      <th>8</th>\n",
       "      <td>mb</td>\n",
       "      <td>16641.5</td>\n",
       "      <td>10197858.2</td>\n",
       "      <td>3193.4</td>\n",
       "      <td>all</td>\n",
       "    </tr>\n",
       "    <tr>\n",
       "      <th>9</th>\n",
       "      <td>income</td>\n",
       "      <td>1195.6</td>\n",
       "      <td>58335.5</td>\n",
       "      <td>241.5</td>\n",
       "      <td>smart</td>\n",
       "    </tr>\n",
       "    <tr>\n",
       "      <th>10</th>\n",
       "      <td>income</td>\n",
       "      <td>2050.0</td>\n",
       "      <td>3392.5</td>\n",
       "      <td>58.2</td>\n",
       "      <td>ultra</td>\n",
       "    </tr>\n",
       "    <tr>\n",
       "      <th>11</th>\n",
       "      <td>income</td>\n",
       "      <td>1622.8</td>\n",
       "      <td>219953.3</td>\n",
       "      <td>469.0</td>\n",
       "      <td>all</td>\n",
       "    </tr>\n",
       "  </tbody>\n",
       "</table>\n",
       "</div>"
      ],
      "text/plain": [
       "   parameter     mean         var     std tariff\n",
       "0        min    386.6      5198.3    72.1  smart\n",
       "1        min    495.6      5925.4    77.0  ultra\n",
       "2        min    441.1      8416.0    91.7    all\n",
       "3        mes     31.4        26.0     5.1  smart\n",
       "4        mes     43.7       150.5    12.3  ultra\n",
       "5        mes     37.5       123.7    11.1    all\n",
       "6         mb  15073.2   7124616.3  2669.2  smart\n",
       "7         mb  18209.8   8831918.9  2971.9  ultra\n",
       "8         mb  16641.5  10197858.2  3193.4    all\n",
       "9     income   1195.6     58335.5   241.5  smart\n",
       "10    income   2050.0      3392.5    58.2  ultra\n",
       "11    income   1622.8    219953.3   469.0    all"
      ]
     },
     "execution_count": 68,
     "metadata": {},
     "output_type": "execute_result"
    }
   ],
   "source": [
    "stat_frame = pd.DataFrame(columns = ['parameter', 'mean', 'var', 'std', 'tariff'])\n",
    "\n",
    "ind = 0\n",
    "t = ['smart', 'ultra', 'all']\n",
    "for param in ['min', 'mes', 'mb', 'income']:\n",
    "    tariff_ind = 0\n",
    "    for df in [smart, ultra, tar]:\n",
    "        stat_frame.loc[ind, 'parameter'] = param\n",
    "        stat_frame.loc[ind, 'mean'] = round(df[param].mean(),1)\n",
    "        stat_frame.loc[ind, 'var'] = round(np.var(df[param], ddof=1),1) # Поскольку данные являются выборкой, это указано\n",
    "        stat_frame.loc[ind, 'std'] = round(np.std(df[param], ddof=1),1) # в условии, то ипользуем параметр - ddof=1\n",
    "        stat_frame.loc[ind, 'tariff'] = t[tariff_ind]\n",
    "        ind +=1\n",
    "        tariff_ind +=1\n",
    "stat_frame"
   ]
  },
  {
   "cell_type": "markdown",
   "metadata": {},
   "source": [
    "Расчитаем доли стандартных отклонений в среднем - столбец %std"
   ]
  },
  {
   "cell_type": "code",
   "execution_count": 69,
   "metadata": {
    "scrolled": true
   },
   "outputs": [
    {
     "data": {
      "text/html": [
       "<div>\n",
       "<style scoped>\n",
       "    .dataframe tbody tr th:only-of-type {\n",
       "        vertical-align: middle;\n",
       "    }\n",
       "\n",
       "    .dataframe tbody tr th {\n",
       "        vertical-align: top;\n",
       "    }\n",
       "\n",
       "    .dataframe thead th {\n",
       "        text-align: right;\n",
       "    }\n",
       "</style>\n",
       "<table border=\"1\" class=\"dataframe\">\n",
       "  <thead>\n",
       "    <tr style=\"text-align: right;\">\n",
       "      <th></th>\n",
       "      <th>parameter</th>\n",
       "      <th>mean</th>\n",
       "      <th>var</th>\n",
       "      <th>std</th>\n",
       "      <th>tariff</th>\n",
       "      <th>%std</th>\n",
       "    </tr>\n",
       "  </thead>\n",
       "  <tbody>\n",
       "    <tr>\n",
       "      <th>0</th>\n",
       "      <td>min</td>\n",
       "      <td>386.6</td>\n",
       "      <td>5198.3</td>\n",
       "      <td>72.1</td>\n",
       "      <td>smart</td>\n",
       "      <td>18.649767</td>\n",
       "    </tr>\n",
       "    <tr>\n",
       "      <th>1</th>\n",
       "      <td>min</td>\n",
       "      <td>495.6</td>\n",
       "      <td>5925.4</td>\n",
       "      <td>77.0</td>\n",
       "      <td>ultra</td>\n",
       "      <td>15.536723</td>\n",
       "    </tr>\n",
       "    <tr>\n",
       "      <th>2</th>\n",
       "      <td>min</td>\n",
       "      <td>441.1</td>\n",
       "      <td>8416.0</td>\n",
       "      <td>91.7</td>\n",
       "      <td>all</td>\n",
       "      <td>20.788937</td>\n",
       "    </tr>\n",
       "    <tr>\n",
       "      <th>3</th>\n",
       "      <td>mes</td>\n",
       "      <td>31.4</td>\n",
       "      <td>26.0</td>\n",
       "      <td>5.1</td>\n",
       "      <td>smart</td>\n",
       "      <td>16.242038</td>\n",
       "    </tr>\n",
       "    <tr>\n",
       "      <th>4</th>\n",
       "      <td>mes</td>\n",
       "      <td>43.7</td>\n",
       "      <td>150.5</td>\n",
       "      <td>12.3</td>\n",
       "      <td>ultra</td>\n",
       "      <td>28.146453</td>\n",
       "    </tr>\n",
       "    <tr>\n",
       "      <th>5</th>\n",
       "      <td>mes</td>\n",
       "      <td>37.5</td>\n",
       "      <td>123.7</td>\n",
       "      <td>11.1</td>\n",
       "      <td>all</td>\n",
       "      <td>29.6</td>\n",
       "    </tr>\n",
       "    <tr>\n",
       "      <th>6</th>\n",
       "      <td>mb</td>\n",
       "      <td>15073.2</td>\n",
       "      <td>7124616.3</td>\n",
       "      <td>2669.2</td>\n",
       "      <td>smart</td>\n",
       "      <td>17.70825</td>\n",
       "    </tr>\n",
       "    <tr>\n",
       "      <th>7</th>\n",
       "      <td>mb</td>\n",
       "      <td>18209.8</td>\n",
       "      <td>8831918.9</td>\n",
       "      <td>2971.9</td>\n",
       "      <td>ultra</td>\n",
       "      <td>16.320333</td>\n",
       "    </tr>\n",
       "    <tr>\n",
       "      <th>8</th>\n",
       "      <td>mb</td>\n",
       "      <td>16641.5</td>\n",
       "      <td>10197858.2</td>\n",
       "      <td>3193.4</td>\n",
       "      <td>all</td>\n",
       "      <td>19.189376</td>\n",
       "    </tr>\n",
       "    <tr>\n",
       "      <th>9</th>\n",
       "      <td>income</td>\n",
       "      <td>1195.6</td>\n",
       "      <td>58335.5</td>\n",
       "      <td>241.5</td>\n",
       "      <td>smart</td>\n",
       "      <td>20.199063</td>\n",
       "    </tr>\n",
       "    <tr>\n",
       "      <th>10</th>\n",
       "      <td>income</td>\n",
       "      <td>2050.0</td>\n",
       "      <td>3392.5</td>\n",
       "      <td>58.2</td>\n",
       "      <td>ultra</td>\n",
       "      <td>2.839024</td>\n",
       "    </tr>\n",
       "    <tr>\n",
       "      <th>11</th>\n",
       "      <td>income</td>\n",
       "      <td>1622.8</td>\n",
       "      <td>219953.3</td>\n",
       "      <td>469.0</td>\n",
       "      <td>all</td>\n",
       "      <td>28.900666</td>\n",
       "    </tr>\n",
       "  </tbody>\n",
       "</table>\n",
       "</div>"
      ],
      "text/plain": [
       "   parameter     mean         var     std tariff       %std\n",
       "0        min    386.6      5198.3    72.1  smart  18.649767\n",
       "1        min    495.6      5925.4    77.0  ultra  15.536723\n",
       "2        min    441.1      8416.0    91.7    all  20.788937\n",
       "3        mes     31.4        26.0     5.1  smart  16.242038\n",
       "4        mes     43.7       150.5    12.3  ultra  28.146453\n",
       "5        mes     37.5       123.7    11.1    all       29.6\n",
       "6         mb  15073.2   7124616.3  2669.2  smart   17.70825\n",
       "7         mb  18209.8   8831918.9  2971.9  ultra  16.320333\n",
       "8         mb  16641.5  10197858.2  3193.4    all  19.189376\n",
       "9     income   1195.6     58335.5   241.5  smart  20.199063\n",
       "10    income   2050.0      3392.5    58.2  ultra   2.839024\n",
       "11    income   1622.8    219953.3   469.0    all  28.900666"
      ]
     },
     "execution_count": 69,
     "metadata": {},
     "output_type": "execute_result"
    }
   ],
   "source": [
    "stat_frame['%std'] = stat_frame['std'] / stat_frame['mean'] * 100\n",
    "stat_frame"
   ]
  },
  {
   "cell_type": "code",
   "execution_count": 78,
   "metadata": {
    "scrolled": true
   },
   "outputs": [
    {
     "data": {
      "text/html": [
       "<div>\n",
       "<style scoped>\n",
       "    .dataframe tbody tr th:only-of-type {\n",
       "        vertical-align: middle;\n",
       "    }\n",
       "\n",
       "    .dataframe tbody tr th {\n",
       "        vertical-align: top;\n",
       "    }\n",
       "\n",
       "    .dataframe thead th {\n",
       "        text-align: right;\n",
       "    }\n",
       "</style>\n",
       "<table border=\"1\" class=\"dataframe\">\n",
       "  <thead>\n",
       "    <tr style=\"text-align: right;\">\n",
       "      <th></th>\n",
       "      <th>income</th>\n",
       "    </tr>\n",
       "  </thead>\n",
       "  <tbody>\n",
       "    <tr>\n",
       "      <th>count</th>\n",
       "      <td>2230.000000</td>\n",
       "    </tr>\n",
       "    <tr>\n",
       "      <th>mean</th>\n",
       "      <td>1306.951121</td>\n",
       "    </tr>\n",
       "    <tr>\n",
       "      <th>std</th>\n",
       "      <td>813.189112</td>\n",
       "    </tr>\n",
       "    <tr>\n",
       "      <th>min</th>\n",
       "      <td>550.000000</td>\n",
       "    </tr>\n",
       "    <tr>\n",
       "      <th>25%</th>\n",
       "      <td>613.750000</td>\n",
       "    </tr>\n",
       "    <tr>\n",
       "      <th>50%</th>\n",
       "      <td>1046.000000</td>\n",
       "    </tr>\n",
       "    <tr>\n",
       "      <th>75%</th>\n",
       "      <td>1750.000000</td>\n",
       "    </tr>\n",
       "    <tr>\n",
       "      <th>max</th>\n",
       "      <td>6770.000000</td>\n",
       "    </tr>\n",
       "  </tbody>\n",
       "</table>\n",
       "</div>"
      ],
      "text/plain": [
       "            income\n",
       "count  2230.000000\n",
       "mean   1306.951121\n",
       "std     813.189112\n",
       "min     550.000000\n",
       "25%     613.750000\n",
       "50%    1046.000000\n",
       "75%    1750.000000\n",
       "max    6770.000000"
      ]
     },
     "execution_count": 78,
     "metadata": {},
     "output_type": "execute_result"
    }
   ],
   "source": [
    "#Посчитаем среднее, дисперсию и ст. отклонение для тарифа smart.\n",
    " \n",
    "smart_data = abonents.query('tariff == \"smart\"')\n",
    "smart_data[['income']].describe()\n"
   ]
  },
  {
   "cell_type": "code",
   "execution_count": 80,
   "metadata": {},
   "outputs": [
    {
     "data": {
      "text/plain": [
       "income    660979.995369\n",
       "dtype: float64"
      ]
     },
     "execution_count": 80,
     "metadata": {},
     "output_type": "execute_result"
    }
   ],
   "source": [
    "#Посчитаем дисперсию и мат.ожидание для тарифов Smart:\n",
    " \n",
    "variance_smart = np.var(smart_data[['income']])\n",
    "variance_smart\n"
   ]
  },
  {
   "cell_type": "code",
   "execution_count": 81,
   "metadata": {},
   "outputs": [
    {
     "data": {
      "text/plain": [
       "income    813.006762\n",
       "dtype: float64"
      ]
     },
     "execution_count": 81,
     "metadata": {},
     "output_type": "execute_result"
    }
   ],
   "source": [
    "expectation_smart = variance_smart**0.5\n",
    "expectation_smart"
   ]
  },
  {
   "cell_type": "code",
   "execution_count": 82,
   "metadata": {
    "scrolled": true
   },
   "outputs": [
    {
     "data": {
      "text/html": [
       "<div>\n",
       "<style scoped>\n",
       "    .dataframe tbody tr th:only-of-type {\n",
       "        vertical-align: middle;\n",
       "    }\n",
       "\n",
       "    .dataframe tbody tr th {\n",
       "        vertical-align: top;\n",
       "    }\n",
       "\n",
       "    .dataframe thead th {\n",
       "        text-align: right;\n",
       "    }\n",
       "</style>\n",
       "<table border=\"1\" class=\"dataframe\">\n",
       "  <thead>\n",
       "    <tr style=\"text-align: right;\">\n",
       "      <th></th>\n",
       "      <th>income</th>\n",
       "    </tr>\n",
       "  </thead>\n",
       "  <tbody>\n",
       "    <tr>\n",
       "      <th>count</th>\n",
       "      <td>986.000000</td>\n",
       "    </tr>\n",
       "    <tr>\n",
       "      <th>mean</th>\n",
       "      <td>2073.681542</td>\n",
       "    </tr>\n",
       "    <tr>\n",
       "      <th>std</th>\n",
       "      <td>378.286997</td>\n",
       "    </tr>\n",
       "    <tr>\n",
       "      <th>min</th>\n",
       "      <td>1950.000000</td>\n",
       "    </tr>\n",
       "    <tr>\n",
       "      <th>25%</th>\n",
       "      <td>1950.000000</td>\n",
       "    </tr>\n",
       "    <tr>\n",
       "      <th>50%</th>\n",
       "      <td>1950.000000</td>\n",
       "    </tr>\n",
       "    <tr>\n",
       "      <th>75%</th>\n",
       "      <td>1950.000000</td>\n",
       "    </tr>\n",
       "    <tr>\n",
       "      <th>max</th>\n",
       "      <td>4800.000000</td>\n",
       "    </tr>\n",
       "  </tbody>\n",
       "</table>\n",
       "</div>"
      ],
      "text/plain": [
       "            income\n",
       "count   986.000000\n",
       "mean   2073.681542\n",
       "std     378.286997\n",
       "min    1950.000000\n",
       "25%    1950.000000\n",
       "50%    1950.000000\n",
       "75%    1950.000000\n",
       "max    4800.000000"
      ]
     },
     "execution_count": 82,
     "metadata": {},
     "output_type": "execute_result"
    }
   ],
   "source": [
    "#То же сделаем для тарифов Ultra:\n",
    " \n",
    "ultra_data = abonents.query('tariff == \"ultra\"')\n",
    "ultra_data[['income']].describe()"
   ]
  },
  {
   "cell_type": "code",
   "execution_count": 83,
   "metadata": {
    "scrolled": true
   },
   "outputs": [
    {
     "data": {
      "text/plain": [
       "income    142955.918868\n",
       "dtype: float64"
      ]
     },
     "execution_count": 83,
     "metadata": {},
     "output_type": "execute_result"
    }
   ],
   "source": [
    "variance_ultra = np.var(ultra_data[['income']])\n",
    "variance_ultra"
   ]
  },
  {
   "cell_type": "code",
   "execution_count": 84,
   "metadata": {
    "scrolled": true
   },
   "outputs": [
    {
     "data": {
      "text/plain": [
       "income    378.095119\n",
       "dtype: float64"
      ]
     },
     "execution_count": 84,
     "metadata": {},
     "output_type": "execute_result"
    }
   ],
   "source": [
    "expectation_ultra = variance_ultra**0.5\n",
    "expectation_ultra"
   ]
  },
  {
   "cell_type": "markdown",
   "metadata": {},
   "source": [
    "**ВЫВОД**\n",
    "\n",
    "В тарифе smart подавляющее большинство абонентов укладываются в лимит 500 минут разговора (среднее значение за 2018 год - 421 минута), да и в тарифе ultra не сильно ушли от этого значения - среднемесячное не больше 600 минут (не говоря уже об излишнем лимите в 3000! ). Также можно наблюдать, что расход минут постепенно возрастает в течение года. Исключение месяц февраль у тарифа ultra довольно сильное падение (хоть февраль самый короткий месяц, но снижение не пропорцианально - почти в 2 раза).Также надо отметить, что в тарифе smart в январе и феврале мало звонят - тоже в 2 раза меньше, чем в другие месяцы\n",
    "\n",
    "СМС - мало популярная услуга (много абонентов которых вообще не пишут СМС или почти не пишут). Абоненты тарифа smart вполне укладываются в лимит 50 СМС (а среднее 28 СМС в месяц за год), даже абоненты тарифа ultra редко превышают порог в 50 СМС (скорее всего это какие-то интернет-сервисы или магазины). Видно, что на тарифе ultra СМС ближе к концу года пишут всё чаще и чаще, исключение - январь где наблюдаются, более высокая активность. В тарифе smart в первой половине года активность постепенно возрастает, а во второй держится примерно на одном уровне.\n",
    "\n",
    "А вот с интернет-трафиком другая ситуация. Абоненты smart любят посидеть в интернете и частенько привышают лимит в 15360 МБ, даже среднее значение выше - 16073 МБ, также надо отметить, что опять начало года (январь и февраль) характеризовано низкой активностью в интернете (около 7,5 ГБ). В тарифе ultra опять сильный провал в феврале (в 2 раза), а в остально часть года идет очень постепенный рост; средний расход трафика на smart довольно не высокий не смотря на порог в 30 ГБ средний расход около 18,8 ГБ. Подавляющее большинство абонентов расходуют в месяц трафика от 11 до 23 ГБ\n",
    "\n",
    "По выручке можно сказать: что выручка абонентов ultra в подавляющем большинстве случаев ограничивается тарифной платой(1950р), а абоненты smart напротив очень частенько платят сверх абонентской платы ( 982средн - 550абонплата = ) 482р - на 87,5% больше абонплаты!!, - и все это за счет Интернет-трафика) !\n",
    "\n",
    "В принципе многие абоненты ultra могли бы перейти на тариф smart и платили бы меньше - если исходить из усредненных значений:\n",
    "510мин (10 сверх 500) 10 3 = 30р Трафик 18831 МБ (3471 (4ГБ) сверх 15360 МБ) 4 200 = 800р\n",
    "Итого = 550 + 30 + 800 = 1380р , а платят 1950 ! "
   ]
  },
  {
   "cell_type": "markdown",
   "metadata": {},
   "source": [
    "# Шаг 5. Проверяем гипотезы: #"
   ]
  },
  {
   "cell_type": "markdown",
   "metadata": {},
   "source": [
    "-\tсредняя выручка пользователей тарифов «Ультра» и «Смарт» различаются;\n",
    "-\tсредняя выручка пользователей из Москвы отличается от выручки пользователей из других регионов.\n"
   ]
  },
  {
   "cell_type": "markdown",
   "metadata": {},
   "source": [
    "***Гипотеза №1***"
   ]
  },
  {
   "cell_type": "code",
   "execution_count": 71,
   "metadata": {},
   "outputs": [],
   "source": [
    "# Запишем выручки в 2 таблицы ultra_income, smart_income для каждого тарифа\n",
    "ultra_income_mean = abonents.query('tariff ==\"ultra\"')['income'].values #reset_index()\n",
    "smart_income_mean = abonents.query('tariff ==\"smart\"')['income'].values #reset_index()\n"
   ]
  },
  {
   "cell_type": "code",
   "execution_count": 72,
   "metadata": {},
   "outputs": [
    {
     "name": "stdout",
     "output_type": "stream",
     "text": [
      "Дисперсия smart_income_mean = 660979.9953686984 // Дисперсия ultra_income_mean = 142955.91886821177\n"
     ]
    }
   ],
   "source": [
    "print('Дисперсия smart_income_mean =', np.var(smart_income_mean), '// Дисперсия ultra_income_mean =', \\\n",
    "      np.var(ultra_income_mean))"
   ]
  },
  {
   "cell_type": "markdown",
   "metadata": {},
   "source": [
    "Дисперсия сильно отличается  - 660980 против 142956. Поэтому для проведения теста возьмем equal_var = False\n",
    "\n",
    "Укажем критический уровень статистической значимости 5% alpha = 0.05\n",
    "\n",
    "Нулевую гипотезу сформулируем так: средняя выручка пользователей тарифов «Ультра» (ultra_income) и «Смарт» (smart_income) равны; альтернативная гипотеза H₁ тогда будет звучать так - средняя выручка пользователей тарифов «Ультра» и «Смарт» различается."
   ]
  },
  {
   "cell_type": "code",
   "execution_count": 73,
   "metadata": {},
   "outputs": [
    {
     "name": "stdout",
     "output_type": "stream",
     "text": [
      "p-значение: 4.5941480288116247e-244\n",
      "Отвергаем нулевую гипотезу\n"
     ]
    }
   ],
   "source": [
    "alpha = 0.05\n",
    "\n",
    "results = st.ttest_ind(smart_income_mean, ultra_income_mean, equal_var = False)\n",
    "\n",
    "print('p-значение:', results.pvalue)\n",
    "\n",
    "if (results.pvalue < alpha):\n",
    "    print(\"Отвергаем нулевую гипотезу\")\n",
    "else:\n",
    "    print(\"Не получилось отвергнуть нулевую гипотезу\")"
   ]
  },
  {
   "cell_type": "markdown",
   "metadata": {},
   "source": [
    "**Вывод**\n",
    "\n",
    "Так как нулевая гипотеза неверна (средняя выручка пользователей 2 тарифов равны), то актуальна альтернативная гипотеза. Средняя выручка пользователей тарифов «Ультра» и «Смарт» различается, то есть гипотеза №1 подтверждается."
   ]
  },
  {
   "cell_type": "markdown",
   "metadata": {},
   "source": [
    "***Гипотеза №2***"
   ]
  },
  {
   "cell_type": "code",
   "execution_count": 74,
   "metadata": {},
   "outputs": [],
   "source": [
    "# Запишем выручки в 2 таблицы moscow_income, other_income для Москвы и Остальных\n",
    "moscow_income_mean = abonents.query('city == \"Москва\"')['income'].values\n",
    "other_income_mean = abonents.query('city != \"Москва\"')['income'].values\n"
   ]
  },
  {
   "cell_type": "code",
   "execution_count": 75,
   "metadata": {},
   "outputs": [
    {
     "name": "stdout",
     "output_type": "stream",
     "text": [
      "Дисперсия moscow_income_mean = 555126.1226129793 // Дисперсия other_income_mean = 643914.3305976621\n"
     ]
    }
   ],
   "source": [
    "print('Дисперсия moscow_income_mean =', np.var(moscow_income_mean), '// Дисперсия other_income_mean =', \\\n",
    "      np.var(other_income_mean))"
   ]
  },
  {
   "cell_type": "markdown",
   "metadata": {},
   "source": [
    "Дисперсия в данном случае не сильно отличается: 555126 против 643914 (около 16%). Поэтому equal_var = True\n",
    "\n",
    "Укажем критический уровень статистической значимости 5% alpha = 0.05\n",
    "\n",
    "Нулевую гипотезу сформулируем так: средняя выручка пользователей из Москвы (moscow_income_mean) и выручка пользователей из других регионов (other_income_mean) равны.\n",
    "Альтернативная тогда - средняя выручка пользователей из Москвы и выручка пользователей из других регионов различаются."
   ]
  },
  {
   "cell_type": "code",
   "execution_count": 76,
   "metadata": {},
   "outputs": [
    {
     "name": "stdout",
     "output_type": "stream",
     "text": [
      "p-значение: 0.495399331911754\n",
      "Не получилось отвергнуть нулевую гипотезу\n"
     ]
    }
   ],
   "source": [
    "alpha = 0.05\n",
    "\n",
    "results = st.ttest_ind(moscow_income_mean, other_income_mean, equal_var = True)\n",
    "\n",
    "print('p-значение:', results.pvalue) \n",
    "\n",
    "if (results.pvalue < alpha): \n",
    "    print(\"Отвергаем нулевую гипотезу\")\n",
    "else:\n",
    "    print(\"Не получилось отвергнуть нулевую гипотезу\")"
   ]
  },
  {
   "cell_type": "markdown",
   "metadata": {},
   "source": [
    "**Вывод**\n",
    "\n",
    "Так как нулевая гипотеза не отвергнута (средняя выручка пользователей Москвы и других городов равны), то это значит она актуальна, то есть гипотеза №2 не подтверждается."
   ]
  },
  {
   "cell_type": "markdown",
   "metadata": {},
   "source": [
    "# Шаг 6. Общий вывод: #"
   ]
  },
  {
   "cell_type": "code",
   "execution_count": 77,
   "metadata": {},
   "outputs": [
    {
     "name": "stdout",
     "output_type": "stream",
     "text": [
      "Выручка тарифа Ультра = 2044650.0 13722.48322147651\n",
      "Выручка тарифа Смарт = 2914501.0 8303.421652421652\n"
     ]
    }
   ],
   "source": [
    "ultra_income = abonents.query('tariff ==\"ultra\"')['income'].sum()\n",
    "ultra_abonents = len(abonents.query('tariff ==\"ultra\"'))\n",
    "smart_income = abonents.query('tariff ==\"smart\"')['income'].sum()\n",
    "smart_abonents = len(abonents.query('tariff ==\"smart\"'))\n",
    "print(f'Выручка тарифа Ультра = {ultra_income} {ultra_income/149}')\n",
    "print(f'Выручка тарифа Смарт = {smart_income} {smart_income/351}')"
   ]
  },
  {
   "cell_type": "markdown",
   "metadata": {},
   "source": [
    "Итак, мы проанализировали 2 тарифа на небольшой выборке клиентов: 149 пользователь тарифа \"Ультра\", 351 пользователь тарифа \"Смарт\"\n",
    "- Большая часть данных изначально в хорошем состоянии. Поэтому в процессе предобработки данных изменены только типы в столбцах с датами на datetime64, и проверена корректность данных. \n",
    "\n",
    "- Была создана новая таблица total - в которую сгруппировали данные по каждому абоненту за каждый месяц пользования.\n",
    "\n",
    "По выручке можно сказать следующее: выручка абонентов \"Ультра\" в подавляющем большинстве случаев ограничивается абонентской платой(1950р), а абоненты \"Смарт\" напротив очень частенько выходят за рамки тарифа.\n",
    "\n",
    "Проверены две гипотезы:\n",
    "1) *Гипотеза №1*: средняя выручка пользователей тарифов «Ультра» и «Смарт» различается: гипотеза подтвердилась\n",
    "\n",
    "2) *Гипотеза №2*: средняя выручка пользователей из Москвы отличается от выручки пользователей из других регионов: гипотеза не подтвердилась.\n",
    "\n",
    "В итоге можно рекомендовать оператору скорректировать рекламный бюджет в сторону продвижения тарифа «Смарт». Он приносит больше выручки , его абоненты очень часто переплачивают сверх лимита, в отличие от абонентов тарифа «Ультра». Также по абонентской плате он более привлекателен для абонентов - а это очень весомый фактор для абонентов."
   ]
  }
 ],
 "metadata": {
  "ExecuteTimeLog": [
   {
    "duration": 1169,
    "start_time": "2022-03-09T15:09:57.804Z"
   },
   {
    "duration": 456,
    "start_time": "2022-03-09T15:10:28.448Z"
   },
   {
    "duration": 356,
    "start_time": "2022-03-09T15:13:30.525Z"
   },
   {
    "duration": 448,
    "start_time": "2022-03-09T15:13:37.817Z"
   },
   {
    "duration": 1197,
    "start_time": "2022-03-09T15:14:01.711Z"
   },
   {
    "duration": 467,
    "start_time": "2022-03-09T15:14:02.910Z"
   },
   {
    "duration": 15,
    "start_time": "2022-03-09T15:14:17.242Z"
   },
   {
    "duration": 9,
    "start_time": "2022-03-09T15:14:49.471Z"
   },
   {
    "duration": 7,
    "start_time": "2022-03-09T15:15:51.634Z"
   },
   {
    "duration": 10,
    "start_time": "2022-03-09T15:17:49.991Z"
   },
   {
    "duration": 23,
    "start_time": "2022-03-09T15:18:00.523Z"
   },
   {
    "duration": 8,
    "start_time": "2022-03-09T15:24:57.500Z"
   },
   {
    "duration": 16,
    "start_time": "2022-03-09T15:25:29.676Z"
   },
   {
    "duration": 9,
    "start_time": "2022-03-09T15:26:15.400Z"
   },
   {
    "duration": 18,
    "start_time": "2022-03-09T15:26:23.916Z"
   },
   {
    "duration": 3,
    "start_time": "2022-03-09T15:31:30.845Z"
   },
   {
    "duration": 8,
    "start_time": "2022-03-09T15:32:38.509Z"
   },
   {
    "duration": 70,
    "start_time": "2022-03-09T15:33:20.553Z"
   },
   {
    "duration": 82,
    "start_time": "2022-03-09T15:34:03.774Z"
   },
   {
    "duration": 75,
    "start_time": "2022-03-09T15:34:35.354Z"
   },
   {
    "duration": 30,
    "start_time": "2022-03-09T15:35:08.022Z"
   },
   {
    "duration": 20,
    "start_time": "2022-03-09T15:38:04.143Z"
   },
   {
    "duration": 82,
    "start_time": "2022-03-09T15:38:18.723Z"
   },
   {
    "duration": 82,
    "start_time": "2022-03-09T15:38:51.183Z"
   },
   {
    "duration": 74,
    "start_time": "2022-03-09T15:38:58.851Z"
   },
   {
    "duration": 71,
    "start_time": "2022-03-09T15:39:21.727Z"
   },
   {
    "duration": 13,
    "start_time": "2022-03-09T15:39:55.812Z"
   },
   {
    "duration": 10,
    "start_time": "2022-03-09T15:40:54.852Z"
   },
   {
    "duration": 9,
    "start_time": "2022-03-09T15:41:07.320Z"
   },
   {
    "duration": 10,
    "start_time": "2022-03-09T15:41:20.388Z"
   },
   {
    "duration": 6,
    "start_time": "2022-03-09T15:43:15.332Z"
   },
   {
    "duration": 13,
    "start_time": "2022-03-09T15:43:29.741Z"
   },
   {
    "duration": 1102,
    "start_time": "2022-03-09T15:45:00.161Z"
   },
   {
    "duration": 3,
    "start_time": "2022-03-09T15:45:37.461Z"
   },
   {
    "duration": 435,
    "start_time": "2022-03-10T07:31:06.354Z"
   },
   {
    "duration": 1433,
    "start_time": "2022-03-10T07:31:19.619Z"
   },
   {
    "duration": 551,
    "start_time": "2022-03-10T07:31:21.055Z"
   },
   {
    "duration": 18,
    "start_time": "2022-03-10T07:31:21.609Z"
   },
   {
    "duration": 12,
    "start_time": "2022-03-10T07:31:21.630Z"
   },
   {
    "duration": 14,
    "start_time": "2022-03-10T07:31:21.645Z"
   },
   {
    "duration": 24,
    "start_time": "2022-03-10T07:31:21.662Z"
   },
   {
    "duration": 45,
    "start_time": "2022-03-10T07:31:21.689Z"
   },
   {
    "duration": 38,
    "start_time": "2022-03-10T07:31:21.737Z"
   },
   {
    "duration": 30,
    "start_time": "2022-03-10T07:31:21.779Z"
   },
   {
    "duration": 12,
    "start_time": "2022-03-10T07:31:21.812Z"
   },
   {
    "duration": 57,
    "start_time": "2022-03-10T07:31:21.826Z"
   },
   {
    "duration": 11,
    "start_time": "2022-03-10T07:31:21.885Z"
   },
   {
    "duration": 210,
    "start_time": "2022-03-10T07:31:21.899Z"
   },
   {
    "duration": 12,
    "start_time": "2022-03-10T07:31:22.112Z"
   },
   {
    "duration": 13,
    "start_time": "2022-03-10T07:31:22.127Z"
   },
   {
    "duration": 40,
    "start_time": "2022-03-10T07:31:22.143Z"
   },
   {
    "duration": 12,
    "start_time": "2022-03-10T07:31:22.186Z"
   },
   {
    "duration": 14,
    "start_time": "2022-03-10T07:31:22.201Z"
   },
   {
    "duration": 1505,
    "start_time": "2022-03-10T07:31:22.217Z"
   },
   {
    "duration": 4,
    "start_time": "2022-03-10T07:31:23.725Z"
   },
   {
    "duration": 124,
    "start_time": "2022-03-10T07:34:19.374Z"
   },
   {
    "duration": 466,
    "start_time": "2022-03-10T09:22:37.074Z"
   },
   {
    "duration": 40,
    "start_time": "2022-03-10T09:22:49.394Z"
   },
   {
    "duration": 41,
    "start_time": "2022-03-10T09:22:51.554Z"
   },
   {
    "duration": 53,
    "start_time": "2022-03-10T09:23:49.522Z"
   },
   {
    "duration": 147,
    "start_time": "2022-03-10T09:30:34.577Z"
   },
   {
    "duration": 7,
    "start_time": "2022-03-10T09:38:11.674Z"
   },
   {
    "duration": 365,
    "start_time": "2022-03-10T09:39:46.790Z"
   },
   {
    "duration": 9,
    "start_time": "2022-03-10T09:39:53.734Z"
   },
   {
    "duration": 93,
    "start_time": "2022-03-10T09:40:27.787Z"
   },
   {
    "duration": 22,
    "start_time": "2022-03-10T09:40:34.574Z"
   },
   {
    "duration": 7,
    "start_time": "2022-03-10T09:41:43.949Z"
   },
   {
    "duration": 18,
    "start_time": "2022-03-10T09:41:46.598Z"
   },
   {
    "duration": 19,
    "start_time": "2022-03-10T09:44:43.206Z"
   },
   {
    "duration": 58,
    "start_time": "2022-03-10T09:47:22.907Z"
   },
   {
    "duration": 5,
    "start_time": "2022-03-10T09:50:25.146Z"
   },
   {
    "duration": 627,
    "start_time": "2022-03-10T09:51:45.626Z"
   },
   {
    "duration": 301,
    "start_time": "2022-03-10T09:51:52.598Z"
   },
   {
    "duration": 25,
    "start_time": "2022-03-10T10:00:02.534Z"
   },
   {
    "duration": 279,
    "start_time": "2022-03-10T10:03:56.118Z"
   },
   {
    "duration": 10,
    "start_time": "2022-03-10T10:04:07.638Z"
   },
   {
    "duration": 10,
    "start_time": "2022-03-10T10:04:16.678Z"
   },
   {
    "duration": 7,
    "start_time": "2022-03-10T10:04:19.550Z"
   },
   {
    "duration": 23,
    "start_time": "2022-03-10T10:07:56.030Z"
   },
   {
    "duration": 9,
    "start_time": "2022-03-10T10:09:39.378Z"
   },
   {
    "duration": 7,
    "start_time": "2022-03-10T10:09:55.246Z"
   },
   {
    "duration": 275,
    "start_time": "2022-03-10T10:10:40.994Z"
   },
   {
    "duration": 214,
    "start_time": "2022-03-10T10:10:47.034Z"
   },
   {
    "duration": 274,
    "start_time": "2022-03-10T10:11:14.565Z"
   },
   {
    "duration": 16,
    "start_time": "2022-03-10T10:11:22.470Z"
   },
   {
    "duration": 235,
    "start_time": "2022-03-10T10:12:15.095Z"
   },
   {
    "duration": 284,
    "start_time": "2022-03-10T11:41:48.614Z"
   },
   {
    "duration": 8934,
    "start_time": "2022-03-10T11:43:19.034Z"
   },
   {
    "duration": 283,
    "start_time": "2022-03-10T11:47:48.237Z"
   },
   {
    "duration": 15,
    "start_time": "2022-03-10T11:48:55.622Z"
   },
   {
    "duration": 6,
    "start_time": "2022-03-10T11:49:21.021Z"
   },
   {
    "duration": 9,
    "start_time": "2022-03-10T12:03:58.682Z"
   },
   {
    "duration": 307,
    "start_time": "2022-03-10T12:05:31.130Z"
   },
   {
    "duration": 7,
    "start_time": "2022-03-10T12:05:58.482Z"
   },
   {
    "duration": 340,
    "start_time": "2022-03-10T12:23:59.873Z"
   },
   {
    "duration": 11,
    "start_time": "2022-03-10T12:24:07.281Z"
   },
   {
    "duration": 289,
    "start_time": "2022-03-10T12:24:11.448Z"
   },
   {
    "duration": 1358,
    "start_time": "2022-03-10T12:24:27.294Z"
   },
   {
    "duration": 503,
    "start_time": "2022-03-10T12:24:28.655Z"
   },
   {
    "duration": 20,
    "start_time": "2022-03-10T12:24:29.161Z"
   },
   {
    "duration": 14,
    "start_time": "2022-03-10T12:24:29.184Z"
   },
   {
    "duration": 8,
    "start_time": "2022-03-10T12:24:29.201Z"
   },
   {
    "duration": 15,
    "start_time": "2022-03-10T12:24:29.212Z"
   },
   {
    "duration": 52,
    "start_time": "2022-03-10T12:24:29.229Z"
   },
   {
    "duration": 11,
    "start_time": "2022-03-10T12:24:29.285Z"
   },
   {
    "duration": 23,
    "start_time": "2022-03-10T12:24:29.299Z"
   },
   {
    "duration": 14,
    "start_time": "2022-03-10T12:24:29.324Z"
   },
   {
    "duration": 61,
    "start_time": "2022-03-10T12:24:29.340Z"
   },
   {
    "duration": 12,
    "start_time": "2022-03-10T12:24:29.403Z"
   },
   {
    "duration": 276,
    "start_time": "2022-03-10T12:24:29.418Z"
   },
   {
    "duration": 12,
    "start_time": "2022-03-10T12:24:29.696Z"
   },
   {
    "duration": 17,
    "start_time": "2022-03-10T12:24:29.711Z"
   },
   {
    "duration": 1279,
    "start_time": "2022-03-10T12:24:29.731Z"
   },
   {
    "duration": 133,
    "start_time": "2022-03-10T12:24:31.012Z"
   },
   {
    "duration": 59,
    "start_time": "2022-03-10T12:24:31.147Z"
   },
   {
    "duration": 7,
    "start_time": "2022-03-10T12:24:31.209Z"
   },
   {
    "duration": 37,
    "start_time": "2022-03-10T12:24:31.218Z"
   },
   {
    "duration": 56,
    "start_time": "2022-03-10T12:24:31.257Z"
   },
   {
    "duration": 307,
    "start_time": "2022-03-10T12:24:31.315Z"
   },
   {
    "duration": 21,
    "start_time": "2022-03-10T12:24:31.627Z"
   },
   {
    "duration": 29,
    "start_time": "2022-03-10T12:24:31.651Z"
   },
   {
    "duration": 8,
    "start_time": "2022-03-10T12:24:31.682Z"
   },
   {
    "duration": 24,
    "start_time": "2022-03-10T12:24:31.693Z"
   },
   {
    "duration": 9,
    "start_time": "2022-03-10T12:24:31.719Z"
   },
   {
    "duration": 45,
    "start_time": "2022-03-10T12:24:31.731Z"
   },
   {
    "duration": 242,
    "start_time": "2022-03-10T12:24:31.778Z"
   },
   {
    "duration": 18,
    "start_time": "2022-03-10T12:24:32.022Z"
   },
   {
    "duration": 248,
    "start_time": "2022-03-10T12:24:32.042Z"
   },
   {
    "duration": 12,
    "start_time": "2022-03-10T12:24:32.293Z"
   },
   {
    "duration": 458,
    "start_time": "2022-03-10T12:24:32.307Z"
   },
   {
    "duration": 30471,
    "start_time": "2022-03-10T12:24:02.296Z"
   },
   {
    "duration": 30464,
    "start_time": "2022-03-10T12:24:02.305Z"
   },
   {
    "duration": 11,
    "start_time": "2022-03-10T12:24:48.741Z"
   },
   {
    "duration": 6,
    "start_time": "2022-03-10T12:24:50.769Z"
   },
   {
    "duration": 9,
    "start_time": "2022-03-10T12:26:12.429Z"
   },
   {
    "duration": 12,
    "start_time": "2022-03-10T12:28:30.593Z"
   },
   {
    "duration": 6,
    "start_time": "2022-03-10T12:29:01.766Z"
   },
   {
    "duration": 7,
    "start_time": "2022-03-10T12:35:36.262Z"
   },
   {
    "duration": 21,
    "start_time": "2022-03-10T12:56:29.309Z"
   },
   {
    "duration": 37,
    "start_time": "2022-03-10T12:57:19.169Z"
   },
   {
    "duration": 9,
    "start_time": "2022-03-10T13:00:02.935Z"
   },
   {
    "duration": 120,
    "start_time": "2022-03-10T13:02:33.310Z"
   },
   {
    "duration": 21,
    "start_time": "2022-03-10T13:02:46.874Z"
   },
   {
    "duration": 1289,
    "start_time": "2022-03-19T11:46:16.781Z"
   },
   {
    "duration": 486,
    "start_time": "2022-03-19T11:46:18.073Z"
   },
   {
    "duration": 19,
    "start_time": "2022-03-19T11:46:18.561Z"
   },
   {
    "duration": 12,
    "start_time": "2022-03-19T11:46:18.583Z"
   },
   {
    "duration": 9,
    "start_time": "2022-03-19T11:46:18.597Z"
   },
   {
    "duration": 17,
    "start_time": "2022-03-19T11:46:18.609Z"
   },
   {
    "duration": 51,
    "start_time": "2022-03-19T11:46:18.628Z"
   },
   {
    "duration": 36,
    "start_time": "2022-03-19T11:46:18.682Z"
   },
   {
    "duration": 11,
    "start_time": "2022-03-19T11:46:18.721Z"
   },
   {
    "duration": 54,
    "start_time": "2022-03-19T11:46:18.736Z"
   },
   {
    "duration": 13,
    "start_time": "2022-03-19T11:46:18.792Z"
   },
   {
    "duration": 63,
    "start_time": "2022-03-19T11:46:18.808Z"
   },
   {
    "duration": 13,
    "start_time": "2022-03-19T11:46:18.873Z"
   },
   {
    "duration": 298,
    "start_time": "2022-03-19T11:46:18.888Z"
   },
   {
    "duration": 11,
    "start_time": "2022-03-19T11:46:19.188Z"
   },
   {
    "duration": 14,
    "start_time": "2022-03-19T11:46:19.201Z"
   },
   {
    "duration": 1311,
    "start_time": "2022-03-19T11:46:19.217Z"
   },
   {
    "duration": 150,
    "start_time": "2022-03-19T11:46:20.531Z"
   },
   {
    "duration": 49,
    "start_time": "2022-03-19T11:46:20.683Z"
   },
   {
    "duration": 6,
    "start_time": "2022-03-19T11:46:20.735Z"
   },
   {
    "duration": 19,
    "start_time": "2022-03-19T11:46:20.767Z"
   },
   {
    "duration": 41,
    "start_time": "2022-03-19T11:46:20.788Z"
   },
   {
    "duration": 213,
    "start_time": "2022-03-19T11:46:20.831Z"
   },
   {
    "duration": 43,
    "start_time": "2022-03-19T11:46:21.046Z"
   },
   {
    "duration": 10,
    "start_time": "2022-03-19T11:46:21.091Z"
   },
   {
    "duration": 8,
    "start_time": "2022-03-19T11:46:21.104Z"
   },
   {
    "duration": 55,
    "start_time": "2022-03-19T11:46:21.114Z"
   },
   {
    "duration": 11,
    "start_time": "2022-03-19T11:46:21.177Z"
   },
   {
    "duration": 7,
    "start_time": "2022-03-19T11:46:21.190Z"
   },
   {
    "duration": 213,
    "start_time": "2022-03-19T11:46:21.200Z"
   },
   {
    "duration": 18,
    "start_time": "2022-03-19T11:46:21.416Z"
   },
   {
    "duration": 198,
    "start_time": "2022-03-19T11:46:21.437Z"
   },
   {
    "duration": 12,
    "start_time": "2022-03-19T11:46:21.638Z"
   },
   {
    "duration": 8,
    "start_time": "2022-03-19T11:46:21.668Z"
   },
   {
    "duration": 8,
    "start_time": "2022-03-19T11:46:21.678Z"
   },
   {
    "duration": 21,
    "start_time": "2022-03-19T11:46:21.689Z"
   },
   {
    "duration": 8,
    "start_time": "2022-03-19T11:46:21.713Z"
   },
   {
    "duration": 43,
    "start_time": "2022-03-19T11:46:21.723Z"
   },
   {
    "duration": 31,
    "start_time": "2022-03-19T11:46:21.769Z"
   },
   {
    "duration": 16,
    "start_time": "2022-03-19T11:49:07.691Z"
   },
   {
    "duration": 14,
    "start_time": "2022-03-19T11:50:00.410Z"
   },
   {
    "duration": 6,
    "start_time": "2022-03-19T11:52:39.060Z"
   },
   {
    "duration": 7,
    "start_time": "2022-03-19T11:52:44.980Z"
   },
   {
    "duration": 11,
    "start_time": "2022-03-19T11:53:14.740Z"
   },
   {
    "duration": 10,
    "start_time": "2022-03-19T11:53:35.020Z"
   },
   {
    "duration": 74,
    "start_time": "2022-03-20T08:42:24.125Z"
   },
   {
    "duration": 1649,
    "start_time": "2022-03-20T08:42:59.180Z"
   },
   {
    "duration": 522,
    "start_time": "2022-03-20T08:43:00.832Z"
   },
   {
    "duration": 20,
    "start_time": "2022-03-20T08:43:01.356Z"
   },
   {
    "duration": 12,
    "start_time": "2022-03-20T08:43:01.379Z"
   },
   {
    "duration": 20,
    "start_time": "2022-03-20T08:43:01.393Z"
   },
   {
    "duration": 45,
    "start_time": "2022-03-20T08:43:01.415Z"
   },
   {
    "duration": 26,
    "start_time": "2022-03-20T08:43:01.463Z"
   },
   {
    "duration": 38,
    "start_time": "2022-03-20T08:43:01.491Z"
   },
   {
    "duration": 11,
    "start_time": "2022-03-20T08:43:01.531Z"
   },
   {
    "duration": 48,
    "start_time": "2022-03-20T08:43:01.547Z"
   },
   {
    "duration": 12,
    "start_time": "2022-03-20T08:43:01.598Z"
   },
   {
    "duration": 45,
    "start_time": "2022-03-20T08:43:01.612Z"
   },
   {
    "duration": 16,
    "start_time": "2022-03-20T08:43:01.659Z"
   },
   {
    "duration": 252,
    "start_time": "2022-03-20T08:43:01.677Z"
   },
   {
    "duration": 11,
    "start_time": "2022-03-20T08:43:01.931Z"
   },
   {
    "duration": 30,
    "start_time": "2022-03-20T08:43:01.944Z"
   },
   {
    "duration": 1451,
    "start_time": "2022-03-20T08:43:01.977Z"
   },
   {
    "duration": 131,
    "start_time": "2022-03-20T08:43:03.430Z"
   },
   {
    "duration": 57,
    "start_time": "2022-03-20T08:43:03.563Z"
   },
   {
    "duration": 6,
    "start_time": "2022-03-20T08:43:03.623Z"
   },
   {
    "duration": 44,
    "start_time": "2022-03-20T08:43:03.631Z"
   },
   {
    "duration": 40,
    "start_time": "2022-03-20T08:43:03.677Z"
   },
   {
    "duration": 209,
    "start_time": "2022-03-20T08:43:03.719Z"
   },
   {
    "duration": 22,
    "start_time": "2022-03-20T08:43:03.930Z"
   },
   {
    "duration": 25,
    "start_time": "2022-03-20T08:43:03.954Z"
   },
   {
    "duration": 12,
    "start_time": "2022-03-20T08:43:03.981Z"
   },
   {
    "duration": 27,
    "start_time": "2022-03-20T08:43:03.995Z"
   },
   {
    "duration": 9,
    "start_time": "2022-03-20T08:43:04.027Z"
   },
   {
    "duration": 37,
    "start_time": "2022-03-20T08:43:04.038Z"
   },
   {
    "duration": 181,
    "start_time": "2022-03-20T08:43:04.078Z"
   },
   {
    "duration": 22,
    "start_time": "2022-03-20T08:43:04.261Z"
   },
   {
    "duration": 182,
    "start_time": "2022-03-20T08:43:04.285Z"
   },
   {
    "duration": 12,
    "start_time": "2022-03-20T08:43:04.474Z"
   },
   {
    "duration": 8,
    "start_time": "2022-03-20T08:43:04.488Z"
   },
   {
    "duration": 9,
    "start_time": "2022-03-20T08:43:04.498Z"
   },
   {
    "duration": 13,
    "start_time": "2022-03-20T08:43:04.509Z"
   },
   {
    "duration": 6,
    "start_time": "2022-03-20T08:43:04.524Z"
   },
   {
    "duration": 46,
    "start_time": "2022-03-20T08:43:04.532Z"
   },
   {
    "duration": 21,
    "start_time": "2022-03-20T08:43:04.580Z"
   },
   {
    "duration": 11,
    "start_time": "2022-03-20T09:01:38.664Z"
   },
   {
    "duration": 11,
    "start_time": "2022-03-20T09:12:46.560Z"
   },
   {
    "duration": 8,
    "start_time": "2022-03-20T09:13:41.773Z"
   },
   {
    "duration": 11,
    "start_time": "2022-03-20T09:15:30.139Z"
   },
   {
    "duration": 144,
    "start_time": "2022-03-20T09:18:39.691Z"
   },
   {
    "duration": 300,
    "start_time": "2022-03-20T09:19:08.676Z"
   },
   {
    "duration": 213,
    "start_time": "2022-03-20T09:19:34.307Z"
   },
   {
    "duration": 32,
    "start_time": "2022-03-20T09:20:20.795Z"
   },
   {
    "duration": 33,
    "start_time": "2022-03-20T09:20:53.772Z"
   },
   {
    "duration": 236,
    "start_time": "2022-03-20T09:23:18.811Z"
   },
   {
    "duration": 1399,
    "start_time": "2022-03-20T09:23:35.623Z"
   },
   {
    "duration": 555,
    "start_time": "2022-03-20T09:23:37.024Z"
   },
   {
    "duration": 20,
    "start_time": "2022-03-20T09:23:37.582Z"
   },
   {
    "duration": 17,
    "start_time": "2022-03-20T09:23:37.606Z"
   },
   {
    "duration": 13,
    "start_time": "2022-03-20T09:23:37.625Z"
   },
   {
    "duration": 60,
    "start_time": "2022-03-20T09:23:37.640Z"
   },
   {
    "duration": 11,
    "start_time": "2022-03-20T09:23:37.703Z"
   },
   {
    "duration": 58,
    "start_time": "2022-03-20T09:23:37.717Z"
   },
   {
    "duration": 12,
    "start_time": "2022-03-20T09:23:37.777Z"
   },
   {
    "duration": 29,
    "start_time": "2022-03-20T09:23:37.793Z"
   },
   {
    "duration": 12,
    "start_time": "2022-03-20T09:23:37.824Z"
   },
   {
    "duration": 230,
    "start_time": "2022-03-20T09:23:37.874Z"
   },
   {
    "duration": 9,
    "start_time": "2022-03-20T09:23:38.107Z"
   },
   {
    "duration": 9,
    "start_time": "2022-03-20T09:23:38.117Z"
   },
   {
    "duration": 15,
    "start_time": "2022-03-20T09:23:38.129Z"
   },
   {
    "duration": 36,
    "start_time": "2022-03-20T09:23:38.175Z"
   },
   {
    "duration": 6,
    "start_time": "2022-03-20T09:23:38.214Z"
   },
   {
    "duration": 51,
    "start_time": "2022-03-20T09:23:38.223Z"
   },
   {
    "duration": 1417,
    "start_time": "2022-03-20T09:23:38.276Z"
   },
   {
    "duration": 134,
    "start_time": "2022-03-20T09:23:39.695Z"
   },
   {
    "duration": 61,
    "start_time": "2022-03-20T09:23:39.831Z"
   },
   {
    "duration": 6,
    "start_time": "2022-03-20T09:23:39.895Z"
   },
   {
    "duration": 27,
    "start_time": "2022-03-20T09:23:39.904Z"
   },
   {
    "duration": 64,
    "start_time": "2022-03-20T09:23:39.933Z"
   },
   {
    "duration": 201,
    "start_time": "2022-03-20T09:23:39.999Z"
   },
   {
    "duration": 22,
    "start_time": "2022-03-20T09:23:40.202Z"
   },
   {
    "duration": 11,
    "start_time": "2022-03-20T09:23:40.228Z"
   },
   {
    "duration": 8,
    "start_time": "2022-03-20T09:23:40.275Z"
   },
   {
    "duration": 27,
    "start_time": "2022-03-20T09:23:40.285Z"
   },
   {
    "duration": 9,
    "start_time": "2022-03-20T09:23:40.314Z"
   },
   {
    "duration": 11,
    "start_time": "2022-03-20T09:23:40.325Z"
   },
   {
    "duration": 266,
    "start_time": "2022-03-20T09:23:40.373Z"
   },
   {
    "duration": 16,
    "start_time": "2022-03-20T09:23:40.642Z"
   },
   {
    "duration": 165,
    "start_time": "2022-03-20T09:23:40.674Z"
   },
   {
    "duration": 13,
    "start_time": "2022-03-20T09:23:40.842Z"
   },
   {
    "duration": 21,
    "start_time": "2022-03-20T09:23:40.857Z"
   },
   {
    "duration": 17,
    "start_time": "2022-03-20T09:23:40.880Z"
   },
   {
    "duration": 12,
    "start_time": "2022-03-20T09:23:40.900Z"
   },
   {
    "duration": 9,
    "start_time": "2022-03-20T09:23:40.913Z"
   },
   {
    "duration": 9,
    "start_time": "2022-03-20T09:23:40.924Z"
   },
   {
    "duration": 48,
    "start_time": "2022-03-20T09:23:40.935Z"
   },
   {
    "duration": 37,
    "start_time": "2022-03-20T09:26:22.261Z"
   },
   {
    "duration": 150,
    "start_time": "2022-03-20T09:29:03.929Z"
   },
   {
    "duration": 25,
    "start_time": "2022-03-20T09:29:52.244Z"
   },
   {
    "duration": 27,
    "start_time": "2022-03-20T09:30:03.776Z"
   },
   {
    "duration": 93,
    "start_time": "2022-03-20T09:31:12.876Z"
   },
   {
    "duration": 100,
    "start_time": "2022-03-20T09:31:23.532Z"
   },
   {
    "duration": 91,
    "start_time": "2022-03-20T09:31:29.000Z"
   },
   {
    "duration": 28,
    "start_time": "2022-03-20T09:31:40.668Z"
   },
   {
    "duration": 13,
    "start_time": "2022-03-20T09:34:40.005Z"
   },
   {
    "duration": 45,
    "start_time": "2022-03-20T09:37:58.420Z"
   },
   {
    "duration": 309,
    "start_time": "2022-03-20T09:39:55.664Z"
   },
   {
    "duration": 23,
    "start_time": "2022-03-20T09:41:33.720Z"
   },
   {
    "duration": 24,
    "start_time": "2022-03-20T09:42:21.784Z"
   },
   {
    "duration": 139,
    "start_time": "2022-03-20T09:47:00.376Z"
   },
   {
    "duration": 18,
    "start_time": "2022-03-20T09:50:01.470Z"
   },
   {
    "duration": 11,
    "start_time": "2022-03-20T09:51:44.272Z"
   },
   {
    "duration": 8,
    "start_time": "2022-03-20T09:56:44.445Z"
   },
   {
    "duration": 25,
    "start_time": "2022-03-20T10:00:00.709Z"
   },
   {
    "duration": 34,
    "start_time": "2022-03-20T10:08:56.074Z"
   },
   {
    "duration": 126,
    "start_time": "2022-03-20T10:10:26.265Z"
   },
   {
    "duration": 7,
    "start_time": "2022-03-20T10:13:29.757Z"
   },
   {
    "duration": 28,
    "start_time": "2022-03-20T10:13:52.908Z"
   },
   {
    "duration": 27,
    "start_time": "2022-03-20T10:14:03.356Z"
   },
   {
    "duration": 13,
    "start_time": "2022-03-20T10:15:08.000Z"
   },
   {
    "duration": 95,
    "start_time": "2022-03-20T10:15:56.676Z"
   },
   {
    "duration": 1655,
    "start_time": "2022-03-20T10:16:02.772Z"
   },
   {
    "duration": 28,
    "start_time": "2022-03-20T10:16:47.621Z"
   },
   {
    "duration": 6,
    "start_time": "2022-03-20T10:19:34.416Z"
   },
   {
    "duration": 9,
    "start_time": "2022-03-20T10:19:55.752Z"
   },
   {
    "duration": 9,
    "start_time": "2022-03-20T10:20:13.824Z"
   },
   {
    "duration": 85,
    "start_time": "2022-03-20T10:20:26.600Z"
   },
   {
    "duration": 136,
    "start_time": "2022-03-20T10:20:37.724Z"
   },
   {
    "duration": 107,
    "start_time": "2022-03-20T10:20:43.348Z"
   },
   {
    "duration": 104,
    "start_time": "2022-03-20T10:21:14.908Z"
   },
   {
    "duration": 97,
    "start_time": "2022-03-20T10:21:33.244Z"
   },
   {
    "duration": 90,
    "start_time": "2022-03-20T10:21:40.500Z"
   },
   {
    "duration": 86,
    "start_time": "2022-03-20T10:22:19.092Z"
   },
   {
    "duration": 9,
    "start_time": "2022-03-20T10:22:24.380Z"
   },
   {
    "duration": 15,
    "start_time": "2022-03-20T10:24:14.388Z"
   },
   {
    "duration": 49,
    "start_time": "2022-03-20T10:37:04.642Z"
   },
   {
    "duration": 48,
    "start_time": "2022-03-20T10:37:11.348Z"
   },
   {
    "duration": 14,
    "start_time": "2022-03-20T10:42:26.184Z"
   },
   {
    "duration": 20,
    "start_time": "2022-03-20T10:42:38.060Z"
   },
   {
    "duration": 17,
    "start_time": "2022-03-20T10:43:03.604Z"
   },
   {
    "duration": 18,
    "start_time": "2022-03-20T10:43:18.836Z"
   },
   {
    "duration": 17,
    "start_time": "2022-03-20T10:43:24.820Z"
   },
   {
    "duration": 22,
    "start_time": "2022-03-20T10:43:35.608Z"
   },
   {
    "duration": 1368,
    "start_time": "2022-03-20T10:46:50.224Z"
   },
   {
    "duration": 495,
    "start_time": "2022-03-20T10:46:51.595Z"
   },
   {
    "duration": 23,
    "start_time": "2022-03-20T10:46:52.093Z"
   },
   {
    "duration": 19,
    "start_time": "2022-03-20T10:46:52.120Z"
   },
   {
    "duration": 40,
    "start_time": "2022-03-20T10:46:52.142Z"
   },
   {
    "duration": 33,
    "start_time": "2022-03-20T10:46:52.184Z"
   },
   {
    "duration": 10,
    "start_time": "2022-03-20T10:46:52.220Z"
   },
   {
    "duration": 55,
    "start_time": "2022-03-20T10:46:52.232Z"
   },
   {
    "duration": 14,
    "start_time": "2022-03-20T10:46:52.289Z"
   },
   {
    "duration": 30,
    "start_time": "2022-03-20T10:46:52.310Z"
   },
   {
    "duration": 13,
    "start_time": "2022-03-20T10:46:52.375Z"
   },
   {
    "duration": 253,
    "start_time": "2022-03-20T10:46:52.391Z"
   },
   {
    "duration": 12,
    "start_time": "2022-03-20T10:46:52.646Z"
   },
   {
    "duration": 8,
    "start_time": "2022-03-20T10:46:52.673Z"
   },
   {
    "duration": 12,
    "start_time": "2022-03-20T10:46:52.684Z"
   },
   {
    "duration": 35,
    "start_time": "2022-03-20T10:46:52.699Z"
   },
   {
    "duration": 27,
    "start_time": "2022-03-20T10:46:52.775Z"
   },
   {
    "duration": 12,
    "start_time": "2022-03-20T10:46:52.804Z"
   },
   {
    "duration": 89,
    "start_time": "2022-03-20T10:46:52.818Z"
   },
   {
    "duration": 331,
    "start_time": "2022-03-20T10:46:52.910Z"
   },
   {
    "duration": 35,
    "start_time": "2022-03-20T10:46:53.244Z"
   },
   {
    "duration": 157,
    "start_time": "2022-03-20T10:46:53.281Z"
   },
   {
    "duration": 33,
    "start_time": "2022-03-20T10:46:53.441Z"
   },
   {
    "duration": 8,
    "start_time": "2022-03-20T10:46:53.476Z"
   },
   {
    "duration": 33,
    "start_time": "2022-03-20T10:46:53.486Z"
   },
   {
    "duration": 70,
    "start_time": "2022-03-20T10:46:53.522Z"
   },
   {
    "duration": 155,
    "start_time": "2022-03-20T10:46:53.594Z"
   },
   {
    "duration": 28,
    "start_time": "2022-03-20T10:46:53.755Z"
   },
   {
    "duration": 34,
    "start_time": "2022-03-20T10:46:53.786Z"
   },
   {
    "duration": 8,
    "start_time": "2022-03-20T10:46:53.823Z"
   },
   {
    "duration": 50,
    "start_time": "2022-03-20T10:46:53.833Z"
   },
   {
    "duration": 45,
    "start_time": "2022-03-20T10:46:53.886Z"
   },
   {
    "duration": 49,
    "start_time": "2022-03-20T10:46:53.933Z"
   },
   {
    "duration": 19,
    "start_time": "2022-03-20T10:46:53.985Z"
   },
   {
    "duration": 8,
    "start_time": "2022-03-20T10:46:54.007Z"
   },
   {
    "duration": 16,
    "start_time": "2022-03-20T10:46:54.017Z"
   },
   {
    "duration": 1561,
    "start_time": "2022-03-20T10:46:54.035Z"
   },
   {
    "duration": 182,
    "start_time": "2022-03-20T10:46:55.598Z"
   },
   {
    "duration": 51,
    "start_time": "2022-03-20T10:46:55.783Z"
   },
   {
    "duration": 38,
    "start_time": "2022-03-20T10:46:55.836Z"
   },
   {
    "duration": 24,
    "start_time": "2022-03-20T10:46:55.877Z"
   },
   {
    "duration": 84,
    "start_time": "2022-03-20T10:46:55.904Z"
   },
   {
    "duration": 254,
    "start_time": "2022-03-20T10:46:55.990Z"
   },
   {
    "duration": 30,
    "start_time": "2022-03-20T10:46:56.247Z"
   },
   {
    "duration": 9,
    "start_time": "2022-03-20T10:46:56.279Z"
   },
   {
    "duration": 7,
    "start_time": "2022-03-20T10:46:56.290Z"
   },
   {
    "duration": 22,
    "start_time": "2022-03-20T10:46:56.299Z"
   },
   {
    "duration": 10,
    "start_time": "2022-03-20T10:46:56.323Z"
   },
   {
    "duration": 7,
    "start_time": "2022-03-20T10:46:56.375Z"
   },
   {
    "duration": 184,
    "start_time": "2022-03-20T10:46:56.384Z"
   },
   {
    "duration": 16,
    "start_time": "2022-03-20T10:46:56.574Z"
   },
   {
    "duration": 182,
    "start_time": "2022-03-20T10:46:56.592Z"
   },
   {
    "duration": 12,
    "start_time": "2022-03-20T10:46:56.776Z"
   },
   {
    "duration": 14,
    "start_time": "2022-03-20T10:46:56.790Z"
   },
   {
    "duration": 11,
    "start_time": "2022-03-20T10:46:56.806Z"
   },
   {
    "duration": 13,
    "start_time": "2022-03-20T10:46:56.819Z"
   },
   {
    "duration": 7,
    "start_time": "2022-03-20T10:46:56.834Z"
   },
   {
    "duration": 7,
    "start_time": "2022-03-20T10:46:56.874Z"
   },
   {
    "duration": 20,
    "start_time": "2022-03-20T10:46:56.883Z"
   },
   {
    "duration": 123,
    "start_time": "2022-03-20T10:51:59.638Z"
   },
   {
    "duration": 146,
    "start_time": "2022-03-20T10:52:09.262Z"
   },
   {
    "duration": 19,
    "start_time": "2022-03-20T10:55:19.270Z"
   },
   {
    "duration": 120,
    "start_time": "2022-03-20T10:56:52.974Z"
   },
   {
    "duration": 26,
    "start_time": "2022-03-20T11:19:16.502Z"
   },
   {
    "duration": 4,
    "start_time": "2022-03-20T11:19:23.086Z"
   },
   {
    "duration": 83,
    "start_time": "2022-03-20T12:15:49.401Z"
   },
   {
    "duration": 45,
    "start_time": "2022-03-20T12:17:05.346Z"
   },
   {
    "duration": 3,
    "start_time": "2022-03-20T12:18:41.089Z"
   },
   {
    "duration": 45,
    "start_time": "2022-03-20T12:20:05.926Z"
   },
   {
    "duration": 42,
    "start_time": "2022-03-20T12:22:05.181Z"
   },
   {
    "duration": 7,
    "start_time": "2022-03-20T12:22:28.561Z"
   },
   {
    "duration": 10,
    "start_time": "2022-03-20T12:24:13.973Z"
   },
   {
    "duration": 14,
    "start_time": "2022-03-20T12:25:13.618Z"
   },
   {
    "duration": 19,
    "start_time": "2022-03-20T12:28:23.262Z"
   },
   {
    "duration": 17,
    "start_time": "2022-03-20T12:33:24.269Z"
   },
   {
    "duration": 4,
    "start_time": "2022-03-20T12:34:14.930Z"
   },
   {
    "duration": 11,
    "start_time": "2022-03-20T12:34:26.530Z"
   },
   {
    "duration": 489,
    "start_time": "2022-03-20T12:35:54.870Z"
   },
   {
    "duration": 483,
    "start_time": "2022-03-20T12:36:04.574Z"
   },
   {
    "duration": 26,
    "start_time": "2022-03-20T12:36:08.873Z"
   },
   {
    "duration": 34,
    "start_time": "2022-03-20T12:45:47.254Z"
   },
   {
    "duration": 28,
    "start_time": "2022-03-20T12:47:31.158Z"
   },
   {
    "duration": 12,
    "start_time": "2022-03-20T12:52:42.637Z"
   },
   {
    "duration": 21,
    "start_time": "2022-03-20T12:52:56.115Z"
   },
   {
    "duration": 19,
    "start_time": "2022-03-20T12:53:06.494Z"
   },
   {
    "duration": 1396,
    "start_time": "2022-03-20T13:00:31.346Z"
   },
   {
    "duration": 1347,
    "start_time": "2022-03-20T13:01:07.086Z"
   },
   {
    "duration": 3,
    "start_time": "2022-03-20T13:02:36.538Z"
   },
   {
    "duration": 8,
    "start_time": "2022-03-20T13:02:46.970Z"
   },
   {
    "duration": 27,
    "start_time": "2022-03-20T13:06:49.612Z"
   },
   {
    "duration": 27,
    "start_time": "2022-03-20T13:06:53.677Z"
   },
   {
    "duration": 37,
    "start_time": "2022-03-20T13:08:04.597Z"
   },
   {
    "duration": 589,
    "start_time": "2022-03-20T13:09:00.469Z"
   },
   {
    "duration": 29,
    "start_time": "2022-03-20T13:11:17.013Z"
   },
   {
    "duration": 46,
    "start_time": "2022-03-20T13:11:44.653Z"
   },
   {
    "duration": 31,
    "start_time": "2022-03-20T13:12:37.620Z"
   },
   {
    "duration": 149,
    "start_time": "2022-03-20T13:12:55.103Z"
   },
   {
    "duration": 33,
    "start_time": "2022-03-20T13:12:59.334Z"
   },
   {
    "duration": 55,
    "start_time": "2022-03-20T13:15:02.069Z"
   },
   {
    "duration": 9,
    "start_time": "2022-03-20T13:15:13.021Z"
   },
   {
    "duration": 17,
    "start_time": "2022-03-20T13:15:29.101Z"
   },
   {
    "duration": 17,
    "start_time": "2022-03-20T13:15:45.310Z"
   },
   {
    "duration": 13,
    "start_time": "2022-03-20T13:16:30.236Z"
   },
   {
    "duration": 113,
    "start_time": "2022-03-20T13:16:58.634Z"
   },
   {
    "duration": 2090,
    "start_time": "2022-03-20T13:17:18.594Z"
   },
   {
    "duration": 10,
    "start_time": "2022-03-20T13:19:03.086Z"
   },
   {
    "duration": 2336,
    "start_time": "2022-03-20T13:25:30.894Z"
   },
   {
    "duration": 56,
    "start_time": "2022-03-20T13:30:10.843Z"
   },
   {
    "duration": 17,
    "start_time": "2022-03-20T13:30:46.042Z"
   },
   {
    "duration": 6,
    "start_time": "2022-03-20T13:36:26.673Z"
   },
   {
    "duration": 1402,
    "start_time": "2022-03-20T13:36:38.745Z"
   },
   {
    "duration": 492,
    "start_time": "2022-03-20T13:36:40.150Z"
   },
   {
    "duration": 20,
    "start_time": "2022-03-20T13:36:40.645Z"
   },
   {
    "duration": 19,
    "start_time": "2022-03-20T13:36:40.668Z"
   },
   {
    "duration": 18,
    "start_time": "2022-03-20T13:36:40.690Z"
   },
   {
    "duration": 35,
    "start_time": "2022-03-20T13:36:40.710Z"
   },
   {
    "duration": 32,
    "start_time": "2022-03-20T13:36:40.747Z"
   },
   {
    "duration": 30,
    "start_time": "2022-03-20T13:36:40.782Z"
   },
   {
    "duration": 13,
    "start_time": "2022-03-20T13:36:40.814Z"
   },
   {
    "duration": 62,
    "start_time": "2022-03-20T13:36:40.831Z"
   },
   {
    "duration": 12,
    "start_time": "2022-03-20T13:36:40.895Z"
   },
   {
    "duration": 251,
    "start_time": "2022-03-20T13:36:40.909Z"
   },
   {
    "duration": 16,
    "start_time": "2022-03-20T13:36:41.162Z"
   },
   {
    "duration": 7,
    "start_time": "2022-03-20T13:36:41.180Z"
   },
   {
    "duration": 13,
    "start_time": "2022-03-20T13:36:41.189Z"
   },
   {
    "duration": 38,
    "start_time": "2022-03-20T13:36:41.205Z"
   },
   {
    "duration": 47,
    "start_time": "2022-03-20T13:36:41.245Z"
   },
   {
    "duration": 10,
    "start_time": "2022-03-20T13:36:41.294Z"
   },
   {
    "duration": 84,
    "start_time": "2022-03-20T13:36:41.306Z"
   },
   {
    "duration": 330,
    "start_time": "2022-03-20T13:36:41.392Z"
   },
   {
    "duration": 23,
    "start_time": "2022-03-20T13:36:41.724Z"
   },
   {
    "duration": 175,
    "start_time": "2022-03-20T13:36:41.749Z"
   },
   {
    "duration": 18,
    "start_time": "2022-03-20T13:36:41.926Z"
   },
   {
    "duration": 29,
    "start_time": "2022-03-20T13:36:41.946Z"
   },
   {
    "duration": 31,
    "start_time": "2022-03-20T13:36:41.977Z"
   },
   {
    "duration": 65,
    "start_time": "2022-03-20T13:36:42.010Z"
   },
   {
    "duration": 139,
    "start_time": "2022-03-20T13:36:42.078Z"
   },
   {
    "duration": 9,
    "start_time": "2022-03-20T13:36:42.223Z"
   },
   {
    "duration": 56,
    "start_time": "2022-03-20T13:36:42.234Z"
   },
   {
    "duration": 7,
    "start_time": "2022-03-20T13:36:42.292Z"
   },
   {
    "duration": 13,
    "start_time": "2022-03-20T13:36:42.300Z"
   },
   {
    "duration": 82,
    "start_time": "2022-03-20T13:36:42.315Z"
   },
   {
    "duration": 15,
    "start_time": "2022-03-20T13:36:42.399Z"
   },
   {
    "duration": 18,
    "start_time": "2022-03-20T13:36:42.417Z"
   },
   {
    "duration": 164,
    "start_time": "2022-03-20T13:36:42.437Z"
   },
   {
    "duration": 20,
    "start_time": "2022-03-20T13:36:42.603Z"
   },
   {
    "duration": 174,
    "start_time": "2022-03-20T13:36:42.625Z"
   },
   {
    "duration": 4,
    "start_time": "2022-03-20T13:36:42.801Z"
   },
   {
    "duration": 112,
    "start_time": "2022-03-20T13:36:42.807Z"
   },
   {
    "duration": 62,
    "start_time": "2022-03-20T13:36:42.921Z"
   },
   {
    "duration": 41,
    "start_time": "2022-03-20T13:36:42.985Z"
   },
   {
    "duration": 5,
    "start_time": "2022-03-20T13:36:43.029Z"
   },
   {
    "duration": 43,
    "start_time": "2022-03-20T13:36:43.036Z"
   },
   {
    "duration": 15,
    "start_time": "2022-03-20T13:36:43.082Z"
   },
   {
    "duration": 20,
    "start_time": "2022-03-20T13:36:43.099Z"
   },
   {
    "duration": 18,
    "start_time": "2022-03-20T13:36:43.121Z"
   },
   {
    "duration": 5,
    "start_time": "2022-03-20T13:36:43.173Z"
   },
   {
    "duration": 13,
    "start_time": "2022-03-20T13:36:43.181Z"
   },
   {
    "duration": 497,
    "start_time": "2022-03-20T13:36:43.196Z"
   },
   {
    "duration": 28,
    "start_time": "2022-03-20T13:36:43.695Z"
   },
   {
    "duration": 3,
    "start_time": "2022-03-20T13:36:43.725Z"
   },
   {
    "duration": 55,
    "start_time": "2022-03-20T13:36:43.730Z"
   },
   {
    "duration": 10,
    "start_time": "2022-03-20T13:36:43.787Z"
   },
   {
    "duration": 26,
    "start_time": "2022-03-20T13:36:43.799Z"
   },
   {
    "duration": 21,
    "start_time": "2022-03-20T13:36:43.827Z"
   },
   {
    "duration": 1362,
    "start_time": "2022-03-20T13:36:43.851Z"
   },
   {
    "duration": 8,
    "start_time": "2022-03-20T13:36:45.215Z"
   },
   {
    "duration": 51,
    "start_time": "2022-03-20T13:36:45.225Z"
   },
   {
    "duration": 599,
    "start_time": "2022-03-20T13:36:45.278Z"
   },
   {
    "duration": 29,
    "start_time": "2022-03-20T13:36:45.879Z"
   },
   {
    "duration": 10,
    "start_time": "2022-03-20T13:36:45.911Z"
   },
   {
    "duration": 38,
    "start_time": "2022-03-20T13:36:45.924Z"
   },
   {
    "duration": 22,
    "start_time": "2022-03-20T13:36:45.974Z"
   },
   {
    "duration": 40,
    "start_time": "2022-03-20T13:36:45.998Z"
   },
   {
    "duration": 2080,
    "start_time": "2022-03-20T13:36:46.040Z"
   },
   {
    "duration": 26,
    "start_time": "2022-03-20T13:36:48.122Z"
   },
   {
    "duration": 2284,
    "start_time": "2022-03-20T13:36:48.150Z"
   },
   {
    "duration": 62,
    "start_time": "2022-03-20T13:36:50.436Z"
   },
   {
    "duration": 17,
    "start_time": "2022-03-20T13:36:50.500Z"
   },
   {
    "duration": 158,
    "start_time": "2022-03-20T13:36:50.519Z"
   },
   {
    "duration": 0,
    "start_time": "2022-03-20T13:36:50.679Z"
   },
   {
    "duration": 0,
    "start_time": "2022-03-20T13:36:50.681Z"
   },
   {
    "duration": 0,
    "start_time": "2022-03-20T13:36:50.683Z"
   },
   {
    "duration": 0,
    "start_time": "2022-03-20T13:36:50.684Z"
   },
   {
    "duration": 0,
    "start_time": "2022-03-20T13:36:50.686Z"
   },
   {
    "duration": 0,
    "start_time": "2022-03-20T13:36:50.687Z"
   },
   {
    "duration": 11,
    "start_time": "2022-03-20T13:38:10.290Z"
   },
   {
    "duration": 7,
    "start_time": "2022-03-20T13:38:31.806Z"
   },
   {
    "duration": 82,
    "start_time": "2022-03-20T13:41:48.521Z"
   },
   {
    "duration": 13,
    "start_time": "2022-03-20T13:42:37.105Z"
   },
   {
    "duration": 8,
    "start_time": "2022-03-20T13:43:02.477Z"
   },
   {
    "duration": 13,
    "start_time": "2022-03-20T13:47:03.672Z"
   },
   {
    "duration": 6,
    "start_time": "2022-03-20T13:47:14.617Z"
   },
   {
    "duration": 7,
    "start_time": "2022-03-20T13:58:14.217Z"
   },
   {
    "duration": 21,
    "start_time": "2022-03-20T13:59:16.481Z"
   },
   {
    "duration": 1124,
    "start_time": "2022-03-20T16:16:52.329Z"
   },
   {
    "duration": 356,
    "start_time": "2022-03-20T16:16:53.455Z"
   },
   {
    "duration": 14,
    "start_time": "2022-03-20T16:16:53.814Z"
   },
   {
    "duration": 11,
    "start_time": "2022-03-20T16:16:53.829Z"
   },
   {
    "duration": 8,
    "start_time": "2022-03-20T16:16:53.843Z"
   },
   {
    "duration": 25,
    "start_time": "2022-03-20T16:16:53.853Z"
   },
   {
    "duration": 6,
    "start_time": "2022-03-20T16:16:53.879Z"
   },
   {
    "duration": 21,
    "start_time": "2022-03-20T16:16:53.887Z"
   },
   {
    "duration": 30,
    "start_time": "2022-03-20T16:16:53.909Z"
   },
   {
    "duration": 23,
    "start_time": "2022-03-20T16:16:53.941Z"
   },
   {
    "duration": 7,
    "start_time": "2022-03-20T16:16:53.966Z"
   },
   {
    "duration": 164,
    "start_time": "2022-03-20T16:16:53.974Z"
   },
   {
    "duration": 6,
    "start_time": "2022-03-20T16:16:54.140Z"
   },
   {
    "duration": 13,
    "start_time": "2022-03-20T16:16:54.149Z"
   },
   {
    "duration": 11,
    "start_time": "2022-03-20T16:16:54.164Z"
   },
   {
    "duration": 23,
    "start_time": "2022-03-20T16:16:54.177Z"
   },
   {
    "duration": 37,
    "start_time": "2022-03-20T16:16:54.201Z"
   },
   {
    "duration": 7,
    "start_time": "2022-03-20T16:16:54.240Z"
   },
   {
    "duration": 35,
    "start_time": "2022-03-20T16:16:54.249Z"
   },
   {
    "duration": 281,
    "start_time": "2022-03-20T16:16:54.285Z"
   },
   {
    "duration": 16,
    "start_time": "2022-03-20T16:16:54.568Z"
   },
   {
    "duration": 101,
    "start_time": "2022-03-20T16:16:54.586Z"
   },
   {
    "duration": 11,
    "start_time": "2022-03-20T16:16:54.689Z"
   },
   {
    "duration": 8,
    "start_time": "2022-03-20T16:16:54.701Z"
   },
   {
    "duration": 37,
    "start_time": "2022-03-20T16:16:54.710Z"
   },
   {
    "duration": 25,
    "start_time": "2022-03-20T16:16:54.749Z"
   },
   {
    "duration": 126,
    "start_time": "2022-03-20T16:16:54.775Z"
   },
   {
    "duration": 5,
    "start_time": "2022-03-20T16:16:54.903Z"
   },
   {
    "duration": 32,
    "start_time": "2022-03-20T16:16:54.909Z"
   },
   {
    "duration": 4,
    "start_time": "2022-03-20T16:16:54.942Z"
   },
   {
    "duration": 15,
    "start_time": "2022-03-20T16:16:54.948Z"
   },
   {
    "duration": 32,
    "start_time": "2022-03-20T16:16:54.967Z"
   },
   {
    "duration": 40,
    "start_time": "2022-03-20T16:16:55.001Z"
   },
   {
    "duration": 13,
    "start_time": "2022-03-20T16:16:55.043Z"
   },
   {
    "duration": 132,
    "start_time": "2022-03-20T16:16:55.058Z"
   },
   {
    "duration": 15,
    "start_time": "2022-03-20T16:16:55.191Z"
   },
   {
    "duration": 91,
    "start_time": "2022-03-20T16:16:55.208Z"
   },
   {
    "duration": 2,
    "start_time": "2022-03-20T16:16:55.301Z"
   },
   {
    "duration": 69,
    "start_time": "2022-03-20T16:16:55.304Z"
   },
   {
    "duration": 25,
    "start_time": "2022-03-20T16:16:55.375Z"
   },
   {
    "duration": 43,
    "start_time": "2022-03-20T16:16:55.404Z"
   },
   {
    "duration": 4,
    "start_time": "2022-03-20T16:16:55.449Z"
   },
   {
    "duration": 9,
    "start_time": "2022-03-20T16:16:55.454Z"
   },
   {
    "duration": 11,
    "start_time": "2022-03-20T16:16:55.464Z"
   },
   {
    "duration": 12,
    "start_time": "2022-03-20T16:16:55.477Z"
   },
   {
    "duration": 44,
    "start_time": "2022-03-20T16:16:55.491Z"
   },
   {
    "duration": 8,
    "start_time": "2022-03-20T16:16:55.537Z"
   },
   {
    "duration": 13,
    "start_time": "2022-03-20T16:16:55.546Z"
   },
   {
    "duration": 231,
    "start_time": "2022-03-20T16:16:55.560Z"
   },
   {
    "duration": 18,
    "start_time": "2022-03-20T16:16:55.793Z"
   },
   {
    "duration": 2,
    "start_time": "2022-03-20T16:16:55.813Z"
   },
   {
    "duration": 31,
    "start_time": "2022-03-20T16:16:55.817Z"
   },
   {
    "duration": 8,
    "start_time": "2022-03-20T16:16:55.850Z"
   },
   {
    "duration": 27,
    "start_time": "2022-03-20T16:16:55.860Z"
   },
   {
    "duration": 17,
    "start_time": "2022-03-20T16:16:55.889Z"
   },
   {
    "duration": 732,
    "start_time": "2022-03-20T16:16:55.907Z"
   },
   {
    "duration": 6,
    "start_time": "2022-03-20T16:16:56.640Z"
   },
   {
    "duration": 26,
    "start_time": "2022-03-20T16:16:56.648Z"
   },
   {
    "duration": 327,
    "start_time": "2022-03-20T16:16:56.676Z"
   },
   {
    "duration": 17,
    "start_time": "2022-03-20T16:16:57.005Z"
   },
   {
    "duration": 6,
    "start_time": "2022-03-20T16:16:57.033Z"
   },
   {
    "duration": 16,
    "start_time": "2022-03-20T16:16:57.041Z"
   },
   {
    "duration": 16,
    "start_time": "2022-03-20T16:16:57.058Z"
   },
   {
    "duration": 19,
    "start_time": "2022-03-20T16:16:57.075Z"
   },
   {
    "duration": 1264,
    "start_time": "2022-03-20T16:16:57.095Z"
   },
   {
    "duration": 7,
    "start_time": "2022-03-20T16:16:58.361Z"
   },
   {
    "duration": 1253,
    "start_time": "2022-03-20T16:16:58.369Z"
   },
   {
    "duration": 36,
    "start_time": "2022-03-20T16:16:59.624Z"
   },
   {
    "duration": 15,
    "start_time": "2022-03-20T16:16:59.661Z"
   },
   {
    "duration": 10,
    "start_time": "2022-03-20T16:16:59.677Z"
   },
   {
    "duration": 5,
    "start_time": "2022-03-20T16:16:59.688Z"
   },
   {
    "duration": 4,
    "start_time": "2022-03-20T16:16:59.695Z"
   },
   {
    "duration": 33,
    "start_time": "2022-03-20T16:16:59.701Z"
   },
   {
    "duration": 6,
    "start_time": "2022-03-20T16:16:59.736Z"
   },
   {
    "duration": 8,
    "start_time": "2022-03-20T16:16:59.743Z"
   },
   {
    "duration": 13,
    "start_time": "2022-03-20T16:16:59.752Z"
   },
   {
    "duration": 11,
    "start_time": "2022-03-20T16:25:51.080Z"
   },
   {
    "duration": 114,
    "start_time": "2022-03-21T08:05:59.687Z"
   },
   {
    "duration": 104,
    "start_time": "2022-03-21T08:06:31.499Z"
   },
   {
    "duration": 64,
    "start_time": "2022-03-21T08:06:41.140Z"
   },
   {
    "duration": 1755,
    "start_time": "2022-03-21T08:07:35.555Z"
   },
   {
    "duration": 535,
    "start_time": "2022-03-21T08:07:37.313Z"
   },
   {
    "duration": 21,
    "start_time": "2022-03-21T08:07:37.851Z"
   },
   {
    "duration": 18,
    "start_time": "2022-03-21T08:07:37.875Z"
   },
   {
    "duration": 18,
    "start_time": "2022-03-21T08:07:37.896Z"
   },
   {
    "duration": 39,
    "start_time": "2022-03-21T08:07:37.917Z"
   },
   {
    "duration": 31,
    "start_time": "2022-03-21T08:07:37.959Z"
   },
   {
    "duration": 47,
    "start_time": "2022-03-21T08:07:37.993Z"
   },
   {
    "duration": 14,
    "start_time": "2022-03-21T08:07:38.043Z"
   },
   {
    "duration": 31,
    "start_time": "2022-03-21T08:07:38.083Z"
   },
   {
    "duration": 12,
    "start_time": "2022-03-21T08:07:38.117Z"
   },
   {
    "duration": 256,
    "start_time": "2022-03-21T08:07:38.131Z"
   },
   {
    "duration": 11,
    "start_time": "2022-03-21T08:07:38.390Z"
   },
   {
    "duration": 25,
    "start_time": "2022-03-21T08:07:38.404Z"
   },
   {
    "duration": 24,
    "start_time": "2022-03-21T08:07:38.431Z"
   },
   {
    "duration": 62,
    "start_time": "2022-03-21T08:07:38.457Z"
   },
   {
    "duration": 23,
    "start_time": "2022-03-21T08:07:38.522Z"
   },
   {
    "duration": 40,
    "start_time": "2022-03-21T08:07:38.547Z"
   },
   {
    "duration": 61,
    "start_time": "2022-03-21T08:07:38.589Z"
   },
   {
    "duration": 539,
    "start_time": "2022-03-21T08:07:38.653Z"
   },
   {
    "duration": 32,
    "start_time": "2022-03-21T08:07:39.195Z"
   },
   {
    "duration": 277,
    "start_time": "2022-03-21T08:07:39.230Z"
   },
   {
    "duration": 24,
    "start_time": "2022-03-21T08:07:39.510Z"
   },
   {
    "duration": 24,
    "start_time": "2022-03-21T08:07:39.537Z"
   },
   {
    "duration": 46,
    "start_time": "2022-03-21T08:07:39.583Z"
   },
   {
    "duration": 77,
    "start_time": "2022-03-21T08:07:39.632Z"
   },
   {
    "duration": 242,
    "start_time": "2022-03-21T08:07:39.712Z"
   },
   {
    "duration": 7,
    "start_time": "2022-03-21T08:07:39.960Z"
   },
   {
    "duration": 39,
    "start_time": "2022-03-21T08:07:39.984Z"
   },
   {
    "duration": 10,
    "start_time": "2022-03-21T08:07:40.026Z"
   },
   {
    "duration": 53,
    "start_time": "2022-03-21T08:07:40.039Z"
   },
   {
    "duration": 90,
    "start_time": "2022-03-21T08:07:40.094Z"
   },
   {
    "duration": 19,
    "start_time": "2022-03-21T08:07:40.187Z"
   },
   {
    "duration": 23,
    "start_time": "2022-03-21T08:07:40.208Z"
   },
   {
    "duration": 205,
    "start_time": "2022-03-21T08:07:40.234Z"
   },
   {
    "duration": 41,
    "start_time": "2022-03-21T08:07:40.443Z"
   },
   {
    "duration": 221,
    "start_time": "2022-03-21T08:07:40.487Z"
   },
   {
    "duration": 5,
    "start_time": "2022-03-21T08:07:40.711Z"
   },
   {
    "duration": 143,
    "start_time": "2022-03-21T08:07:40.718Z"
   },
   {
    "duration": 76,
    "start_time": "2022-03-21T08:07:40.864Z"
   },
   {
    "duration": 60,
    "start_time": "2022-03-21T08:07:40.943Z"
   },
   {
    "duration": 8,
    "start_time": "2022-03-21T08:07:41.005Z"
   },
   {
    "duration": 25,
    "start_time": "2022-03-21T08:07:41.016Z"
   },
   {
    "duration": 49,
    "start_time": "2022-03-21T08:07:41.044Z"
   },
   {
    "duration": 42,
    "start_time": "2022-03-21T08:07:41.096Z"
   },
   {
    "duration": 31,
    "start_time": "2022-03-21T08:07:41.140Z"
   },
   {
    "duration": 15,
    "start_time": "2022-03-21T08:07:41.174Z"
   },
   {
    "duration": 15,
    "start_time": "2022-03-21T08:07:41.191Z"
   },
   {
    "duration": 464,
    "start_time": "2022-03-21T08:07:41.208Z"
   },
   {
    "duration": 35,
    "start_time": "2022-03-21T08:07:41.674Z"
   },
   {
    "duration": 14,
    "start_time": "2022-03-21T08:07:41.712Z"
   },
   {
    "duration": 58,
    "start_time": "2022-03-21T08:07:41.729Z"
   },
   {
    "duration": 15,
    "start_time": "2022-03-21T08:07:41.791Z"
   },
   {
    "duration": 45,
    "start_time": "2022-03-21T08:07:41.809Z"
   },
   {
    "duration": 40,
    "start_time": "2022-03-21T08:07:41.857Z"
   },
   {
    "duration": 1487,
    "start_time": "2022-03-21T08:07:41.901Z"
   },
   {
    "duration": 8,
    "start_time": "2022-03-21T08:07:43.391Z"
   },
   {
    "duration": 40,
    "start_time": "2022-03-21T08:07:43.402Z"
   },
   {
    "duration": 604,
    "start_time": "2022-03-21T08:07:43.446Z"
   },
   {
    "duration": 41,
    "start_time": "2022-03-21T08:07:44.052Z"
   },
   {
    "duration": 11,
    "start_time": "2022-03-21T08:07:44.096Z"
   },
   {
    "duration": 31,
    "start_time": "2022-03-21T08:07:44.110Z"
   },
   {
    "duration": 55,
    "start_time": "2022-03-21T08:07:44.144Z"
   },
   {
    "duration": 38,
    "start_time": "2022-03-21T08:07:44.202Z"
   },
   {
    "duration": 2011,
    "start_time": "2022-03-21T08:07:44.243Z"
   },
   {
    "duration": 12,
    "start_time": "2022-03-21T08:07:46.257Z"
   },
   {
    "duration": 2181,
    "start_time": "2022-03-21T08:07:46.284Z"
   },
   {
    "duration": 84,
    "start_time": "2022-03-21T08:07:48.467Z"
   },
   {
    "duration": 34,
    "start_time": "2022-03-21T08:07:48.554Z"
   },
   {
    "duration": 49,
    "start_time": "2022-03-21T08:07:48.590Z"
   },
   {
    "duration": 11,
    "start_time": "2022-03-21T08:07:48.642Z"
   },
   {
    "duration": 36,
    "start_time": "2022-03-21T08:07:48.655Z"
   },
   {
    "duration": 23,
    "start_time": "2022-03-21T08:07:48.694Z"
   },
   {
    "duration": 16,
    "start_time": "2022-03-21T08:07:48.720Z"
   },
   {
    "duration": 11,
    "start_time": "2022-03-21T08:07:48.738Z"
   },
   {
    "duration": 33,
    "start_time": "2022-03-21T08:07:48.751Z"
   },
   {
    "duration": 23,
    "start_time": "2022-03-21T08:07:48.787Z"
   },
   {
    "duration": 21,
    "start_time": "2022-03-21T08:08:28.356Z"
   },
   {
    "duration": 10,
    "start_time": "2022-03-21T08:09:03.016Z"
   },
   {
    "duration": 10,
    "start_time": "2022-03-21T08:09:12.637Z"
   },
   {
    "duration": 8,
    "start_time": "2022-03-21T08:09:59.920Z"
   },
   {
    "duration": 22,
    "start_time": "2022-03-21T08:10:27.197Z"
   },
   {
    "duration": 10,
    "start_time": "2022-03-21T08:10:49.895Z"
   },
   {
    "duration": 8,
    "start_time": "2022-03-21T08:10:59.348Z"
   },
   {
    "duration": 148,
    "start_time": "2022-03-21T08:11:34.232Z"
   },
   {
    "duration": 340,
    "start_time": "2022-03-21T08:12:20.060Z"
   }
  ],
  "kernelspec": {
   "display_name": "Python 3 (ipykernel)",
   "language": "python",
   "name": "python3"
  },
  "language_info": {
   "codemirror_mode": {
    "name": "ipython",
    "version": 3
   },
   "file_extension": ".py",
   "mimetype": "text/x-python",
   "name": "python",
   "nbconvert_exporter": "python",
   "pygments_lexer": "ipython3",
   "version": "3.9.5"
  },
  "toc": {
   "base_numbering": 1,
   "nav_menu": {},
   "number_sections": false,
   "sideBar": true,
   "skip_h1_title": false,
   "title_cell": "Table of Contents",
   "title_sidebar": "Contents",
   "toc_cell": false,
   "toc_position": {},
   "toc_section_display": true,
   "toc_window_display": true
  }
 },
 "nbformat": 4,
 "nbformat_minor": 2
}
